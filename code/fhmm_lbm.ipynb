{
 "cells": [
  {
   "cell_type": "markdown",
   "metadata": {},
   "source": [
    "This notebook shows the code for generating the baseline for FHMM and LBM"
   ]
  },
  {
   "cell_type": "code",
   "execution_count": 1,
   "metadata": {},
   "outputs": [
    {
     "name": "stderr",
     "output_type": "stream",
     "text": [
      "Vendor:  Continuum Analytics, Inc.\n",
      "Package: mkl\n",
      "Message: trial mode expires in 20 days\n"
     ]
    }
   ],
   "source": [
    "from hmmlearn import hmm"
   ]
  },
  {
   "cell_type": "code",
   "execution_count": 2,
   "metadata": {},
   "outputs": [],
   "source": [
    "from create_df import read_df\n",
    "df, dfc, all_homes, appliance_min, national_average = read_df()"
   ]
  },
  {
   "cell_type": "code",
   "execution_count": 3,
   "metadata": {},
   "outputs": [],
   "source": [
    "import nilmtk\n",
    "import pandas as pd\n",
    "import numpy as np\n",
    "import matplotlib.pyplot as plt\n",
    "from collections import OrderedDict\n",
    "import warnings"
   ]
  },
  {
   "cell_type": "code",
   "execution_count": 4,
   "metadata": {},
   "outputs": [],
   "source": [
    "warnings.filterwarnings(\"ignore\")"
   ]
  },
  {
   "cell_type": "code",
   "execution_count": 5,
   "metadata": {},
   "outputs": [],
   "source": [
    "from nilmtk import *\n",
    "import os\n",
    "import nilmtk"
   ]
  },
  {
   "cell_type": "code",
   "execution_count": 7,
   "metadata": {},
   "outputs": [],
   "source": [
    "st = pd.HDFStore(\"/Users/nipunbatra/Downloads/wiki-temp.h5\")"
   ]
  },
  {
   "cell_type": "code",
   "execution_count": 10,
   "metadata": {},
   "outputs": [
    {
     "name": "stdout",
     "output_type": "stream",
     "text": [
      "air conditioner training\n",
      "Loading data for meter ElecMeterID(instance=9, building=1, dataset='Dataport')     \n",
      "Done loading data all meters for this chunk.\n",
      "Loading data for meter ElecMeterID(instance=21, building=2, dataset='Dataport')     \n",
      "Done loading data all meters for this chunk.\n",
      "Loading data for meter ElecMeterID(instance=15, building=3, dataset='Dataport')     \n",
      "Done loading data all meters for this chunk.\n",
      "Loading data for meter ElecMeterID(instance=20, building=4, dataset='Dataport')     \n",
      "Done loading data all meters for this chunk.\n",
      "Loading data for meter ElecMeterID(instance=14, building=5, dataset='Dataport')     \n",
      "Done loading data all meters for this chunk.\n",
      "Loading data for meter ElecMeterID(instance=19, building=6, dataset='Dataport')     \n",
      "Done loading data all meters for this chunk.\n",
      "Loading data for meter ElecMeterID(instance=16, building=7, dataset='Dataport')     \n",
      "Done loading data all meters for this chunk.\n",
      "Loading data for meter ElecMeterID(instance=11, building=8, dataset='Dataport')     \n",
      "Done loading data all meters for this chunk.\n",
      "Loading data for meter ElecMeterID(instance=19, building=9, dataset='Dataport')     \n",
      "Done loading data all meters for this chunk.\n",
      "Loading data for meter ElecMeterID(instance=17, building=10, dataset='Dataport')     \n",
      "Done loading data all meters for this chunk.\n",
      "Loading data for meter ElecMeterID(instance=16, building=11, dataset='Dataport')     \n",
      "Done loading data all meters for this chunk.\n",
      "Loading data for meter ElecMeterID(instance=17, building=12, dataset='Dataport')     \n",
      "Done loading data all meters for this chunk.\n",
      "Loading data for meter ElecMeterID(instance=16, building=13, dataset='Dataport')     \n",
      "Done loading data all meters for this chunk.\n",
      "Loading data for meter ElecMeterID(instance=16, building=14, dataset='Dataport')     \n",
      "Done loading data all meters for this chunk.\n",
      "Loading data for meter ElecMeterID(instance=15, building=15, dataset='Dataport')     \n",
      "Done loading data all meters for this chunk.\n",
      "Loading data for meter ElecMeterID(instance=15, building=17, dataset='Dataport')     \n",
      "Done loading data all meters for this chunk.\n",
      "Loading data for meter ElecMeterID(instance=18, building=18, dataset='Dataport')     \n",
      "Done loading data all meters for this chunk.\n",
      "Loading data for meter ElecMeterID(instance=19, building=19, dataset='Dataport')     \n",
      "Done loading data all meters for this chunk.\n",
      "Loading data for meter ElecMeterID(instance=12, building=20, dataset='Dataport')     \n",
      "Done loading data all meters for this chunk.\n",
      "Loading data for meter ElecMeterID(instance=21, building=21, dataset='Dataport')     \n",
      "Done loading data all meters for this chunk.\n",
      "Loading data for meter ElecMeterID(instance=19, building=22, dataset='Dataport')     \n",
      "Done loading data all meters for this chunk.\n",
      "Loading data for meter ElecMeterID(instance=17, building=23, dataset='Dataport')     \n",
      "Done loading data all meters for this chunk.\n",
      "Loading data for meter ElecMeterID(instance=11, building=24, dataset='Dataport')     \n",
      "Done loading data all meters for this chunk.\n",
      "Loading data for meter ElecMeterID(instance=15, building=25, dataset='Dataport')     \n",
      "Done loading data all meters for this chunk.\n",
      "Loading data for meter ElecMeterID(instance=11, building=26, dataset='Dataport')     \n",
      "Done loading data all meters for this chunk.\n",
      "Loading data for meter ElecMeterID(instance=16, building=27, dataset='Dataport')     \n",
      "Done loading data all meters for this chunk.\n",
      "Means for air conditioner are\n",
      "[[  1.95134285e-02]\n",
      " [  4.26509714e+01]\n",
      " [  1.29311476e+03]]\n",
      "fridge training\n",
      "Loading data for meter ElecMeterID(instance=8, building=1, dataset='Dataport')     \n",
      "Done loading data all meters for this chunk.\n",
      "Loading data for meter ElecMeterID(instance=14, building=2, dataset='Dataport')     \n",
      "Done loading data all meters for this chunk.\n",
      "Loading data for meter ElecMeterID(instance=8, building=3, dataset='Dataport')     \n",
      "Done loading data all meters for this chunk.\n",
      "Loading data for meter ElecMeterID(instance=16, building=4, dataset='Dataport')     \n",
      "Done loading data all meters for this chunk.\n",
      "Loading data for meter ElecMeterID(instance=9, building=5, dataset='Dataport')     \n",
      "Done loading data all meters for this chunk.\n",
      "Loading data for meter ElecMeterID(instance=12, building=6, dataset='Dataport')     \n",
      "Done loading data all meters for this chunk.\n",
      "Loading data for meter ElecMeterID(instance=9, building=7, dataset='Dataport')     \n",
      "Done loading data all meters for this chunk.\n",
      "Loading data for meter ElecMeterID(instance=7, building=8, dataset='Dataport')     \n",
      "Done loading data all meters for this chunk.\n",
      "Loading data for meter ElecMeterID(instance=9, building=9, dataset='Dataport')     \n",
      "Done loading data all meters for this chunk.\n",
      "Loading data for meter ElecMeterID(instance=11, building=10, dataset='Dataport')     \n",
      "Done loading data all meters for this chunk.\n",
      "Loading data for meter ElecMeterID(instance=11, building=11, dataset='Dataport')     \n",
      "Done loading data all meters for this chunk.\n",
      "Loading data for meter ElecMeterID(instance=12, building=12, dataset='Dataport')     \n",
      "Done loading data all meters for this chunk.\n",
      "Loading data for meter ElecMeterID(instance=12, building=13, dataset='Dataport')     \n",
      "Done loading data all meters for this chunk.\n",
      "Loading data for meter ElecMeterID(instance=10, building=14, dataset='Dataport')     \n",
      "Done loading data all meters for this chunk.\n",
      "Loading data for meter ElecMeterID(instance=10, building=15, dataset='Dataport')     \n",
      "Done loading data all meters for this chunk.\n",
      "Loading data for meter ElecMeterID(instance=12, building=16, dataset='Dataport')     \n",
      "Done loading data all meters for this chunk.\n",
      "Loading data for meter ElecMeterID(instance=7, building=17, dataset='Dataport')     \n",
      "Done loading data all meters for this chunk.\n",
      "Loading data for meter ElecMeterID(instance=12, building=18, dataset='Dataport')     \n",
      "Done loading data all meters for this chunk.\n",
      "Loading data for meter ElecMeterID(instance=12, building=19, dataset='Dataport')     \n",
      "Done loading data all meters for this chunk.\n",
      "Loading data for meter ElecMeterID(instance=10, building=20, dataset='Dataport')     \n",
      "Done loading data all meters for this chunk.\n",
      "Loading data for meter ElecMeterID(instance=17, building=21, dataset='Dataport')     \n",
      "Done loading data all meters for this chunk.\n",
      "Loading data for meter ElecMeterID(instance=14, building=22, dataset='Dataport')     \n",
      "Done loading data all meters for this chunk.\n",
      "Loading data for meter ElecMeterID(instance=11, building=23, dataset='Dataport')     \n",
      "Done loading data all meters for this chunk.\n",
      "Loading data for meter ElecMeterID(instance=10, building=24, dataset='Dataport')     \n",
      "Done loading data all meters for this chunk.\n",
      "Loading data for meter ElecMeterID(instance=11, building=25, dataset='Dataport')     \n",
      "Done loading data all meters for this chunk.\n",
      "Loading data for meter ElecMeterID(instance=8, building=26, dataset='Dataport')     \n",
      "Done loading data all meters for this chunk.\n",
      "Loading data for meter ElecMeterID(instance=8, building=27, dataset='Dataport')     \n",
      "Done loading data all meters for this chunk.\n",
      "Means for fridge are\n",
      "[[  17.29179195]\n",
      " [  96.55772162]\n",
      " [ 206.10364724]]\n",
      "spin dryer training\n",
      "Loading data for meter ElecMeterID(instance=2, building=1, dataset='Dataport')     \n",
      "Done loading data all meters for this chunk.\n",
      "Loading data for meter ElecMeterID(instance=6, building=2, dataset='Dataport')     \n",
      "Done loading data all meters for this chunk.\n",
      "Loading data for meter ElecMeterID(instance=3, building=3, dataset='Dataport')     \n",
      "Done loading data all meters for this chunk.\n",
      "Loading data for meter ElecMeterID(instance=9, building=4, dataset='Dataport')     \n",
      "Done loading data all meters for this chunk.\n",
      "Loading data for meter ElecMeterID(instance=4, building=5, dataset='Dataport')     \n",
      "Done loading data all meters for this chunk.\n",
      "Loading data for meter ElecMeterID(instance=7, building=6, dataset='Dataport')     \n",
      "Done loading data all meters for this chunk.\n",
      "Loading data for meter ElecMeterID(instance=4, building=7, dataset='Dataport')     \n",
      "Done loading data all meters for this chunk.\n",
      "Loading data for meter ElecMeterID(instance=2, building=8, dataset='Dataport')     \n",
      "Done loading data all meters for this chunk.\n",
      "Loading data for meter ElecMeterID(instance=2, building=9, dataset='Dataport')     \n",
      "Done loading data all meters for this chunk.\n",
      "Loading data for meter ElecMeterID(instance=4, building=10, dataset='Dataport')     \n",
      "Done loading data all meters for this chunk.\n",
      "Loading data for meter ElecMeterID(instance=2, building=11, dataset='Dataport')     \n",
      "Done loading data all meters for this chunk.\n",
      "Loading data for meter ElecMeterID(instance=8, building=12, dataset='Dataport')     \n",
      "Done loading data all meters for this chunk.\n",
      "Loading data for meter ElecMeterID(instance=5, building=13, dataset='Dataport')     \n",
      "Done loading data all meters for this chunk.\n",
      "Loading data for meter ElecMeterID(instance=3, building=14, dataset='Dataport')     \n",
      "Done loading data all meters for this chunk.\n",
      "Loading data for meter ElecMeterID(instance=3, building=15, dataset='Dataport')     \n",
      "Done loading data all meters for this chunk.\n",
      "Loading data for meter ElecMeterID(instance=6, building=16, dataset='Dataport')     \n",
      "Done loading data all meters for this chunk.\n",
      "Loading data for meter ElecMeterID(instance=2, building=17, dataset='Dataport')     \n",
      "Done loading data all meters for this chunk.\n",
      "Loading data for meter ElecMeterID(instance=4, building=18, dataset='Dataport')     \n",
      "Done loading data all meters for this chunk.\n",
      "Loading data for meter ElecMeterID(instance=6, building=19, dataset='Dataport')     \n",
      "Done loading data all meters for this chunk.\n",
      "Loading data for meter ElecMeterID(instance=11, building=21, dataset='Dataport')     \n",
      "Done loading data all meters for this chunk.\n",
      "Loading data for meter ElecMeterID(instance=4, building=22, dataset='Dataport')     \n",
      "Done loading data all meters for this chunk.\n",
      "Loading data for meter ElecMeterID(instance=3, building=23, dataset='Dataport')     \n",
      "Done loading data all meters for this chunk.\n",
      "Loading data for meter ElecMeterID(instance=5, building=24, dataset='Dataport')     \n",
      "Done loading data all meters for this chunk.\n",
      "Loading data for meter ElecMeterID(instance=7, building=25, dataset='Dataport')     \n",
      "Done loading data all meters for this chunk.\n",
      "Loading data for meter ElecMeterID(instance=3, building=26, dataset='Dataport')     \n",
      "Done loading data all meters for this chunk.\n",
      "Loading data for meter ElecMeterID(instance=1, building=27, dataset='Dataport')     \n",
      "Done loading data all meters for this chunk.\n",
      "Means for spin dryer are\n",
      "[[  6.19212495e-06]\n",
      " [  4.16720394e+00]\n",
      " [  1.21426467e+03]]\n",
      "dish washer training\n",
      "Loading data for meter ElecMeterID(instance=1, building=1, dataset='Dataport')     \n",
      "Done loading data all meters for this chunk.\n",
      "Loading data for meter ElecMeterID(instance=3, building=2, dataset='Dataport')     \n",
      "Done loading data all meters for this chunk.\n",
      "Loading data for meter ElecMeterID(instance=1, building=3, dataset='Dataport')     \n",
      "Done loading data all meters for this chunk.\n",
      "Loading data for meter ElecMeterID(instance=3, building=4, dataset='Dataport')     \n",
      "Done loading data all meters for this chunk.\n",
      "Loading data for meter ElecMeterID(instance=1, building=5, dataset='Dataport')     \n",
      "Done loading data all meters for this chunk.\n",
      "Loading data for meter ElecMeterID(instance=2, building=6, dataset='Dataport')     \n",
      "Done loading data all meters for this chunk.\n",
      "Loading data for meter ElecMeterID(instance=1, building=7, dataset='Dataport')     \n",
      "Done loading data all meters for this chunk.\n",
      "Loading data for meter ElecMeterID(instance=1, building=8, dataset='Dataport')     \n",
      "Done loading data all meters for this chunk.\n",
      "Loading data for meter ElecMeterID(instance=1, building=9, dataset='Dataport')     \n",
      "Done loading data all meters for this chunk.\n",
      "Loading data for meter ElecMeterID(instance=1, building=10, dataset='Dataport')     \n",
      "Done loading data all meters for this chunk.\n",
      "Loading data for meter ElecMeterID(instance=1, building=11, dataset='Dataport')     \n",
      "Done loading data all meters for this chunk.\n",
      "Loading data for meter ElecMeterID(instance=2, building=12, dataset='Dataport')     \n",
      "Done loading data all meters for this chunk.\n",
      "Loading data for meter ElecMeterID(instance=2, building=13, dataset='Dataport')     \n",
      "Done loading data all meters for this chunk.\n",
      "Loading data for meter ElecMeterID(instance=1, building=14, dataset='Dataport')     \n",
      "Done loading data all meters for this chunk.\n",
      "Loading data for meter ElecMeterID(instance=1, building=15, dataset='Dataport')     \n",
      "Done loading data all meters for this chunk.\n",
      "Loading data for meter ElecMeterID(instance=3, building=16, dataset='Dataport')     \n",
      "Done loading data all meters for this chunk.\n",
      "Loading data for meter ElecMeterID(instance=1, building=17, dataset='Dataport')     \n",
      "Done loading data all meters for this chunk.\n",
      "Loading data for meter ElecMeterID(instance=1, building=18, dataset='Dataport')     \n",
      "Done loading data all meters for this chunk.\n",
      "Loading data for meter ElecMeterID(instance=1, building=19, dataset='Dataport')     \n",
      "Done loading data all meters for this chunk.\n",
      "Loading data for meter ElecMeterID(instance=3, building=21, dataset='Dataport')     \n",
      "Done loading data all meters for this chunk.\n",
      "Loading data for meter ElecMeterID(instance=2, building=22, dataset='Dataport')     \n",
      "Done loading data all meters for this chunk.\n",
      "Loading data for meter ElecMeterID(instance=1, building=23, dataset='Dataport')     \n",
      "Done loading data all meters for this chunk.\n",
      "Loading data for meter ElecMeterID(instance=3, building=24, dataset='Dataport')     \n",
      "Done loading data all meters for this chunk.\n",
      "Loading data for meter ElecMeterID(instance=3, building=25, dataset='Dataport')     \n",
      "Done loading data all meters for this chunk.\n",
      "Means for dish washer are\n",
      "[[   0.        ]\n",
      " [ 563.30020838]\n",
      " [  33.59471059]]\n",
      "washing machine training\n",
      "Loading data for meter ElecMeterID(instance=6, building=1, dataset='Dataport')     \n",
      "Done loading data all meters for this chunk.\n",
      "Loading data for meter ElecMeterID(instance=13, building=2, dataset='Dataport')     \n",
      "Done loading data all meters for this chunk.\n",
      "Loading data for meter ElecMeterID(instance=7, building=3, dataset='Dataport')     \n",
      "Done loading data all meters for this chunk.\n",
      "Loading data for meter ElecMeterID(instance=15, building=4, dataset='Dataport')     \n",
      "Done loading data all meters for this chunk.\n",
      "Loading data for meter ElecMeterID(instance=8, building=5, dataset='Dataport')     \n",
      "Done loading data all meters for this chunk.\n",
      "Loading data for meter ElecMeterID(instance=11, building=6, dataset='Dataport')     \n",
      "Done loading data all meters for this chunk.\n",
      "Loading data for meter ElecMeterID(instance=8, building=7, dataset='Dataport')     \n",
      "Done loading data all meters for this chunk.\n",
      "Loading data for meter ElecMeterID(instance=6, building=8, dataset='Dataport')     \n",
      "Done loading data all meters for this chunk.\n",
      "Loading data for meter ElecMeterID(instance=7, building=9, dataset='Dataport')     \n",
      "Done loading data all meters for this chunk.\n",
      "Loading data for meter ElecMeterID(instance=10, building=10, dataset='Dataport')     \n",
      "Done loading data all meters for this chunk.\n",
      "Loading data for meter ElecMeterID(instance=10, building=11, dataset='Dataport')     \n",
      "Done loading data all meters for this chunk.\n",
      "Loading data for meter ElecMeterID(instance=11, building=12, dataset='Dataport')     \n",
      "Done loading data all meters for this chunk.\n",
      "Loading data for meter ElecMeterID(instance=11, building=13, dataset='Dataport')     \n",
      "Done loading data all meters for this chunk.\n",
      "Loading data for meter ElecMeterID(instance=9, building=14, dataset='Dataport')     \n",
      "Done loading data all meters for this chunk.\n",
      "Loading data for meter ElecMeterID(instance=8, building=15, dataset='Dataport')     \n",
      "Done loading data all meters for this chunk.\n",
      "Loading data for meter ElecMeterID(instance=10, building=16, dataset='Dataport')     \n",
      "Done loading data all meters for this chunk.\n",
      "Loading data for meter ElecMeterID(instance=6, building=17, dataset='Dataport')     \n",
      "Done loading data all meters for this chunk.\n",
      "Loading data for meter ElecMeterID(instance=10, building=18, dataset='Dataport')     \n",
      "Done loading data all meters for this chunk.\n",
      "Loading data for meter ElecMeterID(instance=10, building=19, dataset='Dataport')     \n",
      "Done loading data all meters for this chunk.\n",
      "Loading data for meter ElecMeterID(instance=9, building=20, dataset='Dataport')     \n",
      "Done loading data all meters for this chunk.\n",
      "Loading data for meter ElecMeterID(instance=15, building=21, dataset='Dataport')     \n",
      "Done loading data all meters for this chunk.\n",
      "Loading data for meter ElecMeterID(instance=12, building=22, dataset='Dataport')     \n",
      "Done loading data all meters for this chunk.\n",
      "Loading data for meter ElecMeterID(instance=10, building=23, dataset='Dataport')     \n",
      "Done loading data all meters for this chunk.\n",
      "Loading data for meter ElecMeterID(instance=9, building=24, dataset='Dataport')     \n",
      "Done loading data all meters for this chunk.\n",
      "Loading data for meter ElecMeterID(instance=10, building=25, dataset='Dataport')     \n",
      "Done loading data all meters for this chunk.\n",
      "Loading data for meter ElecMeterID(instance=7, building=26, dataset='Dataport')     \n",
      "Done loading data all meters for this chunk.\n",
      "Loading data for meter ElecMeterID(instance=6, building=27, dataset='Dataport')     \n",
      "Done loading data all meters for this chunk.\n",
      "Means for washing machine are\n",
      "[[   0.        ]\n",
      " [ 127.61141747]\n",
      " [   3.45173418]]\n",
      "light training\n",
      "Loading data for meter ElecMeterID(instance=4, building=2, dataset='Dataport')     \n",
      "Done loading data all meters for this chunk.\n",
      "Loading data for meter ElecMeterID(instance=7, building=4, dataset='Dataport')     \n",
      "Done loading data all meters for this chunk.\n",
      "Loading data for meter ElecMeterID(instance=2, building=5, dataset='Dataport')     \n",
      "Done loading data all meters for this chunk.\n",
      "Loading data for meter ElecMeterID(instance=3, building=6, dataset='Dataport')     \n",
      "Done loading data all meters for this chunk.\n",
      "Loading data for meter ElecMeterID(instance=2, building=10, dataset='Dataport')     \n",
      "Done loading data all meters for this chunk.\n",
      "Loading data for meter ElecMeterID(instance=3, building=12, dataset='Dataport')     \n",
      "Done loading data all meters for this chunk.\n",
      "Loading data for meter ElecMeterID(instance=3, building=13, dataset='Dataport')     \n",
      "Done loading data all meters for this chunk.\n",
      "Loading data for meter ElecMeterID(instance=2, building=14, dataset='Dataport')     \n",
      "Done loading data all meters for this chunk.\n",
      "Loading data for meter ElecMeterID(instance=4, building=16, dataset='Dataport')     \n",
      "Done loading data all meters for this chunk.\n",
      "Loading data for meter ElecMeterID(instance=2, building=18, dataset='Dataport')     \n",
      "Done loading data all meters for this chunk.\n",
      "Loading data for meter ElecMeterID(instance=2, building=20, dataset='Dataport')     \n",
      "Done loading data all meters for this chunk.\n",
      "Loading data for meter ElecMeterID(instance=5, building=21, dataset='Dataport')     \n",
      "Done loading data all meters for this chunk.\n",
      "Loading data for meter ElecMeterID(instance=3, building=22, dataset='Dataport')     \n",
      "Done loading data all meters for this chunk.\n",
      "Loading data for meter ElecMeterID(instance=4, building=24, dataset='Dataport')     \n",
      "Done loading data all meters for this chunk.\n",
      "Loading data for meter ElecMeterID(instance=4, building=25, dataset='Dataport')     \n",
      "Done loading data all meters for this chunk.\n",
      "Loading data for meter ElecMeterID(instance=1, building=26, dataset='Dataport')     \n",
      "Done loading data all meters for this chunk.\n",
      "Means for light are\n",
      "[[   25.5315011 ]\n",
      " [  222.03132792]\n",
      " [ 7543.93310547]]\n"
     ]
    }
   ],
   "source": [
    "models = {}\n",
    "\n",
    "for appliance in [\"air conditioner\", \"fridge\", \"spin dryer\", \n",
    "                  \"dish washer\", \"washing machine\", \"light\"]:\n",
    "    #for appliance in [ \"dish washer\"]:\n",
    "    print appliance, \"training\"\n",
    "    o = []\n",
    "    for building_num in range(1, len(ds.buildings)):\n",
    "        \n",
    "        building = ds.buildings[building_num]\n",
    "        elec = building.elec\n",
    "        try:\n",
    "            dft = elec.select_using_appliances(type=appliance).load(cols=[('power','active')], sample_period=900).next().squeeze()\n",
    "            appl_power = dft.dropna().values.reshape(-1,1)\n",
    "            activation = (dft>10).sum()*1.0/len(df)\n",
    "            if appliance in [\"washer dryer\", \"dishwasher\"]:\n",
    "                o.append(appl_power)\n",
    "                \n",
    "            else:\n",
    "                if activation>0.05:\n",
    "                    o.append(appl_power)\n",
    "        except:\n",
    "            pass\n",
    "    \n",
    "    if len(o)>1:\n",
    "        o = np.array(o)\n",
    "        mod = hmm.GaussianHMM(3, \"full\")\n",
    "        mod.fit(o)\n",
    "        models[appliance] = mod\n",
    "        print \"Means for %s are\" %appliance\n",
    "        print mod.means_\n",
    "    else:\n",
    "        print \"Not enough samples for %s\" %appliance"
   ]
  },
  {
   "cell_type": "code",
   "execution_count": 8,
   "metadata": {},
   "outputs": [],
   "source": [
    "from nilmtk.disaggregate.fhmm_exact import sort_learnt_parameters"
   ]
  },
  {
   "cell_type": "code",
   "execution_count": 9,
   "metadata": {},
   "outputs": [
    {
     "ename": "NameError",
     "evalue": "name 'models' is not defined",
     "output_type": "error",
     "traceback": [
      "\u001b[0;31m---------------------------------------------------------------------------\u001b[0m",
      "\u001b[0;31mNameError\u001b[0m                                 Traceback (most recent call last)",
      "\u001b[0;32m<ipython-input-9-62b82961cf00>\u001b[0m in \u001b[0;36m<module>\u001b[0;34m()\u001b[0m\n\u001b[1;32m      1\u001b[0m \u001b[0mnew_learnt_models\u001b[0m \u001b[0;34m=\u001b[0m \u001b[0mOrderedDict\u001b[0m\u001b[0;34m(\u001b[0m\u001b[0;34m)\u001b[0m\u001b[0;34m\u001b[0m\u001b[0m\n\u001b[0;32m----> 2\u001b[0;31m \u001b[0;32mfor\u001b[0m \u001b[0mappliance\u001b[0m\u001b[0;34m,\u001b[0m \u001b[0mappliance_model\u001b[0m \u001b[0;32min\u001b[0m \u001b[0mmodels\u001b[0m\u001b[0;34m.\u001b[0m\u001b[0miteritems\u001b[0m\u001b[0;34m(\u001b[0m\u001b[0;34m)\u001b[0m\u001b[0;34m:\u001b[0m\u001b[0;34m\u001b[0m\u001b[0m\n\u001b[0m\u001b[1;32m      3\u001b[0m     startprob, means, covars, transmat = sort_learnt_parameters(\n\u001b[1;32m      4\u001b[0m                     \u001b[0mappliance_model\u001b[0m\u001b[0;34m.\u001b[0m\u001b[0mstartprob_\u001b[0m\u001b[0;34m,\u001b[0m \u001b[0mappliance_model\u001b[0m\u001b[0;34m.\u001b[0m\u001b[0mmeans_\u001b[0m\u001b[0;34m,\u001b[0m\u001b[0;34m\u001b[0m\u001b[0m\n\u001b[1;32m      5\u001b[0m                     appliance_model.covars_, appliance_model.transmat_)\n",
      "\u001b[0;31mNameError\u001b[0m: name 'models' is not defined"
     ]
    }
   ],
   "source": [
    "new_learnt_models = OrderedDict()\n",
    "for appliance, appliance_model in models.iteritems():\n",
    "    startprob, means, covars, transmat = sort_learnt_parameters(\n",
    "                    appliance_model.startprob_, appliance_model.means_,\n",
    "                    appliance_model.covars_, appliance_model.transmat_)\n",
    "    new_learnt_models[appliance] = hmm.GaussianHMM(\n",
    "                startprob.size, \"full\", startprob, transmat)\n",
    "    new_learnt_models[appliance].means_ = means\n",
    "    new_learnt_models[appliance].covars_ = covars"
   ]
  },
  {
   "cell_type": "code",
   "execution_count": null,
   "metadata": {},
   "outputs": [],
   "source": [
    "from nilmtk.disaggregate.fhmm_exact import create_combined_hmm"
   ]
  },
  {
   "cell_type": "code",
   "execution_count": null,
   "metadata": {},
   "outputs": [],
   "source": [
    "learnt_model_combined = create_combined_hmm(new_learnt_models)"
   ]
  },
  {
   "cell_type": "code",
   "execution_count": null,
   "metadata": {},
   "outputs": [],
   "source": [
    "from nilmtk.disaggregate.fhmm_exact import FHMM"
   ]
  },
  {
   "cell_type": "code",
   "execution_count": 16,
   "metadata": {},
   "outputs": [],
   "source": [
    "f = FHMM()"
   ]
  },
  {
   "cell_type": "code",
   "execution_count": 17,
   "metadata": {},
   "outputs": [],
   "source": [
    "f.model = learnt_model_combined\n",
    "f.individual = new_learnt_models"
   ]
  },
  {
   "cell_type": "code",
   "execution_count": 18,
   "metadata": {},
   "outputs": [],
   "source": [
    "import pickle"
   ]
  },
  {
   "cell_type": "code",
   "execution_count": 19,
   "metadata": {},
   "outputs": [],
   "source": [
    "pickle.dump(f, open( \"../fhmm_model_all.p\", \"wb\" ))"
   ]
  },
  {
   "cell_type": "code",
   "execution_count": 8,
   "metadata": {},
   "outputs": [],
   "source": [
    "all_homes_all_appliance = []\n",
    "for appliance in [\"fridge\",\"hvac\",\"dr\",\"dw\",\"wm\",\"light\"]:\n",
    "    all_homes_all_appliance = np.union1d(all_homes_all_appliance, all_homes[appliance])"
   ]
  },
  {
   "cell_type": "code",
   "execution_count": 21,
   "metadata": {},
   "outputs": [],
   "source": [
    "import sys"
   ]
  },
  {
   "cell_type": "code",
   "execution_count": 22,
   "metadata": {},
   "outputs": [
    {
     "name": "stdout",
     "output_type": "stream",
     "text": [
      "0.00\n",
      "2.00\n",
      "4.00\n",
      "6.00\n",
      "9.00\n",
      "11.00\n",
      "13.00\n",
      "16.00\n",
      "18.00\n",
      "20.00\n",
      "23.00\n",
      "25.00\n",
      "27.00\n",
      "30.00\n",
      "32.00\n",
      "34.00\n",
      "37.00\n",
      "39.00\n",
      "41.00\n",
      "44.00\n",
      "46.00\n",
      "48.00\n",
      "51.00\n",
      "53.00\n",
      "55.00\n",
      "58.00\n",
      "60.00\n",
      "62.00\n",
      "65.00\n",
      "67.00\n",
      "69.00\n",
      "72.00\n",
      "74.00\n",
      "76.00\n",
      "79.00\n",
      "81.00\n",
      "83.00\n",
      "86.00\n",
      "88.00\n",
      "90.00\n",
      "93.00\n",
      "95.00\n",
      "97.00\n"
     ]
    }
   ],
   "source": [
    "st_out = pd.HDFStore(\"../fhmm_out.h5\")\n",
    "done = -1\n",
    "for home in all_homes_all_appliance[:]:\n",
    "    done = done +1\n",
    "    print \"%0.2f\" %(100*done/len(all_homes_all_appliance))\n",
    "    sys.stdout.flush()\n",
    "    try:\n",
    "        mains_df = st['/%d' %home][['use']]['2013'].resample(\"15T\")\n",
    "        pred = f.disaggregate_chunk(mains_df).resample(\"1M\", how=\"sum\").mul(0.000017).mul(15)\n",
    "        pred.index = range(1, 13)\n",
    "        pred = pred.rename(columns={'air conditioner':'hvac','dish washer':'dw',\n",
    "                                    'spin dryer':'dr','washing machine':'wm'})\n",
    "        st_out['%d' %home] = pred\n",
    "    except:\n",
    "        pass"
   ]
  },
  {
   "cell_type": "code",
   "execution_count": 9,
   "metadata": {},
   "outputs": [
    {
     "name": "stdout",
     "output_type": "stream",
     "text": [
      "hvac\n",
      "fridge\n",
      "dw\n",
      "wm\n",
      "light\n",
      "dr\n"
     ]
    }
   ],
   "source": [
    "st_out = pd.HDFStore(\"../fhmm_out.h5\")\n",
    "fhmm_accur = {}\n",
    "for appliance in [\"hvac\",\"fridge\",\"dw\",\"wm\",\"light\",\"dr\"]:\n",
    "    print appliance\n",
    "    \n",
    "    if appliance ==\"hvac\":\n",
    "        start, end = 5, 11\n",
    "    else:\n",
    "        start, end = 1, 13\n",
    "    out_ap = {}\n",
    "    accuracies = {}\n",
    "    for home in all_homes[appliance][:]:\n",
    "        out_ap[home] = {}\n",
    "        pred = st_out['/%d' %home][appliance]\n",
    "        for month in range(start, end):\n",
    "            out_ap[home][month] = {}\n",
    "            gt = df.ix[home]['%s_%d' %(appliance, month)]\n",
    "            out_ap[home][month]['gt'] = gt\n",
    "            out_ap[home][month]['pred'] = pred.ix[month]\n",
    "        a = pd.DataFrame(out_ap[home]).T\n",
    "        e = (a['gt']-a['pred']).abs().div(a['gt'])*100\n",
    "        accur = 100-e\n",
    "        accur[accur<0] = 0\n",
    "        accuracies[home] = accur\n",
    "    fhmm_accur[appliance] = pd.DataFrame(accuracies)"
   ]
  },
  {
   "cell_type": "code",
   "execution_count": 10,
   "metadata": {},
   "outputs": [],
   "source": [
    "accuracy_store = pd.HDFStore(\"accuracy.h5\")"
   ]
  },
  {
   "cell_type": "code",
   "execution_count": 11,
   "metadata": {},
   "outputs": [
    {
     "data": {
      "text/plain": [
       "<class 'pandas.io.pytables.HDFStore'>\n",
       "File path: accuracy.h5\n",
       "/N-NILM            wide_table   (typ->appendable,nrows->420,ncols->6,indexers->[major_axis,minor_axis])"
      ]
     },
     "execution_count": 11,
     "output_type": "execute_result",
     "metadata": {}
    }
   ],
   "source": [
    "accuracy_store"
   ]
  },
  {
   "cell_type": "code",
   "execution_count": 12,
   "metadata": {},
   "outputs": [],
   "source": [
    "accuracy_store.append(\"FHMM\",pd.Panel(fhmm_accur))"
   ]
  },
  {
   "cell_type": "code",
   "execution_count": 13,
   "metadata": {},
   "outputs": [
    {
     "data": {
      "text/plain": [
       "<class 'pandas.io.pytables.HDFStore'>\n",
       "File path: accuracy.h5\n",
       "/FHMM              wide_table   (typ->appendable,nrows->510,ncols->6,indexers->[major_axis,minor_axis])\n",
       "/N-NILM            wide_table   (typ->appendable,nrows->420,ncols->6,indexers->[major_axis,minor_axis])"
      ]
     },
     "execution_count": 13,
     "output_type": "execute_result",
     "metadata": {}
    }
   ],
   "source": [
    "accuracy_store"
   ]
  },
  {
   "cell_type": "code",
   "execution_count": 18,
   "metadata": {},
   "outputs": [
    {
     "name": "stdout",
     "output_type": "stream",
     "text": [
      "26.0\n",
      "94.0\n",
      "370.0\n",
      "410.0\n",
      "545.0\n",
      "624.0\n",
      "1283.0\n",
      "1334.0\n",
      "1642.0\n",
      "1953.0\n",
      "2129.0\n",
      "2156.0\n",
      "2242.0\n",
      "2470.0\n",
      "2814.0\n",
      "3367.0\n",
      "3456.0\n",
      "3482.0\n",
      "3723.0\n",
      "3967.0\n",
      "4732.0\n",
      "4767.0\n",
      "5357.0\n",
      "5371.0\n",
      "5746.0\n",
      "5785.0\n",
      "5814.0\n",
      "6072.0\n",
      "6636.0\n",
      "6836.0\n",
      "6910.0\n",
      "7016.0\n",
      "7731.0\n",
      "7769.0\n",
      "7866.0\n",
      "8317.0\n",
      "9052.0\n",
      "9609.0\n",
      "9654.0\n",
      "9922.0\n",
      "9933.0\n",
      "9934.0\n",
      "9982.0\n"
     ]
    }
   ],
   "source": [
    "st_out = pd.HDFStore(\"../fhmm_lbm.h5\")\n",
    "\n",
    "for home in all_homes_all_appliance[:]:\n",
    "    print home\n",
    "    try:\n",
    "        pred = pd.read_csv(\"/Users/nipunbatra/Dropbox/Public/notebooks/misc/%d.csv\" %home, index_col=0)\n",
    "        pred.index = pd.to_datetime(pred.index)\n",
    "        pred = pred['2013']\n",
    "        pred = pred.resample(\"1M\", how=\"sum\").mul(0.000017).mul(15)\n",
    "        pred.index = range(1, 13)\n",
    "        pred = pred[['hvac','dw','dr','fridge','wm','light']]\n",
    "        \n",
    "        st_out['%d' %home] = pred\n",
    "    except Exception, e:\n",
    "        print e"
   ]
  },
  {
   "cell_type": "code",
   "execution_count": 14,
   "metadata": {},
   "outputs": [
    {
     "name": "stdout",
     "output_type": "stream",
     "text": [
      "hvac\n",
      "fridge\n",
      "dw\n",
      "wm\n",
      "light\n",
      "dr\n"
     ]
    }
   ],
   "source": [
    "st_out = pd.HDFStore(\"../fhmm_lbm.h5\")\n",
    "lbm_accur = {}\n",
    "for appliance in [\"hvac\",\"fridge\",\"dw\",\"wm\",\"light\",\"dr\"]:\n",
    "    print appliance\n",
    "    \n",
    "    if appliance ==\"hvac\":\n",
    "        start, end = 5, 11\n",
    "    else:\n",
    "        start, end = 1, 13\n",
    "    out_ap = {}\n",
    "    accuracies = {}\n",
    "    for home in all_homes[appliance][:]:\n",
    "        out_ap[home] = {}\n",
    "        pred = st_out['/%d' %home][appliance]\n",
    "        for month in range(start, end):\n",
    "            out_ap[home][month] = {}\n",
    "            gt = df.ix[home]['%s_%d' %(appliance, month)]\n",
    "            out_ap[home][month]['gt'] = gt\n",
    "            out_ap[home][month]['pred'] = pred.ix[month]\n",
    "        a = pd.DataFrame(out_ap[home]).T\n",
    "        e = (a['gt']-a['pred']).abs().div(a['gt'])*100\n",
    "        accur = 100-e\n",
    "        accur[accur<0] = 0\n",
    "        accuracies[home] = accur\n",
    "    lbm_accur[appliance] = pd.DataFrame(accuracies)"
   ]
  },
  {
   "cell_type": "code",
   "execution_count": 15,
   "metadata": {},
   "outputs": [],
   "source": [
    "accuracy_store.append(\"LBM\",pd.Panel(lbm_accur))"
   ]
  },
  {
   "cell_type": "code",
   "execution_count": 16,
   "metadata": {},
   "outputs": [
    {
     "data": {
      "text/plain": [
       "<class 'pandas.io.pytables.HDFStore'>\n",
       "File path: accuracy.h5\n",
       "/FHMM              wide_table   (typ->appendable,nrows->510,ncols->6,indexers->[major_axis,minor_axis])\n",
       "/LBM               wide_table   (typ->appendable,nrows->510,ncols->6,indexers->[major_axis,minor_axis])\n",
       "/N-NILM            wide_table   (typ->appendable,nrows->420,ncols->6,indexers->[major_axis,minor_axis])"
      ]
     },
     "execution_count": 16,
     "output_type": "execute_result",
     "metadata": {}
    }
   ],
   "source": [
    "accuracy_store"
   ]
  },
  {
   "cell_type": "code",
   "execution_count": 17,
   "metadata": {},
   "outputs": [],
   "source": [
    "accuracy_store.close()"
   ]
  }
 ],
 "metadata": {
  "kernelspec": {
   "display_name": "Python 2",
   "language": "python",
   "name": "python2"
  },
  "language_info": {
   "codemirror_mode": {
    "name": "ipython",
    "version": 2.0
   },
   "file_extension": ".py",
   "mimetype": "text/x-python",
   "name": "python",
   "nbconvert_exporter": "python",
   "pygments_lexer": "ipython2",
   "version": "2.7.11"
  }
 },
 "nbformat": 4,
 "nbformat_minor": 0
}