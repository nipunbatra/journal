{
 "cells": [
  {
   "cell_type": "code",
   "execution_count": 1,
   "metadata": {
    "collapsed": true
   },
   "outputs": [],
   "source": [
    "# NEED TO RUN ON CLUSTER\n",
    "import sys\n",
    "CLUSTER=True\n",
    "if CLUSTER:\n",
    "    sys.path.insert(0, '/if6/nb2cz/anaconda/lib/python2.7/site-packages')\n",
    "\n",
    "import  os\n",
    "\n",
    "import numpy as np\n",
    "import pandas as pd\n",
    "\n",
    "\n",
    "from create_df_larger import read_df_larger\n",
    "df, dfc, all_homes, appliance_min, national_average = read_df_larger()\n",
    "\n",
    "df = df.rename(columns={'house_num_rooms':'num_rooms',\n",
    "                        'num_occupants':'total_occupants',\n",
    "                        'difference_ratio_min_max':'ratio_difference_min_max'})\n",
    "K_min, K_max = 1,6\n",
    "F_min, F_max=1,8\n",
    "\n",
    "from all_functions import *\n",
    "from features_larger import *\n",
    "\n",
    "import sys\n",
    "\n",
    "from sklearn.neighbors import KNeighborsRegressor\n",
    "from sklearn.cross_validation import ShuffleSplit\n",
    "from sklearn.cross_validation import LeaveOneOut\n",
    "\n",
    "NUM_NEIGHBOUR_MAX = 6\n",
    "F_MAX = 6\n",
    "\n",
    "import json\n",
    "\n",
    "\n",
    "\n",
    "from sklearn.cross_validation import LeaveOneOut\n",
    "from sklearn.ensemble import ExtraTreesRegressor\n",
    "from sklearn.neighbors import KNeighborsRegressor\n",
    "from collections import OrderedDict"
   ]
  },
  {
   "cell_type": "code",
   "execution_count": 23,
   "metadata": {
    "collapsed": false
   },
   "outputs": [],
   "source": [
    "out={}\n",
    "for appliance in [\"hvac\",\"fridge\",\"wm\",\"dw\"]:\n",
    "    out[appliance]={}\n",
    "    if appliance==\"hvac\":\n",
    "        start, stop=5, 11\n",
    "    else:\n",
    "        start, stop=1,13\n",
    "    appliance_df = df.ix[all_homes[appliance]]\n",
    "    for home in appliance_df.index:\n",
    "        train_d = appliance_df[~appliance_df.index.isin([home])]\n",
    "        pred_df = train_d[['%s_%d' %(appliance, month) for month in range(start, stop)]].mean()\n",
    "        gt = appliance_df.ix[home][['%s_%d' %(appliance, month) for month in range(start, stop)]]\n",
    "        error = (gt-pred_df).abs()\n",
    "        #print error\n",
    "        percentage_error = error*100/gt\n",
    "        #print percentage_error\n",
    "        percentage_error[percentage_error>100]=100\n",
    "\n",
    "\n",
    "        percentage_accuracy = 100-percentage_error\n",
    "        out[appliance][home] = percentage_error.mean()"
   ]
  },
  {
   "cell_type": "code",
   "execution_count": 24,
   "metadata": {
    "collapsed": false
   },
   "outputs": [
    {
     "data": {
      "text/plain": [
       "45.8037084044808"
      ]
     },
     "execution_count": 24,
     "metadata": {},
     "output_type": "execute_result"
    }
   ],
   "source": [
    "pd.Series(out['hvac']).mean()"
   ]
  },
  {
   "cell_type": "code",
   "execution_count": 25,
   "metadata": {
    "collapsed": false
   },
   "outputs": [
    {
     "data": {
      "text/plain": [
       "dw        60.903677\n",
       "fridge    24.570173\n",
       "hvac      45.803708\n",
       "wm        54.703832\n",
       "dtype: float64"
      ]
     },
     "execution_count": 25,
     "metadata": {},
     "output_type": "execute_result"
    }
   ],
   "source": [
    "pd.DataFrame(out).mean()"
   ]
  },
  {
   "cell_type": "code",
   "execution_count": null,
   "metadata": {
    "collapsed": true
   },
   "outputs": [],
   "source": []
  }
 ],
 "metadata": {
  "kernelspec": {
   "display_name": "Python 2",
   "language": "python",
   "name": "python2"
  },
  "language_info": {
   "codemirror_mode": {
    "name": "ipython",
    "version": 2
   },
   "file_extension": ".py",
   "mimetype": "text/x-python",
   "name": "python",
   "nbconvert_exporter": "python",
   "pygments_lexer": "ipython2",
   "version": "2.7.11"
  }
 },
 "nbformat": 4,
 "nbformat_minor": 0
}
