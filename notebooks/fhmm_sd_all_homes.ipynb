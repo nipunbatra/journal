{
 "cells": [
  {
   "cell_type": "code",
   "execution_count": 1,
   "metadata": {
    "collapsed": true
   },
   "outputs": [],
   "source": [
    "from hmmlearn import hmm"
   ]
  },
  {
   "cell_type": "code",
   "execution_count": 2,
   "metadata": {
    "collapsed": true
   },
   "outputs": [],
   "source": [
    "import nilmtk\n",
    "import pandas as pd\n",
    "import numpy as np\n",
    "import matplotlib.pyplot as plt\n",
    "from collections import OrderedDict\n",
    "import warnings\n",
    "import pickle"
   ]
  },
  {
   "cell_type": "code",
   "execution_count": 3,
   "metadata": {
    "collapsed": true
   },
   "outputs": [],
   "source": [
    "warnings.filterwarnings(\"ignore\")"
   ]
  },
  {
   "cell_type": "code",
   "execution_count": 4,
   "metadata": {
    "collapsed": true
   },
   "outputs": [],
   "source": [
    "from nilmtk import *\n",
    "import os\n",
    "import nilmtk"
   ]
  },
  {
   "cell_type": "code",
   "execution_count": 5,
   "metadata": {
    "collapsed": true
   },
   "outputs": [],
   "source": [
    "st = pd.HDFStore(os.path.expanduser(\"/Users/nipunbatra/wiki-15min.h5\"))"
   ]
  },
  {
   "cell_type": "code",
   "execution_count": 6,
   "metadata": {
    "collapsed": true
   },
   "outputs": [],
   "source": [
    "metadata_df = pd.read_csv(\"/Users/nipunbatra/w/dataport-metadata.csv\",index_col=0)"
   ]
  },
  {
   "cell_type": "code",
   "execution_count": 7,
   "metadata": {
    "collapsed": true
   },
   "outputs": [],
   "source": [
    "feeds = {'use':'aggregate',\n",
    "        'air1':'hvac',\n",
    "         'clotheswasher1':'wm',\n",
    "         'dishwasher1':'dw',\n",
    "         'microwave1':'mw',\n",
    "         'refrigerator1':'fridge',\n",
    "         'oven1':'oven',\n",
    "        'car1':'ec',\n",
    "         'waterheater1':'wh',\n",
    "         'drye1':'dr'\n",
    "        }"
   ]
  },
  {
   "cell_type": "code",
   "execution_count": 8,
   "metadata": {
    "collapsed": true
   },
   "outputs": [],
   "source": [
    "cities = ['San Diego']"
   ]
  },
  {
   "cell_type": "code",
   "execution_count": 9,
   "metadata": {
    "collapsed": true
   },
   "outputs": [],
   "source": [
    "months=12\n",
    "start='1-1-2015'\n",
    "start_month=1\n",
    "end = '12-31-2015'\n",
    "end_month=12"
   ]
  },
  {
   "cell_type": "code",
   "execution_count": 10,
   "metadata": {
    "collapsed": false
   },
   "outputs": [
    {
     "name": "stdout",
     "output_type": "stream",
     "text": [
      "San Diego\n",
      "********************\n",
      "air1 training\n"
     ]
    },
    {
     "ename": "KeyboardInterrupt",
     "evalue": "",
     "output_type": "error",
     "traceback": [
      "\u001b[0;31m---------------------------------------------------------------------------\u001b[0m",
      "\u001b[0;31mKeyboardInterrupt\u001b[0m                         Traceback (most recent call last)",
      "\u001b[0;32m<ipython-input-10-30a9a88c4cf9>\u001b[0m in \u001b[0;36m<module>\u001b[0;34m()\u001b[0m\n\u001b[1;32m     31\u001b[0m             \u001b[0mo\u001b[0m \u001b[0;34m=\u001b[0m \u001b[0mnp\u001b[0m\u001b[0;34m.\u001b[0m\u001b[0marray\u001b[0m\u001b[0;34m(\u001b[0m\u001b[0mo\u001b[0m\u001b[0;34m)\u001b[0m\u001b[0;34m\u001b[0m\u001b[0m\n\u001b[1;32m     32\u001b[0m             \u001b[0mmod\u001b[0m \u001b[0;34m=\u001b[0m \u001b[0mhmm\u001b[0m\u001b[0;34m.\u001b[0m\u001b[0mGaussianHMM\u001b[0m\u001b[0;34m(\u001b[0m\u001b[0;36m3\u001b[0m\u001b[0;34m,\u001b[0m \u001b[0;34m\"full\"\u001b[0m\u001b[0;34m)\u001b[0m\u001b[0;34m\u001b[0m\u001b[0m\n\u001b[0;32m---> 33\u001b[0;31m             \u001b[0mmod\u001b[0m\u001b[0;34m.\u001b[0m\u001b[0mfit\u001b[0m\u001b[0;34m(\u001b[0m\u001b[0mo\u001b[0m\u001b[0;34m)\u001b[0m\u001b[0;34m\u001b[0m\u001b[0m\n\u001b[0m\u001b[1;32m     34\u001b[0m             \u001b[0mmodel\u001b[0m\u001b[0;34m[\u001b[0m\u001b[0mcity\u001b[0m\u001b[0;34m]\u001b[0m\u001b[0;34m[\u001b[0m\u001b[0mfeeds\u001b[0m\u001b[0;34m[\u001b[0m\u001b[0mappliance\u001b[0m\u001b[0;34m]\u001b[0m\u001b[0;34m]\u001b[0m \u001b[0;34m=\u001b[0m \u001b[0mmod\u001b[0m\u001b[0;34m\u001b[0m\u001b[0m\n\u001b[1;32m     35\u001b[0m             \u001b[0;32mprint\u001b[0m \u001b[0;34m\"Means for %s are\"\u001b[0m \u001b[0;34m%\u001b[0m\u001b[0mappliance\u001b[0m\u001b[0;34m\u001b[0m\u001b[0m\n",
      "\u001b[0;32m/Users/nipunbatra/anaconda/lib/python2.7/site-packages/hmmlearn/hmm.pyc\u001b[0m in \u001b[0;36mfit\u001b[0;34m(self, obs)\u001b[0m\n\u001b[1;32m    326\u001b[0m         \u001b[0mmore\u001b[0m \u001b[0mtraining\u001b[0m \u001b[0mdata\u001b[0m\u001b[0;34m,\u001b[0m \u001b[0;32mor\u001b[0m \u001b[0mincreasing\u001b[0m \u001b[0mcovars_prior\u001b[0m\u001b[0;34m.\u001b[0m\u001b[0;34m\u001b[0m\u001b[0m\n\u001b[1;32m    327\u001b[0m         \"\"\"\n\u001b[0;32m--> 328\u001b[0;31m         \u001b[0;32mreturn\u001b[0m \u001b[0msuper\u001b[0m\u001b[0;34m(\u001b[0m\u001b[0mGaussianHMM\u001b[0m\u001b[0;34m,\u001b[0m \u001b[0mself\u001b[0m\u001b[0;34m)\u001b[0m\u001b[0;34m.\u001b[0m\u001b[0mfit\u001b[0m\u001b[0;34m(\u001b[0m\u001b[0mobs\u001b[0m\u001b[0;34m)\u001b[0m\u001b[0;34m\u001b[0m\u001b[0m\n\u001b[0m\u001b[1;32m    329\u001b[0m \u001b[0;34m\u001b[0m\u001b[0m\n\u001b[1;32m    330\u001b[0m \u001b[0;34m\u001b[0m\u001b[0m\n",
      "\u001b[0;32m/Users/nipunbatra/anaconda/lib/python2.7/site-packages/hmmlearn/base.pyc\u001b[0m in \u001b[0;36mfit\u001b[0;34m(self, obs)\u001b[0m\n\u001b[1;32m    383\u001b[0m                 self._accumulate_sufficient_statistics(\n\u001b[1;32m    384\u001b[0m                     \u001b[0mstats\u001b[0m\u001b[0;34m,\u001b[0m \u001b[0mseq\u001b[0m\u001b[0;34m,\u001b[0m \u001b[0mframelogprob\u001b[0m\u001b[0;34m,\u001b[0m \u001b[0mposteriors\u001b[0m\u001b[0;34m,\u001b[0m \u001b[0mfwdlattice\u001b[0m\u001b[0;34m,\u001b[0m\u001b[0;34m\u001b[0m\u001b[0m\n\u001b[0;32m--> 385\u001b[0;31m                     bwdlattice, self.params)\n\u001b[0m\u001b[1;32m    386\u001b[0m             \u001b[0mlogprob\u001b[0m\u001b[0;34m.\u001b[0m\u001b[0mappend\u001b[0m\u001b[0;34m(\u001b[0m\u001b[0mcurr_logprob\u001b[0m\u001b[0;34m)\u001b[0m\u001b[0;34m\u001b[0m\u001b[0m\n\u001b[1;32m    387\u001b[0m \u001b[0;34m\u001b[0m\u001b[0m\n",
      "\u001b[0;32m/Users/nipunbatra/anaconda/lib/python2.7/site-packages/hmmlearn/hmm.pyc\u001b[0m in \u001b[0;36m_accumulate_sufficient_statistics\u001b[0;34m(self, stats, obs, framelogprob, posteriors, fwdlattice, bwdlattice, params)\u001b[0m\n\u001b[1;32m    243\u001b[0m                     \u001b[0mobsobsT\u001b[0m \u001b[0;34m=\u001b[0m \u001b[0mnp\u001b[0m\u001b[0;34m.\u001b[0m\u001b[0mouter\u001b[0m\u001b[0;34m(\u001b[0m\u001b[0mo\u001b[0m\u001b[0;34m,\u001b[0m \u001b[0mo\u001b[0m\u001b[0;34m)\u001b[0m\u001b[0;34m\u001b[0m\u001b[0m\n\u001b[1;32m    244\u001b[0m                     \u001b[0;32mfor\u001b[0m \u001b[0mc\u001b[0m \u001b[0;32min\u001b[0m \u001b[0mrange\u001b[0m\u001b[0;34m(\u001b[0m\u001b[0mself\u001b[0m\u001b[0;34m.\u001b[0m\u001b[0mn_components\u001b[0m\u001b[0;34m)\u001b[0m\u001b[0;34m:\u001b[0m\u001b[0;34m\u001b[0m\u001b[0m\n\u001b[0;32m--> 245\u001b[0;31m                         \u001b[0mstats\u001b[0m\u001b[0;34m[\u001b[0m\u001b[0;34m'obs*obs.T'\u001b[0m\u001b[0;34m]\u001b[0m\u001b[0;34m[\u001b[0m\u001b[0mc\u001b[0m\u001b[0;34m]\u001b[0m \u001b[0;34m+=\u001b[0m \u001b[0mposteriors\u001b[0m\u001b[0;34m[\u001b[0m\u001b[0mt\u001b[0m\u001b[0;34m,\u001b[0m \u001b[0mc\u001b[0m\u001b[0;34m]\u001b[0m \u001b[0;34m*\u001b[0m \u001b[0mobsobsT\u001b[0m\u001b[0;34m\u001b[0m\u001b[0m\n\u001b[0m\u001b[1;32m    246\u001b[0m \u001b[0;34m\u001b[0m\u001b[0m\n\u001b[1;32m    247\u001b[0m     \u001b[0;32mdef\u001b[0m \u001b[0m_do_mstep\u001b[0m\u001b[0;34m(\u001b[0m\u001b[0mself\u001b[0m\u001b[0;34m,\u001b[0m \u001b[0mstats\u001b[0m\u001b[0;34m,\u001b[0m \u001b[0mparams\u001b[0m\u001b[0;34m)\u001b[0m\u001b[0;34m:\u001b[0m\u001b[0;34m\u001b[0m\u001b[0m\n",
      "\u001b[0;31mKeyboardInterrupt\u001b[0m: "
     ]
    }
   ],
   "source": [
    "model = {}\n",
    "for city in ['San Diego']:\n",
    "    print city\n",
    "    print \"*\"*20\n",
    "    city_data = metadata_df[metadata_df['city'] == city]\n",
    "    city_homes = city_data.index.values.astype('int')\n",
    "    city = city.replace(\" \",\"\")\n",
    "    model[city] = {}\n",
    "    for appliance in [\"air1\", \"refrigerator1\", \"clotheswasher1\", \n",
    "                      \"dishwasher1\", \"microwave1\", \"car1\",\"oven1\",\"waterheater1\",\"dryer1\"]:\n",
    "        print appliance, \"training\"\n",
    "        if appliance in [\"refrigerator1\"]:\n",
    "            activation_min = 0.05\n",
    "        else:\n",
    "            activation_min = 0.0\n",
    "        o = []\n",
    "        for home in city_homes[:50]:\n",
    "            try:\n",
    "                dft = st['/%d' %home][appliance][start:end]\n",
    "                dft = dft.resample(\"15T\", how=\"mean\")\n",
    "                appl_power = dft.dropna().values.reshape(-1,1)\n",
    "                activation = (dft>10).sum()*1.0/len(dft)\n",
    "                \n",
    "            \n",
    "                \n",
    "                if activation>activation_min:\n",
    "                    o.append(appl_power)\n",
    "            except:\n",
    "                pass\n",
    "        if len(o)>1:\n",
    "            o = np.array(o)\n",
    "            mod = hmm.GaussianHMM(3, \"full\")\n",
    "            mod.fit(o)\n",
    "            model[city][feeds[appliance]] = mod\n",
    "            print \"Means for %s are\" %appliance\n",
    "            print mod.means_\n",
    "        else:\n",
    "            print \"Not enough samples for %s\" %appliance"
   ]
  },
  {
   "cell_type": "code",
   "execution_count": 156,
   "metadata": {
    "collapsed": true
   },
   "outputs": [],
   "source": [
    "for city, model_city in model.iteritems():\n",
    "    new_learnt_models = OrderedDict()\n",
    "    for appliance, appliance_model in model_city.iteritems():\n",
    "        startprob, means, covars, transmat = sort_learnt_parameters(\n",
    "                        appliance_model.startprob_, appliance_model.means_,\n",
    "                        appliance_model.covars_, appliance_model.transmat_)\n",
    "        new_learnt_models[appliance] = hmm.GaussianHMM(\n",
    "                    startprob.size, \"full\", startprob, transmat)\n",
    "        new_learnt_models[appliance].means_ = means\n",
    "        new_learnt_models[appliance].covars_ = covars\n",
    "        from nilmtk.disaggregate.fhmm_exact import create_combined_hmm\n",
    "        learnt_model_combined = create_combined_hmm(new_learnt_models)\n",
    "        from nilmtk.disaggregate.fhmm_exact import FHMM\n",
    "        f = FHMM()\n",
    "        f.model = learnt_model_combined\n",
    "        f.individual = new_learnt_models\n",
    "        import pickle\n",
    "        pickle.dump(f, open( \"../data/model/fhmm_model_%s.p\" %city, \"wb\" ))"
   ]
  },
  {
   "cell_type": "code",
   "execution_count": 12,
   "metadata": {
    "collapsed": true
   },
   "outputs": [],
   "source": [
    "out_overall = pickle.load(open('../data/input/all_regions.pkl','r'))"
   ]
  },
  {
   "cell_type": "code",
   "execution_count": 17,
   "metadata": {
    "collapsed": false
   },
   "outputs": [],
   "source": [
    "count = 0\n",
    "for test_region in [\"SanDiego\"]:\n",
    "    out = {}\n",
    "    test_df = out_overall[test_region]\n",
    "    #test_df=test_df[(test_df.full_agg_available==1)&(test_df.md_available==1)]\n",
    "    for appliance in [\"dw\",'hvac','fridge','wm','mw','oven','hvac']:\n",
    "        if appliance==\"hvac\":\n",
    "            start, stop=5, 11\n",
    "        else:\n",
    "            start, stop=1, 13\n",
    "        out[appliance] = {}\n",
    "        test_df_appliance=test_df.ix[test_df[['%s_%d' %(appliance,month) for month in range(start,stop)]].dropna().index]\n",
    "        for test_home in test_df_appliance.index:\n",
    "            pred_df = pd.read_csv(\"/Users/nipunbatra/wiki-15min-fhmm-out/%s_%d.csv\" %(test_region, test_home),index_col=0)\n",
    "            pred_df_appliance = pred_df[appliance].ix[start:stop-1]\n",
    "            gt_df_appliance = test_df.ix[test_home][['%s_%d' %(appliance, month) for month in range(start, stop)]]\n",
    "            gt_df_appliance.index = pred_df_appliance.index\n",
    "            error = ((pred_df_appliance-gt_df_appliance).abs()*100/gt_df_appliance)\n",
    "            #error[error>100]=100\n",
    "            #acc = 100-error\n",
    "            out[appliance][test_home]=error"
   ]
  },
  {
   "cell_type": "code",
   "execution_count": 26,
   "metadata": {
    "collapsed": false
   },
   "outputs": [
    {
     "data": {
      "text/plain": [
       "1079.1877217967615"
      ]
     },
     "execution_count": 26,
     "metadata": {},
     "output_type": "execute_result"
    }
   ],
   "source": [
    "pd.DataFrame(out['oven']).T.median().mean()"
   ]
  },
  {
   "cell_type": "code",
   "execution_count": 14,
   "metadata": {
    "collapsed": false
   },
   "outputs": [
    {
     "data": {
      "text/plain": [
       "593.194937385567"
      ]
     },
     "execution_count": 14,
     "metadata": {},
     "output_type": "execute_result"
    }
   ],
   "source": [
    "pd.DataFrame(out['hvac']).T.median().mean()"
   ]
  },
  {
   "cell_type": "code",
   "execution_count": 67,
   "metadata": {
    "collapsed": false
   },
   "outputs": [
    {
     "data": {
      "text/plain": [
       "dw         0.068523\n",
       "fridge    55.930444\n",
       "hvac      63.158683\n",
       "mw         0.945858\n",
       "oven       0.254512\n",
       "wm         1.166894\n",
       "dtype: float64"
      ]
     },
     "execution_count": 67,
     "metadata": {},
     "output_type": "execute_result"
    }
   ],
   "source": [
    "pd.DataFrame(out).mean()"
   ]
  },
  {
   "cell_type": "code",
   "execution_count": 49,
   "metadata": {
    "collapsed": false
   },
   "outputs": [
    {
     "data": {
      "text/plain": [
       "5     131.292389\n",
       "6     321.332153\n",
       "7     628.271118\n",
       "8     554.701355\n",
       "9     396.239685\n",
       "10    171.740158\n",
       "Name: 9982, dtype: float64"
      ]
     },
     "execution_count": 49,
     "metadata": {},
     "output_type": "execute_result"
    }
   ],
   "source": [
    "gt_df_appliance"
   ]
  },
  {
   "cell_type": "code",
   "execution_count": 146,
   "metadata": {
    "collapsed": false
   },
   "outputs": [
    {
     "name": "stdout",
     "output_type": "stream",
     "text": [
      "SanDiego dw\n",
      "SanDiego hvac\n",
      "SanDiego fridge\n",
      "SanDiego wm\n",
      "SanDiego mw\n",
      "SanDiego ec\n",
      "SanDiego wh\n",
      "SanDiego oven\n",
      "Austin dw\n",
      "Austin hvac\n",
      "Austin fridge\n",
      "Austin wm\n",
      "Austin mw\n",
      "Austin ec\n",
      "Austin wh\n",
      "Austin oven\n",
      "Boulder dw\n",
      "Boulder hvac\n",
      "Boulder fridge\n",
      "Boulder wm\n",
      "Boulder mw\n",
      "Boulder ec\n",
      "Boulder wh\n",
      "Boulder oven\n"
     ]
    }
   ],
   "source": [
    "out = {}\n",
    "\n",
    "for train_region in [\"SanDiego\",\"Austin\",\"Boulder\"]:\n",
    "    \n",
    "    out[train_region] = {}\n",
    "    train_df = out_overall[train_region]\n",
    "    for appliance in [\"dw\",'hvac','fridge','wm','mw','ec','wh','oven']:\n",
    "        print train_region, appliance\n",
    "        if appliance==\"hvac\":\n",
    "            month_start, month_end = 5, 11\n",
    "        else:\n",
    "            month_start, month_end = 1, 13\n",
    "        out[train_region][appliance] ={}\n",
    "        for home in train_df.index[1:]:\n",
    "            try:\n",
    "                out[train_region][appliance][home] = {}\n",
    "                pred_df =  pd.read_csv(\"/Users/nipunbatra/wiki-15min-fhmm-out/%s_%d.csv\" %(train_region, home), index_col=0)\n",
    "\n",
    "                   \n",
    "                for month in range(month_start, month_end):\n",
    "                   \n",
    "                    gt = train_df.ix[home][\"%s_%d\" %(appliance, month)]\n",
    "                    pred = pred_df.loc[month,appliance]\n",
    "                    error = np.abs(gt-pred)\n",
    "                    error_percentage = 100*error/gt\n",
    "                    if error_percentage>100:\n",
    "                        acc=0\n",
    "                    else:\n",
    "                        acc = 100-error_percentage\n",
    "                    out[train_region][appliance][home][month] = acc\n",
    "            except:\n",
    "                pass"
   ]
  },
  {
   "cell_type": "code",
   "execution_count": 141,
   "metadata": {
    "collapsed": false
   },
   "outputs": [
    {
     "data": {
      "text/plain": [
       "42.2544186457132"
      ]
     },
     "execution_count": 141,
     "metadata": {},
     "output_type": "execute_result"
    }
   ],
   "source": [
    "pd.DataFrame(out['SanDiego']['hvac']).mean().mean()"
   ]
  },
  {
   "cell_type": "code",
   "execution_count": 142,
   "metadata": {
    "collapsed": false
   },
   "outputs": [
    {
     "data": {
      "text/plain": [
       "0.5577280933464502"
      ]
     },
     "execution_count": 142,
     "metadata": {},
     "output_type": "execute_result"
    }
   ],
   "source": [
    "pd.DataFrame(out['SanDiego']['dw']).mean().mean()"
   ]
  },
  {
   "cell_type": "code",
   "execution_count": 151,
   "metadata": {
    "collapsed": false
   },
   "outputs": [
    {
     "data": {
      "text/plain": [
       "0.44467711946446686"
      ]
     },
     "execution_count": 151,
     "metadata": {},
     "output_type": "execute_result"
    }
   ],
   "source": [
    "pd.DataFrame(out['Austin']['oven']).mean().mean()"
   ]
  },
  {
   "cell_type": "code",
   "execution_count": 152,
   "metadata": {
    "collapsed": false
   },
   "outputs": [
    {
     "data": {
      "text/plain": [
       "1.2656249398860409"
      ]
     },
     "execution_count": 152,
     "metadata": {},
     "output_type": "execute_result"
    }
   ],
   "source": [
    "pd.DataFrame(out['Boulder']['oven']).mean().mean()"
   ]
  },
  {
   "cell_type": "code",
   "execution_count": 155,
   "metadata": {
    "collapsed": false
   },
   "outputs": [
    {
     "data": {
      "text/plain": [
       "60.423992969632025"
      ]
     },
     "execution_count": 155,
     "metadata": {},
     "output_type": "execute_result"
    }
   ],
   "source": [
    "pd.DataFrame(out['Austin']['hvac']).mean().mean()"
   ]
  },
  {
   "cell_type": "code",
   "execution_count": 158,
   "metadata": {
    "collapsed": true
   },
   "outputs": [],
   "source": [
    "sd_sd_nilm = {}\n",
    "for appliance in [\"dw\",'hvac','fridge','wm','mw','ec','wh','oven']:\n",
    "    sd_sd_nilm[appliance] = pd.DataFrame(out['SanDiego'][appliance]).mean().mean()"
   ]
  },
  {
   "cell_type": "code",
   "execution_count": 159,
   "metadata": {
    "collapsed": false
   },
   "outputs": [
    {
     "data": {
      "text/plain": [
       "{'dw': 0.5577280933464502,\n",
       " 'ec': nan,\n",
       " 'fridge': 50.985555403149746,\n",
       " 'hvac': 42.2544186457132,\n",
       " 'mw': 3.681773127817756,\n",
       " 'oven': 7.0739244574788955,\n",
       " 'wh': nan,\n",
       " 'wm': 1.1108455368999053}"
      ]
     },
     "execution_count": 159,
     "metadata": {},
     "output_type": "execute_result"
    }
   ],
   "source": [
    "sd_sd_nilm"
   ]
  },
  {
   "cell_type": "code",
   "execution_count": 161,
   "metadata": {
    "collapsed": false
   },
   "outputs": [
    {
     "data": {
      "text/html": [
       "<div>\n",
       "<table border=\"1\" class=\"dataframe\">\n",
       "  <thead>\n",
       "    <tr style=\"text-align: right;\">\n",
       "      <th></th>\n",
       "      <th>203</th>\n",
       "      <th>527</th>\n",
       "      <th>1450</th>\n",
       "      <th>1524</th>\n",
       "      <th>1731</th>\n",
       "      <th>2031</th>\n",
       "      <th>2354</th>\n",
       "      <th>2606</th>\n",
       "      <th>3687</th>\n",
       "      <th>3864</th>\n",
       "      <th>...</th>\n",
       "      <th>8342</th>\n",
       "      <th>8574</th>\n",
       "      <th>8733</th>\n",
       "      <th>8886</th>\n",
       "      <th>9213</th>\n",
       "      <th>9370</th>\n",
       "      <th>9585</th>\n",
       "      <th>9612</th>\n",
       "      <th>9775</th>\n",
       "      <th>9836</th>\n",
       "    </tr>\n",
       "  </thead>\n",
       "  <tbody>\n",
       "    <tr>\n",
       "      <th>5</th>\n",
       "      <td>0.000000</td>\n",
       "      <td>NaN</td>\n",
       "      <td>0.000000</td>\n",
       "      <td>0.000000</td>\n",
       "      <td>0.000000</td>\n",
       "      <td>NaN</td>\n",
       "      <td>NaN</td>\n",
       "      <td>0.000000</td>\n",
       "      <td>0.000000</td>\n",
       "      <td>0.000000</td>\n",
       "      <td>...</td>\n",
       "      <td>0.000000</td>\n",
       "      <td>NaN</td>\n",
       "      <td>0.000000</td>\n",
       "      <td>NaN</td>\n",
       "      <td>0</td>\n",
       "      <td>NaN</td>\n",
       "      <td>NaN</td>\n",
       "      <td>20.394375</td>\n",
       "      <td>0.000000</td>\n",
       "      <td>0</td>\n",
       "    </tr>\n",
       "    <tr>\n",
       "      <th>6</th>\n",
       "      <td>92.137173</td>\n",
       "      <td>NaN</td>\n",
       "      <td>84.614866</td>\n",
       "      <td>84.682535</td>\n",
       "      <td>46.393935</td>\n",
       "      <td>NaN</td>\n",
       "      <td>NaN</td>\n",
       "      <td>76.633997</td>\n",
       "      <td>54.549238</td>\n",
       "      <td>0.000000</td>\n",
       "      <td>...</td>\n",
       "      <td>0.000000</td>\n",
       "      <td>NaN</td>\n",
       "      <td>0.000000</td>\n",
       "      <td>NaN</td>\n",
       "      <td>0</td>\n",
       "      <td>NaN</td>\n",
       "      <td>NaN</td>\n",
       "      <td>0.000000</td>\n",
       "      <td>0.000000</td>\n",
       "      <td>0</td>\n",
       "    </tr>\n",
       "    <tr>\n",
       "      <th>7</th>\n",
       "      <td>70.763907</td>\n",
       "      <td>NaN</td>\n",
       "      <td>93.087525</td>\n",
       "      <td>83.351962</td>\n",
       "      <td>88.188977</td>\n",
       "      <td>NaN</td>\n",
       "      <td>NaN</td>\n",
       "      <td>92.201126</td>\n",
       "      <td>96.582655</td>\n",
       "      <td>80.035744</td>\n",
       "      <td>...</td>\n",
       "      <td>0.000000</td>\n",
       "      <td>NaN</td>\n",
       "      <td>90.715851</td>\n",
       "      <td>NaN</td>\n",
       "      <td>NaN</td>\n",
       "      <td>NaN</td>\n",
       "      <td>NaN</td>\n",
       "      <td>NaN</td>\n",
       "      <td>0.000000</td>\n",
       "      <td>0</td>\n",
       "    </tr>\n",
       "    <tr>\n",
       "      <th>8</th>\n",
       "      <td>61.540052</td>\n",
       "      <td>NaN</td>\n",
       "      <td>84.234883</td>\n",
       "      <td>72.917393</td>\n",
       "      <td>76.960231</td>\n",
       "      <td>NaN</td>\n",
       "      <td>NaN</td>\n",
       "      <td>77.641166</td>\n",
       "      <td>82.524598</td>\n",
       "      <td>64.563849</td>\n",
       "      <td>...</td>\n",
       "      <td>85.586980</td>\n",
       "      <td>NaN</td>\n",
       "      <td>71.759366</td>\n",
       "      <td>NaN</td>\n",
       "      <td>NaN</td>\n",
       "      <td>NaN</td>\n",
       "      <td>NaN</td>\n",
       "      <td>NaN</td>\n",
       "      <td>87.398325</td>\n",
       "      <td>NaN</td>\n",
       "    </tr>\n",
       "    <tr>\n",
       "      <th>9</th>\n",
       "      <td>72.414384</td>\n",
       "      <td>NaN</td>\n",
       "      <td>80.858820</td>\n",
       "      <td>71.973663</td>\n",
       "      <td>76.534135</td>\n",
       "      <td>NaN</td>\n",
       "      <td>NaN</td>\n",
       "      <td>83.082583</td>\n",
       "      <td>57.828430</td>\n",
       "      <td>57.569448</td>\n",
       "      <td>...</td>\n",
       "      <td>36.116643</td>\n",
       "      <td>NaN</td>\n",
       "      <td>NaN</td>\n",
       "      <td>NaN</td>\n",
       "      <td>NaN</td>\n",
       "      <td>NaN</td>\n",
       "      <td>NaN</td>\n",
       "      <td>NaN</td>\n",
       "      <td>68.811208</td>\n",
       "      <td>NaN</td>\n",
       "    </tr>\n",
       "    <tr>\n",
       "      <th>10</th>\n",
       "      <td>96.714561</td>\n",
       "      <td>NaN</td>\n",
       "      <td>92.523013</td>\n",
       "      <td>95.358362</td>\n",
       "      <td>95.840624</td>\n",
       "      <td>NaN</td>\n",
       "      <td>NaN</td>\n",
       "      <td>92.537795</td>\n",
       "      <td>NaN</td>\n",
       "      <td>71.594192</td>\n",
       "      <td>...</td>\n",
       "      <td>0.000000</td>\n",
       "      <td>NaN</td>\n",
       "      <td>NaN</td>\n",
       "      <td>NaN</td>\n",
       "      <td>NaN</td>\n",
       "      <td>NaN</td>\n",
       "      <td>NaN</td>\n",
       "      <td>NaN</td>\n",
       "      <td>82.287267</td>\n",
       "      <td>NaN</td>\n",
       "    </tr>\n",
       "  </tbody>\n",
       "</table>\n",
       "<p>6 rows × 41 columns</p>\n",
       "</div>"
      ]
     },
     "metadata": {},
     "output_type": "execute_result"
    }
   ],
   "source": [
    "pd.DataFrame(out['SanDiego']['hvac'])"
   ]
  },
  {
   "cell_type": "code",
   "execution_count": 162,
   "metadata": {
    "collapsed": true
   },
   "outputs": [],
   "source": [
    "austin_austin_nilm = {}\n",
    "for appliance in [\"dw\",'hvac','fridge','wm','mw','ec','wh','oven']:\n",
    "    austin_austin_nilm[appliance] = pd.DataFrame(out['Austin'][appliance]).mean().mean()"
   ]
  },
  {
   "cell_type": "code",
   "execution_count": 163,
   "metadata": {
    "collapsed": false
   },
   "outputs": [
    {
     "data": {
      "text/plain": [
       "{'dw': 0.2785754646785667,\n",
       " 'ec': nan,\n",
       " 'fridge': 53.15558262517974,\n",
       " 'hvac': 60.423992969632025,\n",
       " 'mw': 3.3594100938387794,\n",
       " 'oven': 0.44467711946446686,\n",
       " 'wh': nan,\n",
       " 'wm': 1.3666039865794135}"
      ]
     },
     "execution_count": 163,
     "metadata": {},
     "output_type": "execute_result"
    }
   ],
   "source": [
    "austin_austin_nilm"
   ]
  },
  {
   "cell_type": "code",
   "execution_count": 164,
   "metadata": {
    "collapsed": true
   },
   "outputs": [],
   "source": []
  },
  {
   "cell_type": "code",
   "execution_count": null,
   "metadata": {
    "collapsed": true
   },
   "outputs": [],
   "source": []
  }
 ],
 "metadata": {
  "kernelspec": {
   "display_name": "Python 2",
   "language": "python",
   "name": "python2"
  },
  "language_info": {
   "codemirror_mode": {
    "name": "ipython",
    "version": 2
   },
   "file_extension": ".py",
   "mimetype": "text/x-python",
   "name": "python",
   "nbconvert_exporter": "python",
   "pygments_lexer": "ipython2",
   "version": "2.7.11"
  }
 },
 "nbformat": 4,
 "nbformat_minor": 0
}
