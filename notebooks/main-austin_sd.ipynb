{
 "cells": [
  {
   "cell_type": "code",
   "execution_count": 1,
   "metadata": {
    "collapsed": true
   },
   "outputs": [],
   "source": [
    "import pandas as pd\n",
    "import pickle\n",
    "import sys\n",
    "import matplotlib.pyplot as plt\n",
    "sys.path.append(\"../code/\")\n",
    "out_overall = pickle.load(open('../data/input/all_regions.pkl', 'r'))\n",
    "from common_functions import tableau20blind, format_axes, latexify\n",
    "from regional_average_contribution import contribution"
   ]
  },
  {
   "cell_type": "code",
   "execution_count": 2,
   "metadata": {
    "collapsed": true
   },
   "outputs": [],
   "source": [
    "%matplotlib inline"
   ]
  },
  {
   "cell_type": "code",
   "execution_count": 134,
   "metadata": {
    "collapsed": false
   },
   "outputs": [],
   "source": [
    "def get_ubicomp(appliance, transform):\n",
    "\n",
    "    base_path = \"/Users/nipunbatra/output/unified/unified_all_features_cv/\"\n",
    "    m = {}\n",
    "    sem = {}\n",
    "    for num_homes in range(4, 40, 2):\n",
    "        try:\n",
    "            m[num_homes]={}\n",
    "            out = pickle.load(open(\"%s%s_%d_10_%s_3.pkl\" %(base_path, appliance, num_homes, transform),'r'))\n",
    "            for trial in range(0, 5):\n",
    "                m[num_homes][trial] = pd.concat([pd.DataFrame(out[i][trial]).T for i in range(0,5)]).median().mean()\n",
    "                #sem[num_homes][i] = out[i].median().sem()\n",
    "        except Exception, e:\n",
    "            print e\n",
    "        sem[num_homes] = (pd.Series(m[num_homes])).sem()\n",
    "        m[num_homes] = pd.Series(m[num_homes]).mean()*100\n",
    "        \n",
    "    return pd.Series(m), pd.Series(sem)\n",
    "        #sem[num_homes] = pd.Series(m[num_homes])"
   ]
  },
  {
   "cell_type": "code",
   "execution_count": 6,
   "metadata": {
    "collapsed": true
   },
   "outputs": [],
   "source": [
    "def get_fhmm(appliance):\n",
    "    count = 0\n",
    "    for test_region in [\"SanDiego\"]:\n",
    "        out = {}\n",
    "        test_df = out_overall[test_region]\n",
    "        #test_df=test_df[(test_df.full_agg_available==1)&(test_df.md_available==1)]\n",
    "        \n",
    "        if appliance==\"hvac\":\n",
    "            start, stop=5, 11\n",
    "        else:\n",
    "            start, stop=1, 13\n",
    "        out[appliance] = {}\n",
    "        test_df_appliance=test_df.ix[test_df[['%s_%d' %(appliance,month) for month in range(start,stop)]].dropna().index]\n",
    "        for test_home in test_df_appliance.index:\n",
    "            pred_df = pd.read_csv(\"/Users/nipunbatra/wiki-15min-fhmm-out/%s_%d.csv\" %(test_region, test_home),index_col=0)\n",
    "            pred_df_appliance = pred_df[appliance].ix[start:stop-1]\n",
    "            gt_df_appliance = test_df.ix[test_home][['%s_%d' %(appliance, month) for month in range(start, stop)]]\n",
    "            gt_df_appliance.index = pred_df_appliance.index\n",
    "            error = ((pred_df_appliance-gt_df_appliance).abs()*100/gt_df_appliance)\n",
    "            #error[error>100]=100\n",
    "            #acc = 100-error\n",
    "            out[appliance][test_home]=error\n",
    "    return pd.DataFrame(out[appliance]).T.median().mean()"
   ]
  },
  {
   "cell_type": "code",
   "execution_count": 7,
   "metadata": {
    "collapsed": false
   },
   "outputs": [
    {
     "data": {
      "text/plain": [
       "44.81276726824657"
      ]
     },
     "execution_count": 7,
     "metadata": {},
     "output_type": "execute_result"
    }
   ],
   "source": [
    "get_fhmm(\"fridge\")\n"
   ]
  },
  {
   "cell_type": "code",
   "execution_count": 17,
   "metadata": {
    "collapsed": false
   },
   "outputs": [
    {
     "data": {
      "text/plain": [
       "189.87534560901918"
      ]
     },
     "execution_count": 17,
     "metadata": {},
     "output_type": "execute_result"
    }
   ],
   "source": [
    "get_lbm('oven','SanDiego')"
   ]
  },
  {
   "cell_type": "code",
   "execution_count": 62,
   "metadata": {
    "collapsed": true
   },
   "outputs": [],
   "source": [
    "def get_regional_average(appliance, test_region='Austin'):\n",
    "    contri_austin_appliance = contribution[test_region]['Cooling'][appliance]\n",
    "    if appliance==\"hvac\":\n",
    "        start, stop=5, 11\n",
    "    else:\n",
    "        start, stop=1, 13\n",
    "    test_df = out_overall[test_region]\n",
    "    test_df=test_df[(test_df.full_agg_available==1)&(test_df.md_available==1)]\n",
    "        \n",
    "    test_df_appliance=test_df.ix[test_df[['%s_%d' %(appliance,month) for month in range(start,stop)]].dropna().index]\n",
    "    pred_df = test_df_appliance[['aggregate_%d' %month for month in range(start, stop)]]*contri_austin_appliance\n",
    "    gt_df = test_df_appliance[['%s_%d' %(appliance, month) for month in range(start, stop)]]\n",
    "    gt_df.columns = pred_df.columns\n",
    "    error = (gt_df-pred_df).abs().div(gt_df).mul(100)\n",
    "    return error.median().mean()"
   ]
  },
  {
   "cell_type": "code",
   "execution_count": 12,
   "metadata": {
    "collapsed": true
   },
   "outputs": [],
   "source": [
    "def get_lbm(appliance, region):\n",
    "    lbm_pred_df = pickle.load(open('../data/output/lbm_15_SD.pkl'))\n",
    "    if appliance==\"hvac\":\n",
    "        start, stop=5, 11\n",
    "    else:\n",
    "        start, stop=1, 13\n",
    "    test_df = out_overall[region]\n",
    "    test_df=test_df[(test_df.full_agg_available==1)&(test_df.md_available==1)]\n",
    "    pred_df = lbm_pred_df[['%s_%d' %(appliance,month) for month in range(start,stop)]]\n",
    "\n",
    "    test_df_appliance=test_df.ix[test_df[['%s_%d' %(appliance,month) for month in range(start,stop)]].dropna().index]\n",
    "    gt_df = test_df_appliance[['%s_%d' %(appliance, month) for month in range(start, stop)]]\n",
    "    gt_df.columns = pred_df.columns\n",
    "    error = (gt_df-pred_df).abs().div(gt_df).mul(100)\n",
    "    return error.median().mean()"
   ]
  },
  {
   "cell_type": "code",
   "execution_count": 112,
   "metadata": {
    "collapsed": true
   },
   "outputs": [],
   "source": [
    "params = {\n",
    "    'hvac':\n",
    "        {'ubicomp':'DD-percentage',\n",
    "        'kdd':'Monthly+Static'},\n",
    "    'fridge':\n",
    "    {'ubicomp':'regional-average',\n",
    "    'kdd':'Monthly+Static'}\n",
    "}\n",
    "\n",
    "for appliance in ['dw','mw','oven','wm']:\n",
    "    params[appliance] = {'ubicomp':'None','kdd':'Monthly+Static'}"
   ]
  },
  {
   "cell_type": "code",
   "execution_count": 111,
   "metadata": {
    "collapsed": false
   },
   "outputs": [
    {
     "data": {
      "text/plain": [
       "<matplotlib.legend.Legend at 0x11e0ac790>"
      ]
     },
     "execution_count": 111,
     "metadata": {},
     "output_type": "execute_result"
    },
    {
     "data": {
      "image/png": "[encoded data removed]",
      "text/plain": [
       "<matplotlib.figure.Figure at 0x11d5bfad0>"
      ]
     },
     "metadata": {},
     "output_type": "display_data"
    }
   ],
   "source": [
    "appliance ='mw'\n",
    "get_kdd(appliance,'Monthly').plot(label='M')\n",
    "get_kdd(appliance,'Monthly+Static').plot(label='M+S')\n",
    "get_kdd(appliance,'Static').plot(label='S')\n",
    "\n",
    "plt.legend()"
   ]
  },
  {
   "cell_type": "code",
   "execution_count": 101,
   "metadata": {
    "collapsed": false
   },
   "outputs": [],
   "source": [
    "latexify()"
   ]
  },
  {
   "cell_type": "code",
   "execution_count": 117,
   "metadata": {
    "collapsed": false
   },
   "outputs": [
    {
     "name": "stdout",
     "output_type": "stream",
     "text": [
      "[Errno 2] No such file or directory: '/Users/nipunbatra/output/unified/unified_all_features_cv/fridge_22_10_regional-average_3.pkl'\n",
      "[Errno 2] No such file or directory: '/Users/nipunbatra/output/unified/unified_all_features_cv/fridge_24_10_regional-average_3.pkl'\n",
      "[Errno 2] No such file or directory: '/Users/nipunbatra/output/unified/unified_all_features_cv/fridge_26_10_regional-average_3.pkl'\n",
      "[Errno 2] No such file or directory: '/Users/nipunbatra/output/unified/unified_all_features_cv/fridge_28_10_regional-average_3.pkl'\n",
      "[Errno 2] No such file or directory: '/Users/nipunbatra/output/unified/unified_all_features_cv/fridge_30_10_regional-average_3.pkl'\n",
      "[Errno 2] No such file or directory: '/Users/nipunbatra/output/unified/unified_all_features_cv/fridge_32_10_regional-average_3.pkl'\n",
      "[Errno 2] No such file or directory: '/Users/nipunbatra/output/unified/unified_all_features_cv/fridge_34_10_regional-average_3.pkl'\n",
      "[Errno 2] No such file or directory: '/Users/nipunbatra/output/unified/unified_all_features_cv/fridge_36_10_regional-average_3.pkl'\n",
      "[Errno 2] No such file or directory: '/Users/nipunbatra/output/unified/unified_all_features_cv/fridge_38_10_regional-average_3.pkl'\n"
     ]
    }
   ],
   "source": [
    "appliance='fridge'\n",
    "ubicomp_df = get_ubicomp(appliance,params[appliance]['ubicomp'])"
   ]
  },
  {
   "cell_type": "code",
   "execution_count": 126,
   "metadata": {
    "collapsed": false
   },
   "outputs": [
    {
     "data": {
      "text/plain": [
       "{4: 0.43379233447002963,\n",
       " 6: 0.66767495377777453,\n",
       " 8: 0.41903571071826418,\n",
       " 10: 0.4818357804955874,\n",
       " 12: 0.97354487698610337,\n",
       " 14: 0.92105399137624411,\n",
       " 16: 1.1029637772630778,\n",
       " 18: 0.70927216610229893,\n",
       " 20: 0.94820376289259978,\n",
       " 22: 0.32216406415771498,\n",
       " 24: 0.5225559146630675,\n",
       " 26: 0.69390439934922943,\n",
       " 28: 0.82547549443196555,\n",
       " 30: 0.34667562365865862,\n",
       " 32: 0.45711913538043669,\n",
       " 34: 0.40138015332635762,\n",
       " 36: 0.62174288923198262,\n",
       " 38: 0.24044388890937882}"
      ]
     },
     "execution_count": 126,
     "metadata": {},
     "output_type": "execute_result"
    }
   ],
   "source": [
    "sem"
   ]
  },
  {
   "cell_type": "code",
   "execution_count": 136,
   "metadata": {
    "collapsed": true
   },
   "outputs": [],
   "source": [
    "a, b = get_kdd('hvac',params['hvac']['kdd'])"
   ]
  },
  {
   "cell_type": "code",
   "execution_count": 137,
   "metadata": {
    "collapsed": false
   },
   "outputs": [
    {
     "data": {
      "text/plain": [
       "4     39.260076\n",
       "6     35.458107\n",
       "8     32.286633\n",
       "10    30.805677\n",
       "12    30.102990\n",
       "14    28.978034\n",
       "16    28.619796\n",
       "18    27.452863\n",
       "20    26.861122\n",
       "22    26.656261\n",
       "24    26.402000\n",
       "26    25.919532\n",
       "28    26.456479\n",
       "30    25.515530\n",
       "32    26.074989\n",
       "34    24.860589\n",
       "36    25.033520\n",
       "38    24.906131\n",
       "dtype: float64"
      ]
     },
     "execution_count": 137,
     "metadata": {},
     "output_type": "execute_result"
    }
   ],
   "source": [
    "a"
   ]
  },
  {
   "cell_type": "code",
   "execution_count": 138,
   "metadata": {
    "collapsed": false
   },
   "outputs": [
    {
     "data": {
      "text/plain": [
       "4     78.233231\n",
       "6     54.993228\n",
       "8     62.687639\n",
       "10    44.674267\n",
       "12    36.400330\n",
       "14    47.342837\n",
       "16    39.172538\n",
       "18    41.392421\n",
       "20    39.158330\n",
       "22    27.688825\n",
       "24    27.142222\n",
       "26    22.860158\n",
       "28    25.880883\n",
       "30    39.293593\n",
       "32    37.506018\n",
       "34    25.973739\n",
       "36    28.707209\n",
       "38    30.792360\n",
       "dtype: float64"
      ]
     },
     "execution_count": 138,
     "metadata": {},
     "output_type": "execute_result"
    }
   ],
   "source": [
    "b"
   ]
  },
  {
   "cell_type": "code",
   "execution_count": 102,
   "metadata": {
    "collapsed": false
   },
   "outputs": [
    {
     "name": "stdout",
     "output_type": "stream",
     "text": [
      "4     25.538918\n",
      "6     25.543330\n",
      "8     26.165342\n",
      "10    23.708423\n",
      "12    23.468754\n",
      "14    23.105561\n",
      "16    23.050981\n",
      "18    22.828006\n",
      "20    24.320804\n",
      "22    23.497307\n",
      "24    23.505640\n",
      "26    24.019886\n",
      "28    22.932350\n",
      "30    22.666073\n",
      "32    23.756689\n",
      "34    23.911262\n",
      "36    23.401322\n",
      "38    24.063306\n",
      "dtype: float64\n",
      "4     39.260076\n",
      "6     35.458107\n",
      "8     32.286633\n",
      "10    30.805677\n",
      "12    30.102990\n",
      "14    28.978034\n",
      "16    28.619796\n",
      "18    27.452863\n",
      "20    26.861122\n",
      "22    26.656261\n",
      "24    26.402000\n",
      "26    25.919532\n",
      "28    26.456479\n",
      "30    25.515530\n",
      "32    26.074989\n",
      "34    24.860589\n",
      "36    25.033520\n",
      "38    24.906131\n",
      "dtype: float64\n"
     ]
    }
   ],
   "source": [
    "kdd_df = get_kdd_percentage('hvac',params['hvac']['kdd'])\n",
    "print kdd_df\n",
    "\n",
    "kdd_df = get_kdd('hvac',params['hvac']['kdd'])\n",
    "print kdd_df"
   ]
  },
  {
   "cell_type": "code",
   "execution_count": 146,
   "metadata": {
    "collapsed": false
   },
   "outputs": [
    {
     "name": "stdout",
     "output_type": "stream",
     "text": [
      "hvac\n",
      "fridge\n",
      "wm\n",
      "mw\n",
      "'mw'\n",
      "dw\n",
      "oven\n",
      "[Errno 2] No such file or directory: '/Users/nipunbatra/output/unified/unified_all_features_cv/oven_26_10_None_3.pkl'\n",
      "[Errno 2] No such file or directory: '/Users/nipunbatra/output/unified/unified_all_features_cv/oven_28_10_None_3.pkl'\n",
      "[Errno 2] No such file or directory: '/Users/nipunbatra/output/unified/unified_all_features_cv/oven_30_10_None_3.pkl'\n",
      "[Errno 2] No such file or directory: '/Users/nipunbatra/output/unified/unified_all_features_cv/oven_32_10_None_3.pkl'\n",
      "[Errno 2] No such file or directory: '/Users/nipunbatra/output/unified/unified_all_features_cv/oven_34_10_None_3.pkl'\n",
      "[Errno 2] No such file or directory: '/Users/nipunbatra/output/unified/unified_all_features_cv/oven_36_10_None_3.pkl'\n",
      "[Errno 2] No such file or directory: '/Users/nipunbatra/output/unified/unified_all_features_cv/oven_38_10_None_3.pkl'\n",
      "'oven'\n"
     ]
    },
    {
     "data": {
      "image/png": "[encoded data removed]",
      "text/plain": [
       "<matplotlib.figure.Figure at 0x120cda2d0>"
      ]
     },
     "metadata": {},
     "output_type": "display_data"
    }
   ],
   "source": [
    "appliances = [\"hvac\",\"fridge\",\"wm\",\"mw\",\"dw\",\"oven\"]\n",
    "latexify(columns=2)\n",
    "nrows=2\n",
    "ncols=3\n",
    "fig, ax = plt.subplots(nrows=2, ncols=3)\n",
    "for i, appliance in enumerate(appliances):\n",
    "    print appliance\n",
    "    x = i/ncols\n",
    "    y = i%ncols\n",
    "    ubicomp_df, ubicomp_err_df = get_ubicomp(appliance,params[appliance]['ubicomp']) \n",
    "    ubicomp_df.plot(label=\"Ubicomp\", color=tableau20blind[0],ax = ax[x,y], yerr=ubicomp_err_df)\n",
    "    kdd_df, kdd_err = get_kdd(appliance,params[appliance]['kdd'])\n",
    "    \"\"\"\n",
    "    \n",
    "    if appliance==\"hvac\":\n",
    "        kdd_df = get_kdd_percentage('hvac',params['hvac']['kdd'])\n",
    "\n",
    "    else:\n",
    "        kdd_df = get_kdd(appliance,params[appliance]['kdd'])\n",
    "    \"\"\"\n",
    "    kdd_df.plot(label=\"KDD\",color=tableau20blind[2], ax=ax[x,y], yerr=kdd_err)\n",
    "    fhmm_val = get_fhmm(appliance)\n",
    "    fhmm_ser = pd.Series(fhmm_val, index=kdd_df.index)\n",
    "    \n",
    "    fhmm_ser.plot(label=\"FHMM\",color=tableau20blind[4], ax=ax[x,y])\n",
    "    try:\n",
    "        regional_average_val = get_regional_average(appliance)\n",
    "        regional_average_ser = pd.Series(regional_average_val, index=kdd_df.index)\n",
    "        #regional_average_ser.plot(label=\"Regional average\",color=tableau20blind[6], ax=ax[x,y])\n",
    "    except Exception, e:\n",
    "        print e\n",
    "\n",
    "    #plt.ylabel(\"\\% Error in energy\\n(lower is better)\")\n",
    "    #plt.xlabel(\"\\#homes in test region\")\n",
    "    #plt.legend()\n",
    "    #plt.tight_layout()\n",
    "    format_axes(ax[x,y])\n",
    "    ax[x,y].set_title(appliance)\n",
    "    ax[x,y].set_ylim((0, 100))\n",
    "ax[0,0].legend( )\n",
    "#loc = 'upper center', bbox_to_anchor = (0,-0.1,1,1),\n",
    "#            bbox_transform = plt.gcf().transFigure\n",
    "\n",
    "#fig.tight_layout()\n",
    "fig.text(0.5, 0.04, '\\# Homes in test region', ha='center')\n",
    "fig.text(0.04, 0.5, '\\% Energy error \\n(Lower is better)', va='center', rotation='vertical')\n",
    "\n",
    "plt.savefig(\"/Users/nipunbatra/Desktop/result_buildsys.pdf\",bbox_inches=\"tight\")\n",
    "plt.savefig(\"/Users/nipunbatra/Desktop/result_buildsys.png\",bbox_inches=\"tight\")\n"
   ]
  },
  {
   "cell_type": "code",
   "execution_count": 153,
   "metadata": {
    "collapsed": true
   },
   "outputs": [],
   "source": [
    "appliance_name_map = {\n",
    "    'hvac':'HVAC',\n",
    "    'fridge':'Fridge',\n",
    "    'wm':'Washing\\nmachine',\n",
    "    'mw':'Microwave',\n",
    "    'dw':'Dish\\nwasher',\n",
    "    'oven':'Oven'\n",
    "}\n"
   ]
  },
  {
   "cell_type": "code",
   "execution_count": 192,
   "metadata": {
    "collapsed": false
   },
   "outputs": [
    {
     "name": "stdout",
     "output_type": "stream",
     "text": [
      "hvac\n",
      "fridge\n",
      "wm\n",
      "mw\n",
      "'mw'\n",
      "dw\n",
      "oven\n",
      "'oven'\n",
      "[Errno 2] No such file or directory: '/Users/nipunbatra/output/unified/unified_all_features_cv/oven_26_10_None_3.pkl'\n",
      "[Errno 2] No such file or directory: '/Users/nipunbatra/output/unified/unified_all_features_cv/oven_28_10_None_3.pkl'\n",
      "[Errno 2] No such file or directory: '/Users/nipunbatra/output/unified/unified_all_features_cv/oven_30_10_None_3.pkl'\n",
      "[Errno 2] No such file or directory: '/Users/nipunbatra/output/unified/unified_all_features_cv/oven_32_10_None_3.pkl'\n",
      "[Errno 2] No such file or directory: '/Users/nipunbatra/output/unified/unified_all_features_cv/oven_34_10_None_3.pkl'\n",
      "[Errno 2] No such file or directory: '/Users/nipunbatra/output/unified/unified_all_features_cv/oven_36_10_None_3.pkl'\n",
      "[Errno 2] No such file or directory: '/Users/nipunbatra/output/unified/unified_all_features_cv/oven_38_10_None_3.pkl'\n"
     ]
    },
    {
     "data": {
      "image/png": "[encoded data removed]",
      "text/plain": [
       "<matplotlib.figure.Figure at 0x11b380090>"
      ]
     },
     "metadata": {},
     "output_type": "display_data"
    }
   ],
   "source": [
    "appliances = [\"hvac\",\"fridge\",\"wm\",\"mw\",\"dw\",\"oven\"]\n",
    "#appliances=['hvac','fridge','wm']\n",
    "latexify(columns=2, fig_width=6.9, fig_height=2.2)\n",
    "ncols=6\n",
    "fig, ax = plt.subplots(ncols=ncols, sharex=True, sharey=True)\n",
    "for i, appliance in enumerate(appliances):\n",
    "    print appliance\n",
    "    \n",
    "    \n",
    "    kdd_df, kdd_err = get_kdd(appliance,params[appliance]['kdd'])\n",
    "    \"\"\"\n",
    "    \n",
    "    if appliance==\"hvac\":\n",
    "        kdd_df = get_kdd_percentage('hvac',params['hvac']['kdd'])\n",
    "\n",
    "    else:\n",
    "        kdd_df = get_kdd(appliance,params[appliance]['kdd'])\n",
    "    \"\"\"\n",
    "    kdd_df.plot(label=\"Gemello\",color=tableau20blind[6], ax=ax[i], yerr=kdd_err)\n",
    "    fhmm_val = get_fhmm(appliance)\n",
    "    fhmm_ser = pd.Series(fhmm_val, index=kdd_df.index)\n",
    "    fhmm_ser.plot(label=\"FHMM\",color=tableau20blind[0], ax=ax[i])\n",
    "    lbm_val = get_lbm(appliance, 'Austin')\n",
    "    lbm_ser = pd.Series(lbm_val, index=kdd_df.index)\n",
    "    lbm_ser.plot(label='LBM',color=tableau20blind[2],ax=ax[i])\n",
    "    try:\n",
    "        regional_average_val = get_regional_average(appliance)\n",
    "        regional_average_ser = pd.Series(regional_average_val, index=kdd_df.index)\n",
    "        regional_average_ser.plot(label=\"Regional average\",color=tableau20blind[4], ax=ax[i])\n",
    "    except Exception, e:\n",
    "        print e\n",
    "    ubicomp_df, ubicomp_err_df = get_ubicomp(appliance,params[appliance]['ubicomp']) \n",
    "    ubicomp_df.plot(label=\"Vistrit\", color=tableau20blind[8],ax = ax[i], yerr=ubicomp_err_df)\n",
    "    \n",
    "    #plt.ylabel(\"\\% Error in energy\\n(lower is better)\")\n",
    "    #plt.xlabel(\"\\#homes in test region\")\n",
    "    #plt.legend()\n",
    "    #plt.tight_layout()\n",
    "    format_axes(ax[i])\n",
    "    ax[i].set_title(appliance_name_map[appliance])\n",
    "    ax[i].set_ylim((0, 100))\n",
    "    plt.locator_params(axis = 'x', nbins = 6)\n",
    "a = ax[2].legend(ncol=5,loc='upper center', bbox_to_anchor=(0.5, 1.45))\n",
    "#labels = ['Vistrit','Gemello','FHMM','Regional\\naverage']\n",
    "#fig.legend( a.get_lines(), labels, loc = (0.5, 0), ncol=5 )\n",
    "#loc = 'upper center', bbox_to_anchor = (0,-0.1,1,1),\n",
    "#            bbox_transform = plt.gcf().transFigure\n",
    "\n",
    "\n",
    "ax[0].set_ylabel('\\% Energy error \\n(Lower is better)')\n",
    "ax[2].set_xlabel('\\# Homes in test region')\n",
    "#fig.text(0.5, 0.04, '\\# Homes in test region', ha='center')\n",
    "#fig.text(0.04, 0.5, '\\% Energy error \\n(Lower is better)', va='center', rotation='vertical')\n",
    "fig.tight_layout()\n",
    "\n",
    "plt.savefig(\"/Users/nipunbatra/Desktop/result_buildsys.pdf\",bbox_inches=\"tight\")\n",
    "plt.savefig(\"/Users/nipunbatra/Desktop/result_buildsys.png\",bbox_inches=\"tight\")\n"
   ]
  },
  {
   "cell_type": "code",
   "execution_count": 160,
   "metadata": {
    "collapsed": false
   },
   "outputs": [
    {
     "data": {
      "text/plain": [
       "4     30.132168\n",
       "6     30.132168\n",
       "8     30.132168\n",
       "10    30.132168\n",
       "12    30.132168\n",
       "14    30.132168\n",
       "16    30.132168\n",
       "18    30.132168\n",
       "20    30.132168\n",
       "22    30.132168\n",
       "24    30.132168\n",
       "26    30.132168\n",
       "28    30.132168\n",
       "30    30.132168\n",
       "32    30.132168\n",
       "34    30.132168\n",
       "36    30.132168\n",
       "38    30.132168\n",
       "dtype: float64"
      ]
     },
     "execution_count": 160,
     "metadata": {},
     "output_type": "execute_result"
    }
   ],
   "source": [
    "fhmm_ser"
   ]
  },
  {
   "cell_type": "code",
   "execution_count": 157,
   "metadata": {
    "collapsed": false
   },
   "outputs": [
    {
     "data": {
      "image/png": "[encoded data removed]",
      "text/plain": [
       "<matplotlib.figure.Figure at 0x11c517490>"
      ]
     },
     "metadata": {},
     "output_type": "display_data"
    }
   ],
   "source": [
    "def get_lbm(region):\n",
    "    lbm_pred_df = pickle.load(open('../data/output/lbm_15_Austin.pkl'))"
   ]
  },
  {
   "cell_type": "code",
   "execution_count": 174,
   "metadata": {
    "collapsed": false
   },
   "outputs": [],
   "source": [
    "lbm_pred_df = pickle.load(open('../data/output/lbm_15_Austin.pkl'))"
   ]
  },
  {
   "cell_type": "code",
   "execution_count": 188,
   "metadata": {
    "collapsed": false
   },
   "outputs": [],
   "source": [
    "\n"
   ]
  },
  {
   "cell_type": "code",
   "execution_count": 189,
   "metadata": {
    "collapsed": false
   },
   "outputs": [
    {
     "data": {
      "text/plain": [
       "2616.2463764655263"
      ]
     },
     "execution_count": 189,
     "metadata": {},
     "output_type": "execute_result"
    }
   ],
   "source": [
    "error.median().mean()"
   ]
  },
  {
   "cell_type": "code",
   "execution_count": null,
   "metadata": {
    "collapsed": true
   },
   "outputs": [],
   "source": []
  }
 ],
 "metadata": {
  "kernelspec": {
   "display_name": "Python 2",
   "language": "python",
   "name": "python2"
  },
  "language_info": {
   "codemirror_mode": {
    "name": "ipython",
    "version": 2
   },
   "file_extension": ".py",
   "mimetype": "text/x-python",
   "name": "python",
   "nbconvert_exporter": "python",
   "pygments_lexer": "ipython2",
   "version": "2.7.11"
  }
 },
 "nbformat": 4,
 "nbformat_minor": 0
}
