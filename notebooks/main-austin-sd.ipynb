{
 "cells": [
  {
   "cell_type": "code",
   "execution_count": 1,
   "metadata": {
    "collapsed": true
   },
   "outputs": [],
   "source": [
    "import pandas as pd\n",
    "import pickle\n",
    "import sys\n",
    "import matplotlib.pyplot as plt\n",
    "sys.path.append(\"../code/\")\n",
    "out_overall = pickle.load(open('../data/input/all_regions.pkl', 'r'))\n",
    "from common_functions import tableau20blind, format_axes, latexify\n",
    "from regional_average_contribution import contribution"
   ]
  },
  {
   "cell_type": "code",
   "execution_count": 2,
   "metadata": {
    "collapsed": true
   },
   "outputs": [],
   "source": [
    "%matplotlib inline"
   ]
  },
  {
   "cell_type": "code",
   "execution_count": 3,
   "metadata": {
    "collapsed": true
   },
   "outputs": [],
   "source": [
    "def get_fhmm(appliance, test_region='SanDiego'):\n",
    "    count = 0\n",
    "    \n",
    "    test_df = out_overall[test_region]\n",
    "    #test_df=test_df[(test_df.full_agg_available==1)&(test_df.md_available==1)]\n",
    "\n",
    "    if appliance==\"hvac\":\n",
    "        start, stop=5, 11\n",
    "    else:\n",
    "        start, stop=1, 13\n",
    "    out[appliance] = {}\n",
    "    test_df_appliance=test_df.ix[test_df[['%s_%d' %(appliance,month) for month in range(start,stop)]].dropna().index]\n",
    "    for test_home in test_df_appliance.index:\n",
    "        try:\n",
    "            pred_df = pd.read_csv(\"/Users/nipunbatra/wiki-15min-fhmm-out/%s_%d.csv\" %(test_region, test_home),index_col=0)\n",
    "            pred_df_appliance = pred_df[appliance].ix[start:stop-1]\n",
    "            gt_df_appliance = test_df.ix[test_home][['%s_%d' %(appliance, month) for month in range(start, stop)]]\n",
    "            gt_df_appliance.index = pred_df_appliance.index\n",
    "            error = ((pred_df_appliance-gt_df_appliance).abs()*100/gt_df_appliance)\n",
    "            #error[error>100]=100\n",
    "            #acc = 100-error\n",
    "            out[appliance][test_home]=error\n",
    "        except:\n",
    "            pass\n",
    "    return pd.DataFrame(out[appliance]).T.median().mean(), pd.DataFrame(out[appliance]).T.median()"
   ]
  },
  {
   "cell_type": "code",
   "execution_count": 4,
   "metadata": {
    "collapsed": true
   },
   "outputs": [],
   "source": [
    "def get_regional_average(appliance, test_region='Austin'):\n",
    "    contri_austin_appliance = contribution[test_region]['Cooling'][appliance]\n",
    "    if appliance==\"hvac\":\n",
    "        start, stop=5, 11\n",
    "    else:\n",
    "        start, stop=1, 13\n",
    "    test_df = out_overall[test_region]\n",
    "    #test_df=test_df[(test_df.full_agg_available==1)&(test_df.md_available==1)]\n",
    "        \n",
    "    test_df_appliance=test_df.ix[test_df[['%s_%d' %(appliance,month) for month in range(start,stop)]].dropna().index]\n",
    "    pred_df = test_df_appliance[['aggregate_%d' %month for month in range(start, stop)]]*contri_austin_appliance\n",
    "    gt_df = test_df_appliance[['%s_%d' %(appliance, month) for month in range(start, stop)]]\n",
    "    gt_df.columns = pred_df.columns\n",
    "    error = (gt_df-pred_df).abs().div(gt_df).mul(100)\n",
    "    return error.median().mean(), error.median()"
   ]
  },
  {
   "cell_type": "code",
   "execution_count": 5,
   "metadata": {
    "collapsed": true
   },
   "outputs": [],
   "source": [
    "def get_lbm(appliance, region):\n",
    "    if region==\"Austin\":\n",
    "        lbm_pred_df = pickle.load(open('../data/output/lbm_15_Austin.pkl'))\n",
    "    else:\n",
    "        lbm_pred_df = pickle.load(open('../data/output/lbm_15_SD.pkl'))\n",
    "    if appliance==\"hvac\":\n",
    "        start, stop=5, 11\n",
    "    else:\n",
    "        start, stop=1, 13\n",
    "    test_df = out_overall[region]\n",
    "    #test_df=test_df[(test_df.full_agg_available==1)&(test_df.md_available==1)]\n",
    "    pred_df = lbm_pred_df[['%s_%d' %(appliance,month) for month in range(start,stop)]]\n",
    "\n",
    "    test_df_appliance=test_df.ix[test_df[['%s_%d' %(appliance,month) for month in range(start,stop)]].dropna().index]\n",
    "    gt_df = test_df_appliance[['%s_%d' %(appliance, month) for month in range(start, stop)]]\n",
    "    gt_df.columns = pred_df.columns\n",
    "    error = (gt_df-pred_df).abs().div(gt_df).mul(100)\n",
    "    return error.median().mean(), error.median()"
   ]
  },
  {
   "cell_type": "code",
   "execution_count": 6,
   "metadata": {
    "collapsed": false
   },
   "outputs": [],
   "source": [
    "train_region = \"Austin\"\n",
    "test_region = \"SanDiego\"\n",
    "#test_region = \"Austin\"\n",
    "#train_region = \"Boulder\"\n",
    "out_overall = pickle.load(open('../data/input/all_regions.pkl','r'))\n",
    "\n",
    "train_df = out_overall[train_region]\n",
    "test_df = out_overall[test_region]\n",
    "#transform = \"DD\"\n",
    "k=3\n",
    "transformations = [\"None\",\"DD\",\"DD-percentage\",'median-aggregate',\"median-aggregate-percentage\",'regional','regional-percentage']\n",
    "#transformations = ['DD','None',\"DD-fridge\"]"
   ]
  },
  {
   "cell_type": "code",
   "execution_count": 7,
   "metadata": {
    "collapsed": true
   },
   "outputs": [],
   "source": [
    "import os\n",
    "import numpy as np"
   ]
  },
  {
   "cell_type": "code",
   "execution_count": 8,
   "metadata": {
    "collapsed": false
   },
   "outputs": [],
   "source": [
    "out = {}\n",
    "for transform in transformations[:]:\n",
    "    out[transform] = {}\n",
    "    #for appliance in [\"hvac\",\"fridge\",\"dr\",\"wm\"]:\n",
    "    for appliance in ['fridge','wm','oven','mw','dw','hvac']:\n",
    "        if appliance==\"hvac\":\n",
    "            start, stop=5, 11\n",
    "        else:\n",
    "            start, stop=1, 13\n",
    "        out[transform][appliance] = {}\n",
    "        for month in range(start,stop):\n",
    "            out[transform][appliance][month] = {}\n",
    "            for test_home in test_df.index:\n",
    "                try:\n",
    "                    pred =  pickle.load(open(os.path.expanduser('~/ineq_cross/%s_%s_%s_%s_%d_%d_%d.pkl' %(train_region,\n",
    "                                                                                               test_region,\n",
    "                                                                                               transform,\n",
    "                                                                                               appliance,\n",
    "                                                                                               month,\n",
    "                                                                                               test_home,\n",
    "                                                                                               k)),'r'))\n",
    "                    gt = test_df.ix[test_home]['%s_%d' %(appliance, month)]\n",
    "                    error = np.abs(gt-pred)\n",
    "                    percentage_error = error*100/gt\n",
    "                   \n",
    "                    out[transform][appliance][month][test_home] = percentage_error\n",
    "                except Exception, e:\n",
    "                    pass"
   ]
  },
  {
   "cell_type": "code",
   "execution_count": 9,
   "metadata": {
    "collapsed": false
   },
   "outputs": [],
   "source": [
    "o = {}\n",
    "for appliance in ['fridge','hvac','dw','wm','mw','oven']:\n",
    "    o[appliance]={}\n",
    "    for transformation in transformations:\n",
    "        o[appliance][transformation] = pd.DataFrame(out[transformation][appliance]).median().mean()\n",
    "    "
   ]
  },
  {
   "cell_type": "code",
   "execution_count": 10,
   "metadata": {
    "collapsed": true
   },
   "outputs": [],
   "source": [
    "sd_austin_sensitivity_df = pd.DataFrame(o).T"
   ]
  },
  {
   "cell_type": "code",
   "execution_count": 11,
   "metadata": {
    "collapsed": false
   },
   "outputs": [
    {
     "data": {
      "text/html": [
       "<div>\n",
       "<table border=\"1\" class=\"dataframe\">\n",
       "  <thead>\n",
       "    <tr style=\"text-align: right;\">\n",
       "      <th></th>\n",
       "      <th>DD</th>\n",
       "      <th>DD-percentage</th>\n",
       "      <th>None</th>\n",
       "      <th>median-aggregate</th>\n",
       "      <th>median-aggregate-percentage</th>\n",
       "      <th>regional</th>\n",
       "      <th>regional-percentage</th>\n",
       "    </tr>\n",
       "  </thead>\n",
       "  <tbody>\n",
       "    <tr>\n",
       "      <th>dw</th>\n",
       "      <td>97.464846</td>\n",
       "      <td>85.725734</td>\n",
       "      <td>98.039990</td>\n",
       "      <td>83.253913</td>\n",
       "      <td>81.170578</td>\n",
       "      <td>94.277738</td>\n",
       "      <td>91.360469</td>\n",
       "    </tr>\n",
       "    <tr>\n",
       "      <th>fridge</th>\n",
       "      <td>22.911839</td>\n",
       "      <td>24.681317</td>\n",
       "      <td>25.311113</td>\n",
       "      <td>49.203124</td>\n",
       "      <td>47.408082</td>\n",
       "      <td>25.069897</td>\n",
       "      <td>29.359869</td>\n",
       "    </tr>\n",
       "    <tr>\n",
       "      <th>hvac</th>\n",
       "      <td>161.748253</td>\n",
       "      <td>174.194380</td>\n",
       "      <td>389.597911</td>\n",
       "      <td>237.941811</td>\n",
       "      <td>234.615654</td>\n",
       "      <td>169.147599</td>\n",
       "      <td>151.618649</td>\n",
       "    </tr>\n",
       "    <tr>\n",
       "      <th>mw</th>\n",
       "      <td>40.405165</td>\n",
       "      <td>44.258548</td>\n",
       "      <td>50.265087</td>\n",
       "      <td>63.245271</td>\n",
       "      <td>58.312454</td>\n",
       "      <td>40.256870</td>\n",
       "      <td>44.181603</td>\n",
       "    </tr>\n",
       "    <tr>\n",
       "      <th>oven</th>\n",
       "      <td>153.125293</td>\n",
       "      <td>106.784550</td>\n",
       "      <td>154.686657</td>\n",
       "      <td>62.937021</td>\n",
       "      <td>59.892263</td>\n",
       "      <td>142.254365</td>\n",
       "      <td>96.181486</td>\n",
       "    </tr>\n",
       "    <tr>\n",
       "      <th>wm</th>\n",
       "      <td>58.112078</td>\n",
       "      <td>67.448037</td>\n",
       "      <td>50.391513</td>\n",
       "      <td>53.993319</td>\n",
       "      <td>48.856423</td>\n",
       "      <td>54.101156</td>\n",
       "      <td>47.912962</td>\n",
       "    </tr>\n",
       "  </tbody>\n",
       "</table>\n",
       "</div>"
      ],
      "text/plain": [
       "                DD  DD-percentage        None  median-aggregate  \\\n",
       "dw       97.464846      85.725734   98.039990         83.253913   \n",
       "fridge   22.911839      24.681317   25.311113         49.203124   \n",
       "hvac    161.748253     174.194380  389.597911        237.941811   \n",
       "mw       40.405165      44.258548   50.265087         63.245271   \n",
       "oven    153.125293     106.784550  154.686657         62.937021   \n",
       "wm       58.112078      67.448037   50.391513         53.993319   \n",
       "\n",
       "        median-aggregate-percentage    regional  regional-percentage  \n",
       "dw                        81.170578   94.277738            91.360469  \n",
       "fridge                    47.408082   25.069897            29.359869  \n",
       "hvac                     234.615654  169.147599           151.618649  \n",
       "mw                        58.312454   40.256870            44.181603  \n",
       "oven                      59.892263  142.254365            96.181486  \n",
       "wm                        48.856423   54.101156            47.912962  "
      ]
     },
     "execution_count": 11,
     "metadata": {},
     "output_type": "execute_result"
    }
   ],
   "source": [
    "sd_austin_sensitivity_df"
   ]
  },
  {
   "cell_type": "code",
   "execution_count": 12,
   "metadata": {
    "collapsed": false
   },
   "outputs": [
    {
     "data": {
      "text/plain": [
       "5     667.184530\n",
       "6     176.142114\n",
       "7      27.854608\n",
       "8      19.965708\n",
       "9      47.170816\n",
       "10     32.171744\n",
       "dtype: float64"
      ]
     },
     "execution_count": 12,
     "metadata": {},
     "output_type": "execute_result"
    }
   ],
   "source": [
    "pd.DataFrame(out['DD']['hvac']).median()"
   ]
  },
  {
   "cell_type": "code",
   "execution_count": 13,
   "metadata": {
    "collapsed": false
   },
   "outputs": [
    {
     "data": {
      "text/plain": [
       "5     768.429994\n",
       "6     190.817842\n",
       "7      20.963491\n",
       "8      10.445682\n",
       "9      18.445947\n",
       "10     36.063325\n",
       "dtype: float64"
      ]
     },
     "execution_count": 13,
     "metadata": {},
     "output_type": "execute_result"
    }
   ],
   "source": [
    "pd.DataFrame(out['DD-percentage']['hvac']).median()"
   ]
  },
  {
   "cell_type": "code",
   "execution_count": 14,
   "metadata": {
    "collapsed": false
   },
   "outputs": [
    {
     "data": {
      "text/plain": [
       "5     582.711008\n",
       "6     129.062278\n",
       "7      34.454765\n",
       "8      36.573838\n",
       "9      59.476337\n",
       "10     67.433668\n",
       "dtype: float64"
      ]
     },
     "execution_count": 14,
     "metadata": {},
     "output_type": "execute_result"
    }
   ],
   "source": [
    "pd.DataFrame(out['regional-percentage']['hvac']).median()"
   ]
  },
  {
   "cell_type": "code",
   "execution_count": 15,
   "metadata": {
    "collapsed": true
   },
   "outputs": [],
   "source": [
    "best_transform_sd_austin = {'fridge':'DD',\n",
    "                           'hvac':'DD-percentage',\n",
    "                           'wm':'median-aggregate-percentage',\n",
    "                           'mw':'regional',\n",
    "                           'dw':'median-aggregate-percentage',\n",
    "                           'oven':'median-aggregate-percentage'}"
   ]
  },
  {
   "cell_type": "code",
   "execution_count": 16,
   "metadata": {
    "collapsed": false
   },
   "outputs": [],
   "source": [
    "vistrit = pd.Series({appliance:sd_austin_sensitivity_df.loc[appliance, best_transform_sd_austin[appliance]] for appliance in ['fridge','hvac','dw','wm','mw','oven']})"
   ]
  },
  {
   "cell_type": "code",
   "execution_count": 17,
   "metadata": {
    "collapsed": false
   },
   "outputs": [
    {
     "data": {
      "text/plain": [
       "dw         81.170578\n",
       "fridge     22.911839\n",
       "hvac      174.194380\n",
       "mw         40.256870\n",
       "oven       59.892263\n",
       "wm         48.856423\n",
       "dtype: float64"
      ]
     },
     "execution_count": 17,
     "metadata": {},
     "output_type": "execute_result"
    }
   ],
   "source": [
    "vistrit"
   ]
  },
  {
   "cell_type": "code",
   "execution_count": 18,
   "metadata": {
    "collapsed": false
   },
   "outputs": [],
   "source": [
    "regional_average_results={}\n",
    "for appliance in ['fridge','hvac','dw','wm','mw','oven']:\n",
    "    try:\n",
    "        regional_average_results[appliance] = get_regional_average(appliance,'SanDiego')[0]\n",
    "    except:\n",
    "        pass\n",
    "regional_average_results = pd.Series(regional_average_results)"
   ]
  },
  {
   "cell_type": "code",
   "execution_count": 19,
   "metadata": {
    "collapsed": false
   },
   "outputs": [
    {
     "data": {
      "text/plain": [
       "dw         78.839639\n",
       "fridge     31.610986\n",
       "hvac      186.109032\n",
       "wm         25.357839\n",
       "dtype: float64"
      ]
     },
     "execution_count": 19,
     "metadata": {},
     "output_type": "execute_result"
    }
   ],
   "source": [
    "regional_average_results"
   ]
  },
  {
   "cell_type": "code",
   "execution_count": 20,
   "metadata": {
    "collapsed": true
   },
   "outputs": [],
   "source": [
    "lbm_results={}\n",
    "for appliance in ['fridge','hvac','dw','wm','mw','oven']:\n",
    "    try:\n",
    "        lbm_results[appliance] = get_lbm(appliance,'SanDiego')[0]\n",
    "    except:\n",
    "        pass\n",
    "lbm_results = pd.Series(lbm_results)"
   ]
  },
  {
   "cell_type": "code",
   "execution_count": 21,
   "metadata": {
    "collapsed": false
   },
   "outputs": [
    {
     "data": {
      "text/plain": [
       "dw        119.119638\n",
       "fridge     24.963334\n",
       "hvac      801.565733\n",
       "mw         84.575592\n",
       "oven      298.296037\n",
       "wm         68.713143\n",
       "dtype: float64"
      ]
     },
     "execution_count": 21,
     "metadata": {},
     "output_type": "execute_result"
    }
   ],
   "source": [
    "lbm_results"
   ]
  },
  {
   "cell_type": "code",
   "execution_count": 22,
   "metadata": {
    "collapsed": true
   },
   "outputs": [],
   "source": [
    "fhmm_results={}\n",
    "for appliance in ['fridge','hvac','dw','wm','mw','oven']:\n",
    "    try:\n",
    "        fhmm_results[appliance] = get_fhmm(appliance,'SanDiego')[0]\n",
    "    except:\n",
    "        pass\n",
    "fhmm_results = pd.Series(fhmm_results)"
   ]
  },
  {
   "cell_type": "code",
   "execution_count": 23,
   "metadata": {
    "collapsed": false
   },
   "outputs": [
    {
     "data": {
      "text/plain": [
       "dw        1149.002583\n",
       "fridge      44.812767\n",
       "hvac       348.831626\n",
       "mw         665.923213\n",
       "oven      1079.187722\n",
       "wm         764.493403\n",
       "dtype: float64"
      ]
     },
     "execution_count": 23,
     "metadata": {},
     "output_type": "execute_result"
    }
   ],
   "source": [
    "fhmm_results"
   ]
  },
  {
   "cell_type": "code",
   "execution_count": 24,
   "metadata": {
    "collapsed": true
   },
   "outputs": [],
   "source": [
    "austin_sd_results = pd.DataFrame({\"FHMM\":fhmm_results,\"Regional average\":regional_average_results,\n",
    "                                 \"LBM\":lbm_results,'Vistrit':vistrit})"
   ]
  },
  {
   "cell_type": "code",
   "execution_count": 25,
   "metadata": {
    "collapsed": false
   },
   "outputs": [],
   "source": [
    "austin_sd_results = austin_sd_results.ix[['fridge','hvac','wm','mw','dw','oven']]"
   ]
  },
  {
   "cell_type": "code",
   "execution_count": 26,
   "metadata": {
    "collapsed": true
   },
   "outputs": [],
   "source": [
    "austin_sd_results.index = ['Fridge','HVAC','Washing\\nmachine','Micro-\\nwave','Dish\\nwasher','Oven']"
   ]
  },
  {
   "cell_type": "code",
   "execution_count": 27,
   "metadata": {
    "collapsed": false
   },
   "outputs": [
    {
     "name": "stderr",
     "output_type": "stream",
     "text": [
      "/Users/nipunbatra/anaconda/lib/python2.7/site-packages/matplotlib/__init__.py:872: UserWarning: axes.color_cycle is deprecated and replaced with axes.prop_cycle; please use the latter.\n",
      "  warnings.warn(self.msg_depr % (key, alt_key))\n",
      "/Users/nipunbatra/anaconda/lib/python2.7/site-packages/matplotlib/__init__.py:872: UserWarning: text.fontsize is deprecated and replaced with font.size; please use the latter.\n",
      "  warnings.warn(self.msg_depr % (key, alt_key))\n"
     ]
    }
   ],
   "source": [
    "latexify(columns=1)"
   ]
  },
  {
   "cell_type": "code",
   "execution_count": 28,
   "metadata": {
    "collapsed": false
   },
   "outputs": [
    {
     "name": "stderr",
     "output_type": "stream",
     "text": [
      "/Users/nipunbatra/anaconda/lib/python2.7/site-packages/pandas/tools/plotting.py:929: UserWarning: 'colors' is being deprecated. Please use 'color'instead of 'colors'\n",
      "  warnings.warn((\"'colors' is being deprecated. Please use 'color'\"\n"
     ]
    },
    {
     "data": {
      "image/png": "[encoded data removed]",
      "text/plain": [
       "<matplotlib.figure.Figure at 0x114a1ee10>"
      ]
     },
     "metadata": {},
     "output_type": "display_data"
    }
   ],
   "source": [
    "colors = [tableau20blind[x] for x in [1,3,5, 8]]\n",
    "austin_sd_results.plot(kind=\"bar\", logy=True, rot=0, colors=colors).legend(ncol=2)\n",
    "format_axes(plt.gca())\n",
    "plt.ylabel(\"Energy Error(\\%)\\n(Lower is better)\\n[Shown on log scale]\")\n",
    "plt.savefig('../results/austin_sd.pdf',bbox_inches=\"tight\")"
   ]
  },
  {
   "cell_type": "code",
   "execution_count": 30,
   "metadata": {
    "collapsed": false
   },
   "outputs": [],
   "source": [
    "hvac_vistrit = pd.DataFrame(out['DD-percentage']['hvac']).median()"
   ]
  },
  {
   "cell_type": "code",
   "execution_count": 31,
   "metadata": {
    "collapsed": false
   },
   "outputs": [
    {
     "data": {
      "text/plain": [
       "5     3823.433244\n",
       "6      684.493837\n",
       "7      110.765458\n",
       "8       52.806074\n",
       "9       28.268701\n",
       "10     109.627086\n",
       "dtype: float64"
      ]
     },
     "execution_count": 31,
     "metadata": {},
     "output_type": "execute_result"
    }
   ],
   "source": [
    "hvac_lbm = get_lbm(\"hvac\",'SanDiego')[1]\n",
    "hvac_lbm.index = hvac_vistrit.index\n",
    "hvac_lbm"
   ]
  },
  {
   "cell_type": "code",
   "execution_count": 32,
   "metadata": {
    "collapsed": false
   },
   "outputs": [
    {
     "data": {
      "text/plain": [
       "5     1893.887897\n",
       "6      111.280708\n",
       "7       16.562889\n",
       "8       25.061188\n",
       "9       32.438532\n",
       "10      13.758540\n",
       "dtype: float64"
      ]
     },
     "execution_count": 32,
     "metadata": {},
     "output_type": "execute_result"
    }
   ],
   "source": [
    "hvac_fhmm = get_fhmm(\"hvac\",'SanDiego')[1]\n",
    "hvac_fhmm.index = hvac_vistrit.index\n",
    "hvac_fhmm"
   ]
  },
  {
   "cell_type": "code",
   "execution_count": 33,
   "metadata": {
    "collapsed": false
   },
   "outputs": [
    {
     "data": {
      "text/plain": [
       "5     760.973139\n",
       "6      71.025877\n",
       "7      70.543116\n",
       "8      75.268387\n",
       "9      77.074877\n",
       "10     61.768798\n",
       "dtype: float64"
      ]
     },
     "execution_count": 33,
     "metadata": {},
     "output_type": "execute_result"
    }
   ],
   "source": [
    "hvac_ra = get_regional_average(\"hvac\",'SanDiego')[1]\n",
    "hvac_ra.index = hvac_vistrit.index\n",
    "hvac_ra"
   ]
  },
  {
   "cell_type": "code",
   "execution_count": 34,
   "metadata": {
    "collapsed": false
   },
   "outputs": [],
   "source": [
    "hvac_sensitivity = pd.DataFrame({\"FHMM\":hvac_fhmm,\"LBM\":hvac_lbm,\"Regional average\":hvac_ra,\"Vistrit\":hvac_vistrit})"
   ]
  },
  {
   "cell_type": "code",
   "execution_count": 38,
   "metadata": {
    "collapsed": false
   },
   "outputs": [
    {
     "data": {
      "image/png": "[encoded data removed]",
      "text/plain": [
       "<matplotlib.figure.Figure at 0x11a9bf8d0>"
      ]
     },
     "metadata": {},
     "output_type": "display_data"
    }
   ],
   "source": [
    "latexify(columns=1, fig_height=1.5)\n",
    "hvac_sensitivity.plot(kind=\"bar\", logy=True,rot=0, colors=colors)\n",
    "plt.xlabel(\"Month of year\")\n",
    "format_axes(plt.gca())\n",
    "plt.ylabel(\"Energy Error(\\%) for HVAC\\n(Lower is better)\\n[Shown on log scale]\")\n",
    "plt.savefig('../results/austin_sd_hvac.pdf',bbox_inches=\"tight\")"
   ]
  },
  {
   "cell_type": "code",
   "execution_count": 33,
   "metadata": {
    "collapsed": true
   },
   "outputs": [],
   "source": [
    "def prepare_sensitivity_df(df):\n",
    "    df = df[['None','DD',\n",
    "     'DD-percentage',\n",
    "     'median-aggregate',\n",
    "     'median-aggregate-percentage',\n",
    "     'regional',\n",
    "     'regional-percentage']]\n",
    "    df.columns = [('None','Energy'),('Degree days','Energy'),('Degree days','Proportion'),\n",
    "              ('Median aggregate','Energy'),('Median aggregate','Proportion'),\n",
    "             ('Regional average','Energy'),('Regional average','Proportion')]\n",
    "    df = df.ix[['fridge','hvac','wm','mw','dw','oven']]\n",
    "    df.index = ['Fridge','HVAC','Washing\\nmachine','Micro-\\wave','Dish\\nwasher','Oven']\n",
    "    return df\n"
   ]
  },
  {
   "cell_type": "code",
   "execution_count": 34,
   "metadata": {
    "collapsed": true
   },
   "outputs": [],
   "source": [
    "sd_austin_sensitivity_df = prepare_sensitivity_df(sd_austin_sensitivity_df)"
   ]
  },
  {
   "cell_type": "code",
   "execution_count": 36,
   "metadata": {
    "collapsed": false
   },
   "outputs": [
    {
     "data": {
      "text/html": [
       "<div>\n",
       "<table border=\"1\" class=\"dataframe\">\n",
       "  <thead>\n",
       "    <tr style=\"text-align: right;\">\n",
       "      <th></th>\n",
       "      <th>(None, Energy)</th>\n",
       "      <th>(Degree days, Energy)</th>\n",
       "      <th>(Degree days, Proportion)</th>\n",
       "      <th>(Median aggregate, Energy)</th>\n",
       "      <th>(Median aggregate, Proportion)</th>\n",
       "      <th>(Regional average, Energy)</th>\n",
       "      <th>(Regional average, Proportion)</th>\n",
       "    </tr>\n",
       "  </thead>\n",
       "  <tbody>\n",
       "    <tr>\n",
       "      <th>Fridge</th>\n",
       "      <td>24.128198</td>\n",
       "      <td>23.342505</td>\n",
       "      <td>50.743108</td>\n",
       "      <td>114.031521</td>\n",
       "      <td>115.146362</td>\n",
       "      <td>23.569190</td>\n",
       "      <td>50.400313</td>\n",
       "    </tr>\n",
       "    <tr>\n",
       "      <th>HVAC</th>\n",
       "      <td>59.409228</td>\n",
       "      <td>44.067202</td>\n",
       "      <td>26.634442</td>\n",
       "      <td>45.789630</td>\n",
       "      <td>44.567010</td>\n",
       "      <td>57.618993</td>\n",
       "      <td>42.504396</td>\n",
       "    </tr>\n",
       "    <tr>\n",
       "      <th>Washing\\nmachine</th>\n",
       "      <td>49.915222</td>\n",
       "      <td>49.881359</td>\n",
       "      <td>156.769185</td>\n",
       "      <td>150.403044</td>\n",
       "      <td>175.704316</td>\n",
       "      <td>49.847082</td>\n",
       "      <td>132.384986</td>\n",
       "    </tr>\n",
       "    <tr>\n",
       "      <th>Micro-\\wave</th>\n",
       "      <td>100.679071</td>\n",
       "      <td>74.783124</td>\n",
       "      <td>67.988560</td>\n",
       "      <td>226.434338</td>\n",
       "      <td>177.786037</td>\n",
       "      <td>156.445856</td>\n",
       "      <td>156.875642</td>\n",
       "    </tr>\n",
       "    <tr>\n",
       "      <th>Dish\\nwasher</th>\n",
       "      <td>63.309244</td>\n",
       "      <td>63.846612</td>\n",
       "      <td>96.856467</td>\n",
       "      <td>87.461178</td>\n",
       "      <td>86.588917</td>\n",
       "      <td>66.420398</td>\n",
       "      <td>89.754732</td>\n",
       "    </tr>\n",
       "    <tr>\n",
       "      <th>Oven</th>\n",
       "      <td>51.619391</td>\n",
       "      <td>49.990886</td>\n",
       "      <td>133.579291</td>\n",
       "      <td>86.376343</td>\n",
       "      <td>136.489064</td>\n",
       "      <td>70.621527</td>\n",
       "      <td>65.341836</td>\n",
       "    </tr>\n",
       "  </tbody>\n",
       "</table>\n",
       "</div>"
      ],
      "text/plain": [
       "                  (None, Energy)  (Degree days, Energy)  \\\n",
       "Fridge                 24.128198              23.342505   \n",
       "HVAC                   59.409228              44.067202   \n",
       "Washing\\nmachine       49.915222              49.881359   \n",
       "Micro-\\wave           100.679071              74.783124   \n",
       "Dish\\nwasher           63.309244              63.846612   \n",
       "Oven                   51.619391              49.990886   \n",
       "\n",
       "                  (Degree days, Proportion)  (Median aggregate, Energy)  \\\n",
       "Fridge                            50.743108                  114.031521   \n",
       "HVAC                              26.634442                   45.789630   \n",
       "Washing\\nmachine                 156.769185                  150.403044   \n",
       "Micro-\\wave                       67.988560                  226.434338   \n",
       "Dish\\nwasher                      96.856467                   87.461178   \n",
       "Oven                             133.579291                   86.376343   \n",
       "\n",
       "                  (Median aggregate, Proportion)  (Regional average, Energy)  \\\n",
       "Fridge                                115.146362                   23.569190   \n",
       "HVAC                                   44.567010                   57.618993   \n",
       "Washing\\nmachine                      175.704316                   49.847082   \n",
       "Micro-\\wave                           177.786037                  156.445856   \n",
       "Dish\\nwasher                           86.588917                   66.420398   \n",
       "Oven                                  136.489064                   70.621527   \n",
       "\n",
       "                  (Regional average, Proportion)  \n",
       "Fridge                                 50.400313  \n",
       "HVAC                                   42.504396  \n",
       "Washing\\nmachine                      132.384986  \n",
       "Micro-\\wave                           156.875642  \n",
       "Dish\\nwasher                           89.754732  \n",
       "Oven                                   65.341836  "
      ]
     },
     "execution_count": 36,
     "metadata": {},
     "output_type": "execute_result"
    }
   ],
   "source": [
    "sd_austin_sensitivity_df"
   ]
  },
  {
   "cell_type": "code",
   "execution_count": 37,
   "metadata": {
    "collapsed": true
   },
   "outputs": [],
   "source": []
  },
  {
   "cell_type": "code",
   "execution_count": 35,
   "metadata": {
    "collapsed": false
   },
   "outputs": [],
   "source": [
    "pickle.dump(sd_austin_sensitivity_df, open('../data/output/sd_austin_sensitivity_transform.pkl','w'))"
   ]
  },
  {
   "cell_type": "code",
   "execution_count": 8,
   "metadata": {
    "collapsed": false
   },
   "outputs": [
    {
     "data": {
      "text/plain": [
       "50.743107772985155"
      ]
     },
     "execution_count": 8,
     "metadata": {},
     "output_type": "execute_result"
    }
   ],
   "source": [
    "pd.DataFrame(out['DD-percentage']['fridge']).median().mean()"
   ]
  },
  {
   "cell_type": "code",
   "execution_count": 15,
   "metadata": {
    "collapsed": false
   },
   "outputs": [],
   "source": [
    "o = {}\n",
    "for transformation in transformations:\n",
    "    o[transformation] = pd.DataFrame(out[transformation]['oven']).median().mean()\n",
    "    "
   ]
  },
  {
   "cell_type": "code",
   "execution_count": 16,
   "metadata": {
    "collapsed": false
   },
   "outputs": [
    {
     "data": {
      "text/plain": [
       "DD                              49.990886\n",
       "DD-percentage                  133.579291\n",
       "None                            51.619391\n",
       "median-aggregate                86.376343\n",
       "median-aggregate-percentage    136.489064\n",
       "regional                        70.621527\n",
       "regional-percentage             65.341836\n",
       "dtype: float64"
      ]
     },
     "execution_count": 16,
     "metadata": {},
     "output_type": "execute_result"
    }
   ],
   "source": [
    "pd.Series(o)"
   ]
  },
  {
   "cell_type": "code",
   "execution_count": 38,
   "metadata": {
    "collapsed": false
   },
   "outputs": [
    {
     "data": {
      "text/html": [
       "<div>\n",
       "<table border=\"1\" class=\"dataframe\">\n",
       "  <thead>\n",
       "    <tr style=\"text-align: right;\">\n",
       "      <th></th>\n",
       "      <th>(None, Energy)</th>\n",
       "      <th>(Degree days, Energy)</th>\n",
       "      <th>(Degree days, Proportion)</th>\n",
       "      <th>(Median aggregate, Energy)</th>\n",
       "      <th>(Median aggregate, Proportion)</th>\n",
       "      <th>(Regional average, Energy)</th>\n",
       "      <th>(Regional average, Proportion)</th>\n",
       "    </tr>\n",
       "  </thead>\n",
       "  <tbody>\n",
       "    <tr>\n",
       "      <th>Fridge</th>\n",
       "      <td>24.128198</td>\n",
       "      <td>23.342505</td>\n",
       "      <td>50.743108</td>\n",
       "      <td>114.031521</td>\n",
       "      <td>115.146362</td>\n",
       "      <td>23.569190</td>\n",
       "      <td>50.400313</td>\n",
       "    </tr>\n",
       "    <tr>\n",
       "      <th>HVAC</th>\n",
       "      <td>59.409228</td>\n",
       "      <td>44.067202</td>\n",
       "      <td>26.634442</td>\n",
       "      <td>45.789630</td>\n",
       "      <td>44.567010</td>\n",
       "      <td>57.618993</td>\n",
       "      <td>42.504396</td>\n",
       "    </tr>\n",
       "    <tr>\n",
       "      <th>Washing\\nmachine</th>\n",
       "      <td>49.915222</td>\n",
       "      <td>49.881359</td>\n",
       "      <td>156.769185</td>\n",
       "      <td>150.403044</td>\n",
       "      <td>175.704316</td>\n",
       "      <td>49.847082</td>\n",
       "      <td>132.384986</td>\n",
       "    </tr>\n",
       "    <tr>\n",
       "      <th>Micro-\\wave</th>\n",
       "      <td>100.679071</td>\n",
       "      <td>74.783124</td>\n",
       "      <td>67.988560</td>\n",
       "      <td>226.434338</td>\n",
       "      <td>177.786037</td>\n",
       "      <td>156.445856</td>\n",
       "      <td>156.875642</td>\n",
       "    </tr>\n",
       "    <tr>\n",
       "      <th>Dish\\nwasher</th>\n",
       "      <td>63.309244</td>\n",
       "      <td>63.846612</td>\n",
       "      <td>96.856467</td>\n",
       "      <td>87.461178</td>\n",
       "      <td>86.588917</td>\n",
       "      <td>66.420398</td>\n",
       "      <td>89.754732</td>\n",
       "    </tr>\n",
       "    <tr>\n",
       "      <th>Oven</th>\n",
       "      <td>51.619391</td>\n",
       "      <td>49.990886</td>\n",
       "      <td>133.579291</td>\n",
       "      <td>86.376343</td>\n",
       "      <td>136.489064</td>\n",
       "      <td>70.621527</td>\n",
       "      <td>65.341836</td>\n",
       "    </tr>\n",
       "  </tbody>\n",
       "</table>\n",
       "</div>"
      ],
      "text/plain": [
       "                  (None, Energy)  (Degree days, Energy)  \\\n",
       "Fridge                 24.128198              23.342505   \n",
       "HVAC                   59.409228              44.067202   \n",
       "Washing\\nmachine       49.915222              49.881359   \n",
       "Micro-\\wave           100.679071              74.783124   \n",
       "Dish\\nwasher           63.309244              63.846612   \n",
       "Oven                   51.619391              49.990886   \n",
       "\n",
       "                  (Degree days, Proportion)  (Median aggregate, Energy)  \\\n",
       "Fridge                            50.743108                  114.031521   \n",
       "HVAC                              26.634442                   45.789630   \n",
       "Washing\\nmachine                 156.769185                  150.403044   \n",
       "Micro-\\wave                       67.988560                  226.434338   \n",
       "Dish\\nwasher                      96.856467                   87.461178   \n",
       "Oven                             133.579291                   86.376343   \n",
       "\n",
       "                  (Median aggregate, Proportion)  (Regional average, Energy)  \\\n",
       "Fridge                                115.146362                   23.569190   \n",
       "HVAC                                   44.567010                   57.618993   \n",
       "Washing\\nmachine                      175.704316                   49.847082   \n",
       "Micro-\\wave                           177.786037                  156.445856   \n",
       "Dish\\nwasher                           86.588917                   66.420398   \n",
       "Oven                                  136.489064                   70.621527   \n",
       "\n",
       "                  (Regional average, Proportion)  \n",
       "Fridge                                 50.400313  \n",
       "HVAC                                   42.504396  \n",
       "Washing\\nmachine                      132.384986  \n",
       "Micro-\\wave                           156.875642  \n",
       "Dish\\nwasher                           89.754732  \n",
       "Oven                                   65.341836  "
      ]
     },
     "execution_count": 38,
     "metadata": {},
     "output_type": "execute_result"
    }
   ],
   "source": [
    "sd_austin_sensitivity_df"
   ]
  },
  {
   "cell_type": "code",
   "execution_count": null,
   "metadata": {
    "collapsed": true
   },
   "outputs": [],
   "source": []
  }
 ],
 "metadata": {
  "kernelspec": {
   "display_name": "Python 2",
   "language": "python",
   "name": "python2"
  },
  "language_info": {
   "codemirror_mode": {
    "name": "ipython",
    "version": 2
   },
   "file_extension": ".py",
   "mimetype": "text/x-python",
   "name": "python",
   "nbconvert_exporter": "python",
   "pygments_lexer": "ipython2",
   "version": "2.7.11"
  }
 },
 "nbformat": 4,
 "nbformat_minor": 0
}
