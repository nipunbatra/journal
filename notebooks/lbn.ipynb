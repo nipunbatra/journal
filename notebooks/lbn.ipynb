{
 "cells": [
  {
   "cell_type": "code",
   "execution_count": 3,
   "metadata": {
    "collapsed": true
   },
   "outputs": [],
   "source": [
    "import warnings\n",
    "import os\n",
    "warnings.filterwarnings('ignore')"
   ]
  },
  {
   "cell_type": "code",
   "execution_count": 4,
   "metadata": {
    "collapsed": false
   },
   "outputs": [],
   "source": [
    "import pandas as pd\n",
    "st = pd.HDFStore(os.path.expanduser(\"/Users/nipunbatra/wiki-all.h5\"))"
   ]
  },
  {
   "cell_type": "code",
   "execution_count": 13,
   "metadata": {
    "collapsed": false
   },
   "outputs": [
    {
     "data": {
      "text/plain": [
       "DatetimeIndex(['2014-01-16 00:00:00-06:00', '2014-01-16 01:00:00-06:00',\n",
       "               '2014-01-16 02:00:00-06:00', '2014-01-16 03:00:00-06:00',\n",
       "               '2014-01-16 04:00:00-06:00'],\n",
       "              dtype='datetime64[ns, US/Central]', freq=None)"
      ]
     },
     "execution_count": 13,
     "metadata": {},
     "output_type": "execute_result"
    }
   ],
   "source": [
    "st['/54']['2014'].head().index"
   ]
  },
  {
   "cell_type": "code",
   "execution_count": 5,
   "metadata": {
    "collapsed": true
   },
   "outputs": [],
   "source": [
    "metadata_df = pd.read_csv(\"/Users/nipunbatra/w/dataport-metadata.csv\",index_col=0)\n"
   ]
  },
  {
   "cell_type": "code",
   "execution_count": 6,
   "metadata": {
    "collapsed": true
   },
   "outputs": [],
   "source": [
    "sd_data = metadata_df[metadata_df['city'] == \"San Diego\"]\n"
   ]
  },
  {
   "cell_type": "code",
   "execution_count": 9,
   "metadata": {
    "collapsed": true
   },
   "outputs": [],
   "source": [
    "sd_homes = sd_data.index.values.astype('int')"
   ]
  },
  {
   "cell_type": "code",
   "execution_count": 4,
   "metadata": {
    "collapsed": false
   },
   "outputs": [
    {
     "name": "stdout",
     "output_type": "stream",
     "text": [
      "hvac\n",
      "light\n",
      "wm\n",
      "fridge\n",
      "dw\n",
      "dr\n"
     ]
    }
   ],
   "source": [
    "out_df = {}\n",
    "mat_appliance={}\n",
    "for appliance_name, appliance_homes in all_homes.iteritems():\n",
    "    print appliance_name\n",
    "    #for appliance_name, appliance_homes in {\"fridge\":all_homes[\"fridge\"]}.iteritems():\n",
    "    out_df[appliance_name] = []\n",
    "    for home in appliance_homes:\n",
    "        df_st = st['%d' %home]['2014']\n",
    "        cols = df_st.columns\n",
    "        if appliance_name==\"fridge\":\n",
    "            df = df_st['refrigerator1'].resample(\"15T\").astype('float64').head(96*100)\n",
    "        elif appliance_name==\"hvac\":\n",
    "            df = df_st['air1']['2014-5-1':'2014-10-31'].resample(\"15T\").astype('float64')\n",
    "            if 'air2' in cols:\n",
    "                df+= df_st['air2']['2014-5-1':'2014-10-31'].resample(\"15T\").astype('float64')\n",
    "        elif appliance_name==\"wm\":\n",
    "            df = df_st['clotheswasher1'].resample(\"15T\").astype('float64').head(96*100).astype('float64')\n",
    "        elif appliance_name==\"dw\":\n",
    "            df = df_st['dishwasher1'].resample(\"15T\").astype('float64').head(96*100).astype('float64')\n",
    "        elif appliance_name==\"mw\":\n",
    "            df = df_st['microwave1'].resample(\"15T\").astype('float64').head(96*100).astype('float64')\n",
    "        elif appliance_name==\"oven\":\n",
    "            df = df_st['oven1'].resample(\"15T\").astype('float64').head(96*100).astype('float64')\n",
    "       \n",
    "        \n",
    "        \n",
    "        df = df.groupby(level=0).last()\n",
    "        df = pd.DataFrame(df)\n",
    "        df.columns=['power']\n",
    "        df[\"day\"] = df.index.dayofyear\n",
    "        df[\"minute\"] = df.index.hour*60 + df.index.minute\n",
    "        df = df.pivot(index=\"day\", values=\"power\",columns=\"minute\")\n",
    "        out_df[appliance_name].append(df)\n",
    "    mat_appliance[appliance_name] = pd.concat(out_df[appliance_name]).values"
   ]
  },
  {
   "cell_type": "markdown",
   "metadata": {},
   "source": [
    "Getting fridge data"
   ]
  },
  {
   "cell_type": "code",
   "execution_count": 4,
   "metadata": {
    "collapsed": true
   },
   "outputs": [],
   "source": [
    "from nilmtk import *\n",
    "import nilmtk"
   ]
  },
  {
   "cell_type": "code",
   "execution_count": 5,
   "metadata": {
    "collapsed": false
   },
   "outputs": [],
   "source": [
    "out_df = []\n",
    "for home in [370, 545]:\n",
    "    df = st['%d' %home]['2013'][['refrigerator1']].resample(\"15T\").head(96*28).astype('float64')\n",
    "    df = df.groupby(level=0).last()\n",
    "    df[\"day\"] = df.index.dayofyear\n",
    "    df[\"minute\"] = df.index.hour*60 + df.index.minute\n",
    "    df = df.pivot(index=\"day\", values=\"refrigerator1\",columns=\"minute\")\n",
    "    out_df.append(df)"
   ]
  },
  {
   "cell_type": "code",
   "execution_count": 6,
   "metadata": {
    "collapsed": false
   },
   "outputs": [
    {
     "name": "stderr",
     "output_type": "stream",
     "text": [
      "/Users/nipunbatra/anaconda/lib/python2.7/site-packages/IPython/core/formatters.py:90: DeprecationWarning: DisplayFormatter._ipython_display_formatter_default is deprecated: use @default decorator instead.\n",
      "  def _ipython_display_formatter_default(self):\n",
      "/Users/nipunbatra/anaconda/lib/python2.7/site-packages/IPython/core/formatters.py:96: DeprecationWarning: DisplayFormatter._formatters_default is deprecated: use @default decorator instead.\n",
      "  def _formatters_default(self):\n",
      "/Users/nipunbatra/anaconda/lib/python2.7/site-packages/IPython/core/formatters.py:675: DeprecationWarning: PlainTextFormatter._deferred_printers_default is deprecated: use @default decorator instead.\n",
      "  def _deferred_printers_default(self):\n",
      "/Users/nipunbatra/anaconda/lib/python2.7/site-packages/IPython/core/formatters.py:667: DeprecationWarning: PlainTextFormatter._singleton_printers_default is deprecated: use @default decorator instead.\n",
      "  def _singleton_printers_default(self):\n",
      "/Users/nipunbatra/anaconda/lib/python2.7/site-packages/IPython/core/formatters.py:670: DeprecationWarning: PlainTextFormatter._type_printers_default is deprecated: use @default decorator instead.\n",
      "  def _type_printers_default(self):\n",
      "/Users/nipunbatra/anaconda/lib/python2.7/site-packages/IPython/core/formatters.py:667: DeprecationWarning: PlainTextFormatter._singleton_printers_default is deprecated: use @default decorator instead.\n",
      "  def _singleton_printers_default(self):\n",
      "/Users/nipunbatra/anaconda/lib/python2.7/site-packages/IPython/core/formatters.py:670: DeprecationWarning: PlainTextFormatter._type_printers_default is deprecated: use @default decorator instead.\n",
      "  def _type_printers_default(self):\n",
      "/Users/nipunbatra/anaconda/lib/python2.7/site-packages/IPython/core/formatters.py:675: DeprecationWarning: PlainTextFormatter._deferred_printers_default is deprecated: use @default decorator instead.\n",
      "  def _deferred_printers_default(self):\n"
     ]
    },
    {
     "data": {
      "text/html": [
       "<div>\n",
       "<table border=\"1\" class=\"dataframe\">\n",
       "  <thead>\n",
       "    <tr style=\"text-align: right;\">\n",
       "      <th>minute</th>\n",
       "      <th>0</th>\n",
       "      <th>15</th>\n",
       "      <th>30</th>\n",
       "      <th>45</th>\n",
       "      <th>60</th>\n",
       "      <th>75</th>\n",
       "      <th>90</th>\n",
       "      <th>105</th>\n",
       "      <th>120</th>\n",
       "      <th>135</th>\n",
       "      <th>...</th>\n",
       "      <th>1290</th>\n",
       "      <th>1305</th>\n",
       "      <th>1320</th>\n",
       "      <th>1335</th>\n",
       "      <th>1350</th>\n",
       "      <th>1365</th>\n",
       "      <th>1380</th>\n",
       "      <th>1395</th>\n",
       "      <th>1410</th>\n",
       "      <th>1425</th>\n",
       "    </tr>\n",
       "    <tr>\n",
       "      <th>day</th>\n",
       "      <th></th>\n",
       "      <th></th>\n",
       "      <th></th>\n",
       "      <th></th>\n",
       "      <th></th>\n",
       "      <th></th>\n",
       "      <th></th>\n",
       "      <th></th>\n",
       "      <th></th>\n",
       "      <th></th>\n",
       "      <th></th>\n",
       "      <th></th>\n",
       "      <th></th>\n",
       "      <th></th>\n",
       "      <th></th>\n",
       "      <th></th>\n",
       "      <th></th>\n",
       "      <th></th>\n",
       "      <th></th>\n",
       "      <th></th>\n",
       "      <th></th>\n",
       "    </tr>\n",
       "  </thead>\n",
       "  <tbody>\n",
       "    <tr>\n",
       "      <th>1</th>\n",
       "      <td>116.733330</td>\n",
       "      <td>3.066667</td>\n",
       "      <td>3.066667</td>\n",
       "      <td>48.666668</td>\n",
       "      <td>84.466667</td>\n",
       "      <td>33.000000</td>\n",
       "      <td>79.533333</td>\n",
       "      <td>109.000000</td>\n",
       "      <td>93.666664</td>\n",
       "      <td>84.466667</td>\n",
       "      <td>...</td>\n",
       "      <td>20.066668</td>\n",
       "      <td>119.133331</td>\n",
       "      <td>97.000000</td>\n",
       "      <td>66.199997</td>\n",
       "      <td>84.066666</td>\n",
       "      <td>21.600000</td>\n",
       "      <td>4.000000</td>\n",
       "      <td>4.000000</td>\n",
       "      <td>56.799999</td>\n",
       "      <td>176.199997</td>\n",
       "    </tr>\n",
       "    <tr>\n",
       "      <th>2</th>\n",
       "      <td>135.000000</td>\n",
       "      <td>18.266666</td>\n",
       "      <td>4.000000</td>\n",
       "      <td>44.333332</td>\n",
       "      <td>84.800003</td>\n",
       "      <td>44.200001</td>\n",
       "      <td>4.000000</td>\n",
       "      <td>59.200001</td>\n",
       "      <td>132.733337</td>\n",
       "      <td>132.266663</td>\n",
       "      <td>...</td>\n",
       "      <td>3.000000</td>\n",
       "      <td>3.000000</td>\n",
       "      <td>3.000000</td>\n",
       "      <td>60.733334</td>\n",
       "      <td>130.800003</td>\n",
       "      <td>140.199997</td>\n",
       "      <td>52.933334</td>\n",
       "      <td>3.000000</td>\n",
       "      <td>23.400000</td>\n",
       "      <td>85.400002</td>\n",
       "    </tr>\n",
       "    <tr>\n",
       "      <th>3</th>\n",
       "      <td>64.599998</td>\n",
       "      <td>3.000000</td>\n",
       "      <td>22.466667</td>\n",
       "      <td>115.466667</td>\n",
       "      <td>139.000000</td>\n",
       "      <td>82.199997</td>\n",
       "      <td>22.733334</td>\n",
       "      <td>3.000000</td>\n",
       "      <td>3.000000</td>\n",
       "      <td>29.799999</td>\n",
       "      <td>...</td>\n",
       "      <td>96.533333</td>\n",
       "      <td>123.400002</td>\n",
       "      <td>91.199997</td>\n",
       "      <td>71.599998</td>\n",
       "      <td>3.133333</td>\n",
       "      <td>3.200000</td>\n",
       "      <td>3.066667</td>\n",
       "      <td>57.533333</td>\n",
       "      <td>144.000000</td>\n",
       "      <td>142.399994</td>\n",
       "    </tr>\n",
       "    <tr>\n",
       "      <th>4</th>\n",
       "      <td>34.200001</td>\n",
       "      <td>3.133333</td>\n",
       "      <td>12.133333</td>\n",
       "      <td>85.933334</td>\n",
       "      <td>76.466667</td>\n",
       "      <td>3.066667</td>\n",
       "      <td>66.400002</td>\n",
       "      <td>110.599998</td>\n",
       "      <td>83.599998</td>\n",
       "      <td>83.199997</td>\n",
       "      <td>...</td>\n",
       "      <td>3.200000</td>\n",
       "      <td>87.666664</td>\n",
       "      <td>82.266670</td>\n",
       "      <td>41.333332</td>\n",
       "      <td>114.199997</td>\n",
       "      <td>62.733334</td>\n",
       "      <td>51.666668</td>\n",
       "      <td>84.400002</td>\n",
       "      <td>41.000000</td>\n",
       "      <td>3.000000</td>\n",
       "    </tr>\n",
       "    <tr>\n",
       "      <th>5</th>\n",
       "      <td>3.000000</td>\n",
       "      <td>26.799999</td>\n",
       "      <td>201.066666</td>\n",
       "      <td>150.866669</td>\n",
       "      <td>3.000000</td>\n",
       "      <td>3.000000</td>\n",
       "      <td>3.000000</td>\n",
       "      <td>71.333336</td>\n",
       "      <td>82.533333</td>\n",
       "      <td>18.133333</td>\n",
       "      <td>...</td>\n",
       "      <td>146.199997</td>\n",
       "      <td>10.733334</td>\n",
       "      <td>3.000000</td>\n",
       "      <td>21.200001</td>\n",
       "      <td>85.599998</td>\n",
       "      <td>66.866669</td>\n",
       "      <td>3.000000</td>\n",
       "      <td>89.000000</td>\n",
       "      <td>109.133331</td>\n",
       "      <td>97.133331</td>\n",
       "    </tr>\n",
       "  </tbody>\n",
       "</table>\n",
       "<p>5 rows × 96 columns</p>\n",
       "</div>"
      ],
      "text/plain": [
       "minute        0          15          30          45          60         75    \\\n",
       "day                                                                            \n",
       "1       116.733330   3.066667    3.066667   48.666668   84.466667  33.000000   \n",
       "2       135.000000  18.266666    4.000000   44.333332   84.800003  44.200001   \n",
       "3        64.599998   3.000000   22.466667  115.466667  139.000000  82.199997   \n",
       "4        34.200001   3.133333   12.133333   85.933334   76.466667   3.066667   \n",
       "5         3.000000  26.799999  201.066666  150.866669    3.000000   3.000000   \n",
       "\n",
       "minute       90          105         120         135      ...            1290  \\\n",
       "day                                                       ...                   \n",
       "1       79.533333  109.000000   93.666664   84.466667     ...       20.066668   \n",
       "2        4.000000   59.200001  132.733337  132.266663     ...        3.000000   \n",
       "3       22.733334    3.000000    3.000000   29.799999     ...       96.533333   \n",
       "4       66.400002  110.599998   83.599998   83.199997     ...        3.200000   \n",
       "5        3.000000   71.333336   82.533333   18.133333     ...      146.199997   \n",
       "\n",
       "minute        1305       1320       1335        1350        1365       1380  \\\n",
       "day                                                                           \n",
       "1       119.133331  97.000000  66.199997   84.066666   21.600000   4.000000   \n",
       "2         3.000000   3.000000  60.733334  130.800003  140.199997  52.933334   \n",
       "3       123.400002  91.199997  71.599998    3.133333    3.200000   3.066667   \n",
       "4        87.666664  82.266670  41.333332  114.199997   62.733334  51.666668   \n",
       "5        10.733334   3.000000  21.200001   85.599998   66.866669   3.000000   \n",
       "\n",
       "minute       1395        1410        1425  \n",
       "day                                        \n",
       "1        4.000000   56.799999  176.199997  \n",
       "2        3.000000   23.400000   85.400002  \n",
       "3       57.533333  144.000000  142.399994  \n",
       "4       84.400002   41.000000    3.000000  \n",
       "5       89.000000  109.133331   97.133331  \n",
       "\n",
       "[5 rows x 96 columns]"
      ]
     },
     "execution_count": 6,
     "metadata": {},
     "output_type": "execute_result"
    }
   ],
   "source": [
    "pd.concat(out_df).head()"
   ]
  },
  {
   "cell_type": "code",
   "execution_count": 7,
   "metadata": {
    "collapsed": true
   },
   "outputs": [],
   "source": [
    "fridge_matrix = pd.concat(out_df).values"
   ]
  },
  {
   "cell_type": "code",
   "execution_count": 8,
   "metadata": {
    "collapsed": false
   },
   "outputs": [
    {
     "data": {
      "text/plain": [
       "dtype('float64')"
      ]
     },
     "execution_count": 8,
     "metadata": {},
     "output_type": "execute_result"
    }
   ],
   "source": [
    "fridge_matrix.dtype"
   ]
  },
  {
   "cell_type": "code",
   "execution_count": 9,
   "metadata": {
    "collapsed": true
   },
   "outputs": [],
   "source": [
    "import scipy.io as sio"
   ]
  },
  {
   "cell_type": "code",
   "execution_count": 57,
   "metadata": {
    "collapsed": false
   },
   "outputs": [],
   "source": [
    "sio.savemat(\"/Users/nipunbatra/Desktop/appliances.mat\",mat_appliance)"
   ]
  },
  {
   "cell_type": "code",
   "execution_count": 12,
   "metadata": {
    "collapsed": false
   },
   "outputs": [
    {
     "ename": "MatlabInterperterError",
     "evalue": "Failed to parse and evaluate line u\"cd('/Users/nipunbatra/Google Drive/matlab-codes-for-generating-parameters-in-LBM/generatePopulationModels');\\npwd;\\ndemo_domainKnowledgeAppliance('/Users/nipunbatra/Desktop/fridge.mat')\".\n Matlab error message: u'Argument must contain a string.'",
     "output_type": "error",
     "traceback": [
      "\u001b[0;31m---------------------------------------------------------------------------\u001b[0m",
      "\u001b[0;31mMatlabInterperterError\u001b[0m                    Traceback (most recent call last)",
      "\u001b[0;32m<ipython-input-12-32773270b83e>\u001b[0m in \u001b[0;36m<module>\u001b[0;34m()\u001b[0m\n\u001b[0;32m----> 1\u001b[0;31m \u001b[0mget_ipython\u001b[0m\u001b[0;34m(\u001b[0m\u001b[0;34m)\u001b[0m\u001b[0;34m.\u001b[0m\u001b[0mrun_cell_magic\u001b[0m\u001b[0;34m(\u001b[0m\u001b[0;34mu'matlab'\u001b[0m\u001b[0;34m,\u001b[0m \u001b[0;34mu''\u001b[0m\u001b[0;34m,\u001b[0m \u001b[0;34mu\"cd('/Users/nipunbatra/Google Drive/matlab-codes-for-generating-parameters-in-LBM/generatePopulationModels');\\npwd;\\ndemo_domainKnowledgeAppliance('/Users/nipunbatra/Desktop/fridge.mat')\"\u001b[0m\u001b[0;34m)\u001b[0m\u001b[0;34m\u001b[0m\u001b[0m\n\u001b[0m",
      "\u001b[0;32m/Users/nipunbatra/anaconda/lib/python2.7/site-packages/IPython/core/interactiveshell.pyc\u001b[0m in \u001b[0;36mrun_cell_magic\u001b[0;34m(self, magic_name, line, cell)\u001b[0m\n\u001b[1;32m   2291\u001b[0m             \u001b[0mmagic_arg_s\u001b[0m \u001b[0;34m=\u001b[0m \u001b[0mself\u001b[0m\u001b[0;34m.\u001b[0m\u001b[0mvar_expand\u001b[0m\u001b[0;34m(\u001b[0m\u001b[0mline\u001b[0m\u001b[0;34m,\u001b[0m \u001b[0mstack_depth\u001b[0m\u001b[0;34m)\u001b[0m\u001b[0;34m\u001b[0m\u001b[0m\n\u001b[1;32m   2292\u001b[0m             \u001b[0;32mwith\u001b[0m \u001b[0mself\u001b[0m\u001b[0;34m.\u001b[0m\u001b[0mbuiltin_trap\u001b[0m\u001b[0;34m:\u001b[0m\u001b[0;34m\u001b[0m\u001b[0m\n\u001b[0;32m-> 2293\u001b[0;31m                 \u001b[0mresult\u001b[0m \u001b[0;34m=\u001b[0m \u001b[0mfn\u001b[0m\u001b[0;34m(\u001b[0m\u001b[0mmagic_arg_s\u001b[0m\u001b[0;34m,\u001b[0m \u001b[0mcell\u001b[0m\u001b[0;34m)\u001b[0m\u001b[0;34m\u001b[0m\u001b[0m\n\u001b[0m\u001b[1;32m   2294\u001b[0m             \u001b[0;32mreturn\u001b[0m \u001b[0mresult\u001b[0m\u001b[0;34m\u001b[0m\u001b[0m\n\u001b[1;32m   2295\u001b[0m \u001b[0;34m\u001b[0m\u001b[0m\n",
      "\u001b[0;32m<decorator-gen-123>\u001b[0m in \u001b[0;36mmatlab\u001b[0;34m(self, line, cell, local_ns)\u001b[0m\n",
      "\u001b[0;32m/Users/nipunbatra/anaconda/lib/python2.7/site-packages/IPython/core/magic.pyc\u001b[0m in \u001b[0;36m<lambda>\u001b[0;34m(f, *a, **k)\u001b[0m\n\u001b[1;32m    191\u001b[0m     \u001b[0;31m# but it's overkill for just that one bit of state.\u001b[0m\u001b[0;34m\u001b[0m\u001b[0;34m\u001b[0m\u001b[0m\n\u001b[1;32m    192\u001b[0m     \u001b[0;32mdef\u001b[0m \u001b[0mmagic_deco\u001b[0m\u001b[0;34m(\u001b[0m\u001b[0marg\u001b[0m\u001b[0;34m)\u001b[0m\u001b[0;34m:\u001b[0m\u001b[0;34m\u001b[0m\u001b[0m\n\u001b[0;32m--> 193\u001b[0;31m         \u001b[0mcall\u001b[0m \u001b[0;34m=\u001b[0m \u001b[0;32mlambda\u001b[0m \u001b[0mf\u001b[0m\u001b[0;34m,\u001b[0m \u001b[0;34m*\u001b[0m\u001b[0ma\u001b[0m\u001b[0;34m,\u001b[0m \u001b[0;34m**\u001b[0m\u001b[0mk\u001b[0m\u001b[0;34m:\u001b[0m \u001b[0mf\u001b[0m\u001b[0;34m(\u001b[0m\u001b[0;34m*\u001b[0m\u001b[0ma\u001b[0m\u001b[0;34m,\u001b[0m \u001b[0;34m**\u001b[0m\u001b[0mk\u001b[0m\u001b[0;34m)\u001b[0m\u001b[0;34m\u001b[0m\u001b[0m\n\u001b[0m\u001b[1;32m    194\u001b[0m \u001b[0;34m\u001b[0m\u001b[0m\n\u001b[1;32m    195\u001b[0m         \u001b[0;32mif\u001b[0m \u001b[0mcallable\u001b[0m\u001b[0;34m(\u001b[0m\u001b[0marg\u001b[0m\u001b[0;34m)\u001b[0m\u001b[0;34m:\u001b[0m\u001b[0;34m\u001b[0m\u001b[0m\n",
      "\u001b[0;32m/Users/nipunbatra/anaconda/lib/python2.7/site-packages/pymatbridge/matlab_magic.pyc\u001b[0m in \u001b[0;36mmatlab\u001b[0;34m(self, line, cell, local_ns)\u001b[0m\n\u001b[1;32m    161\u001b[0m \u001b[0;34m\u001b[0m\u001b[0m\n\u001b[1;32m    162\u001b[0m         \u001b[0;32mtry\u001b[0m\u001b[0;34m:\u001b[0m\u001b[0;34m\u001b[0m\u001b[0m\n\u001b[0;32m--> 163\u001b[0;31m             \u001b[0mresult_dict\u001b[0m \u001b[0;34m=\u001b[0m \u001b[0mself\u001b[0m\u001b[0;34m.\u001b[0m\u001b[0meval\u001b[0m\u001b[0;34m(\u001b[0m\u001b[0mcode\u001b[0m\u001b[0;34m)\u001b[0m\u001b[0;34m\u001b[0m\u001b[0m\n\u001b[0m\u001b[1;32m    164\u001b[0m         \u001b[0;32mexcept\u001b[0m \u001b[0mMatlabInterperterError\u001b[0m\u001b[0;34m:\u001b[0m\u001b[0;34m\u001b[0m\u001b[0m\n\u001b[1;32m    165\u001b[0m             \u001b[0;32mraise\u001b[0m\u001b[0;34m\u001b[0m\u001b[0m\n",
      "\u001b[0;32m/Users/nipunbatra/anaconda/lib/python2.7/site-packages/pymatbridge/matlab_magic.pyc\u001b[0m in \u001b[0;36meval\u001b[0;34m(self, line)\u001b[0m\n\u001b[1;32m     88\u001b[0m \u001b[0;34m\u001b[0m\u001b[0m\n\u001b[1;32m     89\u001b[0m         \u001b[0;32mif\u001b[0m \u001b[0;32mnot\u001b[0m \u001b[0mrun_dict\u001b[0m\u001b[0;34m[\u001b[0m\u001b[0;34m'success'\u001b[0m\u001b[0;34m]\u001b[0m\u001b[0;34m:\u001b[0m\u001b[0;34m\u001b[0m\u001b[0m\n\u001b[0;32m---> 90\u001b[0;31m             \u001b[0;32mraise\u001b[0m \u001b[0mMatlabInterperterError\u001b[0m\u001b[0;34m(\u001b[0m\u001b[0mline\u001b[0m\u001b[0;34m,\u001b[0m \u001b[0mrun_dict\u001b[0m\u001b[0;34m[\u001b[0m\u001b[0;34m'content'\u001b[0m\u001b[0;34m]\u001b[0m\u001b[0;34m[\u001b[0m\u001b[0;34m'stdout'\u001b[0m\u001b[0;34m]\u001b[0m\u001b[0;34m)\u001b[0m\u001b[0;34m\u001b[0m\u001b[0m\n\u001b[0m\u001b[1;32m     91\u001b[0m \u001b[0;34m\u001b[0m\u001b[0m\n\u001b[1;32m     92\u001b[0m         \u001b[0;31m# This is the matlab stdout:\u001b[0m\u001b[0;34m\u001b[0m\u001b[0;34m\u001b[0m\u001b[0m\n",
      "\u001b[0;31mMatlabInterperterError\u001b[0m: Failed to parse and evaluate line u\"cd('/Users/nipunbatra/Google Drive/matlab-codes-for-generating-parameters-in-LBM/generatePopulationModels');\\npwd;\\ndemo_domainKnowledgeAppliance('/Users/nipunbatra/Desktop/fridge.mat')\".\n Matlab error message: u'Argument must contain a string.'"
     ]
    }
   ],
   "source": [
    "%%matlab\n",
    "cd('/Users/nipunbatra/Google Drive/matlab-codes-for-generating-parameters-in-LBM/generatePopulationModels');\n",
    "pwd;\n",
    "demo_domainKnowledgeAppliance('/Users/nipunbatra/Desktop/fridge.mat')"
   ]
  },
  {
   "cell_type": "markdown",
   "metadata": {},
   "source": [
    "### TODO- Pass this data to Matlab now"
   ]
  },
  {
   "cell_type": "code",
   "execution_count": 4,
   "metadata": {
    "collapsed": false
   },
   "outputs": [
    {
     "name": "stderr",
     "output_type": "stream",
     "text": [
      "/Users/nipunbatra/anaconda/lib/python2.7/site-packages/hmmlearn/base.py:8: RuntimeWarning: numpy.dtype size changed, may indicate binary incompatibility\n",
      "  from . import _hmmc\n"
     ]
    }
   ],
   "source": [
    "from latent_Bayesian_melding import LatentBayesianMelding"
   ]
  },
  {
   "cell_type": "code",
   "execution_count": 5,
   "metadata": {
    "collapsed": false
   },
   "outputs": [],
   "source": [
    "lbm = LatentBayesianMelding()"
   ]
  },
  {
   "cell_type": "code",
   "execution_count": 6,
   "metadata": {
    "collapsed": true
   },
   "outputs": [],
   "source": [
    "from os.path import join"
   ]
  },
  {
   "cell_type": "code",
   "execution_count": 7,
   "metadata": {
    "collapsed": false
   },
   "outputs": [],
   "source": [
    "meterlist = ['hvac','fridge','dw','dr','wm','light']"
   ]
  },
  {
   "cell_type": "code",
   "execution_count": 8,
   "metadata": {
    "collapsed": false
   },
   "outputs": [
    {
     "name": "stdout",
     "output_type": "stream",
     "text": [
      "The trained meter: hvac\n",
      "The trained meter: fridge\n",
      "The trained meter: dw\n",
      "The trained meter: dr\n",
      "The trained meter: wm\n",
      "The trained meter: light\n"
     ]
    }
   ],
   "source": [
    "individual_model = lbm.import_model(meterlist,'/Users/nipunbatra/Desktop/lbn.json')\n",
    "#individual_model = lbm.import_model(meterlist,'/Users/nipunbatra/git/monthly-disaggregation/code/appliance_model_induced_density.json')"
   ]
  },
  {
   "cell_type": "code",
   "execution_count": 30,
   "metadata": {
    "collapsed": false
   },
   "outputs": [
    {
     "name": "stderr",
     "output_type": "stream",
     "text": [
      "/Users/nipunbatra/anaconda/lib/python2.7/site-packages/IPython/core/formatters.py:90: DeprecationWarning: DisplayFormatter._ipython_display_formatter_default is deprecated: use @default decorator instead.\n",
      "  def _ipython_display_formatter_default(self):\n",
      "/Users/nipunbatra/anaconda/lib/python2.7/site-packages/IPython/core/formatters.py:96: DeprecationWarning: DisplayFormatter._formatters_default is deprecated: use @default decorator instead.\n",
      "  def _formatters_default(self):\n",
      "/Users/nipunbatra/anaconda/lib/python2.7/site-packages/IPython/core/formatters.py:675: DeprecationWarning: PlainTextFormatter._deferred_printers_default is deprecated: use @default decorator instead.\n",
      "  def _deferred_printers_default(self):\n",
      "/Users/nipunbatra/anaconda/lib/python2.7/site-packages/IPython/core/formatters.py:667: DeprecationWarning: PlainTextFormatter._singleton_printers_default is deprecated: use @default decorator instead.\n",
      "  def _singleton_printers_default(self):\n",
      "/Users/nipunbatra/anaconda/lib/python2.7/site-packages/IPython/core/formatters.py:670: DeprecationWarning: PlainTextFormatter._type_printers_default is deprecated: use @default decorator instead.\n",
      "  def _type_printers_default(self):\n",
      "/Users/nipunbatra/anaconda/lib/python2.7/site-packages/IPython/core/formatters.py:667: DeprecationWarning: PlainTextFormatter._singleton_printers_default is deprecated: use @default decorator instead.\n",
      "  def _singleton_printers_default(self):\n",
      "/Users/nipunbatra/anaconda/lib/python2.7/site-packages/IPython/core/formatters.py:670: DeprecationWarning: PlainTextFormatter._type_printers_default is deprecated: use @default decorator instead.\n",
      "  def _type_printers_default(self):\n",
      "/Users/nipunbatra/anaconda/lib/python2.7/site-packages/IPython/core/formatters.py:675: DeprecationWarning: PlainTextFormatter._deferred_printers_default is deprecated: use @default decorator instead.\n",
      "  def _deferred_printers_default(self):\n"
     ]
    },
    {
     "data": {
      "text/plain": [
       "array([   26.,    94.,   370.,   410.,   545.,   624.,  1283.,  1334.,\n",
       "        1642.,  1953.,  2129.,  2156.,  2242.,  2470.,  2814.,  3367.,\n",
       "        3456.,  3482.,  3723.,  3967.,  4732.,  4767.,  5357.,  5371.,\n",
       "        5746.,  5785.,  5814.,  6072.,  6636.,  6836.,  6910.,  7016.,\n",
       "        7731.,  7769.,  7866.,  8317.,  9052.,  9609.,  9654.,  9922.,\n",
       "        9933.,  9934.,  9982.])"
      ]
     },
     "execution_count": 30,
     "metadata": {},
     "output_type": "execute_result"
    }
   ],
   "source": [
    "all_homes_all_appliance"
   ]
  },
  {
   "cell_type": "code",
   "execution_count": 10,
   "metadata": {
    "collapsed": false
   },
   "outputs": [],
   "source": [
    "import numpy as np\n",
    "all_homes_all_appliance = []\n",
    "for appliance in [\"fridge\",\"hvac\",\"dr\",\"dw\",\"wm\",\"light\"]:\n",
    "    all_homes_all_appliance = np.union1d(all_homes_all_appliance, all_homes[appliance])"
   ]
  },
  {
   "cell_type": "code",
   "execution_count": 29,
   "metadata": {
    "collapsed": true
   },
   "outputs": [],
   "source": [
    "import time\n",
    "def disaggregate_home(home):\n",
    "    df = pd.read_csv(\"data/%d.csv\" %home, index_col=0)\n",
    "    df.index = pd.to_datetime(df.index)\n",
    "\n",
    "    #df = st['/%d' %home]['2013'][['use']].resample(\"15T\").astype('float64').dropna()\n",
    "    df['day'] = df.index.dayofyear\n",
    "    g = df.groupby(\"day\")\n",
    "    out = []\n",
    "    for day in range(1, 10):\n",
    "        print day, home\n",
    "        try:\n",
    "            mains = g.get_group(day)['use']\n",
    "            result = lbm.disaggregate_chunk(mains)\n",
    "            out.append(result['inferred appliance energy'])\n",
    "        except:\n",
    "            pass\n",
    "    res_home = pd.concat(out)\n",
    "    res_home.to_csv(\"%d.csv\" %home)\n",
    "    "
   ]
  },
  {
   "cell_type": "code",
   "execution_count": 20,
   "metadata": {
    "collapsed": true
   },
   "outputs": [],
   "source": [
    "!mkdir data"
   ]
  },
  {
   "cell_type": "code",
   "execution_count": null,
   "metadata": {
    "collapsed": false
   },
   "outputs": [],
   "source": [
    "for home in all_homes_all_appliance[:]:\n",
    "    df = st['/%d' %home]['2013'][['use']].resample(\"15T\").astype('float64').dropna()\n",
    "    df.to_csv(\"data/%d.csv\" %home)\n",
    "    "
   ]
  },
  {
   "cell_type": "code",
   "execution_count": 26,
   "metadata": {
    "collapsed": false
   },
   "outputs": [
    {
     "name": "stdout",
     "output_type": "stream",
     "text": [
      "1 26.0\n",
      "2 26.0\n",
      "3 26.0\n",
      "4 26.0\n",
      "1 94.0\n",
      "2 94.0\n",
      "3 94.0\n",
      "4 94.0\n",
      "47.9365930557\n"
     ]
    }
   ],
   "source": [
    "start = time.time()\n",
    "for home in all_homes_all_appliance[:2]:\n",
    "    disaggregate_home(home)\n",
    "end = time.time()\n",
    "print end-start"
   ]
  },
  {
   "cell_type": "code",
   "execution_count": 27,
   "metadata": {
    "collapsed": true
   },
   "outputs": [],
   "source": [
    "from pathos.multiprocessing import Pool\n",
    "p = Pool(4)"
   ]
  },
  {
   "cell_type": "code",
   "execution_count": 28,
   "metadata": {
    "collapsed": false
   },
   "outputs": [
    {
     "name": "stdout",
     "output_type": "stream",
     "text": [
      "46.0190169811\n",
      "1 26.0\n",
      "1 94.0\n",
      "1 370.0\n",
      "222 26.0\n",
      " 94.0\n",
      " 370.0\n",
      "333 26.0\n",
      " 94.0\n",
      " 370.0\n",
      "444 26.0\n",
      " 94.0\n",
      " 370.0\n"
     ]
    }
   ],
   "source": [
    "start = time.time()\n",
    "p.map(disaggregate_home, all_homes_all_appliance[:3])\n",
    "end = time.time()\n",
    "print end-start"
   ]
  },
  {
   "cell_type": "code",
   "execution_count": null,
   "metadata": {
    "collapsed": false
   },
   "outputs": [
    {
     "name": "stdout",
     "output_type": "stream",
     "text": [
      "%%%%%%%%%%%%%%%%%%%%\n",
      "26.0\n",
      "1\n",
      "2\n",
      "3\n",
      "4\n",
      "5\n",
      "6\n",
      "7\n",
      "8\n",
      "9\n",
      "10\n",
      "11\n",
      "12\n",
      "13\n",
      "14\n",
      "15\n",
      "16\n",
      "17\n",
      "18\n",
      "19\n",
      "20\n",
      "21\n",
      "22\n",
      "23\n",
      "24\n",
      "25\n",
      "26\n",
      "27\n",
      "28\n",
      "29\n",
      "30\n",
      "31\n",
      "32\n",
      "33\n",
      "34\n",
      "35\n",
      "36\n",
      "37\n",
      "38\n",
      "39\n",
      "40\n",
      "41\n",
      "42\n",
      "43\n",
      "44\n",
      "45\n",
      "46\n",
      "47\n",
      "48\n",
      "49\n",
      "50\n",
      "51\n",
      "52\n",
      "53\n",
      "54\n",
      "55\n",
      "56\n",
      "57\n",
      "58\n",
      "59\n",
      "60\n",
      "61\n",
      "62\n",
      "63\n",
      "64\n",
      "65\n",
      "66\n",
      "67\n",
      "68\n",
      "69\n",
      "70\n",
      "71\n",
      "72\n",
      "73\n",
      "74\n",
      "75\n",
      "76\n",
      "77\n",
      "78\n",
      "79\n",
      "80\n",
      "81\n",
      "82\n",
      "83\n",
      "84\n",
      "85\n",
      "86\n",
      "87\n",
      "88\n",
      "89\n",
      "90\n",
      "91\n",
      "92\n",
      "93\n",
      "94\n",
      "95\n",
      "96\n",
      "97\n",
      "98\n",
      "99\n",
      "100\n",
      "101\n",
      "102\n",
      "103\n",
      "104\n",
      "105\n",
      "106\n",
      "107\n",
      "108\n",
      "109\n",
      "110\n",
      "111\n",
      "112\n",
      "113\n",
      "114\n",
      "115\n",
      "116\n",
      "117\n",
      "118\n",
      "119\n",
      "120\n",
      "121\n",
      "122\n",
      "123\n",
      "124\n",
      "125\n",
      "126\n",
      "127\n",
      "128\n",
      "129\n",
      "130\n",
      "131\n",
      "132\n",
      "133\n",
      "134\n",
      "135\n",
      "136\n",
      "137\n",
      "138\n",
      "139\n",
      "140\n",
      "141\n",
      "142\n",
      "143\n",
      "144\n",
      "145\n",
      "146\n",
      "147\n",
      "148\n",
      "149\n",
      "150\n",
      "151\n",
      "152\n",
      "153\n",
      "154\n",
      "155\n",
      "156\n",
      "157\n",
      "158\n",
      "159\n",
      "160\n",
      "161\n",
      "162\n",
      "163\n",
      "164\n",
      "165\n",
      "166\n",
      "167\n",
      "168\n",
      "169\n",
      "170\n",
      "171\n",
      "172\n",
      "173\n",
      "174\n",
      "175\n",
      "176\n",
      "177\n",
      "178\n",
      "179\n",
      "180\n",
      "181\n",
      "182\n",
      "183\n",
      "184\n",
      "185\n",
      "186\n",
      "187\n",
      "188\n",
      "189\n",
      "190\n",
      "191\n",
      "192\n",
      "193\n",
      "194\n",
      "195\n",
      "196\n",
      "197\n",
      "198\n",
      "199\n",
      "200\n",
      "201\n",
      "202\n",
      "203\n",
      "204\n",
      "205\n",
      "206\n",
      "207\n",
      "208\n",
      "209\n",
      "210\n",
      "211\n",
      "212\n",
      "213\n",
      "214\n",
      "215\n",
      "216\n",
      "217\n",
      "218\n",
      "219\n",
      "220\n",
      "221\n",
      "222\n",
      "223\n",
      "224\n",
      "225\n",
      "226\n",
      "227\n",
      "228\n",
      "229\n",
      "230\n",
      "231\n",
      "232\n",
      "233\n",
      "234\n",
      "235\n",
      "236\n",
      "237\n",
      "238\n",
      "239\n",
      "240\n",
      "241\n",
      "242\n",
      "243\n",
      "244\n",
      "245\n",
      "246\n",
      "247\n",
      "248\n",
      "249\n",
      "250\n",
      "251\n",
      "252\n",
      "253\n",
      "254\n",
      "255\n",
      "256\n",
      "257\n",
      "258\n",
      "259\n",
      "260\n",
      "261\n",
      "262\n",
      "263\n",
      "264\n",
      "265\n",
      "266\n",
      "267\n",
      "268\n",
      "269\n",
      "270\n",
      "271\n",
      "272\n",
      "273\n",
      "274\n",
      "275\n",
      "276\n",
      "277\n",
      "278\n",
      "279\n",
      "280\n",
      "281\n",
      "282\n",
      "283\n",
      "284\n",
      "285\n",
      "286\n",
      "287\n",
      "288\n",
      "289\n",
      "290\n",
      "291\n",
      "292\n",
      "293\n",
      "294\n",
      "295\n",
      "296\n",
      "297\n",
      "298\n",
      "299\n",
      "300\n",
      "301\n",
      "302\n",
      "303\n",
      "304\n",
      "305\n",
      "306\n",
      "307\n",
      "308\n",
      "309\n",
      "310\n",
      "311\n",
      "312\n",
      "313\n",
      "314\n",
      "315\n",
      "316\n",
      "317\n",
      "318\n",
      "319\n",
      "320\n",
      "321\n",
      "322\n",
      "323\n",
      "324\n",
      "325\n",
      "326\n",
      "327\n",
      "328\n",
      "329\n",
      "330\n",
      "331\n",
      "332\n",
      "333\n",
      "334\n",
      "335\n",
      "336\n",
      "337\n",
      "338\n",
      "339\n",
      "340\n",
      "341\n",
      "342\n",
      "343\n",
      "344\n",
      "345\n",
      "346\n",
      "347\n",
      "348\n",
      "349\n",
      "350\n",
      "351\n",
      "352\n",
      "353\n",
      "354\n",
      "355\n",
      "356\n",
      "357\n",
      "358\n",
      "359\n",
      "360\n",
      "361\n",
      "362\n",
      "363\n",
      "364\n",
      "2054.88109517\n",
      "********************\n",
      "%%%%%%%%%%%%%%%%%%%%\n",
      "94.0\n",
      "1\n",
      "2\n",
      "3\n",
      "4\n",
      "5\n",
      "6\n",
      "7\n",
      "8\n",
      "9\n",
      "10\n",
      "11\n",
      "12\n",
      "13\n",
      "14\n",
      "15\n",
      "16\n",
      "17\n",
      "18\n",
      "19\n",
      "20\n",
      "21\n",
      "22\n",
      "23\n",
      "24\n",
      "25\n",
      "26\n",
      "27\n",
      "28\n",
      "29\n",
      "30\n",
      "31\n",
      "32\n",
      "33\n",
      "34\n",
      "35\n",
      "36\n",
      "37\n",
      "38\n",
      "39\n",
      "40\n",
      "41\n",
      "42\n",
      "43\n",
      "44\n",
      "45\n",
      "46\n",
      "47\n",
      "48\n",
      "49\n",
      "50\n"
     ]
    },
    {
     "ename": "KeyboardInterrupt",
     "evalue": "",
     "output_type": "error",
     "traceback": [
      "\u001b[0;31m---------------------------------------------------------------------------\u001b[0m",
      "\u001b[0;31mKeyboardInterrupt\u001b[0m                         Traceback (most recent call last)",
      "\u001b[0;32m_ctypes/callbacks.c\u001b[0m in \u001b[0;36m'calling callback function'\u001b[0;34m()\u001b[0m\n",
      "\u001b[0;32m/Users/nipunbatra/.local/lib/python2.7/site-packages/mosek/__init__.pyc\u001b[0m in \u001b[0;36mstream_proxy\u001b[0;34m(handle, msg, whichstream)\u001b[0m\n\u001b[1;32m   1907\u001b[0m           \u001b[0;32mfor\u001b[0m \u001b[0mwhichstream\u001b[0m \u001b[0;32min\u001b[0m \u001b[0mxrange\u001b[0m\u001b[0;34m(\u001b[0m\u001b[0;36m4\u001b[0m\u001b[0;34m)\u001b[0m\u001b[0;34m:\u001b[0m\u001b[0;34m\u001b[0m\u001b[0m\n\u001b[1;32m   1908\u001b[0m               \u001b[0;31m# Note: Apparently closures doesn't work when the function is wrapped in a C function... So we use default parameter value instead.\u001b[0m\u001b[0;34m\u001b[0m\u001b[0;34m\u001b[0m\u001b[0m\n\u001b[0;32m-> 1909\u001b[0;31m               \u001b[0;32mdef\u001b[0m \u001b[0mstream_proxy\u001b[0m\u001b[0;34m(\u001b[0m\u001b[0mhandle\u001b[0m\u001b[0;34m,\u001b[0m \u001b[0mmsg\u001b[0m\u001b[0;34m,\u001b[0m \u001b[0mwhichstream\u001b[0m\u001b[0;34m=\u001b[0m\u001b[0mwhichstream\u001b[0m\u001b[0;34m)\u001b[0m\u001b[0;34m:\u001b[0m\u001b[0;34m\u001b[0m\u001b[0m\n\u001b[0m\u001b[1;32m   1910\u001b[0m                   \u001b[0mfunc\u001b[0m \u001b[0;34m=\u001b[0m \u001b[0mself\u001b[0m\u001b[0;34m.\u001b[0m\u001b[0m__stream_func\u001b[0m\u001b[0;34m[\u001b[0m\u001b[0mwhichstream\u001b[0m\u001b[0;34m]\u001b[0m\u001b[0;34m\u001b[0m\u001b[0m\n\u001b[1;32m   1911\u001b[0m                   \u001b[0;32mtry\u001b[0m\u001b[0;34m:\u001b[0m\u001b[0;34m\u001b[0m\u001b[0m\n",
      "\u001b[0;31mKeyboardInterrupt\u001b[0m: "
     ]
    },
    {
     "name": "stdout",
     "output_type": "stream",
     "text": [
      "51\n",
      "52\n",
      "53\n",
      "54\n"
     ]
    },
    {
     "ename": "KeyboardInterrupt",
     "evalue": "",
     "output_type": "error",
     "traceback": [
      "\u001b[0;31m---------------------------------------------------------------------------\u001b[0m",
      "\u001b[0;31mKeyboardInterrupt\u001b[0m                         Traceback (most recent call last)",
      "\u001b[0;32m_ctypes/callbacks.c\u001b[0m in \u001b[0;36m'calling callback function'\u001b[0;34m()\u001b[0m\n",
      "\u001b[0;32m/Users/nipunbatra/.local/lib/python2.7/site-packages/mosek/__init__.pyc\u001b[0m in \u001b[0;36mstream_proxy\u001b[0;34m(handle, msg, whichstream)\u001b[0m\n\u001b[1;32m   1907\u001b[0m           \u001b[0;32mfor\u001b[0m \u001b[0mwhichstream\u001b[0m \u001b[0;32min\u001b[0m \u001b[0mxrange\u001b[0m\u001b[0;34m(\u001b[0m\u001b[0;36m4\u001b[0m\u001b[0;34m)\u001b[0m\u001b[0;34m:\u001b[0m\u001b[0;34m\u001b[0m\u001b[0m\n\u001b[1;32m   1908\u001b[0m               \u001b[0;31m# Note: Apparently closures doesn't work when the function is wrapped in a C function... So we use default parameter value instead.\u001b[0m\u001b[0;34m\u001b[0m\u001b[0;34m\u001b[0m\u001b[0m\n\u001b[0;32m-> 1909\u001b[0;31m               \u001b[0;32mdef\u001b[0m \u001b[0mstream_proxy\u001b[0m\u001b[0;34m(\u001b[0m\u001b[0mhandle\u001b[0m\u001b[0;34m,\u001b[0m \u001b[0mmsg\u001b[0m\u001b[0;34m,\u001b[0m \u001b[0mwhichstream\u001b[0m\u001b[0;34m=\u001b[0m\u001b[0mwhichstream\u001b[0m\u001b[0;34m)\u001b[0m\u001b[0;34m:\u001b[0m\u001b[0;34m\u001b[0m\u001b[0m\n\u001b[0m\u001b[1;32m   1910\u001b[0m                   \u001b[0mfunc\u001b[0m \u001b[0;34m=\u001b[0m \u001b[0mself\u001b[0m\u001b[0;34m.\u001b[0m\u001b[0m__stream_func\u001b[0m\u001b[0;34m[\u001b[0m\u001b[0mwhichstream\u001b[0m\u001b[0;34m]\u001b[0m\u001b[0;34m\u001b[0m\u001b[0m\n\u001b[1;32m   1911\u001b[0m                   \u001b[0;32mtry\u001b[0m\u001b[0;34m:\u001b[0m\u001b[0;34m\u001b[0m\u001b[0m\n",
      "\u001b[0;31mKeyboardInterrupt\u001b[0m: "
     ]
    },
    {
     "name": "stdout",
     "output_type": "stream",
     "text": [
      "55\n",
      "56"
     ]
    }
   ],
   "source": [
    "store = pd.HDFStore(\"lbn_try1.h5\")\n",
    "from pathos.multiprocessing import Pool\n",
    "p = Pool(4)\n",
    "for home in all_homes_all_appliance[:4]:\n",
    "    start = time.time()\n",
    "    \n",
    "    print \"%\"*20\n",
    "    print home \n",
    "    \n",
    "    store.put(\"%d\" %home, res_home)\n",
    "    end = time.time()\n",
    "    print end-start\n",
    "    print \"*\"*20\n",
    "    \n",
    "    \n",
    "    "
   ]
  },
  {
   "cell_type": "code",
   "execution_count": 71,
   "metadata": {
    "collapsed": false
   },
   "outputs": [
    {
     "data": {
      "text/html": [
       "<div>\n",
       "<table border=\"1\" class=\"dataframe\">\n",
       "  <thead>\n",
       "    <tr style=\"text-align: right;\">\n",
       "      <th></th>\n",
       "      <th>hvac</th>\n",
       "      <th>fridge</th>\n",
       "      <th>dw</th>\n",
       "      <th>dr</th>\n",
       "      <th>wm</th>\n",
       "      <th>light</th>\n",
       "      <th>inferred mains</th>\n",
       "      <th>mains</th>\n",
       "    </tr>\n",
       "    <tr>\n",
       "      <th>localminute</th>\n",
       "      <th></th>\n",
       "      <th></th>\n",
       "      <th></th>\n",
       "      <th></th>\n",
       "      <th></th>\n",
       "      <th></th>\n",
       "      <th></th>\n",
       "      <th></th>\n",
       "    </tr>\n",
       "  </thead>\n",
       "  <tbody>\n",
       "    <tr>\n",
       "      <th>2013-01-01 00:00:00-06:00</th>\n",
       "      <td>1649.097509</td>\n",
       "      <td>1.245894</td>\n",
       "      <td>0.019975</td>\n",
       "      <td>0.190484</td>\n",
       "      <td>0.012958</td>\n",
       "      <td>0.001770</td>\n",
       "      <td>1650.568590</td>\n",
       "      <td>1691.400024</td>\n",
       "    </tr>\n",
       "    <tr>\n",
       "      <th>2013-01-01 00:15:00-06:00</th>\n",
       "      <td>1649.208268</td>\n",
       "      <td>48.619677</td>\n",
       "      <td>0.073767</td>\n",
       "      <td>5.096865</td>\n",
       "      <td>0.033634</td>\n",
       "      <td>0.003055</td>\n",
       "      <td>1703.035265</td>\n",
       "      <td>1743.866699</td>\n",
       "    </tr>\n",
       "    <tr>\n",
       "      <th>2013-01-01 00:30:00-06:00</th>\n",
       "      <td>1649.354092</td>\n",
       "      <td>106.393162</td>\n",
       "      <td>0.077850</td>\n",
       "      <td>59.433428</td>\n",
       "      <td>0.040128</td>\n",
       "      <td>0.003206</td>\n",
       "      <td>1815.301866</td>\n",
       "      <td>1856.133301</td>\n",
       "    </tr>\n",
       "    <tr>\n",
       "      <th>2013-01-01 00:45:00-06:00</th>\n",
       "      <td>1649.460729</td>\n",
       "      <td>110.138409</td>\n",
       "      <td>0.077054</td>\n",
       "      <td>102.712629</td>\n",
       "      <td>0.043246</td>\n",
       "      <td>0.003223</td>\n",
       "      <td>1862.435289</td>\n",
       "      <td>1903.266724</td>\n",
       "    </tr>\n",
       "    <tr>\n",
       "      <th>2013-01-01 01:00:00-06:00</th>\n",
       "      <td>1649.597811</td>\n",
       "      <td>112.318692</td>\n",
       "      <td>0.080382</td>\n",
       "      <td>194.790033</td>\n",
       "      <td>0.045043</td>\n",
       "      <td>0.003230</td>\n",
       "      <td>1956.835192</td>\n",
       "      <td>1997.666626</td>\n",
       "    </tr>\n",
       "    <tr>\n",
       "      <th>2013-01-01 01:15:00-06:00</th>\n",
       "      <td>1649.951663</td>\n",
       "      <td>112.544235</td>\n",
       "      <td>0.093161</td>\n",
       "      <td>241.596917</td>\n",
       "      <td>0.045997</td>\n",
       "      <td>0.003243</td>\n",
       "      <td>2004.235216</td>\n",
       "      <td>2045.066650</td>\n",
       "    </tr>\n",
       "    <tr>\n",
       "      <th>2013-01-01 01:30:00-06:00</th>\n",
       "      <td>1648.756352</td>\n",
       "      <td>41.179429</td>\n",
       "      <td>0.063081</td>\n",
       "      <td>44.188837</td>\n",
       "      <td>0.044314</td>\n",
       "      <td>0.003203</td>\n",
       "      <td>1734.235216</td>\n",
       "      <td>1775.066650</td>\n",
       "    </tr>\n",
       "    <tr>\n",
       "      <th>2013-01-01 01:45:00-06:00</th>\n",
       "      <td>1649.351952</td>\n",
       "      <td>111.841595</td>\n",
       "      <td>0.096094</td>\n",
       "      <td>936.296325</td>\n",
       "      <td>0.045912</td>\n",
       "      <td>0.003242</td>\n",
       "      <td>2697.635118</td>\n",
       "      <td>2738.466553</td>\n",
       "    </tr>\n",
       "    <tr>\n",
       "      <th>2013-01-01 02:00:00-06:00</th>\n",
       "      <td>1648.493076</td>\n",
       "      <td>111.543182</td>\n",
       "      <td>0.070608</td>\n",
       "      <td>485.346914</td>\n",
       "      <td>0.044822</td>\n",
       "      <td>0.003216</td>\n",
       "      <td>2245.501818</td>\n",
       "      <td>2286.333252</td>\n",
       "    </tr>\n",
       "    <tr>\n",
       "      <th>2013-01-01 02:15:00-06:00</th>\n",
       "      <td>1648.506312</td>\n",
       "      <td>111.661362</td>\n",
       "      <td>0.091427</td>\n",
       "      <td>479.794123</td>\n",
       "      <td>0.045454</td>\n",
       "      <td>0.003238</td>\n",
       "      <td>2240.101915</td>\n",
       "      <td>2280.933350</td>\n",
       "    </tr>\n",
       "    <tr>\n",
       "      <th>2013-01-01 02:30:00-06:00</th>\n",
       "      <td>1291.567169</td>\n",
       "      <td>4.546750</td>\n",
       "      <td>0.065149</td>\n",
       "      <td>85.875860</td>\n",
       "      <td>0.043784</td>\n",
       "      <td>0.003203</td>\n",
       "      <td>1382.101915</td>\n",
       "      <td>1422.933350</td>\n",
       "    </tr>\n",
       "    <tr>\n",
       "      <th>2013-01-01 02:45:00-06:00</th>\n",
       "      <td>1291.881869</td>\n",
       "      <td>5.579209</td>\n",
       "      <td>0.085511</td>\n",
       "      <td>30.107153</td>\n",
       "      <td>0.044908</td>\n",
       "      <td>0.003241</td>\n",
       "      <td>1327.701891</td>\n",
       "      <td>1368.533325</td>\n",
       "    </tr>\n",
       "    <tr>\n",
       "      <th>2013-01-01 03:00:00-06:00</th>\n",
       "      <td>1290.946679</td>\n",
       "      <td>4.279402</td>\n",
       "      <td>0.064868</td>\n",
       "      <td>1.364328</td>\n",
       "      <td>0.043413</td>\n",
       "      <td>0.003201</td>\n",
       "      <td>1296.701891</td>\n",
       "      <td>1337.533325</td>\n",
       "    </tr>\n",
       "    <tr>\n",
       "      <th>2013-01-01 03:15:00-06:00</th>\n",
       "      <td>1291.080093</td>\n",
       "      <td>106.658332</td>\n",
       "      <td>0.077754</td>\n",
       "      <td>126.371322</td>\n",
       "      <td>0.044492</td>\n",
       "      <td>0.003223</td>\n",
       "      <td>1524.235216</td>\n",
       "      <td>1565.066650</td>\n",
       "    </tr>\n",
       "    <tr>\n",
       "      <th>2013-01-01 03:30:00-06:00</th>\n",
       "      <td>1291.239927</td>\n",
       "      <td>110.449560</td>\n",
       "      <td>0.078773</td>\n",
       "      <td>421.751933</td>\n",
       "      <td>0.045172</td>\n",
       "      <td>0.003225</td>\n",
       "      <td>1823.568590</td>\n",
       "      <td>1864.400024</td>\n",
       "    </tr>\n",
       "    <tr>\n",
       "      <th>2013-01-01 03:45:00-06:00</th>\n",
       "      <td>1291.353063</td>\n",
       "      <td>112.535295</td>\n",
       "      <td>0.079426</td>\n",
       "      <td>539.085061</td>\n",
       "      <td>0.045840</td>\n",
       "      <td>0.003230</td>\n",
       "      <td>1943.101915</td>\n",
       "      <td>1983.933350</td>\n",
       "    </tr>\n",
       "    <tr>\n",
       "      <th>2013-01-01 04:00:00-06:00</th>\n",
       "      <td>1291.702883</td>\n",
       "      <td>112.779973</td>\n",
       "      <td>0.097655</td>\n",
       "      <td>1156.538433</td>\n",
       "      <td>0.046379</td>\n",
       "      <td>0.003243</td>\n",
       "      <td>2561.168566</td>\n",
       "      <td>2602.000000</td>\n",
       "    </tr>\n",
       "    <tr>\n",
       "      <th>2013-01-01 04:15:00-06:00</th>\n",
       "      <td>955.114626</td>\n",
       "      <td>55.236414</td>\n",
       "      <td>0.064813</td>\n",
       "      <td>100.038399</td>\n",
       "      <td>0.044483</td>\n",
       "      <td>0.003204</td>\n",
       "      <td>1110.501940</td>\n",
       "      <td>1151.333374</td>\n",
       "    </tr>\n",
       "    <tr>\n",
       "      <th>2013-01-01 04:30:00-06:00</th>\n",
       "      <td>955.445107</td>\n",
       "      <td>88.465821</td>\n",
       "      <td>0.087836</td>\n",
       "      <td>53.454065</td>\n",
       "      <td>0.045869</td>\n",
       "      <td>0.003242</td>\n",
       "      <td>1097.501940</td>\n",
       "      <td>1138.333374</td>\n",
       "    </tr>\n",
       "    <tr>\n",
       "      <th>2013-01-01 04:45:00-06:00</th>\n",
       "      <td>954.379331</td>\n",
       "      <td>88.134446</td>\n",
       "      <td>0.073094</td>\n",
       "      <td>11.666813</td>\n",
       "      <td>0.044966</td>\n",
       "      <td>0.003216</td>\n",
       "      <td>1054.301866</td>\n",
       "      <td>1095.133301</td>\n",
       "    </tr>\n",
       "    <tr>\n",
       "      <th>2013-01-01 05:00:00-06:00</th>\n",
       "      <td>954.205006</td>\n",
       "      <td>88.153514</td>\n",
       "      <td>0.084334</td>\n",
       "      <td>4.210555</td>\n",
       "      <td>0.045246</td>\n",
       "      <td>0.003235</td>\n",
       "      <td>1046.701891</td>\n",
       "      <td>1087.533325</td>\n",
       "    </tr>\n",
       "    <tr>\n",
       "      <th>2013-01-01 05:15:00-06:00</th>\n",
       "      <td>944.320415</td>\n",
       "      <td>15.876420</td>\n",
       "      <td>0.065194</td>\n",
       "      <td>1.859510</td>\n",
       "      <td>0.043825</td>\n",
       "      <td>0.003202</td>\n",
       "      <td>962.168566</td>\n",
       "      <td>1003.000000</td>\n",
       "    </tr>\n",
       "    <tr>\n",
       "      <th>2013-01-01 05:30:00-06:00</th>\n",
       "      <td>944.714091</td>\n",
       "      <td>54.705926</td>\n",
       "      <td>0.088046</td>\n",
       "      <td>25.545215</td>\n",
       "      <td>0.045396</td>\n",
       "      <td>0.003241</td>\n",
       "      <td>1025.101915</td>\n",
       "      <td>1065.933350</td>\n",
       "    </tr>\n",
       "    <tr>\n",
       "      <th>2013-01-01 05:45:00-06:00</th>\n",
       "      <td>943.837510</td>\n",
       "      <td>54.381443</td>\n",
       "      <td>0.068146</td>\n",
       "      <td>3.233854</td>\n",
       "      <td>0.044432</td>\n",
       "      <td>0.003206</td>\n",
       "      <td>1001.568590</td>\n",
       "      <td>1042.400024</td>\n",
       "    </tr>\n",
       "    <tr>\n",
       "      <th>2013-01-01 06:00:00-06:00</th>\n",
       "      <td>944.014026</td>\n",
       "      <td>109.953504</td>\n",
       "      <td>0.086610</td>\n",
       "      <td>143.332033</td>\n",
       "      <td>0.045880</td>\n",
       "      <td>0.003237</td>\n",
       "      <td>1197.435289</td>\n",
       "      <td>1238.266724</td>\n",
       "    </tr>\n",
       "    <tr>\n",
       "      <th>2013-01-01 06:15:00-06:00</th>\n",
       "      <td>943.715909</td>\n",
       "      <td>109.933056</td>\n",
       "      <td>0.086245</td>\n",
       "      <td>94.651080</td>\n",
       "      <td>0.045765</td>\n",
       "      <td>0.003234</td>\n",
       "      <td>1148.435289</td>\n",
       "      <td>1189.266724</td>\n",
       "    </tr>\n",
       "    <tr>\n",
       "      <th>2013-01-01 06:30:00-06:00</th>\n",
       "      <td>603.748951</td>\n",
       "      <td>94.723145</td>\n",
       "      <td>0.063441</td>\n",
       "      <td>66.585494</td>\n",
       "      <td>0.044330</td>\n",
       "      <td>0.003204</td>\n",
       "      <td>765.168566</td>\n",
       "      <td>806.000000</td>\n",
       "    </tr>\n",
       "    <tr>\n",
       "      <th>2013-01-01 06:45:00-06:00</th>\n",
       "      <td>604.249838</td>\n",
       "      <td>96.410529</td>\n",
       "      <td>0.095685</td>\n",
       "      <td>647.163359</td>\n",
       "      <td>0.045961</td>\n",
       "      <td>0.003242</td>\n",
       "      <td>1347.968614</td>\n",
       "      <td>1388.800049</td>\n",
       "    </tr>\n",
       "    <tr>\n",
       "      <th>2013-01-01 07:00:00-06:00</th>\n",
       "      <td>602.487022</td>\n",
       "      <td>95.567268</td>\n",
       "      <td>0.070246</td>\n",
       "      <td>227.595895</td>\n",
       "      <td>0.044894</td>\n",
       "      <td>0.003216</td>\n",
       "      <td>925.768541</td>\n",
       "      <td>966.599976</td>\n",
       "    </tr>\n",
       "    <tr>\n",
       "      <th>2013-01-01 07:15:00-06:00</th>\n",
       "      <td>602.254833</td>\n",
       "      <td>95.613758</td>\n",
       "      <td>0.087709</td>\n",
       "      <td>201.030174</td>\n",
       "      <td>0.045497</td>\n",
       "      <td>0.003234</td>\n",
       "      <td>899.035204</td>\n",
       "      <td>939.866638</td>\n",
       "    </tr>\n",
       "    <tr>\n",
       "      <th>...</th>\n",
       "      <td>...</td>\n",
       "      <td>...</td>\n",
       "      <td>...</td>\n",
       "      <td>...</td>\n",
       "      <td>...</td>\n",
       "      <td>...</td>\n",
       "      <td>...</td>\n",
       "      <td>...</td>\n",
       "    </tr>\n",
       "    <tr>\n",
       "      <th>2013-01-01 16:30:00-06:00</th>\n",
       "      <td>435.703747</td>\n",
       "      <td>112.362104</td>\n",
       "      <td>0.088335</td>\n",
       "      <td>416.898122</td>\n",
       "      <td>0.046371</td>\n",
       "      <td>0.003236</td>\n",
       "      <td>965.101915</td>\n",
       "      <td>1005.933350</td>\n",
       "    </tr>\n",
       "    <tr>\n",
       "      <th>2013-01-01 16:45:00-06:00</th>\n",
       "      <td>435.428748</td>\n",
       "      <td>21.110929</td>\n",
       "      <td>0.064871</td>\n",
       "      <td>143.449414</td>\n",
       "      <td>0.044750</td>\n",
       "      <td>0.003203</td>\n",
       "      <td>600.101915</td>\n",
       "      <td>640.933350</td>\n",
       "    </tr>\n",
       "    <tr>\n",
       "      <th>2013-01-01 17:00:00-06:00</th>\n",
       "      <td>436.382485</td>\n",
       "      <td>23.422230</td>\n",
       "      <td>0.093550</td>\n",
       "      <td>257.420824</td>\n",
       "      <td>0.046247</td>\n",
       "      <td>0.003242</td>\n",
       "      <td>717.368578</td>\n",
       "      <td>758.200012</td>\n",
       "    </tr>\n",
       "    <tr>\n",
       "      <th>2013-01-01 17:15:00-06:00</th>\n",
       "      <td>435.863631</td>\n",
       "      <td>22.366971</td>\n",
       "      <td>0.070288</td>\n",
       "      <td>68.019371</td>\n",
       "      <td>0.045102</td>\n",
       "      <td>0.003215</td>\n",
       "      <td>526.368578</td>\n",
       "      <td>567.200012</td>\n",
       "    </tr>\n",
       "    <tr>\n",
       "      <th>2013-01-01 17:30:00-06:00</th>\n",
       "      <td>436.024328</td>\n",
       "      <td>22.366495</td>\n",
       "      <td>0.083079</td>\n",
       "      <td>64.845978</td>\n",
       "      <td>0.045464</td>\n",
       "      <td>0.003234</td>\n",
       "      <td>523.368578</td>\n",
       "      <td>564.200012</td>\n",
       "    </tr>\n",
       "    <tr>\n",
       "      <th>2013-01-01 17:45:00-06:00</th>\n",
       "      <td>435.889702</td>\n",
       "      <td>12.681962</td>\n",
       "      <td>0.072146</td>\n",
       "      <td>21.610620</td>\n",
       "      <td>0.044251</td>\n",
       "      <td>0.003215</td>\n",
       "      <td>470.301897</td>\n",
       "      <td>511.133331</td>\n",
       "    </tr>\n",
       "    <tr>\n",
       "      <th>2013-01-01 18:00:00-06:00</th>\n",
       "      <td>435.992588</td>\n",
       "      <td>12.532157</td>\n",
       "      <td>0.066130</td>\n",
       "      <td>0.997582</td>\n",
       "      <td>0.043576</td>\n",
       "      <td>0.003207</td>\n",
       "      <td>449.635241</td>\n",
       "      <td>490.466675</td>\n",
       "    </tr>\n",
       "    <tr>\n",
       "      <th>2013-01-01 18:15:00-06:00</th>\n",
       "      <td>573.309877</td>\n",
       "      <td>106.123530</td>\n",
       "      <td>0.077056</td>\n",
       "      <td>57.876912</td>\n",
       "      <td>0.044630</td>\n",
       "      <td>0.003224</td>\n",
       "      <td>737.435228</td>\n",
       "      <td>778.266663</td>\n",
       "    </tr>\n",
       "    <tr>\n",
       "      <th>2013-01-01 18:30:00-06:00</th>\n",
       "      <td>576.841882</td>\n",
       "      <td>109.461632</td>\n",
       "      <td>0.081467</td>\n",
       "      <td>739.535266</td>\n",
       "      <td>0.045142</td>\n",
       "      <td>0.003225</td>\n",
       "      <td>1425.968614</td>\n",
       "      <td>1466.800049</td>\n",
       "    </tr>\n",
       "    <tr>\n",
       "      <th>2013-01-01 18:45:00-06:00</th>\n",
       "      <td>578.236485</td>\n",
       "      <td>110.786024</td>\n",
       "      <td>0.076337</td>\n",
       "      <td>744.554576</td>\n",
       "      <td>0.045243</td>\n",
       "      <td>0.003225</td>\n",
       "      <td>1433.701891</td>\n",
       "      <td>1474.533325</td>\n",
       "    </tr>\n",
       "    <tr>\n",
       "      <th>2013-01-01 19:00:00-06:00</th>\n",
       "      <td>579.199162</td>\n",
       "      <td>111.940141</td>\n",
       "      <td>0.078413</td>\n",
       "      <td>841.835300</td>\n",
       "      <td>0.045673</td>\n",
       "      <td>0.003226</td>\n",
       "      <td>1533.101915</td>\n",
       "      <td>1573.933350</td>\n",
       "    </tr>\n",
       "    <tr>\n",
       "      <th>2013-01-01 19:15:00-06:00</th>\n",
       "      <td>579.972755</td>\n",
       "      <td>113.043589</td>\n",
       "      <td>0.087639</td>\n",
       "      <td>929.681577</td>\n",
       "      <td>0.046394</td>\n",
       "      <td>0.003238</td>\n",
       "      <td>1622.835192</td>\n",
       "      <td>1663.666626</td>\n",
       "    </tr>\n",
       "    <tr>\n",
       "      <th>2013-01-01 19:30:00-06:00</th>\n",
       "      <td>579.937483</td>\n",
       "      <td>112.993707</td>\n",
       "      <td>0.085452</td>\n",
       "      <td>660.702662</td>\n",
       "      <td>0.046002</td>\n",
       "      <td>0.003235</td>\n",
       "      <td>1353.768541</td>\n",
       "      <td>1394.599976</td>\n",
       "    </tr>\n",
       "    <tr>\n",
       "      <th>2013-01-01 19:45:00-06:00</th>\n",
       "      <td>579.553498</td>\n",
       "      <td>103.735941</td>\n",
       "      <td>0.064837</td>\n",
       "      <td>364.900286</td>\n",
       "      <td>0.044102</td>\n",
       "      <td>0.003202</td>\n",
       "      <td>1048.301866</td>\n",
       "      <td>1089.133301</td>\n",
       "    </tr>\n",
       "    <tr>\n",
       "      <th>2013-01-01 20:00:00-06:00</th>\n",
       "      <td>579.916018</td>\n",
       "      <td>110.068954</td>\n",
       "      <td>0.075696</td>\n",
       "      <td>380.192812</td>\n",
       "      <td>0.045162</td>\n",
       "      <td>0.003224</td>\n",
       "      <td>1070.301866</td>\n",
       "      <td>1111.133301</td>\n",
       "    </tr>\n",
       "    <tr>\n",
       "      <th>2013-01-01 20:15:00-06:00</th>\n",
       "      <td>580.530326</td>\n",
       "      <td>112.611905</td>\n",
       "      <td>0.087951</td>\n",
       "      <td>1002.689093</td>\n",
       "      <td>0.046102</td>\n",
       "      <td>0.003237</td>\n",
       "      <td>1695.968614</td>\n",
       "      <td>1736.800049</td>\n",
       "    </tr>\n",
       "    <tr>\n",
       "      <th>2013-01-01 20:30:00-06:00</th>\n",
       "      <td>580.426282</td>\n",
       "      <td>112.584656</td>\n",
       "      <td>0.086776</td>\n",
       "      <td>813.288678</td>\n",
       "      <td>0.045661</td>\n",
       "      <td>0.003236</td>\n",
       "      <td>1506.435289</td>\n",
       "      <td>1547.266724</td>\n",
       "    </tr>\n",
       "    <tr>\n",
       "      <th>2013-01-01 20:45:00-06:00</th>\n",
       "      <td>579.530195</td>\n",
       "      <td>63.555483</td>\n",
       "      <td>0.062639</td>\n",
       "      <td>133.973375</td>\n",
       "      <td>0.043672</td>\n",
       "      <td>0.003202</td>\n",
       "      <td>777.168566</td>\n",
       "      <td>818.000000</td>\n",
       "    </tr>\n",
       "    <tr>\n",
       "      <th>2013-01-01 21:00:00-06:00</th>\n",
       "      <td>579.805430</td>\n",
       "      <td>107.932684</td>\n",
       "      <td>0.077445</td>\n",
       "      <td>163.104781</td>\n",
       "      <td>0.044990</td>\n",
       "      <td>0.003225</td>\n",
       "      <td>850.968553</td>\n",
       "      <td>891.799988</td>\n",
       "    </tr>\n",
       "    <tr>\n",
       "      <th>2013-01-01 21:15:00-06:00</th>\n",
       "      <td>580.417381</td>\n",
       "      <td>111.081313</td>\n",
       "      <td>0.089491</td>\n",
       "      <td>211.464354</td>\n",
       "      <td>0.046133</td>\n",
       "      <td>0.003243</td>\n",
       "      <td>903.101915</td>\n",
       "      <td>943.933350</td>\n",
       "    </tr>\n",
       "    <tr>\n",
       "      <th>2013-01-01 21:30:00-06:00</th>\n",
       "      <td>579.887621</td>\n",
       "      <td>110.756886</td>\n",
       "      <td>0.072577</td>\n",
       "      <td>161.070002</td>\n",
       "      <td>0.044952</td>\n",
       "      <td>0.003215</td>\n",
       "      <td>851.835253</td>\n",
       "      <td>892.666687</td>\n",
       "    </tr>\n",
       "    <tr>\n",
       "      <th>2013-01-01 21:45:00-06:00</th>\n",
       "      <td>579.904039</td>\n",
       "      <td>110.791950</td>\n",
       "      <td>0.073683</td>\n",
       "      <td>155.684032</td>\n",
       "      <td>0.044956</td>\n",
       "      <td>0.003219</td>\n",
       "      <td>846.501879</td>\n",
       "      <td>887.333313</td>\n",
       "    </tr>\n",
       "    <tr>\n",
       "      <th>2013-01-01 22:00:00-06:00</th>\n",
       "      <td>580.406974</td>\n",
       "      <td>111.206161</td>\n",
       "      <td>0.086555</td>\n",
       "      <td>172.353153</td>\n",
       "      <td>0.045830</td>\n",
       "      <td>0.003242</td>\n",
       "      <td>864.101915</td>\n",
       "      <td>904.933350</td>\n",
       "    </tr>\n",
       "    <tr>\n",
       "      <th>2013-01-01 22:15:00-06:00</th>\n",
       "      <td>579.842997</td>\n",
       "      <td>110.517142</td>\n",
       "      <td>0.067411</td>\n",
       "      <td>154.759967</td>\n",
       "      <td>0.044494</td>\n",
       "      <td>0.003206</td>\n",
       "      <td>845.235216</td>\n",
       "      <td>886.066650</td>\n",
       "    </tr>\n",
       "    <tr>\n",
       "      <th>2013-01-01 22:30:00-06:00</th>\n",
       "      <td>580.166943</td>\n",
       "      <td>111.781834</td>\n",
       "      <td>0.078666</td>\n",
       "      <td>723.759178</td>\n",
       "      <td>0.045347</td>\n",
       "      <td>0.003224</td>\n",
       "      <td>1415.835192</td>\n",
       "      <td>1456.666626</td>\n",
       "    </tr>\n",
       "    <tr>\n",
       "      <th>2013-01-01 22:45:00-06:00</th>\n",
       "      <td>580.422299</td>\n",
       "      <td>112.950377</td>\n",
       "      <td>0.088350</td>\n",
       "      <td>952.991648</td>\n",
       "      <td>0.046028</td>\n",
       "      <td>0.003237</td>\n",
       "      <td>1646.501940</td>\n",
       "      <td>1687.333374</td>\n",
       "    </tr>\n",
       "    <tr>\n",
       "      <th>2013-01-01 23:00:00-06:00</th>\n",
       "      <td>580.172063</td>\n",
       "      <td>112.907448</td>\n",
       "      <td>0.085514</td>\n",
       "      <td>519.555260</td>\n",
       "      <td>0.045021</td>\n",
       "      <td>0.003235</td>\n",
       "      <td>1212.768541</td>\n",
       "      <td>1253.599976</td>\n",
       "    </tr>\n",
       "    <tr>\n",
       "      <th>2013-01-01 23:15:00-06:00</th>\n",
       "      <td>579.186531</td>\n",
       "      <td>74.375160</td>\n",
       "      <td>0.063146</td>\n",
       "      <td>84.032036</td>\n",
       "      <td>0.041825</td>\n",
       "      <td>0.003192</td>\n",
       "      <td>737.701891</td>\n",
       "      <td>778.533325</td>\n",
       "    </tr>\n",
       "    <tr>\n",
       "      <th>2013-01-01 23:30:00-06:00</th>\n",
       "      <td>579.511722</td>\n",
       "      <td>114.038639</td>\n",
       "      <td>0.081758</td>\n",
       "      <td>362.626894</td>\n",
       "      <td>0.039708</td>\n",
       "      <td>0.003145</td>\n",
       "      <td>1056.301866</td>\n",
       "      <td>1097.133301</td>\n",
       "    </tr>\n",
       "    <tr>\n",
       "      <th>2013-01-01 23:45:00-06:00</th>\n",
       "      <td>935.773782</td>\n",
       "      <td>114.506009</td>\n",
       "      <td>0.068945</td>\n",
       "      <td>255.584587</td>\n",
       "      <td>0.032597</td>\n",
       "      <td>0.002694</td>\n",
       "      <td>1305.968614</td>\n",
       "      <td>1346.800049</td>\n",
       "    </tr>\n",
       "  </tbody>\n",
       "</table>\n",
       "<p>96 rows × 8 columns</p>\n",
       "</div>"
      ],
      "text/plain": [
       "                                  hvac      fridge        dw           dr  \\\n",
       "localminute                                                                 \n",
       "2013-01-01 00:00:00-06:00  1649.097509    1.245894  0.019975     0.190484   \n",
       "2013-01-01 00:15:00-06:00  1649.208268   48.619677  0.073767     5.096865   \n",
       "2013-01-01 00:30:00-06:00  1649.354092  106.393162  0.077850    59.433428   \n",
       "2013-01-01 00:45:00-06:00  1649.460729  110.138409  0.077054   102.712629   \n",
       "2013-01-01 01:00:00-06:00  1649.597811  112.318692  0.080382   194.790033   \n",
       "2013-01-01 01:15:00-06:00  1649.951663  112.544235  0.093161   241.596917   \n",
       "2013-01-01 01:30:00-06:00  1648.756352   41.179429  0.063081    44.188837   \n",
       "2013-01-01 01:45:00-06:00  1649.351952  111.841595  0.096094   936.296325   \n",
       "2013-01-01 02:00:00-06:00  1648.493076  111.543182  0.070608   485.346914   \n",
       "2013-01-01 02:15:00-06:00  1648.506312  111.661362  0.091427   479.794123   \n",
       "2013-01-01 02:30:00-06:00  1291.567169    4.546750  0.065149    85.875860   \n",
       "2013-01-01 02:45:00-06:00  1291.881869    5.579209  0.085511    30.107153   \n",
       "2013-01-01 03:00:00-06:00  1290.946679    4.279402  0.064868     1.364328   \n",
       "2013-01-01 03:15:00-06:00  1291.080093  106.658332  0.077754   126.371322   \n",
       "2013-01-01 03:30:00-06:00  1291.239927  110.449560  0.078773   421.751933   \n",
       "2013-01-01 03:45:00-06:00  1291.353063  112.535295  0.079426   539.085061   \n",
       "2013-01-01 04:00:00-06:00  1291.702883  112.779973  0.097655  1156.538433   \n",
       "2013-01-01 04:15:00-06:00   955.114626   55.236414  0.064813   100.038399   \n",
       "2013-01-01 04:30:00-06:00   955.445107   88.465821  0.087836    53.454065   \n",
       "2013-01-01 04:45:00-06:00   954.379331   88.134446  0.073094    11.666813   \n",
       "2013-01-01 05:00:00-06:00   954.205006   88.153514  0.084334     4.210555   \n",
       "2013-01-01 05:15:00-06:00   944.320415   15.876420  0.065194     1.859510   \n",
       "2013-01-01 05:30:00-06:00   944.714091   54.705926  0.088046    25.545215   \n",
       "2013-01-01 05:45:00-06:00   943.837510   54.381443  0.068146     3.233854   \n",
       "2013-01-01 06:00:00-06:00   944.014026  109.953504  0.086610   143.332033   \n",
       "2013-01-01 06:15:00-06:00   943.715909  109.933056  0.086245    94.651080   \n",
       "2013-01-01 06:30:00-06:00   603.748951   94.723145  0.063441    66.585494   \n",
       "2013-01-01 06:45:00-06:00   604.249838   96.410529  0.095685   647.163359   \n",
       "2013-01-01 07:00:00-06:00   602.487022   95.567268  0.070246   227.595895   \n",
       "2013-01-01 07:15:00-06:00   602.254833   95.613758  0.087709   201.030174   \n",
       "...                                ...         ...       ...          ...   \n",
       "2013-01-01 16:30:00-06:00   435.703747  112.362104  0.088335   416.898122   \n",
       "2013-01-01 16:45:00-06:00   435.428748   21.110929  0.064871   143.449414   \n",
       "2013-01-01 17:00:00-06:00   436.382485   23.422230  0.093550   257.420824   \n",
       "2013-01-01 17:15:00-06:00   435.863631   22.366971  0.070288    68.019371   \n",
       "2013-01-01 17:30:00-06:00   436.024328   22.366495  0.083079    64.845978   \n",
       "2013-01-01 17:45:00-06:00   435.889702   12.681962  0.072146    21.610620   \n",
       "2013-01-01 18:00:00-06:00   435.992588   12.532157  0.066130     0.997582   \n",
       "2013-01-01 18:15:00-06:00   573.309877  106.123530  0.077056    57.876912   \n",
       "2013-01-01 18:30:00-06:00   576.841882  109.461632  0.081467   739.535266   \n",
       "2013-01-01 18:45:00-06:00   578.236485  110.786024  0.076337   744.554576   \n",
       "2013-01-01 19:00:00-06:00   579.199162  111.940141  0.078413   841.835300   \n",
       "2013-01-01 19:15:00-06:00   579.972755  113.043589  0.087639   929.681577   \n",
       "2013-01-01 19:30:00-06:00   579.937483  112.993707  0.085452   660.702662   \n",
       "2013-01-01 19:45:00-06:00   579.553498  103.735941  0.064837   364.900286   \n",
       "2013-01-01 20:00:00-06:00   579.916018  110.068954  0.075696   380.192812   \n",
       "2013-01-01 20:15:00-06:00   580.530326  112.611905  0.087951  1002.689093   \n",
       "2013-01-01 20:30:00-06:00   580.426282  112.584656  0.086776   813.288678   \n",
       "2013-01-01 20:45:00-06:00   579.530195   63.555483  0.062639   133.973375   \n",
       "2013-01-01 21:00:00-06:00   579.805430  107.932684  0.077445   163.104781   \n",
       "2013-01-01 21:15:00-06:00   580.417381  111.081313  0.089491   211.464354   \n",
       "2013-01-01 21:30:00-06:00   579.887621  110.756886  0.072577   161.070002   \n",
       "2013-01-01 21:45:00-06:00   579.904039  110.791950  0.073683   155.684032   \n",
       "2013-01-01 22:00:00-06:00   580.406974  111.206161  0.086555   172.353153   \n",
       "2013-01-01 22:15:00-06:00   579.842997  110.517142  0.067411   154.759967   \n",
       "2013-01-01 22:30:00-06:00   580.166943  111.781834  0.078666   723.759178   \n",
       "2013-01-01 22:45:00-06:00   580.422299  112.950377  0.088350   952.991648   \n",
       "2013-01-01 23:00:00-06:00   580.172063  112.907448  0.085514   519.555260   \n",
       "2013-01-01 23:15:00-06:00   579.186531   74.375160  0.063146    84.032036   \n",
       "2013-01-01 23:30:00-06:00   579.511722  114.038639  0.081758   362.626894   \n",
       "2013-01-01 23:45:00-06:00   935.773782  114.506009  0.068945   255.584587   \n",
       "\n",
       "                                 wm     light  inferred mains        mains  \n",
       "localminute                                                                 \n",
       "2013-01-01 00:00:00-06:00  0.012958  0.001770     1650.568590  1691.400024  \n",
       "2013-01-01 00:15:00-06:00  0.033634  0.003055     1703.035265  1743.866699  \n",
       "2013-01-01 00:30:00-06:00  0.040128  0.003206     1815.301866  1856.133301  \n",
       "2013-01-01 00:45:00-06:00  0.043246  0.003223     1862.435289  1903.266724  \n",
       "2013-01-01 01:00:00-06:00  0.045043  0.003230     1956.835192  1997.666626  \n",
       "2013-01-01 01:15:00-06:00  0.045997  0.003243     2004.235216  2045.066650  \n",
       "2013-01-01 01:30:00-06:00  0.044314  0.003203     1734.235216  1775.066650  \n",
       "2013-01-01 01:45:00-06:00  0.045912  0.003242     2697.635118  2738.466553  \n",
       "2013-01-01 02:00:00-06:00  0.044822  0.003216     2245.501818  2286.333252  \n",
       "2013-01-01 02:15:00-06:00  0.045454  0.003238     2240.101915  2280.933350  \n",
       "2013-01-01 02:30:00-06:00  0.043784  0.003203     1382.101915  1422.933350  \n",
       "2013-01-01 02:45:00-06:00  0.044908  0.003241     1327.701891  1368.533325  \n",
       "2013-01-01 03:00:00-06:00  0.043413  0.003201     1296.701891  1337.533325  \n",
       "2013-01-01 03:15:00-06:00  0.044492  0.003223     1524.235216  1565.066650  \n",
       "2013-01-01 03:30:00-06:00  0.045172  0.003225     1823.568590  1864.400024  \n",
       "2013-01-01 03:45:00-06:00  0.045840  0.003230     1943.101915  1983.933350  \n",
       "2013-01-01 04:00:00-06:00  0.046379  0.003243     2561.168566  2602.000000  \n",
       "2013-01-01 04:15:00-06:00  0.044483  0.003204     1110.501940  1151.333374  \n",
       "2013-01-01 04:30:00-06:00  0.045869  0.003242     1097.501940  1138.333374  \n",
       "2013-01-01 04:45:00-06:00  0.044966  0.003216     1054.301866  1095.133301  \n",
       "2013-01-01 05:00:00-06:00  0.045246  0.003235     1046.701891  1087.533325  \n",
       "2013-01-01 05:15:00-06:00  0.043825  0.003202      962.168566  1003.000000  \n",
       "2013-01-01 05:30:00-06:00  0.045396  0.003241     1025.101915  1065.933350  \n",
       "2013-01-01 05:45:00-06:00  0.044432  0.003206     1001.568590  1042.400024  \n",
       "2013-01-01 06:00:00-06:00  0.045880  0.003237     1197.435289  1238.266724  \n",
       "2013-01-01 06:15:00-06:00  0.045765  0.003234     1148.435289  1189.266724  \n",
       "2013-01-01 06:30:00-06:00  0.044330  0.003204      765.168566   806.000000  \n",
       "2013-01-01 06:45:00-06:00  0.045961  0.003242     1347.968614  1388.800049  \n",
       "2013-01-01 07:00:00-06:00  0.044894  0.003216      925.768541   966.599976  \n",
       "2013-01-01 07:15:00-06:00  0.045497  0.003234      899.035204   939.866638  \n",
       "...                             ...       ...             ...          ...  \n",
       "2013-01-01 16:30:00-06:00  0.046371  0.003236      965.101915  1005.933350  \n",
       "2013-01-01 16:45:00-06:00  0.044750  0.003203      600.101915   640.933350  \n",
       "2013-01-01 17:00:00-06:00  0.046247  0.003242      717.368578   758.200012  \n",
       "2013-01-01 17:15:00-06:00  0.045102  0.003215      526.368578   567.200012  \n",
       "2013-01-01 17:30:00-06:00  0.045464  0.003234      523.368578   564.200012  \n",
       "2013-01-01 17:45:00-06:00  0.044251  0.003215      470.301897   511.133331  \n",
       "2013-01-01 18:00:00-06:00  0.043576  0.003207      449.635241   490.466675  \n",
       "2013-01-01 18:15:00-06:00  0.044630  0.003224      737.435228   778.266663  \n",
       "2013-01-01 18:30:00-06:00  0.045142  0.003225     1425.968614  1466.800049  \n",
       "2013-01-01 18:45:00-06:00  0.045243  0.003225     1433.701891  1474.533325  \n",
       "2013-01-01 19:00:00-06:00  0.045673  0.003226     1533.101915  1573.933350  \n",
       "2013-01-01 19:15:00-06:00  0.046394  0.003238     1622.835192  1663.666626  \n",
       "2013-01-01 19:30:00-06:00  0.046002  0.003235     1353.768541  1394.599976  \n",
       "2013-01-01 19:45:00-06:00  0.044102  0.003202     1048.301866  1089.133301  \n",
       "2013-01-01 20:00:00-06:00  0.045162  0.003224     1070.301866  1111.133301  \n",
       "2013-01-01 20:15:00-06:00  0.046102  0.003237     1695.968614  1736.800049  \n",
       "2013-01-01 20:30:00-06:00  0.045661  0.003236     1506.435289  1547.266724  \n",
       "2013-01-01 20:45:00-06:00  0.043672  0.003202      777.168566   818.000000  \n",
       "2013-01-01 21:00:00-06:00  0.044990  0.003225      850.968553   891.799988  \n",
       "2013-01-01 21:15:00-06:00  0.046133  0.003243      903.101915   943.933350  \n",
       "2013-01-01 21:30:00-06:00  0.044952  0.003215      851.835253   892.666687  \n",
       "2013-01-01 21:45:00-06:00  0.044956  0.003219      846.501879   887.333313  \n",
       "2013-01-01 22:00:00-06:00  0.045830  0.003242      864.101915   904.933350  \n",
       "2013-01-01 22:15:00-06:00  0.044494  0.003206      845.235216   886.066650  \n",
       "2013-01-01 22:30:00-06:00  0.045347  0.003224     1415.835192  1456.666626  \n",
       "2013-01-01 22:45:00-06:00  0.046028  0.003237     1646.501940  1687.333374  \n",
       "2013-01-01 23:00:00-06:00  0.045021  0.003235     1212.768541  1253.599976  \n",
       "2013-01-01 23:15:00-06:00  0.041825  0.003192      737.701891   778.533325  \n",
       "2013-01-01 23:30:00-06:00  0.039708  0.003145     1056.301866  1097.133301  \n",
       "2013-01-01 23:45:00-06:00  0.032597  0.002694     1305.968614  1346.800049  \n",
       "\n",
       "[96 rows x 8 columns]"
      ]
     },
     "execution_count": 71,
     "metadata": {},
     "output_type": "execute_result"
    }
   ],
   "source": [
    "store['/26']"
   ]
  },
  {
   "cell_type": "code",
   "execution_count": 39,
   "metadata": {
    "collapsed": false
   },
   "outputs": [
    {
     "name": "stderr",
     "output_type": "stream",
     "text": [
      "/Users/nipunbatra/anaconda/lib/python2.7/site-packages/ipykernel/pylab/config.py:66: DeprecationWarning: metadata {'config': True} was set from the constructor.  Metadata should be set using the .tag() method, e.g., Int().tag(key1='value1', key2='value2')\n",
      "  inline backend.\"\"\"\n",
      "/Users/nipunbatra/anaconda/lib/python2.7/site-packages/ipykernel/pylab/config.py:71: DeprecationWarning: metadata {'config': True} was set from the constructor.  Metadata should be set using the .tag() method, e.g., Int().tag(key1='value1', key2='value2')\n",
      "  'retina', 'jpeg', 'svg', 'pdf'.\"\"\")\n",
      "/Users/nipunbatra/anaconda/lib/python2.7/site-packages/ipykernel/pylab/config.py:85: DeprecationWarning: metadata {'config': True} was set from the constructor.  Metadata should be set using the .tag() method, e.g., Int().tag(key1='value1', key2='value2')\n",
      "  use `figure_formats` instead)\"\"\")\n",
      "/Users/nipunbatra/anaconda/lib/python2.7/site-packages/ipykernel/pylab/config.py:95: DeprecationWarning: metadata {'config': True} was set from the constructor.  Metadata should be set using the .tag() method, e.g., Int().tag(key1='value1', key2='value2')\n",
      "  \"\"\"\n",
      "/Users/nipunbatra/anaconda/lib/python2.7/site-packages/ipykernel/pylab/config.py:114: DeprecationWarning: metadata {'config': True} was set from the constructor.  Metadata should be set using the .tag() method, e.g., Int().tag(key1='value1', key2='value2')\n",
      "  \"\"\")\n",
      "/Users/nipunbatra/anaconda/lib/python2.7/site-packages/ipykernel/pylab/config.py:44: DeprecationWarning: InlineBackend._config_changed is deprecated: use @observe and @unobserve instead.\n",
      "  def _config_changed(self, name, old, new):\n",
      "/Users/nipunbatra/anaconda/lib/python2.7/site-packages/traitlets/traitlets.py:770: DeprecationWarning: A parent of InlineBackend._config_changed has adopted the new @observe(change) API\n",
      "  clsname, change_or_name), DeprecationWarning)\n"
     ]
    }
   ],
   "source": [
    "%matplotlib inline"
   ]
  },
  {
   "cell_type": "code",
   "execution_count": 42,
   "metadata": {
    "collapsed": false
   },
   "outputs": [
    {
     "data": {
      "text/plain": [
       "3"
      ]
     },
     "execution_count": 42,
     "metadata": {},
     "output_type": "execute_result"
    }
   ],
   "source": [
    "lbm.NosOfIters"
   ]
  },
  {
   "cell_type": "code",
   "execution_count": 44,
   "metadata": {
    "collapsed": false
   },
   "outputs": [],
   "source": [
    "pred = pd.concat(out)"
   ]
  },
  {
   "cell_type": "code",
   "execution_count": 63,
   "metadata": {
    "collapsed": false
   },
   "outputs": [],
   "source": [
    "prd_fridge= pred['dw']"
   ]
  },
  {
   "cell_type": "code",
   "execution_count": 62,
   "metadata": {
    "collapsed": false
   },
   "outputs": [],
   "source": [
    "gt = st['/%d' %home]['2013']['dishwasher1'].resample(\"15T\")"
   ]
  },
  {
   "cell_type": "code",
   "execution_count": 66,
   "metadata": {
    "collapsed": false
   },
   "outputs": [
    {
     "data": {
      "text/plain": [
       "<matplotlib.axes._subplots.AxesSubplot at 0x1190f4450>"
      ]
     },
     "execution_count": 66,
     "metadata": {},
     "output_type": "execute_result"
    },
    {
     "data": {
      "image/png": "[encoded data removed]",
      "text/plain": [
       "<matplotlib.figure.Figure at 0x11907e8d0>"
      ]
     },
     "metadata": {},
     "output_type": "display_data"
    }
   ],
   "source": [
    "prd_fridge.head(1000).plot()\n",
    "gt.head(1000).plot()"
   ]
  },
  {
   "cell_type": "code",
   "execution_count": 56,
   "metadata": {
    "collapsed": false
   },
   "outputs": [
    {
     "data": {
      "text/plain": [
       "10.06959325862114"
      ]
     },
     "execution_count": 56,
     "metadata": {},
     "output_type": "execute_result"
    }
   ],
   "source": [
    "import numpy as np\n",
    "100 - 100*np.abs(prd_fridge-gt)/gt"
   ]
  },
  {
   "cell_type": "code",
   "execution_count": 16,
   "metadata": {
    "collapsed": false
   },
   "outputs": [
    {
     "data": {
      "text/plain": [
       "[0, 1, 2, 3, 4, 5, 6, 7, 8, 9, 10, 11, 12, 13, 14, 15]"
      ]
     },
     "execution_count": 16,
     "metadata": {},
     "output_type": "execute_result"
    }
   ],
   "source": [
    "#appliance='hvac'\n",
    "#variableOfNosOfCycles[appliance]\n",
    "lbm.individual['hvac']['numberOfCyclesStats']['numberOfCycles']"
   ]
  },
  {
   "cell_type": "code",
   "execution_count": 16,
   "metadata": {
    "collapsed": true
   },
   "outputs": [],
   "source": [
    "def chunker(seq, size):\n",
    "    return (seq[pos:pos + size] for pos in xrange(0, len(seq), size))"
   ]
  },
  {
   "cell_type": "code",
   "execution_count": 17,
   "metadata": {
    "collapsed": false
   },
   "outputs": [
    {
     "name": "stderr",
     "output_type": "stream",
     "text": [
      "/Users/nipunbatra/.local/lib/python2.7/site-packages/mosek/fusion/__init__.py:35823: FutureWarning: comparison to `None` will result in an elementwise object comparison in the future.\n",
      "  if   ((v == None) or (vals == None)):\n",
      "/Users/nipunbatra/.local/lib/python2.7/site-packages/mosek/fusion/__init__.py:35931: FutureWarning: comparison to `None` will result in an elementwise object comparison in the future.\n",
      "  if   ((mx == None) or (v == None)):\n",
      "/Users/nipunbatra/.local/lib/python2.7/site-packages/mosek/fusion/__init__.py:35953: FutureWarning: comparison to `None` will result in an elementwise object comparison in the future.\n",
      "  if   ((mx == None) or (v == None)):\n",
      "/Users/nipunbatra/.local/lib/python2.7/site-packages/mosek/fusion/__init__.py:35320: FutureWarning: comparison to `None` will result in an elementwise object comparison in the future.\n",
      "  if   ((lhs == None) or (rhs == None)):\n",
      "/Users/nipunbatra/.local/lib/python2.7/site-packages/mosek/fusion/__init__.py:26391: FutureWarning: comparison to `None` will result in an elementwise object comparison in the future.\n",
      "  if   (((cof_ == None) or (subj_ == None)) or (int(len(subj_)) != int(len(cof_)))):\n",
      "/Users/nipunbatra/.local/lib/python2.7/site-packages/mosek/fusion/__init__.py:32917: FutureWarning: comparison to `None` will result in an elementwise object comparison in the future.\n",
      "  if   (lhs.cof != None):\n",
      "/Users/nipunbatra/.local/lib/python2.7/site-packages/mosek/fusion/__init__.py:37022: FutureWarning: comparison to `None` will result in an elementwise object comparison in the future.\n",
      "  if   ((mx == None) or (v == None)):\n",
      "/Users/nipunbatra/.local/lib/python2.7/site-packages/mosek/fusion/__init__.py:32919: FutureWarning: comparison to `None` will result in an elementwise object comparison in the future.\n",
      "  if   (rhs.cof != None):\n",
      "/Users/nipunbatra/.local/lib/python2.7/site-packages/mosek/fusion/__init__.py:37044: FutureWarning: comparison to `None` will result in an elementwise object comparison in the future.\n",
      "  if   ((mx == None) or (v == None)):\n"
     ]
    },
    {
     "name": "stdout",
     "output_type": "stream",
     "text": [
      "92.7791349888\n"
     ]
    }
   ],
   "source": [
    "import time\n",
    "start = time.time()\n",
    "r = lbm.disaggregate_chunk(mains)\n",
    "end = time.time()\n",
    "print end-start"
   ]
  },
  {
   "cell_type": "code",
   "execution_count": 69,
   "metadata": {
    "collapsed": true
   },
   "outputs": [],
   "source": [
    "proc = 4\n",
    "size = len(mains)/proc\n",
    "from pathos.multiprocessing import Pool\n",
    "p = Pool(proc)"
   ]
  },
  {
   "cell_type": "code",
   "execution_count": 70,
   "metadata": {
    "collapsed": false
   },
   "outputs": [
    {
     "data": {
      "text/plain": [
       "8758"
      ]
     },
     "execution_count": 70,
     "metadata": {},
     "output_type": "execute_result"
    }
   ],
   "source": [
    "size"
   ]
  },
  {
   "cell_type": "code",
   "execution_count": null,
   "metadata": {
    "collapsed": false
   },
   "outputs": [],
   "source": [
    "import time\n",
    "start = time.time()\n",
    "r1 = p.map(lbm.disaggregate_chunk, chunker(mains, size))\n",
    "r2 = pd.concat([x['inferred appliance energy'] for x in r1])\n",
    "end = time.time()\n",
    "print end-start\n"
   ]
  },
  {
   "cell_type": "code",
   "execution_count": 45,
   "metadata": {
    "collapsed": false
   },
   "outputs": [
    {
     "data": {
      "text/plain": [
       "2688"
      ]
     },
     "execution_count": 45,
     "metadata": {},
     "output_type": "execute_result"
    }
   ],
   "source": [
    "len(mains)"
   ]
  },
  {
   "cell_type": "code",
   "execution_count": 48,
   "metadata": {
    "collapsed": false
   },
   "outputs": [
    {
     "data": {
      "text/plain": [
       "True"
      ]
     },
     "execution_count": 48,
     "metadata": {},
     "output_type": "execute_result"
    }
   ],
   "source": [
    "r2.index.is_monotonic"
   ]
  },
  {
   "cell_type": "code",
   "execution_count": 17,
   "metadata": {
    "collapsed": false
   },
   "outputs": [
    {
     "name": "stderr",
     "output_type": "stream",
     "text": [
      "/Users/nipunbatra/.local/lib/python2.7/site-packages/mosek/fusion/__init__.py:35823: FutureWarning: comparison to `None` will result in an elementwise object comparison in the future.\n",
      "  if   ((v == None) or (vals == None)):\n",
      "/Users/nipunbatra/.local/lib/python2.7/site-packages/mosek/fusion/__init__.py:35931: FutureWarning: comparison to `None` will result in an elementwise object comparison in the future.\n",
      "  if   ((mx == None) or (v == None)):\n",
      "/Users/nipunbatra/.local/lib/python2.7/site-packages/mosek/fusion/__init__.py:35953: FutureWarning: comparison to `None` will result in an elementwise object comparison in the future.\n",
      "  if   ((mx == None) or (v == None)):\n",
      "/Users/nipunbatra/.local/lib/python2.7/site-packages/mosek/fusion/__init__.py:35320: FutureWarning: comparison to `None` will result in an elementwise object comparison in the future.\n",
      "  if   ((lhs == None) or (rhs == None)):\n",
      "/Users/nipunbatra/.local/lib/python2.7/site-packages/mosek/fusion/__init__.py:26391: FutureWarning: comparison to `None` will result in an elementwise object comparison in the future.\n",
      "  if   (((cof_ == None) or (subj_ == None)) or (int(len(subj_)) != int(len(cof_)))):\n",
      "/Users/nipunbatra/.local/lib/python2.7/site-packages/mosek/fusion/__init__.py:32917: FutureWarning: comparison to `None` will result in an elementwise object comparison in the future.\n",
      "  if   (lhs.cof != None):\n",
      "/Users/nipunbatra/.local/lib/python2.7/site-packages/mosek/fusion/__init__.py:37022: FutureWarning: comparison to `None` will result in an elementwise object comparison in the future.\n",
      "  if   ((mx == None) or (v == None)):\n",
      "/Users/nipunbatra/.local/lib/python2.7/site-packages/mosek/fusion/__init__.py:32919: FutureWarning: comparison to `None` will result in an elementwise object comparison in the future.\n",
      "  if   (rhs.cof != None):\n",
      "/Users/nipunbatra/.local/lib/python2.7/site-packages/mosek/fusion/__init__.py:37044: FutureWarning: comparison to `None` will result in an elementwise object comparison in the future.\n",
      "  if   ((mx == None) or (v == None)):\n"
     ]
    },
    {
     "name": "stdout",
     "output_type": "stream",
     "text": [
      "----------------------------------------------------------------------------------------------------\n",
      "*************Iteration: 1*****************\n",
      "Employing the Mosek solver to solve the problem:\n",
      "\n",
      "Declaring variables and constraints...\n",
      "\n",
      "\n",
      " Solving the problem ...\n",
      "\n",
      "+++++++++++++++optimization status+++++++++++++++++++\n",
      "Number of variables:20180\n",
      "Number of constraints:13688\n",
      "Primal solution status:SolutionStatus.Optimal\n",
      "Primal value:48642216.2251\n",
      "Dual solution status:SolutionStatus.Optimal\n",
      "Dual value:48642216.2248\n",
      "Accepted solution status:AccSolutionStatus.Anything\n",
      "+++++++++++++++optimization status+++++++++++++++++++\n",
      "Solving this problem took '3.41081905365' seconds\n",
      "\n",
      " log(datalikelihood*prior)=-28269.4411556\n",
      "\n",
      "*************Iteration: 2*****************\n",
      "Employing the Mosek solver to solve the problem:\n",
      "\n",
      "Declaring variables and constraints...\n",
      "\n",
      "\n",
      " Solving the problem ...\n",
      "\n",
      "+++++++++++++++optimization status+++++++++++++++++++\n",
      "Number of variables:20180\n",
      "Number of constraints:13688\n",
      "Primal solution status:SolutionStatus.Optimal\n",
      "Primal value:1092.85584038\n",
      "Dual solution status:SolutionStatus.Optimal\n",
      "Dual value:1092.85434298\n",
      "Accepted solution status:AccSolutionStatus.Anything\n",
      "+++++++++++++++optimization status+++++++++++++++++++\n",
      "Solving this problem took '3.54197502136' seconds\n",
      "\n",
      " log(datalikelihood*prior)=-19571.1808832\n",
      "\n",
      "*************Iteration: 3*****************\n",
      "Employing the Mosek solver to solve the problem:\n",
      "\n",
      "Declaring variables and constraints...\n",
      "\n",
      "\n",
      " Solving the problem ...\n",
      "\n",
      "+++++++++++++++optimization status+++++++++++++++++++\n",
      "Number of variables:20180\n",
      "Number of constraints:13688\n",
      "Primal solution status:SolutionStatus.Optimal\n",
      "Primal value:1349.16506171\n",
      "Dual solution status:SolutionStatus.Optimal\n",
      "Dual value:1349.16482819\n",
      "Accepted solution status:AccSolutionStatus.Anything\n",
      "+++++++++++++++optimization status+++++++++++++++++++\n",
      "Solving this problem took '3.23842096329' seconds\n",
      "\n",
      " log(datalikelihood*prior)=-11595.8752264\n",
      "\n",
      "*************Iteration: 4*****************\n",
      "Employing the Mosek solver to solve the problem:\n",
      "\n",
      "Declaring variables and constraints...\n",
      "\n",
      "\n",
      " Solving the problem ...\n",
      "\n",
      "+++++++++++++++optimization status+++++++++++++++++++\n",
      "Number of variables:20180\n",
      "Number of constraints:13688\n",
      "Primal solution status:SolutionStatus.Optimal\n",
      "Primal value:1363.76112143\n",
      "Dual solution status:SolutionStatus.Optimal\n",
      "Dual value:1363.76094674\n",
      "Accepted solution status:AccSolutionStatus.Anything\n",
      "+++++++++++++++optimization status+++++++++++++++++++\n",
      "Solving this problem took '3.36377716064' seconds\n",
      "\n",
      " log(datalikelihood*prior)=-11594.9933853\n",
      "\n"
     ]
    }
   ],
   "source": [
    "results = lbm.disaggregate_chunk(mains)"
   ]
  },
  {
   "cell_type": "code",
   "execution_count": 19,
   "metadata": {
    "collapsed": false
   },
   "outputs": [
    {
     "name": "stderr",
     "output_type": "stream",
     "text": [
      "/Users/nipunbatra/anaconda/lib/python2.7/site-packages/ipykernel/pylab/config.py:66: DeprecationWarning: metadata {'config': True} was set from the constructor.  Metadata should be set using the .tag() method, e.g., Int().tag(key1='value1', key2='value2')\n",
      "  inline backend.\"\"\"\n",
      "/Users/nipunbatra/anaconda/lib/python2.7/site-packages/ipykernel/pylab/config.py:71: DeprecationWarning: metadata {'config': True} was set from the constructor.  Metadata should be set using the .tag() method, e.g., Int().tag(key1='value1', key2='value2')\n",
      "  'retina', 'jpeg', 'svg', 'pdf'.\"\"\")\n",
      "/Users/nipunbatra/anaconda/lib/python2.7/site-packages/ipykernel/pylab/config.py:85: DeprecationWarning: metadata {'config': True} was set from the constructor.  Metadata should be set using the .tag() method, e.g., Int().tag(key1='value1', key2='value2')\n",
      "  use `figure_formats` instead)\"\"\")\n",
      "/Users/nipunbatra/anaconda/lib/python2.7/site-packages/ipykernel/pylab/config.py:95: DeprecationWarning: metadata {'config': True} was set from the constructor.  Metadata should be set using the .tag() method, e.g., Int().tag(key1='value1', key2='value2')\n",
      "  \"\"\"\n",
      "/Users/nipunbatra/anaconda/lib/python2.7/site-packages/ipykernel/pylab/config.py:114: DeprecationWarning: metadata {'config': True} was set from the constructor.  Metadata should be set using the .tag() method, e.g., Int().tag(key1='value1', key2='value2')\n",
      "  \"\"\")\n",
      "/Users/nipunbatra/anaconda/lib/python2.7/site-packages/ipykernel/pylab/config.py:44: DeprecationWarning: InlineBackend._config_changed is deprecated: use @observe and @unobserve instead.\n",
      "  def _config_changed(self, name, old, new):\n",
      "/Users/nipunbatra/anaconda/lib/python2.7/site-packages/traitlets/traitlets.py:770: DeprecationWarning: A parent of InlineBackend._config_changed has adopted the new @observe(change) API\n",
      "  clsname, change_or_name), DeprecationWarning)\n"
     ]
    }
   ],
   "source": [
    "%matplotlib inline"
   ]
  },
  {
   "cell_type": "code",
   "execution_count": 66,
   "metadata": {
    "collapsed": false
   },
   "outputs": [
    {
     "data": {
      "text/plain": [
       "<module 'nilmtk.results' from '/Users/nipunbatra/git/nilmtk/nilmtk/results.pyc'>"
      ]
     },
     "execution_count": 66,
     "metadata": {},
     "output_type": "execute_result"
    }
   ],
   "source": [
    "results"
   ]
  },
  {
   "cell_type": "code",
   "execution_count": 20,
   "metadata": {
    "collapsed": false
   },
   "outputs": [
    {
     "data": {
      "image/png": "[encoded data removed]",
      "text/plain": [
       "<matplotlib.figure.Figure at 0x11eb27e90>"
      ]
     },
     "metadata": {},
     "output_type": "display_data"
    }
   ],
   "source": [
    "import matplotlib.pyplot as plt\n",
    "results['inferred appliance energy']['fridge'].head(100).plot(label='Pred')\n",
    "df['refrigerator1'].head(100).plot(label='GT')\n",
    "plt.legend()\n",
    "plt.savefig(\"/Users/nipunbatra/Desktop/lbn_fridge.png\")"
   ]
  },
  {
   "cell_type": "code",
   "execution_count": 21,
   "metadata": {
    "collapsed": false
   },
   "outputs": [
    {
     "data": {
      "image/png": "[encoded data removed]",
      "text/plain": [
       "<matplotlib.figure.Figure at 0x126b37b10>"
      ]
     },
     "metadata": {},
     "output_type": "display_data"
    }
   ],
   "source": [
    "results['inferred appliance energy']['hvac'].head(100).plot(label='Pred')\n",
    "df['air1'].head(100).plot(label='GT')\n",
    "plt.legend()\n",
    "plt.savefig(\"/Users/nipunbatra/Desktop/hvac.png\")"
   ]
  },
  {
   "cell_type": "code",
   "execution_count": 39,
   "metadata": {
    "collapsed": false
   },
   "outputs": [
    {
     "data": {
      "text/html": [
       "<div>\n",
       "<table border=\"1\" class=\"dataframe\">\n",
       "  <thead>\n",
       "    <tr style=\"text-align: right;\">\n",
       "      <th></th>\n",
       "      <th>hvac</th>\n",
       "      <th>fridge</th>\n",
       "      <th>inferred mains</th>\n",
       "      <th>mains</th>\n",
       "    </tr>\n",
       "    <tr>\n",
       "      <th>localminute</th>\n",
       "      <th></th>\n",
       "      <th></th>\n",
       "      <th></th>\n",
       "      <th></th>\n",
       "    </tr>\n",
       "  </thead>\n",
       "  <tbody>\n",
       "    <tr>\n",
       "      <th>2013-01-01 00:00:00-06:00</th>\n",
       "      <td>0.000101</td>\n",
       "      <td>0.000054</td>\n",
       "      <td>0.000154</td>\n",
       "      <td>1119.599976</td>\n",
       "    </tr>\n",
       "    <tr>\n",
       "      <th>2013-01-01 00:15:00-06:00</th>\n",
       "      <td>0.000161</td>\n",
       "      <td>0.000126</td>\n",
       "      <td>0.000288</td>\n",
       "      <td>1143.933350</td>\n",
       "    </tr>\n",
       "    <tr>\n",
       "      <th>2013-01-01 00:30:00-06:00</th>\n",
       "      <td>0.000220</td>\n",
       "      <td>0.000206</td>\n",
       "      <td>0.000426</td>\n",
       "      <td>1284.733276</td>\n",
       "    </tr>\n",
       "    <tr>\n",
       "      <th>2013-01-01 00:45:00-06:00</th>\n",
       "      <td>35.879779</td>\n",
       "      <td>35.630906</td>\n",
       "      <td>71.510685</td>\n",
       "      <td>1440.400024</td>\n",
       "    </tr>\n",
       "    <tr>\n",
       "      <th>2013-01-01 01:00:00-06:00</th>\n",
       "      <td>44.013008</td>\n",
       "      <td>35.630972</td>\n",
       "      <td>79.643979</td>\n",
       "      <td>1448.533325</td>\n",
       "    </tr>\n",
       "  </tbody>\n",
       "</table>\n",
       "</div>"
      ],
      "text/plain": [
       "                                hvac     fridge  inferred mains        mains\n",
       "localminute                                                                 \n",
       "2013-01-01 00:00:00-06:00   0.000101   0.000054        0.000154  1119.599976\n",
       "2013-01-01 00:15:00-06:00   0.000161   0.000126        0.000288  1143.933350\n",
       "2013-01-01 00:30:00-06:00   0.000220   0.000206        0.000426  1284.733276\n",
       "2013-01-01 00:45:00-06:00  35.879779  35.630906       71.510685  1440.400024\n",
       "2013-01-01 01:00:00-06:00  44.013008  35.630972       79.643979  1448.533325"
      ]
     },
     "execution_count": 39,
     "metadata": {},
     "output_type": "execute_result"
    }
   ],
   "source": [
    "results['inferred appliance energy'].head()"
   ]
  },
  {
   "cell_type": "code",
   "execution_count": 22,
   "metadata": {
    "collapsed": false
   },
   "outputs": [
    {
     "data": {
      "text/html": [
       "<div>\n",
       "<table border=\"1\" class=\"dataframe\">\n",
       "  <thead>\n",
       "    <tr style=\"text-align: right;\">\n",
       "      <th></th>\n",
       "      <th>hvac</th>\n",
       "      <th>fridge</th>\n",
       "      <th>inferred mains</th>\n",
       "      <th>mains</th>\n",
       "    </tr>\n",
       "    <tr>\n",
       "      <th>localminute</th>\n",
       "      <th></th>\n",
       "      <th></th>\n",
       "      <th></th>\n",
       "      <th></th>\n",
       "    </tr>\n",
       "  </thead>\n",
       "  <tbody>\n",
       "    <tr>\n",
       "      <th>2013-01-01 00:00:00-06:00</th>\n",
       "      <td>0.000025</td>\n",
       "      <td>0.000013</td>\n",
       "      <td>0.000038</td>\n",
       "      <td>1119.599976</td>\n",
       "    </tr>\n",
       "    <tr>\n",
       "      <th>2013-01-01 00:15:00-06:00</th>\n",
       "      <td>0.000040</td>\n",
       "      <td>0.000031</td>\n",
       "      <td>0.000070</td>\n",
       "      <td>1143.933350</td>\n",
       "    </tr>\n",
       "    <tr>\n",
       "      <th>2013-01-01 00:30:00-06:00</th>\n",
       "      <td>0.000054</td>\n",
       "      <td>0.000050</td>\n",
       "      <td>0.000104</td>\n",
       "      <td>1284.733276</td>\n",
       "    </tr>\n",
       "    <tr>\n",
       "      <th>2013-01-01 00:45:00-06:00</th>\n",
       "      <td>34.828450</td>\n",
       "      <td>36.735850</td>\n",
       "      <td>71.564300</td>\n",
       "      <td>1440.400024</td>\n",
       "    </tr>\n",
       "    <tr>\n",
       "      <th>2013-01-01 01:00:00-06:00</th>\n",
       "      <td>42.961733</td>\n",
       "      <td>36.735866</td>\n",
       "      <td>79.697599</td>\n",
       "      <td>1448.533325</td>\n",
       "    </tr>\n",
       "  </tbody>\n",
       "</table>\n",
       "</div>"
      ],
      "text/plain": [
       "                                hvac     fridge  inferred mains        mains\n",
       "localminute                                                                 \n",
       "2013-01-01 00:00:00-06:00   0.000025   0.000013        0.000038  1119.599976\n",
       "2013-01-01 00:15:00-06:00   0.000040   0.000031        0.000070  1143.933350\n",
       "2013-01-01 00:30:00-06:00   0.000054   0.000050        0.000104  1284.733276\n",
       "2013-01-01 00:45:00-06:00  34.828450  36.735850       71.564300  1440.400024\n",
       "2013-01-01 01:00:00-06:00  42.961733  36.735866       79.697599  1448.533325"
      ]
     },
     "execution_count": 22,
     "metadata": {},
     "output_type": "execute_result"
    }
   ],
   "source": [
    "results['inferred appliance energy'].head()"
   ]
  },
  {
   "cell_type": "code",
   "execution_count": 23,
   "metadata": {
    "collapsed": true
   },
   "outputs": [],
   "source": [
    "pred = results['inferred appliance energy']['fridge'].sum()\n",
    "gt = df['refrigerator1'].sum()\n"
   ]
  },
  {
   "cell_type": "code",
   "execution_count": 24,
   "metadata": {
    "collapsed": false
   },
   "outputs": [
    {
     "data": {
      "text/plain": [
       "18.038517177141244"
      ]
     },
     "execution_count": 24,
     "metadata": {},
     "output_type": "execute_result"
    }
   ],
   "source": [
    "100-100*(gt-pred)/gt"
   ]
  },
  {
   "cell_type": "code",
   "execution_count": 34,
   "metadata": {
    "collapsed": false
   },
   "outputs": [],
   "source": [
    "mains_from_csv = pd.read_csv(\"/Users/nipunbatra/Desktop/ma.csv\", index_col=0, names=['power']).squeeze()"
   ]
  },
  {
   "cell_type": "code",
   "execution_count": 35,
   "metadata": {
    "collapsed": false
   },
   "outputs": [],
   "source": [
    "mains_from_csv.index = pd.to_datetime(mains_from_csv.index)"
   ]
  },
  {
   "cell_type": "code",
   "execution_count": 38,
   "metadata": {
    "collapsed": false
   },
   "outputs": [
    {
     "data": {
      "text/plain": [
       "2013-01-01 06:00:00    1237.0\n",
       "2013-01-01 06:02:00    1235.0\n",
       "2013-01-01 06:04:00    1215.5\n",
       "2013-01-01 06:06:00    1169.0\n",
       "2013-01-01 06:08:00    1155.5\n",
       "2013-01-01 06:10:00     991.0\n",
       "2013-01-01 06:12:00     926.0\n",
       "2013-01-01 06:14:00     971.5\n",
       "2013-01-01 06:16:00    1038.5\n",
       "2013-01-01 06:18:00     995.5\n",
       "2013-01-01 06:20:00    1033.0\n",
       "2013-01-01 06:22:00    1060.5\n",
       "2013-01-01 06:24:00    1159.0\n",
       "2013-01-01 06:26:00    1369.5\n",
       "2013-01-01 06:28:00    1420.0\n",
       "2013-01-01 06:30:00    1296.0\n",
       "2013-01-01 06:32:00    1288.0\n",
       "2013-01-01 06:34:00    1294.0\n",
       "2013-01-01 06:36:00    1277.0\n",
       "2013-01-01 06:38:00    1286.0\n",
       "2013-01-01 06:40:00    1276.5\n",
       "2013-01-01 06:42:00    1267.5\n",
       "2013-01-01 06:44:00    1284.0\n",
       "2013-01-01 06:46:00    1336.5\n",
       "2013-01-01 06:48:00    1780.5\n",
       "2013-01-01 06:50:00    1353.5\n",
       "2013-01-01 06:52:00    1430.5\n",
       "2013-01-01 06:54:00    1412.0\n",
       "2013-01-01 06:56:00    1411.5\n",
       "2013-01-01 06:58:00    1445.0\n",
       "                        ...  \n",
       "2013-01-02 05:00:00     595.0\n",
       "2013-01-02 05:02:00     593.0\n",
       "2013-01-02 05:04:00     544.0\n",
       "2013-01-02 05:06:00     430.5\n",
       "2013-01-02 05:08:00     434.0\n",
       "2013-01-02 05:10:00     428.0\n",
       "2013-01-02 05:12:00     430.0\n",
       "2013-01-02 05:14:00     427.0\n",
       "2013-01-02 05:16:00     446.5\n",
       "2013-01-02 05:18:00     429.5\n",
       "2013-01-02 05:20:00     427.5\n",
       "2013-01-02 05:22:00     427.5\n",
       "2013-01-02 05:24:00     426.0\n",
       "2013-01-02 05:26:00     424.5\n",
       "2013-01-02 05:28:00     427.5\n",
       "2013-01-02 05:30:00     434.0\n",
       "2013-01-02 05:32:00     440.5\n",
       "2013-01-02 05:34:00     539.0\n",
       "2013-01-02 05:36:00     713.0\n",
       "2013-01-02 05:38:00     679.0\n",
       "2013-01-02 05:40:00     686.0\n",
       "2013-01-02 05:42:00     683.5\n",
       "2013-01-02 05:44:00     695.0\n",
       "2013-01-02 05:46:00     682.5\n",
       "2013-01-02 05:48:00     785.5\n",
       "2013-01-02 05:50:00     787.5\n",
       "2013-01-02 05:52:00     780.5\n",
       "2013-01-02 05:54:00     783.5\n",
       "2013-01-02 05:56:00     775.5\n",
       "2013-01-02 05:58:00     772.5\n",
       "Name: power, dtype: float64"
      ]
     },
     "execution_count": 38,
     "metadata": {},
     "output_type": "execute_result"
    }
   ],
   "source": [
    "mains_from_csv"
   ]
  },
  {
   "cell_type": "code",
   "execution_count": 37,
   "metadata": {
    "collapsed": false
   },
   "outputs": [
    {
     "ename": "ValueError",
     "evalue": "total size of new array must be unchanged",
     "output_type": "error",
     "traceback": [
      "\u001b[0;31m---------------------------------------------------------------------------\u001b[0m",
      "\u001b[0;31mValueError\u001b[0m                                Traceback (most recent call last)",
      "\u001b[0;32m<ipython-input-37-e52595c6dbcc>\u001b[0m in \u001b[0;36m<module>\u001b[0;34m()\u001b[0m\n\u001b[0;32m----> 1\u001b[0;31m \u001b[0mfrom_csv_array\u001b[0m \u001b[0;34m=\u001b[0m \u001b[0mmains_from_csv\u001b[0m\u001b[0;34m.\u001b[0m\u001b[0mvalues\u001b[0m\u001b[0;34m.\u001b[0m\u001b[0mravel\u001b[0m\u001b[0;34m(\u001b[0m\u001b[0;34m)\u001b[0m\u001b[0;34m.\u001b[0m\u001b[0mreshape\u001b[0m\u001b[0;34m(\u001b[0m\u001b[0;34m(\u001b[0m\u001b[0;36m1\u001b[0m\u001b[0;34m,\u001b[0m \u001b[0mnosOfTimePoints\u001b[0m\u001b[0;34m)\u001b[0m\u001b[0;34m)\u001b[0m\u001b[0;34m\u001b[0m\u001b[0m\n\u001b[0m",
      "\u001b[0;31mValueError\u001b[0m: total size of new array must be unchanged"
     ]
    }
   ],
   "source": [
    "from_csv_array = mains_from_csv.values.ravel().reshape((1, nosOfTimePoints))"
   ]
  },
  {
   "cell_type": "code",
   "execution_count": 78,
   "metadata": {
    "collapsed": false
   },
   "outputs": [
    {
     "data": {
      "text/plain": [
       "True"
      ]
     },
     "execution_count": 78,
     "metadata": {},
     "output_type": "execute_result"
    }
   ],
   "source": [
    "np.allclose(from_csv_array, mains.tail(719).values.ravel().reshape(1,nosOfTimePoints-1))"
   ]
  },
  {
   "cell_type": "code",
   "execution_count": 75,
   "metadata": {
    "collapsed": false
   },
   "outputs": [
    {
     "data": {
      "text/plain": [
       "(1235.0, 1237.0)"
      ]
     },
     "execution_count": 75,
     "metadata": {},
     "output_type": "execute_result"
    }
   ],
   "source": [
    "from_csv_array[0][0], mains.head(719).values.ravel().reshape(1,nosOfTimePoints-1)[0][0]"
   ]
  },
  {
   "cell_type": "code",
   "execution_count": 62,
   "metadata": {
    "collapsed": false
   },
   "outputs": [
    {
     "data": {
      "text/plain": [
       "(1, 720)"
      ]
     },
     "execution_count": 62,
     "metadata": {},
     "output_type": "execute_result"
    }
   ],
   "source": [
    "mains.values.ravel().reshape((1,nosOfTimePoints)).shape"
   ]
  },
  {
   "cell_type": "code",
   "execution_count": 45,
   "metadata": {
    "collapsed": false
   },
   "outputs": [
    {
     "name": "stdout",
     "output_type": "stream",
     "text": [
      "*************Iteration: 1*****************\n",
      "Employing the Mosek solver to solve the problem:\n",
      "\n",
      "Declaring variables and constraints...\n",
      "\n",
      "\n",
      " Solving the problem ...\n",
      "\n",
      "+++++++++++++++optimization status+++++++++++++++++++\n",
      "Number of variables:25229\n",
      "Number of constraints:18014\n",
      "Primal solution status:SolutionStatus.NearOptimal\n",
      "Primal value:1023.58604783\n",
      "Dual solution status:SolutionStatus.NearOptimal\n",
      "Dual value:1023.58505502\n",
      "Accepted solution status:AccSolutionStatus.Anything\n",
      "+++++++++++++++optimization status+++++++++++++++++++\n",
      "Solving this problem took '3.99512696266' seconds\n",
      "\n",
      " log(datalikelihood*prior)=11915.8438817\n",
      "\n",
      "*************Iteration: 2*****************\n",
      "Employing the Mosek solver to solve the problem:\n",
      "\n",
      "Declaring variables and constraints...\n",
      "\n",
      "\n",
      " Solving the problem ...\n",
      "\n",
      "+++++++++++++++optimization status+++++++++++++++++++\n",
      "Number of variables:25229\n",
      "Number of constraints:18014\n",
      "Primal solution status:SolutionStatus.NearOptimal\n",
      "Primal value:1024.68093237\n",
      "Dual solution status:SolutionStatus.NearOptimal\n",
      "Dual value:1024.68039375\n",
      "Accepted solution status:AccSolutionStatus.Anything\n",
      "+++++++++++++++optimization status+++++++++++++++++++\n",
      "Solving this problem took '4.46489214897' seconds\n",
      "\n",
      " log(datalikelihood*prior)=23456.046738\n",
      "\n",
      "*************Iteration: 3*****************\n",
      "Employing the Mosek solver to solve the problem:\n",
      "\n",
      "Declaring variables and constraints...\n",
      "\n",
      "\n",
      " Solving the problem ...\n",
      "\n",
      "+++++++++++++++optimization status+++++++++++++++++++\n",
      "Number of variables:25229\n",
      "Number of constraints:18014\n",
      "Primal solution status:SolutionStatus.NearOptimal\n",
      "Primal value:1024.45394051\n",
      "Dual solution status:SolutionStatus.NearOptimal\n",
      "Dual value:1024.45271517\n",
      "Accepted solution status:AccSolutionStatus.Anything\n",
      "+++++++++++++++optimization status+++++++++++++++++++\n",
      "Solving this problem took '4.00568699837' seconds\n",
      "\n",
      " log(datalikelihood*prior)=23455.7344939\n",
      "\n",
      "*************Iteration: 4*****************\n",
      "Employing the Mosek solver to solve the problem:\n",
      "\n",
      "Declaring variables and constraints...\n",
      "\n",
      "\n",
      " Solving the problem ...\n",
      "\n",
      "+++++++++++++++optimization status+++++++++++++++++++\n",
      "Number of variables:25229\n",
      "Number of constraints:18014\n",
      "Primal solution status:SolutionStatus.NearOptimal\n",
      "Primal value:1024.4529591\n",
      "Dual solution status:SolutionStatus.NearOptimal\n",
      "Dual value:1024.45259307\n",
      "Accepted solution status:AccSolutionStatus.Anything\n",
      "+++++++++++++++optimization status+++++++++++++++++++\n",
      "Solving this problem took '4.10280799866' seconds\n",
      "\n",
      " log(datalikelihood*prior)=23456.4643548\n",
      "\n"
     ]
    }
   ],
   "source": [
    "results = lbm.disaggregate_chunk(mains.astype('float64'))"
   ]
  },
  {
   "cell_type": "code",
   "execution_count": 23,
   "metadata": {
    "collapsed": true
   },
   "outputs": [],
   "source": [
    "from mosek.fusion import *\n",
    "from mosek.array import *"
   ]
  },
  {
   "cell_type": "code",
   "execution_count": 30,
   "metadata": {
    "collapsed": false
   },
   "outputs": [
    {
     "name": "stdout",
     "output_type": "stream",
     "text": [
      "\n"
     ]
    }
   ],
   "source": [
    "import numpy as np"
   ]
  },
  {
   "cell_type": "code",
   "execution_count": 31,
   "metadata": {
    "collapsed": false
   },
   "outputs": [],
   "source": [
    "def dm(m):\n",
    "    nosOfTimePoints = len(m)\n",
    "    m_temp = m.values.ravel().reshape(1,nosOfTimePoints)\n",
    "    print m_temp.shape, np.mean(m_temp)\n",
    "    return DenseMatrix(m_temp)"
   ]
  },
  {
   "cell_type": "code",
   "execution_count": 44,
   "metadata": {
    "collapsed": false
   },
   "outputs": [
    {
     "name": "stdout",
     "output_type": "stream",
     "text": [
      "(1, 720) 1073.04305556\n"
     ]
    },
    {
     "data": {
      "text/plain": [
       "<mosek.fusion.DenseMatrix instance at 0x12d807710>"
      ]
     },
     "execution_count": 44,
     "metadata": {},
     "output_type": "execute_result"
    }
   ],
   "source": [
    "dm(mains)"
   ]
  },
  {
   "cell_type": "code",
   "execution_count": 43,
   "metadata": {
    "collapsed": false
   },
   "outputs": [],
   "source": [
    "mains = mains.astype('float64')"
   ]
  },
  {
   "cell_type": "code",
   "execution_count": 44,
   "metadata": {
    "collapsed": false
   },
   "outputs": [
    {
     "name": "stderr",
     "output_type": "stream",
     "text": [
      "/Users/nipunbatra/anaconda/lib/python2.7/site-packages/ipykernel/pylab/config.py:66: DeprecationWarning: metadata {'config': True} was set from the constructor.  Metadata should be set using the .tag() method, e.g., Int().tag(key1='value1', key2='value2')\n",
      "  inline backend.\"\"\"\n",
      "/Users/nipunbatra/anaconda/lib/python2.7/site-packages/ipykernel/pylab/config.py:71: DeprecationWarning: metadata {'config': True} was set from the constructor.  Metadata should be set using the .tag() method, e.g., Int().tag(key1='value1', key2='value2')\n",
      "  'retina', 'jpeg', 'svg', 'pdf'.\"\"\")\n",
      "/Users/nipunbatra/anaconda/lib/python2.7/site-packages/ipykernel/pylab/config.py:85: DeprecationWarning: metadata {'config': True} was set from the constructor.  Metadata should be set using the .tag() method, e.g., Int().tag(key1='value1', key2='value2')\n",
      "  use `figure_formats` instead)\"\"\")\n",
      "/Users/nipunbatra/anaconda/lib/python2.7/site-packages/ipykernel/pylab/config.py:95: DeprecationWarning: metadata {'config': True} was set from the constructor.  Metadata should be set using the .tag() method, e.g., Int().tag(key1='value1', key2='value2')\n",
      "  \"\"\"\n",
      "/Users/nipunbatra/anaconda/lib/python2.7/site-packages/ipykernel/pylab/config.py:114: DeprecationWarning: metadata {'config': True} was set from the constructor.  Metadata should be set using the .tag() method, e.g., Int().tag(key1='value1', key2='value2')\n",
      "  \"\"\")\n",
      "/Users/nipunbatra/anaconda/lib/python2.7/site-packages/ipykernel/pylab/config.py:44: DeprecationWarning: InlineBackend._config_changed is deprecated: use @observe and @unobserve instead.\n",
      "  def _config_changed(self, name, old, new):\n",
      "/Users/nipunbatra/anaconda/lib/python2.7/site-packages/traitlets/traitlets.py:770: DeprecationWarning: A parent of InlineBackend._config_changed has adopted the new @observe(change) API\n",
      "  clsname, change_or_name), DeprecationWarning)\n"
     ]
    }
   ],
   "source": [
    "%matplotlib inline"
   ]
  },
  {
   "cell_type": "code",
   "execution_count": 45,
   "metadata": {
    "collapsed": false
   },
   "outputs": [
    {
     "ename": "AttributeError",
     "evalue": "'FigureCanvasAgg' object has no attribute 'invalidate'",
     "output_type": "error",
     "traceback": [
      "\u001b[0;31m---------------------------------------------------------------------------\u001b[0m",
      "\u001b[0;31mAttributeError\u001b[0m                            Traceback (most recent call last)",
      "\u001b[0;32m<ipython-input-45-8c08b6066a91>\u001b[0m in \u001b[0;36m<module>\u001b[0;34m()\u001b[0m\n\u001b[0;32m----> 1\u001b[0;31m \u001b[0mresults\u001b[0m\u001b[0;34m[\u001b[0m\u001b[0;34m'inferred appliance energy'\u001b[0m\u001b[0;34m]\u001b[0m\u001b[0;34m[\u001b[0m\u001b[0;34m'fridgefreezer'\u001b[0m\u001b[0;34m]\u001b[0m\u001b[0;34m.\u001b[0m\u001b[0mmul\u001b[0m\u001b[0;34m(\u001b[0m\u001b[0;36m10\u001b[0m\u001b[0;34m)\u001b[0m\u001b[0;34m.\u001b[0m\u001b[0mplot\u001b[0m\u001b[0;34m(\u001b[0m\u001b[0;34m)\u001b[0m\u001b[0;34m\u001b[0m\u001b[0m\n\u001b[0m",
      "\u001b[0;32m/Users/nipunbatra/anaconda/lib/python2.7/site-packages/pandas/tools/plotting.pyc\u001b[0m in \u001b[0;36mplot_series\u001b[0;34m(data, kind, ax, figsize, use_index, title, grid, legend, style, logx, logy, loglog, xticks, yticks, xlim, ylim, rot, fontsize, colormap, table, yerr, xerr, label, secondary_y, **kwds)\u001b[0m\n\u001b[1;32m   2517\u001b[0m                  \u001b[0myerr\u001b[0m\u001b[0;34m=\u001b[0m\u001b[0myerr\u001b[0m\u001b[0;34m,\u001b[0m \u001b[0mxerr\u001b[0m\u001b[0;34m=\u001b[0m\u001b[0mxerr\u001b[0m\u001b[0;34m,\u001b[0m\u001b[0;34m\u001b[0m\u001b[0m\n\u001b[1;32m   2518\u001b[0m                  \u001b[0mlabel\u001b[0m\u001b[0;34m=\u001b[0m\u001b[0mlabel\u001b[0m\u001b[0;34m,\u001b[0m \u001b[0msecondary_y\u001b[0m\u001b[0;34m=\u001b[0m\u001b[0msecondary_y\u001b[0m\u001b[0;34m,\u001b[0m\u001b[0;34m\u001b[0m\u001b[0m\n\u001b[0;32m-> 2519\u001b[0;31m                  **kwds)\n\u001b[0m\u001b[1;32m   2520\u001b[0m \u001b[0;34m\u001b[0m\u001b[0m\n\u001b[1;32m   2521\u001b[0m \u001b[0;34m\u001b[0m\u001b[0m\n",
      "\u001b[0;32m/Users/nipunbatra/anaconda/lib/python2.7/site-packages/pandas/tools/plotting.pyc\u001b[0m in \u001b[0;36m_plot\u001b[0;34m(data, x, y, subplots, ax, kind, **kwds)\u001b[0m\n\u001b[1;32m   2322\u001b[0m         \u001b[0mplot_obj\u001b[0m \u001b[0;34m=\u001b[0m \u001b[0mklass\u001b[0m\u001b[0;34m(\u001b[0m\u001b[0mdata\u001b[0m\u001b[0;34m,\u001b[0m \u001b[0msubplots\u001b[0m\u001b[0;34m=\u001b[0m\u001b[0msubplots\u001b[0m\u001b[0;34m,\u001b[0m \u001b[0max\u001b[0m\u001b[0;34m=\u001b[0m\u001b[0max\u001b[0m\u001b[0;34m,\u001b[0m \u001b[0mkind\u001b[0m\u001b[0;34m=\u001b[0m\u001b[0mkind\u001b[0m\u001b[0;34m,\u001b[0m \u001b[0;34m**\u001b[0m\u001b[0mkwds\u001b[0m\u001b[0;34m)\u001b[0m\u001b[0;34m\u001b[0m\u001b[0m\n\u001b[1;32m   2323\u001b[0m \u001b[0;34m\u001b[0m\u001b[0m\n\u001b[0;32m-> 2324\u001b[0;31m     \u001b[0mplot_obj\u001b[0m\u001b[0;34m.\u001b[0m\u001b[0mgenerate\u001b[0m\u001b[0;34m(\u001b[0m\u001b[0;34m)\u001b[0m\u001b[0;34m\u001b[0m\u001b[0m\n\u001b[0m\u001b[1;32m   2325\u001b[0m     \u001b[0mplot_obj\u001b[0m\u001b[0;34m.\u001b[0m\u001b[0mdraw\u001b[0m\u001b[0;34m(\u001b[0m\u001b[0;34m)\u001b[0m\u001b[0;34m\u001b[0m\u001b[0m\n\u001b[1;32m   2326\u001b[0m     \u001b[0;32mreturn\u001b[0m \u001b[0mplot_obj\u001b[0m\u001b[0;34m.\u001b[0m\u001b[0mresult\u001b[0m\u001b[0;34m\u001b[0m\u001b[0m\n",
      "\u001b[0;32m/Users/nipunbatra/anaconda/lib/python2.7/site-packages/pandas/tools/plotting.pyc\u001b[0m in \u001b[0;36mgenerate\u001b[0;34m(self)\u001b[0m\n\u001b[1;32m    912\u001b[0m         \u001b[0mself\u001b[0m\u001b[0;34m.\u001b[0m\u001b[0m_compute_plot_data\u001b[0m\u001b[0;34m(\u001b[0m\u001b[0;34m)\u001b[0m\u001b[0;34m\u001b[0m\u001b[0m\n\u001b[1;32m    913\u001b[0m         \u001b[0mself\u001b[0m\u001b[0;34m.\u001b[0m\u001b[0m_setup_subplots\u001b[0m\u001b[0;34m(\u001b[0m\u001b[0;34m)\u001b[0m\u001b[0;34m\u001b[0m\u001b[0m\n\u001b[0;32m--> 914\u001b[0;31m         \u001b[0mself\u001b[0m\u001b[0;34m.\u001b[0m\u001b[0m_make_plot\u001b[0m\u001b[0;34m(\u001b[0m\u001b[0;34m)\u001b[0m\u001b[0;34m\u001b[0m\u001b[0m\n\u001b[0m\u001b[1;32m    915\u001b[0m         \u001b[0mself\u001b[0m\u001b[0;34m.\u001b[0m\u001b[0m_add_table\u001b[0m\u001b[0;34m(\u001b[0m\u001b[0;34m)\u001b[0m\u001b[0;34m\u001b[0m\u001b[0m\n\u001b[1;32m    916\u001b[0m         \u001b[0mself\u001b[0m\u001b[0;34m.\u001b[0m\u001b[0m_make_legend\u001b[0m\u001b[0;34m(\u001b[0m\u001b[0;34m)\u001b[0m\u001b[0;34m\u001b[0m\u001b[0m\n",
      "\u001b[0;32m/Users/nipunbatra/anaconda/lib/python2.7/site-packages/pandas/tools/plotting.pyc\u001b[0m in \u001b[0;36m_make_plot\u001b[0;34m(self)\u001b[0m\n\u001b[1;32m   1623\u001b[0m             \u001b[0mkwds\u001b[0m\u001b[0;34m[\u001b[0m\u001b[0;34m'label'\u001b[0m\u001b[0;34m]\u001b[0m \u001b[0;34m=\u001b[0m \u001b[0mlabel\u001b[0m\u001b[0;34m\u001b[0m\u001b[0m\n\u001b[1;32m   1624\u001b[0m \u001b[0;34m\u001b[0m\u001b[0m\n\u001b[0;32m-> 1625\u001b[0;31m             \u001b[0mnewlines\u001b[0m \u001b[0;34m=\u001b[0m \u001b[0mplotf\u001b[0m\u001b[0;34m(\u001b[0m\u001b[0max\u001b[0m\u001b[0;34m,\u001b[0m \u001b[0mx\u001b[0m\u001b[0;34m,\u001b[0m \u001b[0my\u001b[0m\u001b[0;34m,\u001b[0m \u001b[0mstyle\u001b[0m\u001b[0;34m=\u001b[0m\u001b[0mstyle\u001b[0m\u001b[0;34m,\u001b[0m \u001b[0mcolumn_num\u001b[0m\u001b[0;34m=\u001b[0m\u001b[0mi\u001b[0m\u001b[0;34m,\u001b[0m \u001b[0;34m**\u001b[0m\u001b[0mkwds\u001b[0m\u001b[0;34m)\u001b[0m\u001b[0;34m\u001b[0m\u001b[0m\n\u001b[0m\u001b[1;32m   1626\u001b[0m             \u001b[0mself\u001b[0m\u001b[0;34m.\u001b[0m\u001b[0m_add_legend_handle\u001b[0m\u001b[0;34m(\u001b[0m\u001b[0mnewlines\u001b[0m\u001b[0;34m[\u001b[0m\u001b[0;36m0\u001b[0m\u001b[0;34m]\u001b[0m\u001b[0;34m,\u001b[0m \u001b[0mlabel\u001b[0m\u001b[0;34m,\u001b[0m \u001b[0mindex\u001b[0m\u001b[0;34m=\u001b[0m\u001b[0mi\u001b[0m\u001b[0;34m)\u001b[0m\u001b[0;34m\u001b[0m\u001b[0m\n\u001b[1;32m   1627\u001b[0m \u001b[0;34m\u001b[0m\u001b[0m\n",
      "\u001b[0;32m/Users/nipunbatra/anaconda/lib/python2.7/site-packages/pandas/tools/plotting.pyc\u001b[0m in \u001b[0;36m_plot\u001b[0;34m(ax, x, data, style, **kwds)\u001b[0m\n\u001b[1;32m   1660\u001b[0m             \u001b[0;31m# accept x to be consistent with normal plot func,\u001b[0m\u001b[0;34m\u001b[0m\u001b[0;34m\u001b[0m\u001b[0m\n\u001b[1;32m   1661\u001b[0m             \u001b[0;31m# x is not passed to tsplot as it uses data.index as x coordinate\u001b[0m\u001b[0;34m\u001b[0m\u001b[0;34m\u001b[0m\u001b[0m\n\u001b[0;32m-> 1662\u001b[0;31m             \u001b[0mlines\u001b[0m \u001b[0;34m=\u001b[0m \u001b[0mtsplot\u001b[0m\u001b[0;34m(\u001b[0m\u001b[0mdata\u001b[0m\u001b[0;34m,\u001b[0m \u001b[0mplotf\u001b[0m\u001b[0;34m,\u001b[0m \u001b[0max\u001b[0m\u001b[0;34m=\u001b[0m\u001b[0max\u001b[0m\u001b[0;34m,\u001b[0m \u001b[0mstyle\u001b[0m\u001b[0;34m=\u001b[0m\u001b[0mstyle\u001b[0m\u001b[0;34m,\u001b[0m \u001b[0;34m**\u001b[0m\u001b[0mkwds\u001b[0m\u001b[0;34m)\u001b[0m\u001b[0;34m\u001b[0m\u001b[0m\n\u001b[0m\u001b[1;32m   1663\u001b[0m             \u001b[0;32mreturn\u001b[0m \u001b[0mlines\u001b[0m\u001b[0;34m\u001b[0m\u001b[0m\n\u001b[1;32m   1664\u001b[0m         \u001b[0;32mreturn\u001b[0m \u001b[0m_plot\u001b[0m\u001b[0;34m\u001b[0m\u001b[0m\n",
      "\u001b[0;32m/Users/nipunbatra/anaconda/lib/python2.7/site-packages/pandas/tseries/plotting.pyc\u001b[0m in \u001b[0;36mtsplot\u001b[0;34m(series, plotf, **kwargs)\u001b[0m\n\u001b[1;32m     61\u001b[0m \u001b[0;34m\u001b[0m\u001b[0m\n\u001b[1;32m     62\u001b[0m     \u001b[0;31m# set date formatter, locators and rescale limits\u001b[0m\u001b[0;34m\u001b[0m\u001b[0;34m\u001b[0m\u001b[0m\n\u001b[0;32m---> 63\u001b[0;31m     \u001b[0mformat_dateaxis\u001b[0m\u001b[0;34m(\u001b[0m\u001b[0max\u001b[0m\u001b[0;34m,\u001b[0m \u001b[0max\u001b[0m\u001b[0;34m.\u001b[0m\u001b[0mfreq\u001b[0m\u001b[0;34m)\u001b[0m\u001b[0;34m\u001b[0m\u001b[0m\n\u001b[0m\u001b[1;32m     64\u001b[0m \u001b[0;34m\u001b[0m\u001b[0m\n\u001b[1;32m     65\u001b[0m     \u001b[0;31m# x and y coord info\u001b[0m\u001b[0;34m\u001b[0m\u001b[0;34m\u001b[0m\u001b[0m\n",
      "\u001b[0;32m/Users/nipunbatra/anaconda/lib/python2.7/site-packages/pandas/tseries/plotting.pyc\u001b[0m in \u001b[0;36mformat_dateaxis\u001b[0;34m(subplot, freq)\u001b[0m\n\u001b[1;32m    220\u001b[0m     \u001b[0msubplot\u001b[0m\u001b[0;34m.\u001b[0m\u001b[0mxaxis\u001b[0m\u001b[0;34m.\u001b[0m\u001b[0mset_major_formatter\u001b[0m\u001b[0;34m(\u001b[0m\u001b[0mmajformatter\u001b[0m\u001b[0;34m)\u001b[0m\u001b[0;34m\u001b[0m\u001b[0m\n\u001b[1;32m    221\u001b[0m     \u001b[0msubplot\u001b[0m\u001b[0;34m.\u001b[0m\u001b[0mxaxis\u001b[0m\u001b[0;34m.\u001b[0m\u001b[0mset_minor_formatter\u001b[0m\u001b[0;34m(\u001b[0m\u001b[0mminformatter\u001b[0m\u001b[0;34m)\u001b[0m\u001b[0;34m\u001b[0m\u001b[0m\n\u001b[0;32m--> 222\u001b[0;31m     \u001b[0mpylab\u001b[0m\u001b[0;34m.\u001b[0m\u001b[0mdraw_if_interactive\u001b[0m\u001b[0;34m(\u001b[0m\u001b[0;34m)\u001b[0m\u001b[0;34m\u001b[0m\u001b[0m\n\u001b[0m",
      "\u001b[0;32m/Users/nipunbatra/anaconda/lib/python2.7/site-packages/IPython/utils/decorators.pyc\u001b[0m in \u001b[0;36mwrapper\u001b[0;34m(*args, **kw)\u001b[0m\n\u001b[1;32m     41\u001b[0m     \u001b[0;32mdef\u001b[0m \u001b[0mwrapper\u001b[0m\u001b[0;34m(\u001b[0m\u001b[0;34m*\u001b[0m\u001b[0margs\u001b[0m\u001b[0;34m,\u001b[0m\u001b[0;34m**\u001b[0m\u001b[0mkw\u001b[0m\u001b[0;34m)\u001b[0m\u001b[0;34m:\u001b[0m\u001b[0;34m\u001b[0m\u001b[0m\n\u001b[1;32m     42\u001b[0m         \u001b[0mwrapper\u001b[0m\u001b[0;34m.\u001b[0m\u001b[0mcalled\u001b[0m \u001b[0;34m=\u001b[0m \u001b[0mFalse\u001b[0m\u001b[0;34m\u001b[0m\u001b[0m\n\u001b[0;32m---> 43\u001b[0;31m         \u001b[0mout\u001b[0m \u001b[0;34m=\u001b[0m \u001b[0mfunc\u001b[0m\u001b[0;34m(\u001b[0m\u001b[0;34m*\u001b[0m\u001b[0margs\u001b[0m\u001b[0;34m,\u001b[0m\u001b[0;34m**\u001b[0m\u001b[0mkw\u001b[0m\u001b[0;34m)\u001b[0m\u001b[0;34m\u001b[0m\u001b[0m\n\u001b[0m\u001b[1;32m     44\u001b[0m         \u001b[0mwrapper\u001b[0m\u001b[0;34m.\u001b[0m\u001b[0mcalled\u001b[0m \u001b[0;34m=\u001b[0m \u001b[0mTrue\u001b[0m\u001b[0;34m\u001b[0m\u001b[0m\n\u001b[1;32m     45\u001b[0m         \u001b[0;32mreturn\u001b[0m \u001b[0mout\u001b[0m\u001b[0;34m\u001b[0m\u001b[0m\n",
      "\u001b[0;32m/Users/nipunbatra/anaconda/lib/python2.7/site-packages/matplotlib/backends/backend_macosx.pyc\u001b[0m in \u001b[0;36mdraw_if_interactive\u001b[0;34m()\u001b[0m\n\u001b[1;32m    248\u001b[0m         \u001b[0mfigManager\u001b[0m \u001b[0;34m=\u001b[0m  \u001b[0mGcf\u001b[0m\u001b[0;34m.\u001b[0m\u001b[0mget_active\u001b[0m\u001b[0;34m(\u001b[0m\u001b[0;34m)\u001b[0m\u001b[0;34m\u001b[0m\u001b[0m\n\u001b[1;32m    249\u001b[0m         \u001b[0;32mif\u001b[0m \u001b[0mfigManager\u001b[0m \u001b[0;32mis\u001b[0m \u001b[0;32mnot\u001b[0m \u001b[0mNone\u001b[0m\u001b[0;34m:\u001b[0m\u001b[0;34m\u001b[0m\u001b[0m\n\u001b[0;32m--> 250\u001b[0;31m             \u001b[0mfigManager\u001b[0m\u001b[0;34m.\u001b[0m\u001b[0mcanvas\u001b[0m\u001b[0;34m.\u001b[0m\u001b[0minvalidate\u001b[0m\u001b[0;34m(\u001b[0m\u001b[0;34m)\u001b[0m\u001b[0;34m\u001b[0m\u001b[0m\n\u001b[0m\u001b[1;32m    251\u001b[0m \u001b[0;34m\u001b[0m\u001b[0m\n\u001b[1;32m    252\u001b[0m \u001b[0;34m\u001b[0m\u001b[0m\n",
      "\u001b[0;31mAttributeError\u001b[0m: 'FigureCanvasAgg' object has no attribute 'invalidate'"
     ]
    },
    {
     "data": {
      "image/png": "[encoded data removed]",
      "text/plain": [
       "<matplotlib.figure.Figure at 0x117d09950>"
      ]
     },
     "metadata": {},
     "output_type": "display_data"
    }
   ],
   "source": [
    "results['inferred appliance energy']['fridgefreezer'].mul(10).plot()"
   ]
  },
  {
   "cell_type": "code",
   "execution_count": 58,
   "metadata": {
    "collapsed": true
   },
   "outputs": [],
   "source": [
    "import json"
   ]
  },
  {
   "cell_type": "code",
   "execution_count": 86,
   "metadata": {
    "collapsed": false
   },
   "outputs": [],
   "source": [
    "j = json.load(open('/Users/nipunbatra/git/monthly-disaggregation/code/appliance_model_induced_density.json','r'))"
   ]
  },
  {
   "cell_type": "code",
   "execution_count": 91,
   "metadata": {
    "collapsed": false
   },
   "outputs": [
    {
     "data": {
      "text/plain": [
       "{u'numberOfCycles': [0.0, 1.0, 2.0, 3.0, 4.0],\n",
       " u'numberOfCyclesDuration': [0.0,\n",
       "  792.6666666666666,\n",
       "  197.86666666666667,\n",
       "  274.3478260869565,\n",
       "  356.2857142857143],\n",
       " u'numberOfCyclesEnergy': [0.0,\n",
       "  64765.519609559866,\n",
       "  50833.26181996474,\n",
       "  51472.09489305443,\n",
       "  92099.1295736386],\n",
       " u'numberOfCyclesProb': [0.23113207547169812,\n",
       "  0.3113207547169811,\n",
       "  0.2830188679245283,\n",
       "  0.10849056603773585,\n",
       "  0.0660377358490566],\n",
       " u'numberOfSamples': [49.0, 66.0, 60.0, 23.0, 14.0]}"
      ]
     },
     "execution_count": 91,
     "metadata": {},
     "output_type": "execute_result"
    }
   ],
   "source": [
    "j['heater']['numberOfCyclesStats']"
   ]
  },
  {
   "cell_type": "code",
   "execution_count": 110,
   "metadata": {
    "collapsed": true
   },
   "outputs": [],
   "source": [
    "k = json.load(open('/Users/nipunbatra/Desktop/lbn.json','r'))"
   ]
  },
  {
   "cell_type": "code",
   "execution_count": 111,
   "metadata": {
    "collapsed": false
   },
   "outputs": [
    {
     "data": {
      "text/plain": [
       "{u'numberOfCycles': [16.0,\n",
       "  17.0,\n",
       "  18.0,\n",
       "  19.0,\n",
       "  20.0,\n",
       "  21.0,\n",
       "  22.0,\n",
       "  23.0,\n",
       "  24.0,\n",
       "  25.0,\n",
       "  26.0,\n",
       "  27.0,\n",
       "  28.0,\n",
       "  29.0,\n",
       "  30.0,\n",
       "  31.0,\n",
       "  32.0,\n",
       "  33.0,\n",
       "  34.0,\n",
       "  35.0,\n",
       "  36.0,\n",
       "  37.0,\n",
       "  38.0,\n",
       "  39.0,\n",
       "  40.0,\n",
       "  41.0,\n",
       "  42.0,\n",
       "  43.0,\n",
       "  44.0,\n",
       "  45.0,\n",
       "  46.0,\n",
       "  47.0,\n",
       "  48.0,\n",
       "  49.0,\n",
       "  50.0],\n",
       " u'numberOfCyclesDuration': [351.3142857142857,\n",
       "  301.4,\n",
       "  303.94594594594594,\n",
       "  304.3157894736842,\n",
       "  346.0,\n",
       "  373.52941176470586,\n",
       "  359.1666666666667,\n",
       "  289.8666666666667,\n",
       "  286.4347826086956,\n",
       "  346.4117647058824,\n",
       "  394.2631578947368,\n",
       "  349.54545454545456,\n",
       "  321.7391304347826,\n",
       "  311.5,\n",
       "  308.2352941176471,\n",
       "  323.0769230769231,\n",
       "  357.55555555555554,\n",
       "  287.75,\n",
       "  292.0,\n",
       "  332.3333333333333,\n",
       "  326.2,\n",
       "  338.4,\n",
       "  346.3333333333333,\n",
       "  370.0,\n",
       "  387.2,\n",
       "  424.6666666666667,\n",
       "  469.3333333333333,\n",
       "  443.3333333333333,\n",
       "  396.44444444444446,\n",
       "  348.75,\n",
       "  280.6666666666667,\n",
       "  314.25,\n",
       "  316.85714285714283,\n",
       "  336.85714285714283,\n",
       "  317.2],\n",
       " u'numberOfCyclesEnergy': [4467.1022038975125,\n",
       "  3832.4220192676403,\n",
       "  3864.7947442281843,\n",
       "  3869.4974531843486,\n",
       "  4399.528927228278,\n",
       "  4749.576451530017,\n",
       "  4566.948380624731,\n",
       "  3685.771055026698,\n",
       "  3642.133271246533,\n",
       "  4404.764680796892,\n",
       "  5013.214358665502,\n",
       "  4444.610805358047,\n",
       "  4091.0422293904576,\n",
       "  3960.847574657829,\n",
       "  3919.335528506662,\n",
       "  4108.052799990834,\n",
       "  4546.462455947526,\n",
       "  3658.8567884680288,\n",
       "  3712.8972449440985,\n",
       "  4225.751773069936,\n",
       "  4147.7639770574115,\n",
       "  4302.891875647541,\n",
       "  4403.767394402872,\n",
       "  4704.698563799024,\n",
       "  4923.40347000806,\n",
       "  5399.807180432392,\n",
       "  5967.761781827948,\n",
       "  5637.161342209639,\n",
       "  5040.950292983459,\n",
       "  4434.4962814186765,\n",
       "  3568.7893610079127,\n",
       "  3995.814928848228,\n",
       "  4028.9657971066576,\n",
       "  4283.273827582279,\n",
       "  4033.3253633433815],\n",
       " u'numberOfCyclesProb': [0.059625212947189095,\n",
       "  0.06814310051107325,\n",
       "  0.06303236797274275,\n",
       "  0.03236797274275979,\n",
       "  0.059625212947189095,\n",
       "  0.05792163543441227,\n",
       "  0.04088586030664395,\n",
       "  0.02555366269165247,\n",
       "  0.039182282793867124,\n",
       "  0.05792163543441227,\n",
       "  0.06473594548551959,\n",
       "  0.03747870528109029,\n",
       "  0.039182282793867124,\n",
       "  0.027257240204429302,\n",
       "  0.028960817717206135,\n",
       "  0.022146507666098807,\n",
       "  0.015332197614991482,\n",
       "  0.013628620102214651,\n",
       "  0.01192504258943782,\n",
       "  0.020442930153321975,\n",
       "  0.017035775127768313,\n",
       "  0.017035775127768313,\n",
       "  0.030664395229982964,\n",
       "  0.017035775127768313,\n",
       "  0.008517887563884156,\n",
       "  0.005110732538330494,\n",
       "  0.010221465076660987,\n",
       "  0.010221465076660987,\n",
       "  0.015332197614991482,\n",
       "  0.013628620102214651,\n",
       "  0.015332197614991482,\n",
       "  0.013628620102214651,\n",
       "  0.01192504258943782,\n",
       "  0.01192504258943782,\n",
       "  0.017035775127768313],\n",
       " u'numberOfSamples': [35.0,\n",
       "  40.0,\n",
       "  37.0,\n",
       "  19.0,\n",
       "  35.0,\n",
       "  34.0,\n",
       "  24.0,\n",
       "  15.0,\n",
       "  23.0,\n",
       "  34.0,\n",
       "  38.0,\n",
       "  22.0,\n",
       "  23.0,\n",
       "  16.0,\n",
       "  17.0,\n",
       "  13.0,\n",
       "  9.0,\n",
       "  8.0,\n",
       "  7.0,\n",
       "  12.0,\n",
       "  10.0,\n",
       "  10.0,\n",
       "  18.0,\n",
       "  10.0,\n",
       "  5.0,\n",
       "  3.0,\n",
       "  6.0,\n",
       "  6.0,\n",
       "  9.0,\n",
       "  8.0,\n",
       "  9.0,\n",
       "  8.0,\n",
       "  7.0,\n",
       "  7.0,\n",
       "  10.0]}"
      ]
     },
     "execution_count": 111,
     "metadata": {},
     "output_type": "execute_result"
    }
   ],
   "source": [
    "j['fridge']['numberOfCyclesStats']"
   ]
  },
  {
   "cell_type": "code",
   "execution_count": 100,
   "metadata": {
    "collapsed": false
   },
   "outputs": [
    {
     "data": {
      "text/plain": [
       "[0.0,\n",
       " 64765.519609559866,\n",
       " 50833.26181996474,\n",
       " 51472.09489305443,\n",
       " 92099.1295736386]"
      ]
     },
     "execution_count": 100,
     "metadata": {},
     "output_type": "execute_result"
    }
   ],
   "source": [
    "j['heater']['numberOfCyclesStats']['numberOfCyclesEnergy']"
   ]
  },
  {
   "cell_type": "code",
   "execution_count": 112,
   "metadata": {
    "collapsed": false
   },
   "outputs": [
    {
     "data": {
      "text/plain": [
       "[0,\n",
       " 9300.178164,\n",
       " 8028.924855,\n",
       " 8231.979392,\n",
       " 8398.09294,\n",
       " 8659.792725,\n",
       " 8217.456681,\n",
       " 7629.769342,\n",
       " 7289.051068,\n",
       " 6864.080755,\n",
       " 6795.877568,\n",
       " 6559.599622,\n",
       " 6394.693669,\n",
       " 6323.904681,\n",
       " 6515.684065,\n",
       " 5839.727522]"
      ]
     },
     "execution_count": 112,
     "metadata": {},
     "output_type": "execute_result"
    }
   ],
   "source": [
    "k['fridge']['numberOfCyclesStats']['numberOfCyclesEnergy']"
   ]
  },
  {
   "cell_type": "code",
   "execution_count": 115,
   "metadata": {
    "collapsed": false
   },
   "outputs": [
    {
     "data": {
      "text/plain": [
       "{u'numberOfCycles': [0, 1, 2, 3, 4, 5, 6, 7, 8, 9, 10, 11, 12, 13, 14, 15],\n",
       " u'numberOfCyclesDuration': [0,\n",
       "  187.1070013,\n",
       "  184.1363636,\n",
       "  187,\n",
       "  185.037037,\n",
       "  182.1578947,\n",
       "  178.9387755,\n",
       "  167.5294118,\n",
       "  160.3050847,\n",
       "  148.9032258,\n",
       "  146.8,\n",
       "  133.509434,\n",
       "  127.3176471,\n",
       "  133.7288136,\n",
       "  142.5490196,\n",
       "  139.3030303],\n",
       " u'numberOfCyclesEnergy': [0,\n",
       "  9300.178164,\n",
       "  8028.924855,\n",
       "  8231.979392,\n",
       "  8398.09294,\n",
       "  8659.792725,\n",
       "  8217.456681,\n",
       "  7629.769342,\n",
       "  7289.051068,\n",
       "  6864.080755,\n",
       "  6795.877568,\n",
       "  6559.599622,\n",
       "  6394.693669,\n",
       "  6323.904681,\n",
       "  6515.684065,\n",
       "  5839.727522],\n",
       " u'numberOfCyclesProb': [0.0006788866259,\n",
       "  0.5139171758,\n",
       "  0.02987101154,\n",
       "  0.02579769179,\n",
       "  0.0183299389,\n",
       "  0.02579769179,\n",
       "  0.03326544467,\n",
       "  0.02308214528,\n",
       "  0.04005431093,\n",
       "  0.04209097081,\n",
       "  0.0339443313,\n",
       "  0.03598099117,\n",
       "  0.0577053632,\n",
       "  0.04005431093,\n",
       "  0.03462321792,\n",
       "  0.04480651731]}"
      ]
     },
     "execution_count": 115,
     "metadata": {},
     "output_type": "execute_result"
    }
   ],
   "source": [
    "k['fridge']['numberOfCyclesStats']"
   ]
  },
  {
   "cell_type": "code",
   "execution_count": 116,
   "metadata": {
    "collapsed": false
   },
   "outputs": [
    {
     "data": {
      "text/plain": [
       "{u'numberOfCycles': [0.0, 1.0, 2.0, 3.0, 4.0],\n",
       " u'numberOfCyclesDuration': [0.0,\n",
       "  792.6666666666666,\n",
       "  197.86666666666667,\n",
       "  274.3478260869565,\n",
       "  356.2857142857143],\n",
       " u'numberOfCyclesEnergy': [0.0,\n",
       "  64765.519609559866,\n",
       "  50833.26181996474,\n",
       "  51472.09489305443,\n",
       "  92099.1295736386],\n",
       " u'numberOfCyclesProb': [0.23113207547169812,\n",
       "  0.3113207547169811,\n",
       "  0.2830188679245283,\n",
       "  0.10849056603773585,\n",
       "  0.0660377358490566],\n",
       " u'numberOfSamples': [49.0, 66.0, 60.0, 23.0, 14.0]}"
      ]
     },
     "execution_count": 116,
     "metadata": {},
     "output_type": "execute_result"
    }
   ],
   "source": [
    "j['heater']['numberOfCyclesStats']"
   ]
  },
  {
   "cell_type": "code",
   "execution_count": null,
   "metadata": {
    "collapsed": true
   },
   "outputs": [],
   "source": []
  }
 ],
 "metadata": {
  "kernelspec": {
   "display_name": "Python 2",
   "language": "python",
   "name": "python2"
  },
  "language_info": {
   "codemirror_mode": {
    "name": "ipython",
    "version": 2
   },
   "file_extension": ".py",
   "mimetype": "text/x-python",
   "name": "python",
   "nbconvert_exporter": "python",
   "pygments_lexer": "ipython2",
   "version": "2.7.11"
  }
 },
 "nbformat": 4,
 "nbformat_minor": 0
}
