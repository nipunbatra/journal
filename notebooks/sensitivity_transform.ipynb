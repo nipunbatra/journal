{
 "cells": [
  {
   "cell_type": "code",
   "execution_count": 1,
   "metadata": {
    "collapsed": true
   },
   "outputs": [],
   "source": [
    "import pandas as pd\n",
    "import pickle\n",
    "import sys\n",
    "import matplotlib.pyplot as plt\n",
    "sys.path.append(\"../code/\")\n",
    "out_overall = pickle.load(open('../data/input/all_regions.pkl', 'r'))\n",
    "from common_functions import tableau20blind, format_axes, latexify\n",
    "from regional_average_contribution import contribution"
   ]
  },
  {
   "cell_type": "code",
   "execution_count": 2,
   "metadata": {
    "collapsed": true
   },
   "outputs": [],
   "source": [
    "%matplotlib inline"
   ]
  },
  {
   "cell_type": "code",
   "execution_count": 3,
   "metadata": {
    "collapsed": true
   },
   "outputs": [],
   "source": [
    "austin_sd_df = pickle.load(open('../data/output/austin_sd_sensitivity_transform.pkl'))"
   ]
  },
  {
   "cell_type": "code",
   "execution_count": 4,
   "metadata": {
    "collapsed": true
   },
   "outputs": [],
   "source": [
    "sd_austin_df = pickle.load(open('../data/output/sd_austin_sensitivity_transform.pkl'))"
   ]
  },
  {
   "cell_type": "code",
   "execution_count": 12,
   "metadata": {
    "collapsed": false
   },
   "outputs": [
    {
     "data": {
      "image/png": "[encoded data removed]",
      "text/plain": [
       "<matplotlib.figure.Figure at 0x11a1bbd50>"
      ]
     },
     "metadata": {},
     "output_type": "display_data"
    }
   ],
   "source": [
    "latexify(fig_height=3.3)\n",
    "fig, ax = plt.subplots(nrows=2, sharex=True)\n",
    "sd_austin_df.ix[['Fridge','HVAC','Washing\\nmachine']].plot(ax=ax[0], kind='bar', colors=tableau20blind[::2])\n",
    "austin_sd_df.ix[['Fridge','HVAC','Washing\\nmachine']].plot(ax=ax[1], kind='bar', legend=False,rot=0,colors=tableau20blind[::2])\n",
    "ax[0].set_title('Test Austin homes')\n",
    "ax[1].set_title('Test San Diego homes')\n",
    "format_axes(ax[0])\n",
    "format_axes(ax[1])\n",
    "lgd=ax[0].legend(bbox_to_anchor=(0.5,2.37), loc='upper center', ncol=1, title=('Transformation scheme, Prediction scheme'))\n",
    "ax[0].set_ylabel(\"Energy Error(\\%)\\n(Lower is better)\")\n",
    "ax[1].set_ylabel(\"Energy Error(\\%)\\n(Lower is better)\")\n",
    "\n",
    "plt.tight_layout()\n",
    "#df.plot(ax=ax[i], kind='bar', title=appliance, rot= 0, legend=False)\n",
    "#plt.tight_layout()\n",
    "#lgd=ax[0].legend(bbox_to_anchor=(0.5,2.2), loc='upper center', ncol=1)\n",
    "#plt.xlabel(\"Month\")\n",
    "plt.savefig('../results/sensitivity_both.png',bbox_extra_artists=(lgd,), bbox_inches='tight')\n",
    "plt.savefig('../results/sensitivity_both.pdf',bbox_extra_artists=(lgd,), bbox_inches='tight')"
   ]
  },
  {
   "cell_type": "code",
   "execution_count": null,
   "metadata": {
    "collapsed": true
   },
   "outputs": [],
   "source": []
  }
 ],
 "metadata": {
  "kernelspec": {
   "display_name": "Python 2",
   "language": "python",
   "name": "python2"
  },
  "language_info": {
   "codemirror_mode": {
    "name": "ipython",
    "version": 2
   },
   "file_extension": ".py",
   "mimetype": "text/x-python",
   "name": "python",
   "nbconvert_exporter": "python",
   "pygments_lexer": "ipython2",
   "version": "2.7.11"
  }
 },
 "nbformat": 4,
 "nbformat_minor": 0
}
