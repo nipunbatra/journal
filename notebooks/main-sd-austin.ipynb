{
 "cells": [
  {
   "cell_type": "code",
   "execution_count": 2,
   "metadata": {
    "collapsed": true
   },
   "outputs": [],
   "source": [
    "import pandas as pd\n",
    "import pickle\n",
    "import sys\n",
    "import matplotlib.pyplot as plt\n",
    "sys.path.append(\"../code/\")\n",
    "out_overall = pickle.load(open('../data/input/all_regions.pkl', 'r'))\n",
    "from common_functions import tableau20blind, format_axes, latexify\n",
    "from regional_average_contribution import contribution"
   ]
  },
  {
   "cell_type": "code",
   "execution_count": 3,
   "metadata": {
    "collapsed": true
   },
   "outputs": [],
   "source": [
    "%matplotlib inline"
   ]
  },
  {
   "cell_type": "code",
   "execution_count": 4,
   "metadata": {
    "collapsed": true
   },
   "outputs": [],
   "source": [
    "def get_fhmm(appliance, test_region='SanDiego'):\n",
    "    count = 0\n",
    "    \n",
    "    test_df = out_overall[test_region]\n",
    "    #test_df=test_df[(test_df.full_agg_available==1)&(test_df.md_available==1)]\n",
    "\n",
    "    if appliance==\"hvac\":\n",
    "        start, stop=5, 11\n",
    "    else:\n",
    "        start, stop=1, 13\n",
    "    out[appliance] = {}\n",
    "    test_df_appliance=test_df.ix[test_df[['%s_%d' %(appliance,month) for month in range(start,stop)]].dropna().index]\n",
    "    for test_home in test_df_appliance.index:\n",
    "        try:\n",
    "            pred_df = pd.read_csv(\"/Users/nipunbatra/wiki-15min-fhmm-out/%s_%d.csv\" %(test_region, test_home),index_col=0)\n",
    "            pred_df_appliance = pred_df[appliance].ix[start:stop-1]\n",
    "            gt_df_appliance = test_df.ix[test_home][['%s_%d' %(appliance, month) for month in range(start, stop)]]\n",
    "            gt_df_appliance.index = pred_df_appliance.index\n",
    "            error = ((pred_df_appliance-gt_df_appliance).abs()*100/gt_df_appliance)\n",
    "            #error[error>100]=100\n",
    "            #acc = 100-error\n",
    "            out[appliance][test_home]=error\n",
    "        except:\n",
    "            pass\n",
    "    return pd.DataFrame(out[appliance]).T.median().mean()"
   ]
  },
  {
   "cell_type": "code",
   "execution_count": 5,
   "metadata": {
    "collapsed": true
   },
   "outputs": [],
   "source": [
    "def get_regional_average(appliance, test_region='Austin'):\n",
    "    contri_austin_appliance = contribution[test_region]['Cooling'][appliance]\n",
    "    if appliance==\"hvac\":\n",
    "        start, stop=5, 11\n",
    "    else:\n",
    "        start, stop=1, 13\n",
    "    test_df = out_overall[test_region]\n",
    "    #test_df=test_df[(test_df.full_agg_available==1)&(test_df.md_available==1)]\n",
    "        \n",
    "    test_df_appliance=test_df.ix[test_df[['%s_%d' %(appliance,month) for month in range(start,stop)]].dropna().index]\n",
    "    pred_df = test_df_appliance[['aggregate_%d' %month for month in range(start, stop)]]*contri_austin_appliance\n",
    "    gt_df = test_df_appliance[['%s_%d' %(appliance, month) for month in range(start, stop)]]\n",
    "    gt_df.columns = pred_df.columns\n",
    "    error = (gt_df-pred_df).abs().div(gt_df).mul(100)\n",
    "    return error.median().mean()"
   ]
  },
  {
   "cell_type": "code",
   "execution_count": 6,
   "metadata": {
    "collapsed": true
   },
   "outputs": [],
   "source": [
    "def get_lbm(appliance, region):\n",
    "    if region==\"Austin\":\n",
    "        lbm_pred_df = pickle.load(open('../data/output/lbm_15_Austin.pkl'))\n",
    "    else:\n",
    "        lbm_pred_df = pickle.load(open('../data/output/lbm_15_SD.pkl'))\n",
    "    if appliance==\"hvac\":\n",
    "        start, stop=5, 11\n",
    "    else:\n",
    "        start, stop=1, 13\n",
    "    test_df = out_overall[region]\n",
    "    #test_df=test_df[(test_df.full_agg_available==1)&(test_df.md_available==1)]\n",
    "    pred_df = lbm_pred_df[['%s_%d' %(appliance,month) for month in range(start,stop)]]\n",
    "\n",
    "    test_df_appliance=test_df.ix[test_df[['%s_%d' %(appliance,month) for month in range(start,stop)]].dropna().index]\n",
    "    gt_df = test_df_appliance[['%s_%d' %(appliance, month) for month in range(start, stop)]]\n",
    "    gt_df.columns = pred_df.columns\n",
    "    error = (gt_df-pred_df).abs().div(gt_df).mul(100)\n",
    "    return error.median().mean()"
   ]
  },
  {
   "cell_type": "code",
   "execution_count": 7,
   "metadata": {
    "collapsed": false
   },
   "outputs": [],
   "source": [
    "train_region = \"SanDiego\"\n",
    "test_region = \"Austin\"\n",
    "#test_region = \"Austin\"\n",
    "#train_region = \"Boulder\"\n",
    "out_overall = pickle.load(open('../data/input/all_regions.pkl','r'))\n",
    "\n",
    "train_df = out_overall[train_region]\n",
    "test_df = out_overall[test_region]\n",
    "#transform = \"DD\"\n",
    "k=3\n",
    "transformations = [\"None\",\"DD\",\"DD-percentage\",'median-aggregate',\"median-aggregate-percentage\",'regional','regional-percentage']\n",
    "#transformations = ['DD','None',\"DD-fridge\"]"
   ]
  },
  {
   "cell_type": "code",
   "execution_count": 8,
   "metadata": {
    "collapsed": true
   },
   "outputs": [],
   "source": [
    "import os\n",
    "import numpy as np"
   ]
  },
  {
   "cell_type": "code",
   "execution_count": 9,
   "metadata": {
    "collapsed": false
   },
   "outputs": [],
   "source": [
    "out = {}\n",
    "for transform in transformations[:]:\n",
    "    out[transform] = {}\n",
    "    #for appliance in [\"hvac\",\"fridge\",\"dr\",\"wm\"]:\n",
    "    for appliance in ['fridge','wm','oven','mw','dw','hvac']:\n",
    "        if appliance==\"hvac\":\n",
    "            start, stop=5, 11\n",
    "        else:\n",
    "            start, stop=1, 13\n",
    "        out[transform][appliance] = {}\n",
    "        for month in range(start,stop):\n",
    "            out[transform][appliance][month] = {}\n",
    "            for test_home in test_df.index:\n",
    "                try:\n",
    "                    pred =  pickle.load(open(os.path.expanduser('~/ineq_cross/%s_%s_%s_%s_%d_%d_%d.pkl' %(train_region,\n",
    "                                                                                               test_region,\n",
    "                                                                                               transform,\n",
    "                                                                                               appliance,\n",
    "                                                                                               month,\n",
    "                                                                                               test_home,\n",
    "                                                                                               k)),'r'))\n",
    "                    gt = test_df.ix[test_home]['%s_%d' %(appliance, month)]\n",
    "                    error = np.abs(gt-pred)\n",
    "                    percentage_error = error*100/gt\n",
    "                   \n",
    "                    out[transform][appliance][month][test_home] = percentage_error\n",
    "                except Exception, e:\n",
    "                    pass"
   ]
  },
  {
   "cell_type": "code",
   "execution_count": 10,
   "metadata": {
    "collapsed": false
   },
   "outputs": [],
   "source": [
    "o = {}\n",
    "for appliance in ['fridge','hvac','dw','wm','mw','oven']:\n",
    "    o[appliance]={}\n",
    "    for transformation in transformations:\n",
    "        o[appliance][transformation] = pd.DataFrame(out[transformation][appliance]).median().mean()\n",
    "    "
   ]
  },
  {
   "cell_type": "code",
   "execution_count": 11,
   "metadata": {
    "collapsed": true
   },
   "outputs": [],
   "source": [
    "sd_austin_sensitivity_df = pd.DataFrame(o).T"
   ]
  },
  {
   "cell_type": "code",
   "execution_count": 12,
   "metadata": {
    "collapsed": false
   },
   "outputs": [
    {
     "data": {
      "text/html": [
       "<div>\n",
       "<table border=\"1\" class=\"dataframe\">\n",
       "  <thead>\n",
       "    <tr style=\"text-align: right;\">\n",
       "      <th></th>\n",
       "      <th>DD</th>\n",
       "      <th>DD-percentage</th>\n",
       "      <th>None</th>\n",
       "      <th>median-aggregate</th>\n",
       "      <th>median-aggregate-percentage</th>\n",
       "      <th>regional</th>\n",
       "      <th>regional-percentage</th>\n",
       "    </tr>\n",
       "  </thead>\n",
       "  <tbody>\n",
       "    <tr>\n",
       "      <th>dw</th>\n",
       "      <td>63.846612</td>\n",
       "      <td>96.856467</td>\n",
       "      <td>63.309244</td>\n",
       "      <td>87.461178</td>\n",
       "      <td>86.588917</td>\n",
       "      <td>66.420398</td>\n",
       "      <td>89.754732</td>\n",
       "    </tr>\n",
       "    <tr>\n",
       "      <th>fridge</th>\n",
       "      <td>23.342505</td>\n",
       "      <td>50.743108</td>\n",
       "      <td>24.128198</td>\n",
       "      <td>114.031521</td>\n",
       "      <td>115.146362</td>\n",
       "      <td>23.569190</td>\n",
       "      <td>50.400313</td>\n",
       "    </tr>\n",
       "    <tr>\n",
       "      <th>hvac</th>\n",
       "      <td>44.067202</td>\n",
       "      <td>26.634442</td>\n",
       "      <td>59.409228</td>\n",
       "      <td>45.789630</td>\n",
       "      <td>44.567010</td>\n",
       "      <td>57.618993</td>\n",
       "      <td>42.504396</td>\n",
       "    </tr>\n",
       "    <tr>\n",
       "      <th>mw</th>\n",
       "      <td>74.783124</td>\n",
       "      <td>67.988560</td>\n",
       "      <td>100.679071</td>\n",
       "      <td>226.434338</td>\n",
       "      <td>177.786037</td>\n",
       "      <td>156.445856</td>\n",
       "      <td>156.875642</td>\n",
       "    </tr>\n",
       "    <tr>\n",
       "      <th>oven</th>\n",
       "      <td>49.990886</td>\n",
       "      <td>133.579291</td>\n",
       "      <td>51.619391</td>\n",
       "      <td>86.376343</td>\n",
       "      <td>136.489064</td>\n",
       "      <td>70.621527</td>\n",
       "      <td>65.341836</td>\n",
       "    </tr>\n",
       "    <tr>\n",
       "      <th>wm</th>\n",
       "      <td>49.881359</td>\n",
       "      <td>156.769185</td>\n",
       "      <td>49.915222</td>\n",
       "      <td>150.403044</td>\n",
       "      <td>175.704316</td>\n",
       "      <td>49.847082</td>\n",
       "      <td>132.384986</td>\n",
       "    </tr>\n",
       "  </tbody>\n",
       "</table>\n",
       "</div>"
      ],
      "text/plain": [
       "               DD  DD-percentage        None  median-aggregate  \\\n",
       "dw      63.846612      96.856467   63.309244         87.461178   \n",
       "fridge  23.342505      50.743108   24.128198        114.031521   \n",
       "hvac    44.067202      26.634442   59.409228         45.789630   \n",
       "mw      74.783124      67.988560  100.679071        226.434338   \n",
       "oven    49.990886     133.579291   51.619391         86.376343   \n",
       "wm      49.881359     156.769185   49.915222        150.403044   \n",
       "\n",
       "        median-aggregate-percentage    regional  regional-percentage  \n",
       "dw                        86.588917   66.420398            89.754732  \n",
       "fridge                   115.146362   23.569190            50.400313  \n",
       "hvac                      44.567010   57.618993            42.504396  \n",
       "mw                       177.786037  156.445856           156.875642  \n",
       "oven                     136.489064   70.621527            65.341836  \n",
       "wm                       175.704316   49.847082           132.384986  "
      ]
     },
     "execution_count": 12,
     "metadata": {},
     "output_type": "execute_result"
    }
   ],
   "source": [
    "sd_austin_sensitivity_df"
   ]
  },
  {
   "cell_type": "code",
   "execution_count": 13,
   "metadata": {
    "collapsed": true
   },
   "outputs": [],
   "source": [
    "best_transform_sd_austin = {'fridge':'DD',\n",
    "                           'hvac':'DD-percentage',\n",
    "                           'wm':'regional',\n",
    "                           'mw':'DD-percentage',\n",
    "                           'dw':'None',\n",
    "                           'oven':'DD'}"
   ]
  },
  {
   "cell_type": "code",
   "execution_count": 14,
   "metadata": {
    "collapsed": false
   },
   "outputs": [],
   "source": [
    "vistrit = pd.Series({appliance:sd_austin_sensitivity_df.loc[appliance, best_transform_sd_austin[appliance]] for appliance in ['fridge','hvac','dw','wm','mw','oven']})"
   ]
  },
  {
   "cell_type": "code",
   "execution_count": 15,
   "metadata": {
    "collapsed": false
   },
   "outputs": [
    {
     "data": {
      "text/plain": [
       "dw        63.309244\n",
       "fridge    23.342505\n",
       "hvac      26.634442\n",
       "mw        67.988560\n",
       "oven      49.990886\n",
       "wm        49.847082\n",
       "dtype: float64"
      ]
     },
     "execution_count": 15,
     "metadata": {},
     "output_type": "execute_result"
    }
   ],
   "source": [
    "vistrit"
   ]
  },
  {
   "cell_type": "code",
   "execution_count": 16,
   "metadata": {
    "collapsed": false
   },
   "outputs": [],
   "source": [
    "regional_average_results={}\n",
    "for appliance in ['fridge','hvac','dw','wm','mw','oven']:\n",
    "    try:\n",
    "        regional_average_results[appliance] = get_regional_average(appliance,'Austin')\n",
    "    except:\n",
    "        pass\n",
    "regional_average_results = pd.Series(regional_average_results)"
   ]
  },
  {
   "cell_type": "code",
   "execution_count": 17,
   "metadata": {
    "collapsed": false
   },
   "outputs": [
    {
     "data": {
      "text/plain": [
       "dw        120.930395\n",
       "fridge     46.880319\n",
       "hvac       36.042467\n",
       "wm        196.705835\n",
       "dtype: float64"
      ]
     },
     "execution_count": 17,
     "metadata": {},
     "output_type": "execute_result"
    }
   ],
   "source": [
    "regional_average_results"
   ]
  },
  {
   "cell_type": "code",
   "execution_count": 18,
   "metadata": {
    "collapsed": true
   },
   "outputs": [],
   "source": [
    "lbm_results={}\n",
    "for appliance in ['fridge','hvac','dw','wm','mw','oven']:\n",
    "    try:\n",
    "        lbm_results[appliance] = get_lbm(appliance,'Austin')\n",
    "    except:\n",
    "        pass\n",
    "lbm_results = pd.Series(lbm_results)"
   ]
  },
  {
   "cell_type": "code",
   "execution_count": 19,
   "metadata": {
    "collapsed": false
   },
   "outputs": [
    {
     "data": {
      "text/plain": [
       "dw          97.950250\n",
       "fridge      19.604440\n",
       "hvac        63.435324\n",
       "mw          93.421598\n",
       "oven       235.460335\n",
       "wm        2616.246376\n",
       "dtype: float64"
      ]
     },
     "execution_count": 19,
     "metadata": {},
     "output_type": "execute_result"
    }
   ],
   "source": [
    "lbm_results"
   ]
  },
  {
   "cell_type": "code",
   "execution_count": 20,
   "metadata": {
    "collapsed": true
   },
   "outputs": [],
   "source": [
    "fhmm_results={}\n",
    "for appliance in ['fridge','hvac','dw','wm','mw','oven']:\n",
    "    try:\n",
    "        fhmm_results[appliance] = get_fhmm(appliance,'Austin')\n",
    "    except:\n",
    "        pass\n",
    "fhmm_results = pd.Series(fhmm_results)"
   ]
  },
  {
   "cell_type": "code",
   "execution_count": 21,
   "metadata": {
    "collapsed": false
   },
   "outputs": [
    {
     "data": {
      "text/plain": [
       "dw        1381.644002\n",
       "fridge      35.694620\n",
       "hvac        30.407670\n",
       "mw         822.226612\n",
       "oven      3063.765939\n",
       "wm         944.352849\n",
       "dtype: float64"
      ]
     },
     "execution_count": 21,
     "metadata": {},
     "output_type": "execute_result"
    }
   ],
   "source": [
    "fhmm_results"
   ]
  },
  {
   "cell_type": "code",
   "execution_count": 22,
   "metadata": {
    "collapsed": true
   },
   "outputs": [],
   "source": [
    "sd_austin_results = pd.DataFrame({\"FHMM\":fhmm_results,\"Regional average\":regional_average_results,\n",
    "                                 \"LBM\":lbm_results,'Vistrit':vistrit})"
   ]
  },
  {
   "cell_type": "code",
   "execution_count": 23,
   "metadata": {
    "collapsed": false
   },
   "outputs": [],
   "source": [
    "sd_austin_results = sd_austin_results.ix[['fridge','hvac','wm','mw','dw','oven']]"
   ]
  },
  {
   "cell_type": "code",
   "execution_count": 24,
   "metadata": {
    "collapsed": true
   },
   "outputs": [],
   "source": [
    "sd_austin_results.index = ['Fridge','HVAC','Washing\\nmachine','Micro-\\nwave','Dish\\nwasher','Oven']"
   ]
  },
  {
   "cell_type": "code",
   "execution_count": 25,
   "metadata": {
    "collapsed": false
   },
   "outputs": [
    {
     "name": "stderr",
     "output_type": "stream",
     "text": [
      "/Users/nipunbatra/anaconda/lib/python2.7/site-packages/matplotlib/__init__.py:872: UserWarning: axes.color_cycle is deprecated and replaced with axes.prop_cycle; please use the latter.\n",
      "  warnings.warn(self.msg_depr % (key, alt_key))\n",
      "/Users/nipunbatra/anaconda/lib/python2.7/site-packages/matplotlib/__init__.py:872: UserWarning: text.fontsize is deprecated and replaced with font.size; please use the latter.\n",
      "  warnings.warn(self.msg_depr % (key, alt_key))\n"
     ]
    }
   ],
   "source": [
    "latexify(columns=1)"
   ]
  },
  {
   "cell_type": "code",
   "execution_count": 26,
   "metadata": {
    "collapsed": false
   },
   "outputs": [
    {
     "name": "stderr",
     "output_type": "stream",
     "text": [
      "/Users/nipunbatra/anaconda/lib/python2.7/site-packages/pandas/tools/plotting.py:929: UserWarning: 'colors' is being deprecated. Please use 'color'instead of 'colors'\n",
      "  warnings.warn((\"'colors' is being deprecated. Please use 'color'\"\n"
     ]
    },
    {
     "data": {
      "image/png": "[encoded data removed]",
      "text/plain": [
       "<matplotlib.figure.Figure at 0x115d1d5d0>"
      ]
     },
     "metadata": {},
     "output_type": "display_data"
    }
   ],
   "source": [
    "colors = [tableau20blind[x] for x in [1,3,5, 8]]\n",
    "sd_austin_results.plot(kind=\"bar\", logy=True, rot=0, colors=colors).legend(ncol=2)\n",
    "format_axes(plt.gca())\n",
    "plt.ylabel(\"Energy Error(\\%)\\n(Lower is better)\\n[Shown on log scale]\")\n",
    "plt.savefig('../results/sd_austin.pdf',bbox_inches=\"tight\")"
   ]
  },
  {
   "cell_type": "code",
   "execution_count": 33,
   "metadata": {
    "collapsed": true
   },
   "outputs": [],
   "source": [
    "def prepare_sensitivity_df(df):\n",
    "    df = df[['None','DD',\n",
    "     'DD-percentage',\n",
    "     'median-aggregate',\n",
    "     'median-aggregate-percentage',\n",
    "     'regional',\n",
    "     'regional-percentage']]\n",
    "    df.columns = [('None','Energy'),('Degree days','Energy'),('Degree days','Proportion'),\n",
    "              ('Median aggregate','Energy'),('Median aggregate','Proportion'),\n",
    "             ('Regional average','Energy'),('Regional average','Proportion')]\n",
    "    df = df.ix[['fridge','hvac','wm','mw','dw','oven']]\n",
    "    df.index = ['Fridge','HVAC','Washing\\nmachine','Micro-\\wave','Dish\\nwasher','Oven']\n",
    "    return df\n"
   ]
  },
  {
   "cell_type": "code",
   "execution_count": 34,
   "metadata": {
    "collapsed": true
   },
   "outputs": [],
   "source": [
    "sd_austin_sensitivity_df = prepare_sensitivity_df(sd_austin_sensitivity_df)"
   ]
  },
  {
   "cell_type": "code",
   "execution_count": 36,
   "metadata": {
    "collapsed": false
   },
   "outputs": [
    {
     "data": {
      "text/html": [
       "<div>\n",
       "<table border=\"1\" class=\"dataframe\">\n",
       "  <thead>\n",
       "    <tr style=\"text-align: right;\">\n",
       "      <th></th>\n",
       "      <th>(None, Energy)</th>\n",
       "      <th>(Degree days, Energy)</th>\n",
       "      <th>(Degree days, Proportion)</th>\n",
       "      <th>(Median aggregate, Energy)</th>\n",
       "      <th>(Median aggregate, Proportion)</th>\n",
       "      <th>(Regional average, Energy)</th>\n",
       "      <th>(Regional average, Proportion)</th>\n",
       "    </tr>\n",
       "  </thead>\n",
       "  <tbody>\n",
       "    <tr>\n",
       "      <th>Fridge</th>\n",
       "      <td>24.128198</td>\n",
       "      <td>23.342505</td>\n",
       "      <td>50.743108</td>\n",
       "      <td>114.031521</td>\n",
       "      <td>115.146362</td>\n",
       "      <td>23.569190</td>\n",
       "      <td>50.400313</td>\n",
       "    </tr>\n",
       "    <tr>\n",
       "      <th>HVAC</th>\n",
       "      <td>59.409228</td>\n",
       "      <td>44.067202</td>\n",
       "      <td>26.634442</td>\n",
       "      <td>45.789630</td>\n",
       "      <td>44.567010</td>\n",
       "      <td>57.618993</td>\n",
       "      <td>42.504396</td>\n",
       "    </tr>\n",
       "    <tr>\n",
       "      <th>Washing\\nmachine</th>\n",
       "      <td>49.915222</td>\n",
       "      <td>49.881359</td>\n",
       "      <td>156.769185</td>\n",
       "      <td>150.403044</td>\n",
       "      <td>175.704316</td>\n",
       "      <td>49.847082</td>\n",
       "      <td>132.384986</td>\n",
       "    </tr>\n",
       "    <tr>\n",
       "      <th>Micro-\\wave</th>\n",
       "      <td>100.679071</td>\n",
       "      <td>74.783124</td>\n",
       "      <td>67.988560</td>\n",
       "      <td>226.434338</td>\n",
       "      <td>177.786037</td>\n",
       "      <td>156.445856</td>\n",
       "      <td>156.875642</td>\n",
       "    </tr>\n",
       "    <tr>\n",
       "      <th>Dish\\nwasher</th>\n",
       "      <td>63.309244</td>\n",
       "      <td>63.846612</td>\n",
       "      <td>96.856467</td>\n",
       "      <td>87.461178</td>\n",
       "      <td>86.588917</td>\n",
       "      <td>66.420398</td>\n",
       "      <td>89.754732</td>\n",
       "    </tr>\n",
       "    <tr>\n",
       "      <th>Oven</th>\n",
       "      <td>51.619391</td>\n",
       "      <td>49.990886</td>\n",
       "      <td>133.579291</td>\n",
       "      <td>86.376343</td>\n",
       "      <td>136.489064</td>\n",
       "      <td>70.621527</td>\n",
       "      <td>65.341836</td>\n",
       "    </tr>\n",
       "  </tbody>\n",
       "</table>\n",
       "</div>"
      ],
      "text/plain": [
       "                  (None, Energy)  (Degree days, Energy)  \\\n",
       "Fridge                 24.128198              23.342505   \n",
       "HVAC                   59.409228              44.067202   \n",
       "Washing\\nmachine       49.915222              49.881359   \n",
       "Micro-\\wave           100.679071              74.783124   \n",
       "Dish\\nwasher           63.309244              63.846612   \n",
       "Oven                   51.619391              49.990886   \n",
       "\n",
       "                  (Degree days, Proportion)  (Median aggregate, Energy)  \\\n",
       "Fridge                            50.743108                  114.031521   \n",
       "HVAC                              26.634442                   45.789630   \n",
       "Washing\\nmachine                 156.769185                  150.403044   \n",
       "Micro-\\wave                       67.988560                  226.434338   \n",
       "Dish\\nwasher                      96.856467                   87.461178   \n",
       "Oven                             133.579291                   86.376343   \n",
       "\n",
       "                  (Median aggregate, Proportion)  (Regional average, Energy)  \\\n",
       "Fridge                                115.146362                   23.569190   \n",
       "HVAC                                   44.567010                   57.618993   \n",
       "Washing\\nmachine                      175.704316                   49.847082   \n",
       "Micro-\\wave                           177.786037                  156.445856   \n",
       "Dish\\nwasher                           86.588917                   66.420398   \n",
       "Oven                                  136.489064                   70.621527   \n",
       "\n",
       "                  (Regional average, Proportion)  \n",
       "Fridge                                 50.400313  \n",
       "HVAC                                   42.504396  \n",
       "Washing\\nmachine                      132.384986  \n",
       "Micro-\\wave                           156.875642  \n",
       "Dish\\nwasher                           89.754732  \n",
       "Oven                                   65.341836  "
      ]
     },
     "execution_count": 36,
     "metadata": {},
     "output_type": "execute_result"
    }
   ],
   "source": [
    "sd_austin_sensitivity_df"
   ]
  },
  {
   "cell_type": "code",
   "execution_count": 37,
   "metadata": {
    "collapsed": true
   },
   "outputs": [],
   "source": []
  },
  {
   "cell_type": "code",
   "execution_count": 35,
   "metadata": {
    "collapsed": false
   },
   "outputs": [],
   "source": [
    "pickle.dump(sd_austin_sensitivity_df, open('../data/output/sd_austin_sensitivity_transform.pkl','w'))"
   ]
  },
  {
   "cell_type": "code",
   "execution_count": 8,
   "metadata": {
    "collapsed": false
   },
   "outputs": [
    {
     "data": {
      "text/plain": [
       "50.743107772985155"
      ]
     },
     "execution_count": 8,
     "metadata": {},
     "output_type": "execute_result"
    }
   ],
   "source": [
    "pd.DataFrame(out['DD-percentage']['fridge']).median().mean()"
   ]
  },
  {
   "cell_type": "code",
   "execution_count": 15,
   "metadata": {
    "collapsed": false
   },
   "outputs": [],
   "source": [
    "o = {}\n",
    "for transformation in transformations:\n",
    "    o[transformation] = pd.DataFrame(out[transformation]['oven']).median().mean()\n",
    "    "
   ]
  },
  {
   "cell_type": "code",
   "execution_count": 16,
   "metadata": {
    "collapsed": false
   },
   "outputs": [
    {
     "data": {
      "text/plain": [
       "DD                              49.990886\n",
       "DD-percentage                  133.579291\n",
       "None                            51.619391\n",
       "median-aggregate                86.376343\n",
       "median-aggregate-percentage    136.489064\n",
       "regional                        70.621527\n",
       "regional-percentage             65.341836\n",
       "dtype: float64"
      ]
     },
     "execution_count": 16,
     "metadata": {},
     "output_type": "execute_result"
    }
   ],
   "source": [
    "pd.Series(o)"
   ]
  },
  {
   "cell_type": "code",
   "execution_count": 38,
   "metadata": {
    "collapsed": false
   },
   "outputs": [
    {
     "data": {
      "text/html": [
       "<div>\n",
       "<table border=\"1\" class=\"dataframe\">\n",
       "  <thead>\n",
       "    <tr style=\"text-align: right;\">\n",
       "      <th></th>\n",
       "      <th>(None, Energy)</th>\n",
       "      <th>(Degree days, Energy)</th>\n",
       "      <th>(Degree days, Proportion)</th>\n",
       "      <th>(Median aggregate, Energy)</th>\n",
       "      <th>(Median aggregate, Proportion)</th>\n",
       "      <th>(Regional average, Energy)</th>\n",
       "      <th>(Regional average, Proportion)</th>\n",
       "    </tr>\n",
       "  </thead>\n",
       "  <tbody>\n",
       "    <tr>\n",
       "      <th>Fridge</th>\n",
       "      <td>24.128198</td>\n",
       "      <td>23.342505</td>\n",
       "      <td>50.743108</td>\n",
       "      <td>114.031521</td>\n",
       "      <td>115.146362</td>\n",
       "      <td>23.569190</td>\n",
       "      <td>50.400313</td>\n",
       "    </tr>\n",
       "    <tr>\n",
       "      <th>HVAC</th>\n",
       "      <td>59.409228</td>\n",
       "      <td>44.067202</td>\n",
       "      <td>26.634442</td>\n",
       "      <td>45.789630</td>\n",
       "      <td>44.567010</td>\n",
       "      <td>57.618993</td>\n",
       "      <td>42.504396</td>\n",
       "    </tr>\n",
       "    <tr>\n",
       "      <th>Washing\\nmachine</th>\n",
       "      <td>49.915222</td>\n",
       "      <td>49.881359</td>\n",
       "      <td>156.769185</td>\n",
       "      <td>150.403044</td>\n",
       "      <td>175.704316</td>\n",
       "      <td>49.847082</td>\n",
       "      <td>132.384986</td>\n",
       "    </tr>\n",
       "    <tr>\n",
       "      <th>Micro-\\wave</th>\n",
       "      <td>100.679071</td>\n",
       "      <td>74.783124</td>\n",
       "      <td>67.988560</td>\n",
       "      <td>226.434338</td>\n",
       "      <td>177.786037</td>\n",
       "      <td>156.445856</td>\n",
       "      <td>156.875642</td>\n",
       "    </tr>\n",
       "    <tr>\n",
       "      <th>Dish\\nwasher</th>\n",
       "      <td>63.309244</td>\n",
       "      <td>63.846612</td>\n",
       "      <td>96.856467</td>\n",
       "      <td>87.461178</td>\n",
       "      <td>86.588917</td>\n",
       "      <td>66.420398</td>\n",
       "      <td>89.754732</td>\n",
       "    </tr>\n",
       "    <tr>\n",
       "      <th>Oven</th>\n",
       "      <td>51.619391</td>\n",
       "      <td>49.990886</td>\n",
       "      <td>133.579291</td>\n",
       "      <td>86.376343</td>\n",
       "      <td>136.489064</td>\n",
       "      <td>70.621527</td>\n",
       "      <td>65.341836</td>\n",
       "    </tr>\n",
       "  </tbody>\n",
       "</table>\n",
       "</div>"
      ],
      "text/plain": [
       "                  (None, Energy)  (Degree days, Energy)  \\\n",
       "Fridge                 24.128198              23.342505   \n",
       "HVAC                   59.409228              44.067202   \n",
       "Washing\\nmachine       49.915222              49.881359   \n",
       "Micro-\\wave           100.679071              74.783124   \n",
       "Dish\\nwasher           63.309244              63.846612   \n",
       "Oven                   51.619391              49.990886   \n",
       "\n",
       "                  (Degree days, Proportion)  (Median aggregate, Energy)  \\\n",
       "Fridge                            50.743108                  114.031521   \n",
       "HVAC                              26.634442                   45.789630   \n",
       "Washing\\nmachine                 156.769185                  150.403044   \n",
       "Micro-\\wave                       67.988560                  226.434338   \n",
       "Dish\\nwasher                      96.856467                   87.461178   \n",
       "Oven                             133.579291                   86.376343   \n",
       "\n",
       "                  (Median aggregate, Proportion)  (Regional average, Energy)  \\\n",
       "Fridge                                115.146362                   23.569190   \n",
       "HVAC                                   44.567010                   57.618993   \n",
       "Washing\\nmachine                      175.704316                   49.847082   \n",
       "Micro-\\wave                           177.786037                  156.445856   \n",
       "Dish\\nwasher                           86.588917                   66.420398   \n",
       "Oven                                  136.489064                   70.621527   \n",
       "\n",
       "                  (Regional average, Proportion)  \n",
       "Fridge                                 50.400313  \n",
       "HVAC                                   42.504396  \n",
       "Washing\\nmachine                      132.384986  \n",
       "Micro-\\wave                           156.875642  \n",
       "Dish\\nwasher                           89.754732  \n",
       "Oven                                   65.341836  "
      ]
     },
     "execution_count": 38,
     "metadata": {},
     "output_type": "execute_result"
    }
   ],
   "source": [
    "sd_austin_sensitivity_df"
   ]
  },
  {
   "cell_type": "code",
   "execution_count": null,
   "metadata": {
    "collapsed": true
   },
   "outputs": [],
   "source": []
  }
 ],
 "metadata": {
  "kernelspec": {
   "display_name": "Python 2",
   "language": "python",
   "name": "python2"
  },
  "language_info": {
   "codemirror_mode": {
    "name": "ipython",
    "version": 2
   },
   "file_extension": ".py",
   "mimetype": "text/x-python",
   "name": "python",
   "nbconvert_exporter": "python",
   "pygments_lexer": "ipython2",
   "version": "2.7.11"
  }
 },
 "nbformat": 4,
 "nbformat_minor": 0
}
