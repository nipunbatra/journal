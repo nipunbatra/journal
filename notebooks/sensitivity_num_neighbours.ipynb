{
 "cells": [
  {
   "cell_type": "code",
   "execution_count": 1,
   "metadata": {
    "collapsed": true
   },
   "outputs": [],
   "source": [
    "import pandas as pd\n",
    "import pickle\n",
    "import sys, os\n",
    "import numpy as np\n",
    "import matplotlib.pyplot as plt\n",
    "sys.path.append(\"../code/\")\n",
    "out_overall = pickle.load(open('../data/input/all_regions.pkl', 'r'))\n",
    "from common_functions import tableau20blind, format_axes, latexify\n",
    "from regional_average_contribution import contribution"
   ]
  },
  {
   "cell_type": "code",
   "execution_count": 2,
   "metadata": {
    "collapsed": true
   },
   "outputs": [],
   "source": [
    "%matplotlib inline"
   ]
  },
  {
   "cell_type": "code",
   "execution_count": 3,
   "metadata": {
    "collapsed": true
   },
   "outputs": [],
   "source": [
    "best_transform_sd_austin = {'fridge':'DD',\n",
    "                           'hvac':'DD-percentage',\n",
    "                           'wm':'regional',\n",
    "                           'mw':'DD-percentage',\n",
    "                           'dw':'None',\n",
    "                           'oven':'DD'}"
   ]
  },
  {
   "cell_type": "code",
   "execution_count": 4,
   "metadata": {
    "collapsed": true
   },
   "outputs": [],
   "source": [
    "train_region = \"SanDiego\"\n",
    "test_region = \"Austin\"\n",
    "#test_region = \"Austin\"\n",
    "#train_region = \"Boulder\"\n",
    "out_overall = pickle.load(open('../data/input/all_regions.pkl','r'))\n",
    "\n",
    "train_df = out_overall[train_region]\n",
    "test_df = out_overall[test_region]"
   ]
  },
  {
   "cell_type": "code",
   "execution_count": 5,
   "metadata": {
    "collapsed": false
   },
   "outputs": [
    {
     "name": "stdout",
     "output_type": "stream",
     "text": [
      "fridge 1\n",
      "hvac 1\n",
      "wm 1\n",
      "mw 1\n",
      "dw 1\n",
      "oven 1\n",
      "fridge 2\n",
      "hvac 2\n",
      "wm 2\n",
      "mw 2\n",
      "dw 2\n",
      "oven 2\n",
      "fridge 3\n",
      "hvac 3\n",
      "wm 3\n",
      "mw 3\n",
      "dw 3\n",
      "oven 3\n",
      "fridge 4\n",
      "hvac 4\n",
      "wm 4\n",
      "mw 4\n",
      "dw 4\n",
      "oven 4\n",
      "fridge 5\n",
      "hvac 5\n",
      "wm 5\n",
      "mw 5\n",
      "dw 5\n",
      "oven 5\n",
      "fridge 6\n",
      "hvac 6\n",
      "wm 6\n",
      "mw 6\n",
      "dw 6\n",
      "oven 6\n",
      "fridge 7\n",
      "hvac 7\n",
      "wm 7\n",
      "mw 7\n",
      "dw 7\n",
      "oven 7\n"
     ]
    }
   ],
   "source": [
    "Appliances = ['fridge','hvac','wm','mw','dw','oven']\n",
    "out = {}\n",
    "for k in range(1,8):\n",
    "    \n",
    "    out[k] = {}\n",
    "    #for appliance in [\"hvac\",\"fridge\",\"dr\",\"wm\"]:\n",
    "    for appliance in Appliances:\n",
    "        print appliance, k\n",
    "        transform = best_transform_sd_austin[appliance]\n",
    "        if appliance==\"hvac\":\n",
    "            start, stop=5, 11\n",
    "        else:\n",
    "            start, stop=1, 13\n",
    "        out[k][appliance] = {}\n",
    "        for month in range(start,stop):\n",
    "            out[k][appliance][month] = {}\n",
    "            for test_home in test_df.index[:]:\n",
    "                try:\n",
    "                    pred =  pickle.load(open(os.path.expanduser('~/ineq_cross/%s_%s_%s_%s_%d_%d_%d.pkl' %(train_region,\n",
    "                                                                                               test_region,\n",
    "                                                                                               transform,\n",
    "                                                                                               appliance,\n",
    "                                                                                               month,\n",
    "                                                                                               test_home,\n",
    "                                                                                               k)),'r'))\n",
    "                    gt = test_df.ix[test_home]['%s_%d' %(appliance, month)]\n",
    "                    error = np.abs(gt-pred)\n",
    "                    percentage_error = error*100/gt\n",
    "                   \n",
    "                    out[k][appliance][month][test_home] = percentage_error\n",
    "                except Exception, e:\n",
    "                    pass\n",
    "\n",
    "\n",
    "    "
   ]
  },
  {
   "cell_type": "code",
   "execution_count": 6,
   "metadata": {
    "collapsed": false
   },
   "outputs": [],
   "source": [
    "o = {}\n",
    "for appliance in Appliances:\n",
    "    o[appliance]={}\n",
    "    for k in range(1, 8):\n",
    "        o[appliance][k] = pd.DataFrame(out[k][appliance]).median().mean()"
   ]
  },
  {
   "cell_type": "code",
   "execution_count": 7,
   "metadata": {
    "collapsed": false
   },
   "outputs": [],
   "source": [
    "sen_num_neighbours_df = pd.DataFrame(o).T"
   ]
  },
  {
   "cell_type": "code",
   "execution_count": 8,
   "metadata": {
    "collapsed": false
   },
   "outputs": [],
   "source": [
    "sen_num_neighbours_df = sen_num_neighbours_df.ix[['fridge','hvac','wm','mw','dw','oven']]"
   ]
  },
  {
   "cell_type": "code",
   "execution_count": 9,
   "metadata": {
    "collapsed": false
   },
   "outputs": [],
   "source": [
    "sen_num_neighbours_df.index = ['Fridge','HVAC','Washing\\nmachine','Micro-\\nwave','Dish\\nwasher','Oven']"
   ]
  },
  {
   "cell_type": "code",
   "execution_count": 28,
   "metadata": {
    "collapsed": false
   },
   "outputs": [],
   "source": [
    "latexify(columns=1)"
   ]
  },
  {
   "cell_type": "code",
   "execution_count": 33,
   "metadata": {
    "collapsed": false
   },
   "outputs": [
    {
     "data": {
      "text/html": [
       "<div>\n",
       "<table border=\"1\" class=\"dataframe\">\n",
       "  <thead>\n",
       "    <tr style=\"text-align: right;\">\n",
       "      <th></th>\n",
       "      <th>1</th>\n",
       "      <th>2</th>\n",
       "      <th>3</th>\n",
       "      <th>4</th>\n",
       "      <th>5</th>\n",
       "      <th>6</th>\n",
       "      <th>7</th>\n",
       "    </tr>\n",
       "  </thead>\n",
       "  <tbody>\n",
       "    <tr>\n",
       "      <th>Fridge</th>\n",
       "      <td>32.039637</td>\n",
       "      <td>23.883796</td>\n",
       "      <td>23.342505</td>\n",
       "      <td>23.294841</td>\n",
       "      <td>23.680811</td>\n",
       "      <td>23.954996</td>\n",
       "      <td>24.917006</td>\n",
       "    </tr>\n",
       "    <tr>\n",
       "      <th>HVAC</th>\n",
       "      <td>29.044505</td>\n",
       "      <td>26.162457</td>\n",
       "      <td>26.634442</td>\n",
       "      <td>27.087217</td>\n",
       "      <td>27.522710</td>\n",
       "      <td>27.790505</td>\n",
       "      <td>27.954469</td>\n",
       "    </tr>\n",
       "    <tr>\n",
       "      <th>Washing\\nmachine</th>\n",
       "      <td>51.563039</td>\n",
       "      <td>50.401650</td>\n",
       "      <td>49.847082</td>\n",
       "      <td>48.616911</td>\n",
       "      <td>48.004238</td>\n",
       "      <td>47.781991</td>\n",
       "      <td>47.459718</td>\n",
       "    </tr>\n",
       "    <tr>\n",
       "      <th>Micro-\\nwave</th>\n",
       "      <td>116.588166</td>\n",
       "      <td>132.231297</td>\n",
       "      <td>67.988560</td>\n",
       "      <td>165.137110</td>\n",
       "      <td>178.645764</td>\n",
       "      <td>189.042436</td>\n",
       "      <td>200.747037</td>\n",
       "    </tr>\n",
       "    <tr>\n",
       "      <th>Dish\\nwasher</th>\n",
       "      <td>92.174125</td>\n",
       "      <td>68.811135</td>\n",
       "      <td>63.309244</td>\n",
       "      <td>61.558015</td>\n",
       "      <td>63.294917</td>\n",
       "      <td>62.421605</td>\n",
       "      <td>65.047826</td>\n",
       "    </tr>\n",
       "    <tr>\n",
       "      <th>Oven</th>\n",
       "      <td>87.633508</td>\n",
       "      <td>63.449850</td>\n",
       "      <td>49.990886</td>\n",
       "      <td>53.522842</td>\n",
       "      <td>51.079754</td>\n",
       "      <td>50.926282</td>\n",
       "      <td>50.388615</td>\n",
       "    </tr>\n",
       "  </tbody>\n",
       "</table>\n",
       "</div>"
      ],
      "text/plain": [
       "                           1           2          3           4           5  \\\n",
       "Fridge             32.039637   23.883796  23.342505   23.294841   23.680811   \n",
       "HVAC               29.044505   26.162457  26.634442   27.087217   27.522710   \n",
       "Washing\\nmachine   51.563039   50.401650  49.847082   48.616911   48.004238   \n",
       "Micro-\\nwave      116.588166  132.231297  67.988560  165.137110  178.645764   \n",
       "Dish\\nwasher       92.174125   68.811135  63.309244   61.558015   63.294917   \n",
       "Oven               87.633508   63.449850  49.990886   53.522842   51.079754   \n",
       "\n",
       "                           6           7  \n",
       "Fridge             23.954996   24.917006  \n",
       "HVAC               27.790505   27.954469  \n",
       "Washing\\nmachine   47.781991   47.459718  \n",
       "Micro-\\nwave      189.042436  200.747037  \n",
       "Dish\\nwasher       62.421605   65.047826  \n",
       "Oven               50.926282   50.388615  "
      ]
     },
     "execution_count": 33,
     "metadata": {},
     "output_type": "execute_result"
    }
   ],
   "source": [
    "sen_num_neighbours_df"
   ]
  },
  {
   "cell_type": "code",
   "execution_count": 51,
   "metadata": {
    "collapsed": false
   },
   "outputs": [
    {
     "data": {
      "image/png": "[encoded data removed]",
      "text/plain": [
       "<matplotlib.figure.Figure at 0x11a1a5c10>"
      ]
     },
     "metadata": {},
     "output_type": "display_data"
    }
   ],
   "source": [
    "latexify(columns=1, fig_height=1.55)\n",
    "colors = tableau20blind[::2]\n",
    "sen_num_neighbours_df.ix[['Fridge','HVAC','Washing\\nmachine']].plot(kind=\"bar\", rot=0, colors=colors).legend(ncol=2, title='$K$',loc=4)\n",
    "format_axes(plt.gca())\n",
    "plt.ylabel(\"Energy Error(\\%)\\n(Lower is better)\")\n",
    "plt.savefig('../results/sd_austin_sensitivity_num_neighbours.pdf',bbox_inches=\"tight\")"
   ]
  },
  {
   "cell_type": "code",
   "execution_count": 123,
   "metadata": {
    "collapsed": false
   },
   "outputs": [
    {
     "ename": "KeyError",
     "evalue": "6",
     "output_type": "error",
     "traceback": [
      "\u001b[0;31m---------------------------------------------------------------------------\u001b[0m",
      "\u001b[0;31mKeyError\u001b[0m                                  Traceback (most recent call last)",
      "\u001b[0;32m<ipython-input-123-49aa94be6baf>\u001b[0m in \u001b[0;36m<module>\u001b[0;34m()\u001b[0m\n\u001b[0;32m----> 1\u001b[0;31m \u001b[0mpd\u001b[0m\u001b[0;34m.\u001b[0m\u001b[0mDataFrame\u001b[0m\u001b[0;34m(\u001b[0m\u001b[0mout\u001b[0m\u001b[0;34m[\u001b[0m\u001b[0;36m6\u001b[0m\u001b[0;34m]\u001b[0m\u001b[0;34m[\u001b[0m\u001b[0;34m'mw'\u001b[0m\u001b[0;34m]\u001b[0m\u001b[0;34m)\u001b[0m\u001b[0;34m.\u001b[0m\u001b[0mmedian\u001b[0m\u001b[0;34m(\u001b[0m\u001b[0;34m)\u001b[0m\u001b[0;34m.\u001b[0m\u001b[0mdescribe\u001b[0m\u001b[0;34m(\u001b[0m\u001b[0;34m)\u001b[0m\u001b[0;34m\u001b[0m\u001b[0m\n\u001b[0m",
      "\u001b[0;31mKeyError\u001b[0m: 6"
     ]
    }
   ],
   "source": [
    "pd.DataFrame(out[6]['mw']).median().describe()"
   ]
  },
  {
   "cell_type": "code",
   "execution_count": null,
   "metadata": {
    "collapsed": true
   },
   "outputs": [],
   "source": []
  }
 ],
 "metadata": {
  "kernelspec": {
   "display_name": "Python 2",
   "language": "python",
   "name": "python2"
  },
  "language_info": {
   "codemirror_mode": {
    "name": "ipython",
    "version": 2
   },
   "file_extension": ".py",
   "mimetype": "text/x-python",
   "name": "python",
   "nbconvert_exporter": "python",
   "pygments_lexer": "ipython2",
   "version": "2.7.11"
  }
 },
 "nbformat": 4,
 "nbformat_minor": 0
}
