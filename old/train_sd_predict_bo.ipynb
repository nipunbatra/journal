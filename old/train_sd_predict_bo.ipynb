{
 "cells": [
  {
   "cell_type": "code",
   "execution_count": 31,
   "metadata": {
    "collapsed": true
   },
   "outputs": [],
   "source": [
    "import pandas as pd\n",
    "import os\n",
    "import numpy as np\n",
    "from sklearn.ensemble import RandomForestRegressor\n",
    "from sklearn.neighbors import KNeighborsRegressor\n",
    "from copy import deepcopy"
   ]
  },
  {
   "cell_type": "code",
   "execution_count": 32,
   "metadata": {
    "collapsed": true
   },
   "outputs": [],
   "source": [
    "st = pd.HDFStore(os.path.expanduser(\"/Users/nipunbatra/wiki-all.h5\"))"
   ]
  },
  {
   "cell_type": "code",
   "execution_count": 33,
   "metadata": {
    "collapsed": true
   },
   "outputs": [],
   "source": [
    "metadata_df = pd.read_csv(\"/Users/nipunbatra/w/dataport-metadata.csv\",index_col=0)"
   ]
  },
  {
   "cell_type": "code",
   "execution_count": 34,
   "metadata": {
    "collapsed": true
   },
   "outputs": [],
   "source": [
    "months=3\n",
    "start='7-1-2014'\n",
    "start_month=7\n",
    "end = '9-30-2014'\n",
    "end_month=10"
   ]
  },
  {
   "cell_type": "code",
   "execution_count": 35,
   "metadata": {
    "collapsed": true
   },
   "outputs": [],
   "source": [
    "sd_df = pd.read_csv(\"../data/input/san_diego_df.csv\", index_col=0)\n",
    "bo_df = pd.read_csv(\"../data/input/boulder_df.csv\", index_col=0)"
   ]
  },
  {
   "cell_type": "code",
   "execution_count": 36,
   "metadata": {
    "collapsed": false
   },
   "outputs": [],
   "source": [
    "import json\n",
    "sd_homes = json.load(open(\"../data/input/san_diego_homes.json\",'r'))\n",
    "bo_homes = json.load(open(\"../data/input/boulder_homes.json\",'r'))"
   ]
  },
  {
   "cell_type": "code",
   "execution_count": 37,
   "metadata": {
    "collapsed": true
   },
   "outputs": [],
   "source": [
    "K_min, K_max = 1,6\n",
    "F_min, F_max=1,8\n",
    "\n",
    "#from all_functions import *\n",
    "#from features import *\n",
    "\n",
    "import sys\n",
    "\n",
    "from sklearn.neighbors import KNeighborsRegressor\n",
    "from sklearn.cross_validation import ShuffleSplit\n",
    "from sklearn.cross_validation import LeaveOneOut\n",
    "\n",
    "NUM_NEIGHBOUR_MAX = 6\n",
    "F_MAX = 4\n",
    "\n",
    "import json\n",
    "\n",
    "feature_map = {'Monthly':['aggregate_%d' %month for month in range(start_month, end_month)],\n",
    "              'Static':['area'],\n",
    "              'Monthly+Static':np.hstack([['aggregate_%d' %month for month in range(start_month, end_month)],\n",
    "                                        'area']).flatten().tolist()}\n",
    "\n",
    "\n",
    "\n",
    "from sklearn.cross_validation import LeaveOneOut\n",
    "from sklearn.ensemble import ExtraTreesRegressor\n",
    "from sklearn.neighbors import KNeighborsRegressor\n",
    "from collections import OrderedDict"
   ]
  },
  {
   "cell_type": "code",
   "execution_count": 38,
   "metadata": {
    "collapsed": true
   },
   "outputs": [],
   "source": [
    "test_dataset_df = bo_df\n",
    "train_dataset_df = sd_df\n",
    "test_all_homes = bo_homes\n",
    "train_all_homes = sd_homes"
   ]
  },
  {
   "cell_type": "code",
   "execution_count": 46,
   "metadata": {
    "collapsed": false
   },
   "outputs": [],
   "source": [
    "def _find_accuracy(home, appliance, feature=\"Monthly\"):\n",
    "    if appliance ==\"hvac\":\n",
    "        start, stop=7,10\n",
    "    else:\n",
    "        start, stop=7, 10\n",
    "\n",
    "    np.random.seed(42)\n",
    "    appliance_df = train_dataset_df.ix[train_all_homes[appliance]]\n",
    "    appliance_df_test = test_dataset_df.ix[test_all_homes[appliance]]\n",
    "    \n",
    "    #ADDING NEW\n",
    "    appliance_df = appliance_df.ix[appliance_df[feature_map[feature]].dropna().index]\n",
    "    \n",
    "    \n",
    "    test_homes = [home]\n",
    "    train_homes = appliance_df[~appliance_df.index.isin([home])].index\n",
    "    all_home_appliance = deepcopy(train_all_homes)\n",
    "    all_home_appliance[appliance] = train_homes\n",
    "\n",
    "    # Cross validation on inner loop to find best feature, K\n",
    "    train_size = len(train_homes)\n",
    "    l = LeaveOneOut(train_size)\n",
    "    out = OrderedDict()\n",
    "    for cv_train, cv_test in l:\n",
    "\n",
    "        cv_train_home=appliance_df.ix[train_homes[cv_train]]\n",
    "        cv_test_home = appliance_df.ix[train_homes[cv_test]]\n",
    "        test_home_name = cv_test_home.index.values[0]\n",
    "        #print cv_test_home\n",
    "        out[test_home_name]={}\n",
    "\n",
    "\n",
    "        # Summing up energy across start to stop to get Y to learn optimum feature on\n",
    "        Y = cv_train_home[['%s_%d' %(appliance, i) for i in range(start, stop)]].sum(axis=1).values\n",
    "        forest = ExtraTreesRegressor(n_estimators=250,\n",
    "                              random_state=0)\n",
    "        forest.fit(cv_train_home[feature_map[feature]], Y)\n",
    "        importances = forest.feature_importances_\n",
    "        indices = np.argsort(importances)[::-1]\n",
    "\n",
    "        # Now varying K and top-N features\n",
    "\n",
    "        for K in range(K_min, K_max):\n",
    "            out[test_home_name][K]={}\n",
    "            for top_n in range(F_min,F_max):\n",
    "                out[test_home_name][K][top_n]=[]\n",
    "                top_n_features = cv_train_home[feature_map[feature]].columns[indices][:top_n]\n",
    "\n",
    "                # Now fitting KNN on this\n",
    "                for month in range(start, stop):\n",
    "                    clf = KNeighborsRegressor(n_neighbors=K)\n",
    "                    clf.fit(cv_train_home[top_n_features], cv_train_home['%s_%d' %(appliance, month)])\n",
    "                    out[test_home_name][K][top_n].append(clf.predict(cv_test_home[top_n_features]))\n",
    "\n",
    "        # Now, finding the (K, top_n) combination that gave us best accuracy on CV test homes\n",
    "    accur = {}\n",
    "\n",
    "    for K in range(K_min, K_max):\n",
    "        accur[K] = {}\n",
    "        for top_n in range(F_min, F_max):\n",
    "            temp = {}\n",
    "            for h in out.iterkeys():\n",
    "                pred = pd.DataFrame(out[h][K][top_n]).T\n",
    "                #all_but_h = [x for x in out.keys() if x!=h]\n",
    "                pred.index = [h]\n",
    "                pred.columns = [['%s_%d' %(appliance, i) for i in range(start, stop)]]\n",
    "                gt = appliance_df.ix[h][['%s_%d' %(appliance, i) for i in range(start, stop)]]\n",
    "                error = (pred-gt).abs().div(gt).mul(100)\n",
    "                mean_error = error.mean().mean()\n",
    "                a = 100-mean_error\n",
    "                if a<0:\n",
    "                    a=0\n",
    "                temp[h]=a\n",
    "            ac = pd.Series(temp).mean()\n",
    "\n",
    "            accur[K][top_n] = ac\n",
    "\n",
    "    accur_df = pd.DataFrame(accur)\n",
    "    accur_max = accur_df.max().max()\n",
    "    max_ac_df = accur_df[accur_df==accur_max]\n",
    "    F_best = cv_train_home[feature_map[feature]].columns[indices][:max_ac_df.mean(axis=1).dropna().index.values[0]].tolist()\n",
    "    K_best = max_ac_df.mean().dropna().index.values[0]\n",
    "\n",
    "    # Now predicting for test home\n",
    "    \n",
    "    train_overall = appliance_df.ix[appliance_df[~appliance_df.index.isin([home])].index]\n",
    "    test_overall = appliance_df_test[appliance_df_test.index.isin([home])]\n",
    "    pred_test = {}\n",
    "    gt_test = {}\n",
    "    for month in range(start, stop):\n",
    "        clf = KNeighborsRegressor(n_neighbors=K_best)\n",
    "        clf.fit(train_overall[F_best], train_overall['%s_%d' %(appliance, month)])\n",
    "        pred_test[month] = clf.predict(test_overall[F_best])\n",
    "        gt_test[month] = test_overall['%s_%d' %(appliance, month)]\n",
    "\n",
    "    #print {'f':F_best, 'k':K_best,'accuracy':accur_max}\n",
    "    #json.dump({'f':F_best, 'k':K_best,'accuracy':accur_max},open(\"../main-out-new/%s_%s_%d.json\" %(appliance,feature, home),\"w\") )\n",
    "\n",
    "    pred_df = pd.DataFrame(pred_test)\n",
    "    pred_df.index = [home]\n",
    "    gt_df = pd.DataFrame(gt_test)\n",
    "    error = (gt_df-pred_df).abs().div(gt_df).mul(100)\n",
    "    accuracy_test = 100-error\n",
    "    accuracy_test[accuracy_test<0]=0\n",
    "\n",
    "    return pred_df, gt_df, accuracy_test.squeeze()"
   ]
  },
  {
   "cell_type": "code",
   "execution_count": 47,
   "metadata": {
    "collapsed": true
   },
   "outputs": [],
   "source": [
    "acc = {}"
   ]
  },
  {
   "cell_type": "code",
   "execution_count": 48,
   "metadata": {
    "collapsed": false
   },
   "outputs": [
    {
     "name": "stdout",
     "output_type": "stream",
     "text": [
      "hvac\n",
      "232 56.9491058512\n",
      "698 7.85623878312\n",
      "1879 43.9140187427\n",
      "2144 69.6734532103\n",
      "2523 0.0\n",
      "2903 37.4683061675\n",
      "3734 49.8028277462\n",
      "4147 15.0484026012\n",
      "4920 29.2708887843\n",
      "4974 34.3540318339\n",
      "5652 19.3772452776\n",
      "5904 48.2688098564\n",
      "7001 43.3033481323\n",
      "8273 11.6831637237\n",
      "8368 48.3163073911\n",
      "8395 43.6547024211\n",
      "9156 45.826489418\n",
      "9341 55.7079062651\n",
      "9818 52.7298298878\n"
     ]
    }
   ],
   "source": [
    "#for appliance in [\"hvac\",\"fridge\",\"dw\",\"mw\"]:\n",
    "for appliance in [\"hvac\"]:\n",
    "    if appliance in acc:\n",
    "        continue\n",
    "    else:\n",
    "        print appliance\n",
    "        acc[appliance] = {}\n",
    "        feature=\"Monthly\"\n",
    "        for home in bo_homes[appliance][:]:\n",
    "            try:\n",
    "                pred, gt, out_df = _find_accuracy(home, appliance, feature)\n",
    "                acc[appliance][home]=out_df\n",
    "                print home, acc[appliance][home].mean()\n",
    "            except Exeption, e:\n",
    "                print e"
   ]
  },
  {
   "cell_type": "code",
   "execution_count": 52,
   "metadata": {
    "collapsed": false
   },
   "outputs": [
    {
     "data": {
      "text/plain": [
       "7    56.894190\n",
       "8    49.585235\n",
       "9     6.131903\n",
       "dtype: float64"
      ]
     },
     "execution_count": 52,
     "metadata": {},
     "output_type": "execute_result"
    }
   ],
   "source": [
    "pd.DataFrame(acc['hvac']).T.mean()"
   ]
  },
  {
   "cell_type": "code",
   "execution_count": 12,
   "metadata": {
    "collapsed": false
   },
   "outputs": [
    {
     "name": "stdout",
     "output_type": "stream",
     "text": [
      "fridge\n",
      "698 96.5397271845\n",
      "1350 67.8035880339\n",
      "1879 58.7388484772\n",
      "2144 97.0705590542\n",
      "2523 90.3224642219\n",
      "2903 55.129893089\n",
      "3104 75.5938205903\n",
      "3353 41.6497319685\n",
      "3734 70.7178716102\n",
      "4601 86.5695956932\n",
      "4703 60.0667680629\n",
      "4830 83.6099476131\n",
      "4920 63.6088584776\n",
      "4974 63.3826177532\n",
      "5652 84.7860542967\n",
      "5904 60.0681232139\n",
      "6148 57.9375172364\n",
      "6264 27.893513418\n",
      "6888 89.4637942679\n",
      "6956 58.2080819012\n",
      "7818 44.3389132385\n",
      "8273 55.8005155956\n",
      "8368 64.5161186165\n",
      "8622 83.3254787276\n",
      "8729 36.7405109653\n",
      "8862 77.1903734155\n",
      "9085 78.7771532917\n",
      "9341 94.0508955593\n",
      "9818 91.7869015655\n",
      "hvac\n",
      "232 91.8903077922\n",
      "698 0.0\n",
      "1879 23.9480543358\n",
      "2144 67.6237720249\n",
      "2523 0.0\n",
      "2903 0.0\n",
      "3734 56.225860573\n",
      "4147 63.6444349687\n",
      "4920 0.0\n",
      "4974 87.5829012459\n",
      "5652 0.0\n",
      "5904 90.821901653\n",
      "7001 52.6623072259\n",
      "8273 4.02898525246\n",
      "8368 81.7060763746\n",
      "8395 50.1667861585\n",
      "9156 60.7619690893\n",
      "9341 91.9657155\n",
      "9818 94.5015282017\n"
     ]
    }
   ],
   "source": [
    "#for appliance in [\"hvac\",\"fridge\",\"dw\",\"mw\"]:\n",
    "for appliance in [\"fridge\",\"hvac\"]:\n",
    "    if appliance in acc:\n",
    "        continue\n",
    "    else:\n",
    "        print appliance\n",
    "        acc[appliance] = {}\n",
    "        feature=\"Monthly\"\n",
    "        for home in bo_homes[appliance][:]:\n",
    "            try:\n",
    "                pred, gt, out_df = _find_accuracy(home, appliance, feature)\n",
    "                acc[appliance][home]=out_df\n",
    "                print home, acc[appliance][home].mean()\n",
    "            except Exeption, e:\n",
    "                print e"
   ]
  },
  {
   "cell_type": "code",
   "execution_count": 42,
   "metadata": {
    "collapsed": false
   },
   "outputs": [
    {
     "data": {
      "text/plain": [
       "46.353887346772474"
      ]
     },
     "execution_count": 42,
     "metadata": {},
     "output_type": "execute_result"
    }
   ],
   "source": [
    "pd.Series(acc['hvac']).mean()"
   ]
  },
  {
   "cell_type": "code",
   "execution_count": 43,
   "metadata": {
    "collapsed": false
   },
   "outputs": [],
   "source": [
    "mean_across_months = {}\n",
    "for appliance in acc.keys():\n",
    "    if appliance ==\"hvac\":\n",
    "        mean_across_months[appliance] = pd.Series(acc[appliance])\n",
    "    else:\n",
    "        mean_across_months[appliance] = pd.DataFrame(acc[appliance])\n",
    "    \n",
    "\n",
    "\n",
    "mean_across_months['fridge'].loc[10, 2144] = np.NaN\n",
    "mean_across_months['fridge'].loc[7, 7818] = np.NaN#mean_across_months['hvac'].loc[9, 3938] = np.NaN\n",
    "\n",
    "for appliance in mean_across_months.keys():\n",
    "    if appliance!=\"hvac\":\n",
    "        mean_across_months[appliance] = mean_across_months[appliance].mean()\n",
    "    "
   ]
  },
  {
   "cell_type": "code",
   "execution_count": 44,
   "metadata": {
    "collapsed": false
   },
   "outputs": [
    {
     "data": {
      "text/plain": [
       "68.50575613455632"
      ]
     },
     "execution_count": 44,
     "metadata": {},
     "output_type": "execute_result"
    }
   ],
   "source": [
    "pd.DataFrame(acc['fridge']).mean().mean()"
   ]
  },
  {
   "cell_type": "code",
   "execution_count": 45,
   "metadata": {
    "collapsed": false
   },
   "outputs": [
    {
     "data": {
      "text/plain": [
       "fridge    69.474575\n",
       "hvac      46.353887\n",
       "dtype: float64"
      ]
     },
     "execution_count": 45,
     "metadata": {},
     "output_type": "execute_result"
    }
   ],
   "source": [
    "pd.DataFrame(mean_across_months).mean()"
   ]
  },
  {
   "cell_type": "code",
   "execution_count": null,
   "metadata": {
    "collapsed": true
   },
   "outputs": [],
   "source": []
  }
 ],
 "metadata": {
  "kernelspec": {
   "display_name": "Python 2",
   "language": "python",
   "name": "python2"
  },
  "language_info": {
   "codemirror_mode": {
    "name": "ipython",
    "version": 2
   },
   "file_extension": ".py",
   "mimetype": "text/x-python",
   "name": "python",
   "nbconvert_exporter": "python",
   "pygments_lexer": "ipython2",
   "version": "2.7.11"
  }
 },
 "nbformat": 4,
 "nbformat_minor": 0
}
