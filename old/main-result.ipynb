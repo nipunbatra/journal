{
 "cells": [
  {
   "cell_type": "markdown",
   "metadata": {},
   "source": [
    "This notebook produces the main result for Gemello. This notebook has already computed the result for Latent bayesian melding and FHMM and stored in a Pandas.Panel. We just pull the data from that Panel. Additionally, this notebook computes the main result. "
   ]
  },
  {
   "cell_type": "code",
   "execution_count": 36,
   "metadata": {},
   "outputs": [],
   "source": [
    "import pandas as pd\n",
    "import numpy as np\n",
    "import matplotlib.pyplot as plt\n",
    "%matplotlib inline"
   ]
  },
  {
   "cell_type": "code",
   "execution_count": 42,
   "metadata": {},
   "outputs": [],
   "source": [
    "from create_df import read_df\n",
    "df, dfc, all_homes, appliance_min, national_average = read_df()"
   ]
  },
  {
   "cell_type": "code",
   "execution_count": 43,
   "metadata": {},
   "outputs": [],
   "source": [
    "run all_functions.py"
   ]
  },
  {
   "cell_type": "code",
   "execution_count": 44,
   "metadata": {},
   "outputs": [],
   "source": [
    "run features.py"
   ]
  },
  {
   "cell_type": "code",
   "execution_count": 37,
   "metadata": {},
   "outputs": [
    {
     "name": "stdout",
     "output_type": "stream",
     "text": [
      "-rw-r--r--  1 nipunbatra  staff   436K Feb  9 18:57 accuracy.h5\r\n"
     ]
    }
   ],
   "source": [
    "!ls -lah accuracy.h5"
   ]
  },
  {
   "cell_type": "code",
   "execution_count": 38,
   "metadata": {},
   "outputs": [],
   "source": [
    "accuracy_store = pd.HDFStore(\"accuracy.h5\")"
   ]
  },
  {
   "cell_type": "code",
   "execution_count": 39,
   "metadata": {},
   "outputs": [
    {
     "data": {
      "text/plain": [
       "<class 'pandas.io.pytables.HDFStore'>\n",
       "File path: accuracy.h5\n",
       "/FHMM                        wide_table   (typ->appendable,nrows->510,ncols->6,indexers->[major_axis,minor_axis])\n",
       "/LBM                         wide_table   (typ->appendable,nrows->510,ncols->6,indexers->[major_axis,minor_axis])\n",
       "/N-NILM                      wide_table   (typ->appendable,nrows->445,ncols->6,indexers->[major_axis,minor_axis])\n",
       "/Regional average            wide_table   (typ->appendable,nrows->445,ncols->6,indexers->[major_axis,minor_axis])"
      ]
     },
     "execution_count": 39,
     "output_type": "execute_result",
     "metadata": {}
    }
   ],
   "source": [
    "accuracy_store"
   ]
  },
  {
   "cell_type": "code",
   "execution_count": 40,
   "metadata": {},
   "outputs": [],
   "source": [
    "appliance_name_map = {\"fridge\":\"Fridge\",\"hvac\":\"HVAC\",\"wm\":\"Washing\\nmachine\",\n",
    "                      \"dr\":\"Dryer\",\"dw\":\"Dish\\nwasher\",\"light\":\"Lights\"}"
   ]
  },
  {
   "cell_type": "markdown",
   "metadata": {},
   "source": [
    "Now, producing the main result for Gemello. The main computation had been done by FILL THIS UP."
   ]
  },
  {
   "cell_type": "markdown",
   "metadata": {},
   "source": [
    "#### ACCURACY on the train set for Gemello"
   ]
  },
  {
   "cell_type": "code",
   "execution_count": 45,
   "metadata": {},
   "outputs": [],
   "source": [
    "import json\n",
    "appliances = [\"dr\",\"hvac\",\"wm\",\"dw\",\"fridge\",\"light\"]\n",
    "features = [\"Static\", \"Monthly\", \"Monthly+Static\"]\n",
    "\n",
    "out={}\n",
    "means = {}\n",
    "sems = {}\n",
    "for feature in features:\n",
    "    out[feature]={}\n",
    "    means[feature]={}\n",
    "    sems[feature]={}\n",
    "    for appliance in appliances:\n",
    "    \n",
    "        out[feature][appliance] = {}\n",
    "        for home in all_homes[appliance]:\n",
    "            try:\n",
    "                j = json.load(open(\"../main-out-new/%s_%s_%d.json\" %(appliance, feature, home),'r'))\n",
    "                out[feature][appliance][int(home)] = j['accuracy']\n",
    "            except:\n",
    "                pass\n",
    "                                     \n",
    "train_df = pd.DataFrame({k:pd.DataFrame(out[k]).mean() for k in features})"
   ]
  },
  {
   "cell_type": "code",
   "execution_count": 46,
   "metadata": {},
   "outputs": [
    {
     "data": {
      "text/html": [
       "<div>\n",
       "<table border=\"1\" class=\"dataframe\">\n",
       "  <thead>\n",
       "    <tr style=\"text-align: right;\">\n",
       "      <th></th>\n",
       "      <th>Monthly</th>\n",
       "      <th>Monthly+Static</th>\n",
       "      <th>Static</th>\n",
       "    </tr>\n",
       "  </thead>\n",
       "  <tbody>\n",
       "    <tr>\n",
       "      <th>dr</th>\n",
       "      <td>27.399581</td>\n",
       "      <td>28.697681</td>\n",
       "      <td>26.140318</td>\n",
       "    </tr>\n",
       "    <tr>\n",
       "      <th>dw</th>\n",
       "      <td>21.222768</td>\n",
       "      <td>22.525817</td>\n",
       "      <td>19.941430</td>\n",
       "    </tr>\n",
       "    <tr>\n",
       "      <th>fridge</th>\n",
       "      <td>66.048773</td>\n",
       "      <td>68.082701</td>\n",
       "      <td>63.642268</td>\n",
       "    </tr>\n",
       "    <tr>\n",
       "      <th>hvac</th>\n",
       "      <td>76.502214</td>\n",
       "      <td>76.081346</td>\n",
       "      <td>68.980325</td>\n",
       "    </tr>\n",
       "    <tr>\n",
       "      <th>light</th>\n",
       "      <td>36.843681</td>\n",
       "      <td>36.792903</td>\n",
       "      <td>37.165298</td>\n",
       "    </tr>\n",
       "    <tr>\n",
       "      <th>wm</th>\n",
       "      <td>46.280977</td>\n",
       "      <td>47.294136</td>\n",
       "      <td>48.233818</td>\n",
       "    </tr>\n",
       "  </tbody>\n",
       "</table>\n",
       "</div>"
      ]
     },
     "output_type": "execute_result",
     "metadata": {}
    }
   ],
   "source": [
    "train_df"
   ]
  },
  {
   "cell_type": "markdown",
   "metadata": {},
   "source": [
    "For each appliance, we will choose the feature giving best accuracy on CV-train"
   ]
  },
  {
   "cell_type": "code",
   "execution_count": 47,
   "metadata": {},
   "outputs": [],
   "source": [
    "to_use_feature = {}\n",
    "for appliance in [\"dr\",\"hvac\",\"wm\",\"dw\",\"fridge\",\"light\"]:\n",
    "    to_use_feature[appliance] = train_df.ix[appliance].argmax()"
   ]
  },
  {
   "cell_type": "code",
   "execution_count": 48,
   "metadata": {},
   "outputs": [
    {
     "data": {
      "text/plain": [
       "{'dr': 'Monthly+Static',\n",
       " 'dw': 'Monthly+Static',\n",
       " 'fridge': 'Monthly+Static',\n",
       " 'hvac': 'Monthly',\n",
       " 'light': 'Static',\n",
       " 'wm': 'Static'}"
      ]
     },
     "execution_count": 48,
     "output_type": "execute_result",
     "metadata": {}
    }
   ],
   "source": [
    "to_use_feature"
   ]
  },
  {
   "cell_type": "markdown",
   "metadata": {},
   "source": [
    "### TEST"
   ]
  },
  {
   "cell_type": "code",
   "execution_count": 49,
   "metadata": {},
   "outputs": [],
   "source": [
    "from constants import APPROACH as APPROACH_NAME"
   ]
  },
  {
   "cell_type": "code",
   "execution_count": 52,
   "metadata": {},
   "outputs": [],
   "source": [
    "appliances = [\"dr\",\"hvac\",\"wm\",\"dw\",\"fridge\",\"light\"]\n",
    "\n",
    "out={}\n",
    "means = {APPROACH_NAME:{}}\n",
    "sems = {APPROACH_NAME:{}}\n",
    "\n",
    "for appliance in appliances:\n",
    "    feature=to_use_feature[appliance]\n",
    "    \n",
    "\n",
    "    out[appliance] = {}\n",
    "    for home in all_homes[appliance]:\n",
    "        try:\n",
    "\n",
    "            out[appliance][int(home)] = pd.read_csv(\"../main-out-new/%s_%s_%d.csv\" %(appliance, feature, home),\n",
    "                                 header=None, index_col=0, names=[\"accuracy\"]).squeeze()\n",
    "        except Exception, e:\n",
    "            print e\n",
    "\n",
    "\n",
    "    means[APPROACH_NAME][appliance_name_map[appliance]]=pd.DataFrame(out[appliance]).mean().mean()\n",
    "    sems[APPROACH_NAME][appliance_name_map[appliance]]=pd.DataFrame(out[appliance]).mean().sem()"
   ]
  },
  {
   "cell_type": "code",
   "execution_count": 53,
   "metadata": {},
   "outputs": [
    {
     "data": {
      "text/plain": [
       "{'Gemello': {'Dish\\nwasher': 27.333401871684234,\n",
       "  'Dryer': 33.052222078385938,\n",
       "  'Fridge': 68.541552745826976,\n",
       "  'HVAC': 76.239355252614146,\n",
       "  'Lights': 42.757293980395275,\n",
       "  'Washing\\nmachine': 57.272795296939734}}"
      ]
     },
     "execution_count": 53,
     "output_type": "execute_result",
     "metadata": {}
    }
   ],
   "source": [
    "means"
   ]
  },
  {
   "cell_type": "markdown",
   "metadata": {},
   "source": [
    "Now, getting data for LBM and FHMM"
   ]
  },
  {
   "cell_type": "code",
   "execution_count": 54,
   "metadata": {},
   "outputs": [],
   "source": [
    "for approach in [\"FHMM\",\"LBM\"]:\n",
    "\n",
    "    fr = accuracy_store[approach]\n",
    "    means[approach]={}\n",
    "    sems[approach] = {}\n",
    "\n",
    "    for appliance in ['hvac','fridge','dw','dr','light','wm']:\n",
    "        if appliance==\"hvac\":\n",
    "            start, stop=5, 11\n",
    "        else:\n",
    "            start, stop=1, 13\n",
    "        \n",
    "        temp = fr[appliance]\n",
    "        if approach=='N-NILM':\n",
    "            temp=temp.T\n",
    "        means[approach][appliance_name_map[appliance]] = temp.ix[range(start,stop)].mean().mean()\n",
    "        sems[approach][appliance_name_map[appliance]] = temp.ix[range(start,stop)].mean().sem()"
   ]
  },
  {
   "cell_type": "code",
   "execution_count": 55,
   "metadata": {},
   "outputs": [],
   "source": [
    "main_df = pd.DataFrame(means)\n",
    "se = pd.DataFrame(sems)"
   ]
  },
  {
   "cell_type": "code",
   "execution_count": 56,
   "metadata": {},
   "outputs": [
    {
     "data": {
      "text/html": [
       "<div>\n",
       "<table border=\"1\" class=\"dataframe\">\n",
       "  <thead>\n",
       "    <tr style=\"text-align: right;\">\n",
       "      <th></th>\n",
       "      <th>FHMM</th>\n",
       "      <th>Gemello</th>\n",
       "      <th>LBM</th>\n",
       "    </tr>\n",
       "  </thead>\n",
       "  <tbody>\n",
       "    <tr>\n",
       "      <th>Dish\\nwasher</th>\n",
       "      <td>0.430750</td>\n",
       "      <td>27.333402</td>\n",
       "      <td>16.495110</td>\n",
       "    </tr>\n",
       "    <tr>\n",
       "      <th>Dryer</th>\n",
       "      <td>10.529382</td>\n",
       "      <td>33.052222</td>\n",
       "      <td>5.940615</td>\n",
       "    </tr>\n",
       "    <tr>\n",
       "      <th>Fridge</th>\n",
       "      <td>38.975759</td>\n",
       "      <td>68.541553</td>\n",
       "      <td>71.822239</td>\n",
       "    </tr>\n",
       "    <tr>\n",
       "      <th>HVAC</th>\n",
       "      <td>61.039103</td>\n",
       "      <td>76.239355</td>\n",
       "      <td>55.722782</td>\n",
       "    </tr>\n",
       "    <tr>\n",
       "      <th>Lights</th>\n",
       "      <td>33.414945</td>\n",
       "      <td>42.757294</td>\n",
       "      <td>11.290612</td>\n",
       "    </tr>\n",
       "    <tr>\n",
       "      <th>Washing\\nmachine</th>\n",
       "      <td>0.130659</td>\n",
       "      <td>57.272795</td>\n",
       "      <td>29.972193</td>\n",
       "    </tr>\n",
       "  </tbody>\n",
       "</table>\n",
       "</div>"
      ]
     },
     "output_type": "execute_result",
     "metadata": {}
    }
   ],
   "source": [
    "main_df"
   ]
  },
  {
   "cell_type": "code",
   "execution_count": 57,
   "metadata": {},
   "outputs": [],
   "source": [
    "main_df = main_df.ix[['HVAC','Fridge','Washing\\nmachine','Lights','Dryer','Dish\\nwasher']]\n",
    "se_df =se.ix[['HVAC','Fridge','Washing\\nmachine','Lights','Dryer','Dish\\nwasher']]"
   ]
  },
  {
   "cell_type": "code",
   "execution_count": 58,
   "metadata": {},
   "outputs": [],
   "source": [
    "from common_functions import latexify, format_axes"
   ]
  },
  {
   "cell_type": "code",
   "execution_count": 59,
   "metadata": {},
   "outputs": [],
   "source": [
    "main_df = main_df[[\"FHMM\",\"LBM\",APPROACH]]"
   ]
  },
  {
   "cell_type": "code",
   "execution_count": 35,
   "metadata": {},
   "outputs": [
    {
     "data": {
      "image/png": "[encoded data removed]"
     },
     "output_type": "display_data",
     "metadata": {}
    }
   ],
   "source": [
    "#latexify(columns=2, fig_height=2.6)\n",
    "latexify(columns=1)\n",
    "\n",
    "tableau20blind =  [(31, 119, 180), (174, 199, 232), (255, 127, 14), (255, 187, 120),  \n",
    "             (44, 160, 44), (152, 223, 138), (214, 39, 40), (255, 152, 150),  \n",
    "             (148, 103, 189), (197, 176, 213), (140, 86, 75), (196, 156, 148),  \n",
    "             (227, 119, 194), (247, 182, 210), (127, 127, 127), (199, 199, 199),  \n",
    "             (188, 189, 34), (219, 219, 141), (23, 190, 207), (158, 218, 229)]\n",
    "  \n",
    "# Rescale to values between 0 and 1\n",
    "for i in range(len(tableau20blind)):  \n",
    "    r, g, b = tableau20blind[i]  \n",
    "    tableau20blind[i] = (r / 255., g / 255., b / 255.)\n",
    "\n",
    "main_df.plot(kind=\"bar\",yerr=se_df,rot=0, colors=tableau20blind[::2])\n",
    "plt.ylim((0,100))\n",
    "plt.ylabel(\"Energy Accuracy(\\%)\\n(Higher is better)\");\n",
    "format_axes(plt.gca())\n",
    "\"\"\"\n",
    "ax = plt.gca()\n",
    "for p in ax.patches:\n",
    "    if p.get_height()<20:\n",
    "        color=\"black\"\n",
    "        offset=5\n",
    "    else:\n",
    "        color=\"black\"\n",
    "        offset=-15\n",
    "    ax.annotate(str(int(round(p.get_height(),0))), (p.get_x(), p.get_height() +offset), color=color, fontsize=6)\n",
    "\"\"\"\n",
    "\n",
    "plt.tight_layout()\n",
    "plt.savefig(\"/Users/nipunbatra/git/monthly-disaggregation/results/main_new.pdf\",bbox_inches=\"tight\")\n",
    "plt.savefig(\"/Users/nipunbatra/git/monthly-disaggregation/results/main_new.png\",bbox_inches=\"tight\")"
   ]
  }
 ],
 "metadata": {
  "kernelspec": {
   "display_name": "Python 2",
   "language": "python",
   "name": "python2"
  },
  "language_info": {
   "codemirror_mode": {
    "name": "ipython",
    "version": 2.0
   },
   "file_extension": ".py",
   "mimetype": "text/x-python",
   "name": "python",
   "nbconvert_exporter": "python",
   "pygments_lexer": "ipython2",
   "version": "2.7.11"
  }
 },
 "nbformat": 4,
 "nbformat_minor": 0
}