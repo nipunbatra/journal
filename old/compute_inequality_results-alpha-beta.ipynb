{
 "cells": [
  {
   "cell_type": "code",
   "execution_count": 9,
   "metadata": {
    "collapsed": true
   },
   "outputs": [],
   "source": [
    "import pandas as pd\n",
    "import numpy as np\n",
    "import pickle"
   ]
  },
  {
   "cell_type": "code",
   "execution_count": 48,
   "metadata": {
    "collapsed": false
   },
   "outputs": [],
   "source": [
    "#train_region = \"Austin\"\n",
    "#test_region = \"SanDiego\"\n",
    "test_region = \"SanDiego\"\n",
    "train_region = \"Austin\"\n",
    "out_overall = pickle.load(open('../data/input/all_regions.pkl','r'))\n",
    "\n",
    "train_df = out_overall[train_region]\n",
    "test_df = out_overall[test_region]\n",
    "#transform = \"DD\"\n",
    "k=3\n",
    "transformations = [\"DD\",\"None\",'median-aggregate','DD-percentage','regional']\n",
    "#transformations = ['DD','None',\"DD-fridge\"]"
   ]
  },
  {
   "cell_type": "code",
   "execution_count": 49,
   "metadata": {
    "collapsed": false
   },
   "outputs": [
    {
     "name": "stdout",
     "output_type": "stream",
     "text": [
      "cat: ../data/output/ineq_cross/Austin_SanDiego_: No such file or directory\r\n"
     ]
    }
   ],
   "source": [
    "!cat ../data/output/ineq_cross/Austin_SanDiego_"
   ]
  },
  {
   "cell_type": "code",
   "execution_count": 50,
   "metadata": {
    "collapsed": false
   },
   "outputs": [
    {
     "name": "stdout",
     "output_type": "stream",
     "text": [
      "fridge 1 DD\n",
      "fridge 2 DD\n",
      "fridge 3 DD\n",
      "fridge 4 DD\n",
      "fridge 5 DD\n",
      "fridge 6 DD\n",
      "fridge 7 DD\n",
      "fridge 8 DD\n",
      "fridge 9 DD\n",
      "fridge 10 DD\n",
      "fridge 11 DD\n",
      "fridge 12 DD\n",
      "fridge 1 None\n",
      "fridge 2 None\n",
      "fridge 3 None\n",
      "fridge 4 None\n",
      "fridge 5 None\n",
      "fridge 6 None\n",
      "fridge 7 None\n",
      "fridge 8 None\n",
      "fridge 9 None\n",
      "fridge 10 None\n",
      "fridge 11 None\n",
      "fridge 12 None\n",
      "fridge 1 median-aggregate\n",
      "fridge 2 median-aggregate\n",
      "fridge 3 median-aggregate\n",
      "fridge 4 median-aggregate\n",
      "fridge 5 median-aggregate\n",
      "fridge 6 median-aggregate\n",
      "fridge 7 median-aggregate\n",
      "fridge 8 median-aggregate\n",
      "fridge 9 median-aggregate\n",
      "fridge 10 median-aggregate\n",
      "fridge 11 median-aggregate\n",
      "fridge 12 median-aggregate\n",
      "fridge 1 DD-percentage\n",
      "fridge 2 DD-percentage\n",
      "fridge 3 DD-percentage\n",
      "fridge 4 DD-percentage\n",
      "fridge 5 DD-percentage\n",
      "fridge 6 DD-percentage\n",
      "fridge 7 DD-percentage\n",
      "fridge 8 DD-percentage\n",
      "fridge 9 DD-percentage\n",
      "fridge 10 DD-percentage\n",
      "fridge 11 DD-percentage\n",
      "fridge 12 DD-percentage\n",
      "fridge 1 regional\n",
      "fridge 2 regional\n",
      "fridge 3 regional\n",
      "fridge 4 regional\n",
      "fridge 5 regional\n",
      "fridge 6 regional\n",
      "fridge 7 regional\n",
      "fridge 8 regional\n",
      "fridge 9 regional\n",
      "fridge 10 regional\n",
      "fridge 11 regional\n",
      "fridge 12 regional\n"
     ]
    }
   ],
   "source": [
    "out = {}\n",
    "for transform in transformations:\n",
    "    out[transform] = {}\n",
    "    #for appliance in [\"hvac\",\"fridge\",\"dr\",\"wm\"]:\n",
    "    for appliance in ['fridge']:\n",
    "        out[transform][appliance] = {}\n",
    "        for month in range(1,13):\n",
    "            print appliance, month, transform\n",
    "            out[transform][appliance][month] = []\n",
    "            for test_home in test_df.index:\n",
    "                try:\n",
    "                    pred =  pickle.load(open('../data/output/ineq_cross/%s_%s_%s_%s_%d_%d_%d.pkl' %(train_region,\n",
    "                                                                                               test_region,\n",
    "                                                                                               transform,\n",
    "                                                                                               appliance,\n",
    "                                                                                               month,\n",
    "                                                                                               test_home,\n",
    "                                                                                               k),'r'))\n",
    "                    gt = test_df.ix[test_home]['%s_%d' %(appliance, month)]\n",
    "                    error = np.abs(gt-pred)\n",
    "                    percentage_error = error*100/gt\n",
    "                    if percentage_error>100:\n",
    "                        percentage_error=100\n",
    "                    percentage_accuracy = 100-percentage_error\n",
    "                    out[transform][appliance][month].append(percentage_accuracy)\n",
    "                except Exception, e:\n",
    "                    pass\n",
    "\n",
    "            \n"
   ]
  },
  {
   "cell_type": "code",
   "execution_count": 51,
   "metadata": {
    "collapsed": false
   },
   "outputs": [],
   "source": [
    "acc = {tr:{} for tr in transformations}\n",
    "\n",
    "acc['Regional average']={}\n",
    "\n",
    "for transform in transformations:\n",
    "    #for appliance in [\"hvac\",\"fridge\",\"wm\"]:\n",
    "    for appliance in [\"fridge\"]:    \n",
    "        acc[transform][appliance] = {}\n",
    "        for month in range(1,13):\n",
    "            acc[transform][appliance][month] = pd.Series(out[transform][appliance][month]).mean()"
   ]
  },
  {
   "cell_type": "code",
   "execution_count": 52,
   "metadata": {
    "collapsed": true
   },
   "outputs": [],
   "source": [
    "%matplotlib inline"
   ]
  },
  {
   "cell_type": "code",
   "execution_count": 53,
   "metadata": {
    "collapsed": false
   },
   "outputs": [
    {
     "data": {
      "text/plain": [
       "fridge    72.15861\n",
       "dtype: float64"
      ]
     },
     "execution_count": 53,
     "metadata": {},
     "output_type": "execute_result"
    }
   ],
   "source": [
    "pd.DataFrame(acc['DD']).mean()"
   ]
  },
  {
   "cell_type": "code",
   "execution_count": 54,
   "metadata": {
    "collapsed": false
   },
   "outputs": [
    {
     "data": {
      "text/plain": [
       "fridge    70.037198\n",
       "dtype: float64"
      ]
     },
     "execution_count": 54,
     "metadata": {},
     "output_type": "execute_result"
    }
   ],
   "source": [
    "pd.DataFrame(acc['None']).mean()"
   ]
  },
  {
   "cell_type": "code",
   "execution_count": 55,
   "metadata": {
    "collapsed": false
   },
   "outputs": [
    {
     "data": {
      "text/plain": [
       "<matplotlib.axes._subplots.AxesSubplot at 0x115fc5dd0>"
      ]
     },
     "execution_count": 55,
     "metadata": {},
     "output_type": "execute_result"
    },
    {
     "data": {
      "image/png": "[encoded data removed]",
      "text/plain": [
       "<matplotlib.figure.Figure at 0x111308fd0>"
      ]
     },
     "metadata": {},
     "output_type": "display_data"
    }
   ],
   "source": [
    "pd.DataFrame(acc['DD-percentage']).plot(kind='bar',rot=0)"
   ]
  },
  {
   "cell_type": "code",
   "execution_count": 56,
   "metadata": {
    "collapsed": false
   },
   "outputs": [
    {
     "data": {
      "text/plain": [
       "<matplotlib.axes._subplots.AxesSubplot at 0x1164bb550>"
      ]
     },
     "execution_count": 56,
     "metadata": {},
     "output_type": "execute_result"
    },
    {
     "data": {
      "image/png": "[encoded data removed]",
      "text/plain": [
       "<matplotlib.figure.Figure at 0x11676bbd0>"
      ]
     },
     "metadata": {},
     "output_type": "display_data"
    }
   ],
   "source": [
    "pd.DataFrame(acc['median-aggregate']).plot(kind='bar',rot=0)"
   ]
  },
  {
   "cell_type": "code",
   "execution_count": 57,
   "metadata": {
    "collapsed": false
   },
   "outputs": [],
   "source": [
    "contri = {\n",
    "    'Austin':\n",
    "    {'Cooling':{'wm':0.01,\n",
    "    'hvac':0.29,\n",
    "    'fridge':0.09},\n",
    "    'Heating':\n",
    "    {'wm':.01,'hvac':0.07,'fridge':0.09}}\n",
    "    \n",
    "    ,\n",
    "    'SanDiego':\n",
    "    {'Cooling':{'wm':0.01,\n",
    "    'hvac':.1,\n",
    "    'fridge':0.15},\n",
    "    'Heating':{'wm':0.01,\n",
    "    'hvac':.06,\n",
    "    'fridge':0.15}\n",
    "    \n",
    "}\n",
    "    }"
   ]
  },
  {
   "cell_type": "code",
   "execution_count": 59,
   "metadata": {
    "collapsed": false
   },
   "outputs": [],
   "source": [
    "for appliance in [\"fridge\"]:\n",
    "    acc['Regional average'][appliance] = {}\n",
    "    for month in range(1,13):\n",
    "        acc['Regional average'][appliance][month] = []\n",
    "        for test_home in test_df.index:\n",
    "            try:\n",
    "                if month in range(3, 11):\n",
    "                    pred = test_df.ix[test_home]['aggregate_%d' %month]*contri[test_region]['Cooling'][appliance]\n",
    "                else:\n",
    "                    pred = test_df.ix[test_home]['aggregate_%d' %month]*contri[test_region]['Heating'][appliance]\n",
    "                gt = test_df.ix[test_home]['%s_%d' %(appliance, month)]\n",
    "                error = np.abs(gt-pred)\n",
    "                percentage_error = error*100/gt\n",
    "                if percentage_error>100:\n",
    "                    percentage_error=100\n",
    "                percentage_accuracy = 100-percentage_error\n",
    "                acc['Regional average'][appliance][month].append(percentage_accuracy)\n",
    "            except Exception, e:\n",
    "                print e\n",
    "                \n",
    "        acc['Regional average'][appliance][month] = pd.Series(acc['Regional average'][appliance][month]).mean()"
   ]
  },
  {
   "cell_type": "code",
   "execution_count": 60,
   "metadata": {
    "collapsed": false
   },
   "outputs": [
    {
     "data": {
      "text/plain": [
       "<matplotlib.axes._subplots.AxesSubplot at 0x1167ce890>"
      ]
     },
     "execution_count": 60,
     "metadata": {},
     "output_type": "execute_result"
    },
    {
     "data": {
      "image/png": "[encoded data removed]",
      "text/plain": [
       "<matplotlib.figure.Figure at 0x101b77190>"
      ]
     },
     "metadata": {},
     "output_type": "display_data"
    }
   ],
   "source": [
    "\n",
    "pd.DataFrame(acc['Regional average']).plot(kind='bar',rot=0)"
   ]
  },
  {
   "cell_type": "code",
   "execution_count": 38,
   "metadata": {
    "collapsed": false
   },
   "outputs": [
    {
     "data": {
      "text/plain": [
       "21.65072049240366"
      ]
     },
     "execution_count": 38,
     "metadata": {},
     "output_type": "execute_result"
    }
   ],
   "source": [
    "pd.DataFrame(acc['Regional average'])['hvac'].mean()"
   ]
  },
  {
   "cell_type": "code",
   "execution_count": 39,
   "metadata": {
    "collapsed": false
   },
   "outputs": [
    {
     "data": {
      "text/plain": [
       "1      6.585757\n",
       "2      9.677234\n",
       "3     30.253865\n",
       "4     10.922947\n",
       "5     15.556790\n",
       "6     27.389233\n",
       "7     50.810152\n",
       "8     69.427665\n",
       "9     52.999977\n",
       "10    56.536239\n",
       "11     6.193074\n",
       "12     4.036892\n",
       "Name: hvac, dtype: float64"
      ]
     },
     "execution_count": 39,
     "metadata": {},
     "output_type": "execute_result"
    }
   ],
   "source": [
    "pd.DataFrame(acc['DD'])['hvac']"
   ]
  },
  {
   "cell_type": "code",
   "execution_count": 40,
   "metadata": {
    "collapsed": false
   },
   "outputs": [
    {
     "data": {
      "text/plain": [
       "1      3.335901\n",
       "2     17.235477\n",
       "3     40.725229\n",
       "4     18.408273\n",
       "5     17.396136\n",
       "6     34.212602\n",
       "7     30.080647\n",
       "8     26.666194\n",
       "9     27.891078\n",
       "10    37.288006\n",
       "11     6.569103\n",
       "12     0.000000\n",
       "Name: hvac, dtype: float64"
      ]
     },
     "execution_count": 40,
     "metadata": {},
     "output_type": "execute_result"
    }
   ],
   "source": [
    "pd.DataFrame(acc['Regional average'])['hvac']"
   ]
  },
  {
   "cell_type": "code",
   "execution_count": 43,
   "metadata": {
    "collapsed": true
   },
   "outputs": [],
   "source": [
    "import matplotlib.pyplot as plt"
   ]
  },
  {
   "cell_type": "code",
   "execution_count": 44,
   "metadata": {
    "collapsed": false
   },
   "outputs": [
    {
     "data": {
      "text/plain": [
       "['hvac']"
      ]
     },
     "execution_count": 44,
     "metadata": {},
     "output_type": "execute_result"
    }
   ],
   "source": [
    "acc['Regional average'].keys()"
   ]
  },
  {
   "cell_type": "code",
   "execution_count": 61,
   "metadata": {
    "collapsed": false
   },
   "outputs": [
    {
     "data": {
      "text/plain": [
       "<matplotlib.text.Text at 0x1177c1750>"
      ]
     },
     "execution_count": 61,
     "metadata": {},
     "output_type": "execute_result"
    },
    {
     "data": {
      "image/png": "[encoded data removed]",
      "text/plain": [
       "<matplotlib.figure.Figure at 0x11635d6d0>"
      ]
     },
     "metadata": {},
     "output_type": "display_data"
    }
   ],
   "source": [
    "fig, ax = plt.subplots(nrows=3, sharex=True)\n",
    "#for i, appliance in enumerate([\"hvac\",\"fridge\",\"wm\"]):\n",
    "for i, appliance in enumerate([\"fridge\"]):\n",
    "\n",
    "    ap_dict = {approach:acc[approach][appliance] for approach in acc.keys()}\n",
    "    df = pd.DataFrame(ap_dict)\n",
    "    df = df[['None','DD-percentage','Regional average']]\n",
    "    df.plot(ax=ax[i], kind='bar', title=appliance, rot= 0, legend=False)\n",
    "plt.tight_layout()\n",
    "lgd=ax[0].legend(bbox_to_anchor=(0.5,2.2), loc='upper center', ncol=1)\n",
    "plt.xlabel(\"Month\")\n",
    "#plt.savefig('../results/dd_transform_sd_austin.png',bbox_extra_artists=(lgd,), bbox_inches='tight')"
   ]
  },
  {
   "cell_type": "code",
   "execution_count": 46,
   "metadata": {
    "collapsed": false
   },
   "outputs": [
    {
     "data": {
      "image/png": "[encoded data removed]",
      "text/plain": [
       "<matplotlib.figure.Figure at 0x1169bea90>"
      ]
     },
     "metadata": {},
     "output_type": "display_data"
    }
   ],
   "source": [
    "df.plot(kind=\"bar\",rot=0)\n",
    "plt.xlabel(\"Month\")\n",
    "plt.ylabel(\"Accuracy\")\n",
    "lgd=plt.legend(bbox_to_anchor=(0.5,1.5), loc='upper center', ncol=1)\n",
    "plt.savefig('../results/dd_transform_austin_sd_hvac.png',bbox_extra_artists=(lgd,), bbox_inches='tight')"
   ]
  },
  {
   "cell_type": "code",
   "execution_count": 63,
   "metadata": {
    "collapsed": false
   },
   "outputs": [
    {
     "data": {
      "text/plain": [
       "None                70.037198\n",
       "DD-percentage             NaN\n",
       "Regional average    62.580456\n",
       "dtype: float64"
      ]
     },
     "execution_count": 63,
     "metadata": {},
     "output_type": "execute_result"
    }
   ],
   "source": [
    "df.mean()"
   ]
  },
  {
   "cell_type": "code",
   "execution_count": 157,
   "metadata": {
    "collapsed": false
   },
   "outputs": [
    {
     "data": {
      "image/png": "[encoded data removed]",
      "text/plain": [
       "<IPython.core.display.Image object>"
      ]
     },
     "execution_count": 157,
     "metadata": {},
     "output_type": "execute_result"
    }
   ],
   "source": [
    "from IPython.display import Image\n",
    "Image('../results/no_transform_sd_austin.png')"
   ]
  },
  {
   "cell_type": "code",
   "execution_count": 119,
   "metadata": {
    "collapsed": false
   },
   "outputs": [
    {
     "data": {
      "image/png": "[encoded data removed]",
      "text/plain": [
       "<matplotlib.figure.Figure at 0x11e717bd0>"
      ]
     },
     "metadata": {},
     "output_type": "display_data"
    }
   ],
   "source": [
    "fig, ax = plt.subplots(nrows=3, sharex=True)\n",
    "for i, appliance in enumerate([\"hvac\",\"fridge\",\"wm\"]):\n",
    "    ap_dict = {approach:acc[approach][appliance] for approach in acc.keys()}\n",
    "    df = pd.DataFrame(ap_dict)\n",
    "    df.plot(ax=ax[i], kind='bar', title=appliance, rot= 0, legend=False)\n",
    "plt.tight_layout()\n",
    "lgd=ax[0].legend(bbox_to_anchor=(0.5,2.2), loc='upper center', ncol=1)\n",
    "plt.xlabel(\"Month\")\n",
    "#\n",
    "\n",
    "#plt.savefig('../results/no_transform_sd_austin.png',bbox_extra_artists=(lgd,), bbox_inches='tight')"
   ]
  },
  {
   "cell_type": "code",
   "execution_count": 73,
   "metadata": {
    "collapsed": false
   },
   "outputs": [
    {
     "data": {
      "text/plain": [
       "{'Our approach': {1: 33.8734504582082,\n",
       "  2: 48.67136857405774,\n",
       "  3: 50.31158734130758,\n",
       "  4: 48.937788635189555,\n",
       "  5: 42.91586645201225,\n",
       "  6: 47.54102296541092,\n",
       "  7: 42.690949812235495,\n",
       "  8: 48.85646634271478,\n",
       "  9: 45.31713598166896,\n",
       "  10: 49.332064873332705,\n",
       "  11: 47.12320106158118,\n",
       "  12: 50.861510015694236},\n",
       " 'Regional average': {1: 33.8734504582082,\n",
       "  2: 48.67136857405774,\n",
       "  3: 50.31158734130758,\n",
       "  4: 48.937788635189555,\n",
       "  5: 42.91586645201225,\n",
       "  6: 47.54102296541092,\n",
       "  7: 42.690949812235495,\n",
       "  8: 48.85646634271478,\n",
       "  9: 45.31713598166896,\n",
       "  10: 49.332064873332705,\n",
       "  11: 47.12320106158118,\n",
       "  12: 50.861510015694236}}"
      ]
     },
     "execution_count": 73,
     "metadata": {},
     "output_type": "execute_result"
    }
   ],
   "source": [
    "ap_dict"
   ]
  },
  {
   "cell_type": "code",
   "execution_count": 77,
   "metadata": {
    "collapsed": false
   },
   "outputs": [
    {
     "data": {
      "text/plain": [
       "{'fridge': {1: [],\n",
       "  2: [],\n",
       "  3: [],\n",
       "  4: [],\n",
       "  5: [],\n",
       "  6: [],\n",
       "  7: [],\n",
       "  8: [],\n",
       "  9: [],\n",
       "  10: [],\n",
       "  11: [],\n",
       "  12: []},\n",
       " 'hvac': {1: [],\n",
       "  2: [],\n",
       "  3: [],\n",
       "  4: [],\n",
       "  5: [],\n",
       "  6: [],\n",
       "  7: [],\n",
       "  8: [],\n",
       "  9: [],\n",
       "  10: [],\n",
       "  11: [],\n",
       "  12: []},\n",
       " 'wm': {1: [],\n",
       "  2: [],\n",
       "  3: [],\n",
       "  4: [],\n",
       "  5: [],\n",
       "  6: [],\n",
       "  7: [],\n",
       "  8: [],\n",
       "  9: [],\n",
       "  10: [],\n",
       "  11: [],\n",
       "  12: []}}"
      ]
     },
     "execution_count": 77,
     "metadata": {},
     "output_type": "execute_result"
    }
   ],
   "source": [
    "acc['Regional average']"
   ]
  },
  {
   "cell_type": "code",
   "execution_count": 129,
   "metadata": {
    "collapsed": false
   },
   "outputs": [
    {
     "data": {
      "text/plain": [
       "218.4750300575705"
      ]
     },
     "execution_count": 129,
     "metadata": {},
     "output_type": "execute_result"
    }
   ],
   "source": [
    "train_df['hvac_9'].mean()"
   ]
  },
  {
   "cell_type": "code",
   "execution_count": 128,
   "metadata": {
    "collapsed": false
   },
   "outputs": [
    {
     "data": {
      "text/plain": [
       "482.0247721723813"
      ]
     },
     "execution_count": 128,
     "metadata": {},
     "output_type": "execute_result"
    }
   ],
   "source": [
    "test_df['hvac_9'].mean()"
   ]
  },
  {
   "cell_type": "code",
   "execution_count": 245,
   "metadata": {
    "collapsed": false
   },
   "outputs": [],
   "source": [
    "m = {}\n",
    "for transform in transformations:\n",
    "    m[transform] = {}\n",
    "    for appliance in [\"fridge\"]:\n",
    "       \n",
    "        for month in range(1,13):\n",
    "            m[transform][month]=[]\n",
    "            \n",
    "            out[transform][appliance][month] = []\n",
    "            for test_home in test_df.index:\n",
    "                try:\n",
    "                    pred =  pickle.load(open('../data/output/ineq_cross/%s_%s_%s_%s_%d_%d_%d.pkl' %(train_region,\n",
    "                                                                                               test_region,\n",
    "                                                                                               transform,\n",
    "                                                                                               appliance,\n",
    "                                                                                               month,\n",
    "                                                                                               test_home,\n",
    "                                                                                               k),'r'))\n",
    "                    gt = test_df.ix[test_home]['%s_%d' %(appliance, month)]\n",
    "                    error = np.abs(gt-pred)\n",
    "                    percentage_error = error*100/gt\n",
    "                    if percentage_error>100:\n",
    "                        percentage_error=100\n",
    "                    percentage_accuracy = 100-percentage_error\n",
    "                    #print appliance, month, transform, gt-pred\n",
    "                    m[transform][month].append(gt-pred)\n",
    "                except Exception, e:\n",
    "                    pass\n",
    "\n",
    "            \n"
   ]
  },
  {
   "cell_type": "code",
   "execution_count": 246,
   "metadata": {
    "collapsed": false
   },
   "outputs": [
    {
     "data": {
      "text/plain": [
       "count    299.000000\n",
       "mean       6.553594\n",
       "std       32.121251\n",
       "min      -57.424472\n",
       "25%       -9.852161\n",
       "50%        2.342088\n",
       "75%       14.932602\n",
       "max      328.898272\n",
       "dtype: float64"
      ]
     },
     "execution_count": 246,
     "metadata": {},
     "output_type": "execute_result"
    }
   ],
   "source": [
    "pd.Series(m['DD'][7]).describe()"
   ]
  },
  {
   "cell_type": "code",
   "execution_count": 247,
   "metadata": {
    "collapsed": false
   },
   "outputs": [],
   "source": [
    "a = {}\n",
    "for transform in transformations:\n",
    "    a[transform] = {}\n",
    "    for month in range(1,13):\n",
    "        a[transform][month] = pd.Series(m[transform][month]).mean()\n",
    "    \n",
    "    "
   ]
  },
  {
   "cell_type": "code",
   "execution_count": 250,
   "metadata": {
    "collapsed": false
   },
   "outputs": [
    {
     "data": {
      "text/plain": [
       "<matplotlib.text.Text at 0x1267dd1d0>"
      ]
     },
     "execution_count": 250,
     "metadata": {},
     "output_type": "execute_result"
    },
    {
     "data": {
      "image/png": "[encoded data removed]",
      "text/plain": [
       "<matplotlib.figure.Figure at 0x126b59a10>"
      ]
     },
     "metadata": {},
     "output_type": "display_data"
    }
   ],
   "source": [
    "pd.DataFrame(a)[['DD','None']].plot(kind=\"bar\",rot=0)\n",
    "plt.xlabel(\"Month\")\n",
    "plt.ylabel(\"GT-Pred (kWh)\")\n",
    "#plt.savefig('../results/transform_strategy_hvac.png')"
   ]
  },
  {
   "cell_type": "code",
   "execution_count": 243,
   "metadata": {
    "collapsed": false
   },
   "outputs": [
    {
     "data": {
      "text/plain": [
       "(36.504466090883525, 54.91064814108161)"
      ]
     },
     "execution_count": 243,
     "metadata": {},
     "output_type": "execute_result"
    }
   ],
   "source": [
    "train_df['fridge_11'].mean(), test_df['fridge_11'].mean()"
   ]
  },
  {
   "cell_type": "code",
   "execution_count": 233,
   "metadata": {
    "collapsed": false
   },
   "outputs": [
    {
     "data": {
      "text/plain": [
       "46.137905111303894"
      ]
     },
     "execution_count": 233,
     "metadata": {},
     "output_type": "execute_result"
    }
   ],
   "source": []
  },
  {
   "cell_type": "code",
   "execution_count": 347,
   "metadata": {
    "collapsed": false
   },
   "outputs": [
    {
     "name": "stdout",
     "output_type": "stream",
     "text": [
      "hvac 1 DD\n",
      "hvac 2 DD\n",
      "hvac 3 DD\n",
      "hvac 4 DD\n",
      "hvac 5 DD\n",
      "hvac 6 DD\n",
      "hvac 7 DD\n",
      "hvac 8 DD\n",
      "hvac 9 DD\n",
      "hvac 10 DD\n",
      "hvac 11 DD\n",
      "hvac 12 DD\n",
      "hvac 1 None\n",
      "hvac 2 None\n",
      "hvac 3 None\n",
      "hvac 4 None\n",
      "hvac 5 None\n",
      "hvac 6 None\n",
      "hvac 7 None\n",
      "hvac 8 None\n",
      "hvac 9 None\n",
      "hvac 10 None\n",
      "hvac 11 None\n",
      "hvac 12 None\n",
      "hvac 1 median-aggregate\n",
      "hvac 2 median-aggregate\n",
      "hvac 3 median-aggregate\n",
      "hvac 4 median-aggregate\n",
      "hvac 5 median-aggregate\n",
      "hvac 6 median-aggregate\n",
      "hvac 7 median-aggregate\n",
      "hvac 8 median-aggregate\n",
      "hvac 9 median-aggregate\n",
      "hvac 10 median-aggregate\n",
      "hvac 11 median-aggregate\n",
      "hvac 12 median-aggregate\n",
      "hvac 1 DD-percentage\n",
      "hvac 2 DD-percentage\n",
      "hvac 3 DD-percentage\n",
      "hvac 4 DD-percentage\n",
      "hvac 5 DD-percentage\n",
      "hvac 6 DD-percentage\n",
      "hvac 7 DD-percentage\n",
      "hvac 8 DD-percentage\n",
      "hvac 9 DD-percentage\n",
      "hvac 10 DD-percentage\n",
      "hvac 11 DD-percentage\n",
      "hvac 12 DD-percentage\n"
     ]
    }
   ],
   "source": [
    "out = {}\n",
    "for transform in transformations:\n",
    "    out[transform] = {}\n",
    "    #for appliance in [\"hvac\",\"fridge\",\"dr\",\"wm\"]:\n",
    "    for appliance in ['hvac']:\n",
    "        out[transform][appliance] = {}\n",
    "        for month in range(1,13):\n",
    "            print appliance, month, transform\n",
    "            out[transform][appliance][month] = []\n",
    "            for test_home in test_df.index:\n",
    "                try:\n",
    "                    pred =  pickle.load(open('../data/output/ineq_cross/%s_%s_%s_%s_%d_%d_%d.pkl' %(train_region,\n",
    "                                                                                               test_region,\n",
    "                                                                                               transform,\n",
    "                                                                                               appliance,\n",
    "                                                                                               month,\n",
    "                                                                                               test_home,\n",
    "                                                                                               k),'r'))\n",
    "                    gt = test_df.ix[test_home]['%s_%d' %(appliance, month)]\n",
    "                    error = np.abs(gt-pred)\n",
    "                    \n",
    "                    out[transform][appliance][month].append(error)\n",
    "                except Exception, e:\n",
    "                    pass\n",
    "\n",
    "            \n"
   ]
  },
  {
   "cell_type": "code",
   "execution_count": 348,
   "metadata": {
    "collapsed": false
   },
   "outputs": [],
   "source": [
    "acc = {tr:{} for tr in transformations}\n",
    "\n",
    "acc['Regional average']={}\n",
    "\n",
    "for transform in transformations:\n",
    "    #for appliance in [\"hvac\",\"fridge\",\"wm\"]:\n",
    "    for appliance in [\"hvac\"]:    \n",
    "        acc[transform][appliance] = {}\n",
    "        for month in range(1,13):\n",
    "            acc[transform][appliance][month] = pd.Series(out[transform][appliance][month]).median()"
   ]
  },
  {
   "cell_type": "code",
   "execution_count": 350,
   "metadata": {
    "collapsed": false
   },
   "outputs": [
    {
     "data": {
      "text/html": [
       "<div>\n",
       "<table border=\"1\" class=\"dataframe\">\n",
       "  <thead>\n",
       "    <tr style=\"text-align: right;\">\n",
       "      <th></th>\n",
       "      <th>DD</th>\n",
       "      <th>DD-percentage</th>\n",
       "      <th>None</th>\n",
       "      <th>Regional average</th>\n",
       "      <th>median-aggregate</th>\n",
       "    </tr>\n",
       "  </thead>\n",
       "  <tbody>\n",
       "    <tr>\n",
       "      <th>hvac</th>\n",
       "      <td>{1: 8.44147178069, 2: 57.656674514, 3: 44.0356...</td>\n",
       "      <td>{1: 12.0296812273, 2: 48.8202568568, 3: 44.856...</td>\n",
       "      <td>{1: 2.92191117009, 2: 16.5883969124, 3: 42.407...</td>\n",
       "      <td>NaN</td>\n",
       "      <td>{1: 1.22682088274, 2: 4.71549728458, 3: 40.347...</td>\n",
       "    </tr>\n",
       "  </tbody>\n",
       "</table>\n",
       "</div>"
      ],
      "text/plain": [
       "                                                     DD  \\\n",
       "hvac  {1: 8.44147178069, 2: 57.656674514, 3: 44.0356...   \n",
       "\n",
       "                                          DD-percentage  \\\n",
       "hvac  {1: 12.0296812273, 2: 48.8202568568, 3: 44.856...   \n",
       "\n",
       "                                                   None  Regional average  \\\n",
       "hvac  {1: 2.92191117009, 2: 16.5883969124, 3: 42.407...               NaN   \n",
       "\n",
       "                                       median-aggregate  \n",
       "hvac  {1: 1.22682088274, 2: 4.71549728458, 3: 40.347...  "
      ]
     },
     "execution_count": 350,
     "metadata": {},
     "output_type": "execute_result"
    }
   ],
   "source": []
  },
  {
   "cell_type": "code",
   "execution_count": 354,
   "metadata": {
    "collapsed": false
   },
   "outputs": [
    {
     "data": {
      "text/plain": [
       "1     12.029681\n",
       "2     48.820257\n",
       "3     44.856039\n",
       "4     55.901814\n",
       "5     92.348637\n",
       "6     81.464455\n",
       "7     82.482646\n",
       "8     79.634070\n",
       "9     71.332982\n",
       "10    68.626646\n",
       "11    19.807754\n",
       "12     7.320005\n",
       "dtype: float64"
      ]
     },
     "execution_count": 354,
     "metadata": {},
     "output_type": "execute_result"
    }
   ],
   "source": [
    "pd.Series(acc['DD-percentage']['hvac'])"
   ]
  },
  {
   "cell_type": "code",
   "execution_count": 355,
   "metadata": {
    "collapsed": false
   },
   "outputs": [
    {
     "data": {
      "text/plain": [
       "1       2.921911\n",
       "2      16.588397\n",
       "3      42.407613\n",
       "4      64.840691\n",
       "5     155.903642\n",
       "6     202.587438\n",
       "7     330.707652\n",
       "8     326.625814\n",
       "9     148.695028\n",
       "10     87.474467\n",
       "11     21.282795\n",
       "12      8.047367\n",
       "dtype: float64"
      ]
     },
     "execution_count": 355,
     "metadata": {},
     "output_type": "execute_result"
    }
   ],
   "source": [
    "pd.Series(acc['None']['hvac'])"
   ]
  },
  {
   "cell_type": "code",
   "execution_count": null,
   "metadata": {
    "collapsed": true
   },
   "outputs": [],
   "source": []
  }
 ],
 "metadata": {
  "kernelspec": {
   "display_name": "Python 2",
   "language": "python",
   "name": "python2"
  },
  "language_info": {
   "codemirror_mode": {
    "name": "ipython",
    "version": 2
   },
   "file_extension": ".py",
   "mimetype": "text/x-python",
   "name": "python",
   "nbconvert_exporter": "python",
   "pygments_lexer": "ipython2",
   "version": "2.7.11"
  }
 },
 "nbformat": 4,
 "nbformat_minor": 0
}
