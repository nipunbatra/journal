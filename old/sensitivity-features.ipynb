{
 "cells": [
  {
   "cell_type": "markdown",
   "metadata": {},
   "source": [
    "This notebook illustrates the sensitivity analysis on the number of features"
   ]
  },
  {
   "cell_type": "markdown",
   "metadata": {},
   "source": [
    "#### Load data set with features"
   ]
  },
  {
   "cell_type": "code",
   "execution_count": 1,
   "metadata": {
    "collapsed": false
   },
   "outputs": [
    {
     "name": "stderr",
     "output_type": "stream",
     "text": [
      "Vendor:  Continuum Analytics, Inc.\n",
      "Package: mkl\n",
      "Message: trial mode expires in 24 days\n"
     ]
    }
   ],
   "source": [
    "from create_df import read_df\n",
    "df, dfc, all_homes, appliance_min, national_average = read_df()"
   ]
  },
  {
   "cell_type": "code",
   "execution_count": 2,
   "metadata": {
    "collapsed": false
   },
   "outputs": [],
   "source": [
    "import numpy as np\n",
    "import matplotlib.pyplot as plt\n",
    "%matplotlib inline\n"
   ]
  },
  {
   "cell_type": "code",
   "execution_count": 3,
   "metadata": {
    "collapsed": false
   },
   "outputs": [],
   "source": [
    "run all_functions.py"
   ]
  },
  {
   "cell_type": "code",
   "execution_count": 4,
   "metadata": {
    "collapsed": false
   },
   "outputs": [],
   "source": [
    "run features.py"
   ]
  },
  {
   "cell_type": "code",
   "execution_count": 5,
   "metadata": {
    "collapsed": true
   },
   "outputs": [],
   "source": [
    "appliance_name_map = {\"fridge\":\"Fridge\",\"hvac\":\"HVAC\",\"wm\":\"Washing\\nmachine\",\n",
    "                      \"dr\":\"Dryer\",\"dw\":\"Dish\\nwasher\",\"light\":\"Lights\"}\n",
    "import json"
   ]
  },
  {
   "cell_type": "markdown",
   "metadata": {},
   "source": [
    "#### Finding the  TRAIN ACCURACY"
   ]
  },
  {
   "cell_type": "code",
   "execution_count": 6,
   "metadata": {
    "collapsed": false
   },
   "outputs": [],
   "source": [
    "import json\n",
    "appliances = [\"dr\",\"hvac\",\"wm\",\"dw\",\"fridge\",\"light\"]\n",
    "features = [\"Static\", \"Monthly\", \"Monthly+Static\"]\n",
    "#features=[\"AMI+Static\"]\n",
    "#features=[\"All\"]\n",
    "#appliances=[\"fridge\",\"hvac\",\"dr\",\"dw\"]\n",
    "#features = feature_map.keys()\n",
    "out={}\n",
    "means = {}\n",
    "sems = {}\n",
    "for feature in features:\n",
    "    out[feature]={}\n",
    "    means[feature]={}\n",
    "    sems[feature]={}\n",
    "    for appliance in appliances:\n",
    "    \n",
    "        out[feature][appliance] = {}\n",
    "        for home in all_homes[appliance]:\n",
    "            try:\n",
    "                j = json.load(open(\"../main-out-new/%s_%s_%d.json\" %(appliance, feature, home),'r'))\n",
    "                out[feature][appliance][int(home)] = j['accuracy']\n",
    "            except:\n",
    "                pass\n",
    "                                     \n",
    "                \n",
    "           \n",
    "train_df = pd.DataFrame({k:pd.DataFrame(out[k]).mean() for k in features})\n"
   ]
  },
  {
   "cell_type": "code",
   "execution_count": 7,
   "metadata": {
    "collapsed": false
   },
   "outputs": [
    {
     "data": {
      "text/html": [
       "<div>\n",
       "<table border=\"1\" class=\"dataframe\">\n",
       "  <thead>\n",
       "    <tr style=\"text-align: right;\">\n",
       "      <th></th>\n",
       "      <th>Monthly</th>\n",
       "      <th>Monthly+Static</th>\n",
       "      <th>Static</th>\n",
       "    </tr>\n",
       "  </thead>\n",
       "  <tbody>\n",
       "    <tr>\n",
       "      <th>dr</th>\n",
       "      <td>27.399581</td>\n",
       "      <td>28.697681</td>\n",
       "      <td>26.140318</td>\n",
       "    </tr>\n",
       "    <tr>\n",
       "      <th>dw</th>\n",
       "      <td>21.222768</td>\n",
       "      <td>22.525817</td>\n",
       "      <td>19.941430</td>\n",
       "    </tr>\n",
       "    <tr>\n",
       "      <th>fridge</th>\n",
       "      <td>66.048773</td>\n",
       "      <td>68.082701</td>\n",
       "      <td>63.642268</td>\n",
       "    </tr>\n",
       "    <tr>\n",
       "      <th>hvac</th>\n",
       "      <td>76.502214</td>\n",
       "      <td>76.081346</td>\n",
       "      <td>68.980325</td>\n",
       "    </tr>\n",
       "    <tr>\n",
       "      <th>light</th>\n",
       "      <td>36.843681</td>\n",
       "      <td>36.792903</td>\n",
       "      <td>37.165298</td>\n",
       "    </tr>\n",
       "    <tr>\n",
       "      <th>wm</th>\n",
       "      <td>46.280977</td>\n",
       "      <td>47.294136</td>\n",
       "      <td>48.233818</td>\n",
       "    </tr>\n",
       "  </tbody>\n",
       "</table>\n",
       "</div>"
      ],
      "text/plain": [
       "          Monthly  Monthly+Static     Static\n",
       "dr      27.399581       28.697681  26.140318\n",
       "dw      21.222768       22.525817  19.941430\n",
       "fridge  66.048773       68.082701  63.642268\n",
       "hvac    76.502214       76.081346  68.980325\n",
       "light   36.843681       36.792903  37.165298\n",
       "wm      46.280977       47.294136  48.233818"
      ]
     },
     "execution_count": 7,
     "metadata": {},
     "output_type": "execute_result"
    }
   ],
   "source": [
    "train_df"
   ]
  },
  {
   "cell_type": "code",
   "execution_count": 8,
   "metadata": {
    "collapsed": false
   },
   "outputs": [],
   "source": [
    "to_use_feature = {}\n",
    "for appliance in [\"dr\",\"hvac\",\"wm\",\"dw\",\"fridge\",\"light\"]:\n",
    "    to_use_feature[appliance] = train_df.ix[appliance].argmax()"
   ]
  },
  {
   "cell_type": "markdown",
   "metadata": {},
   "source": [
    "#### TEST accuracy of Gemello- needs to choose best amongst static, static+monthly and monthly"
   ]
  },
  {
   "cell_type": "code",
   "execution_count": 11,
   "metadata": {
    "collapsed": true
   },
   "outputs": [],
   "source": [
    "from constants import APPROACH as APPROACH_NAME"
   ]
  },
  {
   "cell_type": "code",
   "execution_count": 9,
   "metadata": {
    "collapsed": false
   },
   "outputs": [],
   "source": [
    "appliances = [\"dr\",\"hvac\",\"wm\",\"dw\",\"fridge\",\"light\"]\n",
    "\n",
    "out={}\n",
    "means = {}\n",
    "sems = {}\n",
    "\n",
    "for appliance in appliances:\n",
    "    feature=to_use_feature[appliance]\n",
    "    \n",
    "\n",
    "    out[appliance] = {}\n",
    "    for home in all_homes[appliance]:\n",
    "        try:\n",
    "\n",
    "            out[appliance][int(home)] = pd.read_csv(\"../main-out-new/%s_%s_%d.csv\" %(appliance, feature, home),\n",
    "                                 header=None, index_col=0, names=[\"accuracy\"]).squeeze()\n",
    "        except Exception, e:\n",
    "            print e\n",
    "\n",
    "\n",
    "    means[appliance_name_map[appliance]]=pd.DataFrame(out[appliance]).mean().mean()\n",
    "    sems[appliance_name_map[appliance]]=pd.DataFrame(out[appliance]).mean().sem()          "
   ]
  },
  {
   "cell_type": "code",
   "execution_count": 12,
   "metadata": {
    "collapsed": false
   },
   "outputs": [],
   "source": [
    "feature_accuracies = {APPROACH_NAME:means}\n"
   ]
  },
  {
   "cell_type": "code",
   "execution_count": 13,
   "metadata": {
    "collapsed": false
   },
   "outputs": [
    {
     "data": {
      "text/plain": [
       "{'Gemello': {'Dish\\nwasher': 27.333401871684234,\n",
       "  'Dryer': 33.052222078385938,\n",
       "  'Fridge': 68.541552745826976,\n",
       "  'HVAC': 76.239355252614146,\n",
       "  'Lights': 42.757293980395275,\n",
       "  'Washing\\nmachine': 57.272795296939734}}"
      ]
     },
     "execution_count": 13,
     "metadata": {},
     "output_type": "execute_result"
    }
   ],
   "source": [
    "feature_accuracies"
   ]
  },
  {
   "cell_type": "markdown",
   "metadata": {},
   "source": [
    "#### Finding the accuracies on AMI and ALL features"
   ]
  },
  {
   "cell_type": "code",
   "execution_count": 14,
   "metadata": {
    "collapsed": false
   },
   "outputs": [],
   "source": [
    "appliances = [\"dr\",\"hvac\",\"wm\",\"dw\",\"fridge\",\"light\"]\n",
    "#features = [\"Static\",\"Monthly\", \"Monthly+Static\"]\n",
    "#features=[\"AMI+Static\"]\n",
    "\n",
    "#features=[\"All\"]\n",
    "out={}\n",
    "means = {}\n",
    "sems = {}\n",
    "\n",
    "for feature in [\"All\",\"AMI\"]:\n",
    "    feature_accuracies[feature] = {}\n",
    "    for appliance in appliances:\n",
    "        \n",
    "    \n",
    "    \n",
    "\n",
    "        out[appliance] = {}\n",
    "        for home in all_homes[appliance]:\n",
    "            try:\n",
    "\n",
    "                out[appliance][int(home)] = pd.read_csv(\"../main-out-new/%s_%s_%d.csv\" %(appliance, feature, home),\n",
    "                                     header=None, index_col=0, names=[\"accuracy\"]).squeeze()\n",
    "            except Exception, e:\n",
    "                print e\n",
    "\n",
    "\n",
    "        means[appliance_name_map[appliance]]=pd.DataFrame(out[appliance]).mean().mean()\n",
    "        sems[appliance_name_map[appliance]]=pd.DataFrame(out[appliance]).mean().sem()\n",
    "        feature_accuracies[feature][appliance_name_map[appliance]]=pd.DataFrame(out[appliance]).mean().mean()           "
   ]
  },
  {
   "cell_type": "code",
   "execution_count": 15,
   "metadata": {
    "collapsed": false
   },
   "outputs": [],
   "source": [
    "sen=pd.DataFrame(feature_accuracies).T"
   ]
  },
  {
   "cell_type": "code",
   "execution_count": 16,
   "metadata": {
    "collapsed": false
   },
   "outputs": [
    {
     "data": {
      "text/html": [
       "<div>\n",
       "<table border=\"1\" class=\"dataframe\">\n",
       "  <thead>\n",
       "    <tr style=\"text-align: right;\">\n",
       "      <th></th>\n",
       "      <th>Dish\n",
       "washer</th>\n",
       "      <th>Dryer</th>\n",
       "      <th>Fridge</th>\n",
       "      <th>HVAC</th>\n",
       "      <th>Lights</th>\n",
       "      <th>Washing\n",
       "machine</th>\n",
       "    </tr>\n",
       "  </thead>\n",
       "  <tbody>\n",
       "    <tr>\n",
       "      <th>AMI</th>\n",
       "      <td>27.659256</td>\n",
       "      <td>22.777151</td>\n",
       "      <td>73.275673</td>\n",
       "      <td>73.036422</td>\n",
       "      <td>40.015019</td>\n",
       "      <td>49.484331</td>\n",
       "    </tr>\n",
       "    <tr>\n",
       "      <th>All</th>\n",
       "      <td>24.638568</td>\n",
       "      <td>25.972393</td>\n",
       "      <td>66.410514</td>\n",
       "      <td>75.154290</td>\n",
       "      <td>36.418069</td>\n",
       "      <td>52.466302</td>\n",
       "    </tr>\n",
       "    <tr>\n",
       "      <th>Gemello</th>\n",
       "      <td>27.333402</td>\n",
       "      <td>33.052222</td>\n",
       "      <td>68.541553</td>\n",
       "      <td>76.239355</td>\n",
       "      <td>42.757294</td>\n",
       "      <td>57.272795</td>\n",
       "    </tr>\n",
       "  </tbody>\n",
       "</table>\n",
       "</div>"
      ],
      "text/plain": [
       "         Dish\\nwasher      Dryer     Fridge       HVAC     Lights  \\\n",
       "AMI         27.659256  22.777151  73.275673  73.036422  40.015019   \n",
       "All         24.638568  25.972393  66.410514  75.154290  36.418069   \n",
       "Gemello     27.333402  33.052222  68.541553  76.239355  42.757294   \n",
       "\n",
       "         Washing\\nmachine  \n",
       "AMI             49.484331  \n",
       "All             52.466302  \n",
       "Gemello         57.272795  "
      ]
     },
     "execution_count": 16,
     "metadata": {},
     "output_type": "execute_result"
    }
   ],
   "source": [
    "sen"
   ]
  },
  {
   "cell_type": "markdown",
   "metadata": {},
   "source": [
    "#### Adding the ORACLE accuracy"
   ]
  },
  {
   "cell_type": "code",
   "execution_count": 17,
   "metadata": {
    "collapsed": false
   },
   "outputs": [
    {
     "name": "stdout",
     "output_type": "stream",
     "text": [
      "hvac\n",
      "light\n",
      "wm\n",
      "fridge\n",
      "dw\n",
      "dr\n"
     ]
    }
   ],
   "source": [
    "from itertools import combinations\n",
    "out = {}\n",
    "for appliance in [\"wm\",\"dw\",\"hvac\",\"fridge\",\"light\",\"dr\"]:\n",
    "    out[appliance] = {}\n",
    "    for home in all_homes[appliance]:\n",
    "        out[appliance][home] = {\"best_prediction_array\":{}, \"best_score\":1e7, \"optimal_subset\":{}}\n",
    "\n",
    "\n",
    "\n",
    "\n",
    "\n",
    "\n",
    "appliance_columns = {'fridge':[\"fridge_%d\" % i for i in range(1, 13)],\n",
    "                     'hvac':[\"hvac_%d\" % i for i in range(1, 13)],\n",
    "                     \"light\":[\"light_%d\" % i for i in range(1, 13)],\n",
    "                     \"dw\":[\"dw_%d\" % i for i in range(1, 13)],\n",
    "                     \"wm\":[\"wm_%d\" % i for i in range(1, 13)],\n",
    "                     \"dr\":[\"dr_%d\" % i for i in range(1, 13)]}\n",
    "\n",
    "errors_dict = {}\n",
    "for appliance in appliance_columns.keys():\n",
    "    print appliance\n",
    "    errors_dict[appliance] = {}\n",
    "    for max_length in range(1, 3):\n",
    "        errors_dict[appliance][max_length] = {}\n",
    "        all_combinations = combinations(all_homes[appliance], max_length)\n",
    "        for train_homes in all_combinations:\n",
    "\n",
    "            test_homes = np.setdiff1d(all_homes[appliance],train_homes)\n",
    "            for home in test_homes:\n",
    "                pred_home = np.mean(df.ix[list(train_homes)][appliance_columns[appliance]])\n",
    "                gt_home = df.ix[home][appliance_columns[appliance]]\n",
    "                if appliance is \"hvac\":\n",
    "                    error = np.mean(100*(gt_home-pred_home).abs().div(gt_home)[4:9])\n",
    "                else:\n",
    "                    error = np.mean(100*(gt_home-pred_home).abs().div(gt_home))\n",
    "                if error<out[appliance][home]['best_score']:\n",
    "                    if appliance is \"hvac\":\n",
    "                        errors_dict[appliance][max_length][home] = 100*(gt_home-pred_home).abs().div(gt_home)[4:9]\n",
    "                    else:\n",
    "                        errors_dict[appliance][max_length][home] = 100*(gt_home-pred_home).abs().div(gt_home)\n",
    "                    out[appliance][home]['best_score'] = error\n",
    "                    out[appliance][home]['optimal_subset'] = train_homes\n",
    "                    out[appliance][home]['best_prediction_array'] = pred_home\n"
   ]
  },
  {
   "cell_type": "code",
   "execution_count": 19,
   "metadata": {
    "collapsed": false
   },
   "outputs": [],
   "source": [
    "oracle_accuracy = (100-pd.Series({f:pd.DataFrame(errors_dict[f][2]).mean().mean() for f in appliance_columns.keys()}))"
   ]
  },
  {
   "cell_type": "code",
   "execution_count": 23,
   "metadata": {
    "collapsed": false
   },
   "outputs": [],
   "source": [
    "oracle_accuracy.index = [appliance_name_map[x] for x in oracle_accuracy.index]"
   ]
  },
  {
   "cell_type": "code",
   "execution_count": 24,
   "metadata": {
    "collapsed": false
   },
   "outputs": [
    {
     "data": {
      "text/plain": [
       "Dryer               64.885914\n",
       "Dish\\nwasher        61.017474\n",
       "Fridge              91.888765\n",
       "HVAC                93.195960\n",
       "Lights              75.398701\n",
       "Washing\\nmachine    80.183453\n",
       "dtype: float64"
      ]
     },
     "execution_count": 24,
     "metadata": {},
     "output_type": "execute_result"
    }
   ],
   "source": [
    "oracle_accuracy"
   ]
  },
  {
   "cell_type": "code",
   "execution_count": 25,
   "metadata": {
    "collapsed": true
   },
   "outputs": [],
   "source": [
    "sen.loc['Oracle'] = oracle_accuracy"
   ]
  },
  {
   "cell_type": "markdown",
   "metadata": {},
   "source": [
    "#### Plotting stuff"
   ]
  },
  {
   "cell_type": "code",
   "execution_count": 26,
   "metadata": {
    "collapsed": true
   },
   "outputs": [],
   "source": [
    "from common_functions import latexify, format_axes, tableau20blind"
   ]
  },
  {
   "cell_type": "code",
   "execution_count": 27,
   "metadata": {
    "collapsed": false
   },
   "outputs": [
    {
     "name": "stderr",
     "output_type": "stream",
     "text": [
      "/Users/nipunbatra/anaconda/lib/python2.7/site-packages/matplotlib/__init__.py:872: UserWarning: axes.color_cycle is deprecated and replaced with axes.prop_cycle; please use the latter.\n",
      "  warnings.warn(self.msg_depr % (key, alt_key))\n",
      "/Users/nipunbatra/anaconda/lib/python2.7/site-packages/matplotlib/__init__.py:872: UserWarning: text.fontsize is deprecated and replaced with font.size; please use the latter.\n",
      "  warnings.warn(self.msg_depr % (key, alt_key))\n"
     ]
    }
   ],
   "source": [
    "latexify()"
   ]
  },
  {
   "cell_type": "code",
   "execution_count": 28,
   "metadata": {
    "collapsed": false
   },
   "outputs": [],
   "source": [
    "sen = sen[['HVAC','Fridge','Washing\\nmachine','Lights','Dryer','Dish\\nwasher']].T"
   ]
  },
  {
   "cell_type": "code",
   "execution_count": 29,
   "metadata": {
    "collapsed": false
   },
   "outputs": [],
   "source": [
    "sen = sen.rename(columns={\"All\":\"All\\nfeatures\"})"
   ]
  },
  {
   "cell_type": "code",
   "execution_count": 30,
   "metadata": {
    "collapsed": false
   },
   "outputs": [
    {
     "name": "stderr",
     "output_type": "stream",
     "text": [
      "/Users/nipunbatra/anaconda/lib/python2.7/site-packages/pandas/tools/plotting.py:856: UserWarning: 'colors' is being deprecated. Please use 'color'instead of 'colors'\n",
      "  warnings.warn((\"'colors' is being deprecated. Please use 'color'\"\n"
     ]
    },
    {
     "data": {
      "image/png": "[encoded data removed]",
      "text/plain": [
       "<matplotlib.figure.Figure at 0x118bc9950>"
      ]
     },
     "metadata": {},
     "output_type": "display_data"
    }
   ],
   "source": [
    "sen.plot(kind=\"bar\",rot=0, colors=tableau20blind[::2])\n",
    "format_axes(plt.gca())\n",
    "plt.legend(loc=3)\n",
    "plt.ylabel(\"Energy Accuracy(\\%)\\n(Higher is better)\");\n",
    "plt.tight_layout()\n",
    "plt.savefig(\"/Users/nipunbatra/git/monthly-disaggregation/results/sensitivity-features.pdf\",bbox_inches=\"tight\")\n",
    "plt.savefig(\"/Users/nipunbatra/git/monthly-disaggregation/results/sensitivity-features.png\",bbox_inches=\"tight\")"
   ]
  },
  {
   "cell_type": "markdown",
   "metadata": {},
   "source": [
    "### Answering some other questions about feature importance"
   ]
  },
  {
   "cell_type": "markdown",
   "metadata": {},
   "source": [
    "Explaining top features from monthly, static, or both"
   ]
  },
  {
   "cell_type": "code",
   "execution_count": 38,
   "metadata": {
    "collapsed": true
   },
   "outputs": [],
   "source": [
    "from collections import Counter\n",
    "import json\n",
    "out={}\n",
    "\n",
    "for appliance, feature in to_use_feature.iteritems():\n",
    "    out[appliance]=Counter()\n",
    "    for home in all_homes[appliance]:\n",
    "        try:\n",
    "            j = json.load(open(\"../main-out-new/%s_%s_%d.json\" %(appliance, feature, home),'r'))\n",
    "            \n",
    "            out[appliance].update(j['f'])\n",
    "        except:\n",
    "            pass"
   ]
  },
  {
   "cell_type": "code",
   "execution_count": 40,
   "metadata": {
    "collapsed": false
   },
   "outputs": [
    {
     "data": {
      "text/plain": [
       "aggregate_5           23\n",
       "aggregate_6           28\n",
       "aggregate_7           31\n",
       "area                  32\n",
       "difference_min_max     9\n",
       "num_rooms             32\n",
       "p_75                   4\n",
       "total_occupants       32\n",
       "dtype: int64"
      ]
     },
     "execution_count": 40,
     "metadata": {},
     "output_type": "execute_result"
    }
   ],
   "source": [
    "pd.Series(out['dr'])"
   ]
  },
  {
   "cell_type": "code",
   "execution_count": 41,
   "metadata": {
    "collapsed": false
   },
   "outputs": [
    {
     "data": {
      "text/plain": [
       "area               12\n",
       "num_rooms           3\n",
       "total_occupants     2\n",
       "dtype: int64"
      ]
     },
     "execution_count": 41,
     "metadata": {},
     "output_type": "execute_result"
    }
   ],
   "source": [
    "pd.Series(out['light'])"
   ]
  },
  {
   "cell_type": "code",
   "execution_count": 42,
   "metadata": {
    "collapsed": false
   },
   "outputs": [
    {
     "data": {
      "text/plain": [
       "aggregate_10           4\n",
       "aggregate_5           31\n",
       "aggregate_6           33\n",
       "aggregate_7           16\n",
       "aggregate_8           33\n",
       "aggregate_9           22\n",
       "difference_min_max     3\n",
       "p_75                  31\n",
       "dtype: int64"
      ]
     },
     "execution_count": 42,
     "metadata": {},
     "output_type": "execute_result"
    }
   ],
   "source": [
    "pd.Series(out['hvac'])"
   ]
  },
  {
   "cell_type": "code",
   "execution_count": 44,
   "metadata": {
    "collapsed": false
   },
   "outputs": [
    {
     "data": {
      "text/plain": [
       "aggregate_1        20\n",
       "aggregate_10        4\n",
       "aggregate_11       16\n",
       "aggregate_12       24\n",
       "aggregate_5        11\n",
       "aggregate_6         2\n",
       "aggregate_7         6\n",
       "aggregate_8         2\n",
       "num_rooms           1\n",
       "total_occupants    13\n",
       "dtype: int64"
      ]
     },
     "execution_count": 44,
     "metadata": {},
     "output_type": "execute_result"
    }
   ],
   "source": [
    "pd.Series(out['dw'])"
   ]
  },
  {
   "cell_type": "markdown",
   "metadata": {},
   "source": [
    "For dishwasher, aggregate in December and Jan seems to be an important feature, odd?"
   ]
  },
  {
   "cell_type": "code",
   "execution_count": null,
   "metadata": {
    "collapsed": true
   },
   "outputs": [],
   "source": [
    "fr = 'aggregate_12'\n",
    "a = df.ix[all_homes['dw']][[fr,'fridge_5']]\n",
    "#a = a.query('fridge_7<100')\n",
    "plt.scatter(a[fr],a['fridge_5'])\n",
    "#plt.ylim((0, 100))\n",
    "df.ix[all_homes['fridge']][[fr,'fridge_5']].corr()"
   ]
  },
  {
   "cell_type": "code",
   "execution_count": null,
   "metadata": {
    "collapsed": true
   },
   "outputs": [],
   "source": [
    "#### For fridge kurtosis isn't a high correlation showing measure, but, "
   ]
  },
  {
   "cell_type": "markdown",
   "metadata": {},
   "source": [
    "#### Why fridge improves with AMI?"
   ]
  },
  {
   "cell_type": "code",
   "execution_count": 185,
   "metadata": {
    "collapsed": false
   },
   "outputs": [
    {
     "data": {
      "text/html": [
       "<div>\n",
       "<table border=\"1\" class=\"dataframe\">\n",
       "  <thead>\n",
       "    <tr style=\"text-align: right;\">\n",
       "      <th></th>\n",
       "      <th>kurtosis</th>\n",
       "      <th>fridge_5</th>\n",
       "    </tr>\n",
       "  </thead>\n",
       "  <tbody>\n",
       "    <tr>\n",
       "      <th>kurtosis</th>\n",
       "      <td>1.000000</td>\n",
       "      <td>0.154295</td>\n",
       "    </tr>\n",
       "    <tr>\n",
       "      <th>fridge_5</th>\n",
       "      <td>0.154295</td>\n",
       "      <td>1.000000</td>\n",
       "    </tr>\n",
       "  </tbody>\n",
       "</table>\n",
       "</div>"
      ],
      "text/plain": [
       "          kurtosis  fridge_5\n",
       "kurtosis  1.000000  0.154295\n",
       "fridge_5  0.154295  1.000000"
      ]
     },
     "execution_count": 185,
     "metadata": {},
     "output_type": "execute_result"
    },
    {
     "data": {
      "image/png": "[encoded data removed]",
      "text/plain": [
       "<matplotlib.figure.Figure at 0x126e0f2d0>"
      ]
     },
     "metadata": {},
     "output_type": "display_data"
    }
   ],
   "source": [
    "fr = 'kurtosis'\n",
    "a = df.ix[all_homes['fridge']][[fr,'fridge_5']]\n",
    "#a = a.query('fridge_7<100')\n",
    "plt.scatter(a[fr],a['fridge_5'])\n",
    "#plt.ylim((0, 100))\n",
    "df.ix[all_homes['fridge']][[fr,'fridge_5']].corr()"
   ]
  },
  {
   "cell_type": "code",
   "execution_count": 177,
   "metadata": {
    "collapsed": false
   },
   "outputs": [],
   "source": [
    "o = {}\n",
    "for f in ['difference_min_max']:\n",
    "    o[f]={}\n",
    "    for month in range(1, 13):\n",
    "        o[f][month] = df.ix[all_homes['fridge']][[f,'fridge_%d' %month]].corr().values[0, 1]\n",
    "    "
   ]
  },
  {
   "cell_type": "code",
   "execution_count": 178,
   "metadata": {
    "collapsed": false
   },
   "outputs": [
    {
     "data": {
      "text/plain": [
       "difference_min_max    0.022031\n",
       "dtype: float64"
      ]
     },
     "execution_count": 178,
     "metadata": {},
     "output_type": "execute_result"
    }
   ],
   "source": [
    "pd.DataFrame(o).mean()"
   ]
  },
  {
   "cell_type": "code",
   "execution_count": 175,
   "metadata": {
    "collapsed": false
   },
   "outputs": [],
   "source": [
    "from collections import Counter\n",
    "import json\n",
    "appliance=\"fridge\"\n",
    "feature=\"Monthly\"\n",
    "out={}\n",
    "means = {}\n",
    "sems = {}\n",
    "\n",
    "c=Counter()\n",
    "for home in all_homes[appliance]:\n",
    "    try:\n",
    "        j = json.load(open(\"../main-out-new/%s_%s_%d.json\" %(appliance, feature, home),'r'))\n",
    "\n",
    "        c.update(j['f'])\n",
    "    except:\n",
    "        pass\n",
    "                                     \n",
    "                \n",
    "           \n"
   ]
  },
  {
   "cell_type": "code",
   "execution_count": 176,
   "metadata": {
    "collapsed": false
   },
   "outputs": [
    {
     "data": {
      "text/plain": [
       "aggregate_10                 1\n",
       "aggregate_11                 4\n",
       "aggregate_4                 15\n",
       "aggregate_5                 10\n",
       "aggregate_6                  4\n",
       "aggregate_9                  6\n",
       "difference_min_max          20\n",
       "kurtosis                     8\n",
       "p_50                         2\n",
       "p_75                         5\n",
       "ratio_difference_min_max     8\n",
       "ratio_min_max                4\n",
       "dtype: int64"
      ]
     },
     "execution_count": 176,
     "metadata": {},
     "output_type": "execute_result"
    }
   ],
   "source": [
    "pd.Series(c)"
   ]
  },
  {
   "cell_type": "code",
   "execution_count": null,
   "metadata": {
    "collapsed": true
   },
   "outputs": [],
   "source": [
    "df"
   ]
  }
 ],
 "metadata": {
  "kernelspec": {
   "display_name": "Python 2",
   "language": "python",
   "name": "python2"
  },
  "language_info": {
   "codemirror_mode": {
    "name": "ipython",
    "version": 2
   },
   "file_extension": ".py",
   "mimetype": "text/x-python",
   "name": "python",
   "nbconvert_exporter": "python",
   "pygments_lexer": "ipython2",
   "version": "2.7.11"
  }
 },
 "nbformat": 4,
 "nbformat_minor": 0
}
