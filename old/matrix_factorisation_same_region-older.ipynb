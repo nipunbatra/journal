{
 "cells": [
  {
   "cell_type": "markdown",
   "metadata": {},
   "source": [
    "Code preliminaries"
   ]
  },
  {
   "cell_type": "code",
   "execution_count": 2,
   "metadata": {
    "collapsed": false
   },
   "outputs": [],
   "source": [
    "import  os\n",
    "\n",
    "import numpy as np\n",
    "import pandas as pd\n",
    "\n",
    "\n",
    "from create_df import read_df\n",
    "df, dfc, all_homes, appliance_min, national_average = read_df()\n",
    "\n",
    "df = df.rename(columns={'house_num_rooms':'num_rooms',\n",
    "                        'num_occupants':'total_occupants',\n",
    "                        'difference_ratio_min_max':'ratio_difference_min_max'})\n",
    "K_min, K_max = 1,6\n",
    "F_min, F_max=1,8\n",
    "\n",
    "from all_functions import *\n",
    "from features_larger import *"
   ]
  },
  {
   "cell_type": "code",
   "execution_count": 2,
   "metadata": {
    "collapsed": false
   },
   "outputs": [],
   "source": [
    "appliance=\"hvac\"\n",
    "month=6\n",
    "all_homes = df['%s_%d' %(appliance, month)].dropna().index"
   ]
  },
  {
   "cell_type": "markdown",
   "metadata": {},
   "source": [
    "Selecting a small subset of the data."
   ]
  },
  {
   "cell_type": "code",
   "execution_count": 5,
   "metadata": {
    "collapsed": false
   },
   "outputs": [],
   "source": [
    "subset = dfc"
   ]
  },
  {
   "cell_type": "code",
   "execution_count": 6,
   "metadata": {
    "collapsed": false
   },
   "outputs": [],
   "source": [
    "cols_to_use = []\n",
    "for appliance in [\"hvac\",\"fridge\",\"wm\"]:\n",
    "    if appliance==\"hvac\":\n",
    "        start, end=5, 11\n",
    "    else:\n",
    "        start, end = 1, 13\n",
    "    cols_to_use.append(['%s_%d' %(appliance, month) for month in range(start, end)])\n",
    "cols_to_use.append(['%s_%d' %(\"aggregate\", month) for month in range(1, 13)])\n",
    "#cols_to_use.append([\"num_rooms\", \"total_occupants\"])"
   ]
  },
  {
   "cell_type": "code",
   "execution_count": 7,
   "metadata": {
    "collapsed": false
   },
   "outputs": [],
   "source": [
    "cols_to_use = [item for sublist in cols_to_use for item in sublist]"
   ]
  },
  {
   "cell_type": "code",
   "execution_count": 8,
   "metadata": {
    "collapsed": true
   },
   "outputs": [],
   "source": [
    "all_appliance_cols = cols_to_use[:30]"
   ]
  },
  {
   "cell_type": "code",
   "execution_count": 9,
   "metadata": {
    "collapsed": false
   },
   "outputs": [
    {
     "data": {
      "text/plain": [
       "(['hvac_5', 'hvac_6', 'hvac_7'],\n",
       " ['hvac_5',\n",
       "  'hvac_6',\n",
       "  'hvac_7',\n",
       "  'hvac_8',\n",
       "  'hvac_9',\n",
       "  'hvac_10',\n",
       "  'fridge_1',\n",
       "  'fridge_2',\n",
       "  'fridge_3',\n",
       "  'fridge_4',\n",
       "  'fridge_5',\n",
       "  'fridge_6',\n",
       "  'fridge_7',\n",
       "  'fridge_8',\n",
       "  'fridge_9',\n",
       "  'fridge_10',\n",
       "  'fridge_11',\n",
       "  'fridge_12',\n",
       "  'wm_1',\n",
       "  'wm_2',\n",
       "  'wm_3',\n",
       "  'wm_4',\n",
       "  'wm_5',\n",
       "  'wm_6',\n",
       "  'wm_7',\n",
       "  'wm_8',\n",
       "  'wm_9',\n",
       "  'wm_10',\n",
       "  'wm_11',\n",
       "  'wm_12'])"
      ]
     },
     "execution_count": 9,
     "metadata": {},
     "output_type": "execute_result"
    }
   ],
   "source": [
    "cols_to_use[:3], all_appliance_cols"
   ]
  },
  {
   "cell_type": "code",
   "execution_count": 10,
   "metadata": {
    "collapsed": false
   },
   "outputs": [],
   "source": [
    "subset = subset[cols_to_use]"
   ]
  },
  {
   "cell_type": "markdown",
   "metadata": {},
   "source": [
    "Considering only the HVAC consumption from these few homes"
   ]
  },
  {
   "cell_type": "code",
   "execution_count": 11,
   "metadata": {
    "collapsed": false
   },
   "outputs": [
    {
     "data": {
      "text/html": [
       "<div>\n",
       "<table border=\"1\" class=\"dataframe\">\n",
       "  <thead>\n",
       "    <tr style=\"text-align: right;\">\n",
       "      <th></th>\n",
       "      <th>hvac_5</th>\n",
       "      <th>hvac_6</th>\n",
       "      <th>hvac_7</th>\n",
       "      <th>hvac_8</th>\n",
       "      <th>hvac_9</th>\n",
       "      <th>hvac_10</th>\n",
       "      <th>fridge_1</th>\n",
       "      <th>fridge_2</th>\n",
       "      <th>fridge_3</th>\n",
       "      <th>fridge_4</th>\n",
       "      <th>...</th>\n",
       "      <th>aggregate_3</th>\n",
       "      <th>aggregate_4</th>\n",
       "      <th>aggregate_5</th>\n",
       "      <th>aggregate_6</th>\n",
       "      <th>aggregate_7</th>\n",
       "      <th>aggregate_8</th>\n",
       "      <th>aggregate_9</th>\n",
       "      <th>aggregate_10</th>\n",
       "      <th>aggregate_11</th>\n",
       "      <th>aggregate_12</th>\n",
       "    </tr>\n",
       "  </thead>\n",
       "  <tbody>\n",
       "    <tr>\n",
       "      <th>count</th>\n",
       "      <td>66.000000</td>\n",
       "      <td>66.000000</td>\n",
       "      <td>66.000000</td>\n",
       "      <td>66.000000</td>\n",
       "      <td>66.000000</td>\n",
       "      <td>66.000000</td>\n",
       "      <td>39.000000</td>\n",
       "      <td>39.000000</td>\n",
       "      <td>39.000000</td>\n",
       "      <td>39.000000</td>\n",
       "      <td>...</td>\n",
       "      <td>66.000000</td>\n",
       "      <td>66.000000</td>\n",
       "      <td>66.000000</td>\n",
       "      <td>66.000000</td>\n",
       "      <td>66.000000</td>\n",
       "      <td>66.000000</td>\n",
       "      <td>66.000000</td>\n",
       "      <td>66.000000</td>\n",
       "      <td>66.000000</td>\n",
       "      <td>66.000000</td>\n",
       "    </tr>\n",
       "    <tr>\n",
       "      <th>mean</th>\n",
       "      <td>158.938312</td>\n",
       "      <td>394.731252</td>\n",
       "      <td>418.543534</td>\n",
       "      <td>503.712252</td>\n",
       "      <td>344.977110</td>\n",
       "      <td>124.250184</td>\n",
       "      <td>37.988821</td>\n",
       "      <td>35.617923</td>\n",
       "      <td>41.812693</td>\n",
       "      <td>42.541745</td>\n",
       "      <td>...</td>\n",
       "      <td>565.264049</td>\n",
       "      <td>577.191914</td>\n",
       "      <td>788.890174</td>\n",
       "      <td>1161.024399</td>\n",
       "      <td>1207.521609</td>\n",
       "      <td>1330.295674</td>\n",
       "      <td>1064.581407</td>\n",
       "      <td>736.393389</td>\n",
       "      <td>617.617184</td>\n",
       "      <td>747.570538</td>\n",
       "    </tr>\n",
       "    <tr>\n",
       "      <th>std</th>\n",
       "      <td>147.729963</td>\n",
       "      <td>329.279774</td>\n",
       "      <td>339.378704</td>\n",
       "      <td>414.348513</td>\n",
       "      <td>279.132655</td>\n",
       "      <td>114.857595</td>\n",
       "      <td>35.571962</td>\n",
       "      <td>32.135668</td>\n",
       "      <td>36.077134</td>\n",
       "      <td>35.856208</td>\n",
       "      <td>...</td>\n",
       "      <td>379.405489</td>\n",
       "      <td>391.891084</td>\n",
       "      <td>480.768216</td>\n",
       "      <td>605.347160</td>\n",
       "      <td>615.111160</td>\n",
       "      <td>710.365529</td>\n",
       "      <td>546.442839</td>\n",
       "      <td>428.424072</td>\n",
       "      <td>381.066786</td>\n",
       "      <td>472.254783</td>\n",
       "    </tr>\n",
       "    <tr>\n",
       "      <th>min</th>\n",
       "      <td>0.000000</td>\n",
       "      <td>0.000000</td>\n",
       "      <td>0.000000</td>\n",
       "      <td>0.000000</td>\n",
       "      <td>0.000000</td>\n",
       "      <td>0.000000</td>\n",
       "      <td>0.000000</td>\n",
       "      <td>0.000000</td>\n",
       "      <td>0.000000</td>\n",
       "      <td>0.000000</td>\n",
       "      <td>...</td>\n",
       "      <td>0.000000</td>\n",
       "      <td>0.000000</td>\n",
       "      <td>0.000000</td>\n",
       "      <td>0.000000</td>\n",
       "      <td>0.000000</td>\n",
       "      <td>0.000000</td>\n",
       "      <td>0.000000</td>\n",
       "      <td>0.000000</td>\n",
       "      <td>0.000000</td>\n",
       "      <td>0.000000</td>\n",
       "    </tr>\n",
       "    <tr>\n",
       "      <th>25%</th>\n",
       "      <td>0.098808</td>\n",
       "      <td>11.348095</td>\n",
       "      <td>7.798635</td>\n",
       "      <td>0.000000</td>\n",
       "      <td>63.881317</td>\n",
       "      <td>32.462639</td>\n",
       "      <td>0.000000</td>\n",
       "      <td>0.020613</td>\n",
       "      <td>0.016618</td>\n",
       "      <td>0.015011</td>\n",
       "      <td>...</td>\n",
       "      <td>316.652176</td>\n",
       "      <td>318.717125</td>\n",
       "      <td>442.595581</td>\n",
       "      <td>775.728241</td>\n",
       "      <td>833.823441</td>\n",
       "      <td>865.529205</td>\n",
       "      <td>688.730423</td>\n",
       "      <td>420.233849</td>\n",
       "      <td>355.991211</td>\n",
       "      <td>420.527969</td>\n",
       "    </tr>\n",
       "    <tr>\n",
       "      <th>50%</th>\n",
       "      <td>154.668854</td>\n",
       "      <td>439.072815</td>\n",
       "      <td>453.963562</td>\n",
       "      <td>529.920044</td>\n",
       "      <td>334.938568</td>\n",
       "      <td>92.407898</td>\n",
       "      <td>37.543854</td>\n",
       "      <td>36.004795</td>\n",
       "      <td>41.930347</td>\n",
       "      <td>43.794926</td>\n",
       "      <td>...</td>\n",
       "      <td>494.090698</td>\n",
       "      <td>533.218079</td>\n",
       "      <td>708.234283</td>\n",
       "      <td>1124.865295</td>\n",
       "      <td>1084.645813</td>\n",
       "      <td>1296.214355</td>\n",
       "      <td>999.998444</td>\n",
       "      <td>634.357056</td>\n",
       "      <td>550.226807</td>\n",
       "      <td>659.034576</td>\n",
       "    </tr>\n",
       "    <tr>\n",
       "      <th>75%</th>\n",
       "      <td>251.457565</td>\n",
       "      <td>607.507339</td>\n",
       "      <td>639.048218</td>\n",
       "      <td>821.370117</td>\n",
       "      <td>551.240784</td>\n",
       "      <td>189.920582</td>\n",
       "      <td>51.959431</td>\n",
       "      <td>46.152903</td>\n",
       "      <td>57.225239</td>\n",
       "      <td>58.154238</td>\n",
       "      <td>...</td>\n",
       "      <td>721.655899</td>\n",
       "      <td>722.790665</td>\n",
       "      <td>1049.414124</td>\n",
       "      <td>1489.701416</td>\n",
       "      <td>1589.932953</td>\n",
       "      <td>1773.821960</td>\n",
       "      <td>1437.387604</td>\n",
       "      <td>1039.638519</td>\n",
       "      <td>766.847092</td>\n",
       "      <td>880.760132</td>\n",
       "    </tr>\n",
       "    <tr>\n",
       "      <th>max</th>\n",
       "      <td>671.812927</td>\n",
       "      <td>1293.008301</td>\n",
       "      <td>1381.521118</td>\n",
       "      <td>1527.756836</td>\n",
       "      <td>1223.983643</td>\n",
       "      <td>532.721130</td>\n",
       "      <td>175.031464</td>\n",
       "      <td>158.016693</td>\n",
       "      <td>174.532288</td>\n",
       "      <td>176.310059</td>\n",
       "      <td>...</td>\n",
       "      <td>2247.744629</td>\n",
       "      <td>2197.657227</td>\n",
       "      <td>2350.590332</td>\n",
       "      <td>2997.533936</td>\n",
       "      <td>2817.802002</td>\n",
       "      <td>2910.157227</td>\n",
       "      <td>2607.297119</td>\n",
       "      <td>2232.633057</td>\n",
       "      <td>2173.439209</td>\n",
       "      <td>2903.376953</td>\n",
       "    </tr>\n",
       "  </tbody>\n",
       "</table>\n",
       "<p>8 rows × 42 columns</p>\n",
       "</div>"
      ],
      "text/plain": [
       "           hvac_5       hvac_6       hvac_7       hvac_8       hvac_9  \\\n",
       "count   66.000000    66.000000    66.000000    66.000000    66.000000   \n",
       "mean   158.938312   394.731252   418.543534   503.712252   344.977110   \n",
       "std    147.729963   329.279774   339.378704   414.348513   279.132655   \n",
       "min      0.000000     0.000000     0.000000     0.000000     0.000000   \n",
       "25%      0.098808    11.348095     7.798635     0.000000    63.881317   \n",
       "50%    154.668854   439.072815   453.963562   529.920044   334.938568   \n",
       "75%    251.457565   607.507339   639.048218   821.370117   551.240784   \n",
       "max    671.812927  1293.008301  1381.521118  1527.756836  1223.983643   \n",
       "\n",
       "          hvac_10    fridge_1    fridge_2    fridge_3    fridge_4  \\\n",
       "count   66.000000   39.000000   39.000000   39.000000   39.000000   \n",
       "mean   124.250184   37.988821   35.617923   41.812693   42.541745   \n",
       "std    114.857595   35.571962   32.135668   36.077134   35.856208   \n",
       "min      0.000000    0.000000    0.000000    0.000000    0.000000   \n",
       "25%     32.462639    0.000000    0.020613    0.016618    0.015011   \n",
       "50%     92.407898   37.543854   36.004795   41.930347   43.794926   \n",
       "75%    189.920582   51.959431   46.152903   57.225239   58.154238   \n",
       "max    532.721130  175.031464  158.016693  174.532288  176.310059   \n",
       "\n",
       "           ...       aggregate_3  aggregate_4  aggregate_5  aggregate_6  \\\n",
       "count      ...         66.000000    66.000000    66.000000    66.000000   \n",
       "mean       ...        565.264049   577.191914   788.890174  1161.024399   \n",
       "std        ...        379.405489   391.891084   480.768216   605.347160   \n",
       "min        ...          0.000000     0.000000     0.000000     0.000000   \n",
       "25%        ...        316.652176   318.717125   442.595581   775.728241   \n",
       "50%        ...        494.090698   533.218079   708.234283  1124.865295   \n",
       "75%        ...        721.655899   722.790665  1049.414124  1489.701416   \n",
       "max        ...       2247.744629  2197.657227  2350.590332  2997.533936   \n",
       "\n",
       "       aggregate_7  aggregate_8  aggregate_9  aggregate_10  aggregate_11  \\\n",
       "count    66.000000    66.000000    66.000000     66.000000     66.000000   \n",
       "mean   1207.521609  1330.295674  1064.581407    736.393389    617.617184   \n",
       "std     615.111160   710.365529   546.442839    428.424072    381.066786   \n",
       "min       0.000000     0.000000     0.000000      0.000000      0.000000   \n",
       "25%     833.823441   865.529205   688.730423    420.233849    355.991211   \n",
       "50%    1084.645813  1296.214355   999.998444    634.357056    550.226807   \n",
       "75%    1589.932953  1773.821960  1437.387604   1039.638519    766.847092   \n",
       "max    2817.802002  2910.157227  2607.297119   2232.633057   2173.439209   \n",
       "\n",
       "       aggregate_12  \n",
       "count     66.000000  \n",
       "mean     747.570538  \n",
       "std      472.254783  \n",
       "min        0.000000  \n",
       "25%      420.527969  \n",
       "50%      659.034576  \n",
       "75%      880.760132  \n",
       "max     2903.376953  \n",
       "\n",
       "[8 rows x 42 columns]"
      ]
     },
     "execution_count": 11,
     "metadata": {},
     "output_type": "execute_result"
    }
   ],
   "source": [
    "subset.describe()"
   ]
  },
  {
   "cell_type": "markdown",
   "metadata": {
    "collapsed": true
   },
   "source": [
    "Normalising each column to be on the range (0, 1)"
   ]
  },
  {
   "cell_type": "code",
   "execution_count": 14,
   "metadata": {
    "collapsed": false
   },
   "outputs": [],
   "source": [
    "col_max = subset.max()\n",
    "col_min = subset.min()"
   ]
  },
  {
   "cell_type": "code",
   "execution_count": 15,
   "metadata": {
    "collapsed": false
   },
   "outputs": [
    {
     "data": {
      "text/plain": [
       "hvac_5     671.812927\n",
       "hvac_6    1293.008301\n",
       "hvac_7    1381.521118\n",
       "hvac_8    1527.756836\n",
       "hvac_9    1223.983643\n",
       "dtype: float64"
      ]
     },
     "execution_count": 15,
     "metadata": {},
     "output_type": "execute_result"
    }
   ],
   "source": [
    "col_max.head()"
   ]
  },
  {
   "cell_type": "markdown",
   "metadata": {},
   "source": [
    "Seems to be working great. All the numbers are in the range(0, 1). Now, doing this for the entire matrix."
   ]
  },
  {
   "cell_type": "code",
   "execution_count": 21,
   "metadata": {
    "collapsed": false
   },
   "outputs": [
    {
     "name": "stdout",
     "output_type": "stream",
     "text": [
      "\n"
     ]
    }
   ],
   "source": [
    "subset_normalised = subset.copy()\n",
    "for col in subset.columns:\n",
    "    subset_normalised[col] = (subset[col]-col_min[col])/(col_max[col]-col_min[col])"
   ]
  },
  {
   "cell_type": "code",
   "execution_count": 22,
   "metadata": {
    "collapsed": false
   },
   "outputs": [
    {
     "data": {
      "text/html": [
       "<div>\n",
       "<table border=\"1\" class=\"dataframe\">\n",
       "  <thead>\n",
       "    <tr style=\"text-align: right;\">\n",
       "      <th></th>\n",
       "      <th>hvac_5</th>\n",
       "      <th>hvac_6</th>\n",
       "      <th>hvac_7</th>\n",
       "      <th>hvac_8</th>\n",
       "      <th>hvac_9</th>\n",
       "      <th>hvac_10</th>\n",
       "      <th>fridge_1</th>\n",
       "      <th>fridge_2</th>\n",
       "      <th>fridge_3</th>\n",
       "      <th>fridge_4</th>\n",
       "      <th>...</th>\n",
       "      <th>aggregate_3</th>\n",
       "      <th>aggregate_4</th>\n",
       "      <th>aggregate_5</th>\n",
       "      <th>aggregate_6</th>\n",
       "      <th>aggregate_7</th>\n",
       "      <th>aggregate_8</th>\n",
       "      <th>aggregate_9</th>\n",
       "      <th>aggregate_10</th>\n",
       "      <th>aggregate_11</th>\n",
       "      <th>aggregate_12</th>\n",
       "    </tr>\n",
       "  </thead>\n",
       "  <tbody>\n",
       "    <tr>\n",
       "      <th>26</th>\n",
       "      <td>0.376472</td>\n",
       "      <td>0.482955</td>\n",
       "      <td>0.462943</td>\n",
       "      <td>0.537909</td>\n",
       "      <td>0.475800</td>\n",
       "      <td>0.493917</td>\n",
       "      <td>0.000000</td>\n",
       "      <td>0.000000</td>\n",
       "      <td>0.000000</td>\n",
       "      <td>0.000000</td>\n",
       "      <td>...</td>\n",
       "      <td>0.178803</td>\n",
       "      <td>0.228114</td>\n",
       "      <td>0.413600</td>\n",
       "      <td>0.486989</td>\n",
       "      <td>0.488341</td>\n",
       "      <td>0.595911</td>\n",
       "      <td>0.550552</td>\n",
       "      <td>0.467304</td>\n",
       "      <td>0.334352</td>\n",
       "      <td>0.280095</td>\n",
       "    </tr>\n",
       "    <tr>\n",
       "      <th>94</th>\n",
       "      <td>0.052607</td>\n",
       "      <td>0.091775</td>\n",
       "      <td>0.093724</td>\n",
       "      <td>0.058084</td>\n",
       "      <td>0.085072</td>\n",
       "      <td>0.048063</td>\n",
       "      <td>0.276088</td>\n",
       "      <td>0.257313</td>\n",
       "      <td>0.273277</td>\n",
       "      <td>0.283062</td>\n",
       "      <td>...</td>\n",
       "      <td>0.186578</td>\n",
       "      <td>0.173204</td>\n",
       "      <td>0.183069</td>\n",
       "      <td>0.196133</td>\n",
       "      <td>0.228794</td>\n",
       "      <td>0.159812</td>\n",
       "      <td>0.225863</td>\n",
       "      <td>0.182223</td>\n",
       "      <td>0.155979</td>\n",
       "      <td>0.109183</td>\n",
       "    </tr>\n",
       "    <tr>\n",
       "      <th>252</th>\n",
       "      <td>0.052607</td>\n",
       "      <td>0.091775</td>\n",
       "      <td>0.093724</td>\n",
       "      <td>0.058084</td>\n",
       "      <td>0.085072</td>\n",
       "      <td>0.048063</td>\n",
       "      <td>NaN</td>\n",
       "      <td>NaN</td>\n",
       "      <td>NaN</td>\n",
       "      <td>NaN</td>\n",
       "      <td>...</td>\n",
       "      <td>0.552013</td>\n",
       "      <td>0.630419</td>\n",
       "      <td>1.000000</td>\n",
       "      <td>1.000000</td>\n",
       "      <td>0.802607</td>\n",
       "      <td>0.776210</td>\n",
       "      <td>0.702984</td>\n",
       "      <td>0.592530</td>\n",
       "      <td>0.507486</td>\n",
       "      <td>0.385579</td>\n",
       "    </tr>\n",
       "    <tr>\n",
       "      <th>370</th>\n",
       "      <td>0.410206</td>\n",
       "      <td>0.631038</td>\n",
       "      <td>0.603438</td>\n",
       "      <td>0.765337</td>\n",
       "      <td>0.639739</td>\n",
       "      <td>0.626534</td>\n",
       "      <td>0.275147</td>\n",
       "      <td>0.289044</td>\n",
       "      <td>0.273937</td>\n",
       "      <td>0.264916</td>\n",
       "      <td>...</td>\n",
       "      <td>0.336442</td>\n",
       "      <td>0.350839</td>\n",
       "      <td>0.554256</td>\n",
       "      <td>0.637071</td>\n",
       "      <td>0.691564</td>\n",
       "      <td>0.913404</td>\n",
       "      <td>0.753696</td>\n",
       "      <td>0.611511</td>\n",
       "      <td>0.443862</td>\n",
       "      <td>0.262485</td>\n",
       "    </tr>\n",
       "    <tr>\n",
       "      <th>410</th>\n",
       "      <td>0.217151</td>\n",
       "      <td>0.355479</td>\n",
       "      <td>0.370264</td>\n",
       "      <td>0.385638</td>\n",
       "      <td>0.272380</td>\n",
       "      <td>0.191135</td>\n",
       "      <td>0.153433</td>\n",
       "      <td>0.154970</td>\n",
       "      <td>0.159210</td>\n",
       "      <td>0.198220</td>\n",
       "      <td>...</td>\n",
       "      <td>0.104859</td>\n",
       "      <td>0.123668</td>\n",
       "      <td>0.183205</td>\n",
       "      <td>0.258609</td>\n",
       "      <td>0.315839</td>\n",
       "      <td>0.342962</td>\n",
       "      <td>0.261907</td>\n",
       "      <td>0.199071</td>\n",
       "      <td>0.153964</td>\n",
       "      <td>0.186778</td>\n",
       "    </tr>\n",
       "  </tbody>\n",
       "</table>\n",
       "<p>5 rows × 42 columns</p>\n",
       "</div>"
      ],
      "text/plain": [
       "       hvac_5    hvac_6    hvac_7    hvac_8    hvac_9   hvac_10  fridge_1  \\\n",
       "26   0.376472  0.482955  0.462943  0.537909  0.475800  0.493917  0.000000   \n",
       "94   0.052607  0.091775  0.093724  0.058084  0.085072  0.048063  0.276088   \n",
       "252  0.052607  0.091775  0.093724  0.058084  0.085072  0.048063       NaN   \n",
       "370  0.410206  0.631038  0.603438  0.765337  0.639739  0.626534  0.275147   \n",
       "410  0.217151  0.355479  0.370264  0.385638  0.272380  0.191135  0.153433   \n",
       "\n",
       "     fridge_2  fridge_3  fridge_4      ...       aggregate_3  aggregate_4  \\\n",
       "26   0.000000  0.000000  0.000000      ...          0.178803     0.228114   \n",
       "94   0.257313  0.273277  0.283062      ...          0.186578     0.173204   \n",
       "252       NaN       NaN       NaN      ...          0.552013     0.630419   \n",
       "370  0.289044  0.273937  0.264916      ...          0.336442     0.350839   \n",
       "410  0.154970  0.159210  0.198220      ...          0.104859     0.123668   \n",
       "\n",
       "     aggregate_5  aggregate_6  aggregate_7  aggregate_8  aggregate_9  \\\n",
       "26      0.413600     0.486989     0.488341     0.595911     0.550552   \n",
       "94      0.183069     0.196133     0.228794     0.159812     0.225863   \n",
       "252     1.000000     1.000000     0.802607     0.776210     0.702984   \n",
       "370     0.554256     0.637071     0.691564     0.913404     0.753696   \n",
       "410     0.183205     0.258609     0.315839     0.342962     0.261907   \n",
       "\n",
       "     aggregate_10  aggregate_11  aggregate_12  \n",
       "26       0.467304      0.334352      0.280095  \n",
       "94       0.182223      0.155979      0.109183  \n",
       "252      0.592530      0.507486      0.385579  \n",
       "370      0.611511      0.443862      0.262485  \n",
       "410      0.199071      0.153964      0.186778  \n",
       "\n",
       "[5 rows x 42 columns]"
      ]
     },
     "execution_count": 22,
     "metadata": {},
     "output_type": "execute_result"
    }
   ],
   "source": [
    "subset_normalised.head()"
   ]
  },
  {
   "cell_type": "markdown",
   "metadata": {},
   "source": [
    "Employing matrix factorisation now"
   ]
  },
  {
   "cell_type": "code",
   "execution_count": 23,
   "metadata": {
    "collapsed": true
   },
   "outputs": [],
   "source": [
    "import numpy\n",
    "def matrix_factorization(R, P, Q, K, steps=500, alpha=0.0002, beta=0.02):\n",
    "    numpy.random.seed(0)\n",
    "\n",
    "    Q = Q.T\n",
    "    for step in xrange(steps):\n",
    "        for i in xrange(len(R)):\n",
    "            for j in xrange(len(R[i])):\n",
    "                if R[i][j]>0:\n",
    "                    eij = R[i][j] - numpy.dot(P[i,:],Q[:,j])\n",
    "                    for k in xrange(K):\n",
    "                        P[i][k] = P[i][k] + alpha * (2 * eij * Q[k][j] - beta * P[i][k])\n",
    "                        Q[k][j] = Q[k][j] + alpha * (2 * eij * P[i][k] - beta * Q[k][j])\n",
    "        eR = numpy.dot(P,Q)\n",
    "        e = 0\n",
    "        for i in xrange(len(R)):\n",
    "            for j in xrange(len(R[i])):\n",
    "                if R[i][j] > 0:\n",
    "                    e = e + pow(R[i][j] - numpy.dot(P[i,:],Q[:,j]), 2)\n",
    "                    for k in xrange(K):\n",
    "                        e = e + (beta/2) * ( pow(P[i][k],2) + pow(Q[k][j],2) )\n",
    "        if e < 0.001:\n",
    "            break\n",
    "    return P, Q.T"
   ]
  },
  {
   "cell_type": "markdown",
   "metadata": {},
   "source": [
    "Choosing K=2 latent features"
   ]
  },
  {
   "cell_type": "code",
   "execution_count": 25,
   "metadata": {
    "collapsed": false
   },
   "outputs": [
    {
     "name": "stdout",
     "output_type": "stream",
     "text": [
      " 1\n",
      "26 0 66\n",
      "94 1 66\n",
      "252 2 66\n",
      "370 3 66\n",
      "410 4 66\n",
      "545 5 66\n",
      "624 6 66\n",
      "871 7 66\n",
      "1169 8 66\n",
      "1283 9 66\n",
      "1334 10 66\n",
      "1642 11 66\n",
      "1800 12 66\n",
      "1953 13 66\n",
      "2129 14 66\n",
      "2156 15 66\n",
      "2233 16 66\n",
      "2242 17 66\n",
      "2470 18 66\n",
      "2814 19 66\n",
      "2829 20 66\n",
      "2925 21 66\n",
      "2986 22 66\n",
      "3224 23 66\n",
      "3367 24 66\n",
      "3456 25 66\n",
      "3482 26 66\n",
      "3723 27 66\n",
      "3778 28 66\n",
      "3967 29 66\n",
      "4505 30 66\n",
      "4732 31 66\n",
      "4767 32 66\n",
      "4957 33 66\n",
      "5218 34 66\n",
      "5357 35 66\n",
      "5371 36 66\n",
      "5439 37 66\n",
      "5746 38 66\n",
      "5785 39 66\n",
      "5814 40 66\n",
      "5817 41 66\n",
      "6072 42 66\n",
      "6139 43 66\n",
      "6266 44 66\n",
      "6636 45 66\n",
      "6836 46 66\n",
      "6910 47 66\n",
      "7016 48 66\n",
      "7429 49 66\n",
      "7510 50 66\n",
      "7731 51 66\n",
      "7741 52 66\n",
      "7769 53 66\n",
      "7850 54 66\n",
      "7866 55 66\n",
      "8317 56 66\n",
      "8626 57 66\n",
      "9052 58 66\n",
      "9499 59 66\n",
      "9609 60 66\n",
      "9654 61 66\n",
      "9922 62 66\n",
      "9933 63 66\n",
      "9934 64 66\n",
      "9982 65 66\n"
     ]
    }
   ],
   "source": [
    "for K in range(1, 2):\n",
    "    print K\n",
    "    prediction = {}\n",
    "    for count, home in enumerate(subset_normalised.index.values[:]):\n",
    "\n",
    "        print home, count, len(subset_normalised.index)\n",
    "        subset_normalised_copy = subset_normalised.copy()\n",
    "        subset_normalised_copy.ix[home][all_appliance_cols]=np.NAN\n",
    "        R = subset_normalised_copy.values\n",
    "        N = len(R)\n",
    "        M = len(R[0])\n",
    "\n",
    "        P = numpy.random.rand(N,K)\n",
    "        Q = numpy.random.rand(M,K)\n",
    "\n",
    "        nP, nQ = matrix_factorization(R, P, Q, K)\n",
    "        pred_df = pd.DataFrame(numpy.dot(nP, nQ.T), index=subset_normalised.index, columns=subset_normalised.columns)\n",
    "\n",
    "        pred = {}\n",
    "        for col in all_appliance_cols:\n",
    "            pred[col] = (col_max[col]-col_min[col])*pred_df.ix[home][col] + col_min[col]\n",
    "        prediction[home] = pred\n",
    "    prediction_overall = pd.DataFrame(prediction).T\n",
    "    prediction_overall.to_csv(\"../data/output/mf_new_%d.csv\" %K)"
   ]
  },
  {
   "cell_type": "code",
   "execution_count": 29,
   "metadata": {
    "collapsed": false
   },
   "outputs": [],
   "source": [
    "a= {}\n",
    "for K in range(1,2):\n",
    "    prediction_overall = pd.read_csv(\"../data/output/mf_new_%d.csv\" %K, index_col=0)\n",
    "    gt_overall = subset[all_appliance_cols]\n",
    "    appliance_accuracy ={}\n",
    "    for appliance in [\"hvac\",\"fridge\",\"wm\"]:\n",
    "    #for appliance in [\"hvac\"]:\n",
    "        appliance_cols = [col for col in all_appliance_cols if appliance in col]\n",
    "        gt = gt_overall[appliance_cols]\n",
    "        pr = prediction_overall[appliance_cols]\n",
    "        error = (gt-pr).abs()\n",
    "        per_error = error/gt\n",
    "        per_error[per_error>1]=1\n",
    "        per_accuracy = 100*(1-per_error)\n",
    "        appliance_accuracy[appliance]=per_accuracy.median().median()\n",
    "        a[K]=appliance_accuracy"
   ]
  },
  {
   "cell_type": "code",
   "execution_count": 30,
   "metadata": {
    "collapsed": true
   },
   "outputs": [],
   "source": [
    "%matplotlib inline"
   ]
  },
  {
   "cell_type": "code",
   "execution_count": 31,
   "metadata": {
    "collapsed": false
   },
   "outputs": [
    {
     "data": {
      "text/plain": [
       "<matplotlib.text.Text at 0x13fb7d410>"
      ]
     },
     "execution_count": 31,
     "metadata": {},
     "output_type": "execute_result"
    },
    {
     "data": {
      "image/png": "[encoded data removed]",
      "text/plain": [
       "<matplotlib.figure.Figure at 0x1240ccc90>"
      ]
     },
     "metadata": {},
     "output_type": "display_data"
    }
   ],
   "source": [
    "import matplotlib.pyplot as plt\n",
    "pd.DataFrame(a).plot(kind=\"bar\",rot=0,legend=True)\n",
    "plt.ylabel(\"Accuracy\")"
   ]
  },
  {
   "cell_type": "code",
   "execution_count": 202,
   "metadata": {
    "collapsed": false
   },
   "outputs": [
    {
     "data": {
      "text/plain": [
       "51.60486639197259"
      ]
     },
     "execution_count": 202,
     "metadata": {},
     "output_type": "execute_result"
    }
   ],
   "source": [
    "per_accuracy.median().median()"
   ]
  },
  {
   "cell_type": "code",
   "execution_count": 100,
   "metadata": {
    "collapsed": true
   },
   "outputs": [],
   "source": [
    "gt_overall = subset[all_appliance_cols]"
   ]
  },
  {
   "cell_type": "code",
   "execution_count": 136,
   "metadata": {
    "collapsed": false
   },
   "outputs": [],
   "source": [
    "appliance_accuracy ={}\n",
    "#for appliance in [\"hvac\",\"fridge\",\"wm\"]:\n",
    "for appliance in [\"hvac\"]:\n",
    "    appliance_cols = [col for col in all_appliance_cols if appliance in col]\n",
    "    gt = gt_overall[appliance_cols]\n",
    "    pr = prediction_overall[appliance_cols]\n",
    "    error = (gt-pr).abs()\n",
    "    per_error = error/gt\n",
    "    per_error[per_error>1]=1\n",
    "    per_accuracy = 100*(1-per_error)\n",
    "    appliance_accuracy[appliance]=per_accuracy.mean().mean()\n",
    "    "
   ]
  },
  {
   "cell_type": "code",
   "execution_count": 134,
   "metadata": {
    "collapsed": false
   },
   "outputs": [
    {
     "data": {
      "text/plain": [
       "count     69.000000\n",
       "mean      49.725839\n",
       "std       26.091730\n",
       "min        0.000400\n",
       "25%       36.670815\n",
       "50%       47.795067\n",
       "75%       54.734383\n",
       "max      196.560455\n",
       "Name: fridge_1, dtype: float64"
      ]
     },
     "execution_count": 134,
     "metadata": {},
     "output_type": "execute_result"
    }
   ],
   "source": [
    "gt_overall['fridge_1'].dropna().describe()"
   ]
  },
  {
   "cell_type": "code",
   "execution_count": 138,
   "metadata": {
    "collapsed": false
   },
   "outputs": [
    {
     "data": {
      "text/html": [
       "<div>\n",
       "<table border=\"1\" class=\"dataframe\">\n",
       "  <thead>\n",
       "    <tr style=\"text-align: right;\">\n",
       "      <th></th>\n",
       "      <th>hvac_5</th>\n",
       "      <th>hvac_6</th>\n",
       "      <th>hvac_7</th>\n",
       "      <th>hvac_8</th>\n",
       "      <th>hvac_9</th>\n",
       "      <th>hvac_10</th>\n",
       "    </tr>\n",
       "  </thead>\n",
       "  <tbody>\n",
       "    <tr>\n",
       "      <th>count</th>\n",
       "      <td>95.000000</td>\n",
       "      <td>95.000000</td>\n",
       "      <td>95.000000</td>\n",
       "      <td>95.000000</td>\n",
       "      <td>95.000000</td>\n",
       "      <td>95.000000</td>\n",
       "    </tr>\n",
       "    <tr>\n",
       "      <th>mean</th>\n",
       "      <td>48.620832</td>\n",
       "      <td>59.347882</td>\n",
       "      <td>55.700367</td>\n",
       "      <td>59.125063</td>\n",
       "      <td>59.544016</td>\n",
       "      <td>52.778607</td>\n",
       "    </tr>\n",
       "    <tr>\n",
       "      <th>std</th>\n",
       "      <td>35.866989</td>\n",
       "      <td>34.667128</td>\n",
       "      <td>32.088596</td>\n",
       "      <td>31.597226</td>\n",
       "      <td>31.486567</td>\n",
       "      <td>34.565091</td>\n",
       "    </tr>\n",
       "    <tr>\n",
       "      <th>min</th>\n",
       "      <td>0.000000</td>\n",
       "      <td>0.000000</td>\n",
       "      <td>0.000000</td>\n",
       "      <td>0.000000</td>\n",
       "      <td>0.000000</td>\n",
       "      <td>0.000000</td>\n",
       "    </tr>\n",
       "    <tr>\n",
       "      <th>25%</th>\n",
       "      <td>0.000000</td>\n",
       "      <td>35.848216</td>\n",
       "      <td>32.710384</td>\n",
       "      <td>42.398268</td>\n",
       "      <td>43.542319</td>\n",
       "      <td>19.402305</td>\n",
       "    </tr>\n",
       "    <tr>\n",
       "      <th>50%</th>\n",
       "      <td>60.122247</td>\n",
       "      <td>74.105983</td>\n",
       "      <td>66.911682</td>\n",
       "      <td>71.047190</td>\n",
       "      <td>71.054043</td>\n",
       "      <td>61.591358</td>\n",
       "    </tr>\n",
       "    <tr>\n",
       "      <th>75%</th>\n",
       "      <td>78.434722</td>\n",
       "      <td>87.521689</td>\n",
       "      <td>81.044316</td>\n",
       "      <td>82.362428</td>\n",
       "      <td>84.454519</td>\n",
       "      <td>82.102202</td>\n",
       "    </tr>\n",
       "    <tr>\n",
       "      <th>max</th>\n",
       "      <td>98.153783</td>\n",
       "      <td>99.983375</td>\n",
       "      <td>98.703433</td>\n",
       "      <td>99.840635</td>\n",
       "      <td>98.872071</td>\n",
       "      <td>99.946246</td>\n",
       "    </tr>\n",
       "  </tbody>\n",
       "</table>\n",
       "</div>"
      ],
      "text/plain": [
       "          hvac_5     hvac_6     hvac_7     hvac_8     hvac_9    hvac_10\n",
       "count  95.000000  95.000000  95.000000  95.000000  95.000000  95.000000\n",
       "mean   48.620832  59.347882  55.700367  59.125063  59.544016  52.778607\n",
       "std    35.866989  34.667128  32.088596  31.597226  31.486567  34.565091\n",
       "min     0.000000   0.000000   0.000000   0.000000   0.000000   0.000000\n",
       "25%     0.000000  35.848216  32.710384  42.398268  43.542319  19.402305\n",
       "50%    60.122247  74.105983  66.911682  71.047190  71.054043  61.591358\n",
       "75%    78.434722  87.521689  81.044316  82.362428  84.454519  82.102202\n",
       "max    98.153783  99.983375  98.703433  99.840635  98.872071  99.946246"
      ]
     },
     "execution_count": 138,
     "metadata": {},
     "output_type": "execute_result"
    }
   ],
   "source": [
    "per_accuracy.describe()"
   ]
  },
  {
   "cell_type": "code",
   "execution_count": 135,
   "metadata": {
    "collapsed": false
   },
   "outputs": [
    {
     "data": {
      "text/plain": [
       "{'fridge': 57.33235037184128,\n",
       " 'hvac': 55.852794524403635,\n",
       " 'wm': 32.64264145040134}"
      ]
     },
     "execution_count": 135,
     "metadata": {},
     "output_type": "execute_result"
    }
   ],
   "source": [
    "appliance_accuracy"
   ]
  },
  {
   "cell_type": "markdown",
   "metadata": {
    "collapsed": true
   },
   "source": [
    "Great, our method predicts energy usage to be 790 units when true consumption was 760 units. Error of 30 units only, which means the method worked really great here."
   ]
  },
  {
   "cell_type": "markdown",
   "metadata": {},
   "source": [
    "Now, I'll try to remove more entries from the matrix. Specifically, I'll remove an entry from the same month for a different home. I'll remove the entry for home #1169. Since, this entry is not the lowest one, I don't need to normalise again from scratch. The true energy for this home is ~330 units."
   ]
  },
  {
   "cell_type": "code",
   "execution_count": 21,
   "metadata": {
    "collapsed": true
   },
   "outputs": [],
   "source": [
    "subset_hvac_normalised.loc[1169, 'hvac_7'] = np.NAN"
   ]
  },
  {
   "cell_type": "markdown",
   "metadata": {},
   "source": [
    "Confirming that we have only 2 missing values in the matrix."
   ]
  },
  {
   "cell_type": "code",
   "execution_count": 26,
   "metadata": {
    "collapsed": false
   },
   "outputs": [],
   "source": [
    "assert(subset_hvac_normalised.isnull().sum().sum()==2)"
   ]
  },
  {
   "cell_type": "code",
   "execution_count": 27,
   "metadata": {
    "collapsed": true
   },
   "outputs": [],
   "source": [
    "numpy.random.seed(0)\n",
    "R = subset_hvac_normalised.values\n",
    "N = len(R)\n",
    "M = len(R[0])\n",
    "K = 2\n",
    "\n",
    "P = numpy.random.rand(N,K)\n",
    "Q = numpy.random.rand(M,K)\n",
    "\n",
    "nP, nQ = matrix_factorization(R, P, Q, K)"
   ]
  },
  {
   "cell_type": "code",
   "execution_count": 28,
   "metadata": {
    "collapsed": true
   },
   "outputs": [],
   "source": [
    "pred_df = pd.DataFrame(numpy.dot(nP, nQ.T), index=subset_hvac_normalised.index, columns=subset_hvac_normalised.columns)"
   ]
  },
  {
   "cell_type": "code",
   "execution_count": 29,
   "metadata": {
    "collapsed": false
   },
   "outputs": [
    {
     "data": {
      "text/html": [
       "<div>\n",
       "<table border=\"1\" class=\"dataframe\">\n",
       "  <thead>\n",
       "    <tr style=\"text-align: right;\">\n",
       "      <th></th>\n",
       "      <th>hvac_5</th>\n",
       "      <th>hvac_6</th>\n",
       "      <th>hvac_7</th>\n",
       "      <th>hvac_8</th>\n",
       "      <th>hvac_9</th>\n",
       "      <th>hvac_10</th>\n",
       "    </tr>\n",
       "  </thead>\n",
       "  <tbody>\n",
       "    <tr>\n",
       "      <th>26</th>\n",
       "      <td>0.525252</td>\n",
       "      <td>0.546342</td>\n",
       "      <td>0.565182</td>\n",
       "      <td>0.540056</td>\n",
       "      <td>0.470007</td>\n",
       "      <td>0.558244</td>\n",
       "    </tr>\n",
       "    <tr>\n",
       "      <th>59</th>\n",
       "      <td>0.195344</td>\n",
       "      <td>0.203010</td>\n",
       "      <td>0.212359</td>\n",
       "      <td>0.204149</td>\n",
       "      <td>0.176959</td>\n",
       "      <td>0.206131</td>\n",
       "    </tr>\n",
       "    <tr>\n",
       "      <th>94</th>\n",
       "      <td>0.213187</td>\n",
       "      <td>0.219816</td>\n",
       "      <td>0.252969</td>\n",
       "      <td>0.255115</td>\n",
       "      <td>0.214288</td>\n",
       "      <td>0.210422</td>\n",
       "    </tr>\n",
       "    <tr>\n",
       "      <th>101</th>\n",
       "      <td>0.271078</td>\n",
       "      <td>0.280661</td>\n",
       "      <td>0.307573</td>\n",
       "      <td>0.302925</td>\n",
       "      <td>0.258419</td>\n",
       "      <td>0.277217</td>\n",
       "    </tr>\n",
       "    <tr>\n",
       "      <th>222</th>\n",
       "      <td>0.849419</td>\n",
       "      <td>0.888274</td>\n",
       "      <td>0.856032</td>\n",
       "      <td>0.785051</td>\n",
       "      <td>0.702246</td>\n",
       "      <td>0.942496</td>\n",
       "    </tr>\n",
       "    <tr>\n",
       "      <th>364</th>\n",
       "      <td>0.517585</td>\n",
       "      <td>0.540781</td>\n",
       "      <td>0.527469</td>\n",
       "      <td>0.487283</td>\n",
       "      <td>0.433748</td>\n",
       "      <td>0.570288</td>\n",
       "    </tr>\n",
       "    <tr>\n",
       "      <th>545</th>\n",
       "      <td>0.674622</td>\n",
       "      <td>0.699993</td>\n",
       "      <td>0.746862</td>\n",
       "      <td>0.725564</td>\n",
       "      <td>0.624575</td>\n",
       "      <td>0.702636</td>\n",
       "    </tr>\n",
       "    <tr>\n",
       "      <th>624</th>\n",
       "      <td>0.134171</td>\n",
       "      <td>0.139255</td>\n",
       "      <td>0.148077</td>\n",
       "      <td>0.143600</td>\n",
       "      <td>0.123757</td>\n",
       "      <td>0.140059</td>\n",
       "    </tr>\n",
       "    <tr>\n",
       "      <th>661</th>\n",
       "      <td>0.570436</td>\n",
       "      <td>0.588821</td>\n",
       "      <td>0.668958</td>\n",
       "      <td>0.670553</td>\n",
       "      <td>0.565474</td>\n",
       "      <td>0.568465</td>\n",
       "    </tr>\n",
       "    <tr>\n",
       "      <th>871</th>\n",
       "      <td>0.204926</td>\n",
       "      <td>0.213444</td>\n",
       "      <td>0.216974</td>\n",
       "      <td>0.205323</td>\n",
       "      <td>0.179850</td>\n",
       "      <td>0.220218</td>\n",
       "    </tr>\n",
       "    <tr>\n",
       "      <th>946</th>\n",
       "      <td>0.395537</td>\n",
       "      <td>0.413519</td>\n",
       "      <td>0.399971</td>\n",
       "      <td>0.367628</td>\n",
       "      <td>0.328356</td>\n",
       "      <td>0.437951</td>\n",
       "    </tr>\n",
       "    <tr>\n",
       "      <th>1169</th>\n",
       "      <td>0.139446</td>\n",
       "      <td>0.143789</td>\n",
       "      <td>0.165380</td>\n",
       "      <td>0.166738</td>\n",
       "      <td>0.140079</td>\n",
       "      <td>0.137696</td>\n",
       "    </tr>\n",
       "    <tr>\n",
       "      <th>1283</th>\n",
       "      <td>0.826621</td>\n",
       "      <td>0.856494</td>\n",
       "      <td>0.929964</td>\n",
       "      <td>0.911630</td>\n",
       "      <td>0.780092</td>\n",
       "      <td>0.850786</td>\n",
       "    </tr>\n",
       "    <tr>\n",
       "      <th>1310</th>\n",
       "      <td>0.261169</td>\n",
       "      <td>0.269388</td>\n",
       "      <td>0.308696</td>\n",
       "      <td>0.310693</td>\n",
       "      <td>0.261312</td>\n",
       "      <td>0.258608</td>\n",
       "    </tr>\n",
       "  </tbody>\n",
       "</table>\n",
       "</div>"
      ],
      "text/plain": [
       "        hvac_5    hvac_6    hvac_7    hvac_8    hvac_9   hvac_10\n",
       "26    0.525252  0.546342  0.565182  0.540056  0.470007  0.558244\n",
       "59    0.195344  0.203010  0.212359  0.204149  0.176959  0.206131\n",
       "94    0.213187  0.219816  0.252969  0.255115  0.214288  0.210422\n",
       "101   0.271078  0.280661  0.307573  0.302925  0.258419  0.277217\n",
       "222   0.849419  0.888274  0.856032  0.785051  0.702246  0.942496\n",
       "364   0.517585  0.540781  0.527469  0.487283  0.433748  0.570288\n",
       "545   0.674622  0.699993  0.746862  0.725564  0.624575  0.702636\n",
       "624   0.134171  0.139255  0.148077  0.143600  0.123757  0.140059\n",
       "661   0.570436  0.588821  0.668958  0.670553  0.565474  0.568465\n",
       "871   0.204926  0.213444  0.216974  0.205323  0.179850  0.220218\n",
       "946   0.395537  0.413519  0.399971  0.367628  0.328356  0.437951\n",
       "1169  0.139446  0.143789  0.165380  0.166738  0.140079  0.137696\n",
       "1283  0.826621  0.856494  0.929964  0.911630  0.780092  0.850786\n",
       "1310  0.261169  0.269388  0.308696  0.310693  0.261312  0.258608"
      ]
     },
     "execution_count": 29,
     "metadata": {},
     "output_type": "execute_result"
    }
   ],
   "source": [
    "pred_df"
   ]
  },
  {
   "cell_type": "code",
   "execution_count": 30,
   "metadata": {
    "collapsed": true
   },
   "outputs": [],
   "source": [
    "pred_1169_7 = pred_df.loc[1169, 'hvac_7']"
   ]
  },
  {
   "cell_type": "code",
   "execution_count": 31,
   "metadata": {
    "collapsed": false
   },
   "outputs": [
    {
     "data": {
      "text/plain": [
       "320.40357004031023"
      ]
     },
     "execution_count": 31,
     "metadata": {},
     "output_type": "execute_result"
    }
   ],
   "source": [
    "(col_max['hvac_7']-col_min['hvac_7'])*pred_1169_7 + col_min['hvac_7']"
   ]
  },
  {
   "cell_type": "markdown",
   "metadata": {},
   "source": [
    "We predict the usage to be 320 units when the actual consumption is about 330 units. Again, fairly good recommendation!"
   ]
  },
  {
   "cell_type": "markdown",
   "metadata": {},
   "source": [
    "Now, making the matrix much more sparse. "
   ]
  },
  {
   "cell_type": "code",
   "execution_count": 48,
   "metadata": {
    "collapsed": true
   },
   "outputs": [],
   "source": [
    "subset_hvac_sparse = subset_hvac.copy()"
   ]
  },
  {
   "cell_type": "code",
   "execution_count": 49,
   "metadata": {
    "collapsed": false
   },
   "outputs": [],
   "source": [
    "for col in subset_hvac_sparse.columns:\n",
    "    for row in subset_hvac_sparse.index:\n",
    "        if numpy.random.random()>0.6:\n",
    "            subset_hvac_sparse.loc[row, col]=np.NaN"
   ]
  },
  {
   "cell_type": "code",
   "execution_count": 51,
   "metadata": {
    "collapsed": false
   },
   "outputs": [
    {
     "data": {
      "text/plain": [
       "35"
      ]
     },
     "execution_count": 51,
     "metadata": {},
     "output_type": "execute_result"
    }
   ],
   "source": [
    "subset_hvac_sparse.isnull().sum().sum()"
   ]
  },
  {
   "cell_type": "markdown",
   "metadata": {},
   "source": [
    "We now have 35 missing entries in the marix."
   ]
  },
  {
   "cell_type": "markdown",
   "metadata": {},
   "source": [
    "Month wise #missing entries is "
   ]
  },
  {
   "cell_type": "code",
   "execution_count": 53,
   "metadata": {
    "collapsed": false
   },
   "outputs": [
    {
     "data": {
      "text/plain": [
       "hvac_5     7\n",
       "hvac_6     5\n",
       "hvac_7     3\n",
       "hvac_8     6\n",
       "hvac_9     8\n",
       "hvac_10    6\n",
       "dtype: int64"
      ]
     },
     "execution_count": 53,
     "metadata": {},
     "output_type": "execute_result"
    }
   ],
   "source": [
    "subset_hvac_sparse.isnull().sum()"
   ]
  },
  {
   "cell_type": "markdown",
   "metadata": {},
   "source": [
    "Home wise #missing entries is"
   ]
  },
  {
   "cell_type": "code",
   "execution_count": 55,
   "metadata": {
    "collapsed": false
   },
   "outputs": [
    {
     "data": {
      "text/plain": [
       "count    14.000000\n",
       "mean      2.500000\n",
       "std       1.506397\n",
       "min       0.000000\n",
       "25%       2.000000\n",
       "50%       3.000000\n",
       "75%       3.000000\n",
       "max       5.000000\n",
       "dtype: float64"
      ]
     },
     "execution_count": 55,
     "metadata": {},
     "output_type": "execute_result"
    }
   ],
   "source": [
    "subset_hvac_sparse.isnull().sum(axis=1).describe()"
   ]
  },
  {
   "cell_type": "code",
   "execution_count": 56,
   "metadata": {
    "collapsed": false
   },
   "outputs": [
    {
     "data": {
      "text/html": [
       "<div>\n",
       "<table border=\"1\" class=\"dataframe\">\n",
       "  <thead>\n",
       "    <tr style=\"text-align: right;\">\n",
       "      <th></th>\n",
       "      <th>hvac_5</th>\n",
       "      <th>hvac_6</th>\n",
       "      <th>hvac_7</th>\n",
       "      <th>hvac_8</th>\n",
       "      <th>hvac_9</th>\n",
       "      <th>hvac_10</th>\n",
       "    </tr>\n",
       "  </thead>\n",
       "  <tbody>\n",
       "    <tr>\n",
       "      <th>26</th>\n",
       "      <td>242.395737</td>\n",
       "      <td>543.781433</td>\n",
       "      <td>NaN</td>\n",
       "      <td>902.418823</td>\n",
       "      <td>NaN</td>\n",
       "      <td>NaN</td>\n",
       "    </tr>\n",
       "    <tr>\n",
       "      <th>59</th>\n",
       "      <td>NaN</td>\n",
       "      <td>NaN</td>\n",
       "      <td>457.950378</td>\n",
       "      <td>NaN</td>\n",
       "      <td>NaN</td>\n",
       "      <td>NaN</td>\n",
       "    </tr>\n",
       "    <tr>\n",
       "      <th>94</th>\n",
       "      <td>NaN</td>\n",
       "      <td>66.621819</td>\n",
       "      <td>126.121681</td>\n",
       "      <td>NaN</td>\n",
       "      <td>92.979385</td>\n",
       "      <td>33.392750</td>\n",
       "    </tr>\n",
       "    <tr>\n",
       "      <th>101</th>\n",
       "      <td>191.965454</td>\n",
       "      <td>NaN</td>\n",
       "      <td>462.708923</td>\n",
       "      <td>NaN</td>\n",
       "      <td>350.491455</td>\n",
       "      <td>NaN</td>\n",
       "    </tr>\n",
       "    <tr>\n",
       "      <th>222</th>\n",
       "      <td>NaN</td>\n",
       "      <td>NaN</td>\n",
       "      <td>NaN</td>\n",
       "      <td>NaN</td>\n",
       "      <td>887.044739</td>\n",
       "      <td>NaN</td>\n",
       "    </tr>\n",
       "    <tr>\n",
       "      <th>364</th>\n",
       "      <td>236.925064</td>\n",
       "      <td>535.010376</td>\n",
       "      <td>736.468933</td>\n",
       "      <td>850.080811</td>\n",
       "      <td>642.858459</td>\n",
       "      <td>378.799713</td>\n",
       "    </tr>\n",
       "    <tr>\n",
       "      <th>545</th>\n",
       "      <td>350.414551</td>\n",
       "      <td>NaN</td>\n",
       "      <td>1065.381104</td>\n",
       "      <td>1120.907593</td>\n",
       "      <td>NaN</td>\n",
       "      <td>375.303040</td>\n",
       "    </tr>\n",
       "    <tr>\n",
       "      <th>624</th>\n",
       "      <td>NaN</td>\n",
       "      <td>NaN</td>\n",
       "      <td>307.978149</td>\n",
       "      <td>389.598602</td>\n",
       "      <td>NaN</td>\n",
       "      <td>22.099518</td>\n",
       "    </tr>\n",
       "    <tr>\n",
       "      <th>661</th>\n",
       "      <td>221.594315</td>\n",
       "      <td>648.794067</td>\n",
       "      <td>NaN</td>\n",
       "      <td>NaN</td>\n",
       "      <td>756.477905</td>\n",
       "      <td>NaN</td>\n",
       "    </tr>\n",
       "    <tr>\n",
       "      <th>871</th>\n",
       "      <td>84.128731</td>\n",
       "      <td>231.698425</td>\n",
       "      <td>403.408813</td>\n",
       "      <td>514.838928</td>\n",
       "      <td>NaN</td>\n",
       "      <td>140.866745</td>\n",
       "    </tr>\n",
       "    <tr>\n",
       "      <th>946</th>\n",
       "      <td>217.752716</td>\n",
       "      <td>446.865326</td>\n",
       "      <td>605.236755</td>\n",
       "      <td>683.144165</td>\n",
       "      <td>452.278839</td>\n",
       "      <td>248.735733</td>\n",
       "    </tr>\n",
       "    <tr>\n",
       "      <th>1169</th>\n",
       "      <td>NaN</td>\n",
       "      <td>177.999435</td>\n",
       "      <td>327.977417</td>\n",
       "      <td>445.256683</td>\n",
       "      <td>NaN</td>\n",
       "      <td>NaN</td>\n",
       "    </tr>\n",
       "    <tr>\n",
       "      <th>1283</th>\n",
       "      <td>NaN</td>\n",
       "      <td>526.241333</td>\n",
       "      <td>1300.884033</td>\n",
       "      <td>1507.603027</td>\n",
       "      <td>NaN</td>\n",
       "      <td>452.018646</td>\n",
       "    </tr>\n",
       "    <tr>\n",
       "      <th>1310</th>\n",
       "      <td>NaN</td>\n",
       "      <td>300.484253</td>\n",
       "      <td>338.782837</td>\n",
       "      <td>NaN</td>\n",
       "      <td>NaN</td>\n",
       "      <td>273.744385</td>\n",
       "    </tr>\n",
       "  </tbody>\n",
       "</table>\n",
       "</div>"
      ],
      "text/plain": [
       "          hvac_5      hvac_6       hvac_7       hvac_8      hvac_9     hvac_10\n",
       "26    242.395737  543.781433          NaN   902.418823         NaN         NaN\n",
       "59           NaN         NaN   457.950378          NaN         NaN         NaN\n",
       "94           NaN   66.621819   126.121681          NaN   92.979385   33.392750\n",
       "101   191.965454         NaN   462.708923          NaN  350.491455         NaN\n",
       "222          NaN         NaN          NaN          NaN  887.044739         NaN\n",
       "364   236.925064  535.010376   736.468933   850.080811  642.858459  378.799713\n",
       "545   350.414551         NaN  1065.381104  1120.907593         NaN  375.303040\n",
       "624          NaN         NaN   307.978149   389.598602         NaN   22.099518\n",
       "661   221.594315  648.794067          NaN          NaN  756.477905         NaN\n",
       "871    84.128731  231.698425   403.408813   514.838928         NaN  140.866745\n",
       "946   217.752716  446.865326   605.236755   683.144165  452.278839  248.735733\n",
       "1169         NaN  177.999435   327.977417   445.256683         NaN         NaN\n",
       "1283         NaN  526.241333  1300.884033  1507.603027         NaN  452.018646\n",
       "1310         NaN  300.484253   338.782837          NaN         NaN  273.744385"
      ]
     },
     "execution_count": 56,
     "metadata": {},
     "output_type": "execute_result"
    }
   ],
   "source": [
    "subset_hvac_sparse"
   ]
  },
  {
   "cell_type": "markdown",
   "metadata": {},
   "source": [
    "Now, normalising this matrix."
   ]
  },
  {
   "cell_type": "code",
   "execution_count": 57,
   "metadata": {
    "collapsed": true
   },
   "outputs": [],
   "source": [
    "col_max = subset_hvac_sparse.max()\n",
    "col_min = subset_hvac_sparse.min()"
   ]
  },
  {
   "cell_type": "code",
   "execution_count": 58,
   "metadata": {
    "collapsed": true
   },
   "outputs": [],
   "source": [
    "subset_hvac_sparse_normalised = subset_hvac_sparse.copy()\n",
    "for col in subset_hvac.columns:\n",
    "    subset_hvac_sparse_normalised[col] = (subset_hvac_sparse[col]-col_min[col])/(col_max[col]-col_min[col])"
   ]
  },
  {
   "cell_type": "code",
   "execution_count": 59,
   "metadata": {
    "collapsed": false
   },
   "outputs": [
    {
     "data": {
      "text/html": [
       "<div>\n",
       "<table border=\"1\" class=\"dataframe\">\n",
       "  <thead>\n",
       "    <tr style=\"text-align: right;\">\n",
       "      <th></th>\n",
       "      <th>hvac_5</th>\n",
       "      <th>hvac_6</th>\n",
       "      <th>hvac_7</th>\n",
       "      <th>hvac_8</th>\n",
       "      <th>hvac_9</th>\n",
       "      <th>hvac_10</th>\n",
       "    </tr>\n",
       "  </thead>\n",
       "  <tbody>\n",
       "    <tr>\n",
       "      <th>26</th>\n",
       "      <td>0.594350</td>\n",
       "      <td>0.819619</td>\n",
       "      <td>NaN</td>\n",
       "      <td>0.458692</td>\n",
       "      <td>NaN</td>\n",
       "      <td>NaN</td>\n",
       "    </tr>\n",
       "    <tr>\n",
       "      <th>59</th>\n",
       "      <td>NaN</td>\n",
       "      <td>NaN</td>\n",
       "      <td>0.282465</td>\n",
       "      <td>NaN</td>\n",
       "      <td>NaN</td>\n",
       "      <td>NaN</td>\n",
       "    </tr>\n",
       "    <tr>\n",
       "      <th>94</th>\n",
       "      <td>NaN</td>\n",
       "      <td>0.000000</td>\n",
       "      <td>0.000000</td>\n",
       "      <td>NaN</td>\n",
       "      <td>0.000000</td>\n",
       "      <td>0.026268</td>\n",
       "    </tr>\n",
       "    <tr>\n",
       "      <th>101</th>\n",
       "      <td>0.404966</td>\n",
       "      <td>NaN</td>\n",
       "      <td>0.286515</td>\n",
       "      <td>NaN</td>\n",
       "      <td>0.324296</td>\n",
       "      <td>NaN</td>\n",
       "    </tr>\n",
       "    <tr>\n",
       "      <th>222</th>\n",
       "      <td>NaN</td>\n",
       "      <td>NaN</td>\n",
       "      <td>NaN</td>\n",
       "      <td>NaN</td>\n",
       "      <td>1.000000</td>\n",
       "      <td>NaN</td>\n",
       "    </tr>\n",
       "    <tr>\n",
       "      <th>364</th>\n",
       "      <td>0.573806</td>\n",
       "      <td>0.804553</td>\n",
       "      <td>0.519550</td>\n",
       "      <td>0.411879</td>\n",
       "      <td>0.692486</td>\n",
       "      <td>0.829691</td>\n",
       "    </tr>\n",
       "    <tr>\n",
       "      <th>545</th>\n",
       "      <td>1.000000</td>\n",
       "      <td>NaN</td>\n",
       "      <td>0.799531</td>\n",
       "      <td>0.654120</td>\n",
       "      <td>NaN</td>\n",
       "      <td>0.821558</td>\n",
       "    </tr>\n",
       "    <tr>\n",
       "      <th>624</th>\n",
       "      <td>NaN</td>\n",
       "      <td>NaN</td>\n",
       "      <td>0.154803</td>\n",
       "      <td>0.000000</td>\n",
       "      <td>NaN</td>\n",
       "      <td>0.000000</td>\n",
       "    </tr>\n",
       "    <tr>\n",
       "      <th>661</th>\n",
       "      <td>0.516233</td>\n",
       "      <td>1.000000</td>\n",
       "      <td>NaN</td>\n",
       "      <td>NaN</td>\n",
       "      <td>0.835572</td>\n",
       "      <td>NaN</td>\n",
       "    </tr>\n",
       "    <tr>\n",
       "      <th>871</th>\n",
       "      <td>0.000000</td>\n",
       "      <td>0.283553</td>\n",
       "      <td>0.236037</td>\n",
       "      <td>0.112021</td>\n",
       "      <td>NaN</td>\n",
       "      <td>0.276255</td>\n",
       "    </tr>\n",
       "    <tr>\n",
       "      <th>946</th>\n",
       "      <td>0.501807</td>\n",
       "      <td>0.653146</td>\n",
       "      <td>0.407840</td>\n",
       "      <td>0.262562</td>\n",
       "      <td>0.452481</td>\n",
       "      <td>0.527160</td>\n",
       "    </tr>\n",
       "    <tr>\n",
       "      <th>1169</th>\n",
       "      <td>NaN</td>\n",
       "      <td>0.191314</td>\n",
       "      <td>0.171827</td>\n",
       "      <td>0.049783</td>\n",
       "      <td>NaN</td>\n",
       "      <td>NaN</td>\n",
       "    </tr>\n",
       "    <tr>\n",
       "      <th>1283</th>\n",
       "      <td>NaN</td>\n",
       "      <td>0.789491</td>\n",
       "      <td>1.000000</td>\n",
       "      <td>1.000000</td>\n",
       "      <td>NaN</td>\n",
       "      <td>1.000000</td>\n",
       "    </tr>\n",
       "    <tr>\n",
       "      <th>1310</th>\n",
       "      <td>NaN</td>\n",
       "      <td>0.401707</td>\n",
       "      <td>0.181025</td>\n",
       "      <td>NaN</td>\n",
       "      <td>NaN</td>\n",
       "      <td>0.585331</td>\n",
       "    </tr>\n",
       "  </tbody>\n",
       "</table>\n",
       "</div>"
      ],
      "text/plain": [
       "        hvac_5    hvac_6    hvac_7    hvac_8    hvac_9   hvac_10\n",
       "26    0.594350  0.819619       NaN  0.458692       NaN       NaN\n",
       "59         NaN       NaN  0.282465       NaN       NaN       NaN\n",
       "94         NaN  0.000000  0.000000       NaN  0.000000  0.026268\n",
       "101   0.404966       NaN  0.286515       NaN  0.324296       NaN\n",
       "222        NaN       NaN       NaN       NaN  1.000000       NaN\n",
       "364   0.573806  0.804553  0.519550  0.411879  0.692486  0.829691\n",
       "545   1.000000       NaN  0.799531  0.654120       NaN  0.821558\n",
       "624        NaN       NaN  0.154803  0.000000       NaN  0.000000\n",
       "661   0.516233  1.000000       NaN       NaN  0.835572       NaN\n",
       "871   0.000000  0.283553  0.236037  0.112021       NaN  0.276255\n",
       "946   0.501807  0.653146  0.407840  0.262562  0.452481  0.527160\n",
       "1169       NaN  0.191314  0.171827  0.049783       NaN       NaN\n",
       "1283       NaN  0.789491  1.000000  1.000000       NaN  1.000000\n",
       "1310       NaN  0.401707  0.181025       NaN       NaN  0.585331"
      ]
     },
     "execution_count": 59,
     "metadata": {},
     "output_type": "execute_result"
    }
   ],
   "source": [
    "subset_hvac_sparse_normalised"
   ]
  },
  {
   "cell_type": "code",
   "execution_count": 60,
   "metadata": {
    "collapsed": true
   },
   "outputs": [],
   "source": [
    "numpy.random.seed(0)\n",
    "R = subset_hvac_sparse_normalised.values\n",
    "N = len(R)\n",
    "M = len(R[0])\n",
    "K = 2\n",
    "\n",
    "P = numpy.random.rand(N,K)\n",
    "Q = numpy.random.rand(M,K)\n",
    "\n",
    "nP, nQ = matrix_factorization(R, P, Q, K)"
   ]
  },
  {
   "cell_type": "code",
   "execution_count": 61,
   "metadata": {
    "collapsed": true
   },
   "outputs": [],
   "source": [
    "pred_df = pd.DataFrame(numpy.dot(nP, nQ.T), index=subset_hvac_normalised.index, columns=subset_hvac_normalised.columns)"
   ]
  },
  {
   "cell_type": "code",
   "execution_count": 62,
   "metadata": {
    "collapsed": false
   },
   "outputs": [
    {
     "data": {
      "text/html": [
       "<div>\n",
       "<table border=\"1\" class=\"dataframe\">\n",
       "  <thead>\n",
       "    <tr style=\"text-align: right;\">\n",
       "      <th></th>\n",
       "      <th>hvac_5</th>\n",
       "      <th>hvac_6</th>\n",
       "      <th>hvac_7</th>\n",
       "      <th>hvac_8</th>\n",
       "      <th>hvac_9</th>\n",
       "      <th>hvac_10</th>\n",
       "    </tr>\n",
       "  </thead>\n",
       "  <tbody>\n",
       "    <tr>\n",
       "      <th>26</th>\n",
       "      <td>0.626751</td>\n",
       "      <td>0.725728</td>\n",
       "      <td>0.574429</td>\n",
       "      <td>0.507956</td>\n",
       "      <td>0.723713</td>\n",
       "      <td>0.715155</td>\n",
       "    </tr>\n",
       "    <tr>\n",
       "      <th>59</th>\n",
       "      <td>0.446145</td>\n",
       "      <td>0.471976</td>\n",
       "      <td>0.372976</td>\n",
       "      <td>0.255860</td>\n",
       "      <td>0.509112</td>\n",
       "      <td>0.500437</td>\n",
       "    </tr>\n",
       "    <tr>\n",
       "      <th>94</th>\n",
       "      <td>0.166016</td>\n",
       "      <td>0.232958</td>\n",
       "      <td>0.184941</td>\n",
       "      <td>0.231032</td>\n",
       "      <td>0.197225</td>\n",
       "      <td>0.197316</td>\n",
       "    </tr>\n",
       "    <tr>\n",
       "      <th>101</th>\n",
       "      <td>0.331219</td>\n",
       "      <td>0.432536</td>\n",
       "      <td>0.343024</td>\n",
       "      <td>0.384554</td>\n",
       "      <td>0.389111</td>\n",
       "      <td>0.387425</td>\n",
       "    </tr>\n",
       "    <tr>\n",
       "      <th>222</th>\n",
       "      <td>0.801248</td>\n",
       "      <td>0.779461</td>\n",
       "      <td>0.614957</td>\n",
       "      <td>0.297987</td>\n",
       "      <td>0.905082</td>\n",
       "      <td>0.885557</td>\n",
       "    </tr>\n",
       "    <tr>\n",
       "      <th>364</th>\n",
       "      <td>0.650821</td>\n",
       "      <td>0.702224</td>\n",
       "      <td>0.555131</td>\n",
       "      <td>0.405750</td>\n",
       "      <td>0.744536</td>\n",
       "      <td>0.732676</td>\n",
       "    </tr>\n",
       "    <tr>\n",
       "      <th>545</th>\n",
       "      <td>0.817796</td>\n",
       "      <td>0.958538</td>\n",
       "      <td>0.758860</td>\n",
       "      <td>0.690261</td>\n",
       "      <td>0.945887</td>\n",
       "      <td>0.935392</td>\n",
       "    </tr>\n",
       "    <tr>\n",
       "      <th>624</th>\n",
       "      <td>0.121631</td>\n",
       "      <td>0.140518</td>\n",
       "      <td>0.111219</td>\n",
       "      <td>0.097817</td>\n",
       "      <td>0.140404</td>\n",
       "      <td>0.138725</td>\n",
       "    </tr>\n",
       "    <tr>\n",
       "      <th>661</th>\n",
       "      <td>0.642869</td>\n",
       "      <td>0.870370</td>\n",
       "      <td>0.690618</td>\n",
       "      <td>0.819481</td>\n",
       "      <td>0.759418</td>\n",
       "      <td>0.757931</td>\n",
       "    </tr>\n",
       "    <tr>\n",
       "      <th>871</th>\n",
       "      <td>0.283462</td>\n",
       "      <td>0.285528</td>\n",
       "      <td>0.225425</td>\n",
       "      <td>0.128576</td>\n",
       "      <td>0.321522</td>\n",
       "      <td>0.315180</td>\n",
       "    </tr>\n",
       "    <tr>\n",
       "      <th>946</th>\n",
       "      <td>0.482190</td>\n",
       "      <td>0.513039</td>\n",
       "      <td>0.405469</td>\n",
       "      <td>0.283476</td>\n",
       "      <td>0.550641</td>\n",
       "      <td>0.541436</td>\n",
       "    </tr>\n",
       "    <tr>\n",
       "      <th>1169</th>\n",
       "      <td>0.228538</td>\n",
       "      <td>0.228856</td>\n",
       "      <td>0.180661</td>\n",
       "      <td>0.100469</td>\n",
       "      <td>0.259041</td>\n",
       "      <td>0.253850</td>\n",
       "    </tr>\n",
       "    <tr>\n",
       "      <th>1283</th>\n",
       "      <td>0.800990</td>\n",
       "      <td>1.021473</td>\n",
       "      <td>0.809787</td>\n",
       "      <td>0.871845</td>\n",
       "      <td>0.937661</td>\n",
       "      <td>0.932164</td>\n",
       "    </tr>\n",
       "    <tr>\n",
       "      <th>1310</th>\n",
       "      <td>0.337451</td>\n",
       "      <td>0.462984</td>\n",
       "      <td>0.367438</td>\n",
       "      <td>0.444643</td>\n",
       "      <td>0.399459</td>\n",
       "      <td>0.399033</td>\n",
       "    </tr>\n",
       "  </tbody>\n",
       "</table>\n",
       "</div>"
      ],
      "text/plain": [
       "        hvac_5    hvac_6    hvac_7    hvac_8    hvac_9   hvac_10\n",
       "26    0.626751  0.725728  0.574429  0.507956  0.723713  0.715155\n",
       "59    0.446145  0.471976  0.372976  0.255860  0.509112  0.500437\n",
       "94    0.166016  0.232958  0.184941  0.231032  0.197225  0.197316\n",
       "101   0.331219  0.432536  0.343024  0.384554  0.389111  0.387425\n",
       "222   0.801248  0.779461  0.614957  0.297987  0.905082  0.885557\n",
       "364   0.650821  0.702224  0.555131  0.405750  0.744536  0.732676\n",
       "545   0.817796  0.958538  0.758860  0.690261  0.945887  0.935392\n",
       "624   0.121631  0.140518  0.111219  0.097817  0.140404  0.138725\n",
       "661   0.642869  0.870370  0.690618  0.819481  0.759418  0.757931\n",
       "871   0.283462  0.285528  0.225425  0.128576  0.321522  0.315180\n",
       "946   0.482190  0.513039  0.405469  0.283476  0.550641  0.541436\n",
       "1169  0.228538  0.228856  0.180661  0.100469  0.259041  0.253850\n",
       "1283  0.800990  1.021473  0.809787  0.871845  0.937661  0.932164\n",
       "1310  0.337451  0.462984  0.367438  0.444643  0.399459  0.399033"
      ]
     },
     "execution_count": 62,
     "metadata": {},
     "output_type": "execute_result"
    }
   ],
   "source": [
    "pred_df"
   ]
  },
  {
   "cell_type": "markdown",
   "metadata": {},
   "source": [
    "Now, let us pick up a few entries. Home #59 had 4/5 missing entries!"
   ]
  },
  {
   "cell_type": "code",
   "execution_count": 69,
   "metadata": {
    "collapsed": false
   },
   "outputs": [],
   "source": [
    "home_pred = {}\n",
    "home = 59\n",
    "home_pred[home] = {}\n",
    "for month in range(5, 11):\n",
    "    home_pred[59][month] = (col_max['hvac_%d' %month]-col_min['hvac_%d' %month])*pred_df.loc[home,'hvac_%d'%month] +col_min['hvac_%d' %month]"
   ]
  },
  {
   "cell_type": "code",
   "execution_count": 74,
   "metadata": {
    "collapsed": false
   },
   "outputs": [],
   "source": [
    "pred_59 = pd.DataFrame(home_pred).squeeze()\n",
    "gt_59 = subset_hvac.ix[59]\n",
    "gt_59.index=pred_59.index"
   ]
  },
  {
   "cell_type": "markdown",
   "metadata": {},
   "source": [
    "Here's the GT and prediction for this home. "
   ]
  },
  {
   "cell_type": "code",
   "execution_count": 76,
   "metadata": {
    "collapsed": false
   },
   "outputs": [
    {
     "data": {
      "text/html": [
       "<div>\n",
       "<table border=\"1\" class=\"dataframe\">\n",
       "  <thead>\n",
       "    <tr style=\"text-align: right;\">\n",
       "      <th></th>\n",
       "      <th>gt</th>\n",
       "      <th>pred</th>\n",
       "    </tr>\n",
       "  </thead>\n",
       "  <tbody>\n",
       "    <tr>\n",
       "      <th>5</th>\n",
       "      <td>77.613205</td>\n",
       "      <td>202.930850</td>\n",
       "    </tr>\n",
       "    <tr>\n",
       "      <th>6</th>\n",
       "      <td>197.951508</td>\n",
       "      <td>341.393123</td>\n",
       "    </tr>\n",
       "    <tr>\n",
       "      <th>7</th>\n",
       "      <td>457.950378</td>\n",
       "      <td>564.280025</td>\n",
       "    </tr>\n",
       "    <tr>\n",
       "      <th>8</th>\n",
       "      <td>700.443054</td>\n",
       "      <td>675.651405</td>\n",
       "    </tr>\n",
       "    <tr>\n",
       "      <th>9</th>\n",
       "      <td>244.340973</td>\n",
       "      <td>497.247409</td>\n",
       "    </tr>\n",
       "    <tr>\n",
       "      <th>10</th>\n",
       "      <td>81.064682</td>\n",
       "      <td>237.247047</td>\n",
       "    </tr>\n",
       "  </tbody>\n",
       "</table>\n",
       "</div>"
      ],
      "text/plain": [
       "            gt        pred\n",
       "5    77.613205  202.930850\n",
       "6   197.951508  341.393123\n",
       "7   457.950378  564.280025\n",
       "8   700.443054  675.651405\n",
       "9   244.340973  497.247409\n",
       "10   81.064682  237.247047"
      ]
     },
     "execution_count": 76,
     "metadata": {},
     "output_type": "execute_result"
    }
   ],
   "source": [
    "pd.DataFrame({\"gt\":gt_59, \"pred\":pred_59})"
   ]
  },
  {
   "cell_type": "markdown",
   "metadata": {},
   "source": [
    "Given that we had 1/6 records for home #59. Our predictions aren't all that bad."
   ]
  }
 ],
 "metadata": {
  "kernelspec": {
   "display_name": "Python 2",
   "language": "python",
   "name": "python2"
  },
  "language_info": {
   "codemirror_mode": {
    "name": "ipython",
    "version": 2
   },
   "file_extension": ".py",
   "mimetype": "text/x-python",
   "name": "python",
   "nbconvert_exporter": "python",
   "pygments_lexer": "ipython2",
   "version": "2.7.11"
  }
 },
 "nbformat": 4,
 "nbformat_minor": 0
}
