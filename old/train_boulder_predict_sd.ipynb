{
 "cells": [
  {
   "cell_type": "code",
   "execution_count": 49,
   "metadata": {
    "collapsed": true
   },
   "outputs": [],
   "source": [
    "import pandas as pd\n",
    "import os\n",
    "import numpy as np\n",
    "from sklearn.ensemble import RandomForestRegressor\n",
    "from sklearn.neighbors import KNeighborsRegressor\n",
    "from copy import deepcopy"
   ]
  },
  {
   "cell_type": "code",
   "execution_count": 50,
   "metadata": {
    "collapsed": true
   },
   "outputs": [],
   "source": [
    "st = pd.HDFStore(os.path.expanduser(\"/Users/nipunbatra/wiki-all.h5\"))"
   ]
  },
  {
   "cell_type": "code",
   "execution_count": 51,
   "metadata": {
    "collapsed": true
   },
   "outputs": [],
   "source": [
    "metadata_df = pd.read_csv(\"/Users/nipunbatra/w/dataport-metadata.csv\",index_col=0)"
   ]
  },
  {
   "cell_type": "code",
   "execution_count": 52,
   "metadata": {
    "collapsed": true
   },
   "outputs": [],
   "source": [
    "months=3\n",
    "start='7-1-2014'\n",
    "start_month=7\n",
    "end = '9-30-2014'\n",
    "end_month=10"
   ]
  },
  {
   "cell_type": "code",
   "execution_count": 53,
   "metadata": {
    "collapsed": true
   },
   "outputs": [],
   "source": [
    "sd_df = pd.read_csv(\"../data/input/san_diego_df.csv\", index_col=0)\n",
    "bo_df = pd.read_csv(\"../data/input/boulder_df.csv\", index_col=0)"
   ]
  },
  {
   "cell_type": "code",
   "execution_count": 54,
   "metadata": {
    "collapsed": false
   },
   "outputs": [],
   "source": [
    "import json\n",
    "sd_homes = json.load(open(\"../data/input/san_diego_homes.json\",'r'))\n",
    "bo_homes = json.load(open(\"../data/input/boulder_homes.json\",'r'))"
   ]
  },
  {
   "cell_type": "code",
   "execution_count": 55,
   "metadata": {
    "collapsed": true
   },
   "outputs": [],
   "source": [
    "K_min, K_max = 1,6\n",
    "F_min, F_max=1,8\n",
    "\n",
    "#from all_functions import *\n",
    "#from features import *\n",
    "\n",
    "import sys\n",
    "\n",
    "from sklearn.neighbors import KNeighborsRegressor\n",
    "from sklearn.cross_validation import ShuffleSplit\n",
    "from sklearn.cross_validation import LeaveOneOut\n",
    "\n",
    "NUM_NEIGHBOUR_MAX = 6\n",
    "F_MAX = 4\n",
    "\n",
    "import json\n",
    "\n",
    "feature_map = {'Monthly':['aggregate_%d' %month for month in range(start_month, end_month)],\n",
    "              'Static':['area'],\n",
    "              'Monthly+Static':np.hstack([['aggregate_%d' %month for month in range(start_month, end_month)],\n",
    "                                        'area']).flatten().tolist()}\n",
    "\n",
    "\n",
    "\n",
    "from sklearn.cross_validation import LeaveOneOut\n",
    "from sklearn.ensemble import ExtraTreesRegressor\n",
    "from sklearn.neighbors import KNeighborsRegressor\n",
    "from collections import OrderedDict"
   ]
  },
  {
   "cell_type": "code",
   "execution_count": 56,
   "metadata": {
    "collapsed": true
   },
   "outputs": [],
   "source": [
    "train_dataset_df = bo_df\n",
    "test_dataset_df = sd_df\n",
    "train_all_homes = bo_homes\n",
    "test_all_homes = sd_homes"
   ]
  },
  {
   "cell_type": "code",
   "execution_count": 87,
   "metadata": {
    "collapsed": false
   },
   "outputs": [],
   "source": [
    "def _find_accuracy(home, appliance, feature=\"Monthly\"):\n",
    "    if appliance ==\"hvac\":\n",
    "        start, stop=7,10\n",
    "    else:\n",
    "        start, stop=7, 10\n",
    "\n",
    "    np.random.seed(42)\n",
    "    appliance_df = train_dataset_df.ix[train_all_homes[appliance]]\n",
    "    appliance_df_test = test_dataset_df.ix[test_all_homes[appliance]]\n",
    "    \n",
    "    #ADDING NEW\n",
    "    appliance_df = appliance_df.ix[appliance_df[feature_map[feature]].dropna().index]\n",
    "    \n",
    "    \n",
    "    test_homes = [home]\n",
    "    train_homes = appliance_df[~appliance_df.index.isin([home])].index\n",
    "    all_home_appliance = deepcopy(train_all_homes)\n",
    "    all_home_appliance[appliance] = train_homes\n",
    "\n",
    "    # Cross validation on inner loop to find best feature, K\n",
    "    train_size = len(train_homes)\n",
    "    l = LeaveOneOut(train_size)\n",
    "    out = OrderedDict()\n",
    "    for cv_train, cv_test in l:\n",
    "\n",
    "        cv_train_home=appliance_df.ix[train_homes[cv_train]]\n",
    "        cv_test_home = appliance_df.ix[train_homes[cv_test]]\n",
    "        test_home_name = cv_test_home.index.values[0]\n",
    "        #print cv_test_home\n",
    "        out[test_home_name]={}\n",
    "\n",
    "\n",
    "        # Summing up energy across start to stop to get Y to learn optimum feature on\n",
    "        Y = cv_train_home[['%s_%d' %(appliance, i) for i in range(start, stop)]].sum(axis=1).values\n",
    "        forest = ExtraTreesRegressor(n_estimators=250,\n",
    "                              random_state=0)\n",
    "        forest.fit(cv_train_home[feature_map[feature]], Y)\n",
    "        importances = forest.feature_importances_\n",
    "        indices = np.argsort(importances)[::-1]\n",
    "\n",
    "        # Now varying K and top-N features\n",
    "\n",
    "        for K in range(K_min, K_max):\n",
    "            out[test_home_name][K]={}\n",
    "            for top_n in range(F_min,F_max):\n",
    "                out[test_home_name][K][top_n]=[]\n",
    "                top_n_features = cv_train_home[feature_map[feature]].columns[indices][:top_n]\n",
    "\n",
    "                # Now fitting KNN on this\n",
    "                for month in range(start, stop):\n",
    "                    clf = KNeighborsRegressor(n_neighbors=K)\n",
    "                    clf.fit(cv_train_home[top_n_features], cv_train_home['%s_%d' %(appliance, month)])\n",
    "                    out[test_home_name][K][top_n].append(clf.predict(cv_test_home[top_n_features]))\n",
    "\n",
    "        # Now, finding the (K, top_n) combination that gave us best accuracy on CV test homes\n",
    "    accur = {}\n",
    "\n",
    "    for K in range(K_min, K_max):\n",
    "        accur[K] = {}\n",
    "        for top_n in range(F_min, F_max):\n",
    "            temp = {}\n",
    "            for h in out.iterkeys():\n",
    "                pred = pd.DataFrame(out[h][K][top_n]).T\n",
    "                #all_but_h = [x for x in out.keys() if x!=h]\n",
    "                pred.index = [h]\n",
    "                pred.columns = [['%s_%d' %(appliance, i) for i in range(start, stop)]]\n",
    "                gt = appliance_df.ix[h][['%s_%d' %(appliance, i) for i in range(start, stop)]]\n",
    "                error = (pred-gt).abs().div(gt).mul(100)\n",
    "                mean_error = error.mean().mean()\n",
    "                a = 100-mean_error\n",
    "                if a<0:\n",
    "                    a=0\n",
    "                temp[h]=a\n",
    "            ac = pd.Series(temp).mean()\n",
    "\n",
    "            accur[K][top_n] = ac\n",
    "\n",
    "    accur_df = pd.DataFrame(accur)\n",
    "    accur_max = accur_df.max().max()\n",
    "    max_ac_df = accur_df[accur_df==accur_max]\n",
    "    F_best = cv_train_home[feature_map[feature]].columns[indices][:max_ac_df.mean(axis=1).dropna().index.values[0]].tolist()\n",
    "    K_best = max_ac_df.mean().dropna().index.values[0]\n",
    "\n",
    "    # Now predicting for test home\n",
    "    \n",
    "    train_overall = appliance_df.ix[appliance_df[~appliance_df.index.isin([home])].index]\n",
    "    test_overall = appliance_df_test[appliance_df_test.index.isin([home])]\n",
    "    pred_test = {}\n",
    "    gt_test = {}\n",
    "    for month in range(start, stop):\n",
    "        clf = KNeighborsRegressor(n_neighbors=K_best)\n",
    "        clf.fit(train_overall[F_best], train_overall['%s_%d' %(appliance, month)])\n",
    "        pred_test[month] = clf.predict(test_overall[F_best])\n",
    "        gt_test[month] = test_overall['%s_%d' %(appliance, month)]\n",
    "\n",
    "    #print {'f':F_best, 'k':K_best,'accuracy':accur_max}\n",
    "    #json.dump({'f':F_best, 'k':K_best,'accuracy':accur_max},open(\"../main-out-new/%s_%s_%d.json\" %(appliance,feature, home),\"w\") )\n",
    "\n",
    "    pred_df = pd.DataFrame(pred_test)\n",
    "    pred_df.index = [home]\n",
    "    gt_df = pd.DataFrame(gt_test)\n",
    "    error = (gt_df-pred_df).abs().div(gt_df).mul(100)\n",
    "    accuracy_test = 100-error\n",
    "    accuracy_test[accuracy_test<0]=0\n",
    "\n",
    "    return pred_df, gt_df, accuracy_test.squeeze()"
   ]
  },
  {
   "cell_type": "code",
   "execution_count": 58,
   "metadata": {
    "collapsed": false
   },
   "outputs": [
    {
     "data": {
      "text/html": [
       "<div>\n",
       "<table border=\"1\" class=\"dataframe\">\n",
       "  <thead>\n",
       "    <tr style=\"text-align: right;\">\n",
       "      <th></th>\n",
       "      <th>aggregate_7</th>\n",
       "      <th>aggregate_8</th>\n",
       "      <th>aggregate_9</th>\n",
       "      <th>hvac_7</th>\n",
       "      <th>hvac_8</th>\n",
       "      <th>hvac_9</th>\n",
       "      <th>fridge_7</th>\n",
       "      <th>fridge_8</th>\n",
       "      <th>fridge_9</th>\n",
       "      <th>dw_7</th>\n",
       "      <th>dw_8</th>\n",
       "      <th>dw_9</th>\n",
       "      <th>mw_7</th>\n",
       "      <th>mw_8</th>\n",
       "      <th>mw_9</th>\n",
       "    </tr>\n",
       "  </thead>\n",
       "  <tbody>\n",
       "    <tr>\n",
       "      <th>54</th>\n",
       "      <td>0.265679</td>\n",
       "      <td>0.275405</td>\n",
       "      <td>0.167601</td>\n",
       "      <td>149.310196</td>\n",
       "      <td>158.417160</td>\n",
       "      <td>120.083450</td>\n",
       "      <td>37.834301</td>\n",
       "      <td>38.103199</td>\n",
       "      <td>28.727217</td>\n",
       "      <td>15.490267</td>\n",
       "      <td>14.173583</td>\n",
       "      <td>8.487300</td>\n",
       "      <td>7.218117</td>\n",
       "      <td>2.903950</td>\n",
       "      <td>1.892617</td>\n",
       "    </tr>\n",
       "    <tr>\n",
       "      <th>203</th>\n",
       "      <td>0.490503</td>\n",
       "      <td>0.397438</td>\n",
       "      <td>0.275920</td>\n",
       "      <td>258.869934</td>\n",
       "      <td>232.730652</td>\n",
       "      <td>174.584366</td>\n",
       "      <td>56.448948</td>\n",
       "      <td>44.765385</td>\n",
       "      <td>39.742134</td>\n",
       "      <td>0.599217</td>\n",
       "      <td>0.000667</td>\n",
       "      <td>0.545717</td>\n",
       "      <td>11.203717</td>\n",
       "      <td>9.830317</td>\n",
       "      <td>7.555984</td>\n",
       "    </tr>\n",
       "    <tr>\n",
       "      <th>1450</th>\n",
       "      <td>0.700644</td>\n",
       "      <td>0.935066</td>\n",
       "      <td>0.863948</td>\n",
       "      <td>296.445068</td>\n",
       "      <td>454.090759</td>\n",
       "      <td>469.634796</td>\n",
       "      <td>72.587753</td>\n",
       "      <td>54.018948</td>\n",
       "      <td>52.222767</td>\n",
       "      <td>19.510000</td>\n",
       "      <td>22.250017</td>\n",
       "      <td>19.913500</td>\n",
       "      <td>19.398167</td>\n",
       "      <td>26.427166</td>\n",
       "      <td>14.663067</td>\n",
       "    </tr>\n",
       "    <tr>\n",
       "      <th>1731</th>\n",
       "      <td>0.619553</td>\n",
       "      <td>0.627770</td>\n",
       "      <td>0.787347</td>\n",
       "      <td>289.619293</td>\n",
       "      <td>305.011932</td>\n",
       "      <td>390.342133</td>\n",
       "      <td>44.515667</td>\n",
       "      <td>45.955036</td>\n",
       "      <td>42.599567</td>\n",
       "      <td>4.947166</td>\n",
       "      <td>4.171333</td>\n",
       "      <td>5.398050</td>\n",
       "      <td>5.765916</td>\n",
       "      <td>6.296000</td>\n",
       "      <td>6.078183</td>\n",
       "    </tr>\n",
       "    <tr>\n",
       "      <th>2354</th>\n",
       "      <td>0.665513</td>\n",
       "      <td>0.595442</td>\n",
       "      <td>0.668042</td>\n",
       "      <td>350.511749</td>\n",
       "      <td>297.995850</td>\n",
       "      <td>309.096863</td>\n",
       "      <td>NaN</td>\n",
       "      <td>NaN</td>\n",
       "      <td>NaN</td>\n",
       "      <td>19.126434</td>\n",
       "      <td>18.484699</td>\n",
       "      <td>17.355982</td>\n",
       "      <td>22.555834</td>\n",
       "      <td>22.376900</td>\n",
       "      <td>18.119551</td>\n",
       "    </tr>\n",
       "  </tbody>\n",
       "</table>\n",
       "</div>"
      ],
      "text/plain": [
       "      aggregate_7  aggregate_8  aggregate_9      hvac_7      hvac_8  \\\n",
       "54       0.265679     0.275405     0.167601  149.310196  158.417160   \n",
       "203      0.490503     0.397438     0.275920  258.869934  232.730652   \n",
       "1450     0.700644     0.935066     0.863948  296.445068  454.090759   \n",
       "1731     0.619553     0.627770     0.787347  289.619293  305.011932   \n",
       "2354     0.665513     0.595442     0.668042  350.511749  297.995850   \n",
       "\n",
       "          hvac_9   fridge_7   fridge_8   fridge_9       dw_7       dw_8  \\\n",
       "54    120.083450  37.834301  38.103199  28.727217  15.490267  14.173583   \n",
       "203   174.584366  56.448948  44.765385  39.742134   0.599217   0.000667   \n",
       "1450  469.634796  72.587753  54.018948  52.222767  19.510000  22.250017   \n",
       "1731  390.342133  44.515667  45.955036  42.599567   4.947166   4.171333   \n",
       "2354  309.096863        NaN        NaN        NaN  19.126434  18.484699   \n",
       "\n",
       "           dw_9       mw_7       mw_8       mw_9  \n",
       "54     8.487300   7.218117   2.903950   1.892617  \n",
       "203    0.545717  11.203717   9.830317   7.555984  \n",
       "1450  19.913500  19.398167  26.427166  14.663067  \n",
       "1731   5.398050   5.765916   6.296000   6.078183  \n",
       "2354  17.355982  22.555834  22.376900  18.119551  "
      ]
     },
     "execution_count": 58,
     "metadata": {},
     "output_type": "execute_result"
    }
   ],
   "source": [
    "sd_df.head()"
   ]
  },
  {
   "cell_type": "code",
   "execution_count": 59,
   "metadata": {
    "collapsed": true
   },
   "outputs": [],
   "source": [
    "acc = {}"
   ]
  },
  {
   "cell_type": "code",
   "execution_count": 88,
   "metadata": {
    "collapsed": false
   },
   "outputs": [],
   "source": [
    "#for appliance in [\"hvac\",\"fridge\",\"dw\",\"mw\"]:\n",
    "for appliance in [\"hvac\"]:\n",
    "    if appliance in acc:\n",
    "        continue\n",
    "    else:\n",
    "        print appliance\n",
    "        acc[appliance] = {}\n",
    "        feature=\"Monthly\"\n",
    "        for home in sd_homes[appliance][:]:\n",
    "            try:\n",
    "                pred, gt, out_df = _find_accuracy(home, appliance, feature)\n",
    "                acc[appliance][home]=out_df\n",
    "                print home, acc[appliance][home].mean()\n",
    "            except Exeption, e:\n",
    "                print e"
   ]
  },
  {
   "cell_type": "code",
   "execution_count": 90,
   "metadata": {
    "collapsed": false
   },
   "outputs": [
    {
     "name": "stdout",
     "output_type": "stream",
     "text": [
      "hvac\n",
      "54 50.21534405\n",
      "203 45.3091693402\n",
      "1450 57.032153404\n",
      "1731 58.1122940741\n",
      "2354 55.0723223325\n",
      "2606 51.1103581125\n",
      "3687 60.1637189938\n",
      "3864 42.7000624811\n",
      "3938 11.030128323\n",
      "4083 31.3060359911\n",
      "4095 61.7265992074\n",
      "4934 8.9155980421\n",
      "5938 19.8095050808\n",
      "6377 10.1382620196\n",
      "6429 21.0262610203\n",
      "6547 11.3792140291\n",
      "7114 32.5719831651\n",
      "7409 32.1671225845\n",
      "7639 59.4824989292\n",
      "8061 63.9807903602\n",
      "8342 23.9003648723\n",
      "8574 30.1593127934\n",
      "8733 58.3224472247\n",
      "9213 30.6846688713\n",
      "9370 41.8046695629\n",
      "9585 36.6679035414\n",
      "9612 63.0649942488\n",
      "9775 28.644325829\n"
     ]
    }
   ],
   "source": [
    "acc = {}\n",
    "#for appliance in [\"hvac\",\"fridge\",\"dw\",\"mw\"]:\n",
    "for appliance in [\"hvac\"]:\n",
    "    if appliance in acc:\n",
    "        continue\n",
    "    else:\n",
    "        print appliance\n",
    "        acc[appliance] = {}\n",
    "        feature=\"Monthly\"\n",
    "        for home in sd_homes[appliance][:]:\n",
    "            try:\n",
    "                pred, gt, out_df = _find_accuracy(home, appliance, feature)\n",
    "                acc[appliance][home]=out_df\n",
    "                print home, acc[appliance][home].mean()\n",
    "            except Exeption, e:\n",
    "                print e"
   ]
  },
  {
   "cell_type": "code",
   "execution_count": 96,
   "metadata": {
    "collapsed": false
   },
   "outputs": [
    {
     "data": {
      "text/plain": [
       "7    44.749309\n",
       "8    45.141043\n",
       "9    27.591588\n",
       "dtype: float64"
      ]
     },
     "execution_count": 96,
     "metadata": {},
     "output_type": "execute_result"
    }
   ],
   "source": [
    "acc_hvac_df = pd.DataFrame(acc['hvac'])\n",
    "acc_hvac_df.T.mean()"
   ]
  },
  {
   "cell_type": "code",
   "execution_count": 98,
   "metadata": {
    "collapsed": false
   },
   "outputs": [
    {
     "data": {
      "text/plain": [
       "7    44.749309\n",
       "8    46.812934\n",
       "9    28.613499\n",
       "dtype: float64"
      ]
     },
     "execution_count": 98,
     "metadata": {},
     "output_type": "execute_result"
    }
   ],
   "source": [
    "acc_hvac_df.loc[9, 3938] = np.NaN\n",
    "acc_hvac_df.loc[8, 5938] = np.NaN\n",
    "acc_hvac_df.T.mean()"
   ]
  },
  {
   "cell_type": "code",
   "execution_count": 61,
   "metadata": {
    "collapsed": false
   },
   "outputs": [],
   "source": [
    "mean_across_months = {}\n",
    "for appliance in acc.keys():\n",
    "    if appliance ==\"hvac\":\n",
    "        mean_across_months[appliance] = pd.Series(acc[appliance])\n",
    "    else:\n",
    "        mean_across_months[appliance] = pd.DataFrame(acc[appliance])\n",
    "    \n",
    "\n",
    "mean_across_months['hvac'].ix[5938] = np.NaN\n",
    "#mean_across_months['hvac'].loc[9, 3938] = np.NaN\n",
    "\n",
    "for appliance in mean_across_months.keys():\n",
    "    if appliance!=\"hvac\":\n",
    "        mean_across_months[appliance] = mean_across_months[appliance].mean()\n",
    "    "
   ]
  },
  {
   "cell_type": "code",
   "execution_count": 100,
   "metadata": {
    "collapsed": false
   },
   "outputs": [
    {
     "data": {
      "text/plain": [
       "54      81.210960\n",
       "203     50.737098\n",
       "1450    54.651910\n",
       "1731    71.579131\n",
       "2354    60.952957\n",
       "2606    78.217286\n",
       "3687    55.787366\n",
       "3864    70.797060\n",
       "3938    33.090385\n",
       "4083     0.000000\n",
       "4095    48.854592\n",
       "4934     0.000000\n",
       "5938          NaN\n",
       "6377    34.235960\n",
       "6429     0.000000\n",
       "6547     0.000000\n",
       "7114    43.863030\n",
       "7409    98.336702\n",
       "7639    89.800570\n",
       "8061    99.156778\n",
       "8342     0.000000\n",
       "8574    96.513671\n",
       "8733    61.239382\n",
       "9213    16.457895\n",
       "9370    25.195088\n",
       "9585    75.415623\n",
       "9612    72.618676\n",
       "9775    85.978243\n",
       "dtype: float64"
      ]
     },
     "execution_count": 100,
     "metadata": {},
     "output_type": "execute_result"
    }
   ],
   "source": [
    "mean_across_months['hvac']"
   ]
  },
  {
   "cell_type": "code",
   "execution_count": 103,
   "metadata": {
    "collapsed": false
   },
   "outputs": [
    {
     "data": {
      "text/plain": [
       "7    44.749309\n",
       "8    46.812934\n",
       "9    28.613499\n",
       "dtype: float64"
      ]
     },
     "execution_count": 103,
     "metadata": {},
     "output_type": "execute_result"
    }
   ],
   "source": [
    "acc_hvac_df.T.mean()"
   ]
  },
  {
   "cell_type": "code",
   "execution_count": 62,
   "metadata": {
    "collapsed": false
   },
   "outputs": [
    {
     "data": {
      "text/plain": [
       "fridge    62.190316\n",
       "hvac      52.025569\n",
       "dtype: float64"
      ]
     },
     "execution_count": 62,
     "metadata": {},
     "output_type": "execute_result"
    }
   ],
   "source": [
    "pd.DataFrame(mean_across_months).mean()"
   ]
  },
  {
   "cell_type": "code",
   "execution_count": 38,
   "metadata": {
    "collapsed": false
   },
   "outputs": [
    {
     "data": {
      "text/plain": [
       "66.345456743663"
      ]
     },
     "execution_count": 38,
     "metadata": {},
     "output_type": "execute_result"
    }
   ],
   "source": [
    "pd.DataFrame(acc['fridge']).mean().mean()"
   ]
  },
  {
   "cell_type": "code",
   "execution_count": 24,
   "metadata": {
    "collapsed": false
   },
   "outputs": [
    {
     "data": {
      "text/plain": [
       "50.737098481969113"
      ]
     },
     "execution_count": 24,
     "metadata": {},
     "output_type": "execute_result"
    }
   ],
   "source": [
    "c"
   ]
  },
  {
   "cell_type": "code",
   "execution_count": 93,
   "metadata": {
    "collapsed": false
   },
   "outputs": [
    {
     "name": "stdout",
     "output_type": "stream",
     "text": [
      "fridge\n",
      "54 81.4529503361\n",
      "203 88.3003759185\n",
      "1450 70.540513228\n",
      "1731 31.2878602248\n",
      "3687 43.5346603354\n",
      "3864 92.6257022841\n",
      "3938 87.4032924211\n",
      "4083 83.8102816617\n",
      "4095 67.3482630646\n",
      "4495 88.1725944612\n",
      "4934 89.1231268574\n",
      "5938 94.2956159831\n",
      "6377 95.8902776279\n",
      "6429 71.5263009356\n",
      "6547 75.1006989373\n",
      "7062 78.8630367847\n",
      "7114 78.7667238394\n",
      "7409 67.3839950875\n",
      "7639 85.5327726612\n",
      "8061 82.1900061377\n",
      "8342 74.8583235184\n",
      "8574 87.1108981653\n",
      "8733 57.4837607388\n",
      "9213 83.4725887971\n",
      "9370 73.2653082508\n",
      "9585 71.8400537363\n",
      "9612 89.5059672631\n",
      "9775 88.6611605417\n"
     ]
    }
   ],
   "source": [
    "#for appliance in [\"hvac\",\"fridge\",\"dw\",\"mw\"]:\n",
    "for appliance in [\"fridge\"]:\n",
    "    if appliance in acc:\n",
    "        continue\n",
    "    else:\n",
    "        print appliance\n",
    "        acc[appliance] = {}\n",
    "        feature=\"Monthly\"\n",
    "        for home in all_homes[appliance][:]:\n",
    "            try:\n",
    "                pred, gt, out_df = _find_accuracy(home, appliance, feature)\n",
    "                acc[appliance][home]=out_df\n",
    "                print home, acc[appliance][home].mean()\n",
    "            except Exeption, e:\n",
    "                print e"
   ]
  },
  {
   "cell_type": "code",
   "execution_count": 94,
   "metadata": {
    "collapsed": false
   },
   "outputs": [],
   "source": [
    "mean_across_months = {}\n",
    "for appliance in acc.keys():\n",
    "    mean_across_months[appliance] = pd.DataFrame(acc[appliance])\n",
    "    \n",
    "\n",
    "mean_across_months['hvac'].loc[8, 5938] = np.NaN\n",
    "mean_across_months['hvac'].loc[9, 3938] = np.NaN\n",
    "\n",
    "for appliance in mean_across_months.keys():\n",
    "    mean_across_months[appliance] = mean_across_months[appliance].mean()\n",
    "    "
   ]
  },
  {
   "cell_type": "code",
   "execution_count": 95,
   "metadata": {
    "collapsed": false
   },
   "outputs": [
    {
     "data": {
      "text/plain": [
       "fridge    77.833825\n",
       "hvac      77.289600\n",
       "dtype: float64"
      ]
     },
     "execution_count": 95,
     "metadata": {},
     "output_type": "execute_result"
    }
   ],
   "source": [
    "pd.DataFrame(mean_across_months).mean()"
   ]
  },
  {
   "cell_type": "code",
   "execution_count": 92,
   "metadata": {
    "collapsed": false
   },
   "outputs": [
    {
     "data": {
      "text/plain": [
       "hvac    2.863358\n",
       "dtype: float64"
      ]
     },
     "execution_count": 92,
     "metadata": {},
     "output_type": "execute_result"
    }
   ],
   "source": [
    "pd.DataFrame(mean_across_months).sem()"
   ]
  },
  {
   "cell_type": "markdown",
   "metadata": {
    "collapsed": true
   },
   "source": [
    "### Now looking into homes with poor accuracy and finding the reasons for the same"
   ]
  },
  {
   "cell_type": "markdown",
   "metadata": {},
   "source": [
    "#### HVAC"
   ]
  },
  {
   "cell_type": "markdown",
   "metadata": {},
   "source": [
    "Home 4495"
   ]
  },
  {
   "cell_type": "code",
   "execution_count": 31,
   "metadata": {
    "collapsed": false
   },
   "outputs": [
    {
     "data": {
      "text/html": [
       "<div>\n",
       "<table border=\"1\" class=\"dataframe\">\n",
       "  <thead>\n",
       "    <tr style=\"text-align: right;\">\n",
       "      <th></th>\n",
       "      <th>hvac_6</th>\n",
       "      <th>hvac_7</th>\n",
       "      <th>hvac_8</th>\n",
       "      <th>hvac_9</th>\n",
       "    </tr>\n",
       "  </thead>\n",
       "  <tbody>\n",
       "    <tr>\n",
       "      <th>54</th>\n",
       "      <td>59.545918</td>\n",
       "      <td>149.310196</td>\n",
       "      <td>158.417160</td>\n",
       "      <td>120.083450</td>\n",
       "    </tr>\n",
       "    <tr>\n",
       "      <th>203</th>\n",
       "      <td>117.136047</td>\n",
       "      <td>258.869934</td>\n",
       "      <td>232.730652</td>\n",
       "      <td>174.584366</td>\n",
       "    </tr>\n",
       "    <tr>\n",
       "      <th>1450</th>\n",
       "      <td>122.322098</td>\n",
       "      <td>296.445068</td>\n",
       "      <td>454.090759</td>\n",
       "      <td>469.634796</td>\n",
       "    </tr>\n",
       "    <tr>\n",
       "      <th>1731</th>\n",
       "      <td>36.700634</td>\n",
       "      <td>289.619293</td>\n",
       "      <td>305.011932</td>\n",
       "      <td>390.342133</td>\n",
       "    </tr>\n",
       "    <tr>\n",
       "      <th>2354</th>\n",
       "      <td>57.677986</td>\n",
       "      <td>350.511749</td>\n",
       "      <td>297.995850</td>\n",
       "      <td>309.096863</td>\n",
       "    </tr>\n",
       "    <tr>\n",
       "      <th>2606</th>\n",
       "      <td>130.427185</td>\n",
       "      <td>286.592285</td>\n",
       "      <td>325.527496</td>\n",
       "      <td>420.435608</td>\n",
       "    </tr>\n",
       "    <tr>\n",
       "      <th>3687</th>\n",
       "      <td>112.662666</td>\n",
       "      <td>289.946289</td>\n",
       "      <td>325.588562</td>\n",
       "      <td>266.525909</td>\n",
       "    </tr>\n",
       "    <tr>\n",
       "      <th>3864</th>\n",
       "      <td>0.915483</td>\n",
       "      <td>125.890953</td>\n",
       "      <td>202.170044</td>\n",
       "      <td>321.311798</td>\n",
       "    </tr>\n",
       "    <tr>\n",
       "      <th>3938</th>\n",
       "      <td>0.002417</td>\n",
       "      <td>61.706448</td>\n",
       "      <td>68.106033</td>\n",
       "      <td>7.287033</td>\n",
       "    </tr>\n",
       "    <tr>\n",
       "      <th>4083</th>\n",
       "      <td>0.071050</td>\n",
       "      <td>66.353279</td>\n",
       "      <td>47.636971</td>\n",
       "      <td>43.062366</td>\n",
       "    </tr>\n",
       "    <tr>\n",
       "      <th>4095</th>\n",
       "      <td>183.728516</td>\n",
       "      <td>324.804688</td>\n",
       "      <td>371.791626</td>\n",
       "      <td>498.784088</td>\n",
       "    </tr>\n",
       "    <tr>\n",
       "      <th>4495</th>\n",
       "      <td>0.017150</td>\n",
       "      <td>15.522150</td>\n",
       "      <td>14.534184</td>\n",
       "      <td>32.405567</td>\n",
       "    </tr>\n",
       "    <tr>\n",
       "      <th>4934</th>\n",
       "      <td>0.053167</td>\n",
       "      <td>40.959435</td>\n",
       "      <td>34.317383</td>\n",
       "      <td>151.208252</td>\n",
       "    </tr>\n",
       "    <tr>\n",
       "      <th>5938</th>\n",
       "      <td>0.012117</td>\n",
       "      <td>0.017717</td>\n",
       "      <td>0.020883</td>\n",
       "      <td>68.053795</td>\n",
       "    </tr>\n",
       "    <tr>\n",
       "      <th>6377</th>\n",
       "      <td>0.000100</td>\n",
       "      <td>31.260134</td>\n",
       "      <td>68.576706</td>\n",
       "      <td>119.479034</td>\n",
       "    </tr>\n",
       "    <tr>\n",
       "      <th>6429</th>\n",
       "      <td>29.177700</td>\n",
       "      <td>49.736618</td>\n",
       "      <td>68.257019</td>\n",
       "      <td>64.115631</td>\n",
       "    </tr>\n",
       "    <tr>\n",
       "      <th>6547</th>\n",
       "      <td>0.000000</td>\n",
       "      <td>32.152950</td>\n",
       "      <td>76.174339</td>\n",
       "      <td>118.471451</td>\n",
       "    </tr>\n",
       "    <tr>\n",
       "      <th>7062</th>\n",
       "      <td>25.018316</td>\n",
       "      <td>16.174034</td>\n",
       "      <td>29.232233</td>\n",
       "      <td>21.188099</td>\n",
       "    </tr>\n",
       "    <tr>\n",
       "      <th>7114</th>\n",
       "      <td>0.000000</td>\n",
       "      <td>182.314209</td>\n",
       "      <td>249.434174</td>\n",
       "      <td>265.238800</td>\n",
       "    </tr>\n",
       "    <tr>\n",
       "      <th>7409</th>\n",
       "      <td>48.152950</td>\n",
       "      <td>61.922935</td>\n",
       "      <td>202.549576</td>\n",
       "      <td>226.390686</td>\n",
       "    </tr>\n",
       "    <tr>\n",
       "      <th>7639</th>\n",
       "      <td>86.229782</td>\n",
       "      <td>130.283997</td>\n",
       "      <td>90.846222</td>\n",
       "      <td>143.777542</td>\n",
       "    </tr>\n",
       "    <tr>\n",
       "      <th>8061</th>\n",
       "      <td>230.779663</td>\n",
       "      <td>315.256561</td>\n",
       "      <td>350.358429</td>\n",
       "      <td>319.625122</td>\n",
       "    </tr>\n",
       "    <tr>\n",
       "      <th>8342</th>\n",
       "      <td>0.000000</td>\n",
       "      <td>11.542366</td>\n",
       "      <td>7.634083</td>\n",
       "      <td>56.405499</td>\n",
       "    </tr>\n",
       "    <tr>\n",
       "      <th>8574</th>\n",
       "      <td>0.050100</td>\n",
       "      <td>55.605553</td>\n",
       "      <td>105.723518</td>\n",
       "      <td>172.534805</td>\n",
       "    </tr>\n",
       "    <tr>\n",
       "      <th>8733</th>\n",
       "      <td>17.050917</td>\n",
       "      <td>234.299011</td>\n",
       "      <td>282.283966</td>\n",
       "      <td>325.911987</td>\n",
       "    </tr>\n",
       "    <tr>\n",
       "      <th>9213</th>\n",
       "      <td>14.462017</td>\n",
       "      <td>81.591278</td>\n",
       "      <td>108.520370</td>\n",
       "      <td>151.750687</td>\n",
       "    </tr>\n",
       "    <tr>\n",
       "      <th>9370</th>\n",
       "      <td>357.991089</td>\n",
       "      <td>519.166382</td>\n",
       "      <td>543.011292</td>\n",
       "      <td>561.690918</td>\n",
       "    </tr>\n",
       "    <tr>\n",
       "      <th>9585</th>\n",
       "      <td>128.587814</td>\n",
       "      <td>191.078262</td>\n",
       "      <td>170.590775</td>\n",
       "      <td>219.887939</td>\n",
       "    </tr>\n",
       "    <tr>\n",
       "      <th>9612</th>\n",
       "      <td>200.878555</td>\n",
       "      <td>330.617310</td>\n",
       "      <td>379.253235</td>\n",
       "      <td>375.603882</td>\n",
       "    </tr>\n",
       "    <tr>\n",
       "      <th>9775</th>\n",
       "      <td>0.003683</td>\n",
       "      <td>0.002467</td>\n",
       "      <td>95.954834</td>\n",
       "      <td>203.961411</td>\n",
       "    </tr>\n",
       "  </tbody>\n",
       "</table>\n",
       "</div>"
      ],
      "text/plain": [
       "          hvac_6      hvac_7      hvac_8      hvac_9\n",
       "54     59.545918  149.310196  158.417160  120.083450\n",
       "203   117.136047  258.869934  232.730652  174.584366\n",
       "1450  122.322098  296.445068  454.090759  469.634796\n",
       "1731   36.700634  289.619293  305.011932  390.342133\n",
       "2354   57.677986  350.511749  297.995850  309.096863\n",
       "2606  130.427185  286.592285  325.527496  420.435608\n",
       "3687  112.662666  289.946289  325.588562  266.525909\n",
       "3864    0.915483  125.890953  202.170044  321.311798\n",
       "3938    0.002417   61.706448   68.106033    7.287033\n",
       "4083    0.071050   66.353279   47.636971   43.062366\n",
       "4095  183.728516  324.804688  371.791626  498.784088\n",
       "4495    0.017150   15.522150   14.534184   32.405567\n",
       "4934    0.053167   40.959435   34.317383  151.208252\n",
       "5938    0.012117    0.017717    0.020883   68.053795\n",
       "6377    0.000100   31.260134   68.576706  119.479034\n",
       "6429   29.177700   49.736618   68.257019   64.115631\n",
       "6547    0.000000   32.152950   76.174339  118.471451\n",
       "7062   25.018316   16.174034   29.232233   21.188099\n",
       "7114    0.000000  182.314209  249.434174  265.238800\n",
       "7409   48.152950   61.922935  202.549576  226.390686\n",
       "7639   86.229782  130.283997   90.846222  143.777542\n",
       "8061  230.779663  315.256561  350.358429  319.625122\n",
       "8342    0.000000   11.542366    7.634083   56.405499\n",
       "8574    0.050100   55.605553  105.723518  172.534805\n",
       "8733   17.050917  234.299011  282.283966  325.911987\n",
       "9213   14.462017   81.591278  108.520370  151.750687\n",
       "9370  357.991089  519.166382  543.011292  561.690918\n",
       "9585  128.587814  191.078262  170.590775  219.887939\n",
       "9612  200.878555  330.617310  379.253235  375.603882\n",
       "9775    0.003683    0.002467   95.954834  203.961411"
      ]
     },
     "execution_count": 31,
     "metadata": {},
     "output_type": "execute_result"
    }
   ],
   "source": [
    "df[['hvac_6', 'hvac_7','hvac_8','hvac_9']]"
   ]
  },
  {
   "cell_type": "code",
   "execution_count": 40,
   "metadata": {
    "collapsed": false
   },
   "outputs": [
    {
     "data": {
      "text/plain": [
       "8    45.642912\n",
       "9     0.000000\n",
       "Name: 3938, dtype: float64"
      ]
     },
     "execution_count": 40,
     "metadata": {},
     "output_type": "execute_result"
    }
   ],
   "source": [
    "home=3938\n",
    "appliance=\"hvac\"\n",
    "feature=\"Monthly\"\n",
    "pred, gt, out_df = _find_accuracy(home, appliance, feature)\n",
    "out_df"
   ]
  },
  {
   "cell_type": "code",
   "execution_count": 36,
   "metadata": {
    "collapsed": false
   },
   "outputs": [
    {
     "data": {
      "text/plain": [
       "<matplotlib.axes._subplots.AxesSubplot at 0x118831cd0>"
      ]
     },
     "execution_count": 36,
     "metadata": {},
     "output_type": "execute_result"
    },
    {
     "data": {
      "image/png": "[encoded data removed]",
      "text/plain": [
       "<matplotlib.figure.Figure at 0x11ad26ad0>"
      ]
     },
     "metadata": {},
     "output_type": "display_data"
    }
   ],
   "source": [
    "st['/3938'][['air1','use']]['2014'].plot()"
   ]
  },
  {
   "cell_type": "markdown",
   "metadata": {},
   "source": [
    "3938 was hardly used! "
   ]
  },
  {
   "cell_type": "code",
   "execution_count": 47,
   "metadata": {
    "collapsed": true
   },
   "outputs": [],
   "source": [
    "%matplotlib inline"
   ]
  },
  {
   "cell_type": "code",
   "execution_count": 49,
   "metadata": {
    "collapsed": false
   },
   "outputs": [
    {
     "data": {
      "text/plain": [
       "<matplotlib.axes._subplots.AxesSubplot at 0x123684c90>"
      ]
     },
     "execution_count": 49,
     "metadata": {},
     "output_type": "execute_result"
    },
    {
     "data": {
      "image/png": "[encoded data removed]",
      "text/plain": [
       "<matplotlib.figure.Figure at 0x123802910>"
      ]
     },
     "metadata": {},
     "output_type": "display_data"
    }
   ],
   "source": [
    "st['/7062'][['air1','use']]['2014'].plot()"
   ]
  },
  {
   "cell_type": "code",
   "execution_count": 52,
   "metadata": {
    "collapsed": false
   },
   "outputs": [
    {
     "data": {
      "text/plain": [
       "<matplotlib.axes._subplots.AxesSubplot at 0x123bf7f50>"
      ]
     },
     "execution_count": 52,
     "metadata": {},
     "output_type": "execute_result"
    },
    {
     "data": {
      "image/png": "[encoded data removed]",
      "text/plain": [
       "<matplotlib.figure.Figure at 0x126204650>"
      ]
     },
     "metadata": {},
     "output_type": "display_data"
    }
   ],
   "source": [
    "st['/4495'][['air1','use']]['8-1-2014':'10-1-2014'].plot()"
   ]
  },
  {
   "cell_type": "markdown",
   "metadata": {},
   "source": [
    "7062 has very less usgae and maybe is some data error. Should be removed from analysis!"
   ]
  },
  {
   "cell_type": "code",
   "execution_count": null,
   "metadata": {
    "collapsed": true
   },
   "outputs": [],
   "source": [
    "5938- Put np.NaN on 8th month\n",
    "7062-  Exclude from set of homes\n",
    "3938- Put np.NaN on 9th month\n",
    "4495- Hardly used. Exclude from set of home\n"
   ]
  },
  {
   "cell_type": "code",
   "execution_count": 96,
   "metadata": {
    "collapsed": false
   },
   "outputs": [
    {
     "data": {
      "text/html": [
       "<div>\n",
       "<table border=\"1\" class=\"dataframe\">\n",
       "  <thead>\n",
       "    <tr style=\"text-align: right;\">\n",
       "      <th></th>\n",
       "      <th>fridge_6</th>\n",
       "      <th>fridge_7</th>\n",
       "      <th>fridge_8</th>\n",
       "      <th>fridge_9</th>\n",
       "    </tr>\n",
       "  </thead>\n",
       "  <tbody>\n",
       "    <tr>\n",
       "      <th>54</th>\n",
       "      <td>37.451565</td>\n",
       "      <td>37.834301</td>\n",
       "      <td>38.103199</td>\n",
       "      <td>28.727217</td>\n",
       "    </tr>\n",
       "    <tr>\n",
       "      <th>203</th>\n",
       "      <td>48.030052</td>\n",
       "      <td>56.448948</td>\n",
       "      <td>44.765385</td>\n",
       "      <td>39.742134</td>\n",
       "    </tr>\n",
       "    <tr>\n",
       "      <th>1450</th>\n",
       "      <td>65.856636</td>\n",
       "      <td>72.587753</td>\n",
       "      <td>54.018948</td>\n",
       "      <td>52.222767</td>\n",
       "    </tr>\n",
       "    <tr>\n",
       "      <th>1731</th>\n",
       "      <td>40.344700</td>\n",
       "      <td>44.515667</td>\n",
       "      <td>45.955036</td>\n",
       "      <td>42.599567</td>\n",
       "    </tr>\n",
       "    <tr>\n",
       "      <th>2354</th>\n",
       "      <td>NaN</td>\n",
       "      <td>NaN</td>\n",
       "      <td>NaN</td>\n",
       "      <td>NaN</td>\n",
       "    </tr>\n",
       "    <tr>\n",
       "      <th>2606</th>\n",
       "      <td>NaN</td>\n",
       "      <td>NaN</td>\n",
       "      <td>NaN</td>\n",
       "      <td>NaN</td>\n",
       "    </tr>\n",
       "    <tr>\n",
       "      <th>3687</th>\n",
       "      <td>133.440353</td>\n",
       "      <td>140.171219</td>\n",
       "      <td>138.987930</td>\n",
       "      <td>130.501511</td>\n",
       "    </tr>\n",
       "    <tr>\n",
       "      <th>3864</th>\n",
       "      <td>37.346516</td>\n",
       "      <td>42.800053</td>\n",
       "      <td>41.861118</td>\n",
       "      <td>41.774750</td>\n",
       "    </tr>\n",
       "    <tr>\n",
       "      <th>3938</th>\n",
       "      <td>36.528286</td>\n",
       "      <td>47.456169</td>\n",
       "      <td>42.763733</td>\n",
       "      <td>41.923233</td>\n",
       "    </tr>\n",
       "    <tr>\n",
       "      <th>4083</th>\n",
       "      <td>32.956615</td>\n",
       "      <td>36.872147</td>\n",
       "      <td>39.073502</td>\n",
       "      <td>29.292915</td>\n",
       "    </tr>\n",
       "    <tr>\n",
       "      <th>4095</th>\n",
       "      <td>49.173897</td>\n",
       "      <td>54.190117</td>\n",
       "      <td>53.989353</td>\n",
       "      <td>57.148182</td>\n",
       "    </tr>\n",
       "    <tr>\n",
       "      <th>4495</th>\n",
       "      <td>32.737949</td>\n",
       "      <td>38.342331</td>\n",
       "      <td>37.574615</td>\n",
       "      <td>31.981199</td>\n",
       "    </tr>\n",
       "    <tr>\n",
       "      <th>4934</th>\n",
       "      <td>40.456734</td>\n",
       "      <td>46.545300</td>\n",
       "      <td>47.705502</td>\n",
       "      <td>49.117332</td>\n",
       "    </tr>\n",
       "    <tr>\n",
       "      <th>5938</th>\n",
       "      <td>32.998417</td>\n",
       "      <td>39.197617</td>\n",
       "      <td>39.642899</td>\n",
       "      <td>39.130619</td>\n",
       "    </tr>\n",
       "    <tr>\n",
       "      <th>6377</th>\n",
       "      <td>30.025551</td>\n",
       "      <td>45.789684</td>\n",
       "      <td>44.248383</td>\n",
       "      <td>42.736286</td>\n",
       "    </tr>\n",
       "    <tr>\n",
       "      <th>6429</th>\n",
       "      <td>28.588633</td>\n",
       "      <td>31.103666</td>\n",
       "      <td>31.539383</td>\n",
       "      <td>32.880466</td>\n",
       "    </tr>\n",
       "    <tr>\n",
       "      <th>6547</th>\n",
       "      <td>45.794350</td>\n",
       "      <td>53.767200</td>\n",
       "      <td>57.578934</td>\n",
       "      <td>54.092384</td>\n",
       "    </tr>\n",
       "    <tr>\n",
       "      <th>7062</th>\n",
       "      <td>55.288052</td>\n",
       "      <td>60.868149</td>\n",
       "      <td>59.011002</td>\n",
       "      <td>58.031464</td>\n",
       "    </tr>\n",
       "    <tr>\n",
       "      <th>7114</th>\n",
       "      <td>44.924698</td>\n",
       "      <td>53.669350</td>\n",
       "      <td>57.185566</td>\n",
       "      <td>50.539551</td>\n",
       "    </tr>\n",
       "    <tr>\n",
       "      <th>7409</th>\n",
       "      <td>34.293766</td>\n",
       "      <td>36.291332</td>\n",
       "      <td>34.090565</td>\n",
       "      <td>33.392464</td>\n",
       "    </tr>\n",
       "    <tr>\n",
       "      <th>7639</th>\n",
       "      <td>60.525299</td>\n",
       "      <td>52.448719</td>\n",
       "      <td>48.454536</td>\n",
       "      <td>33.127998</td>\n",
       "    </tr>\n",
       "    <tr>\n",
       "      <th>8061</th>\n",
       "      <td>56.423000</td>\n",
       "      <td>55.340351</td>\n",
       "      <td>64.459785</td>\n",
       "      <td>63.170616</td>\n",
       "    </tr>\n",
       "    <tr>\n",
       "      <th>8342</th>\n",
       "      <td>54.985050</td>\n",
       "      <td>48.282650</td>\n",
       "      <td>50.160351</td>\n",
       "      <td>51.046383</td>\n",
       "    </tr>\n",
       "    <tr>\n",
       "      <th>8574</th>\n",
       "      <td>38.935684</td>\n",
       "      <td>41.632103</td>\n",
       "      <td>45.137283</td>\n",
       "      <td>34.093185</td>\n",
       "    </tr>\n",
       "    <tr>\n",
       "      <th>8733</th>\n",
       "      <td>42.980865</td>\n",
       "      <td>54.469883</td>\n",
       "      <td>51.590866</td>\n",
       "      <td>48.656670</td>\n",
       "    </tr>\n",
       "    <tr>\n",
       "      <th>9213</th>\n",
       "      <td>38.938015</td>\n",
       "      <td>33.772385</td>\n",
       "      <td>39.643650</td>\n",
       "      <td>45.341198</td>\n",
       "    </tr>\n",
       "    <tr>\n",
       "      <th>9370</th>\n",
       "      <td>75.944130</td>\n",
       "      <td>67.395706</td>\n",
       "      <td>78.385605</td>\n",
       "      <td>72.779678</td>\n",
       "    </tr>\n",
       "    <tr>\n",
       "      <th>9585</th>\n",
       "      <td>37.564552</td>\n",
       "      <td>37.693565</td>\n",
       "      <td>35.180080</td>\n",
       "      <td>34.730515</td>\n",
       "    </tr>\n",
       "    <tr>\n",
       "      <th>9612</th>\n",
       "      <td>60.186001</td>\n",
       "      <td>63.204685</td>\n",
       "      <td>68.760323</td>\n",
       "      <td>64.887070</td>\n",
       "    </tr>\n",
       "    <tr>\n",
       "      <th>9775</th>\n",
       "      <td>32.729198</td>\n",
       "      <td>45.165234</td>\n",
       "      <td>49.203285</td>\n",
       "      <td>52.186234</td>\n",
       "    </tr>\n",
       "  </tbody>\n",
       "</table>\n",
       "</div>"
      ],
      "text/plain": [
       "        fridge_6    fridge_7    fridge_8    fridge_9\n",
       "54     37.451565   37.834301   38.103199   28.727217\n",
       "203    48.030052   56.448948   44.765385   39.742134\n",
       "1450   65.856636   72.587753   54.018948   52.222767\n",
       "1731   40.344700   44.515667   45.955036   42.599567\n",
       "2354         NaN         NaN         NaN         NaN\n",
       "2606         NaN         NaN         NaN         NaN\n",
       "3687  133.440353  140.171219  138.987930  130.501511\n",
       "3864   37.346516   42.800053   41.861118   41.774750\n",
       "3938   36.528286   47.456169   42.763733   41.923233\n",
       "4083   32.956615   36.872147   39.073502   29.292915\n",
       "4095   49.173897   54.190117   53.989353   57.148182\n",
       "4495   32.737949   38.342331   37.574615   31.981199\n",
       "4934   40.456734   46.545300   47.705502   49.117332\n",
       "5938   32.998417   39.197617   39.642899   39.130619\n",
       "6377   30.025551   45.789684   44.248383   42.736286\n",
       "6429   28.588633   31.103666   31.539383   32.880466\n",
       "6547   45.794350   53.767200   57.578934   54.092384\n",
       "7062   55.288052   60.868149   59.011002   58.031464\n",
       "7114   44.924698   53.669350   57.185566   50.539551\n",
       "7409   34.293766   36.291332   34.090565   33.392464\n",
       "7639   60.525299   52.448719   48.454536   33.127998\n",
       "8061   56.423000   55.340351   64.459785   63.170616\n",
       "8342   54.985050   48.282650   50.160351   51.046383\n",
       "8574   38.935684   41.632103   45.137283   34.093185\n",
       "8733   42.980865   54.469883   51.590866   48.656670\n",
       "9213   38.938015   33.772385   39.643650   45.341198\n",
       "9370   75.944130   67.395706   78.385605   72.779678\n",
       "9585   37.564552   37.693565   35.180080   34.730515\n",
       "9612   60.186001   63.204685   68.760323   64.887070\n",
       "9775   32.729198   45.165234   49.203285   52.186234"
      ]
     },
     "execution_count": 96,
     "metadata": {},
     "output_type": "execute_result"
    }
   ],
   "source": [
    "df[['fridge_6', 'fridge_7','fridge_8','fridge_9']]"
   ]
  },
  {
   "cell_type": "code",
   "execution_count": 65,
   "metadata": {
    "collapsed": false
   },
   "outputs": [
    {
     "data": {
      "text/plain": [
       "28"
      ]
     },
     "execution_count": 65,
     "metadata": {},
     "output_type": "execute_result"
    }
   ],
   "source": [
    "len(sd_homes['fridge'])"
   ]
  },
  {
   "cell_type": "code",
   "execution_count": 66,
   "metadata": {
    "collapsed": false
   },
   "outputs": [
    {
     "data": {
      "text/plain": [
       "28"
      ]
     },
     "execution_count": 66,
     "metadata": {},
     "output_type": "execute_result"
    }
   ],
   "source": [
    "len(sd_homes['hvac'])"
   ]
  },
  {
   "cell_type": "code",
   "execution_count": 67,
   "metadata": {
    "collapsed": false
   },
   "outputs": [
    {
     "data": {
      "text/plain": [
       "19"
      ]
     },
     "execution_count": 67,
     "metadata": {},
     "output_type": "execute_result"
    }
   ],
   "source": [
    "len(bo_homes['hvac'])"
   ]
  },
  {
   "cell_type": "code",
   "execution_count": 68,
   "metadata": {
    "collapsed": false
   },
   "outputs": [
    {
     "data": {
      "text/plain": [
       "29"
      ]
     },
     "execution_count": 68,
     "metadata": {},
     "output_type": "execute_result"
    }
   ],
   "source": [
    "len(bo_homes['fridge'])"
   ]
  },
  {
   "cell_type": "code",
   "execution_count": 70,
   "metadata": {
    "collapsed": true
   },
   "outputs": [],
   "source": [
    "import matplotlib.pyplot as plt\n",
    "import sys\n",
    "sys.path.append(\"../code/\")\n",
    "from common_functions import tableau20blind, format_axes"
   ]
  },
  {
   "cell_type": "code",
   "execution_count": 72,
   "metadata": {
    "collapsed": true
   },
   "outputs": [],
   "source": [
    "%matplotlib inline"
   ]
  },
  {
   "cell_type": "code",
   "execution_count": 86,
   "metadata": {
    "collapsed": false
   },
   "outputs": [
    {
     "data": {
      "image/png": "[encoded data removed]",
      "text/plain": [
       "<matplotlib.figure.Figure at 0x11c85d890>"
      ]
     },
     "metadata": {},
     "output_type": "display_data"
    }
   ],
   "source": [
    "pd.Series(bo_df[['fridge_7','fridge_8','fridge_9']].dropna().values.flatten()).hist(label=\"Boulder\",color=tableau20blind[0],\n",
    "                                                                                    alpha=0.6, bins=10, range=(0,160))\n",
    "plt.grid(False)\n",
    "format_axes(plt.gca())\n",
    "plt.xlabel(\"Monthly fridge energy consumption (kWh)\")\n",
    "\n",
    "plt.ylabel(\"# Homes\")\n",
    "ax = plt.gca()\n",
    "pd.Series(sd_df[['fridge_7','fridge_8','fridge_9']].dropna().values.flatten()).hist(label=\"San Diego\",color=tableau20blind[2],\n",
    "                                                                                    ax=ax, alpha=0.6, bins=10, range=(0,160))\n",
    "plt.grid(False)\n",
    "format_axes(plt.gca())\n",
    "plt.xlabel(\"Monthly fridge energy consumption (kWh)\")\n",
    "\n",
    "plt.ylabel(\"# Homes\")\n",
    "plt.legend()\n",
    "\n",
    "plt.savefig(\"../results/fridge_hist.png\")"
   ]
  },
  {
   "cell_type": "code",
   "execution_count": null,
   "metadata": {
    "collapsed": true
   },
   "outputs": [],
   "source": [
    "pd.Series(bo_df[['hvac_7','hvac_8','hvac_9']].dropna().values.flatten()).hist(label=\"Boulder\",color=tableau20blind[0],\n",
    "                                                                                    alpha=0.6, bins=10, range=(0,160))\n",
    "plt.grid(False)\n",
    "format_axes(plt.gca())\n",
    "plt.xlabel(\"Monthly fridge energy consumption (kWh)\")\n",
    "\n",
    "plt.ylabel(\"# Homes\")\n",
    "ax = plt.gca()\n",
    "pd.Series(sd_df[['fridge_7','fridge_8','fridge_9']].dropna().values.flatten()).hist(label=\"San Diego\",color=tableau20blind[2],\n",
    "                                                                                    ax=ax, alpha=0.6, bins=10, range=(0,160))\n",
    "plt.grid(False)\n",
    "format_axes(plt.gca())\n",
    "plt.xlabel(\"Monthly fridge energy consumption (kWh)\")\n",
    "\n",
    "plt.ylabel(\"# Homes\")\n",
    "plt.legend()\n",
    "\n",
    "#plt.savefig(\"../results/fridge_hist.png\")"
   ]
  },
  {
   "cell_type": "code",
   "execution_count": 110,
   "metadata": {
    "collapsed": false
   },
   "outputs": [
    {
     "data": {
      "text/plain": [
       "<matplotlib.axes._subplots.AxesSubplot at 0x11e976f10>"
      ]
     },
     "execution_count": 110,
     "metadata": {},
     "output_type": "execute_result"
    },
    {
     "data": {
      "image/png": "[encoded data removed]",
      "text/plain": [
       "<matplotlib.figure.Figure at 0x11e4a3390>"
      ]
     },
     "metadata": {},
     "output_type": "display_data"
    },
    {
     "data": {
      "image/png": "[encoded data removed]",
      "text/plain": [
       "<matplotlib.figure.Figure at 0x11e40a3d0>"
      ]
     },
     "metadata": {},
     "output_type": "display_data"
    }
   ],
   "source": [
    "bo_df[['hvac_7','hvac_8','hvac_9']].plot(kind=\"box\")\n",
    "sd_df[['hvac_7','hvac_8','hvac_9']].plot(kind=\"box\")\n"
   ]
  },
  {
   "cell_type": "code",
   "execution_count": 113,
   "metadata": {
    "collapsed": false
   },
   "outputs": [
    {
     "data": {
      "text/plain": [
       "array([[<matplotlib.axes._subplots.AxesSubplot object at 0x120415f10>,\n",
       "        <matplotlib.axes._subplots.AxesSubplot object at 0x120478110>],\n",
       "       [<matplotlib.axes._subplots.AxesSubplot object at 0x12071d550>,\n",
       "        <matplotlib.axes._subplots.AxesSubplot object at 0x11ee63750>]], dtype=object)"
      ]
     },
     "execution_count": 113,
     "metadata": {},
     "output_type": "execute_result"
    },
    {
     "data": {
      "image/png": "[encoded data removed]",
      "text/plain": [
       "<matplotlib.figure.Figure at 0x11e83db50>"
      ]
     },
     "metadata": {},
     "output_type": "display_data"
    },
    {
     "data": {
      "image/png": "[encoded data removed]",
      "text/plain": [
       "<matplotlib.figure.Figure at 0x120042d10>"
      ]
     },
     "metadata": {},
     "output_type": "display_data"
    }
   ],
   "source": [
    "sd_df[['hvac_7','hvac_8','hvac_9']].hist(color=tableau20blind[0])\n",
    "bo_df[['hvac_7','hvac_8','hvac_9']].hist(color=tableau20blind[2])"
   ]
  },
  {
   "cell_type": "code",
   "execution_count": 114,
   "metadata": {
    "collapsed": false
   },
   "outputs": [
    {
     "data": {
      "text/plain": [
       "hvac_7    128.087475\n",
       "hvac_8    164.503967\n",
       "hvac_9    189.272888\n",
       "dtype: float64"
      ]
     },
     "execution_count": 114,
     "metadata": {},
     "output_type": "execute_result"
    }
   ],
   "source": [
    "sd_df[['hvac_7','hvac_8','hvac_9']].median()"
   ]
  },
  {
   "cell_type": "code",
   "execution_count": 115,
   "metadata": {
    "collapsed": false
   },
   "outputs": [
    {
     "data": {
      "text/plain": [
       "hvac_7    110.235119\n",
       "hvac_8     71.588776\n",
       "hvac_9      7.072908\n",
       "dtype: float64"
      ]
     },
     "execution_count": 115,
     "metadata": {},
     "output_type": "execute_result"
    }
   ],
   "source": [
    "bo_df[['hvac_7','hvac_8','hvac_9']].median()"
   ]
  },
  {
   "cell_type": "code",
   "execution_count": null,
   "metadata": {
    "collapsed": true
   },
   "outputs": [],
   "source": []
  }
 ],
 "metadata": {
  "kernelspec": {
   "display_name": "Python 2",
   "language": "python",
   "name": "python2"
  },
  "language_info": {
   "codemirror_mode": {
    "name": "ipython",
    "version": 2
   },
   "file_extension": ".py",
   "mimetype": "text/x-python",
   "name": "python",
   "nbconvert_exporter": "python",
   "pygments_lexer": "ipython2",
   "version": "2.7.11"
  }
 },
 "nbformat": 4,
 "nbformat_minor": 0
}
