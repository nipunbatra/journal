{
 "cells": [
  {
   "cell_type": "code",
   "execution_count": 3,
   "metadata": {
    "collapsed": true
   },
   "outputs": [],
   "source": [
    "import numpy as np"
   ]
  },
  {
   "cell_type": "code",
   "execution_count": 4,
   "metadata": {
    "collapsed": false
   },
   "outputs": [],
   "source": [
    "sd_sd_regional = {'dw': np.nan,\n",
    " 'ec': np.nan,\n",
    " 'fridge': 62.580455545730025,\n",
    " 'hvac': 28.922443762452996,\n",
    " 'mw': np.nan,\n",
    " 'oven': np.nan,\n",
    " 'wh': np.nan,\n",
    " 'wm': 63.725160364750081}"
   ]
  },
  {
   "cell_type": "code",
   "execution_count": 5,
   "metadata": {
    "collapsed": false
   },
   "outputs": [
    {
     "data": {
      "text/plain": [
       "{'dw': nan,\n",
       " 'ec': nan,\n",
       " 'fridge': 62.580455545730025,\n",
       " 'hvac': 28.922443762452996,\n",
       " 'mw': nan,\n",
       " 'oven': nan,\n",
       " 'wh': nan,\n",
       " 'wm': 63.72516036475008}"
      ]
     },
     "execution_count": 5,
     "metadata": {},
     "output_type": "execute_result"
    }
   ],
   "source": [
    "sd_sd_regional"
   ]
  },
  {
   "cell_type": "code",
   "execution_count": 60,
   "metadata": {
    "collapsed": true
   },
   "outputs": [],
   "source": [
    "sd_sd_same = {5: {'dw': 33.28493021585736,\n",
    "  'ec': {},\n",
    "  'fridge': 74.42166192247326,\n",
    "  'hvac': 58.80417211549856,\n",
    "  'mw': 58.19057276308345,\n",
    "  'oven': 36.3779647867681,\n",
    "  'wh': {},\n",
    "  'wm': 63.50696003013005},\n",
    " 10: {'dw': 34.00160794092105,\n",
    "  'ec': {},\n",
    "  'fridge': 76.41845108988541,\n",
    "  'hvac': 58.77096198295694,\n",
    "  'mw': 54.6755790573958,\n",
    "  'oven': 38.41082572076917,\n",
    "  'wh': {},\n",
    "  'wm': 60.64315554672743},\n",
    " 15: {'dw': 29.704808538961696,\n",
    "  'ec': {},\n",
    "  'fridge': 76.24698187284245,\n",
    "  'hvac': 60.309246718950746,\n",
    "  'mw': 56.41362122840383,\n",
    "  'oven': 39.902977420943564,\n",
    "  'wh': {},\n",
    "  'wm': 67.69774450832838},\n",
    " 20: {'dw': 31.62697787119264,\n",
    "  'ec': {},\n",
    "  'fridge': 76.55109325897128,\n",
    "  'hvac': 60.13317175988219,\n",
    "  'mw': 52.50693470974149,\n",
    "  'oven': 38.94420039264168,\n",
    "  'wh': {},\n",
    "  'wm': 63.82399806392507},\n",
    " 25: {'dw': 30.927943378296742,\n",
    "  'ec': {},\n",
    "  'fridge': 76.02069722325251,\n",
    "  'hvac': 61.15227662923648,\n",
    "  'mw': 50.32517445607546,\n",
    "  'oven': 42.56668101850506,\n",
    "  'wh': {},\n",
    "  'wm': 64.18008734269652},\n",
    " 30: {'dw': 29.842941614925063,\n",
    "  'ec': {},\n",
    "  'fridge': 76.6275534285373,\n",
    "  'hvac': 60.89538838201967,\n",
    "  'mw': 48.6182230208069,\n",
    "  'oven': 43.25268584042631,\n",
    "  'wh': {},\n",
    "  'wm': 63.17554461607637},\n",
    " 35: {'dw': 29.96729363214933,\n",
    "  'ec': {},\n",
    "  'fridge': 75.69386926797836,\n",
    "  'hvac': 62.15780529445267,\n",
    "  'mw': 45.78389484206698,\n",
    "  'oven': 45.394601148622584,\n",
    "  'wh': {},\n",
    "  'wm': 63.82398144376628},\n",
    " 40: {'dw': 28.03110736880362,\n",
    "  'ec': {},\n",
    "  'fridge': 75.01311087428837,\n",
    "  'hvac': 61.741448784169805,\n",
    "  'mw': 47.246437300998785,\n",
    "  'oven': 44.98827049978874,\n",
    "  'wh': {},\n",
    "  'wm': 63.990536426806784},\n",
    " 45: {'dw': {},\n",
    "  'ec': {},\n",
    "  'fridge': {},\n",
    "  'hvac': {},\n",
    "  'mw': {},\n",
    "  'oven': {},\n",
    "  'wh': {},\n",
    "  'wm': {}}}"
   ]
  },
  {
   "cell_type": "code",
   "execution_count": 61,
   "metadata": {
    "collapsed": true
   },
   "outputs": [],
   "source": [
    "sd_sd_cross = {5: {'dw': 31.163363724217582,\n",
    "  'ec': {},\n",
    "  'fridge': 68.3683490553582,\n",
    "  'hvac': 48.69515133216194,\n",
    "  'mw': 64.92667334327678,\n",
    "  'oven': 45.40791175084994,\n",
    "  'wh': {},\n",
    "  'wm': 65.5928672538121},\n",
    " 10: {'dw': 31.65685520440937,\n",
    "  'ec': {},\n",
    "  'fridge': 71.51662398269873,\n",
    "  'hvac': 48.39297435446688,\n",
    "  'mw': 66.22679539859952,\n",
    "  'oven': 47.07962897234933,\n",
    "  'wh': {},\n",
    "  'wm': 64.41207840059815},\n",
    " 15: {'dw': 33.03378386520497,\n",
    "  'ec': {},\n",
    "  'fridge': 74.747721703175,\n",
    "  'hvac': 47.46684123210179,\n",
    "  'mw': 69.27538794139728,\n",
    "  'oven': 44.79966540431774,\n",
    "  'wh': {},\n",
    "  'wm': 69.09174492877061},\n",
    " 20: {'dw': 35.275385058431524,\n",
    "  'ec': {},\n",
    "  'fridge': 76.17101365401734,\n",
    "  'hvac': 47.730278443809745,\n",
    "  'mw': 67.39748784676316,\n",
    "  'oven': 47.52095315990864,\n",
    "  'wh': {},\n",
    "  'wm': 73.2861361806261},\n",
    " 25: {'dw': 33.196739650352086,\n",
    "  'ec': {},\n",
    "  'fridge': 76.45465091708041,\n",
    "  'hvac': 49.35356691979275,\n",
    "  'mw': 66.99858014785683,\n",
    "  'oven': 48.24911547733982,\n",
    "  'wh': {},\n",
    "  'wm': 73.81773115102821},\n",
    " 30: {'dw': 34.03312783387223,\n",
    "  'ec': {},\n",
    "  'fridge': 76.679404963937,\n",
    "  'hvac': 46.80261299283751,\n",
    "  'mw': 67.05016215072098,\n",
    "  'oven': 46.901196783274735,\n",
    "  'wh': {},\n",
    "  'wm': 68.7286600301634},\n",
    " 35: {'dw': 32.17260998582399,\n",
    "  'ec': {},\n",
    "  'fridge': 76.57641422378201,\n",
    "  'hvac': 49.27790125113116,\n",
    "  'mw': 66.32391557806096,\n",
    "  'oven': 45.461062922236486,\n",
    "  'wh': {},\n",
    "  'wm': 75.29695450522554},\n",
    " 40: {'dw': 33.55009506295909,\n",
    "  'ec': {},\n",
    "  'fridge': 76.80103991467287,\n",
    "  'hvac': 49.122449049232294,\n",
    "  'mw': 66.4407041961291,\n",
    "  'oven': 46.86237276165159,\n",
    "  'wh': {},\n",
    "  'wm': 70.22201985903146},\n",
    " 45: {'dw': 32.6369383064804,\n",
    "  'ec': {},\n",
    "  'fridge': 76.75397121224302,\n",
    "  'hvac': 49.888297451768615,\n",
    "  'mw': 66.35702851356653,\n",
    "  'oven': 47.4699678000021,\n",
    "  'wh': {},\n",
    "  'wm': 70.46496897954927}}"
   ]
  },
  {
   "cell_type": "code",
   "execution_count": 7,
   "metadata": {
    "collapsed": true
   },
   "outputs": [],
   "source": [
    "sd_sd_nilm = {'dw': 0.5577280933464502,\n",
    " 'ec': np.nan,\n",
    " 'fridge': 50.985555403149746,\n",
    " 'hvac': 42.2544186457132,\n",
    " 'mw': 3.681773127817756,\n",
    " 'oven': 7.0739244574788955,\n",
    " 'wh': np.nan,\n",
    " 'wm': 1.1108455368999053}"
   ]
  },
  {
   "cell_type": "code",
   "execution_count": 12,
   "metadata": {
    "collapsed": true
   },
   "outputs": [],
   "source": [
    "%matplotlib inline\n",
    "import matplotlib.pyplot as plt\n",
    "import pandas as pd"
   ]
  },
  {
   "cell_type": "code",
   "execution_count": 17,
   "metadata": {
    "collapsed": false
   },
   "outputs": [
    {
     "data": {
      "text/plain": [
       "<matplotlib.axes._subplots.AxesSubplot at 0x114e0b650>"
      ]
     },
     "execution_count": 17,
     "metadata": {},
     "output_type": "execute_result"
    },
    {
     "data": {
      "image/png": "[encoded data removed]",
      "text/plain": [
       "<matplotlib.figure.Figure at 0x114d6fd50>"
      ]
     },
     "metadata": {},
     "output_type": "display_data"
    }
   ],
   "source": [
    "pd.Series(sd_sd_nilm).plot(kind=\"bar\")"
   ]
  },
  {
   "cell_type": "code",
   "execution_count": 37,
   "metadata": {
    "collapsed": true
   },
   "outputs": [],
   "source": [
    "def remove_brackets(d):\n",
    "    from copy import deepcopy\n",
    "    e = deepcopy(d)\n",
    "    for num, num_results in d.iteritems():\n",
    "        for appliance_name, appliance_val in num_results.iteritems():\n",
    "            if isinstance(appliance_val, dict):\n",
    "                e[num][appliance_name] = np.NAN\n",
    "    return e\n",
    "        "
   ]
  },
  {
   "cell_type": "code",
   "execution_count": 62,
   "metadata": {
    "collapsed": false
   },
   "outputs": [],
   "source": [
    "sd_sd_same = remove_brackets(sd_sd_same)\n",
    "sd_sd_cross = remove_brackets(sd_sd_cross)"
   ]
  },
  {
   "cell_type": "code",
   "execution_count": 86,
   "metadata": {
    "collapsed": false
   },
   "outputs": [
    {
     "data": {
      "image/png": "[encoded data removed]",
      "text/plain": [
       "<matplotlib.figure.Figure at 0x11d84f250>"
      ]
     },
     "metadata": {},
     "output_type": "display_data"
    }
   ],
   "source": [
    "fig, ax = plt.subplots(ncols=6, sharey=True, figsize=(16,4))\n",
    "for i,appliance in enumerate([\"dw\",'hvac','fridge','wm','mw','oven']):\n",
    "    \n",
    "    pd.DataFrame(sd_sd_same).ix[appliance].T.plot(kind=\"line\",label=\"Our approach (SD training)\",ax=ax[i])\n",
    "    pd.DataFrame(sd_sd_cross).ix[appliance].T.plot(kind=\"line\",label=\"Our approach (Austin training)\",ax=ax[i])\n",
    "    pd.Series(sd_sd_nilm[appliance], index=pd.DataFrame(sd_sd_ours).ix[appliance].index).plot(ax=ax[i], label=\"NILM\")\n",
    "    pd.Series(sd_sd_regional[appliance], index=pd.DataFrame(sd_sd_ours).ix[appliance].index).plot(ax=ax[i], label=\"Regional average\")\n",
    "   \n",
    "\n",
    "    ax[i].set_xlabel(\"# homes\")\n",
    "    ax[i].set_ylabel(\"Accuracy\")\n",
    "    ax[i].set_title(appliance)\n",
    "plt.legend(loc='center left', bbox_to_anchor=(1.0, 0.5))\n",
    "plt.savefig('../results/sd_main.png',bbox_inches=\"tight\")"
   ]
  },
  {
   "cell_type": "code",
   "execution_count": 87,
   "metadata": {
    "collapsed": true
   },
   "outputs": [],
   "source": [
    "austin_austin_same = {5: {'dw': 38.419887092221423,\n",
    "  'ec': 50.346354811176184,\n",
    "  'fridge': 64.723856563235216,\n",
    "  'hvac': 69.264845457696183,\n",
    "  'mw': 37.737544247082333,\n",
    "  'oven': 45.961520401204012,\n",
    "  'wh': 50.687211610597771,\n",
    "  'wm': 41.814621455392754},\n",
    " 10: {'dw': 39.461490128435642,\n",
    "  'ec': 49.758814554096915,\n",
    "  'fridge': 67.312256420418052,\n",
    "  'hvac': 70.115605156300916,\n",
    "  'mw': 37.483890124123214,\n",
    "  'oven': 46.3545101188883,\n",
    "  'wh': 53.505094173719769,\n",
    "  'wm': 42.237776635534324},\n",
    " 15: {'dw': 39.011942070922309,\n",
    "  'ec': 55.04069317413105,\n",
    "  'fridge': 69.647432175806586,\n",
    "  'hvac': 65.337897539121371,\n",
    "  'mw': 36.781516836886937,\n",
    "  'oven': 48.709741034112,\n",
    "  'wh': 54.279929427842809,\n",
    "  'wm': 43.793841667707689},\n",
    " 20: {'dw': 41.356287838498389,\n",
    "  'ec': 53.346266559907733,\n",
    "  'fridge': 71.072759576980559,\n",
    "  'hvac': 69.481872866363929,\n",
    "  'mw': 35.697035049264294,\n",
    "  'oven': 40.551815698945724,\n",
    "  'wh': 45.523277763980268,\n",
    "  'wm': 48.653581975770344},\n",
    " 25: {'dw': 48.193982576444746,\n",
    "  'ec': 56.68761660334858,\n",
    "  'fridge': 68.226812772466914,\n",
    "  'hvac': 74.527116985351483,\n",
    "  'mw': 43.011178720063718,\n",
    "  'oven': 41.069286404436212,\n",
    "  'wh': 53.442227626055939,\n",
    "  'wm': 42.31939947985682},\n",
    " 30: {'dw': 46.230016664616109,\n",
    "  'ec': 56.071617136581132,\n",
    "  'fridge': 67.136025155340221,\n",
    "  'hvac': 68.892824684111474,\n",
    "  'mw': 46.508690411382986,\n",
    "  'oven': 44.323781997720467,\n",
    "  'wh': 61.330523785807308,\n",
    "  'wm': 46.148634782824566},\n",
    " 35: {'dw': 44.643452590828069,\n",
    "  'ec': 48.646412478508644,\n",
    "  'fridge': 68.724358869872063,\n",
    "  'hvac': 70.725999879710628,\n",
    "  'mw': 36.401412574390974,\n",
    "  'oven': 37.00868207677194,\n",
    "  'wh': 44.565880127982318,\n",
    "  'wm': 52.824886599643463},\n",
    " 40: {'dw': 43.930912058373536,\n",
    "  'ec': 50.675507258143234,\n",
    "  'fridge': 68.496429111514487,\n",
    "  'hvac': 73.627188480590647,\n",
    "  'mw': 38.479061016234951,\n",
    "  'oven': 46.484592441840249,\n",
    "  'wh': 54.501775683374873,\n",
    "  'wm': 43.320923718031302},\n",
    " 45: {'dw': 47.332888861811512,\n",
    "  'ec': 56.566777691055364,\n",
    "  'fridge': 66.79482823606773,\n",
    "  'hvac': 76.267216050687324,\n",
    "  'mw': 37.87970415725335,\n",
    "  'oven': 46.251751968436139,\n",
    "  'wh': 50.888993680978615,\n",
    "  'wm': 53.708830874868227}}"
   ]
  },
  {
   "cell_type": "code",
   "execution_count": 88,
   "metadata": {
    "collapsed": true
   },
   "outputs": [],
   "source": [
    "austin_austin_regional = {'dw': 28.18928520332849,\n",
    " 'ec': np.NAN,\n",
    " 'fridge': 51.706230261017986,\n",
    " 'hvac': 60.272488807691126,\n",
    " 'mw': np.NAN,\n",
    " 'oven': np.NAN,\n",
    " 'wh': 49.79520208221603,\n",
    " 'wm': 21.318855036986747}"
   ]
  },
  {
   "cell_type": "code",
   "execution_count": 89,
   "metadata": {
    "collapsed": true
   },
   "outputs": [],
   "source": [
    "austin_austin_nilm = {'dw': 0.2785754646785667,\n",
    " 'ec': np.NAN,\n",
    " 'fridge': 53.15558262517974,\n",
    " 'hvac': 60.423992969632025,\n",
    " 'mw': 3.3594100938387794,\n",
    " 'oven': 0.44467711946446686,\n",
    " 'wh': np.NAN,\n",
    " 'wm': 1.3666039865794135}"
   ]
  },
  {
   "cell_type": "code",
   "execution_count": 90,
   "metadata": {
    "collapsed": true
   },
   "outputs": [],
   "source": [
    "austin_austin_cross = {5: {'dw': 37.960458198374894,\n",
    "  'ec': {},\n",
    "  'fridge': 64.76362094341022,\n",
    "  'hvac': 66.32756501202243,\n",
    "  'mw': 37.88154323312126,\n",
    "  'oven': 48.34674664512399,\n",
    "  'wh': {},\n",
    "  'wm': 62.951343028787115},\n",
    " 10: {'dw': 45.068135322330036,\n",
    "  'ec': {},\n",
    "  'fridge': 66.20988662456708,\n",
    "  'hvac': 65.20457286202432,\n",
    "  'mw': 39.89135818496025,\n",
    "  'oven': 47.666080481982064,\n",
    "  'wh': {},\n",
    "  'wm': 45.53759730891556},\n",
    " 15: {'dw': 43.54126836976916,\n",
    "  'ec': {},\n",
    "  'fridge': 67.88527638053282,\n",
    "  'hvac': 69.56604124567875,\n",
    "  'mw': 38.775461960495726,\n",
    "  'oven': 44.917714146844965,\n",
    "  'wh': {},\n",
    "  'wm': 53.56076963588028},\n",
    " 20: {'dw': 40.11018297532194,\n",
    "  'ec': {},\n",
    "  'fridge': 69.0788555603983,\n",
    "  'hvac': 68.88633564545256,\n",
    "  'mw': 32.419421532326275,\n",
    "  'oven': 44.20226292681022,\n",
    "  'wh': {},\n",
    "  'wm': 50.000116941895044},\n",
    " 25: {'dw': 40.2505307601151,\n",
    "  'ec': {},\n",
    "  'fridge': 69.34045616627252,\n",
    "  'hvac': 71.6102494134285,\n",
    "  'mw': 32.64817664516288,\n",
    "  'oven': 46.03403118483005,\n",
    "  'wh': {},\n",
    "  'wm': 50.05390256578085},\n",
    " 30: {'dw': 40.50921996310964,\n",
    "  'ec': {},\n",
    "  'fridge': 74.9629201868133,\n",
    "  'hvac': 68.4997588456792,\n",
    "  'mw': 35.57867254197248,\n",
    "  'oven': 40.15535514438124,\n",
    "  'wh': {},\n",
    "  'wm': 51.017618630660444},\n",
    " 35: {'dw': 39.80363161171875,\n",
    "  'ec': {},\n",
    "  'fridge': 73.07812564147028,\n",
    "  'hvac': 70.92960858528814,\n",
    "  'mw': 38.66227219706251,\n",
    "  'oven': 50.3230260560265,\n",
    "  'wh': {},\n",
    "  'wm': 54.579374512624206},\n",
    " 40: {'dw': 37.689812117392734,\n",
    "  'ec': {},\n",
    "  'fridge': 71.35425248166028,\n",
    "  'hvac': 64.52414322716518,\n",
    "  'mw': 34.90971714294953,\n",
    "  'oven': 43.729975841651346,\n",
    "  'wh': {},\n",
    "  'wm': 47.74155042311917},\n",
    " 45: {'dw': {},\n",
    "  'ec': {},\n",
    "  'fridge': {},\n",
    "  'hvac': {},\n",
    "  'mw': {},\n",
    "  'oven': {},\n",
    "  'wh': {},\n",
    "  'wm': {}}}"
   ]
  },
  {
   "cell_type": "code",
   "execution_count": 91,
   "metadata": {
    "collapsed": true
   },
   "outputs": [],
   "source": [
    "austin_austin_cross = remove_brackets(austin_austin_cross)"
   ]
  },
  {
   "cell_type": "code",
   "execution_count": 94,
   "metadata": {
    "collapsed": false
   },
   "outputs": [
    {
     "data": {
      "image/png": "[encoded data removed]",
      "text/plain": [
       "<matplotlib.figure.Figure at 0x11e991c90>"
      ]
     },
     "metadata": {},
     "output_type": "display_data"
    }
   ],
   "source": [
    "fig, ax = plt.subplots(ncols=8, sharey=True, figsize=(16,4))\n",
    "for i,appliance in enumerate([\"dw\",'hvac','fridge','wm','mw','oven','ec','wh']):\n",
    "    \n",
    "    pd.DataFrame(austin_austin_same).ix[appliance].T.plot(kind=\"line\",label=\"Our approach (Austin training)\",ax=ax[i])\n",
    "    pd.DataFrame(austin_austin_cross).ix[appliance].T.plot(kind=\"line\",label=\"Our approach (SanDiego training)\",ax=ax[i])\n",
    "    pd.Series(austin_austin_nilm[appliance], index=pd.DataFrame(sd_sd_ours).ix[appliance].index).plot(ax=ax[i], label=\"NILM\")\n",
    "    pd.Series(austin_austin_regional[appliance], index=pd.DataFrame(sd_sd_ours).ix[appliance].index).plot(ax=ax[i], label=\"Regional average\")\n",
    "   \n",
    "\n",
    "    ax[i].set_xlabel(\"# homes\")\n",
    "    ax[i].set_ylabel(\"Accuracy\")\n",
    "    ax[i].set_title(appliance)\n",
    "plt.legend(loc='center left', bbox_to_anchor=(1.0, 0.5))\n",
    "plt.savefig('../results/austin_main.png',bbox_inches=\"tight\")"
   ]
  },
  {
   "cell_type": "code",
   "execution_count": null,
   "metadata": {
    "collapsed": true
   },
   "outputs": [],
   "source": []
  }
 ],
 "metadata": {
  "kernelspec": {
   "display_name": "Python 2",
   "language": "python",
   "name": "python2"
  },
  "language_info": {
   "codemirror_mode": {
    "name": "ipython",
    "version": 2
   },
   "file_extension": ".py",
   "mimetype": "text/x-python",
   "name": "python",
   "nbconvert_exporter": "python",
   "pygments_lexer": "ipython2",
   "version": "2.7.11"
  }
 },
 "nbformat": 4,
 "nbformat_minor": 0
}
