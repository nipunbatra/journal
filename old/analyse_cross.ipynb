{
 "cells": [
  {
   "cell_type": "code",
   "execution_count": 2,
   "metadata": {
    "collapsed": false
   },
   "outputs": [],
   "source": [
    "import pandas as pd\n",
    "import numpy as np\n"
   ]
  },
  {
   "cell_type": "code",
   "execution_count": 3,
   "metadata": {
    "collapsed": true
   },
   "outputs": [],
   "source": [
    "train_region = \"SanDiego\"\n",
    "test_region = \"Austin\"\n",
    "appliance = \"hvac\"\n",
    "feature = \"Monthly\"\n",
    "strategy_list = [\"None\",\"CDD\",\"median-aggregate\"][:]\n",
    "import glob"
   ]
  },
  {
   "cell_type": "code",
   "execution_count": 51,
   "metadata": {
    "collapsed": false
   },
   "outputs": [],
   "source": [
    "out = {}\n",
    "for train_region in [\"Austin\"]:\n",
    "    for strategy in strategy_list:\n",
    "        try:\n",
    "            directory = '../data/output/cross/%s_%s_%s_%s_%s/' % (train_region, \n",
    "                                                                    test_region,\n",
    "                                                                     strategy,\n",
    "                                                                    appliance,\n",
    "\n",
    "                                                                   feature)\n",
    "            home_files = glob.glob(directory+\"*.csv\")\n",
    "            out[strategy] = {}\n",
    "            homes = []\n",
    "            for home_file in home_files:\n",
    "                home = int(home_file.split(\"/\")[-1][:-4])\n",
    "                homes.append(home)\n",
    "                df = pd.read_csv(home_file, index_col=0, header=None).squeeze()\n",
    "                df.index.name = \"Month\"\n",
    "                out[strategy][home]=df\n",
    "        except:\n",
    "            pass"
   ]
  },
  {
   "cell_type": "code",
   "execution_count": 53,
   "metadata": {
    "collapsed": false
   },
   "outputs": [
    {
     "name": "stdout",
     "output_type": "stream",
     "text": [
      " None Month          7          8          9\n",
      "count  75.000000  75.000000  75.000000\n",
      "mean   71.776474  72.043512  71.672302\n",
      "std    26.389427  25.097198  24.315080\n",
      "min     0.000000   0.000000   0.000000\n",
      "25%    67.697537  68.169101  62.386509\n",
      "50%    80.580559  79.691417  77.879811\n",
      "75%    87.467709  89.803283  88.318212\n",
      "max    99.484391  97.582407  99.810983\n"
     ]
    }
   ],
   "source": [
    "for strategy in ['None']:\n",
    "    print strategy, pd.DataFrame(out[strategy]).T.describe()"
   ]
  },
  {
   "cell_type": "code",
   "execution_count": 45,
   "metadata": {
    "collapsed": false
   },
   "outputs": [],
   "source": [
    "acc={strategy:pd.DataFrame(out[strategy]).mean(axis=1) for strategy in strategy_list}\n",
    "\n",
    "\n"
   ]
  },
  {
   "cell_type": "code",
   "execution_count": 46,
   "metadata": {
    "collapsed": true
   },
   "outputs": [],
   "source": [
    "%matplotlib inline"
   ]
  },
  {
   "cell_type": "code",
   "execution_count": 83,
   "metadata": {
    "collapsed": false
   },
   "outputs": [
    {
     "data": {
      "text/html": [
       "<div>\n",
       "<table border=\"1\" class=\"dataframe\">\n",
       "  <thead>\n",
       "    <tr style=\"text-align: right;\">\n",
       "      <th></th>\n",
       "      <th>CDD</th>\n",
       "      <th>None</th>\n",
       "      <th>median-aggregate</th>\n",
       "    </tr>\n",
       "    <tr>\n",
       "      <th>Month</th>\n",
       "      <th></th>\n",
       "      <th></th>\n",
       "      <th></th>\n",
       "    </tr>\n",
       "  </thead>\n",
       "  <tbody>\n",
       "    <tr>\n",
       "      <th>7</th>\n",
       "      <td>71.054210</td>\n",
       "      <td>62.707704</td>\n",
       "      <td>58.593951</td>\n",
       "    </tr>\n",
       "    <tr>\n",
       "      <th>8</th>\n",
       "      <td>70.592257</td>\n",
       "      <td>61.967676</td>\n",
       "      <td>66.618140</td>\n",
       "    </tr>\n",
       "    <tr>\n",
       "      <th>9</th>\n",
       "      <td>58.666374</td>\n",
       "      <td>68.680513</td>\n",
       "      <td>69.847450</td>\n",
       "    </tr>\n",
       "  </tbody>\n",
       "</table>\n",
       "</div>"
      ],
      "text/plain": [
       "             CDD       None  median-aggregate\n",
       "Month                                        \n",
       "7      71.054210  62.707704         58.593951\n",
       "8      70.592257  61.967676         66.618140\n",
       "9      58.666374  68.680513         69.847450"
      ]
     },
     "execution_count": 83,
     "metadata": {},
     "output_type": "execute_result"
    }
   ],
   "source": [
    "acc_df = pd.DataFrame(acc)\n",
    "#acc_df.plot(kind=\"bar\",rot=0)\n",
    "acc_df\n",
    "acc_df"
   ]
  },
  {
   "cell_type": "code",
   "execution_count": 84,
   "metadata": {
    "collapsed": false
   },
   "outputs": [],
   "source": [
    "acc_df['Train on Austin'] = pd.Series({7:72,8:72,9:72})"
   ]
  },
  {
   "cell_type": "code",
   "execution_count": 85,
   "metadata": {
    "collapsed": false
   },
   "outputs": [],
   "source": [
    "acc_df = acc_df.rename(columns={'None':'Train on SD, No transformation'})"
   ]
  },
  {
   "cell_type": "code",
   "execution_count": 86,
   "metadata": {
    "collapsed": false
   },
   "outputs": [],
   "source": [
    "acc_df = acc_df.rename(columns={'CDD':'Train on SD, Transformation by CDD'})"
   ]
  },
  {
   "cell_type": "code",
   "execution_count": 87,
   "metadata": {
    "collapsed": false
   },
   "outputs": [],
   "source": [
    "acc_df = acc_df.rename(columns={'median-aggregate':'Train on SD, Transformation by median'})"
   ]
  },
  {
   "cell_type": "code",
   "execution_count": 88,
   "metadata": {
    "collapsed": false
   },
   "outputs": [
    {
     "data": {
      "text/plain": [
       "Index([u'Train on SD, Transformation by CDD',\n",
       "       u'Train on SD, No transformation',\n",
       "       u'Train on SD, Transformation by median', u'Train on Austin'],\n",
       "      dtype='object')"
      ]
     },
     "execution_count": 88,
     "metadata": {},
     "output_type": "execute_result"
    }
   ],
   "source": [
    "acc_df.columns"
   ]
  },
  {
   "cell_type": "code",
   "execution_count": 89,
   "metadata": {
    "collapsed": false
   },
   "outputs": [],
   "source": [
    "acc_df = acc_df[['Train on SD, No transformation','Train on SD, Transformation by CDD',\n",
    "                 'Train on SD, Transformation by median','Train on Austin']]"
   ]
  },
  {
   "cell_type": "code",
   "execution_count": 91,
   "metadata": {
    "collapsed": true
   },
   "outputs": [],
   "source": [
    "import sys\n",
    "sys.path.append(\"../code/\")"
   ]
  },
  {
   "cell_type": "code",
   "execution_count": 95,
   "metadata": {
    "collapsed": true
   },
   "outputs": [],
   "source": [
    "from common_functions import tableau20blind, format_axes"
   ]
  },
  {
   "cell_type": "code",
   "execution_count": 100,
   "metadata": {
    "collapsed": false
   },
   "outputs": [],
   "source": [
    "acc_df['Regional average'] = pd.Series({7:46, 8:42, 9:51})"
   ]
  },
  {
   "cell_type": "code",
   "execution_count": 103,
   "metadata": {
    "collapsed": false
   },
   "outputs": [],
   "source": [
    "acc_df = acc_df[['Regional average', u'Train on SD, No transformation',\n",
    "       u'Train on SD, Transformation by CDD',\n",
    "       u'Train on SD, Transformation by median', u'Train on Austin']]"
   ]
  },
  {
   "cell_type": "code",
   "execution_count": 104,
   "metadata": {
    "collapsed": false
   },
   "outputs": [
    {
     "data": {
      "image/png": "[encoded data removed]",
      "text/plain": [
       "<matplotlib.figure.Figure at 0x11a35a710>"
      ]
     },
     "metadata": {},
     "output_type": "display_data"
    }
   ],
   "source": [
    "import matplotlib.pyplot as plt\n",
    "acc_df.plot(kind=\"bar\",rot=0, colors=tableau20blind[::2]).legend(loc=3)\n",
    "format_axes(plt.gca())\n",
    "plt.savefig(\"../results/cross_hvac_sd_austin.pdf\")\n",
    "plt.savefig(\"../results/cross_hvac_sd_austin.png\")"
   ]
  },
  {
   "cell_type": "code",
   "execution_count": null,
   "metadata": {
    "collapsed": true
   },
   "outputs": [],
   "source": []
  }
 ],
 "metadata": {
  "kernelspec": {
   "display_name": "Python 2",
   "language": "python",
   "name": "python2"
  },
  "language_info": {
   "codemirror_mode": {
    "name": "ipython",
    "version": 2
   },
   "file_extension": ".py",
   "mimetype": "text/x-python",
   "name": "python",
   "nbconvert_exporter": "python",
   "pygments_lexer": "ipython2",
   "version": "2.7.11"
  }
 },
 "nbformat": 4,
 "nbformat_minor": 0
}
