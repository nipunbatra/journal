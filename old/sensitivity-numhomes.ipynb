{
 "cells": [
  {
   "cell_type": "markdown",
   "metadata": {},
   "source": [
    "This notebook find the sensitivity of Gemello to the number of homes"
   ]
  },
  {
   "cell_type": "code",
   "execution_count": 1,
   "metadata": {},
   "outputs": [
    {
     "name": "stderr",
     "output_type": "stream",
     "text": [
      "Vendor:  Continuum Analytics, Inc.\n",
      "Package: mkl\n",
      "Message: trial mode expires in 24 days\n"
     ]
    }
   ],
   "source": [
    "import pandas as pd"
   ]
  },
  {
   "cell_type": "code",
   "execution_count": 2,
   "metadata": {},
   "outputs": [],
   "source": [
    "sensitivity_numhomes_dir = \"../data/output/sensitivity-numhomes/\""
   ]
  },
  {
   "cell_type": "code",
   "execution_count": 3,
   "metadata": {},
   "outputs": [],
   "source": [
    "appliance_homes={\"hvac\":33,\"fridge\":21,\"dr\":26,\"wm\":16,\"dw\":32,\"light\":12}"
   ]
  },
  {
   "cell_type": "code",
   "execution_count": 4,
   "metadata": {},
   "outputs": [],
   "source": [
    "appliances = [\"hvac\",\"fridge\",\"dr\"]\n",
    "out = {}\n",
    "count=0\n",
    "for appliance in appliances:\n",
    "    out[appliance]={}\n",
    "    for feature in [\"Monthly\",\"Static\", \"Monthly+Static\"]:\n",
    "        out[appliance][feature]={}\n",
    "        appliance_max =appliance_homes[appliance]\n",
    "        for num_homes in range(7, appliance_max, 2):\n",
    "            out[appliance][feature][num_homes] = {}\n",
    "            t = []\n",
    "            for start_seed in range(0, 100, 1):\n",
    "                stop_seed = start_seed+1\n",
    "                try:\n",
    "                    t.append(pd.read_csv(\"%s%s_%d_%d_%d_%s.csv\" %(sensitivity_numhomes_dir, appliance, \n",
    "                                                                               num_homes, \n",
    "                                                                               start_seed, \n",
    "                                                                              stop_seed,\n",
    "                                                                              feature), index_col=0,header=None, names=['a'] ))\n",
    "                except:\n",
    "                    count=count+1\n",
    "            out[appliance][feature][num_homes] = pd.concat(t)"
   ]
  },
  {
   "cell_type": "code",
   "execution_count": 5,
   "metadata": {},
   "outputs": [],
   "source": [
    "means = {}\n",
    "sems = {}\n",
    "for appliance in [\"hvac\",\"dr\",\"fridge\"]:\n",
    "    means[appliance] = {}\n",
    "    sems[appliance] = {}\n",
    "    for feature in [\"Monthly\",\"Static\", \"Monthly+Static\"]:\n",
    "        means[appliance][feature] ={}\n",
    "        sems[appliance][feature] ={}\n",
    "        for num_homes in range(7, appliance_homes[appliance], 2):\n",
    "            means[appliance][feature][num_homes] = out[appliance][feature][num_homes].mean(axis=1).mean()\n",
    "            sems[appliance][feature][num_homes] = out[appliance][feature][num_homes].mean(axis=1).sem()"
   ]
  },
  {
   "cell_type": "code",
   "execution_count": 6,
   "metadata": {},
   "outputs": [],
   "source": [
    "import matplotlib.pyplot as plt"
   ]
  },
  {
   "cell_type": "code",
   "execution_count": 7,
   "metadata": {},
   "outputs": [],
   "source": [
    "%matplotlib inline"
   ]
  },
  {
   "cell_type": "code",
   "execution_count": 8,
   "metadata": {},
   "outputs": [],
   "source": [
    "from common_functions import latexify, format_axes"
   ]
  },
  {
   "cell_type": "code",
   "execution_count": 9,
   "metadata": {},
   "outputs": [
    {
     "name": "stderr",
     "output_type": "stream",
     "text": [
      "/Users/nipunbatra/anaconda/lib/python2.7/site-packages/matplotlib/__init__.py:872: UserWarning: axes.color_cycle is deprecated and replaced with axes.prop_cycle; please use the latter.\n",
      "  warnings.warn(self.msg_depr % (key, alt_key))\n",
      "/Users/nipunbatra/anaconda/lib/python2.7/site-packages/matplotlib/__init__.py:872: UserWarning: text.fontsize is deprecated and replaced with font.size; please use the latter.\n",
      "  warnings.warn(self.msg_depr % (key, alt_key))\n"
     ]
    }
   ],
   "source": [
    "latexify()"
   ]
  },
  {
   "cell_type": "code",
   "execution_count": 10,
   "metadata": {},
   "outputs": [],
   "source": [
    "to_use_feature = {'dr': 'Monthly+Static',\n",
    " 'dw': 'Monthly+Static',\n",
    " 'fridge': 'Monthly+Static',\n",
    " 'hvac': 'Monthly',\n",
    " 'light': 'Static',\n",
    " 'wm': 'Static'}"
   ]
  },
  {
   "cell_type": "code",
   "execution_count": 11,
   "metadata": {},
   "outputs": [],
   "source": [
    "appliance_name_map = {\"fridge\":\"Fridge\",\"hvac\":\"HVAC\",\"wm\":\"Washing\\nmachine\",\n",
    "                      \"dr\":\"Dryer\",\"dw\":\"Dish\\nwasher\",\"light\":\"Lights\"}"
   ]
  },
  {
   "cell_type": "code",
   "execution_count": 12,
   "metadata": {},
   "outputs": [
    {
     "data": {
      "text/plain": [
       "<matplotlib.text.Text at 0x10f020450>"
      ]
     },
     "execution_count": 12,
     "output_type": "execute_result",
     "metadata": {}
    },
    {
     "data": {
      "image/png": "[encoded data removed]"
     },
     "output_type": "display_data",
     "metadata": {}
    }
   ],
   "source": [
    "latexify(fig_height=2)\n",
    "tableau20blind =  [(31, 119, 180), (174, 199, 232), (255, 127, 14), (255, 187, 120),  \n",
    "             (44, 160, 44), (152, 223, 138), (214, 39, 40), (255, 152, 150),  \n",
    "             (148, 103, 189), (197, 176, 213), (140, 86, 75), (196, 156, 148),  \n",
    "             (227, 119, 194), (247, 182, 210), (127, 127, 127), (199, 199, 199),  \n",
    "             (188, 189, 34), (219, 219, 141), (23, 190, 207), (158, 218, 229)]\n",
    "  \n",
    "# Rescale to values between 0 and 1\n",
    "for i in range(len(tableau20blind)):  \n",
    "    r, g, b = tableau20blind[i]  \n",
    "    tableau20blind[i] = (r / 255., g / 255., b / 255.)\n",
    "\n",
    "for i, appliance in enumerate([\"fridge\",\"hvac\"]):\n",
    "    means_df = pd.DataFrame(means[appliance])\n",
    "    sems_df = pd.DataFrame(sems[appliance])\n",
    "    feature = to_use_feature[appliance]\n",
    "    plt.errorbar(means_df[feature].index, means_df[feature].values, marker='.',\n",
    "                 yerr=sems_df[feature].values, label=appliance_name_map[appliance], color=tableau20blind[i*2])\n",
    "#.plot(kind='line',rot=0, colors=tableau20blind[::2])\n",
    "plt.ylim((0, 80))\n",
    "format_axes(plt.gca())\n",
    "plt.legend(loc=4)\n",
    "#plt.ylim((62, 78))\n",
    "plt.ylim((55, 80))\n",
    "plt.xlim((5, 33))\n",
    "plt.ylabel(\"Energy Accuracy (\\%)\\n(Higher is better)\")\n",
    "plt.xlabel(\"Number of submetered homes\")\n",
    "#plt.savefig(\"/Users/nipunbatra/git/monthly-disaggregation/results/sensitivity-num-homes.pdf\", bbox_inches=\"tight\")\n",
    "#plt.savefig(\"/Users/nipunbatra/git/monthly-disaggregation/results/sensitivity-num-homes.png\", bbox_inches=\"tight\")"
   ]
  }
 ],
 "metadata": {
  "kernelspec": {
   "display_name": "Python 2",
   "language": "python",
   "name": "python2"
  },
  "language_info": {
   "codemirror_mode": {
    "name": "ipython",
    "version": 2.0
   },
   "file_extension": ".py",
   "mimetype": "text/x-python",
   "name": "python",
   "nbconvert_exporter": "python",
   "pygments_lexer": "ipython2",
   "version": "2.7.11"
  }
 },
 "nbformat": 4,
 "nbformat_minor": 0
}