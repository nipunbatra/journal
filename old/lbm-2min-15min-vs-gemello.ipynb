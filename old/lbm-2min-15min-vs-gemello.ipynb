{
 "cells": [
  {
   "cell_type": "markdown",
   "metadata": {},
   "source": [
    "This notebook compares the performance of Gemello with LBM at 2 mins and 15 mins"
   ]
  },
  {
   "cell_type": "code",
   "execution_count": 1,
   "metadata": {},
   "outputs": [
    {
     "name": "stderr",
     "output_type": "stream",
     "text": [
      "Vendor:  Continuum Analytics, Inc.\n",
      "Package: mkl\n",
      "Message: trial mode expires in 24 days\n"
     ]
    }
   ],
   "source": [
    "from create_df import read_df\n",
    "df, dfc, all_homes, appliance_min, national_average = read_df()"
   ]
  },
  {
   "cell_type": "code",
   "execution_count": 2,
   "metadata": {},
   "outputs": [],
   "source": [
    "import nilmtk\n",
    "import pandas as pd\n",
    "import numpy as np\n",
    "import matplotlib.pyplot as plt\n",
    "from collections import OrderedDict\n",
    "import warnings"
   ]
  },
  {
   "cell_type": "code",
   "execution_count": 3,
   "metadata": {},
   "outputs": [],
   "source": [
    "warnings.filterwarnings(\"ignore\")"
   ]
  },
  {
   "cell_type": "code",
   "execution_count": 4,
   "metadata": {},
   "outputs": [],
   "source": [
    "from nilmtk import *\n",
    "import os\n",
    "import nilmtk"
   ]
  },
  {
   "cell_type": "code",
   "execution_count": 5,
   "metadata": {},
   "outputs": [],
   "source": [
    "st = pd.HDFStore(\"/Users/nipunbatra/Downloads/wiki-temp.h5\")"
   ]
  },
  {
   "cell_type": "code",
   "execution_count": 6,
   "metadata": {},
   "outputs": [],
   "source": [
    "all_homes_all_appliance=[26.0,\n",
    " 94.0,\n",
    " 370.0,\n",
    " 410.0,\n",
    " 545.0,\n",
    " 624.0,\n",
    " 1283.0,\n",
    " 1334.0,\n",
    " 1642.0,\n",
    " 1953.0,\n",
    " 2129.0,\n",
    " 2156.0,\n",
    " 2242.0,\n",
    " 2470.0,\n",
    " 2814.0,\n",
    " 3367.0,\n",
    " 3456.0,\n",
    " 3482.0,\n",
    " 3723.0,\n",
    " 3967.0,\n",
    " 4732.0,\n",
    " 4767.0,\n",
    " 5357.0,\n",
    " 5371.0,\n",
    " 5746.0,\n",
    " 5785.0,\n",
    " 5814.0,\n",
    " 6072.0,\n",
    " 6636.0,\n",
    " 6836.0,\n",
    " 6910.0,\n",
    " 7016.0,\n",
    " 7731.0,\n",
    " 7769.0,\n",
    " 7866.0,\n",
    " 8317.0,\n",
    " 9052.0,\n",
    " 9609.0,\n",
    " 9654.0,\n",
    " 9922.0,\n",
    " 9933.0,\n",
    " 9934.0,\n",
    " 9982.0]"
   ]
  },
  {
   "cell_type": "code",
   "execution_count": 7,
   "metadata": {},
   "outputs": [],
   "source": [
    "st_out = pd.HDFStore(\"../data/output/fhmm_lbm-2-15.h5\")\n",
    "\n",
    "for home in all_homes_all_appliance[:]:\n",
    "    try:\n",
    "        pred = pd.read_csv(\"../data/output/lbm-2min/%d.csv\" %home, index_col=0)\n",
    "        pred.index = pd.to_datetime(pred.index)\n",
    "        pred = pred['2013']\n",
    "        pred = pred.resample(\"1M\", how=\"sum\").mul(0.000017).mul(2)\n",
    "        pred.index = range(1, 13)\n",
    "        pred = pred[['hvac','dw','dr','fridge','wm','light']]\n",
    "        \n",
    "        st_out['%d' %home] = pred\n",
    "    except Exception, e:\n",
    "        print e"
   ]
  },
  {
   "cell_type": "code",
   "execution_count": 8,
   "metadata": {},
   "outputs": [],
   "source": [
    "lbm_accur = {}\n",
    "stores  = {2:pd.HDFStore(\"../data/output/fhmm_lbm-2-15.h5\"), 15:pd.HDFStore(\"../data/output/fhmm_lbm.h5\")}\n",
    "\n",
    "for freq in [2, 15]:\n",
    "    lbm_accur[freq] = {}\n",
    "    for appliance in [\"hvac\",\"fridge\",\"dw\",\"wm\",\"light\",\"dr\"]:\n",
    "        \n",
    "        if appliance ==\"hvac\":\n",
    "            start, end = 5, 11\n",
    "        else:\n",
    "            start, end = 1, 13\n",
    "        out_ap = {}\n",
    "        accuracies = {}\n",
    "        for home in all_homes[appliance][:]:\n",
    "            out_ap[home] = {}\n",
    "            pred = stores[freq]['/%d' %home][appliance]\n",
    "            for month in range(start, end):\n",
    "                out_ap[home][month] = {}\n",
    "                gt = df.ix[home]['%s_%d' %(appliance, month)]\n",
    "                out_ap[home][month]['gt'] = gt\n",
    "                out_ap[home][month]['pred'] = pred.ix[month]\n",
    "            a = pd.DataFrame(out_ap[home]).T\n",
    "            e = (a['gt']-a['pred']).abs().div(a['gt'])*100\n",
    "            accur = 100-e\n",
    "            accur[accur<0] = 0\n",
    "            accuracies[home] = accur\n",
    "        lbm_accur[freq][appliance] = pd.DataFrame(accuracies).mean().mean()"
   ]
  },
  {
   "cell_type": "code",
   "execution_count": 9,
   "metadata": {},
   "outputs": [],
   "source": [
    "appliance_name_map = {\"fridge\":\"Fridge\",\"hvac\":\"HVAC\",\"wm\":\"Washing\\nmachine\",\n",
    "                      \"dr\":\"Dryer\",\"dw\":\"Dish\\nwasher\",\"light\":\"Lights\"}"
   ]
  },
  {
   "cell_type": "code",
   "execution_count": 10,
   "metadata": {},
   "outputs": [],
   "source": [
    "%matplotlib inline\n",
    "d = pd.DataFrame(lbm_accur).T"
   ]
  },
  {
   "cell_type": "code",
   "execution_count": 11,
   "metadata": {},
   "outputs": [],
   "source": [
    "d = d.rename(columns=appliance_name_map)"
   ]
  },
  {
   "cell_type": "code",
   "execution_count": 12,
   "metadata": {},
   "outputs": [
    {
     "data": {
      "text/html": [
       "<div>\n",
       "<table border=\"1\" class=\"dataframe\">\n",
       "  <thead>\n",
       "    <tr style=\"text-align: right;\">\n",
       "      <th></th>\n",
       "      <th>Dryer</th>\n",
       "      <th>Dish\n",
       "washer</th>\n",
       "      <th>Fridge</th>\n",
       "      <th>HVAC</th>\n",
       "      <th>Lights</th>\n",
       "      <th>Washing\n",
       "machine</th>\n",
       "    </tr>\n",
       "  </thead>\n",
       "  <tbody>\n",
       "    <tr>\n",
       "      <th>2</th>\n",
       "      <td>21.063574</td>\n",
       "      <td>24.062129</td>\n",
       "      <td>65.982432</td>\n",
       "      <td>59.983497</td>\n",
       "      <td>39.769240</td>\n",
       "      <td>31.418768</td>\n",
       "    </tr>\n",
       "    <tr>\n",
       "      <th>15</th>\n",
       "      <td>5.940615</td>\n",
       "      <td>16.495110</td>\n",
       "      <td>71.822239</td>\n",
       "      <td>55.722782</td>\n",
       "      <td>10.596621</td>\n",
       "      <td>30.640745</td>\n",
       "    </tr>\n",
       "  </tbody>\n",
       "</table>\n",
       "</div>"
      ]
     },
     "output_type": "execute_result",
     "metadata": {}
    }
   ],
   "source": [
    "d"
   ]
  },
  {
   "cell_type": "code",
   "execution_count": 13,
   "metadata": {},
   "outputs": [],
   "source": [
    "d =d.T.ix[['HVAC','Fridge','Washing\\nmachine','Lights','Dryer','Dish\\nwasher']].T"
   ]
  },
  {
   "cell_type": "code",
   "execution_count": 14,
   "metadata": {},
   "outputs": [
    {
     "data": {
      "text/html": [
       "<div>\n",
       "<table border=\"1\" class=\"dataframe\">\n",
       "  <thead>\n",
       "    <tr style=\"text-align: right;\">\n",
       "      <th></th>\n",
       "      <th>HVAC</th>\n",
       "      <th>Fridge</th>\n",
       "      <th>Washing\n",
       "machine</th>\n",
       "      <th>Lights</th>\n",
       "      <th>Dryer</th>\n",
       "      <th>Dish\n",
       "washer</th>\n",
       "    </tr>\n",
       "  </thead>\n",
       "  <tbody>\n",
       "    <tr>\n",
       "      <th>2</th>\n",
       "      <td>59.983497</td>\n",
       "      <td>65.982432</td>\n",
       "      <td>31.418768</td>\n",
       "      <td>39.769240</td>\n",
       "      <td>21.063574</td>\n",
       "      <td>24.062129</td>\n",
       "    </tr>\n",
       "    <tr>\n",
       "      <th>15</th>\n",
       "      <td>55.722782</td>\n",
       "      <td>71.822239</td>\n",
       "      <td>30.640745</td>\n",
       "      <td>10.596621</td>\n",
       "      <td>5.940615</td>\n",
       "      <td>16.495110</td>\n",
       "    </tr>\n",
       "  </tbody>\n",
       "</table>\n",
       "</div>"
      ]
     },
     "output_type": "execute_result",
     "metadata": {}
    }
   ],
   "source": [
    "d"
   ]
  },
  {
   "cell_type": "code",
   "execution_count": 15,
   "metadata": {},
   "outputs": [],
   "source": [
    "d.index = ['LBM (2 min)', 'LBM (15 min)']"
   ]
  },
  {
   "cell_type": "code",
   "execution_count": 16,
   "metadata": {},
   "outputs": [
    {
     "data": {
      "text/html": [
       "<div>\n",
       "<table border=\"1\" class=\"dataframe\">\n",
       "  <thead>\n",
       "    <tr style=\"text-align: right;\">\n",
       "      <th></th>\n",
       "      <th>HVAC</th>\n",
       "      <th>Fridge</th>\n",
       "      <th>Washing\n",
       "machine</th>\n",
       "      <th>Lights</th>\n",
       "      <th>Dryer</th>\n",
       "      <th>Dish\n",
       "washer</th>\n",
       "    </tr>\n",
       "  </thead>\n",
       "  <tbody>\n",
       "    <tr>\n",
       "      <th>LBM (2 min)</th>\n",
       "      <td>59.983497</td>\n",
       "      <td>65.982432</td>\n",
       "      <td>31.418768</td>\n",
       "      <td>39.769240</td>\n",
       "      <td>21.063574</td>\n",
       "      <td>24.062129</td>\n",
       "    </tr>\n",
       "    <tr>\n",
       "      <th>LBM (15 min)</th>\n",
       "      <td>55.722782</td>\n",
       "      <td>71.822239</td>\n",
       "      <td>30.640745</td>\n",
       "      <td>10.596621</td>\n",
       "      <td>5.940615</td>\n",
       "      <td>16.495110</td>\n",
       "    </tr>\n",
       "  </tbody>\n",
       "</table>\n",
       "</div>"
      ]
     },
     "output_type": "execute_result",
     "metadata": {}
    }
   ],
   "source": [
    "d"
   ]
  },
  {
   "cell_type": "code",
   "execution_count": 17,
   "metadata": {},
   "outputs": [],
   "source": [
    "from constants import APPROACH"
   ]
  },
  {
   "cell_type": "code",
   "execution_count": 18,
   "metadata": {},
   "outputs": [],
   "source": [
    "d.loc[APPROACH] = pd.Series({'Dish\\nwasher': 27.333401871684234,\n",
    " 'Dryer': 33.052222078385938,\n",
    " 'Fridge': 68.541552745826976,\n",
    " 'HVAC': 76.239355252614146,\n",
    " 'Lights': 42.757293980395275,\n",
    " 'Washing\\nmachine': 57.272795296939734})"
   ]
  },
  {
   "cell_type": "code",
   "execution_count": 19,
   "metadata": {},
   "outputs": [],
   "source": [
    "from common_functions import latexify, tableau20blind, format_axes"
   ]
  },
  {
   "cell_type": "code",
   "execution_count": 20,
   "metadata": {},
   "outputs": [],
   "source": [
    "latexify(columns=1)"
   ]
  },
  {
   "cell_type": "code",
   "execution_count": 21,
   "metadata": {},
   "outputs": [
    {
     "data": {
      "image/png": "[encoded data removed]"
     },
     "output_type": "display_data",
     "metadata": {}
    }
   ],
   "source": [
    "d.ix[['LBM (15 min)', 'LBM (2 min)', APPROACH]].T.plot(kind=\"bar\", \n",
    "                                                       colors=tableau20blind[::2]\n",
    "                                                       , rot=0)\n",
    "format_axes(plt.gca())\n",
    "plt.ylim((0,100))\n",
    "plt.ylabel(\"Energy Accuracy(\\%)\\n(Higher is better)\");\n",
    "plt.tight_layout()\n",
    "plt.savefig(\"../results/lbm-time.pdf\",bbox_inches=\"tight\")\n",
    "plt.savefig(\"../results/lbm-time.png\",bbox_inches=\"tight\")"
   ]
  }
 ],
 "metadata": {
  "kernelspec": {
   "display_name": "Python 2",
   "language": "python",
   "name": "python2"
  },
  "language_info": {
   "codemirror_mode": {
    "name": "ipython",
    "version": 2.0
   },
   "file_extension": ".py",
   "mimetype": "text/x-python",
   "name": "python",
   "nbconvert_exporter": "python",
   "pygments_lexer": "ipython2",
   "version": "2.7.11"
  }
 },
 "nbformat": 4,
 "nbformat_minor": 0
}