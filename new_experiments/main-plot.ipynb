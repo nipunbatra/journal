{
 "cells": [
  {
   "cell_type": "code",
   "execution_count": 1,
   "metadata": {},
   "outputs": [],
   "source": [
    "import pandas as pd\n",
    "import numpy as np\n",
    "import pickle"
   ]
  },
  {
   "cell_type": "code",
   "execution_count": 2,
   "metadata": {},
   "outputs": [],
   "source": [
    "#train_region = \"Austin\"\n",
    "#test_region = \"SanDiego\"\n",
    "test_region = \"Austin\"\n",
    "train_region = \"SanDiego\"\n",
    "out_overall = pickle.load(open('../data/input/all_regions.pkl','r'))\n",
    "\n",
    "train_df = out_overall[train_region]\n",
    "test_df = out_overall[test_region]"
   ]
  },
  {
   "cell_type": "code",
   "execution_count": 3,
   "metadata": {},
   "outputs": [],
   "source": [
    "train_regions = [\"SanDiego\",\"Austin\"]\n",
    "test_regions = [\"Austin\",\"SanDiego\"]\n",
    "appliances = [\"fridge\",\"hvac\",\"wm\"]\n",
    "feature = \"Monthly\"\n",
    "strategy_list = [\"None\",\"CDD\",\"median-aggregate\"][:]\n",
    "import glob"
   ]
  },
  {
   "cell_type": "markdown",
   "metadata": {},
   "source": [
    "#out has main results from our algos"
   ]
  },
  {
   "cell_type": "code",
   "execution_count": 3,
   "metadata": {},
   "outputs": [],
   "source": [
    "out = {}\n",
    "for appliance in appliances:\n",
    "    out[appliance] = {}\n",
    "    for train_region in train_regions:\n",
    "        out[appliance][train_region] = {}\n",
    "        for test_region in test_regions:\n",
    "            out[appliance][train_region][test_region] = {}\n",
    "            for strategy in strategy_list:\n",
    "                try:\n",
    "                    directory = '../data/output/cross/%s_%s_%s_%s_%s/' % (train_region, \n",
    "                                                                            test_region,\n",
    "                                                                             strategy,\n",
    "                                                                            appliance,\n",
    "\n",
    "                                                                           feature)\n",
    "                    home_files = glob.glob(directory+\"*.csv\")\n",
    "                    out[appliance][train_region][test_region][strategy] = {}\n",
    "                    homes = []\n",
    "\n",
    "                    for home_file in home_files:\n",
    "                        home = int(home_file.split(\"/\")[-1][:-4])\n",
    "                        homes.append(home)\n",
    "                        df = pd.read_csv(home_file, index_col=0, header=None).squeeze()\n",
    "                        df.index.name = \"Month\"\n",
    "                        out[appliance][train_region][test_region][strategy][home]=df\n",
    "                except:\n",
    "                    pass"
   ]
  },
  {
   "cell_type": "code",
   "execution_count": 4,
   "metadata": {},
   "outputs": [
    {
     "data": {
      "text/plain": [
       "Month\n",
       "7    68.819869\n",
       "8    70.115969\n",
       "9    64.984607\n",
       "dtype: float64"
      ]
     },
     "execution_count": 4,
     "output_type": "execute_result",
     "metadata": {}
    }
   ],
   "source": [
    "pd.DataFrame(out['hvac']['Austin']['SanDiego']['CDD']).T.mean()"
   ]
  },
  {
   "cell_type": "code",
   "execution_count": 5,
   "metadata": {},
   "outputs": [
    {
     "data": {
      "text/plain": [
       "Month\n",
       "7    68.819869\n",
       "8    70.115969\n",
       "9    64.984607\n",
       "dtype: float64"
      ]
     },
     "execution_count": 5,
     "output_type": "execute_result",
     "metadata": {}
    }
   ],
   "source": [
    "pd.DataFrame(out['hvac']['Austin']['SanDiego']['CDD']).T.mean()"
   ]
  },
  {
   "cell_type": "markdown",
   "metadata": {},
   "source": [
    "### Getting LBM results"
   ]
  },
  {
   "cell_type": "code",
   "execution_count": 9,
   "metadata": {},
   "outputs": [],
   "source": [
    "lbm_pred = '../data/output/lbm_15min_pred_new'"
   ]
  },
  {
   "cell_type": "code",
   "execution_count": 52,
   "metadata": {},
   "outputs": [],
   "source": [
    "from train_test import *"
   ]
  },
  {
   "cell_type": "code",
   "execution_count": 27,
   "metadata": {},
   "outputs": [
    {
     "name": "stdout",
     "output_type": "stream",
     "text": [
      "SanDiego\n",
      "203 1 wm\n",
      "527 1 wm\n",
      "'2015'\n",
      "here\n",
      "203 2 wm\n",
      "527 2 wm\n",
      "'2015'\n",
      "here\n",
      "203 3 wm\n",
      "527 3 wm\n",
      "'2015'\n",
      "here\n",
      "203 4 wm\n",
      "527 4 wm\n",
      "'2015'\n",
      "here\n",
      "203 5 wm\n",
      "527 5 wm\n",
      "'2015'\n",
      "here\n",
      "203 6 wm\n",
      "527 6 wm\n",
      "'2015'\n",
      "here\n",
      "203 7 wm\n",
      "527 7 wm\n",
      "'2015'\n",
      "here\n",
      "203 8 wm\n",
      "527 8 wm\n",
      "'2015'\n",
      "here\n",
      "203 9 wm\n",
      "527 9 wm\n",
      "'2015'\n",
      "here\n",
      "203 10 wm\n",
      "527 10 wm\n",
      "'2015'\n",
      "here\n",
      "203 11 wm\n",
      "527 11 wm\n",
      "'2015'\n",
      "here\n",
      "203 12 wm\n",
      "527 12 wm\n",
      "'2015'\n",
      "here\n",
      "203 1 hvac\n",
      "527 1 hvac\n",
      "'2015'\n",
      "here\n",
      "203 2 hvac\n",
      "527 2 hvac\n",
      "'2015'\n",
      "here\n",
      "203 3 hvac\n",
      "527 3 hvac\n",
      "'2015'\n",
      "here\n",
      "203 4 hvac\n",
      "527 4 hvac\n",
      "'2015'\n",
      "here\n",
      "203 5 hvac\n",
      "527 5 hvac\n",
      "'2015'\n",
      "here\n",
      "203 6 hvac\n",
      "527 6 hvac\n",
      "'2015'\n",
      "here\n",
      "203 7 hvac\n",
      "527 7 hvac\n",
      "'2015'\n",
      "here\n",
      "203 8 hvac\n",
      "527 8 hvac\n",
      "'2015'\n",
      "here\n",
      "203 9 hvac\n",
      "527 9 hvac\n",
      "'2015'\n",
      "here\n",
      "203 10 hvac\n",
      "527 10 hvac\n",
      "'2015'\n",
      "here\n",
      "203 11 hvac\n",
      "527 11 hvac\n",
      "'2015'\n",
      "here\n",
      "203 12 hvac\n",
      "527 12 hvac\n",
      "'2015'\n",
      "here\n",
      "203 1 fridge\n",
      "527 1 fridge\n",
      "'2015'\n",
      "here\n",
      "203 2 fridge\n",
      "527 2 fridge\n",
      "'2015'\n",
      "here\n",
      "203 3 fridge\n",
      "527 3 fridge\n",
      "'2015'\n",
      "here\n",
      "203 4 fridge\n",
      "527 4 fridge\n",
      "'2015'\n",
      "here\n",
      "203 5 fridge\n",
      "527 5 fridge\n",
      "'2015'\n",
      "here\n",
      "203 6 fridge\n",
      "527 6 fridge\n",
      "'2015'\n",
      "here\n",
      "203 7 fridge\n",
      "527 7 fridge\n",
      "'2015'\n",
      "here\n",
      "203 8 fridge\n",
      "527 8 fridge\n",
      "'2015'\n",
      "here\n",
      "203 9 fridge\n",
      "527 9 fridge\n",
      "'2015'\n",
      "here\n",
      "203 10 fridge\n",
      "527 10 fridge\n",
      "'2015'\n",
      "here\n",
      "203 11 fridge\n",
      "527 11 fridge\n",
      "'2015'\n",
      "here\n",
      "203 12 fridge\n",
      "527 12 fridge\n",
      "'2015'\n",
      "here\n"
     ]
    },
    {
     "name": "stderr",
     "output_type": "stream",
     "text": [
      "/Users/nipunbatra/anaconda/lib/python2.7/site-packages/ipykernel/__main__.py:20: FutureWarning: sort is deprecated, use sort_values(inplace=True) for for INPLACE sorting\n"
     ]
    }
   ],
   "source": [
    "out_lbm = {}\n",
    "test_regions = ['SanDiego']\n",
    "appliances = ['wm','hvac','fridge']\n",
    "start_month, end_month = 1,12\n",
    "for test_region in test_regions:\n",
    "    print test_region\n",
    "    out_lbm[test_region] = {}\n",
    "    test_df = out_overall[test_region]\n",
    "    homes = test_df.index\n",
    "    for appliance in appliances[:]:\n",
    "        out_lbm[test_region][appliance] = {}\n",
    "        for month in range(1, 13):\n",
    "            out_lbm[test_region][appliance][month] = []\n",
    "            try:\n",
    "                for home in homes[1:]:\n",
    "                    print home, month, appliance\n",
    "                    pred_df = pd.read_csv(lbm_pred+\"/\"+str(home)+\".csv\", index_col=0)[appliance]\n",
    "                    pred_df.index = pd.to_datetime(pred_df.index)\n",
    "                    pred_df = pred_df['2015']\n",
    "                    pred_df.sort(inplace=True)\n",
    "                    pred_df.index = pred_df.index.month\n",
    "                    pred = pred_df.ix[month]\n",
    "                    \n",
    "\n",
    "                    gt_df = test_df.ix[home][appliance+\"_\"+str(month)]\n",
    "                   \n",
    "                    error = (np.abs(pred-gt_df)/gt_df)*100\n",
    "                    acc = 100-error\n",
    "                    if acc<0:\n",
    "                        acc=0\n",
    "                    \n",
    "                    out_lbm[test_region][appliance][month].append(acc)\n",
    "            except Exception,e:\n",
    "                print e\n",
    "            print \"here\""
   ]
  },
  {
   "cell_type": "code",
   "execution_count": 26,
   "metadata": {},
   "outputs": [
    {
     "data": {
      "text/plain": [
       "Int64Index([  54,  203,  527, 1450, 1524, 1731, 2031, 2354, 2606, 3687, 3864,\n",
       "            3938, 4083, 4095, 4329, 4495, 4761, 4934, 5009, 5909, 5938, 6268,\n",
       "            6377, 6429, 6497, 6547, 6689, 7062, 7114, 7409, 7639, 8061, 8342,\n",
       "            8574, 8733, 8886, 9213, 9370, 9585, 9612, 9775, 9836],\n",
       "           dtype='int64')"
      ]
     },
     "execution_count": 26,
     "output_type": "execute_result",
     "metadata": {}
    }
   ],
   "source": [
    "homes"
   ]
  },
  {
   "cell_type": "code",
   "execution_count": 25,
   "metadata": {},
   "outputs": [
    {
     "data": {
      "text/plain": [
       "{'SanDiego': {'fridge': {1: [14.618642966168949],\n",
       "   2: [12.382453796396575],\n",
       "   3: [53.441754648289681],\n",
       "   4: [74.506066156102648],\n",
       "   5: [40.771085554854757],\n",
       "   6: [62.336047027806345],\n",
       "   7: [82.604288638703224],\n",
       "   8: [73.653850402280582],\n",
       "   9: [74.589364677002607],\n",
       "   10: [70.883285209782116],\n",
       "   11: [23.25543248963227],\n",
       "   12: [42.604963438089491]},\n",
       "  'hvac': {1: [0],\n",
       "   2: [0],\n",
       "   3: [0],\n",
       "   4: [0],\n",
       "   5: [0],\n",
       "   6: [0],\n",
       "   7: [0],\n",
       "   8: [0],\n",
       "   9: [0],\n",
       "   10: [0],\n",
       "   11: [0],\n",
       "   12: [0]},\n",
       "  'wm': {1: [nan],\n",
       "   2: [nan],\n",
       "   3: [nan],\n",
       "   4: [nan],\n",
       "   5: [nan],\n",
       "   6: [nan],\n",
       "   7: [nan],\n",
       "   8: [nan],\n",
       "   9: [nan],\n",
       "   10: [nan],\n",
       "   11: [nan],\n",
       "   12: [nan]}}}"
      ]
     },
     "execution_count": 25,
     "output_type": "execute_result",
     "metadata": {}
    }
   ],
   "source": [
    "out_lbm"
   ]
  },
  {
   "cell_type": "code",
   "execution_count": 18,
   "metadata": {},
   "outputs": [
    {
     "name": "stdout",
     "output_type": "stream",
     "text": [
      "54\n",
      "203\n",
      "527\n",
      "1450\n",
      "1524\n",
      "1731\n",
      "2031\n",
      "2354\n",
      "2606\n",
      "3687\n",
      "3864\n",
      "3938\n",
      "4083\n",
      "4095\n",
      "4329\n",
      "4495\n",
      "4761\n",
      "4934\n",
      "5009\n",
      "5909\n",
      "5938\n",
      "6268\n",
      "6377\n",
      "6429\n",
      "6497\n",
      "6547\n",
      "6689\n",
      "7062\n",
      "7114\n",
      "7409\n",
      "7639\n",
      "8061\n",
      "8342\n",
      "8574\n",
      "8733\n",
      "8886\n",
      "9213\n",
      "9370\n",
      "9585\n",
      "9612\n",
      "9775\n",
      "9836\n"
     ]
    }
   ],
   "source": [
    "for home in test_df.index:\n",
    "    print home"
   ]
  },
  {
   "cell_type": "code",
   "execution_count": 128,
   "metadata": {},
   "outputs": [
    {
     "data": {
      "text/plain": [
       "2014-07-31    329.564517\n",
       "2014-08-31    334.213446\n",
       "2014-09-30    246.250388\n",
       "Name: hvac, dtype: float64"
      ]
     },
     "execution_count": 128,
     "output_type": "execute_result",
     "metadata": {}
    }
   ],
   "source": [
    "pred_df"
   ]
  },
  {
   "cell_type": "code",
   "execution_count": 126,
   "metadata": {},
   "outputs": [
    {
     "data": {
      "text/plain": [
       "2014-07-31    0.010853\n",
       "2014-08-31    0.009946\n",
       "2014-09-30    0.008480\n",
       "Name: wm, dtype: float64"
      ]
     },
     "execution_count": 126,
     "output_type": "execute_result",
     "metadata": {}
    }
   ],
   "source": [
    "pd.read_csv(lbm_pred+\"/\"+str(home)+\".csv\", index_col=0)['wm']"
   ]
  },
  {
   "cell_type": "code",
   "execution_count": null,
   "metadata": {},
   "outputs": [],
   "source": [
    "import pickle\n",
    "pickle.dump(out_lbm)"
   ]
  },
  {
   "cell_type": "code",
   "execution_count": 160,
   "metadata": {},
   "outputs": [
    {
     "data": {
      "text/plain": [
       "55.19657153315526"
      ]
     },
     "execution_count": 160,
     "output_type": "execute_result",
     "metadata": {}
    }
   ],
   "source": [
    "pd.Series(out_lbm['Austin']['hvac'][8]).mean()"
   ]
  },
  {
   "cell_type": "code",
   "execution_count": 64,
   "metadata": {},
   "outputs": [
    {
     "name": "stderr",
     "output_type": "stream",
     "text": [
      "/Users/nipunbatra/anaconda/lib/python2.7/site-packages/ipykernel/__main__.py:1: FutureWarning: sort is deprecated, use sort_values(inplace=True) for for INPLACE sorting\n",
      "  if __name__ == '__main__':\n"
     ]
    }
   ],
   "source": [
    "pred_df['2015'].sort(inplace=True)"
   ]
  },
  {
   "cell_type": "code",
   "execution_count": 66,
   "metadata": {},
   "outputs": [
    {
     "data": {
      "text/plain": [
       "array([ 1,  2,  3,  4,  5,  6,  7,  8,  9, 10, 11, 12], dtype=int32)"
      ]
     },
     "execution_count": 66,
     "output_type": "execute_result",
     "metadata": {}
    }
   ],
   "source": [
    "pred_df.index = pred_df.index.month"
   ]
  },
  {
   "cell_type": "code",
   "execution_count": 9,
   "metadata": {},
   "outputs": [
    {
     "data": {
      "text/plain": [
       "7    66.064372\n",
       "8    64.408978\n",
       "9    57.276852\n",
       "dtype: float64"
      ]
     },
     "execution_count": 9,
     "output_type": "execute_result",
     "metadata": {}
    }
   ],
   "source": [
    "pd.DataFrame(out_lbm['Austin']['hvac']).T.mean()"
   ]
  },
  {
   "cell_type": "code",
   "execution_count": 162,
   "metadata": {},
   "outputs": [
    {
     "data": {
      "text/plain": [
       "{'fridge': {1: [],\n",
       "  2: [],\n",
       "  3: [],\n",
       "  4: [],\n",
       "  5: [],\n",
       "  6: [],\n",
       "  7: [],\n",
       "  8: [],\n",
       "  9: [],\n",
       "  10: [],\n",
       "  11: [],\n",
       "  12: []},\n",
       " 'hvac': {1: [],\n",
       "  2: [],\n",
       "  3: [],\n",
       "  4: [],\n",
       "  5: [],\n",
       "  6: [],\n",
       "  7: [],\n",
       "  8: [],\n",
       "  9: [],\n",
       "  10: [],\n",
       "  11: [],\n",
       "  12: []},\n",
       " 'wm': {1: [],\n",
       "  2: [],\n",
       "  3: [],\n",
       "  4: [],\n",
       "  5: [],\n",
       "  6: [],\n",
       "  7: [],\n",
       "  8: [],\n",
       "  9: [],\n",
       "  10: [],\n",
       "  11: [],\n",
       "  12: []}}"
      ]
     },
     "execution_count": 162,
     "output_type": "execute_result",
     "metadata": {}
    }
   ],
   "source": [
    "out_lbm['SanDiego']"
   ]
  },
  {
   "cell_type": "markdown",
   "metadata": {},
   "source": [
    "### Getting regional averages results"
   ]
  },
  {
   "cell_type": "code",
   "execution_count": 10,
   "metadata": {},
   "outputs": [],
   "source": [
    "regional_percentages = {\"Austin\":\n",
    "                            {\"hvac\":0.28,'fridge':0.09},\n",
    "                        \"SanDiego\":\n",
    "                            {\"hvac\":0.16,\"fridge\":0.15}\n",
    "                        }"
   ]
  },
  {
   "cell_type": "code",
   "execution_count": 11,
   "metadata": {},
   "outputs": [],
   "source": [
    "out_reg = {}\n",
    "for appliance in appliances:\n",
    "    out_reg[appliance] = {}\n",
    "    for test_region in test_regions:\n",
    "        out_reg[appliance][test_region] = {}\n",
    "        unscaled_test_dataset_df = unscaled_df_regions[test_region]\n",
    "        pred = unscaled_test_dataset_df[['aggregate_'+str(month) for month in range(start_month, end_month)]]*regional_percentages[test_region][appliance]\n",
    "        pred.columns = [appliance+\"_\"+str(month) for month in range(start_month, end_month)]\n",
    "        gt =  unscaled_test_dataset_df[[appliance+\"_\"+str(month) for month in range(start_month, end_month)]]\n",
    "        error = (gt-pred).abs().div(gt).mul(100)\n",
    "        error[error>100] = 0\n",
    "        acc = 100-error\n",
    "        acc_mean = acc.mean()\n",
    "        acc_mean.index = range(start_month, end_month)\n",
    "        out_reg[appliance][test_region] = acc_mean"
   ]
  },
  {
   "cell_type": "code",
   "execution_count": 12,
   "metadata": {},
   "outputs": [
    {
     "data": {
      "text/plain": [
       "7    76.952015\n",
       "8    80.739431\n",
       "9    79.531380\n",
       "Name: Austin, dtype: float64"
      ]
     },
     "execution_count": 12,
     "output_type": "execute_result",
     "metadata": {}
    }
   ],
   "source": [
    "pd.DataFrame(out_reg['fridge'])['Austin']"
   ]
  },
  {
   "cell_type": "code",
   "execution_count": 13,
   "metadata": {},
   "outputs": [],
   "source": [
    "overall = {}\n",
    "for test_region in test_regions:\n",
    "    overall[test_region] = {}\n",
    "    for appliance in appliances:\n",
    "        overall[test_region][appliance] = {}\n",
    "        overall[test_region][appliance][\"Regional average\"] = pd.DataFrame(out_reg[appliance])[test_region]\n",
    "        overall[test_region][appliance][\"NILM\"] = pd.DataFrame(out_lbm[test_region][appliance]).T.mean()\n",
    "        if test_region==\"Austin\":\n",
    "            train_region=\"SanDiego\"\n",
    "        elif test_region==\"SanDiego\":\n",
    "            train_region=\"Austin\"\n",
    "        temp = {}\n",
    "        for strat in [\"CDD\",\"median-aggregate\",\"None\"]:\n",
    "            temp[strat] = pd.DataFrame(out[appliance][train_region][test_region][strat]).T.mean().squeeze()\n",
    "            \n",
    "        overall[test_region][appliance][\"Our approach\"] = pd.DataFrame(temp).max(axis=1)"
   ]
  },
  {
   "cell_type": "code",
   "execution_count": 14,
   "metadata": {},
   "outputs": [
    {
     "data": {
      "text/html": [
       "<div>\n",
       "<table border=\"1\" class=\"dataframe\">\n",
       "  <thead>\n",
       "    <tr style=\"text-align: right;\">\n",
       "      <th></th>\n",
       "      <th>NILM</th>\n",
       "      <th>Our approach</th>\n",
       "      <th>Regional average</th>\n",
       "    </tr>\n",
       "  </thead>\n",
       "  <tbody>\n",
       "    <tr>\n",
       "      <th>7</th>\n",
       "      <td>73.229477</td>\n",
       "      <td>71.406323</td>\n",
       "      <td>76.952015</td>\n",
       "    </tr>\n",
       "    <tr>\n",
       "      <th>8</th>\n",
       "      <td>73.971712</td>\n",
       "      <td>69.030500</td>\n",
       "      <td>80.739431</td>\n",
       "    </tr>\n",
       "    <tr>\n",
       "      <th>9</th>\n",
       "      <td>70.526687</td>\n",
       "      <td>66.698209</td>\n",
       "      <td>79.531380</td>\n",
       "    </tr>\n",
       "  </tbody>\n",
       "</table>\n",
       "</div>"
      ]
     },
     "output_type": "execute_result",
     "metadata": {}
    }
   ],
   "source": [
    "pd.DataFrame(overall['Austin']['fridge'])"
   ]
  },
  {
   "cell_type": "code",
   "execution_count": 15,
   "metadata": {},
   "outputs": [],
   "source": [
    "import sys\n",
    "sys.path.append(\"../code/\")"
   ]
  },
  {
   "cell_type": "code",
   "execution_count": 16,
   "metadata": {},
   "outputs": [],
   "source": [
    "from common_functions import tableau20blind, format_axes, latexify"
   ]
  },
  {
   "cell_type": "code",
   "execution_count": 50,
   "metadata": {},
   "outputs": [
    {
     "data": {
      "image/png": "[encoded data removed]"
     },
     "output_type": "display_data",
     "metadata": {}
    }
   ],
   "source": [
    "import matplotlib.pyplot as plt\n",
    "%matplotlib inline\n",
    "#latexify(columns=1)\n",
    "fig, ax = plt.subplots(nrows=1, ncols=4, sharex=True, sharey=True)\n",
    "pd.DataFrame(overall['Austin']['hvac']).plot(kind=\"bar\",rot=0, colors=tableau20blind[::2],ax=ax[0],legend=False)\n",
    "pd.DataFrame(overall['Austin']['fridge']).plot(kind=\"bar\",rot=0, colors=tableau20blind[::2],ax=ax[1],legend=False)\n",
    "pd.DataFrame(overall['SanDiego']['hvac']).plot(kind=\"bar\",rot=0, colors=tableau20blind[::2],ax=ax[2],legend=False)\n",
    "pd.DataFrame(overall['SanDiego']['fridge']).plot(kind=\"bar\",rot=0, colors=tableau20blind[::2],ax=ax[3],legend=False)\n",
    "format_axes(ax[0])\n",
    "format_axes(ax[1])\n",
    "format_axes(ax[2])\n",
    "format_axes(ax[3])\n",
    "ax[0].set_xlabel('Austin, HVAC')\n",
    "ax[1].set_xlabel('Austin, Fridge')\n",
    "ax[2].set_xlabel('San Diego, HVAC')\n",
    "ax[3].set_xlabel('San Diego, Fridge')\n",
    "\n",
    "\n",
    "#ax[0,0].set_ylabel(\"Austin\")\n",
    "#ax[1,0].set_ylabel(\"San Diego\")\n",
    "#ax[1,0].set_xlabel(\"HVAC\")\n",
    "#ax[1,1].set_xlabel(\"Fridge\")\n",
    "import matplotlib.patches as mpatches\n",
    "\n",
    "\n",
    "baseline_patch = mpatches.Patch(color=tableau20blind[::2][0],alpha=1, label='Baseline')\n",
    "defrost_patch =  mpatches.Patch(color=tableau20blind[::2][1],alpha=1, label='Defrost')\n",
    "defrost_next =  mpatches.Patch(color=tableau20blind[::2][2],alpha=1, label='Increased compressor\\n runtime due to defrost')\n",
    "#plt.tight_layout()\n",
    "\n",
    "\n",
    "\n",
    "\n",
    "\n",
    "\n",
    "fig.text(0.5, -0.04, 'Month', ha='center')\n",
    "fig.text(-0.0, 0.5, 'Accuracy', va='center', rotation='vertical')\n",
    "\n",
    "fig.tight_layout()\n",
    "fig.legend(loc='upper center', bbox_to_anchor=(0.5, 1.25),\n",
    "          ncol=3,handles=[baseline_patch, defrost_patch, defrost_next],labels=['NILM','Our \\napproach','Regional\\naverage'])\n",
    "plt.savefig(\"../results/cross-main.pdf\",bbox_inches=\"tight\")\n",
    "plt.savefig(\"../results/cross-main.png\",bbox_inches=\"tight\")"
   ]
  },
  {
   "cell_type": "code",
   "execution_count": 52,
   "metadata": {},
   "outputs": [],
   "source": [
    "acc_df = acc_df[['Regional average', u'Train on Austin, No transformation',\n",
    "       u'Train on Austin, Transformation by CDD',\n",
    "       u'Train on Austin, Transformation by median', u'Train on SD']]"
   ]
  },
  {
   "cell_type": "code",
   "execution_count": 54,
   "metadata": {},
   "outputs": [
    {
     "data": {
      "image/png": "[encoded data removed]"
     },
     "output_type": "display_data",
     "metadata": {}
    }
   ],
   "source": [
    "import matplotlib.pyplot as plt\n",
    "acc_df.plot(kind=\"bar\",rot=0, colors=tableau20blind[::2]).legend(loc=3)\n",
    "format_axes(plt.gca())\n",
    "plt.savefig(\"../results/cross_fridge_austin_sd.pdf\")\n",
    "plt.savefig(\"../results/cross_fridge_austin_sd.png\")"
   ]
  },
  {
   "cell_type": "code",
   "execution_count": null,
   "metadata": {},
   "outputs": [],
   "source": [
    ""
   ]
  }
 ],
 "metadata": {
  "kernelspec": {
   "display_name": "Python 2",
   "language": "python",
   "name": "python2"
  },
  "language_info": {
   "codemirror_mode": {
    "name": "ipython",
    "version": 2.0
   },
   "file_extension": ".py",
   "mimetype": "text/x-python",
   "name": "python",
   "nbconvert_exporter": "python",
   "pygments_lexer": "ipython2",
   "version": "2.7.11"
  }
 },
 "nbformat": 4,
 "nbformat_minor": 0
}