{
 "cells": [
  {
   "cell_type": "code",
   "execution_count": 1,
   "metadata": {
    "collapsed": true
   },
   "outputs": [],
   "source": [
    "import numpy as np\n",
    "import pandas as pd"
   ]
  },
  {
   "cell_type": "code",
   "execution_count": 2,
   "metadata": {
    "collapsed": true
   },
   "outputs": [],
   "source": [
    "%matplotlib inline"
   ]
  },
  {
   "cell_type": "code",
   "execution_count": 4,
   "metadata": {
    "collapsed": true
   },
   "outputs": [],
   "source": [
    "import pickle"
   ]
  },
  {
   "cell_type": "code",
   "execution_count": 5,
   "metadata": {
    "collapsed": false
   },
   "outputs": [],
   "source": [
    "\n",
    "out_overall = pickle.load(open('../data/input/all_regions.pkl','r'))\n",
    "\n"
   ]
  },
  {
   "cell_type": "code",
   "execution_count": 17,
   "metadata": {
    "collapsed": false
   },
   "outputs": [],
   "source": [
    "out = {}\n",
    "for region in ['Austin','SanDiego','Boulder']:\n",
    "    out[region] = {}\n",
    "    for appliance in [\"dw\",'hvac','fridge','wm','mw','ec','wh','oven']:\n",
    "        out[region][appliance] = {}\n",
    "        for month in range(1,13):\n",
    "            out[region][appliance][month] = len(out_overall[region]['%s_%d' %(appliance, month)].dropna())\n",
    "        out[region][appliance] = pd.Series(out[region][appliance]).mean()\n",
    "\n"
   ]
  },
  {
   "cell_type": "code",
   "execution_count": 19,
   "metadata": {
    "collapsed": false
   },
   "outputs": [
    {
     "data": {
      "text/html": [
       "<div>\n",
       "<table border=\"1\" class=\"dataframe\">\n",
       "  <thead>\n",
       "    <tr style=\"text-align: right;\">\n",
       "      <th></th>\n",
       "      <th>Austin</th>\n",
       "      <th>Boulder</th>\n",
       "      <th>SanDiego</th>\n",
       "    </tr>\n",
       "  </thead>\n",
       "  <tbody>\n",
       "    <tr>\n",
       "      <th>dw</th>\n",
       "      <td>271.250000</td>\n",
       "      <td>31.416667</td>\n",
       "      <td>19.166667</td>\n",
       "    </tr>\n",
       "    <tr>\n",
       "      <th>ec</th>\n",
       "      <td>76.333333</td>\n",
       "      <td>2.000000</td>\n",
       "      <td>0.000000</td>\n",
       "    </tr>\n",
       "    <tr>\n",
       "      <th>fridge</th>\n",
       "      <td>303.583333</td>\n",
       "      <td>30.166667</td>\n",
       "      <td>18.083333</td>\n",
       "    </tr>\n",
       "    <tr>\n",
       "      <th>hvac</th>\n",
       "      <td>379.166667</td>\n",
       "      <td>32.333333</td>\n",
       "      <td>19.166667</td>\n",
       "    </tr>\n",
       "    <tr>\n",
       "      <th>mw</th>\n",
       "      <td>209.833333</td>\n",
       "      <td>13.583333</td>\n",
       "      <td>18.166667</td>\n",
       "    </tr>\n",
       "    <tr>\n",
       "      <th>oven</th>\n",
       "      <td>121.166667</td>\n",
       "      <td>16.416667</td>\n",
       "      <td>14.083333</td>\n",
       "    </tr>\n",
       "    <tr>\n",
       "      <th>wh</th>\n",
       "      <td>70.750000</td>\n",
       "      <td>1.250000</td>\n",
       "      <td>0.000000</td>\n",
       "    </tr>\n",
       "    <tr>\n",
       "      <th>wm</th>\n",
       "      <td>216.750000</td>\n",
       "      <td>25.083333</td>\n",
       "      <td>3.500000</td>\n",
       "    </tr>\n",
       "  </tbody>\n",
       "</table>\n",
       "</div>"
      ],
      "text/plain": [
       "            Austin    Boulder   SanDiego\n",
       "dw      271.250000  31.416667  19.166667\n",
       "ec       76.333333   2.000000   0.000000\n",
       "fridge  303.583333  30.166667  18.083333\n",
       "hvac    379.166667  32.333333  19.166667\n",
       "mw      209.833333  13.583333  18.166667\n",
       "oven    121.166667  16.416667  14.083333\n",
       "wh       70.750000   1.250000   0.000000\n",
       "wm      216.750000  25.083333   3.500000"
      ]
     },
     "execution_count": 19,
     "metadata": {},
     "output_type": "execute_result"
    }
   ],
   "source": [
    "pd.DataFrame(out)"
   ]
  },
  {
   "cell_type": "code",
   "execution_count": null,
   "metadata": {
    "collapsed": true
   },
   "outputs": [],
   "source": []
  }
 ],
 "metadata": {
  "kernelspec": {
   "display_name": "Python 2",
   "language": "python",
   "name": "python2"
  },
  "language_info": {
   "codemirror_mode": {
    "name": "ipython",
    "version": 2
   },
   "file_extension": ".py",
   "mimetype": "text/x-python",
   "name": "python",
   "nbconvert_exporter": "python",
   "pygments_lexer": "ipython2",
   "version": "2.7.11"
  }
 },
 "nbformat": 4,
 "nbformat_minor": 0
}
