{
 "cells": [
  {
   "cell_type": "code",
   "execution_count": 1,
   "metadata": {
    "collapsed": false
   },
   "outputs": [],
   "source": [
    "import numpy as np\n",
    "import pickle\n",
    "from degree_days import  dd\n",
    "from regional_average_contribution import  contribution\n",
    "import pandas as pd\n",
    "out_overall = pickle.load(open('../data/input/all_regions.pkl','r'))\n",
    "\n",
    "import sys\n",
    "import os\n",
    "\n",
    "train_region, test_region, test_home, appliance, transform, K = \"Austin\",\"SanDiego\", 203, \"hvac\",\"None\",3\n",
    "test_home = int(test_home)\n",
    "K = int(K)\n",
    "\n",
    "train_df = out_overall[train_region]\n",
    "test_df = out_overall[test_region]\n",
    "\n",
    "train_dd = pd.DataFrame(dd[train_region])\n",
    "test_dd = pd.DataFrame(dd[test_region])\n",
    "\n",
    "median_aggregate = {}\n",
    "for region in [train_region, test_region]:\n",
    "    median_aggregate[region] = {}\n",
    "    for month in range(1, 13):\n",
    "        median_aggregate[region][month] = out_overall[region]['aggregate_'+str(month)].median()\n",
    "\n",
    "median_aggregate_df = pd.DataFrame(median_aggregate)\n",
    "\n",
    "\n",
    "from itertools import combinations\n",
    "\n",
    "start_month, end_month = 1,12\n",
    "agg_features = np.hstack([['aggregate_'+str(month) for month in range(start_month, end_month+1)],\n",
    "                         'ratio_min_max','difference_ratio_min_max','p_25','p_50','p_75','skew','kurtosis'])\n",
    "md_features = ['area','house_num_rooms']\n",
    "features = {'md_agg':np.hstack([\n",
    "            agg_features,\n",
    "            md_features\n",
    "            ]).tolist()}\n",
    "\n",
    "f_all = features['md_agg']\n",
    "\n",
    "# Find not null set of common features\n",
    "def find_com_features_train(df, home_1, home_2, featureset_max):\n",
    "    f_1 = df.ix[home_1][featureset_max].dropna()\n",
    "    f_2 = df.ix[home_2][featureset_max].dropna()\n",
    "    com_f =  np.intersect1d(f_1.index, f_2.index)\n",
    "    return com_f\n",
    "\n",
    "\n",
    "def find_distance_train_test_quick(df_train, home_1, home_2, df_test, home_test, featureset_train, featureset_max):\n",
    "    f_test = df_test.ix[home_test][featureset_max].dropna()\n",
    "    com_f =  np.intersect1d(f_test.index, featureset_train)\n",
    "    if len(com_f):\n",
    "        is_common = True\n",
    "    else:\n",
    "        is_common = False\n",
    "        return is_common, None\n",
    "\n",
    "    if len(com_f):\n",
    "        a = (df_train.ix[home_1][com_f]- df_test.ix[home_test][com_f]).abs().sum().sum()\n",
    "        b = (df_train.ix[home_2][com_f]- df_test.ix[home_test][com_f]).abs().sum().sum()\n",
    "        \n",
    "        if a<=b:\n",
    "            order = [home_1, home_2]\n",
    "        else:\n",
    "            order = [home_2, home_1]\n",
    "        return is_common, {'order':order,\n",
    "                    'num_f':len(com_f),\n",
    "                    'dist_a':a,\n",
    "                    'dist_b':b,\n",
    "                          'f':com_f}\n",
    "\n",
    "\n",
    "def find_distance_train_test(df_train, home_1, home_2, df_test, home_test, featureset_train, featureset_max):\n",
    "    f_test = df_test.ix[home_test][featureset_max].dropna()\n",
    "    com_f =  np.intersect1d(f_test.index, featureset_train)\n",
    "    if len(com_f):\n",
    "        is_common = True\n",
    "    else:\n",
    "        is_common = False\n",
    "        return is_common, None\n",
    "\n",
    "    if len(com_f):\n",
    "        a = np.linalg.norm(df_train.ix[home_1][com_f]- df_test.ix[home_test][com_f])\n",
    "        b = np.linalg.norm(df_train.ix[home_2][com_f]- df_test.ix[home_test][com_f])\n",
    "        if a<=b:\n",
    "            order = [home_1, home_2]\n",
    "        else:\n",
    "            order = [home_2, home_1]\n",
    "        return is_common, {'order':order,\n",
    "                    'num_f':len(com_f),\n",
    "                    'dist_a':a,\n",
    "                    'dist_b':b,\n",
    "                          'f':com_f}\n",
    "\n",
    "import pandas as pd\n",
    "\n",
    "def scale_0_1(ser, minimum=None, maximum=None):\n",
    "    if minimum is not None:\n",
    "        pass\n",
    "    else:\n",
    "        minimum = ser.min()\n",
    "        maximum = ser.max()\n",
    "    return (ser-minimum).div(maximum-minimum)\n",
    "\n",
    "def normalise(df):\n",
    "    new_df = df.copy()\n",
    "    max_aggregate = df[[\"aggregate_%d\" % i for i in range(1, 13)]].max().max()\n",
    "    min_aggregate = df[[\"aggregate_%d\" % i for i in range(1, 13)]].min().min()\n",
    "    new_df[[\"aggregate_%d\" % i for i in range(1, 13)]] = scale_0_1(df[[\"aggregate_%d\" % i for i in range(1, 13)]], min_aggregate, max_aggregate)\n",
    "    for col in ['area','num_occupants','house_num_rooms','ratio_min_max',\n",
    "                'skew','kurtosis','variance','difference_ratio_min_max','p_25',\n",
    "               'p_50','p_75']:\n",
    "        new_df[col] = scale_0_1(df[col])\n",
    "    return new_df\n",
    "\n",
    "if transform in [\"None\",\"None-percentage\"]:\n",
    "    pass\n",
    "elif transform in [\"DD\",\"DD-percentage\"]:\n",
    "    train_df_copy = train_df.copy()\n",
    "    for month in range(1, 13):\n",
    "        # index on 0, 11\n",
    "        train_dd_month = train_dd.ix[month-1]['Total']\n",
    "        test_dd_month = test_dd.ix[month-1]['Total']\n",
    "        train_df['hvac_%d' % month] = train_df_copy['hvac_%d' % month] * test_dd_month*1. / train_dd_month\n",
    "\n",
    "        #New aggregate will be removing old HVAC and adding new HVAC!\n",
    "        train_df['aggregate_%d' %month] = train_df_copy['aggregate_%d' %month] - train_df_copy['hvac_%d' % month] + train_df['hvac_%d' % month]\n",
    "elif transform in [\"median-aggregate\",\"median-aggregate-percentage\"]:\n",
    "    train_df_copy = train_df.copy()\n",
    "    for month in range(1,13):\n",
    "        median_month = median_aggregate_df.ix[month]\n",
    "        cols_to_transform = [x for x in train_df.columns if \"_\"+str(month) in x]\n",
    "        train_df[cols_to_transform] = train_df_copy[cols_to_transform] * median_month[test_region] / median_month[train_region]\n",
    "\n",
    "elif transform in [\"regional\",\"regional-percentage\"]:\n",
    "    train_df_copy = train_df.copy()\n",
    "    for month in range(1, 13):\n",
    "\n",
    "        # index on 0, 11\n",
    "        if month in range(4,11):\n",
    "            mode='Cooling'\n",
    "        else:\n",
    "            mode='Heating'\n",
    "\n",
    "        train_dd_month = contribution[train_region][mode]['hvac']\n",
    "        test_dd_month = contribution[test_region][mode]['hvac']\n",
    "\n",
    "        train_df['hvac_%d' % month] = train_df_copy['hvac_%d' % month] * test_dd_month*1. / train_dd_month\n",
    "\n",
    "        #New aggregate will be removing old HVAC and adding new HVAC!\n",
    "        train_df['aggregate_%d' %month] = train_df_copy['aggregate_%d' %month] - train_df_copy['hvac_%d' % month] + train_df['hvac_%d' % month]\n",
    "\n",
    "\n",
    "\n",
    "elif transform==\"DD-fridge\":\n",
    "    train_df_copy = train_df.copy()\n",
    "    fridge_model = pickle.load(open('../data/input/SanDiego_fridge_dd_coef.pkl','r'))\n",
    "    for month in range(1, 13):\n",
    "        # index on 0, 11\n",
    "\n",
    "        train_cdd_month = train_dd.ix[month-1]['Cooling']\n",
    "        test_cdd_month = test_dd.ix[month-1]['Cooling']\n",
    "        for fridge_home, fridge_home_model in fridge_model.iteritems():\n",
    "            train_df.loc[fridge_home,'fridge_%d' % month] = fridge_home_model['baseline']+fridge_home_model['cdd']*test_cdd_month\n",
    "            train_df.loc[fridge_home,'aggregate_%d' %month] = train_df_copy.ix[fridge_home]['aggregate_%d' %month] - train_df_copy.ix[fridge_home]['fridge_%d' % month] + train_df.ix[fridge_home]['fridge_%d' % month]\n",
    "\n",
    "overall_df = pd.concat([train_df, test_df])\n",
    "\n",
    "normalised_df = normalise(overall_df)\n",
    "\n",
    "train_normalised_df = normalised_df.ix[train_df.index]\n",
    "test_normalised_df = normalised_df.ix[test_df.index].drop_duplicates()\n",
    "\n",
    "\n",
    "def solve_ilp(inequalities, time_limit=50):\n",
    "    from collections import defaultdict\n",
    "    import pandas as pd\n",
    "    co = defaultdict(int)\n",
    "    for ineq in inequalities:\n",
    "        lt = ineq[0]\n",
    "        gt = ineq[1]\n",
    "        co[lt]-= 1\n",
    "        co[gt]+= 1\n",
    "    co_ser = pd.Series(co)\n",
    "    co_ser.sort()\n",
    "\n",
    "    return co_ser.index.values.tolist()"
   ]
  },
  {
   "cell_type": "code",
   "execution_count": 2,
   "metadata": {
    "collapsed": false
   },
   "outputs": [
    {
     "data": {
      "text/plain": [
       "'Austin'"
      ]
     },
     "execution_count": 2,
     "metadata": {},
     "output_type": "execute_result"
    }
   ],
   "source": [
    "train_region"
   ]
  },
  {
   "cell_type": "code",
   "execution_count": 3,
   "metadata": {
    "collapsed": false
   },
   "outputs": [
    {
     "data": {
      "text/plain": [
       "26       768.899231\n",
       "59      2266.938721\n",
       "77      1623.113037\n",
       "86       630.025818\n",
       "93       491.354584\n",
       "94       281.617340\n",
       "101      289.954346\n",
       "114      719.128662\n",
       "115      433.359406\n",
       "160      490.418976\n",
       "187      772.882324\n",
       "222     2150.850586\n",
       "364      684.746887\n",
       "434      733.505615\n",
       "457      365.915314\n",
       "484      996.095886\n",
       "499       20.227467\n",
       "503      905.919800\n",
       "545      682.377869\n",
       "580      701.990295\n",
       "624      793.947266\n",
       "661      757.072754\n",
       "668      620.675720\n",
       "739      152.475998\n",
       "744      404.947723\n",
       "781      498.970215\n",
       "871      658.142334\n",
       "946      308.810455\n",
       "954      307.253479\n",
       "974      919.913574\n",
       "           ...     \n",
       "9134     590.780457\n",
       "9141     459.592346\n",
       "9160     348.056366\n",
       "9248    1136.634155\n",
       "9278    1563.834595\n",
       "9343     347.590332\n",
       "9356    2556.218262\n",
       "9484    1423.675049\n",
       "9609    1126.200806\n",
       "9613     640.769653\n",
       "9647    2273.635986\n",
       "9654     219.796432\n",
       "9701     217.983780\n",
       "9729     789.184082\n",
       "9737    1039.030884\n",
       "9766     542.490662\n",
       "9771    1728.480957\n",
       "9875     762.678040\n",
       "9912     651.133667\n",
       "9915     495.921326\n",
       "9922    1762.189575\n",
       "9926     643.817017\n",
       "9932     430.200531\n",
       "9933    1493.002930\n",
       "9935    6381.365723\n",
       "9937     553.003357\n",
       "9938    2245.673584\n",
       "9942     656.363892\n",
       "9971     902.673462\n",
       "9982     406.728180\n",
       "Name: aggregate_1, dtype: float64"
      ]
     },
     "execution_count": 3,
     "metadata": {},
     "output_type": "execute_result"
    }
   ],
   "source": [
    "train_df.ix[train_df[train_df['full_agg_available']==1]['hvac_1'].dropna().index]['aggregate_1']"
   ]
  },
  {
   "cell_type": "code",
   "execution_count": 4,
   "metadata": {
    "collapsed": true
   },
   "outputs": [],
   "source": [
    "# FIn"
   ]
  },
  {
   "cell_type": "code",
   "execution_count": 5,
   "metadata": {
    "collapsed": false
   },
   "outputs": [
    {
     "data": {
      "text/plain": [
       "['dr_12',\n",
       " 'house_num_rooms',\n",
       " 'area',\n",
       " 'num_occupants',\n",
       " 'md_available',\n",
       " 'full_agg_available',\n",
       " 'ratio_min_max',\n",
       " 'difference_ratio_min_max',\n",
       " 'variance',\n",
       " 'skew',\n",
       " 'kurtosis',\n",
       " 'p_25',\n",
       " 'p_50',\n",
       " 'p_75']"
      ]
     },
     "execution_count": 5,
     "metadata": {},
     "output_type": "execute_result"
    }
   ],
   "source": [
    "train_df.columns.tolist()[84:][35:]"
   ]
  },
  {
   "cell_type": "code",
   "execution_count": 6,
   "metadata": {
    "collapsed": true
   },
   "outputs": [],
   "source": [
    "all_features = ['aggregate_1',\n",
    " 'aggregate_2',\n",
    " 'aggregate_3',\n",
    " 'aggregate_4',\n",
    " 'aggregate_5',\n",
    " 'aggregate_6',\n",
    " 'aggregate_7',\n",
    " 'aggregate_8',\n",
    " 'aggregate_9',\n",
    " 'aggregate_10',\n",
    " 'aggregate_11',\n",
    " 'aggregate_12',\n",
    "'house_num_rooms',\n",
    " 'area',\n",
    " 'num_occupants',\n",
    " 'ratio_min_max',\n",
    " 'difference_ratio_min_max',\n",
    " 'variance',\n",
    " 'skew',\n",
    " 'kurtosis',\n",
    " 'p_25',\n",
    " 'p_50',\n",
    " 'p_75']"
   ]
  },
  {
   "cell_type": "code",
   "execution_count": 7,
   "metadata": {
    "collapsed": true
   },
   "outputs": [],
   "source": []
  },
  {
   "cell_type": "code",
   "execution_count": 26,
   "metadata": {
    "collapsed": false
   },
   "outputs": [],
   "source": [
    "from sklearn.ensemble import ExtraTreesClassifier, ExtraTreesRegressor\n",
    "X_index = train_df[all_features].dropna().index\n",
    "X = train_df.ix[X_index][all_features]\n",
    "y_index = train_df.ix[X_index]['dw_6'].dropna().index\n",
    "y = train_df.ix[y_index]['dw_6'].values\n",
    "X = train_df.ix[y_index][all_features]"
   ]
  },
  {
   "cell_type": "code",
   "execution_count": 27,
   "metadata": {
    "collapsed": false
   },
   "outputs": [
    {
     "data": {
      "text/plain": [
       "(60, 23)"
      ]
     },
     "execution_count": 27,
     "metadata": {},
     "output_type": "execute_result"
    }
   ],
   "source": [
    "X.shape"
   ]
  },
  {
   "cell_type": "code",
   "execution_count": 28,
   "metadata": {
    "collapsed": false
   },
   "outputs": [
    {
     "data": {
      "text/plain": [
       "(60,)"
      ]
     },
     "execution_count": 28,
     "metadata": {},
     "output_type": "execute_result"
    }
   ],
   "source": [
    "y.shape"
   ]
  },
  {
   "cell_type": "code",
   "execution_count": 29,
   "metadata": {
    "collapsed": false
   },
   "outputs": [],
   "source": [
    "forest = ExtraTreesRegressor(n_estimators=250,\n",
    "                              random_state=1)\n",
    "\n",
    "forest.fit(X, y)\n",
    "importances = forest.feature_importances_"
   ]
  },
  {
   "cell_type": "code",
   "execution_count": 30,
   "metadata": {
    "collapsed": false
   },
   "outputs": [],
   "source": [
    "import matplotlib.pyplot as plt\n",
    "%matplotlib inline"
   ]
  },
  {
   "cell_type": "code",
   "execution_count": 31,
   "metadata": {
    "collapsed": true
   },
   "outputs": [],
   "source": [
    "%matplotlib inline"
   ]
  },
  {
   "cell_type": "code",
   "execution_count": 32,
   "metadata": {
    "collapsed": false
   },
   "outputs": [
    {
     "data": {
      "text/plain": [
       "<matplotlib.axes._subplots.AxesSubplot at 0x11991b210>"
      ]
     },
     "execution_count": 32,
     "metadata": {},
     "output_type": "execute_result"
    },
    {
     "data": {
      "image/png": "[encoded data removed]",
      "text/plain": [
       "<matplotlib.figure.Figure at 0x11980be90>"
      ]
     },
     "metadata": {},
     "output_type": "display_data"
    }
   ],
   "source": [
    "pd.Series(importances, index=all_features).plot(kind=\"bar\")"
   ]
  },
  {
   "cell_type": "code",
   "execution_count": 14,
   "metadata": {
    "collapsed": false
   },
   "outputs": [
    {
     "data": {
      "text/plain": [
       "<matplotlib.axes._subplots.AxesSubplot at 0x114b96290>"
      ]
     },
     "execution_count": 14,
     "metadata": {},
     "output_type": "execute_result"
    },
    {
     "data": {
      "image/png": "[encoded data removed]",
      "text/plain": [
       "<matplotlib.figure.Figure at 0x11387ad50>"
      ]
     },
     "metadata": {},
     "output_type": "display_data"
    }
   ],
   "source": [
    "pd.Series(importances, index=all_features).plot(kind=\"bar\")"
   ]
  },
  {
   "cell_type": "code",
   "execution_count": 104,
   "metadata": {
    "collapsed": false
   },
   "outputs": [
    {
     "data": {
      "text/plain": [
       "7"
      ]
     },
     "execution_count": 104,
     "metadata": {},
     "output_type": "execute_result"
    }
   ],
   "source": [
    "(test_df['md_available']&test_df['full_agg_available']).sum()"
   ]
  },
  {
   "cell_type": "code",
   "execution_count": 28,
   "metadata": {
    "collapsed": false
   },
   "outputs": [
    {
     "data": {
      "text/plain": [
       "hvac_1                      25\n",
       "hvac_2                      21\n",
       "hvac_3                      21\n",
       "hvac_4                      21\n",
       "hvac_5                      21\n",
       "hvac_6                      21\n",
       "hvac_7                      19\n",
       "hvac_8                      18\n",
       "hvac_9                      17\n",
       "hvac_10                     16\n",
       "hvac_11                     15\n",
       "hvac_12                     15\n",
       "wm_1                         8\n",
       "wm_2                         4\n",
       "wm_3                         4\n",
       "wm_4                         4\n",
       "wm_5                         4\n",
       "wm_6                         4\n",
       "wm_7                         3\n",
       "wm_8                         3\n",
       "wm_9                         2\n",
       "wm_10                        2\n",
       "wm_11                        2\n",
       "wm_12                        2\n",
       "fridge_1                    23\n",
       "fridge_2                    20\n",
       "fridge_3                    20\n",
       "fridge_4                    20\n",
       "fridge_5                    20\n",
       "fridge_6                    20\n",
       "                            ..\n",
       "dw_8                        18\n",
       "dw_9                        17\n",
       "dw_10                       16\n",
       "dw_11                       15\n",
       "dw_12                       15\n",
       "dr_1                         0\n",
       "dr_2                         0\n",
       "dr_3                         0\n",
       "dr_4                         0\n",
       "dr_5                         0\n",
       "dr_6                         0\n",
       "dr_7                         0\n",
       "dr_8                         0\n",
       "dr_9                         0\n",
       "dr_10                        0\n",
       "dr_11                        0\n",
       "dr_12                        0\n",
       "house_num_rooms              8\n",
       "area                         8\n",
       "num_occupants                8\n",
       "md_available                42\n",
       "full_agg_available          42\n",
       "ratio_min_max               15\n",
       "difference_ratio_min_max    15\n",
       "variance                    15\n",
       "skew                        15\n",
       "kurtosis                    15\n",
       "p_25                        15\n",
       "p_50                        15\n",
       "p_75                        15\n",
       "Name: count, dtype: float64"
      ]
     },
     "execution_count": 28,
     "metadata": {},
     "output_type": "execute_result"
    }
   ],
   "source": [
    "test_df.describe().ix['count']"
   ]
  },
  {
   "cell_type": "code",
   "execution_count": 52,
   "metadata": {
    "collapsed": false
   },
   "outputs": [],
   "source": [
    "month_compute=1\n",
    "candidate_homes = train_normalised_df['%s_%d' %(appliance, month_compute)].dropna().index.values"
   ]
  },
  {
   "cell_type": "code",
   "execution_count": 63,
   "metadata": {
    "collapsed": false
   },
   "outputs": [
    {
     "data": {
      "text/plain": [
       "24"
      ]
     },
     "execution_count": 63,
     "metadata": {},
     "output_type": "execute_result"
    }
   ],
   "source": [
    "len(candidate_homes)"
   ]
  },
  {
   "cell_type": "code",
   "execution_count": 54,
   "metadata": {
    "collapsed": false
   },
   "outputs": [
    {
     "data": {
      "text/plain": [
       "array([ 203,  203, 1450, 1450, 1524, 1524, 1731, 1731, 2354, 2354, 2606,\n",
       "       2606, 3687, 3687, 3864, 3864, 3938, 3938, 4495, 4495, 4934, 4934,\n",
       "       5938, 5938, 6377, 6377, 6547, 6547, 7062, 7062, 7114, 7114, 8061,\n",
       "       8061, 8342, 8342, 8574, 8574, 8733, 8733, 9213, 9213, 9585, 9585,\n",
       "       9612, 9612, 9775, 9775, 9836, 9836])"
      ]
     },
     "execution_count": 54,
     "metadata": {},
     "output_type": "execute_result"
    }
   ],
   "source": [
    "candidate_homes"
   ]
  },
  {
   "cell_type": "code",
   "execution_count": 55,
   "metadata": {
    "collapsed": false
   },
   "outputs": [],
   "source": [
    "candidate_homes = np.array(np.setdiff1d(candidate_homes, test_home))"
   ]
  },
  {
   "cell_type": "code",
   "execution_count": 56,
   "metadata": {
    "collapsed": false
   },
   "outputs": [
    {
     "data": {
      "text/plain": [
       "24"
      ]
     },
     "execution_count": 56,
     "metadata": {},
     "output_type": "execute_result"
    }
   ],
   "source": [
    "len(candidate_homes)"
   ]
  },
  {
   "cell_type": "code",
   "execution_count": 57,
   "metadata": {
    "collapsed": false
   },
   "outputs": [],
   "source": [
    "a,b= next(combinations(candidate_homes, 2))\n",
    "a,b\n",
    "com_features = find_com_features_train(train_df, a, b, f_all)"
   ]
  },
  {
   "cell_type": "code",
   "execution_count": 58,
   "metadata": {
    "collapsed": false
   },
   "outputs": [
    {
     "data": {
      "text/plain": [
       "array(['aggregate_1', 'aggregate_10', 'aggregate_11', 'aggregate_12',\n",
       "       'aggregate_2', 'aggregate_3', 'aggregate_4', 'aggregate_5',\n",
       "       'aggregate_6', 'aggregate_7', 'aggregate_8', 'aggregate_9',\n",
       "       'difference_ratio_min_max', 'kurtosis', 'p_25', 'p_50', 'p_75',\n",
       "       'ratio_min_max', 'skew'], dtype=object)"
      ]
     },
     "execution_count": 58,
     "metadata": {},
     "output_type": "execute_result"
    }
   ],
   "source": [
    "com_features"
   ]
  },
  {
   "cell_type": "code",
   "execution_count": 61,
   "metadata": {
    "collapsed": false
   },
   "outputs": [
    {
     "name": "stdout",
     "output_type": "stream",
     "text": [
      "100 loops, best of 3: 3.61 ms per loop\n"
     ]
    }
   ],
   "source": [
    "%timeit is_common, d = find_distance_train_test(train_normalised_df, a, b, test_normalised_df, test_home, com_features, f_all)"
   ]
  },
  {
   "cell_type": "code",
   "execution_count": 62,
   "metadata": {
    "collapsed": false
   },
   "outputs": [
    {
     "name": "stdout",
     "output_type": "stream",
     "text": [
      "100 loops, best of 3: 3.86 ms per loop\n"
     ]
    }
   ],
   "source": [
    "%timeit is_common, d = find_distance_train_test_quick(train_normalised_df, a, b, test_normalised_df, test_home, com_features, f_all)"
   ]
  },
  {
   "cell_type": "code",
   "execution_count": null,
   "metadata": {
    "collapsed": true
   },
   "outputs": [],
   "source": [
    "for month_compute in range(1, 13):\n",
    "\n",
    "    from collections import Counter, defaultdict\n",
    "    num_features_all = {}\n",
    "    ineq_dict = {}\n",
    "\n",
    "    num_features_all[appliance] = {}\n",
    "    ineq_dict[appliance] = {}\n",
    "\n",
    "    #num_features_all[appliance][month_compute] = {}\n",
    "    ineq_dict[appliance][month_compute] = {}\n",
    "\n",
    "    candidate_homes = train_normalised_df['%s_%d' %(appliance, month_compute)].dropna().index.values\n",
    "\n",
    "\n",
    "\n",
    "    #num_features_all[appliance][month_compute][test_home] = defaultdict(int)\n",
    "    from collections import defaultdict\n",
    "    import pandas as pd\n",
    "    co = defaultdict(int)\n",
    "    store_path = '../../../output/output/ineq_cross/%s_%s_%s_%s_%d_%d_%d.pkl' %(train_region,\n",
    "                                                                        test_region,\n",
    "                                                                        transform,\n",
    "                                                                        appliance,\n",
    "                                                                        month_compute,\n",
    "                                                                        test_home, K)\n",
    "    print store_path\n",
    "    if os.path.exists(store_path):\n",
    "        print \"already exists\"\n",
    "        continue\n",
    "\n",
    "\n",
    "    if not np.isnan(test_normalised_df.ix[test_home]['%s_%d' %(appliance, month_compute)]):\n",
    "        # We need to predict this value!\n",
    "        # Find candidate set, train homes which have not null for this month\n",
    "        # Now find features on pairs of homes in candidate homes\n",
    "        for a,b in combinations(candidate_homes, 2):\n",
    "            com_features = find_com_features_train(train_df, a, b, f_all)\n",
    "\n",
    "            if len(com_features):\n",
    "                # Consider a,b\n",
    "                is_common, d = find_distance_train_test(train_normalised_df, a, b, test_normalised_df, test_home, com_features, f_all)\n",
    "                if is_common:\n",
    "\n",
    "                    # Common between train and test. Can add this pair to inequalities\n",
    "                    ineq=d['order']\n",
    "                    lt = ineq[0]\n",
    "                    gt = ineq[1]\n",
    "                    co[lt]-= 1\n",
    "                    co[gt]+= 1\n",
    "                    #num_features_all[appliance][month_compute][test_home][d['num_f']]+= 1\n",
    "\n",
    "        \"\"\"\n",
    "        # Saving ineqs\n",
    "        pickle.dump(ineqs, open('../data/model/inequalities/%s_%s_%s_%s_%d_%d.pkl' %(train_region,\n",
    "                                                                        test_region,\n",
    "                                                                        transform,\n",
    "                                                                        appliance,\n",
    "                                                                        month_compute,\n",
    "                                                                        test_home),'w'))\n",
    "        \"\"\"\n",
    "        co_ser = pd.Series(co)\n",
    "        co_ser.sort()\n",
    "        ranks = co_ser.index.values.tolist()\n",
    "        if \"percentage\" in transform:\n",
    "            mean_proportion = (train_df.ix[ranks[:K]]['%s_%d' %(appliance, month_compute)]/ train_df.ix[ranks[:K]]['aggregate_%d' %(month_compute)]).mean()\n",
    "\n",
    "            pred = test_df.ix[test_home]['aggregate_%d' %month_compute]*mean_proportion\n",
    "\n",
    "        else:\n",
    "            pred = train_df.ix[ranks[:K]]['%s_%d' %(appliance, month_compute)].dropna().mean()\n",
    "        gt = test_df.ix[test_home]['%s_%d' %(appliance, month_compute)]\n",
    "        pickle.dump(pred, open(store_path,'w'))\n",
    "\n",
    "\n",
    "    else:\n",
    "        # No need to predict\n",
    "        pass"
   ]
  }
 ],
 "metadata": {
  "kernelspec": {
   "display_name": "Python 2",
   "language": "python",
   "name": "python2"
  },
  "language_info": {
   "codemirror_mode": {
    "name": "ipython",
    "version": 2
   },
   "file_extension": ".py",
   "mimetype": "text/x-python",
   "name": "python",
   "nbconvert_exporter": "python",
   "pygments_lexer": "ipython2",
   "version": "2.7.11"
  }
 },
 "nbformat": 4,
 "nbformat_minor": 0
}
