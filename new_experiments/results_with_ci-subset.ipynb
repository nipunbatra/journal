{
 "cells": [
  {
   "cell_type": "code",
   "execution_count": 1,
   "metadata": {
    "collapsed": true
   },
   "outputs": [],
   "source": [
    "import pandas as pd\n",
    "import numpy as np"
   ]
  },
  {
   "cell_type": "code",
   "execution_count": 2,
   "metadata": {
    "collapsed": true
   },
   "outputs": [],
   "source": [
    "sd_mean_error = pd.DataFrame({'dw': {5: 5.176498862407688,\n",
    "  10: 5.5920854915125409,\n",
    "  15: 5.7759350324561813,\n",
    "  20: 5.6342073370390056,\n",
    "  25: 5.8893622779882051,\n",
    "  30: 5.6197116178337128,\n",
    "  35: 5.9638437301734575,\n",
    "  40: 6.1087024259977225},\n",
    " 'fridge': {5: 11.051342144765071,\n",
    "  10: 10.151751353525787,\n",
    "  15: 10.369209921622625,\n",
    "  20: 10.153521201986747,\n",
    "  25: 10.395878130697152,\n",
    "  30: 10.143981709761031,\n",
    "  35: 10.398511934325551,\n",
    "  40: 10.678356797228169},\n",
    " 'hvac': {5: 41.456164918478692,\n",
    "  10: 42.696526905101365,\n",
    "  15: 41.013572830132595,\n",
    "  20: 40.609486841670822,\n",
    "  25: 37.197133297186234,\n",
    "  30: 39.662258024892203,\n",
    "  35: 37.713097406442721,\n",
    "  40: 38.27185066046642},\n",
    " 'mw': {5: 3.8395188623199954,\n",
    "  10: 3.967501994940386,\n",
    "  15: 3.8617083923160944,\n",
    "  20: 4.1287945780632205,\n",
    "  25: 4.2829686504148015,\n",
    "  30: 4.4174087702719058,\n",
    "  35: 4.7663866949107403,\n",
    "  40: 4.8825981046459646},\n",
    " 'oven': {5: 13.148176466765525,\n",
    "  10: 11.564168174193334,\n",
    "  15: 12.521084653406037,\n",
    "  20: 11.798429007437589,\n",
    "  25: 13.4149674875818,\n",
    "  30: 10.493022381927277,\n",
    "  35: 10.332589328644424,\n",
    "  40: 9.9103233526690655},\n",
    " 'wm': {5: 1.4192316847749882,\n",
    "  10: 1.444375551959485,\n",
    "  15: 1.2501379913365882,\n",
    "  20: 1.255405547129971,\n",
    "  25: 1.2441867493063448,\n",
    "  30: 1.2791745157535412,\n",
    "  35: 1.2432944245360518,\n",
    "  40: 1.2628505411868296}})"
   ]
  },
  {
   "cell_type": "code",
   "execution_count": 3,
   "metadata": {
    "collapsed": false
   },
   "outputs": [
    {
     "data": {
      "text/html": [
       "<div>\n",
       "<table border=\"1\" class=\"dataframe\">\n",
       "  <thead>\n",
       "    <tr style=\"text-align: right;\">\n",
       "      <th></th>\n",
       "      <th>dw</th>\n",
       "      <th>fridge</th>\n",
       "      <th>hvac</th>\n",
       "      <th>mw</th>\n",
       "      <th>oven</th>\n",
       "      <th>wm</th>\n",
       "    </tr>\n",
       "  </thead>\n",
       "  <tbody>\n",
       "    <tr>\n",
       "      <th>5</th>\n",
       "      <td>5.176499</td>\n",
       "      <td>11.051342</td>\n",
       "      <td>41.456165</td>\n",
       "      <td>3.839519</td>\n",
       "      <td>13.148176</td>\n",
       "      <td>1.419232</td>\n",
       "    </tr>\n",
       "    <tr>\n",
       "      <th>10</th>\n",
       "      <td>5.592085</td>\n",
       "      <td>10.151751</td>\n",
       "      <td>42.696527</td>\n",
       "      <td>3.967502</td>\n",
       "      <td>11.564168</td>\n",
       "      <td>1.444376</td>\n",
       "    </tr>\n",
       "    <tr>\n",
       "      <th>15</th>\n",
       "      <td>5.775935</td>\n",
       "      <td>10.369210</td>\n",
       "      <td>41.013573</td>\n",
       "      <td>3.861708</td>\n",
       "      <td>12.521085</td>\n",
       "      <td>1.250138</td>\n",
       "    </tr>\n",
       "    <tr>\n",
       "      <th>20</th>\n",
       "      <td>5.634207</td>\n",
       "      <td>10.153521</td>\n",
       "      <td>40.609487</td>\n",
       "      <td>4.128795</td>\n",
       "      <td>11.798429</td>\n",
       "      <td>1.255406</td>\n",
       "    </tr>\n",
       "    <tr>\n",
       "      <th>25</th>\n",
       "      <td>5.889362</td>\n",
       "      <td>10.395878</td>\n",
       "      <td>37.197133</td>\n",
       "      <td>4.282969</td>\n",
       "      <td>13.414967</td>\n",
       "      <td>1.244187</td>\n",
       "    </tr>\n",
       "    <tr>\n",
       "      <th>30</th>\n",
       "      <td>5.619712</td>\n",
       "      <td>10.143982</td>\n",
       "      <td>39.662258</td>\n",
       "      <td>4.417409</td>\n",
       "      <td>10.493022</td>\n",
       "      <td>1.279175</td>\n",
       "    </tr>\n",
       "    <tr>\n",
       "      <th>35</th>\n",
       "      <td>5.963844</td>\n",
       "      <td>10.398512</td>\n",
       "      <td>37.713097</td>\n",
       "      <td>4.766387</td>\n",
       "      <td>10.332589</td>\n",
       "      <td>1.243294</td>\n",
       "    </tr>\n",
       "    <tr>\n",
       "      <th>40</th>\n",
       "      <td>6.108702</td>\n",
       "      <td>10.678357</td>\n",
       "      <td>38.271851</td>\n",
       "      <td>4.882598</td>\n",
       "      <td>9.910323</td>\n",
       "      <td>1.262851</td>\n",
       "    </tr>\n",
       "  </tbody>\n",
       "</table>\n",
       "</div>"
      ],
      "text/plain": [
       "          dw     fridge       hvac        mw       oven        wm\n",
       "5   5.176499  11.051342  41.456165  3.839519  13.148176  1.419232\n",
       "10  5.592085  10.151751  42.696527  3.967502  11.564168  1.444376\n",
       "15  5.775935  10.369210  41.013573  3.861708  12.521085  1.250138\n",
       "20  5.634207  10.153521  40.609487  4.128795  11.798429  1.255406\n",
       "25  5.889362  10.395878  37.197133  4.282969  13.414967  1.244187\n",
       "30  5.619712  10.143982  39.662258  4.417409  10.493022  1.279175\n",
       "35  5.963844  10.398512  37.713097  4.766387  10.332589  1.243294\n",
       "40  6.108702  10.678357  38.271851  4.882598   9.910323  1.262851"
      ]
     },
     "execution_count": 3,
     "metadata": {},
     "output_type": "execute_result"
    }
   ],
   "source": [
    "sd_mean_error"
   ]
  },
  {
   "cell_type": "code",
   "execution_count": 4,
   "metadata": {
    "collapsed": true
   },
   "outputs": [],
   "source": [
    "sd_sem_error = pd.DataFrame({'dw': {5: 0.27155126889358572,\n",
    "  10: 0.25354531115062673,\n",
    "  15: 0.20932325575085148,\n",
    "  20: 0.19256589464558593,\n",
    "  25: 0.21376369587467134,\n",
    "  30: 0.20530325129220683,\n",
    "  35: 0.22964680425480671,\n",
    "  40: 0.24245326709485171},\n",
    " 'fridge': {5: 0.56593137173122765,\n",
    "  10: 0.53300451678550864,\n",
    "  15: 0.48442637737670874,\n",
    "  20: 0.52435371399980357,\n",
    "  25: 0.48529410786273336,\n",
    "  30: 0.49332757253236437,\n",
    "  35: 0.48773004417456095,\n",
    "  40: 0.50091688375850807},\n",
    " 'hvac': {5: 7.5699698919117555,\n",
    "  10: 8.3835742783189726,\n",
    "  15: 7.8515183958168553,\n",
    "  20: 8.5928988725542776,\n",
    "  25: 7.5248161108975156,\n",
    "  30: 8.4218350776761675,\n",
    "  35: 7.8732903052030618,\n",
    "  40: 7.7498388102312985},\n",
    " 'mw': {5: 0.35225479527652487,\n",
    "  10: 0.34327661441870982,\n",
    "  15: 0.33103447751903209,\n",
    "  20: 0.34856699457349039,\n",
    "  25: 0.3754250850483678,\n",
    "  30: 0.38021475159397977,\n",
    "  35: 0.42042863465627978,\n",
    "  40: 0.42997566138075888},\n",
    " 'oven': {5: 3.6547203831696766,\n",
    "  10: 2.978418194757523,\n",
    "  15: 3.4341438690420341,\n",
    "  20: 3.2111837903899443,\n",
    "  25: 3.7817842282519045,\n",
    "  30: 2.5357089022659833,\n",
    "  35: 2.439307356577884,\n",
    "  40: 2.1008829363279231},\n",
    " 'wm': {5: 0.27929626114992512,\n",
    "  10: 0.31837400131981347,\n",
    "  15: 0.30112148540047357,\n",
    "  20: 0.24334555654410936,\n",
    "  25: 0.24588824459586353,\n",
    "  30: 0.2358903984516241,\n",
    "  35: 0.22931128405962103,\n",
    "  40: 0.2476744226307227}})"
   ]
  },
  {
   "cell_type": "code",
   "execution_count": 5,
   "metadata": {
    "collapsed": true
   },
   "outputs": [],
   "source": [
    "%matplotlib inline"
   ]
  },
  {
   "cell_type": "code",
   "execution_count": 7,
   "metadata": {
    "collapsed": false
   },
   "outputs": [],
   "source": [
    "import pickle\n",
    "out_overall = pickle.load(open('../data/input/all_regions.pkl','r'))\n",
    "train_df = out_overall['SanDiego']"
   ]
  },
  {
   "cell_type": "code",
   "execution_count": 7,
   "metadata": {
    "collapsed": true
   },
   "outputs": [],
   "source": [
    "np.random.seed(0)"
   ]
  },
  {
   "cell_type": "code",
   "execution_count": 8,
   "metadata": {
    "collapsed": true
   },
   "outputs": [],
   "source": [
    "out = {}\n",
    "\n",
    "for appliance in sd_mean_error.columns:\n",
    "    out[appliance] = {}\n",
    "    if appliance ==\"hvac\":\n",
    "        month_start, month_end = 5, 11\n",
    "    else:\n",
    "        month_start, month_end=1, 13\n",
    "    for month in range(month_start, month_end):\n",
    "        out[appliance][month] = {}\n",
    "        drop_train_df = train_df['%s_%d' %(appliance, month)].dropna()\n",
    "        mean_entry = train_df['%s_%d' %(appliance, month)].mean()\n",
    "        out[appliance][month] = (drop_train_df-mean_entry).abs().mean()\n",
    "        "
   ]
  },
  {
   "cell_type": "code",
   "execution_count": 11,
   "metadata": {
    "collapsed": true
   },
   "outputs": [],
   "source": [
    "mean_region = pd.DataFrame(out).mean()"
   ]
  },
  {
   "cell_type": "code",
   "execution_count": 12,
   "metadata": {
    "collapsed": false
   },
   "outputs": [
    {
     "data": {
      "text/plain": [
       "{5: 10.847252749007984,\n",
       " 6: 57.12228430885571,\n",
       " 7: 108.41721988893876,\n",
       " 8: 125.45122088179174,\n",
       " 9: 125.34244930702923,\n",
       " 10: 72.0900117829442}"
      ]
     },
     "execution_count": 12,
     "metadata": {},
     "output_type": "execute_result"
    }
   ],
   "source": [
    "out['hvac']"
   ]
  },
  {
   "cell_type": "code",
   "execution_count": 13,
   "metadata": {
    "collapsed": false
   },
   "outputs": [],
   "source": [
    "out = {}\n",
    "for appliance in sd_mean_error.columns:\n",
    "    out[appliance] = {}\n",
    "    if appliance ==\"hvac\":\n",
    "        month_start, month_end = 5, 11\n",
    "    else:\n",
    "        month_start, month_end=1, 13\n",
    "    for month in range(month_start, month_end):\n",
    "        out[appliance][month] = {}\n",
    "        drop_train_df = train_df['%s_%d' %(appliance, month)].dropna()\n",
    "        mean_entry = train_df['%s_%d' %(appliance, month)].mean()\n",
    "        out[appliance][month] = (drop_train_df-mean_entry).abs().mean()\n",
    "        "
   ]
  },
  {
   "cell_type": "code",
   "execution_count": 15,
   "metadata": {
    "collapsed": false
   },
   "outputs": [
    {
     "data": {
      "image/png": "[encoded data removed]",
      "text/plain": [
       "<matplotlib.figure.Figure at 0x1168cdd10>"
      ]
     },
     "metadata": {},
     "output_type": "display_data"
    }
   ],
   "source": [
    "\n",
    "import matplotlib.pyplot as plt \n",
    "cols = len(sd_mean_error.columns)\n",
    "fig, ax = plt.subplots(ncols=cols, figsize=(18,4))\n",
    "for i, appliance in enumerate(sd_mean_error.columns):\n",
    "    sd_mean_error[appliance].plot(yerr=sd_sem_error[appliance], ax=ax[i])\n",
    "    ax[i].axhline(mean_region[appliance], color='r')\n",
    "    #ax[i].axhline(oracle_accuracy[appliance], color='g')\n",
    "    ax[i].set_title(appliance)\n",
    "ax[0].set_ylabel(\"Mean error in kWh\")\n",
    "plt.tight_layout()\n",
    "#plt.savefig(\"../results/oracle_matching_mean.png\")"
   ]
  },
  {
   "cell_type": "code",
   "execution_count": 81,
   "metadata": {
    "collapsed": false
   },
   "outputs": [],
   "source": [
    "mean_region = pd.DataFrame(out).mean()"
   ]
  },
  {
   "cell_type": "code",
   "execution_count": 82,
   "metadata": {
    "collapsed": false
   },
   "outputs": [
    {
     "data": {
      "text/plain": [
       "dw         6.190171\n",
       "fridge    10.010303\n",
       "hvac      83.211740\n",
       "mw         3.574312\n",
       "oven      14.880261\n",
       "wm         0.803791\n",
       "dtype: float64"
      ]
     },
     "execution_count": 82,
     "metadata": {},
     "output_type": "execute_result"
    }
   ],
   "source": [
    "mean_region"
   ]
  },
  {
   "cell_type": "code",
   "execution_count": 74,
   "metadata": {
    "collapsed": false
   },
   "outputs": [
    {
     "name": "stdout",
     "output_type": "stream",
     "text": [
      "hvac\n",
      "wm\n",
      "fridge\n",
      "mw\n",
      "oven\n",
      "dw\n"
     ]
    }
   ],
   "source": [
    "from itertools import combinations\n",
    "out = {}\n",
    "for appliance in sd_mean_error.columns:\n",
    "    out[appliance] = {}\n",
    "    for home in train_df.index:\n",
    "        out[appliance][home] = {\"best_prediction_array\":{}, \"best_score\":1e7, \"optimal_subset\":{}}\n",
    "\n",
    "\n",
    "\n",
    "\n",
    "\n",
    "\n",
    "appliance_columns = {'fridge':[\"fridge_%d\" % i for i in range(1, 13)],\n",
    "                     'hvac':[\"hvac_%d\" % i for i in range(5, 11)],\n",
    "                     \"mw\":[\"mw_%d\" % i for i in range(1, 13)],\n",
    "                     \"dw\":[\"dw_%d\" % i for i in range(1, 13)],\n",
    "                     \"wm\":[\"wm_%d\" % i for i in range(1, 13)],\n",
    "                     \"oven\":[\"oven_%d\" % i for i in range(1, 13)]}\n",
    "\n",
    "errors_dict = {}\n",
    "for appliance in appliance_columns.keys():\n",
    "    print appliance\n",
    "    errors_dict[appliance] = {}\n",
    "    for max_length in range(1, 3):\n",
    "        errors_dict[appliance][max_length] = {}\n",
    "        all_combinations = combinations(train_df.index, max_length)\n",
    "        for train_homes in all_combinations:\n",
    "\n",
    "            test_homes = np.setdiff1d(train_df.index,train_homes)\n",
    "            for home in test_homes:\n",
    "                pred_home = np.mean(train_df.ix[list(train_homes)][appliance_columns[appliance]])\n",
    "                gt_home = train_df.ix[home][appliance_columns[appliance]]\n",
    "                \n",
    "                error = (gt_home-pred_home).abs().mean()\n",
    "                \n",
    "                if error<out[appliance][home]['best_score']:\n",
    "                    errors_dict[appliance][max_length][home] = (gt_home-pred_home).abs()\n",
    "                  \n",
    "                    out[appliance][home]['best_score'] = error\n",
    "                    out[appliance][home]['optimal_subset'] = train_homes\n",
    "                    out[appliance][home]['best_prediction_array'] = pred_home"
   ]
  },
  {
   "cell_type": "code",
   "execution_count": null,
   "metadata": {
    "collapsed": true
   },
   "outputs": [],
   "source": []
  },
  {
   "cell_type": "code",
   "execution_count": 75,
   "metadata": {
    "collapsed": false
   },
   "outputs": [],
   "source": [
    "oracle_accuracy = pd.Series({f:pd.DataFrame(errors_dict[f][2]).mean().mean() for f in appliance_columns.keys()})"
   ]
  },
  {
   "cell_type": "code",
   "execution_count": 67,
   "metadata": {
    "collapsed": false
   },
   "outputs": [
    {
     "data": {
      "text/plain": [
       "dw         1.760769\n",
       "fridge     4.844550\n",
       "hvac      23.182456\n",
       "mw         1.545814\n",
       "oven       4.891420\n",
       "wm         1.385187\n",
       "dtype: float64"
      ]
     },
     "execution_count": 67,
     "metadata": {},
     "output_type": "execute_result"
    }
   ],
   "source": [
    "pd.DataFrame(errors_dict['dw'][2]).mean().mean()"
   ]
  },
  {
   "cell_type": "code",
   "execution_count": 73,
   "metadata": {
    "collapsed": false
   },
   "outputs": [
    {
     "data": {
      "text/plain": [
       "0.18868327140808105"
      ]
     },
     "execution_count": 73,
     "metadata": {},
     "output_type": "execute_result"
    }
   ],
   "source": [
    "pd.DataFrame(errors_dict['wm'][2]).mean().mean()"
   ]
  },
  {
   "cell_type": "code",
   "execution_count": 76,
   "metadata": {
    "collapsed": false
   },
   "outputs": [
    {
     "data": {
      "text/plain": [
       "dw         0.748570\n",
       "fridge     3.542064\n",
       "hvac      11.774974\n",
       "mw         0.695382\n",
       "oven       3.606222\n",
       "wm         0.188683\n",
       "dtype: float64"
      ]
     },
     "execution_count": 76,
     "metadata": {},
     "output_type": "execute_result"
    }
   ],
   "source": [
    "oracle_accuracy"
   ]
  },
  {
   "cell_type": "code",
   "execution_count": 91,
   "metadata": {
    "collapsed": false
   },
   "outputs": [
    {
     "name": "stdout",
     "output_type": "stream",
     "text": [
      "hvac\n",
      "wm\n",
      "fridge\n",
      "mw\n",
      "oven\n",
      "dw\n"
     ]
    }
   ],
   "source": [
    "train_df = out_overall['Austin']\n",
    "from itertools import combinations\n",
    "out = {}\n",
    "for appliance in sd_mean_error.columns:\n",
    "    out[appliance] = {}\n",
    "    for home in train_df.index:\n",
    "        out[appliance][home] = {\"best_prediction_array\":{}, \"best_score\":1e7, \"optimal_subset\":{}}\n",
    "\n",
    "\n",
    "\n",
    "\n",
    "\n",
    "\n",
    "appliance_columns = {'fridge':[\"fridge_%d\" % i for i in range(1, 13)],\n",
    "                     'hvac':[\"hvac_%d\" % i for i in range(5, 11)],\n",
    "                     \"mw\":[\"mw_%d\" % i for i in range(1, 13)],\n",
    "                     \"dw\":[\"dw_%d\" % i for i in range(1, 13)],\n",
    "                     \"wm\":[\"wm_%d\" % i for i in range(1, 13)],\n",
    "                     \"oven\":[\"oven_%d\" % i for i in range(1, 13)]}\n",
    "\n",
    "errors_dict = {}\n",
    "for appliance in appliance_columns.keys():\n",
    "    print appliance\n",
    "    errors_dict[appliance] = {}\n",
    "    for max_length in range(1, 2):\n",
    "        errors_dict[appliance][max_length] = {}\n",
    "        all_combinations = combinations(train_df.index, max_length)\n",
    "        for train_homes in all_combinations:\n",
    "\n",
    "            test_homes = np.setdiff1d(train_df.index,train_homes)\n",
    "            for home in test_homes:\n",
    "                pred_home = np.mean(train_df.ix[list(train_homes)][appliance_columns[appliance]])\n",
    "                gt_home = train_df.ix[home][appliance_columns[appliance]]\n",
    "                \n",
    "                error = (gt_home-pred_home).abs().mean()\n",
    "                \n",
    "                if error<out[appliance][home]['best_score']:\n",
    "                    errors_dict[appliance][max_length][home] = (gt_home-pred_home).abs()\n",
    "                  \n",
    "                    out[appliance][home]['best_score'] = error\n",
    "                    out[appliance][home]['optimal_subset'] = train_homes\n",
    "                    out[appliance][home]['best_prediction_array'] = pred_home"
   ]
  },
  {
   "cell_type": "code",
   "execution_count": 92,
   "metadata": {
    "collapsed": true
   },
   "outputs": [],
   "source": [
    "oracle_accuracy = pd.Series({f:pd.DataFrame(errors_dict[f][1]).mean().mean() for f in appliance_columns.keys()})"
   ]
  },
  {
   "cell_type": "code",
   "execution_count": 93,
   "metadata": {
    "collapsed": false
   },
   "outputs": [
    {
     "data": {
      "text/plain": [
       "dw         0.970759\n",
       "fridge     2.791433\n",
       "hvac      18.700419\n",
       "mw         1.206990\n",
       "oven       2.912483\n",
       "wm         0.751847\n",
       "dtype: float64"
      ]
     },
     "execution_count": 93,
     "metadata": {},
     "output_type": "execute_result"
    }
   ],
   "source": [
    "oracle_accuracy"
   ]
  },
  {
   "cell_type": "code",
   "execution_count": 94,
   "metadata": {
    "collapsed": true
   },
   "outputs": [],
   "source": [
    "austin_mean_error = pd.DataFrame({'dw': {5: 6.4947639590194015,\n",
    "  10: 6.2117077735665474,\n",
    "  15: 6.3859031480752551,\n",
    "  20: 5.9334155086976423,\n",
    "  25: 6.5829255137520812,\n",
    "  30: 5.8024449237479887,\n",
    "  35: 5.3450266172632128,\n",
    "  40: 5.5492020075859143},\n",
    " 'ec': {5: 115.99749948416449,\n",
    "  10: 109.05930352369906,\n",
    "  15: 98.356755946581657,\n",
    "  20: 94.446074638446404,\n",
    "  25: 68.025493137665649,\n",
    "  30: 83.305071246547016,\n",
    "  35: 101.48513096680141,\n",
    "  40: 159.84148451637409},\n",
    " 'fridge': {5: 19.175269471010839,\n",
    "  10: 17.628161001237313,\n",
    "  15: 17.266711547100083,\n",
    "  20: 14.768037967152422,\n",
    "  25: 16.83406907664774,\n",
    "  30: 17.699246170277654,\n",
    "  35: 18.646752571396572,\n",
    "  40: 16.015644021801101},\n",
    " 'hvac': {5: 143.2248358465701,\n",
    "  10: 136.54853605141355,\n",
    "  15: 161.09180015893128,\n",
    "  20: 107.99466508558316,\n",
    "  25: 153.69478725986357,\n",
    "  30: 172.06440342240089,\n",
    "  35: 132.57951700914717,\n",
    "  40: 143.2407070012201},\n",
    " 'mw': {5: 5.897965183361932,\n",
    "  10: 5.7450614114029781,\n",
    "  15: 5.7239067403033639,\n",
    "  20: 6.4381852278450538,\n",
    "  25: 6.3071673790226086,\n",
    "  30: 6.0571209335722891,\n",
    "  35: 6.9118133891334255,\n",
    "  40: 4.5361181733425964},\n",
    " 'oven': {5: 9.3999712741035655,\n",
    "  10: 9.2649113600656055,\n",
    "  15: 7.3252063187581902,\n",
    "  20: 10.724332578042231,\n",
    "  25: 10.265627097175564,\n",
    "  30: 12.870506182919231,\n",
    "  35: 10.696812813851272,\n",
    "  40: 7.9979284963674964},\n",
    " 'wh': {5: 87.900304565189103,\n",
    "  10: 72.145638308410469,\n",
    "  15: 50.106477691084422,\n",
    "  20: 70.929250131770132,\n",
    "  25: 46.773734061474705,\n",
    "  30: 34.29298494088642,\n",
    "  35: 86.314872928457063,\n",
    "  40: 71.223740307814424},\n",
    " 'wm': {5: 3.5737517664174505,\n",
    "  10: 3.3915025572177169,\n",
    "  15: 3.0293719699035346,\n",
    "  20: 3.9526734934874526,\n",
    "  25: 5.3647592467956047,\n",
    "  30: 3.6685337346105418,\n",
    "  35: 2.6584645598196803,\n",
    "  40: 4.2348965122188851}})"
   ]
  },
  {
   "cell_type": "code",
   "execution_count": 95,
   "metadata": {
    "collapsed": true
   },
   "outputs": [],
   "source": [
    "austin_sem_error = pd.DataFrame({'dw': {5: 0.17086232093361736,\n",
    "  10: 0.18389962469620372,\n",
    "  15: 0.22073076557382354,\n",
    "  20: 0.22732997147766359,\n",
    "  25: 0.22130782212535802,\n",
    "  30: 0.1639108491025022,\n",
    "  35: 0.32683946910627037,\n",
    "  40: 0.36499607146400881},\n",
    " 'ec': {5: 4.1448360926814027,\n",
    "  10: 2.6630904408457861,\n",
    "  15: 3.2880494445730037,\n",
    "  20: 2.7251299026129279,\n",
    "  25: 4.8891470606072014,\n",
    "  30: 3.6596777772492741,\n",
    "  35: 3.9280843742816716,\n",
    "  40: 11.071823339280284},\n",
    " 'fridge': {5: 0.59140987055266625,\n",
    "  10: 0.54149890309639426,\n",
    "  15: 0.59479156530590738,\n",
    "  20: 0.27310736037676653,\n",
    "  25: 0.71771424332491318,\n",
    "  30: 0.6717594911831235,\n",
    "  35: 0.56415401026860423,\n",
    "  40: 0.37500243355576163},\n",
    " 'hvac': {5: 17.701905880250379,\n",
    "  10: 16.685637140570734,\n",
    "  15: 23.398688682016601,\n",
    "  20: 11.726911967405481,\n",
    "  25: 22.105930756498122,\n",
    "  30: 22.39065639774735,\n",
    "  35: 13.948102140615948,\n",
    "  40: 15.830994335057309},\n",
    " 'mw': {5: 0.15196033075545906,\n",
    "  10: 0.17985852255344179,\n",
    "  15: 0.17069635618154852,\n",
    "  20: 0.22093912492649498,\n",
    "  25: 0.22304886129979151,\n",
    "  30: 0.25670476345288129,\n",
    "  35: 0.34480529711632435,\n",
    "  40: 0.1529390883854447},\n",
    " 'oven': {5: 0.49260451142784445,\n",
    "  10: 0.48386409737058472,\n",
    "  15: 0.24470596410989809,\n",
    "  20: 0.67727961305360918,\n",
    "  25: 1.1182034419857845,\n",
    "  30: 1.0568906320640068,\n",
    "  35: 1.0114326585818483,\n",
    "  40: 0.44671857959194589},\n",
    " 'wh': {5: 24.533234893480358,\n",
    "  10: 11.454664978137982,\n",
    "  15: 8.485491257216351,\n",
    "  20: 4.9510199967911106,\n",
    "  25: 6.9696059488697903,\n",
    "  30: 4.4872410327275745,\n",
    "  35: 9.3150905100982833,\n",
    "  40: 10.527483319529152},\n",
    " 'wm': {5: 0.27518011922723212,\n",
    "  10: 0.27918186087436869,\n",
    "  15: 0.29539635693196636,\n",
    "  20: 0.38272689965423579,\n",
    "  25: 0.79614519660752547,\n",
    "  30: 0.26333160274488476,\n",
    "  35: 0.49196434245090404,\n",
    "  40: 0.35797628713904484}})"
   ]
  },
  {
   "cell_type": "code",
   "execution_count": 99,
   "metadata": {
    "collapsed": false
   },
   "outputs": [
    {
     "data": {
      "image/png": "[encoded data removed]",
      "text/plain": [
       "<matplotlib.figure.Figure at 0x11b38ad10>"
      ]
     },
     "metadata": {},
     "output_type": "display_data"
    }
   ],
   "source": [
    "\n",
    "import matplotlib.pyplot as plt \n",
    "cols = len(austin_mean_error.columns)\n",
    "fig, ax = plt.subplots(ncols=cols, figsize=(18,4))\n",
    "for i, appliance in enumerate(austin_mean_error.columns):\n",
    "    austin_mean_error[appliance].plot(yerr=austin_sem_error[appliance], ax=ax[i])\n",
    "    try:\n",
    "        ax[i].axhline(mean_region[appliance], color='r')\n",
    "        ax[i].axhline(oracle_accuracy[appliance], color='g')\n",
    "    except:\n",
    "        pass\n",
    "    ax[i].set_title(appliance)\n",
    "ax[0].set_ylabel(\"Mean error in kWh\")\n",
    "plt.tight_layout()\n",
    "#plt.savefig(\"../results/austin_oracle_matching_mean.png\")"
   ]
  },
  {
   "cell_type": "code",
   "execution_count": 97,
   "metadata": {
    "collapsed": true
   },
   "outputs": [],
   "source": [
    "out = {}\n",
    "for appliance in austin_mean_error.columns:\n",
    "    out[appliance] = {}\n",
    "    if appliance ==\"hvac\":\n",
    "        month_start, month_end = 5, 11\n",
    "    else:\n",
    "        month_start, month_end=1, 13\n",
    "    for month in range(month_start, month_end):\n",
    "        out[appliance][month] = {}\n",
    "        drop_train_df = train_df['%s_%d' %(appliance, month)].dropna()\n",
    "        mean_entry = train_df['%s_%d' %(appliance, month)].mean()\n",
    "        out[appliance][month] = (drop_train_df-mean_entry).abs().mean()\n",
    "mean_region = pd.DataFrame(out).mean()"
   ]
  },
  {
   "cell_type": "code",
   "execution_count": 98,
   "metadata": {
    "collapsed": false
   },
   "outputs": [
    {
     "data": {
      "text/plain": [
       "dw          7.032290\n",
       "ec         90.841153\n",
       "fridge     18.638845\n",
       "hvac      206.734066\n",
       "mw          5.585320\n",
       "oven        8.752652\n",
       "wh         62.902527\n",
       "wm          3.136353\n",
       "dtype: float64"
      ]
     },
     "execution_count": 98,
     "metadata": {},
     "output_type": "execute_result"
    }
   ],
   "source": [
    "mean_region"
   ]
  },
  {
   "cell_type": "code",
   "execution_count": 156,
   "metadata": {
    "collapsed": false
   },
   "outputs": [
    {
     "data": {
      "text/plain": [
       "'\\n\\nout_path = os.path.expanduser(\"~/main-out-new-larger/\")\\nout = {}\\nfor feature in [\"Static\",\"Monthly\",\"Monthly+Static\"]:\\n    out[feature] = {}\\n    for appliance in APPLIANCES:\\n        out[feature][appliance] = {}\\n        if appliance ==\"hvac\":\\n            month_start, month_end = 5, 11\\n        else:\\n            month_start, month_end = 1, 13\\n        for home in all_homes[appliance][:]:\\n\\n            pred_df = pd.read_csv(out_path+\"%s_%s_%d.csv\" %(appliance, feature, home), index_col=0).squeeze()\\n            gt_df = df.ix[home][[\"%s_%d\" %(appliance,month) for month in range(month_start, month_end)]]\\n            gt_df.index = range(month_start, month_end)\\n            pred_df.index = range(month_start, month_end)\\n            error = (gt_df-pred_df).abs()\\n            out[feature][appliance][home] = error.mean()\\n'"
      ]
     },
     "execution_count": 156,
     "metadata": {},
     "output_type": "execute_result"
    }
   ],
   "source": [
    "# NEED TO RUN ON CLUSTER\n",
    "import sys\n",
    "CLUSTER=True\n",
    "sys.path.insert(0,'../code/')\n",
    "if CLUSTER:\n",
    "    sys.path.insert(0, '/if6/nb2cz/anaconda/lib/python2.7/site-packages')\n",
    "\n",
    "import  os\n",
    "\n",
    "import numpy as np\n",
    "import pandas as pd\n",
    "\n",
    "\n",
    "from create_df_larger import read_df_larger\n",
    "df, dfc, all_homes, appliance_min, national_average = read_df_larger()\n",
    "\n",
    "df = df.rename(columns={'house_num_rooms':'num_rooms',\n",
    "                        'num_occupants':'total_occupants',\n",
    "                        'difference_ratio_min_max':'ratio_difference_min_max'})\n",
    "\n",
    "from all_functions import *\n",
    "from features_larger import *\n",
    "\n",
    "import sys\n",
    "\n",
    "from sklearn.neighbors import KNeighborsRegressor\n",
    "from sklearn.cross_validation import ShuffleSplit\n",
    "from sklearn.cross_validation import LeaveOneOut\n",
    "\n",
    "NUM_NEIGHBOUR_MAX = 6\n",
    "F_MAX = 6\n",
    "o = {}\n",
    "import json\n",
    "APPLIANCES= [\"hvac\",\"fridge\",\"wm\",\"dw\",\"mw\",\"oven\",\"ec\"]\n",
    "all_homes['fridge']=np.setdiff1d(all_homes['fridge'], [59, 3893, 222, 5371])\n",
    "#APPLIANCES=[\"hvac\",\"fridge\"]\n",
    "for appliance in APPLIANCES:\n",
    "    if appliance ==\"hvac\":\n",
    "        month_start, month_end = 5, 11\n",
    "    else:\n",
    "        month_start, month_end = 1, 13\n",
    "    mean_df = df.ix[all_homes[appliance]][[\"%s_%d\" %(appliance,month) for month in range(month_start, month_end)]].mean()\n",
    "    gt_df = df.ix[all_homes[appliance]][[\"%s_%d\" %(appliance,month) for month in range(month_start, month_end)]]\n",
    "    o[appliance] = ((gt_df-mean_df).abs()/gt_df)\n",
    "    \n",
    "\"\"\"\n",
    "\n",
    "out_path = os.path.expanduser(\"~/main-out-new-larger/\")\n",
    "out = {}\n",
    "for feature in [\"Static\",\"Monthly\",\"Monthly+Static\"]:\n",
    "    out[feature] = {}\n",
    "    for appliance in APPLIANCES:\n",
    "        out[feature][appliance] = {}\n",
    "        if appliance ==\"hvac\":\n",
    "            month_start, month_end = 5, 11\n",
    "        else:\n",
    "            month_start, month_end = 1, 13\n",
    "        for home in all_homes[appliance][:]:\n",
    "\n",
    "            pred_df = pd.read_csv(out_path+\"%s_%s_%d.csv\" %(appliance, feature, home), index_col=0).squeeze()\n",
    "            gt_df = df.ix[home][[\"%s_%d\" %(appliance,month) for month in range(month_start, month_end)]]\n",
    "            gt_df.index = range(month_start, month_end)\n",
    "            pred_df.index = range(month_start, month_end)\n",
    "            error = (gt_df-pred_df).abs()\n",
    "            out[feature][appliance][home] = error.mean()\n",
    "\"\"\""
   ]
  },
  {
   "cell_type": "code",
   "execution_count": 157,
   "metadata": {
    "collapsed": false
   },
   "outputs": [
    {
     "data": {
      "text/plain": [
       "75.77532442028162"
      ]
     },
     "execution_count": 157,
     "metadata": {},
     "output_type": "execute_result"
    }
   ],
   "source": [
    "p = 100-o['fridge']*100\n",
    "p[p<0] = 0\n",
    "p.mean().mean()"
   ]
  },
  {
   "cell_type": "code",
   "execution_count": 111,
   "metadata": {
    "collapsed": false
   },
   "outputs": [
    {
     "data": {
      "text/plain": [
       "dw_1     12.799892\n",
       "dw_2     10.726777\n",
       "dw_3     11.398667\n",
       "dw_4     10.729835\n",
       "dw_5     10.182237\n",
       "dw_6      9.195279\n",
       "dw_7      9.261850\n",
       "dw_8     10.072984\n",
       "dw_9     10.406815\n",
       "dw_10    10.118914\n",
       "dw_11    10.591207\n",
       "dw_12    11.368336\n",
       "dtype: float64"
      ]
     },
     "execution_count": 111,
     "metadata": {},
     "output_type": "execute_result"
    }
   ],
   "source": [
    "mean_df"
   ]
  },
  {
   "cell_type": "code",
   "execution_count": 115,
   "metadata": {
    "collapsed": false
   },
   "outputs": [
    {
     "data": {
      "text/plain": [
       "7.2950761326368685"
      ]
     },
     "execution_count": 115,
     "metadata": {},
     "output_type": "execute_result"
    }
   ],
   "source": [
    "(gt_df-mean_df).abs().mean().mean()"
   ]
  },
  {
   "cell_type": "code",
   "execution_count": null,
   "metadata": {
    "collapsed": true
   },
   "outputs": [],
   "source": []
  }
 ],
 "metadata": {
  "kernelspec": {
   "display_name": "Python 2",
   "language": "python",
   "name": "python2"
  },
  "language_info": {
   "codemirror_mode": {
    "name": "ipython",
    "version": 2
   },
   "file_extension": ".py",
   "mimetype": "text/x-python",
   "name": "python",
   "nbconvert_exporter": "python",
   "pygments_lexer": "ipython2",
   "version": "2.7.11"
  }
 },
 "nbformat": 4,
 "nbformat_minor": 0
}
