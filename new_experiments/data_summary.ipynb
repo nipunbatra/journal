{
 "cells": [
  {
   "cell_type": "code",
   "execution_count": 2,
   "metadata": {
    "collapsed": true
   },
   "outputs": [],
   "source": [
    "import pandas as pd\n",
    "import os"
   ]
  },
  {
   "cell_type": "code",
   "execution_count": 3,
   "metadata": {
    "collapsed": true
   },
   "outputs": [],
   "source": [
    "import matplotlib.pyplot as plt"
   ]
  },
  {
   "cell_type": "code",
   "execution_count": 4,
   "metadata": {
    "collapsed": true
   },
   "outputs": [],
   "source": [
    "%matplotlib inline"
   ]
  },
  {
   "cell_type": "code",
   "execution_count": 5,
   "metadata": {
    "collapsed": false
   },
   "outputs": [],
   "source": [
    "metadata_df = pd.read_csv(\"/Users/nipunbatra/w/dataport-metadata.csv\",index_col=0)"
   ]
  },
  {
   "cell_type": "code",
   "execution_count": 6,
   "metadata": {
    "collapsed": true
   },
   "outputs": [],
   "source": [
    "store = pd.HDFStore(\"/Users/nipunbatra/wiki-all.h5\")"
   ]
  },
  {
   "cell_type": "code",
   "execution_count": 7,
   "metadata": {
    "collapsed": false
   },
   "outputs": [
    {
     "name": "stdout",
     "output_type": "stream",
     "text": [
      "San Diego\n",
      "Boulder\n",
      "Austin\n",
      "Houston\n",
      "Dallas\n"
     ]
    }
   ],
   "source": [
    "from collections import Counter\n",
    "counter_dict = {}\n",
    "for city in [\"San Diego\", \"Boulder\", \"Austin\", \"Houston\", \"Dallas\"]:\n",
    "    print city\n",
    "    only_city_df = metadata_df[metadata_df['city'] == city]\n",
    "    counter_dict[city] = Counter()\n",
    "    for building in only_city_df.index:\n",
    "        try:\n",
    "            counter_dict[city].update(store['/%d' %building].resample(\"1M\")['use'].index)\n",
    "        except:\n",
    "            pass\n",
    "    counter_dict[city] = pd.Series(counter_dict[city])\n",
    "    \n",
    "    \n"
   ]
  },
  {
   "cell_type": "code",
   "execution_count": 9,
   "metadata": {
    "collapsed": true
   },
   "outputs": [],
   "source": [
    "import sys\n",
    "sys.path.append(\"../code/\")"
   ]
  },
  {
   "cell_type": "code",
   "execution_count": 10,
   "metadata": {
    "collapsed": true
   },
   "outputs": [],
   "source": [
    "from common_functions import tableau20blind, format_axes, latexify"
   ]
  },
  {
   "cell_type": "code",
   "execution_count": 11,
   "metadata": {
    "collapsed": false
   },
   "outputs": [
    {
     "data": {
      "image/png": "[encoded data removed]",
      "text/plain": [
       "<matplotlib.figure.Figure at 0x11549ac50>"
      ]
     },
     "metadata": {},
     "output_type": "display_data"
    }
   ],
   "source": [
    "\n",
    "pd.DataFrame(counter_dict)[\"2014\":][[\"Boulder\", \"San Diego\", \"Houston\"]].plot(kind=\"area\", stacked=False, \n",
    "                                                                              color=tableau20blind[::2])\n",
    "format_axes(plt.gca())\n",
    "plt.xlabel(\"Time\")\n",
    "plt.ylabel(\"Number of homes\")\n",
    "plt.tight_layout()\n",
    "plt.savefig(\"../results/large_dataset_cities.png\", bbox_inches=\"tight\")\n",
    "plt.savefig(\"../results/large_dataset_cities.pdf\", bbox_inches=\"tight\")"
   ]
  },
  {
   "cell_type": "code",
   "execution_count": 11,
   "metadata": {
    "collapsed": false
   },
   "outputs": [
    {
     "name": "stdout",
     "output_type": "stream",
     "text": [
      "Austin\n"
     ]
    }
   ],
   "source": [
    "stream_counter_dict = {}\n",
    "#for city in [\"San Diego\", \"Boulder\", \"Austin\", \"Houston\", \"Dallas\"]:\n",
    "for city in [\"Austin\"]:\n",
    "    print city\n",
    "    only_city_df = metadata_df[metadata_df['city'] == city]\n",
    "    stream_counter_dict[city] = Counter()\n",
    "    for building in only_city_df.index:\n",
    "        try:\n",
    "            stream_counter_dict[city].update(store['/%d' %building].columns)\n",
    "        except:\n",
    "            pass\n",
    "    #stream_counter_dict[city] = pd.Series(counter_dict[city])\n",
    "    \n",
    "    "
   ]
  },
  {
   "cell_type": "code",
   "execution_count": 12,
   "metadata": {
    "collapsed": false
   },
   "outputs": [],
   "source": [
    "streams_df = pd.DataFrame(stream_counter_dict)"
   ]
  },
  {
   "cell_type": "code",
   "execution_count": 14,
   "metadata": {
    "collapsed": false
   },
   "outputs": [
    {
     "data": {
      "text/plain": [
       "Index([u'air1', u'air2', u'air3', u'airwindowunit1', u'aquarium1',\n",
       "       u'bathroom1', u'bathroom2', u'bedroom1', u'bedroom2', u'bedroom3',\n",
       "       u'bedroom4', u'bedroom5', u'car1', u'clotheswasher1',\n",
       "       u'clotheswasher_dryg1', u'diningroom1', u'diningroom2', u'dishwasher1',\n",
       "       u'disposal1', u'drye1', u'dryg1', u'freezer1', u'furnace1', u'furnace2',\n",
       "       u'garage1', u'garage2', u'heater1', u'housefan1', u'icemaker1',\n",
       "       u'jacuzzi1', u'kitchen1', u'kitchen2', u'kitchenapp1', u'kitchenapp2',\n",
       "       u'lights_plugs1', u'lights_plugs2', u'lights_plugs3', u'lights_plugs4',\n",
       "       u'lights_plugs5', u'lights_plugs6', u'livingroom1', u'livingroom2',\n",
       "       u'microwave1', u'office1', u'outsidelights_plugs1',\n",
       "       u'outsidelights_plugs2', u'oven1', u'oven2', u'pool1', u'pool2',\n",
       "       u'poollight1', u'poolpump1', u'pump1', u'range1', u'refrigerator1',\n",
       "       u'refrigerator2', u'security1', u'shed1', u'sprinkler1', u'use',\n",
       "       u'utilityroom1', u'venthood1', u'waterheater1', u'waterheater2',\n",
       "       u'winecooler1'],\n",
       "      dtype='object')"
      ]
     },
     "execution_count": 14,
     "metadata": {},
     "output_type": "execute_result"
    }
   ],
   "source": [
    "streams_df.index"
   ]
  },
  {
   "cell_type": "code",
   "execution_count": 14,
   "metadata": {
    "collapsed": false
   },
   "outputs": [],
   "source": [
    "import seaborn as sns"
   ]
  },
  {
   "cell_type": "code",
   "execution_count": 17,
   "metadata": {
    "collapsed": false
   },
   "outputs": [
    {
     "data": {
      "image/png": "[encoded data removed]",
      "text/plain": [
       "<matplotlib.figure.Figure at 0x114c13190>"
      ]
     },
     "metadata": {},
     "output_type": "display_data"
    }
   ],
   "source": [
    "sns.heatmap(streams_df[[\"Boulder\", \"San Diego\", \"Houston\"]].dropna().drop(\"use\"), annot=True)\n",
    "plt.savefig(\"../results/large_dataset_cities_streams.pdf\", bbox_inches=\"tight\")\n",
    "plt.savefig(\"../results/large_dataset_cities_streams.png\", bbox_inches=\"tight\")"
   ]
  },
  {
   "cell_type": "code",
   "execution_count": 18,
   "metadata": {
    "collapsed": false
   },
   "outputs": [
    {
     "data": {
      "image/png": "[encoded data removed]",
      "text/plain": [
       "<matplotlib.figure.Figure at 0x1162f3c50>"
      ]
     },
     "metadata": {},
     "output_type": "display_data"
    }
   ],
   "source": [
    "austin = streams_df[\"Austin\"]\n",
    "austin[austin>100].drop('use').plot(kind=\"barh\")\n",
    "plt.xlabel(\"Number of homes\")\n",
    "plt.savefig(\"../results/large_dataset_austin_streams.pdf\", bbox_inches=\"tight\")\n",
    "plt.savefig(\"../results/large_dataset_austin_streams.png\", bbox_inches=\"tight\")"
   ]
  },
  {
   "cell_type": "code",
   "execution_count": 19,
   "metadata": {
    "collapsed": false
   },
   "outputs": [
    {
     "name": "stdout",
     "output_type": "stream",
     "text": [
      "audits_2011.csv                   audits_2013_duct_leakage_eval.csv dataport-metadata.csv             survey_2013.csv\r\n",
      "audits_2013_appliances.csv        audits_2013_main.csv              survey_2011_all_participants.csv\r\n"
     ]
    }
   ],
   "source": [
    "!ls ~/git/nilm-actionable/data/total/"
   ]
  },
  {
   "cell_type": "code",
   "execution_count": 20,
   "metadata": {
    "collapsed": false
   },
   "outputs": [],
   "source": [
    "columns_to_use = {\n",
    "    'survey_2011_all_participants.csv': [\n",
    "        'males',\n",
    "        'females',\n",
    "        'age_under_5',\n",
    "        'age_6_to_12',\n",
    "        'age_13_to_18',\n",
    "        'age_19_to_24',\n",
    "        'age_25_to_34',\n",
    "        'age_35_to_49',\n",
    "        'age_50_to64',\n",
    "        'age_over_65',\n",
    "        'highest_education',\n",
    "        'income_range',\n",
    "        ],\n",
    "    'survey_2013.csv': [\n",
    "        'number_floors',\n",
    "        'house_num_rooms',\n",
    "        'house_square_feet',\n",
    "        'sex_males',\n",
    "        'sex_females',\n",
    "        'residents_under_5',\n",
    "        'residents_6_to_12',\n",
    "        'residents_13_to_18',\n",
    "        'residents_19_to_24',\n",
    "        'residents_25_to_34',\n",
    "        'residents_35_to_49',\n",
    "        'residents_50_to_64',\n",
    "        'residents_older_65',\n",
    "        'education_level',\n",
    "        'total_annual_income',\n",
    "        ],\n",
    "    'audits_2011.csv': ['no_bedrooms', 'year_built'],\n",
    "    'audits_2013_main.csv': ['Number_of_Floors__c',\n",
    "                             'Number_of_Bedrooms__c',\n",
    "                             'Construction_Year__c'],\n",
    "    'dataport-metadata.csv':['house_construction_year',\n",
    "                             'total_square_footage']\n",
    "    }\n",
    "\n",
    "\n"
   ]
  },
  {
   "cell_type": "code",
   "execution_count": 21,
   "metadata": {
    "collapsed": false
   },
   "outputs": [],
   "source": [
    "metadata_dataframes = {filename: pd.read_csv('/Users/nipunbatra/git/nilm-actionable/data/total/%s' %filename) for filename in columns_to_use.keys()}"
   ]
  },
  {
   "cell_type": "markdown",
   "metadata": {},
   "source": [
    "### Finding how much metadata we have for each city"
   ]
  },
  {
   "cell_type": "code",
   "execution_count": 22,
   "metadata": {
    "collapsed": false
   },
   "outputs": [
    {
     "data": {
      "text/plain": [
       "['dataport-metadata.csv',\n",
       " 'survey_2011_all_participants.csv',\n",
       " 'survey_2013.csv',\n",
       " 'audits_2011.csv',\n",
       " 'audits_2013_main.csv']"
      ]
     },
     "execution_count": 22,
     "metadata": {},
     "output_type": "execute_result"
    }
   ],
   "source": [
    "metadata_dataframes.keys()"
   ]
  },
  {
   "cell_type": "code",
   "execution_count": 23,
   "metadata": {
    "collapsed": false
   },
   "outputs": [
    {
     "name": "stdout",
     "output_type": "stream",
     "text": [
      "San Diego\n",
      "Boulder\n",
      "Austin\n",
      "Houston\n",
      "Dallas\n"
     ]
    }
   ],
   "source": [
    "counter_dict = {}\n",
    "out = {}\n",
    "for city in [\"San Diego\", \"Boulder\", \"Austin\", \"Houston\", \"Dallas\"]:\n",
    "#for city in [\"San Diego\"]:\n",
    "    out[city] = {}\n",
    "\n",
    "    \n",
    "    print city\n",
    "    only_city_df = metadata_df[metadata_df['city'] == city]\n",
    "    counter_dict[city] = Counter()\n",
    "    for building in only_city_df.index[:]:\n",
    "        try:\n",
    "            building=int(building)\n",
    "            out[city][building] = {}\n",
    "            for metadata_filename, metadata_columns in columns_to_use.iteritems():\n",
    "                \n",
    "                mdf = metadata_dataframes[metadata_filename]\n",
    "                \n",
    "                mdf_building = mdf[mdf.dataid==building].head(1)[metadata_columns]\n",
    "                \n",
    "                out[city][building].update(mdf_building.squeeze().to_dict())\n",
    "                \n",
    "                \n",
    "                \n",
    "            \n",
    "        except Exception, e:\n",
    "            print e\n",
    "    \n",
    "    "
   ]
  },
  {
   "cell_type": "code",
   "execution_count": 25,
   "metadata": {
    "collapsed": true
   },
   "outputs": [],
   "source": [
    "common_columns = {'year_built':['year_built','house_construction_year','Construction_Year__c'],\n",
    "                 'area':['house_square_feet','total_square_footage'],\n",
    "                 'num_floors':['Number_of_Floors__c','number_floors'],\n",
    "                 'num_bedrooms':['Number_of_Bedrooms__c','no_bedrooms'],\n",
    "                 'num_males':['males','sex_males'],\n",
    "                 'num_females':['females','sex_females'],\n",
    "                 'age_13_to_18':['age_13_to_18','residents_13_to_18'],\n",
    "                 'age_19_to_24':['age_19_to_24','residents_19_to_24'],\n",
    "                  'age_25_to_34':['age_25_to_34','residents_25_to_34'],\n",
    "                  'age_35_to_49':['age_35_to_49','residents_35_to_49'],\n",
    "                  'age_50_to_64':['age_50_to64','residents_50_to_64'],\n",
    "                  'age_over_65':['age_over_65','residents_older_65'],\n",
    "                  'age_6_to_12':['age_6_to_12','residents_6_to_12'],\n",
    "                  'age_under_5':['age_under_5','residents_under_5'],\n",
    "                  'education_level':['education_level','highest_education'],\n",
    "                  'income_range':['income_range','total_annual_income']\n",
    "                  \n",
    "                  \n",
    "                 }"
   ]
  },
  {
   "cell_type": "code",
   "execution_count": 42,
   "metadata": {
    "collapsed": false
   },
   "outputs": [
    {
     "name": "stdout",
     "output_type": "stream",
     "text": [
      "San Diego\n",
      "Boulder\n",
      "Austin\n",
      "Houston\n"
     ]
    }
   ],
   "source": [
    "odfs = {}\n",
    "for city in [\"San Diego\", \"Boulder\", \"Austin\", \"Houston\"]:\n",
    "    print city\n",
    "    odfs[city] = pd.DataFrame(out[city])\n",
    "    odfs[city] = odfs[city].replace([{}], [None])\n",
    "    odf = odfs[city]\n",
    "    odft = odf.T\n",
    "    out_new = {}\n",
    "    for common_key, common_list_columns in common_columns.iteritems():\n",
    "        out_new[common_key]={}\n",
    "        for home in odft.index:\n",
    "\n",
    "            num_columns = len(common_list_columns)\n",
    "            num_null = odft.ix[home][common_list_columns].isnull().sum()\n",
    "            if num_columns==num_null:\n",
    "                out_new[common_key][home]=None\n",
    "            else:\n",
    "                # Choose first not null\n",
    "                out_new[common_key][home]=odft.ix[home][common_list_columns].dropna().head(1).values[0]\n",
    "\n",
    "        for col in common_list_columns:\n",
    "\n",
    "            odft = odft.drop(col, axis=1)\n",
    "        odft[common_key] = pd.Series(out_new[common_key])\n",
    "    odfs[city]=odft.T\n",
    "    #odfs[city]=odft.T.notnull().sum(axis=1)\n",
    "\n",
    "    "
   ]
  },
  {
   "cell_type": "code",
   "execution_count": 27,
   "metadata": {
    "collapsed": false
   },
   "outputs": [
    {
     "ename": "ValueError",
     "evalue": "If using all scalar values, you must pass an index",
     "output_type": "error",
     "traceback": [
      "\u001b[0;31m---------------------------------------------------------------------------\u001b[0m",
      "\u001b[0;31mValueError\u001b[0m                                Traceback (most recent call last)",
      "\u001b[0;32m<ipython-input-27-f72cf9c21988>\u001b[0m in \u001b[0;36m<module>\u001b[0;34m()\u001b[0m\n\u001b[0;32m----> 1\u001b[0;31m \u001b[0mpd\u001b[0m\u001b[0;34m.\u001b[0m\u001b[0mDataFrame\u001b[0m\u001b[0;34m(\u001b[0m\u001b[0modfs\u001b[0m\u001b[0;34m)\u001b[0m\u001b[0;34m.\u001b[0m\u001b[0mplot\u001b[0m\u001b[0;34m(\u001b[0m\u001b[0mkind\u001b[0m\u001b[0;34m=\u001b[0m\u001b[0;34m\"bar\"\u001b[0m\u001b[0;34m,\u001b[0m \u001b[0mcolor\u001b[0m\u001b[0;34m=\u001b[0m\u001b[0mtableau20blind\u001b[0m\u001b[0;34m[\u001b[0m\u001b[0;34m:\u001b[0m\u001b[0;34m:\u001b[0m\u001b[0;36m2\u001b[0m\u001b[0;34m]\u001b[0m\u001b[0;34m,\u001b[0m \u001b[0msubplots\u001b[0m\u001b[0;34m=\u001b[0m\u001b[0mTrue\u001b[0m\u001b[0;34m,\u001b[0m \u001b[0mfigsize\u001b[0m\u001b[0;34m=\u001b[0m\u001b[0;34m(\u001b[0m\u001b[0;36m12\u001b[0m\u001b[0;34m,\u001b[0m\u001b[0;36m8\u001b[0m\u001b[0;34m)\u001b[0m\u001b[0;34m)\u001b[0m\u001b[0;34m\u001b[0m\u001b[0m\n\u001b[0m\u001b[1;32m      2\u001b[0m \u001b[0mfig\u001b[0m \u001b[0;34m=\u001b[0m \u001b[0mplt\u001b[0m\u001b[0;34m.\u001b[0m\u001b[0mgcf\u001b[0m\u001b[0;34m(\u001b[0m\u001b[0;34m)\u001b[0m\u001b[0;34m\u001b[0m\u001b[0m\n\u001b[1;32m      3\u001b[0m \u001b[0mfig\u001b[0m\u001b[0;34m.\u001b[0m\u001b[0mtext\u001b[0m\u001b[0;34m(\u001b[0m\u001b[0;34m-\u001b[0m\u001b[0;36m0.02\u001b[0m\u001b[0;34m,\u001b[0m \u001b[0;36m0.5\u001b[0m\u001b[0;34m,\u001b[0m \u001b[0;34m\"Number of homes\"\u001b[0m\u001b[0;34m,\u001b[0m \u001b[0mva\u001b[0m\u001b[0;34m=\u001b[0m\u001b[0;34m'center'\u001b[0m\u001b[0;34m,\u001b[0m \u001b[0mrotation\u001b[0m\u001b[0;34m=\u001b[0m\u001b[0;34m'vertical'\u001b[0m\u001b[0;34m)\u001b[0m\u001b[0;34m\u001b[0m\u001b[0m\n\u001b[1;32m      4\u001b[0m \u001b[0;34m\u001b[0m\u001b[0m\n\u001b[1;32m      5\u001b[0m \u001b[0mplt\u001b[0m\u001b[0;34m.\u001b[0m\u001b[0mtight_layout\u001b[0m\u001b[0;34m(\u001b[0m\u001b[0;34m)\u001b[0m\u001b[0;34m\u001b[0m\u001b[0m\n",
      "\u001b[0;32m/Users/nipunbatra/anaconda/lib/python2.7/site-packages/pandas/core/frame.pyc\u001b[0m in \u001b[0;36m__init__\u001b[0;34m(self, data, index, columns, dtype, copy)\u001b[0m\n\u001b[1;32m    224\u001b[0m                                  dtype=dtype, copy=copy)\n\u001b[1;32m    225\u001b[0m         \u001b[0;32melif\u001b[0m \u001b[0misinstance\u001b[0m\u001b[0;34m(\u001b[0m\u001b[0mdata\u001b[0m\u001b[0;34m,\u001b[0m \u001b[0mdict\u001b[0m\u001b[0;34m)\u001b[0m\u001b[0;34m:\u001b[0m\u001b[0;34m\u001b[0m\u001b[0m\n\u001b[0;32m--> 226\u001b[0;31m             \u001b[0mmgr\u001b[0m \u001b[0;34m=\u001b[0m \u001b[0mself\u001b[0m\u001b[0;34m.\u001b[0m\u001b[0m_init_dict\u001b[0m\u001b[0;34m(\u001b[0m\u001b[0mdata\u001b[0m\u001b[0;34m,\u001b[0m \u001b[0mindex\u001b[0m\u001b[0;34m,\u001b[0m \u001b[0mcolumns\u001b[0m\u001b[0;34m,\u001b[0m \u001b[0mdtype\u001b[0m\u001b[0;34m=\u001b[0m\u001b[0mdtype\u001b[0m\u001b[0;34m)\u001b[0m\u001b[0;34m\u001b[0m\u001b[0m\n\u001b[0m\u001b[1;32m    227\u001b[0m         \u001b[0;32melif\u001b[0m \u001b[0misinstance\u001b[0m\u001b[0;34m(\u001b[0m\u001b[0mdata\u001b[0m\u001b[0;34m,\u001b[0m \u001b[0mma\u001b[0m\u001b[0;34m.\u001b[0m\u001b[0mMaskedArray\u001b[0m\u001b[0;34m)\u001b[0m\u001b[0;34m:\u001b[0m\u001b[0;34m\u001b[0m\u001b[0m\n\u001b[1;32m    228\u001b[0m             \u001b[0;32mimport\u001b[0m \u001b[0mnumpy\u001b[0m\u001b[0;34m.\u001b[0m\u001b[0mma\u001b[0m\u001b[0;34m.\u001b[0m\u001b[0mmrecords\u001b[0m \u001b[0;32mas\u001b[0m \u001b[0mmrecords\u001b[0m\u001b[0;34m\u001b[0m\u001b[0m\n",
      "\u001b[0;32m/Users/nipunbatra/anaconda/lib/python2.7/site-packages/pandas/core/frame.pyc\u001b[0m in \u001b[0;36m_init_dict\u001b[0;34m(self, data, index, columns, dtype)\u001b[0m\n\u001b[1;32m    361\u001b[0m \u001b[0;34m\u001b[0m\u001b[0m\n\u001b[1;32m    362\u001b[0m         return _arrays_to_mgr(arrays, data_names, index, columns,\n\u001b[0;32m--> 363\u001b[0;31m                               dtype=dtype)\n\u001b[0m\u001b[1;32m    364\u001b[0m \u001b[0;34m\u001b[0m\u001b[0m\n\u001b[1;32m    365\u001b[0m     def _init_ndarray(self, values, index, columns, dtype=None,\n",
      "\u001b[0;32m/Users/nipunbatra/anaconda/lib/python2.7/site-packages/pandas/core/frame.pyc\u001b[0m in \u001b[0;36m_arrays_to_mgr\u001b[0;34m(arrays, arr_names, index, columns, dtype)\u001b[0m\n\u001b[1;32m   5156\u001b[0m     \u001b[0;31m# figure out the index, if necessary\u001b[0m\u001b[0;34m\u001b[0m\u001b[0;34m\u001b[0m\u001b[0m\n\u001b[1;32m   5157\u001b[0m     \u001b[0;32mif\u001b[0m \u001b[0mindex\u001b[0m \u001b[0;32mis\u001b[0m \u001b[0mNone\u001b[0m\u001b[0;34m:\u001b[0m\u001b[0;34m\u001b[0m\u001b[0m\n\u001b[0;32m-> 5158\u001b[0;31m         \u001b[0mindex\u001b[0m \u001b[0;34m=\u001b[0m \u001b[0mextract_index\u001b[0m\u001b[0;34m(\u001b[0m\u001b[0marrays\u001b[0m\u001b[0;34m)\u001b[0m\u001b[0;34m\u001b[0m\u001b[0m\n\u001b[0m\u001b[1;32m   5159\u001b[0m     \u001b[0;32melse\u001b[0m\u001b[0;34m:\u001b[0m\u001b[0;34m\u001b[0m\u001b[0m\n\u001b[1;32m   5160\u001b[0m         \u001b[0mindex\u001b[0m \u001b[0;34m=\u001b[0m \u001b[0m_ensure_index\u001b[0m\u001b[0;34m(\u001b[0m\u001b[0mindex\u001b[0m\u001b[0;34m)\u001b[0m\u001b[0;34m\u001b[0m\u001b[0m\n",
      "\u001b[0;32m/Users/nipunbatra/anaconda/lib/python2.7/site-packages/pandas/core/frame.pyc\u001b[0m in \u001b[0;36mextract_index\u001b[0;34m(data)\u001b[0m\n\u001b[1;32m   5195\u001b[0m \u001b[0;34m\u001b[0m\u001b[0m\n\u001b[1;32m   5196\u001b[0m         \u001b[0;32mif\u001b[0m \u001b[0;32mnot\u001b[0m \u001b[0mindexes\u001b[0m \u001b[0;32mand\u001b[0m \u001b[0;32mnot\u001b[0m \u001b[0mraw_lengths\u001b[0m\u001b[0;34m:\u001b[0m\u001b[0;34m\u001b[0m\u001b[0m\n\u001b[0;32m-> 5197\u001b[0;31m             raise ValueError('If using all scalar values, you must pass'\n\u001b[0m\u001b[1;32m   5198\u001b[0m                              ' an index')\n\u001b[1;32m   5199\u001b[0m \u001b[0;34m\u001b[0m\u001b[0m\n",
      "\u001b[0;31mValueError\u001b[0m: If using all scalar values, you must pass an index"
     ]
    }
   ],
   "source": [
    "pd.DataFrame(odfs).plot(kind=\"bar\", color=tableau20blind[::2], subplots=True, figsize=(12,8))\n",
    "fig = plt.gcf()\n",
    "fig.text(-0.02, 0.5, \"Number of homes\", va='center', rotation='vertical')\n",
    "\n",
    "plt.tight_layout()\n",
    "plt.savefig(\"../results/metadata.png\", bbox_inches=\"tight\")\n",
    "plt.savefig(\"../results/metadata.pdf\", bbox_inches=\"tight\")"
   ]
  },
  {
   "cell_type": "code",
   "execution_count": 43,
   "metadata": {
    "collapsed": false
   },
   "outputs": [],
   "source": [
    "for city in odfs.keys():\n",
    "    odfs[city] = odfs[city].ix[['house_num_rooms','num_males','num_females','area']].T.dropna()\n",
    "    odfs[city] = odfs[city].replace({'5 or more':5})\n",
    "    odfs[city] = odfs[city].replace({\"None\":0})\n",
    "    odfs[city] = odfs[city].astype('float64')\n",
    "    odfs[city][\"num_occupants\"] = odfs[city].num_females+odfs[city].num_males\n",
    "    odfs[city] = odfs[city].drop(\"num_males\",1)\n",
    "    odfs[city] = odfs[city].drop(\"num_females\",1)\n",
    "    odfs[city] = odfs[city].query('num_occupants>0')\n",
    "\n"
   ]
  },
  {
   "cell_type": "code",
   "execution_count": 49,
   "metadata": {
    "collapsed": false
   },
   "outputs": [],
   "source": [
    "for city in odfs.keys():\n",
    "    odfs[city].to_csv('../data/input/%s_md.csv' %city.replace(\" \",\"\"))\n",
    "    "
   ]
  },
  {
   "cell_type": "code",
   "execution_count": null,
   "metadata": {
    "collapsed": true
   },
   "outputs": [],
   "source": []
  }
 ],
 "metadata": {
  "kernelspec": {
   "display_name": "Python 2",
   "language": "python",
   "name": "python2"
  },
  "language_info": {
   "codemirror_mode": {
    "name": "ipython",
    "version": 2
   },
   "file_extension": ".py",
   "mimetype": "text/x-python",
   "name": "python",
   "nbconvert_exporter": "python",
   "pygments_lexer": "ipython2",
   "version": "2.7.11"
  }
 },
 "nbformat": 4,
 "nbformat_minor": 0
}
