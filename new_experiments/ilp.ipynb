{
 "cells": [
  {
   "cell_type": "code",
   "execution_count": 345,
   "metadata": {
    "collapsed": true
   },
   "outputs": [],
   "source": [
    "import numpy as np"
   ]
  },
  {
   "cell_type": "code",
   "execution_count": 346,
   "metadata": {
    "collapsed": true
   },
   "outputs": [],
   "source": [
    "def solve_ilp(inequalities, time_limit=50):\n",
    "    ids = list(set(np.array(ineqs).flatten().tolist()))\n",
    "    N = len(ids)\n",
    "    m = Model(\"ilp\")\n",
    "    m.setParam(GRB.Param.TimeLimit, time_limit)\n",
    "    a = {}\n",
    "    binary = {}\n",
    "    for i in ids:\n",
    "        a[i] = m.addVar(vtype=GRB.INTEGER, name=\"a_{}\".format(i))\n",
    "    m.update()\n",
    "    objective = 0\n",
    "    for inequality in inequalities:\n",
    "        objective = objective + (a[inequality[1]]-a[inequality[0]])\n",
    "\n",
    "        binary[\"{}_{}\".format(inequality[0], inequality[1])] = m.addVar(vtype=GRB.BINARY, name=\"b_{}_{}\".format(inequality[0], inequality[1]))\n",
    "        m.update()\n",
    "        m.addConstr((1-2*binary[\"{}_{}\".format(inequality[0], inequality[1])])*(a[inequality[1]]-a[inequality[0]])>=1)\n",
    "    m.setObjective(objective, GRB.MAXIMIZE)\n",
    "    # Set constraints on a[i]>0 and a[i]<=N\n",
    "    for i in ids:\n",
    "        m.addConstr(a[i] <= N)\n",
    "        m.addConstr(a[i] >= 1)\n",
    "    m.optimize()\n",
    "    ranks = np.zeros(N)\n",
    "    for i in ids:\n",
    "        var_pos = int(m.getVarByName('a_%d' %i).x)-1\n",
    "        ranks[var_pos] = i \n",
    "    return ranks"
   ]
  },
  {
   "cell_type": "code",
   "execution_count": 347,
   "metadata": {
    "collapsed": true
   },
   "outputs": [],
   "source": [
    "inequalities = [[2,1], [3,1], [1,4],[2,3],[3,4],[2,4]]\n",
    "N = 4"
   ]
  },
  {
   "cell_type": "code",
   "execution_count": 348,
   "metadata": {
    "collapsed": true
   },
   "outputs": [],
   "source": [
    "from gurobipy import *"
   ]
  },
  {
   "cell_type": "code",
   "execution_count": 349,
   "metadata": {
    "collapsed": false
   },
   "outputs": [],
   "source": [
    "m = Model(\"ilp\")"
   ]
  },
  {
   "cell_type": "code",
   "execution_count": 350,
   "metadata": {
    "collapsed": true
   },
   "outputs": [],
   "source": [
    "a = {}\n",
    "binary = {}"
   ]
  },
  {
   "cell_type": "code",
   "execution_count": 351,
   "metadata": {
    "collapsed": false
   },
   "outputs": [],
   "source": [
    "for i in range(1, N+1):\n",
    "    a[i] = m.addVar(vtype=GRB.INTEGER, name=\"a_{}\".format(i))"
   ]
  },
  {
   "cell_type": "code",
   "execution_count": 352,
   "metadata": {
    "collapsed": true
   },
   "outputs": [],
   "source": [
    "m.update()"
   ]
  },
  {
   "cell_type": "code",
   "execution_count": 353,
   "metadata": {
    "collapsed": false
   },
   "outputs": [
    {
     "data": {
      "text/plain": [
       "0"
      ]
     },
     "execution_count": 353,
     "metadata": {},
     "output_type": "execute_result"
    }
   ],
   "source": [
    "m.NumBinVars"
   ]
  },
  {
   "cell_type": "code",
   "execution_count": 354,
   "metadata": {
    "collapsed": false
   },
   "outputs": [],
   "source": [
    "objective = 0\n",
    "for inequality in inequalities:\n",
    "    objective = objective + (a[inequality[1]]-a[inequality[0]])\n",
    "    \n",
    "    binary[\"{}_{}\".format(inequality[0], inequality[1])] = m.addVar(vtype=GRB.BINARY, name=\"b_{}_{}\".format(inequality[0], inequality[1]))\n",
    "    m.update()\n",
    "    m.addConstr((1-2*binary[\"{}_{}\".format(inequality[0], inequality[1])])*(a[inequality[1]]-a[inequality[0]])>=1)"
   ]
  },
  {
   "cell_type": "code",
   "execution_count": 355,
   "metadata": {
    "collapsed": false
   },
   "outputs": [
    {
     "data": {
      "text/plain": [
       "{'1_4': <gurobi.Var b_1_4>,\n",
       " '2_1': <gurobi.Var b_2_1>,\n",
       " '2_3': <gurobi.Var b_2_3>,\n",
       " '2_4': <gurobi.Var b_2_4>,\n",
       " '3_1': <gurobi.Var b_3_1>,\n",
       " '3_4': <gurobi.Var b_3_4>}"
      ]
     },
     "execution_count": 355,
     "metadata": {},
     "output_type": "execute_result"
    }
   ],
   "source": [
    "binary"
   ]
  },
  {
   "cell_type": "code",
   "execution_count": 356,
   "metadata": {
    "collapsed": false
   },
   "outputs": [
    {
     "data": {
      "text/plain": [
       "<gurobi.LinExpr: a_1 + -1.0 a_2 + a_1 + -1.0 a_3 + a_4 + -1.0 a_1 + a_3 + -1.0 a_2 + a_4 + -1.0 a_3 + a_4 + -1.0 a_2>"
      ]
     },
     "execution_count": 356,
     "metadata": {},
     "output_type": "execute_result"
    }
   ],
   "source": [
    "objective"
   ]
  },
  {
   "cell_type": "code",
   "execution_count": 357,
   "metadata": {
    "collapsed": true
   },
   "outputs": [],
   "source": [
    "m.setObjective(objective, GRB.MAXIMIZE)"
   ]
  },
  {
   "cell_type": "code",
   "execution_count": 358,
   "metadata": {
    "collapsed": false
   },
   "outputs": [],
   "source": [
    "# Set constraints on a[i]>0 and a[i]<=N\n",
    "for i in range(1, N+1):\n",
    "    m.addConstr(a[i] <= N)\n",
    "    m.addConstr(a[i] >= 1)\n",
    "    \n",
    "    \n",
    "    "
   ]
  },
  {
   "cell_type": "code",
   "execution_count": 359,
   "metadata": {
    "collapsed": false
   },
   "outputs": [
    {
     "name": "stdout",
     "output_type": "stream",
     "text": [
      "Optimize a model with 8 rows, 10 columns and 8 nonzeros\n",
      "Model has 6 quadratic constraints\n",
      "Coefficient statistics:\n",
      "  Matrix range    [1e+00, 1e+00]\n",
      "  Objective range [1e+00, 3e+00]\n",
      "  Bounds range    [1e+00, 1e+00]\n",
      "  RHS range       [1e+00, 4e+00]\n",
      "Presolve removed 8 rows and 0 columns\n",
      "Presolve time: 0.00s\n",
      "Presolved: 24 rows, 22 columns, 66 nonzeros\n",
      "Variable types: 0 continuous, 22 integer (6 binary)\n",
      "Found heuristic solution: objective 10.0000000\n",
      "\n",
      "Root relaxation: cutoff, 2 iterations, 0.00 seconds\n",
      "\n",
      "    Nodes    |    Current Node    |     Objective Bounds      |     Work\n",
      " Expl Unexpl |  Obj  Depth IntInf | Incumbent    BestBd   Gap | It/Node Time\n",
      "\n",
      "     0     0     cutoff    0        10.00000   10.99999  10.0%     -    0s\n",
      "\n",
      "Explored 0 nodes (2 simplex iterations) in 0.01 seconds\n",
      "Thread count was 4 (of 4 available processors)\n",
      "\n",
      "Optimal solution found (tolerance 1.00e-04)\n",
      "Best objective 1.000000000000e+01, best bound 1.000000000000e+01, gap 0.0%\n"
     ]
    }
   ],
   "source": [
    "m.optimize()"
   ]
  },
  {
   "cell_type": "code",
   "execution_count": 360,
   "metadata": {
    "collapsed": false
   },
   "outputs": [
    {
     "data": {
      "text/plain": [
       "[<gurobi.Var a_1 (value 3.0)>,\n",
       " <gurobi.Var a_2 (value 1.0)>,\n",
       " <gurobi.Var a_3 (value 2.0)>,\n",
       " <gurobi.Var a_4 (value 4.0)>,\n",
       " <gurobi.Var b_2_1 (value -0.0)>,\n",
       " <gurobi.Var b_3_1 (value -0.0)>,\n",
       " <gurobi.Var b_1_4 (value -0.0)>,\n",
       " <gurobi.Var b_2_3 (value -0.0)>,\n",
       " <gurobi.Var b_3_4 (value -0.0)>,\n",
       " <gurobi.Var b_2_4 (value -0.0)>]"
      ]
     },
     "execution_count": 360,
     "metadata": {},
     "output_type": "execute_result"
    }
   ],
   "source": [
    "m.getVars()"
   ]
  },
  {
   "cell_type": "code",
   "execution_count": 361,
   "metadata": {
    "collapsed": false
   },
   "outputs": [
    {
     "data": {
      "text/plain": [
       "3.0"
      ]
     },
     "execution_count": 361,
     "metadata": {},
     "output_type": "execute_result"
    }
   ],
   "source": [
    "m.getVarByName('a_1').x"
   ]
  },
  {
   "cell_type": "code",
   "execution_count": 362,
   "metadata": {
    "collapsed": false
   },
   "outputs": [
    {
     "name": "stdout",
     "output_type": "stream",
     "text": [
      "a_1 3.0\n",
      "a_2 1.0\n",
      "a_3 2.0\n",
      "a_4 4.0\n",
      "b_2_1 -0.0\n",
      "b_3_1 -0.0\n",
      "b_1_4 -0.0\n",
      "b_2_3 -0.0\n",
      "b_3_4 -0.0\n",
      "b_2_4 -0.0\n"
     ]
    }
   ],
   "source": [
    "for v in m.getVars():\n",
    "    print v.varName, v.x"
   ]
  },
  {
   "cell_type": "code",
   "execution_count": 363,
   "metadata": {
    "collapsed": false
   },
   "outputs": [],
   "source": [
    "ranks = np.zeros(N)"
   ]
  },
  {
   "cell_type": "code",
   "execution_count": 364,
   "metadata": {
    "collapsed": false
   },
   "outputs": [],
   "source": [
    "vars = m.getVarByName('a_1')\n",
    "for i in range(1, N+1):\n",
    "    var_pos = int(m.getVarByName('a_%d' %i).x)-1\n",
    "    ranks[var_pos] = i "
   ]
  },
  {
   "cell_type": "code",
   "execution_count": 365,
   "metadata": {
    "collapsed": false
   },
   "outputs": [
    {
     "data": {
      "text/plain": [
       "array([ 2.,  3.,  1.,  4.])"
      ]
     },
     "execution_count": 365,
     "metadata": {},
     "output_type": "execute_result"
    }
   ],
   "source": [
    "ranks"
   ]
  },
  {
   "cell_type": "code",
   "execution_count": 366,
   "metadata": {
    "collapsed": true
   },
   "outputs": [],
   "source": [
    "import pickle\n",
    "out_overall  = pickle.load(open('/Users/nipunbatra/Desktop/a.pkl','r'))"
   ]
  },
  {
   "cell_type": "code",
   "execution_count": 367,
   "metadata": {
    "collapsed": false
   },
   "outputs": [],
   "source": [
    "test_df = out_overall['Austin']\n",
    "train_df = out_overall['San Diego']"
   ]
  },
  {
   "cell_type": "code",
   "execution_count": 514,
   "metadata": {
    "collapsed": false
   },
   "outputs": [
    {
     "data": {
      "text/plain": [
       "1.5023500925794047"
      ]
     },
     "execution_count": 514,
     "metadata": {},
     "output_type": "execute_result"
    }
   ],
   "source": [
    "(len(test_df.index)*12*3)*1./(14042)"
   ]
  },
  {
   "cell_type": "code",
   "execution_count": 368,
   "metadata": {
    "collapsed": false
   },
   "outputs": [],
   "source": [
    "i = train_df.tail(4).index.values"
   ]
  },
  {
   "cell_type": "code",
   "execution_count": 369,
   "metadata": {
    "collapsed": true
   },
   "outputs": [],
   "source": [
    "from itertools import combinations"
   ]
  },
  {
   "cell_type": "code",
   "execution_count": 370,
   "metadata": {
    "collapsed": false
   },
   "outputs": [
    {
     "name": "stdout",
     "output_type": "stream",
     "text": [
      "9585 9612\n",
      "9585 9775\n",
      "9585 9836\n",
      "9612 9775\n",
      "9612 9836\n",
      "9775 9836\n"
     ]
    }
   ],
   "source": [
    "for a, b in combinations(i, 2):\n",
    "    print a,b\n",
    "    df_a = train_df.ix[a]\n",
    "    df_b = train_df.ix[b]"
   ]
  },
  {
   "cell_type": "code",
   "execution_count": 502,
   "metadata": {
    "collapsed": false
   },
   "outputs": [],
   "source": [
    "start_month, end_month = 1,12\n",
    "agg_features = np.hstack([['aggregate_'+str(month) for month in range(start_month, end_month+1)],\n",
    "                         'ratio_min_max','difference_ratio_min_max','p_25','p_50','p_75','skew','kurtosis'])\n",
    "md_features = ['area','house_num_rooms']\n",
    "features = {'md_agg':np.hstack([\n",
    "            agg_features,\n",
    "            md_features\n",
    "            ]).tolist()}"
   ]
  },
  {
   "cell_type": "code",
   "execution_count": 503,
   "metadata": {
    "collapsed": false
   },
   "outputs": [],
   "source": [
    "f_all = features['md_agg']"
   ]
  },
  {
   "cell_type": "code",
   "execution_count": 504,
   "metadata": {
    "collapsed": false
   },
   "outputs": [
    {
     "data": {
      "text/plain": [
       "21"
      ]
     },
     "execution_count": 504,
     "metadata": {},
     "output_type": "execute_result"
    }
   ],
   "source": [
    "len(f_all)"
   ]
  },
  {
   "cell_type": "code",
   "execution_count": 374,
   "metadata": {
    "collapsed": true
   },
   "outputs": [],
   "source": [
    "# Find not null set of common features\n",
    "def find_com_features_train(df, home_1, home_2, featureset_max):\n",
    "    f_1 = df.ix[home_1][featureset_max].dropna()\n",
    "    \n",
    "    f_2 = df.ix[home_2][featureset_max].dropna()\n",
    "    \n",
    "    com_f =  np.intersect1d(f_1.index, f_2.index)\n",
    "   \n",
    "    return com_f"
   ]
  },
  {
   "cell_type": "code",
   "execution_count": 375,
   "metadata": {
    "collapsed": false
   },
   "outputs": [],
   "source": [
    "com_features = find_com_features_train(train_df, a, b, f_all)"
   ]
  },
  {
   "cell_type": "code",
   "execution_count": 421,
   "metadata": {
    "collapsed": true
   },
   "outputs": [],
   "source": [
    "def find_distance_train_test(df_train, home_1, home_2, df_test, home_test, featureset_train, featureset_max):\n",
    "    f_test = df_test.ix[home_test][featureset_max].dropna()\n",
    "    com_f =  np.intersect1d(f_test.index, featureset_train)\n",
    "    if len(com_f):\n",
    "        is_common = True\n",
    "    else:\n",
    "        is_common = False\n",
    "        return is_common, None\n",
    "    \n",
    "    if len(com_f):\n",
    "        a = np.linalg.norm(df_train.ix[home_1][com_f]- df_test.ix[home_test][com_f])\n",
    "        b = np.linalg.norm(df_train.ix[home_2][com_f]- df_test.ix[home_test][com_f])\n",
    "        if a<=b:\n",
    "            order = [home_1, home_2]\n",
    "        else:\n",
    "            order = [home_2, home_1]\n",
    "        return is_common, {'order':order,\n",
    "                    'num_f':len(com_f),\n",
    "                    'dist_a':a,\n",
    "                    'dist_b':b,\n",
    "                          'f':com_f}"
   ]
  },
  {
   "cell_type": "code",
   "execution_count": 422,
   "metadata": {
    "collapsed": false
   },
   "outputs": [
    {
     "data": {
      "text/plain": [
       "(True,\n",
       " {'dist_a': 1841.6181005249998,\n",
       "  'dist_b': 2267.8305305528188,\n",
       "  'f': array(['aggregate_1', 'aggregate_2', 'aggregate_3', 'aggregate_4',\n",
       "         'aggregate_5', 'aggregate_6', 'aggregate_7'], dtype=object),\n",
       "  'num_f': 7,\n",
       "  'order': [9775, 9836]})"
      ]
     },
     "execution_count": 422,
     "metadata": {},
     "output_type": "execute_result"
    }
   ],
   "source": [
    "find_distance_train_test(train_df, a, b, test_df, 26, com_features, f_all)"
   ]
  },
  {
   "cell_type": "code",
   "execution_count": 378,
   "metadata": {
    "collapsed": false
   },
   "outputs": [
    {
     "data": {
      "text/plain": [
       "136.31268310546875"
      ]
     },
     "execution_count": 378,
     "metadata": {},
     "output_type": "execute_result"
    }
   ],
   "source": [
    "train_df.ix[9775]['hvac_8']"
   ]
  },
  {
   "cell_type": "code",
   "execution_count": 379,
   "metadata": {
    "collapsed": false
   },
   "outputs": [
    {
     "data": {
      "text/plain": [
       "902.4188232421875"
      ]
     },
     "execution_count": 379,
     "metadata": {},
     "output_type": "execute_result"
    }
   ],
   "source": [
    "test_df.ix[26]['hvac_8']"
   ]
  },
  {
   "cell_type": "code",
   "execution_count": 380,
   "metadata": {
    "collapsed": true
   },
   "outputs": [],
   "source": [
    "def transform(a):\n",
    "    return a"
   ]
  },
  {
   "cell_type": "code",
   "execution_count": 381,
   "metadata": {
    "collapsed": false
   },
   "outputs": [
    {
     "data": {
      "text/html": [
       "<div>\n",
       "<table border=\"1\" class=\"dataframe\">\n",
       "  <thead>\n",
       "    <tr style=\"text-align: right;\">\n",
       "      <th></th>\n",
       "      <th>hvac_1</th>\n",
       "      <th>hvac_2</th>\n",
       "      <th>hvac_3</th>\n",
       "      <th>hvac_4</th>\n",
       "      <th>hvac_5</th>\n",
       "      <th>hvac_6</th>\n",
       "      <th>hvac_7</th>\n",
       "      <th>hvac_8</th>\n",
       "      <th>hvac_9</th>\n",
       "      <th>hvac_10</th>\n",
       "      <th>...</th>\n",
       "      <th>md_available</th>\n",
       "      <th>full_agg_available</th>\n",
       "      <th>ratio_min_max</th>\n",
       "      <th>difference_ratio_min_max</th>\n",
       "      <th>variance</th>\n",
       "      <th>skew</th>\n",
       "      <th>kurtosis</th>\n",
       "      <th>p_25</th>\n",
       "      <th>p_50</th>\n",
       "      <th>p_75</th>\n",
       "    </tr>\n",
       "  </thead>\n",
       "  <tbody>\n",
       "    <tr>\n",
       "      <th>54</th>\n",
       "      <td>NaN</td>\n",
       "      <td>NaN</td>\n",
       "      <td>NaN</td>\n",
       "      <td>NaN</td>\n",
       "      <td>NaN</td>\n",
       "      <td>NaN</td>\n",
       "      <td>NaN</td>\n",
       "      <td>NaN</td>\n",
       "      <td>NaN</td>\n",
       "      <td>NaN</td>\n",
       "      <td>...</td>\n",
       "      <td>0</td>\n",
       "      <td>0</td>\n",
       "      <td>NaN</td>\n",
       "      <td>NaN</td>\n",
       "      <td>NaN</td>\n",
       "      <td>NaN</td>\n",
       "      <td>NaN</td>\n",
       "      <td>NaN</td>\n",
       "      <td>NaN</td>\n",
       "      <td>NaN</td>\n",
       "    </tr>\n",
       "    <tr>\n",
       "      <th>203</th>\n",
       "      <td>0.002</td>\n",
       "      <td>0.0027</td>\n",
       "      <td>29.05385</td>\n",
       "      <td>19.651184</td>\n",
       "      <td>15.8619</td>\n",
       "      <td>68.252647</td>\n",
       "      <td>145.872055</td>\n",
       "      <td>173.272644</td>\n",
       "      <td>203.351685</td>\n",
       "      <td>72.101601</td>\n",
       "      <td>...</td>\n",
       "      <td>0</td>\n",
       "      <td>1</td>\n",
       "      <td>0.352858</td>\n",
       "      <td>0.352858</td>\n",
       "      <td>11444.769891</td>\n",
       "      <td>0.990983</td>\n",
       "      <td>0.990983</td>\n",
       "      <td>241.198689</td>\n",
       "      <td>268.654037</td>\n",
       "      <td>351.088257</td>\n",
       "    </tr>\n",
       "  </tbody>\n",
       "</table>\n",
       "<p>2 rows × 97 columns</p>\n",
       "</div>"
      ],
      "text/plain": [
       "     hvac_1  hvac_2    hvac_3     hvac_4   hvac_5     hvac_6      hvac_7  \\\n",
       "54      NaN     NaN       NaN        NaN      NaN        NaN         NaN   \n",
       "203   0.002  0.0027  29.05385  19.651184  15.8619  68.252647  145.872055   \n",
       "\n",
       "         hvac_8      hvac_9    hvac_10     ...      md_available  \\\n",
       "54          NaN         NaN        NaN     ...                 0   \n",
       "203  173.272644  203.351685  72.101601     ...                 0   \n",
       "\n",
       "     full_agg_available  ratio_min_max  difference_ratio_min_max  \\\n",
       "54                    0            NaN                       NaN   \n",
       "203                   1       0.352858                  0.352858   \n",
       "\n",
       "         variance      skew  kurtosis        p_25        p_50        p_75  \n",
       "54            NaN       NaN       NaN         NaN         NaN         NaN  \n",
       "203  11444.769891  0.990983  0.990983  241.198689  268.654037  351.088257  \n",
       "\n",
       "[2 rows x 97 columns]"
      ]
     },
     "execution_count": 381,
     "metadata": {},
     "output_type": "execute_result"
    }
   ],
   "source": [
    "train_df.head(2)"
   ]
  },
  {
   "cell_type": "code",
   "execution_count": 382,
   "metadata": {
    "collapsed": false
   },
   "outputs": [
    {
     "data": {
      "text/html": [
       "<div>\n",
       "<table border=\"1\" class=\"dataframe\">\n",
       "  <thead>\n",
       "    <tr style=\"text-align: right;\">\n",
       "      <th></th>\n",
       "      <th>hvac_1</th>\n",
       "      <th>hvac_2</th>\n",
       "      <th>hvac_3</th>\n",
       "      <th>hvac_4</th>\n",
       "      <th>hvac_5</th>\n",
       "      <th>hvac_6</th>\n",
       "      <th>hvac_7</th>\n",
       "      <th>hvac_8</th>\n",
       "      <th>hvac_9</th>\n",
       "      <th>hvac_10</th>\n",
       "      <th>...</th>\n",
       "      <th>md_available</th>\n",
       "      <th>full_agg_available</th>\n",
       "      <th>ratio_min_max</th>\n",
       "      <th>difference_ratio_min_max</th>\n",
       "      <th>variance</th>\n",
       "      <th>skew</th>\n",
       "      <th>kurtosis</th>\n",
       "      <th>p_25</th>\n",
       "      <th>p_50</th>\n",
       "      <th>p_75</th>\n",
       "    </tr>\n",
       "  </thead>\n",
       "  <tbody>\n",
       "    <tr>\n",
       "      <th>22</th>\n",
       "      <td>146.599533</td>\n",
       "      <td>109.834534</td>\n",
       "      <td>69.40638</td>\n",
       "      <td>82.113411</td>\n",
       "      <td>107.155251</td>\n",
       "      <td>135.347214</td>\n",
       "      <td>NaN</td>\n",
       "      <td>NaN</td>\n",
       "      <td>NaN</td>\n",
       "      <td>NaN</td>\n",
       "      <td>...</td>\n",
       "      <td>0</td>\n",
       "      <td>0</td>\n",
       "      <td>NaN</td>\n",
       "      <td>NaN</td>\n",
       "      <td>NaN</td>\n",
       "      <td>NaN</td>\n",
       "      <td>NaN</td>\n",
       "      <td>NaN</td>\n",
       "      <td>NaN</td>\n",
       "      <td>NaN</td>\n",
       "    </tr>\n",
       "    <tr>\n",
       "      <th>26</th>\n",
       "      <td>0.035733</td>\n",
       "      <td>2.928117</td>\n",
       "      <td>13.66290</td>\n",
       "      <td>132.869888</td>\n",
       "      <td>242.395737</td>\n",
       "      <td>543.781433</td>\n",
       "      <td>761.394043</td>\n",
       "      <td>902.418823</td>\n",
       "      <td>610.035828</td>\n",
       "      <td>395.169098</td>\n",
       "      <td>...</td>\n",
       "      <td>1</td>\n",
       "      <td>1</td>\n",
       "      <td>0.289917</td>\n",
       "      <td>0.289917</td>\n",
       "      <td>204787.434396</td>\n",
       "      <td>0.706793</td>\n",
       "      <td>0.706793</td>\n",
       "      <td>704.371658</td>\n",
       "      <td>868.618134</td>\n",
       "      <td>1369.259277</td>\n",
       "    </tr>\n",
       "  </tbody>\n",
       "</table>\n",
       "<p>2 rows × 97 columns</p>\n",
       "</div>"
      ],
      "text/plain": [
       "        hvac_1      hvac_2    hvac_3      hvac_4      hvac_5      hvac_6  \\\n",
       "22  146.599533  109.834534  69.40638   82.113411  107.155251  135.347214   \n",
       "26    0.035733    2.928117  13.66290  132.869888  242.395737  543.781433   \n",
       "\n",
       "        hvac_7      hvac_8      hvac_9     hvac_10     ...       md_available  \\\n",
       "22         NaN         NaN         NaN         NaN     ...                  0   \n",
       "26  761.394043  902.418823  610.035828  395.169098     ...                  1   \n",
       "\n",
       "    full_agg_available  ratio_min_max  difference_ratio_min_max  \\\n",
       "22                   0            NaN                       NaN   \n",
       "26                   1       0.289917                  0.289917   \n",
       "\n",
       "         variance      skew  kurtosis        p_25        p_50         p_75  \n",
       "22            NaN       NaN       NaN         NaN         NaN          NaN  \n",
       "26  204787.434396  0.706793  0.706793  704.371658  868.618134  1369.259277  \n",
       "\n",
       "[2 rows x 97 columns]"
      ]
     },
     "execution_count": 382,
     "metadata": {},
     "output_type": "execute_result"
    }
   ],
   "source": [
    "test_df.head(2)"
   ]
  },
  {
   "cell_type": "code",
   "execution_count": 383,
   "metadata": {
    "collapsed": true
   },
   "outputs": [],
   "source": [
    "import pandas as pd"
   ]
  },
  {
   "cell_type": "code",
   "execution_count": 389,
   "metadata": {
    "collapsed": true
   },
   "outputs": [],
   "source": [
    "overall_df = pd.concat([train_df, test_df])"
   ]
  },
  {
   "cell_type": "code",
   "execution_count": 391,
   "metadata": {
    "collapsed": true
   },
   "outputs": [],
   "source": [
    "def scale_0_1(ser, minimum=None, maximum=None):\n",
    "    if minimum is not None:\n",
    "        pass\n",
    "    else:\n",
    "        minimum = ser.min()\n",
    "        maximum = ser.max()\n",
    "    return (ser-minimum).div(maximum-minimum)\n"
   ]
  },
  {
   "cell_type": "code",
   "execution_count": 392,
   "metadata": {
    "collapsed": true
   },
   "outputs": [],
   "source": [
    "def normalise(df):\n",
    "    new_df = df.copy()\n",
    "    max_aggregate = df[[\"aggregate_%d\" % i for i in range(1, 13)]].max().max()\n",
    "    min_aggregate = df[[\"aggregate_%d\" % i for i in range(1, 13)]].min().min()\n",
    "    new_df[[\"aggregate_%d\" % i for i in range(1, 13)]] = scale_0_1(df[[\"aggregate_%d\" % i for i in range(1, 13)]], min_aggregate, max_aggregate)\n",
    "    for col in ['area','num_occupants','house_num_rooms','ratio_min_max',\n",
    "                'skew','kurtosis','variance','difference_ratio_min_max','p_25',\n",
    "               'p_50','p_75']:\n",
    "        new_df[col] = scale_0_1(df[col])\n",
    "    return new_df\n",
    "    "
   ]
  },
  {
   "cell_type": "code",
   "execution_count": 393,
   "metadata": {
    "collapsed": false
   },
   "outputs": [],
   "source": [
    "normalised_df = normalise(overall_df)"
   ]
  },
  {
   "cell_type": "code",
   "execution_count": 394,
   "metadata": {
    "collapsed": true
   },
   "outputs": [],
   "source": [
    "train_normalised_df = normalised_df.ix[train_df.index]\n",
    "test_normalised_df = normalised_df.ix[test_df.index]"
   ]
  },
  {
   "cell_type": "code",
   "execution_count": 505,
   "metadata": {
    "collapsed": false
   },
   "outputs": [
    {
     "name": "stdout",
     "output_type": "stream",
     "text": [
      "fridge 1 22\n",
      "hvac 1 22\n"
     ]
    }
   ],
   "source": [
    "from collections import Counter, defaultdict\n",
    "num_features_all = {}\n",
    "ineq_dict = {}\n",
    "#for appliance in [\"dw\",\"mw\",\"wm\",\"fridge\",\"hvac\"]:\n",
    "for appliance in [\"fridge\",\"hvac\"]:\n",
    "    num_features_all[appliance] = {}\n",
    "    ineq_dict[appliance] = {}\n",
    "    for month in range(1, 2):\n",
    "        num_features_all[appliance][month] = {}\n",
    "        ineq_dict[appliance][month] = {}\n",
    "        \n",
    "        candidate_homes = train_normalised_df['%s_%d' %(appliance, month)].dropna().index.values\n",
    "        for test_home in test_normalised_df.index[:1]:\n",
    "            print appliance, month, test_home\n",
    "            ineqs = []\n",
    "            \n",
    "            num_features_all[appliance][month][test_home] = defaultdict(int)\n",
    "            \n",
    "            if not np.isnan(test_normalised_df.ix[test_home]['%s_%d' %(appliance, month)]):\n",
    "                # We need to predict this value!\n",
    "                # Find candidate set, train homes which have not null for this month\n",
    "                # Now find features on pairs of homes in candidate homes\n",
    "                for a,b in combinations(candidate_homes, 2):\n",
    "                    com_features = find_com_features_train(train_df, a, b, f_all)\n",
    "                    \n",
    "                    if len(com_features):\n",
    "                        # Consider a,b\n",
    "                        is_common, d = find_distance_train_test(train_normalised_df, a, b, test_normalised_df, test_home, com_features, f_all)\n",
    "                        if is_common:\n",
    "                            \n",
    "                            # Common between train and test. Can add this pair to inequalities\n",
    "                            ineqs.append(d['order'])\n",
    "                            \n",
    "                            num_features_all[appliance][month][test_home][d['num_f']]+= 1\n",
    "                        \n",
    "                ineq_dict[appliance][month][test_home] = ineqs \n",
    "            else:\n",
    "                # No need to predict\n",
    "                pass\n",
    "\n",
    "                \n",
    "    "
   ]
  },
  {
   "cell_type": "code",
   "execution_count": 507,
   "metadata": {
    "collapsed": false
   },
   "outputs": [
    {
     "data": {
      "text/plain": [
       "[[203, 1450],\n",
       " [203, 1524],\n",
       " [1731, 203],\n",
       " [2354, 203],\n",
       " [203, 2606],\n",
       " [203, 3687],\n",
       " [203, 3864],\n",
       " [203, 3938],\n",
       " [203, 4495],\n",
       " [203, 4934],\n",
       " [203, 5938],\n",
       " [6377, 203],\n",
       " [203, 6547],\n",
       " [203, 7062],\n",
       " [7114, 203],\n",
       " [203, 8061],\n",
       " [203, 8342],\n",
       " [8574, 203],\n",
       " [203, 8733],\n",
       " [203, 9213],\n",
       " [9585, 203],\n",
       " [203, 9612],\n",
       " [9775, 203],\n",
       " [9836, 203],\n",
       " [1524, 1450],\n",
       " [1731, 1450],\n",
       " [2354, 1450],\n",
       " [2606, 1450],\n",
       " [3687, 1450],\n",
       " [3864, 1450],\n",
       " [3938, 1450],\n",
       " [4495, 1450],\n",
       " [4934, 1450],\n",
       " [5938, 1450],\n",
       " [6377, 1450],\n",
       " [6547, 1450],\n",
       " [7062, 1450],\n",
       " [7114, 1450],\n",
       " [8061, 1450],\n",
       " [8342, 1450],\n",
       " [8574, 1450],\n",
       " [8733, 1450],\n",
       " [9213, 1450],\n",
       " [9585, 1450],\n",
       " [9612, 1450],\n",
       " [9775, 1450],\n",
       " [9836, 1450],\n",
       " [1731, 1524],\n",
       " [2354, 1524],\n",
       " [1524, 2606],\n",
       " [3687, 1524],\n",
       " [1524, 3864],\n",
       " [1524, 3938],\n",
       " [1524, 4495],\n",
       " [1524, 4934],\n",
       " [1524, 5938],\n",
       " [1524, 6377],\n",
       " [6547, 1524],\n",
       " [1524, 7062],\n",
       " [7114, 1524],\n",
       " [1524, 8061],\n",
       " [1524, 8342],\n",
       " [1524, 8574],\n",
       " [1524, 8733],\n",
       " [1524, 9213],\n",
       " [1524, 9585],\n",
       " [1524, 9612],\n",
       " [9775, 1524],\n",
       " [9836, 1524],\n",
       " [1731, 2354],\n",
       " [1731, 2606],\n",
       " [1731, 3687],\n",
       " [1731, 3864],\n",
       " [1731, 3938],\n",
       " [1731, 4495],\n",
       " [1731, 4934],\n",
       " [1731, 5938],\n",
       " [1731, 6377],\n",
       " [1731, 6547],\n",
       " [1731, 7062],\n",
       " [1731, 7114],\n",
       " [1731, 8061],\n",
       " [1731, 8342],\n",
       " [1731, 8574],\n",
       " [1731, 8733],\n",
       " [1731, 9213],\n",
       " [1731, 9585],\n",
       " [1731, 9612],\n",
       " [1731, 9775],\n",
       " [1731, 9836],\n",
       " [2354, 2606],\n",
       " [2354, 3687],\n",
       " [2354, 3864],\n",
       " [2354, 3938],\n",
       " [2354, 4495],\n",
       " [2354, 4934],\n",
       " [2354, 5938],\n",
       " [2354, 6377],\n",
       " [2354, 6547],\n",
       " [2354, 7062],\n",
       " [2354, 7114],\n",
       " [2354, 8061],\n",
       " [2354, 8342],\n",
       " [2354, 8574],\n",
       " [2354, 8733],\n",
       " [2354, 9213],\n",
       " [2354, 9585],\n",
       " [2354, 9612],\n",
       " [9775, 2354],\n",
       " [2354, 9836],\n",
       " [3687, 2606],\n",
       " [3864, 2606],\n",
       " [3938, 2606],\n",
       " [4495, 2606],\n",
       " [4934, 2606],\n",
       " [5938, 2606],\n",
       " [2606, 6377],\n",
       " [6547, 2606],\n",
       " [7062, 2606],\n",
       " [7114, 2606],\n",
       " [8061, 2606],\n",
       " [8342, 2606],\n",
       " [2606, 8574],\n",
       " [8733, 2606],\n",
       " [9213, 2606],\n",
       " [2606, 9585],\n",
       " [9612, 2606],\n",
       " [9775, 2606],\n",
       " [9836, 2606],\n",
       " [3687, 3864],\n",
       " [3687, 3938],\n",
       " [3687, 4495],\n",
       " [3687, 4934],\n",
       " [3687, 5938],\n",
       " [3687, 6377],\n",
       " [3687, 6547],\n",
       " [3687, 7062],\n",
       " [7114, 3687],\n",
       " [3687, 8061],\n",
       " [3687, 8342],\n",
       " [3687, 8574],\n",
       " [3687, 8733],\n",
       " [3687, 9213],\n",
       " [3687, 9585],\n",
       " [3687, 9612],\n",
       " [9775, 3687],\n",
       " [9836, 3687],\n",
       " [3864, 3938],\n",
       " [3864, 4495],\n",
       " [3864, 4934],\n",
       " [3864, 5938],\n",
       " [6377, 3864],\n",
       " [6547, 3864],\n",
       " [3864, 7062],\n",
       " [7114, 3864],\n",
       " [3864, 8061],\n",
       " [3864, 8342],\n",
       " [8574, 3864],\n",
       " [3864, 8733],\n",
       " [3864, 9213],\n",
       " [9585, 3864],\n",
       " [3864, 9612],\n",
       " [9775, 3864],\n",
       " [9836, 3864],\n",
       " [4495, 3938],\n",
       " [4934, 3938],\n",
       " [5938, 3938],\n",
       " [6377, 3938],\n",
       " [6547, 3938],\n",
       " [7062, 3938],\n",
       " [7114, 3938],\n",
       " [3938, 8061],\n",
       " [3938, 8342],\n",
       " [8574, 3938],\n",
       " [3938, 8733],\n",
       " [9213, 3938],\n",
       " [9585, 3938],\n",
       " [9612, 3938],\n",
       " [9775, 3938],\n",
       " [9836, 3938],\n",
       " [4934, 4495],\n",
       " [5938, 4495],\n",
       " [6377, 4495],\n",
       " [6547, 4495],\n",
       " [7062, 4495],\n",
       " [7114, 4495],\n",
       " [4495, 8061],\n",
       " [4495, 8342],\n",
       " [8574, 4495],\n",
       " [4495, 8733],\n",
       " [9213, 4495],\n",
       " [9585, 4495],\n",
       " [9612, 4495],\n",
       " [9775, 4495],\n",
       " [9836, 4495],\n",
       " [5938, 4934],\n",
       " [6377, 4934],\n",
       " [6547, 4934],\n",
       " [7062, 4934],\n",
       " [7114, 4934],\n",
       " [4934, 8061],\n",
       " [4934, 8342],\n",
       " [8574, 4934],\n",
       " [4934, 8733],\n",
       " [9213, 4934],\n",
       " [9585, 4934],\n",
       " [9612, 4934],\n",
       " [9775, 4934],\n",
       " [9836, 4934],\n",
       " [6377, 5938],\n",
       " [6547, 5938],\n",
       " [7062, 5938],\n",
       " [7114, 5938],\n",
       " [5938, 8061],\n",
       " [5938, 8342],\n",
       " [8574, 5938],\n",
       " [5938, 8733],\n",
       " [9213, 5938],\n",
       " [9585, 5938],\n",
       " [9612, 5938],\n",
       " [9775, 5938],\n",
       " [9836, 5938],\n",
       " [6377, 6547],\n",
       " [7062, 6377],\n",
       " [7114, 6377],\n",
       " [8061, 6377],\n",
       " [6377, 8342],\n",
       " [6377, 8574],\n",
       " [6377, 8733],\n",
       " [6377, 9213],\n",
       " [6377, 9585],\n",
       " [6377, 9612],\n",
       " [9775, 6377],\n",
       " [6377, 9836],\n",
       " [6547, 7062],\n",
       " [7114, 6547],\n",
       " [6547, 8061],\n",
       " [6547, 8342],\n",
       " [8574, 6547],\n",
       " [6547, 8733],\n",
       " [6547, 9213],\n",
       " [9585, 6547],\n",
       " [6547, 9612],\n",
       " [9775, 6547],\n",
       " [9836, 6547],\n",
       " [7114, 7062],\n",
       " [7062, 8061],\n",
       " [7062, 8342],\n",
       " [7062, 8574],\n",
       " [7062, 8733],\n",
       " [7062, 9213],\n",
       " [7062, 9585],\n",
       " [7062, 9612],\n",
       " [9775, 7062],\n",
       " [9836, 7062],\n",
       " [7114, 8061],\n",
       " [7114, 8342],\n",
       " [7114, 8574],\n",
       " [7114, 8733],\n",
       " [7114, 9213],\n",
       " [7114, 9585],\n",
       " [7114, 9612],\n",
       " [7114, 9775],\n",
       " [7114, 9836],\n",
       " [8342, 8061],\n",
       " [8061, 8574],\n",
       " [8061, 8733],\n",
       " [9213, 8061],\n",
       " [8061, 9585],\n",
       " [9612, 8061],\n",
       " [9775, 8061],\n",
       " [9836, 8061],\n",
       " [8574, 8342],\n",
       " [8342, 8733],\n",
       " [9213, 8342],\n",
       " [9585, 8342],\n",
       " [9612, 8342],\n",
       " [9775, 8342],\n",
       " [9836, 8342],\n",
       " [8574, 8733],\n",
       " [8574, 9213],\n",
       " [8574, 9585],\n",
       " [9612, 8574],\n",
       " [9775, 8574],\n",
       " [8574, 9836],\n",
       " [9213, 8733],\n",
       " [9585, 8733],\n",
       " [9612, 8733],\n",
       " [9775, 8733],\n",
       " [9836, 8733],\n",
       " [9585, 9213],\n",
       " [9213, 9612],\n",
       " [9775, 9213],\n",
       " [9836, 9213],\n",
       " [9612, 9585],\n",
       " [9775, 9585],\n",
       " [9585, 9836],\n",
       " [9775, 9612],\n",
       " [9836, 9612],\n",
       " [9836, 9775]]"
      ]
     },
     "execution_count": 507,
     "metadata": {},
     "output_type": "execute_result"
    }
   ],
   "source": [
    "ineq_dict['hvac'][1][22]"
   ]
  },
  {
   "cell_type": "code",
   "execution_count": 460,
   "metadata": {
    "collapsed": true
   },
   "outputs": [],
   "source": [
    "%matplotlib inline\n",
    "import matplotlib.pyplot as plt"
   ]
  },
  {
   "cell_type": "code",
   "execution_count": 462,
   "metadata": {
    "collapsed": false
   },
   "outputs": [
    {
     "data": {
      "image/png": "[encoded data removed]",
      "text/plain": [
       "<matplotlib.figure.Figure at 0x128742750>"
      ]
     },
     "metadata": {},
     "output_type": "display_data"
    }
   ],
   "source": [
    "fdf = pd.DataFrame(num_features_all['hvac'][1]).fillna(0).sum(axis=1)\n",
    "fdf.div(fdf.sum()).plot(kind=\"bar\",rot=0)\n",
    "plt.xlabel(\"# common features\")\n",
    "plt.ylabel(\"Proportion of homes\")\n",
    "plt.savefig('../results/num_features.png')"
   ]
  },
  {
   "cell_type": "code",
   "execution_count": 479,
   "metadata": {
    "collapsed": false
   },
   "outputs": [
    {
     "data": {
      "text/plain": [
       "300"
      ]
     },
     "execution_count": 479,
     "metadata": {},
     "output_type": "execute_result"
    }
   ],
   "source": [
    "len(ineqs)"
   ]
  },
  {
   "cell_type": "code",
   "execution_count": 481,
   "metadata": {
    "collapsed": false
   },
   "outputs": [
    {
     "name": "stdout",
     "output_type": "stream",
     "text": [
      "Changed value of parameter TimeLimit to 50.0\n",
      "   Prev: 1e+100  Min: 0.0  Max: 1e+100  Default: 1e+100\n",
      "Optimize a model with 50 rows, 325 columns and 50 nonzeros\n",
      "Model has 300 quadratic constraints\n",
      "Coefficient statistics:\n",
      "  Matrix range    [1e+00, 1e+00]\n",
      "  Objective range [2e+00, 2e+01]\n",
      "  Bounds range    [1e+00, 1e+00]\n",
      "  RHS range       [1e+00, 2e+01]\n",
      "Presolve removed 50 rows and 0 columns\n",
      "Presolve time: 0.02s\n",
      "Presolved: 1200 rows, 925 columns, 3300 nonzeros\n",
      "Variable types: 0 continuous, 925 integer (300 binary)\n",
      "Found heuristic solution: objective 2006.0000000\n",
      "\n",
      "Root relaxation: objective 2.898000e+03, 343 iterations, 0.00 seconds\n",
      "\n",
      "    Nodes    |    Current Node    |     Objective Bounds      |     Work\n",
      " Expl Unexpl |  Obj  Depth IntInf | Incumbent    BestBd   Gap | It/Node Time\n",
      "\n",
      "     0     0 2898.00000    0  324 2006.00000 2898.00000  44.5%     -    0s\n",
      "     0     0 2871.64362    0  333 2006.00000 2871.64362  43.2%     -    0s\n",
      "     0     0 2871.64362    0  332 2006.00000 2871.64362  43.2%     -    0s\n",
      "     0     0 2864.58455    0  376 2006.00000 2864.58455  42.8%     -    0s\n",
      "H    0     0                    2008.0000000 2864.58455  42.7%     -    0s\n",
      "     0     0 2860.98428    0  351 2008.00000 2860.98428  42.5%     -    0s\n",
      "     0     0 2851.35071    0  378 2008.00000 2851.35071  42.0%     -    0s\n",
      "H    0     0                    2010.0000000 2851.35071  41.9%     -    0s\n",
      "     0     0 2850.85071    0  389 2010.00000 2850.85071  41.8%     -    0s\n",
      "     0     0 2850.51738    0  377 2010.00000 2850.51738  41.8%     -    0s\n",
      "     0     0 2850.51738    0  388 2010.00000 2850.51738  41.8%     -    0s\n",
      "     0     0 2850.51738    0  387 2010.00000 2850.51738  41.8%     -    0s\n",
      "     0     0 2850.51738    0  358 2010.00000 2850.51738  41.8%     -    0s\n",
      "     0     2 2850.51738    0  329 2010.00000 2850.51738  41.8%     -    0s\n",
      "H  444   345                    2110.0000000 2832.37757  34.2%  11.2    0s\n",
      "   781   585 2336.00000  114  425 2110.00000 2815.66632  33.4%   8.2    5s\n",
      "   922   662 2616.93878   41  211 2110.00000 2800.40255  32.7%  71.8   10s\n",
      "H 1024   675                    2118.0000000 2800.40255  32.2%  68.9   10s\n",
      "  2516  1120 2701.27421   21  357 2118.00000 2783.01106  31.4%  53.6   15s\n",
      "H 3327  1597                    2132.0000000 2778.37758  30.3%  49.7   16s\n",
      "  4592  2430 2470.82867   34  242 2132.00000 2772.46783  30.0%  47.6   20s\n",
      "  7063  4031     cutoff   71      2132.00000 2760.36765  29.5%  48.4   25s\n",
      "H 7065  4025                    2134.0000000 2760.36765  29.4%  48.4   25s\n",
      "H 7073  4019                    2138.0000000 2760.36765  29.1%  48.6   25s\n",
      "  8969  5213 2713.46860   26  282 2138.00000 2753.55758  28.8%  47.7   30s\n",
      "H 9063  5262                    2140.0000000 2753.55758  28.7%  47.6   30s\n",
      " 10789  6355 2663.50373   21  409 2140.00000 2751.53129  28.6%  47.7   35s\n",
      " 12707  7543 2552.80000   42  229 2140.00000 2746.68970  28.3%  48.4   41s\n",
      "H13749  8191                    2142.0000000 2743.91921  28.1%  49.2   43s\n",
      " 14062  8377 2472.50000   30  256 2142.00000 2743.38171  28.1%  49.4   45s\n",
      " 15524  9252 2617.00000   37  252 2142.00000 2740.79051  28.0%  50.3   50s\n",
      "\n",
      "Cutting planes:\n",
      "  Gomory: 85\n",
      "  Implied bound: 4\n",
      "  MIR: 310\n",
      "  Flow cover: 2103\n",
      "  Zero half: 512\n",
      "\n",
      "Explored 15736 nodes (801537 simplex iterations) in 50.01 seconds\n",
      "Thread count was 4 (of 4 available processors)\n",
      "\n",
      "Time limit reached\n",
      "Best objective 2.142000000000e+03, best bound 2.740000000000e+03, gap 27.9178%\n"
     ]
    },
    {
     "data": {
      "text/plain": [
       "array([ 8061.,  1524.,  7114.,  8733.,  1731.,  2354.,  3687.,  4934.,\n",
       "        6377.,  8574.,  2606.,   203.,  7062.,  9775.,  9585.,  5938.,\n",
       "        1450.,  3864.,  9213.,  6547.,  9836.,  9612.,  8342.,  3938.,\n",
       "        4495.])"
      ]
     },
     "execution_count": 481,
     "metadata": {},
     "output_type": "execute_result"
    }
   ],
   "source": [
    "m = solve_ilp(ineqs, time_limit=50)\n",
    "m"
   ]
  },
  {
   "cell_type": "code",
   "execution_count": 482,
   "metadata": {
    "collapsed": false
   },
   "outputs": [
    {
     "data": {
      "text/plain": [
       "('hvac', 1)"
      ]
     },
     "execution_count": 482,
     "metadata": {},
     "output_type": "execute_result"
    }
   ],
   "source": [
    "appliance, month"
   ]
  },
  {
   "cell_type": "code",
   "execution_count": 497,
   "metadata": {
    "collapsed": false
   },
   "outputs": [
    {
     "data": {
      "text/plain": [
       "8061    537.882385\n",
       "1524    325.225800\n",
       "7114    310.736237\n",
       "8733    118.302780\n",
       "Name: hvac_8, dtype: float64"
      ]
     },
     "execution_count": 497,
     "metadata": {},
     "output_type": "execute_result"
    }
   ],
   "source": [
    "train_df.ix[m[:4]]['hvac_9']"
   ]
  },
  {
   "cell_type": "code",
   "execution_count": 498,
   "metadata": {
    "collapsed": false
   },
   "outputs": [
    {
     "data": {
      "text/plain": [
       "554.70135498046875"
      ]
     },
     "execution_count": 498,
     "metadata": {},
     "output_type": "execute_result"
    }
   ],
   "source": [
    "test_df.ix[test_home]['hvac_8']"
   ]
  },
  {
   "cell_type": "code",
   "execution_count": 434,
   "metadata": {
    "collapsed": false
   },
   "outputs": [
    {
     "data": {
      "text/plain": [
       "54           NaN\n",
       "203          NaN\n",
       "527          NaN\n",
       "1450         NaN\n",
       "1524         NaN\n",
       "1731    0.370131\n",
       "2031         NaN\n",
       "2354         NaN\n",
       "2606    0.330839\n",
       "3687         NaN\n",
       "3864         NaN\n",
       "3938         NaN\n",
       "4083         NaN\n",
       "4095         NaN\n",
       "4329         NaN\n",
       "4495         NaN\n",
       "4761         NaN\n",
       "4934         NaN\n",
       "5009         NaN\n",
       "5909         NaN\n",
       "5938    0.351318\n",
       "6268         NaN\n",
       "6377         NaN\n",
       "6429         NaN\n",
       "6497         NaN\n",
       "6547         NaN\n",
       "6689         NaN\n",
       "7062    0.333220\n",
       "7114         NaN\n",
       "7409         NaN\n",
       "7639         NaN\n",
       "8061    0.380847\n",
       "8342    0.333458\n",
       "8574    0.333220\n",
       "8733         NaN\n",
       "8886         NaN\n",
       "9213         NaN\n",
       "9370         NaN\n",
       "9585         NaN\n",
       "9612         NaN\n",
       "9775    0.547542\n",
       "9836         NaN\n",
       "Name: area, dtype: float64"
      ]
     },
     "execution_count": 434,
     "metadata": {},
     "output_type": "execute_result"
    }
   ],
   "source": [
    "train_normalised_df['area']"
   ]
  },
  {
   "cell_type": "code",
   "execution_count": null,
   "metadata": {
    "collapsed": true
   },
   "outputs": [],
   "source": []
  }
 ],
 "metadata": {
  "kernelspec": {
   "display_name": "Python 2",
   "language": "python",
   "name": "python2"
  },
  "language_info": {
   "codemirror_mode": {
    "name": "ipython",
    "version": 2
   },
   "file_extension": ".py",
   "mimetype": "text/x-python",
   "name": "python",
   "nbconvert_exporter": "python",
   "pygments_lexer": "ipython2",
   "version": "2.7.11"
  }
 },
 "nbformat": 4,
 "nbformat_minor": 0
}
