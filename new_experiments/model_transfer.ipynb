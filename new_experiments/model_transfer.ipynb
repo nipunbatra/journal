{
 "cells": [
  {
   "cell_type": "markdown",
   "metadata": {},
   "source": [
    "In this notebook, I'll look at strategies to transfer data from train to test region and evaluate the accuracy of the same."
   ]
  },
  {
   "cell_type": "code",
   "execution_count": 1,
   "metadata": {},
   "outputs": [],
   "source": [
    "import pandas as pd"
   ]
  },
  {
   "cell_type": "code",
   "execution_count": 2,
   "metadata": {},
   "outputs": [],
   "source": [
    "from train_test import *"
   ]
  },
  {
   "cell_type": "code",
   "execution_count": 3,
   "metadata": {},
   "outputs": [],
   "source": [
    "train_region = \"SanDiego\"\n",
    "test_region = \"Austin\"\n",
    "\n",
    "train_dataset_df = df_regions[train_region]\n",
    "test_dataset_df = df_regions[test_region]\n",
    "\n",
    "train_all_homes = home_regions[train_region]\n",
    "test_all_homes = home_regions[test_region]\n",
    "\n",
    "appliance=\"hvac\""
   ]
  },
  {
   "cell_type": "code",
   "execution_count": 4,
   "metadata": {},
   "outputs": [
    {
     "name": "stdout",
     "output_type": "stream",
     "text": [
      "hvac\n",
      "26 26.9145828533\n",
      "59 55.2871099365\n"
     ]
    }
   ],
   "source": [
    "from train_test import _find_accuracy\n",
    "\n",
    "acc = {}\n",
    "pred_all = {}\n",
    "gt_all = {}\n",
    "#for appliance in [\"hvac\",\"fridge\",\"dw\",\"mw\"]:\n",
    "for appliance in [\"hvac\"]:\n",
    "    if appliance in acc:\n",
    "        continue\n",
    "    else:\n",
    "        print appliance\n",
    "        acc[appliance] = {}\n",
    "        pred_all[appliance] = {}\n",
    "        gt_all[appliance] = {}\n",
    "        feature=\"Monthly\"\n",
    "        for home in test_all_homes[appliance][:]:\n",
    "            try:\n",
    "                pred, gt, out_df = _find_accuracy(train_dataset_df, test_dataset_df,\n",
    "                   train_all_homes, test_all_homes,\n",
    "                   home, appliance, feature=\"Monthly\")\n",
    "                \n",
    "                acc[appliance][home]=out_df\n",
    "                pred_all[appliance][home] = pred\n",
    "                gt_all[appliance][home] = gt\n",
    "                print home, acc[appliance][home].mean()\n",
    "            except Exception, e:\n",
    "                print e"
   ]
  },
  {
   "cell_type": "code",
   "execution_count": 6,
   "metadata": {},
   "outputs": [
    {
     "data": {
      "text/plain": [
       "{'hvac': {26: 7    20.489400\n",
       "  8    17.859870\n",
       "  9    42.394478\n",
       "  Name: 26, dtype: float64, 59: 7    55.461868\n",
       "  8    36.250737\n",
       "  9    74.148725\n",
       "  Name: 59, dtype: float64}}"
      ]
     },
     "execution_count": 6,
     "output_type": "execute_result",
     "metadata": {}
    }
   ],
   "source": [
    "acc"
   ]
  },
  {
   "cell_type": "code",
   "execution_count": 5,
   "metadata": {},
   "outputs": [
    {
     "data": {
      "text/plain": [
       "7    37.975634\n",
       "8    27.055304\n",
       "9    58.271601\n",
       "dtype: float64"
      ]
     },
     "execution_count": 5,
     "output_type": "execute_result",
     "metadata": {}
    }
   ],
   "source": [
    "pd.DataFrame(acc['hvac']).T.mean()"
   ]
  },
  {
   "cell_type": "code",
   "execution_count": 11,
   "metadata": {},
   "outputs": [
    {
     "data": {
      "text/html": [
       "<div>\n",
       "<table border=\"1\" class=\"dataframe\">\n",
       "  <thead>\n",
       "    <tr style=\"text-align: right;\">\n",
       "      <th></th>\n",
       "      <th>7</th>\n",
       "      <th>8</th>\n",
       "      <th>9</th>\n",
       "    </tr>\n",
       "  </thead>\n",
       "  <tbody>\n",
       "    <tr>\n",
       "      <th>count</th>\n",
       "      <td>75.000000</td>\n",
       "      <td>75.000000</td>\n",
       "      <td>75.000000</td>\n",
       "    </tr>\n",
       "    <tr>\n",
       "      <th>mean</th>\n",
       "      <td>33.875164</td>\n",
       "      <td>34.551412</td>\n",
       "      <td>59.590807</td>\n",
       "    </tr>\n",
       "    <tr>\n",
       "      <th>std</th>\n",
       "      <td>13.506503</td>\n",
       "      <td>14.299504</td>\n",
       "      <td>17.179150</td>\n",
       "    </tr>\n",
       "    <tr>\n",
       "      <th>min</th>\n",
       "      <td>0.000000</td>\n",
       "      <td>14.970531</td>\n",
       "      <td>32.207546</td>\n",
       "    </tr>\n",
       "    <tr>\n",
       "      <th>25%</th>\n",
       "      <td>25.402136</td>\n",
       "      <td>24.092669</td>\n",
       "      <td>45.621805</td>\n",
       "    </tr>\n",
       "    <tr>\n",
       "      <th>50%</th>\n",
       "      <td>32.206694</td>\n",
       "      <td>31.408983</td>\n",
       "      <td>57.202514</td>\n",
       "    </tr>\n",
       "    <tr>\n",
       "      <th>75%</th>\n",
       "      <td>38.968379</td>\n",
       "      <td>40.700078</td>\n",
       "      <td>69.224408</td>\n",
       "    </tr>\n",
       "    <tr>\n",
       "      <th>max</th>\n",
       "      <td>71.943419</td>\n",
       "      <td>76.328550</td>\n",
       "      <td>98.588914</td>\n",
       "    </tr>\n",
       "  </tbody>\n",
       "</table>\n",
       "</div>"
      ]
     },
     "output_type": "execute_result",
     "metadata": {}
    }
   ],
   "source": [
    "pd.DataFrame(acc['hvac']).T.describe()"
   ]
  },
  {
   "cell_type": "code",
   "execution_count": 80,
   "metadata": {},
   "outputs": [],
   "source": [
    "def oracle(train_dataset_df, test_dataset_df,\n",
    "                   train_all_homes, test_all_homes,\n",
    "                   home, appliance):\n",
    "    from itertools import combinations\n",
    "    out = {appliance:{}}\n",
    "    \n",
    "    for home in test_all_homes[appliance]:\n",
    "        out[appliance][home] = {\"best_prediction_array\":{}, \"best_score\":1e7, \"optimal_subset\":{}}\n",
    "\n",
    "\n",
    "    appliance_columns = {\n",
    "                         'hvac':[\"hvac_%d\" % i for i in range(7, 10)]}\n",
    "\n",
    "    errors_dict = {}\n",
    "    for appliance in appliance_columns.keys():\n",
    "        errors_dict[appliance] = {}\n",
    "        for max_length in range(1, 3):\n",
    "            print max_length\n",
    "            errors_dict[appliance][max_length] = {}\n",
    "            all_combinations = combinations(train_all_homes[appliance], max_length)\n",
    "            for train_homes in all_combinations:\n",
    "\n",
    "                test_homes = test_all_homes[appliance]\n",
    "                for home in test_homes:\n",
    "                    \n",
    "                    pred_home = np.mean(train_dataset_df.ix[list(train_homes)][appliance_columns[appliance]])\n",
    "                    gt_home = test_dataset_df.ix[home][appliance_columns[appliance]]\n",
    "                    \n",
    "                    error = np.mean(100*(gt_home-pred_home).abs().div(gt_home))\n",
    "                   \n",
    "                    if error<out[appliance][home]['best_score']:\n",
    "                        \n",
    "                        errors_dict[appliance][max_length][home] = 100*(gt_home-pred_home).abs().div(gt_home)\n",
    "                        \n",
    "                        out[appliance][home]['best_score'] = error\n",
    "                        out[appliance][home]['optimal_subset'] = train_homes\n",
    "                        out[appliance][home]['best_prediction_array'] = pred_home\n",
    "    return errors_dict, out"
   ]
  },
  {
   "cell_type": "code",
   "execution_count": 108,
   "metadata": {},
   "outputs": [
    {
     "name": "stdout",
     "output_type": "stream",
     "text": [
      "1\n",
      "2\n"
     ]
    }
   ],
   "source": [
    "train_region = \"San Diego\"\n",
    "test_region = \"Austin\"\n",
    "\n",
    "train_dataset_df = df_regions[train_region]\n",
    "test_dataset_df = df_regions[test_region]\n",
    "\n",
    "train_all_homes = home_regions[train_region]\n",
    "test_all_homes = home_regions[test_region]\n",
    "\n",
    "appliance=\"hvac\"\n",
    "\n",
    "\n",
    "e, o = oracle(train_dataset_df, test_dataset_df,\n",
    "                   train_all_homes, test_all_homes,\n",
    "                   home, appliance)"
   ]
  },
  {
   "cell_type": "code",
   "execution_count": 109,
   "metadata": {},
   "outputs": [],
   "source": [
    "oracle_accuracy = (100-pd.Series({f:pd.DataFrame(e[f][2]).mean().mean() for f in appliance_columns.keys()}))"
   ]
  },
  {
   "cell_type": "code",
   "execution_count": 110,
   "metadata": {},
   "outputs": [
    {
     "data": {
      "text/plain": [
       "hvac    82.922066\n",
       "dtype: float64"
      ]
     },
     "execution_count": 110,
     "output_type": "execute_result",
     "metadata": {}
    }
   ],
   "source": [
    "oracle_accuracy"
   ]
  },
  {
   "cell_type": "code",
   "execution_count": 111,
   "metadata": {},
   "outputs": [
    {
     "data": {
      "text/html": [
       "<div>\n",
       "<table border=\"1\" class=\"dataframe\">\n",
       "  <thead>\n",
       "    <tr style=\"text-align: right;\">\n",
       "      <th></th>\n",
       "      <th>hvac_7</th>\n",
       "      <th>hvac_8</th>\n",
       "      <th>hvac_9</th>\n",
       "    </tr>\n",
       "  </thead>\n",
       "  <tbody>\n",
       "    <tr>\n",
       "      <th>count</th>\n",
       "      <td>41.000000</td>\n",
       "      <td>41.000000</td>\n",
       "      <td>41.000000</td>\n",
       "    </tr>\n",
       "    <tr>\n",
       "      <th>mean</th>\n",
       "      <td>15.197844</td>\n",
       "      <td>26.664714</td>\n",
       "      <td>9.371245</td>\n",
       "    </tr>\n",
       "    <tr>\n",
       "      <th>std</th>\n",
       "      <td>10.615671</td>\n",
       "      <td>15.165396</td>\n",
       "      <td>7.598981</td>\n",
       "    </tr>\n",
       "    <tr>\n",
       "      <th>min</th>\n",
       "      <td>0.200355</td>\n",
       "      <td>0.077628</td>\n",
       "      <td>0.068852</td>\n",
       "    </tr>\n",
       "    <tr>\n",
       "      <th>25%</th>\n",
       "      <td>5.490701</td>\n",
       "      <td>18.455735</td>\n",
       "      <td>2.930430</td>\n",
       "    </tr>\n",
       "    <tr>\n",
       "      <th>50%</th>\n",
       "      <td>14.708170</td>\n",
       "      <td>30.932296</td>\n",
       "      <td>6.887019</td>\n",
       "    </tr>\n",
       "    <tr>\n",
       "      <th>75%</th>\n",
       "      <td>21.410119</td>\n",
       "      <td>37.831905</td>\n",
       "      <td>13.338868</td>\n",
       "    </tr>\n",
       "    <tr>\n",
       "      <th>max</th>\n",
       "      <td>45.075491</td>\n",
       "      <td>60.661014</td>\n",
       "      <td>25.748720</td>\n",
       "    </tr>\n",
       "  </tbody>\n",
       "</table>\n",
       "</div>"
      ]
     },
     "output_type": "execute_result",
     "metadata": {}
    }
   ],
   "source": [
    "pd.DataFrame(e['hvac'][2]).T.describe()"
   ]
  },
  {
   "cell_type": "markdown",
   "metadata": {},
   "source": [
    "Now, transforming train_dataset HVAC by cooling days"
   ]
  },
  {
   "cell_type": "code",
   "execution_count": 89,
   "metadata": {},
   "outputs": [],
   "source": [
    "cdd = {'Austin':{7:715, 8: 788, 9:588},\n",
    "      'San Diego':{7:428, 8:433, 9:472}}"
   ]
  },
  {
   "cell_type": "code",
   "execution_count": 91,
   "metadata": {},
   "outputs": [],
   "source": [
    "cdd_df = pd.DataFrame(cdd)"
   ]
  },
  {
   "cell_type": "code",
   "execution_count": 85,
   "metadata": {},
   "outputs": [],
   "source": [
    "train_dataset_df_copy  = df_regions[train_region].copy()"
   ]
  },
  {
   "cell_type": "code",
   "execution_count": 92,
   "metadata": {},
   "outputs": [],
   "source": [
    "for month in [7, 8, 9]:\n",
    "    cdd_month = cdd_df.ix[month]\n",
    "    train_dataset_df_copy['hvac_%d' %month] = train_dataset_df_copy['hvac_%d' %month]* cdd_month[test_region]/cdd_month[train_region]"
   ]
  },
  {
   "cell_type": "code",
   "execution_count": 93,
   "metadata": {},
   "outputs": [
    {
     "data": {
      "text/html": [
       "<div>\n",
       "<table border=\"1\" class=\"dataframe\">\n",
       "  <thead>\n",
       "    <tr style=\"text-align: right;\">\n",
       "      <th></th>\n",
       "      <th>aggregate_7</th>\n",
       "      <th>aggregate_8</th>\n",
       "      <th>aggregate_9</th>\n",
       "      <th>hvac_7</th>\n",
       "      <th>hvac_8</th>\n",
       "      <th>hvac_9</th>\n",
       "      <th>fridge_7</th>\n",
       "      <th>fridge_8</th>\n",
       "      <th>fridge_9</th>\n",
       "      <th>dw_7</th>\n",
       "      <th>dw_8</th>\n",
       "      <th>dw_9</th>\n",
       "      <th>mw_7</th>\n",
       "      <th>mw_8</th>\n",
       "      <th>mw_9</th>\n",
       "    </tr>\n",
       "  </thead>\n",
       "  <tbody>\n",
       "    <tr>\n",
       "      <th>54</th>\n",
       "      <td>0.265679</td>\n",
       "      <td>0.275405</td>\n",
       "      <td>0.167601</td>\n",
       "      <td>249.431753</td>\n",
       "      <td>288.297280</td>\n",
       "      <td>149.595485</td>\n",
       "      <td>37.834301</td>\n",
       "      <td>38.103199</td>\n",
       "      <td>28.727217</td>\n",
       "      <td>15.490267</td>\n",
       "      <td>14.173583</td>\n",
       "      <td>8.487300</td>\n",
       "      <td>7.218117</td>\n",
       "      <td>2.903950</td>\n",
       "      <td>1.892617</td>\n",
       "    </tr>\n",
       "    <tr>\n",
       "      <th>203</th>\n",
       "      <td>0.490503</td>\n",
       "      <td>0.397438</td>\n",
       "      <td>0.275920</td>\n",
       "      <td>432.457951</td>\n",
       "      <td>423.537537</td>\n",
       "      <td>217.490693</td>\n",
       "      <td>56.448948</td>\n",
       "      <td>44.765385</td>\n",
       "      <td>39.742134</td>\n",
       "      <td>0.599217</td>\n",
       "      <td>0.000667</td>\n",
       "      <td>0.545717</td>\n",
       "      <td>11.203717</td>\n",
       "      <td>9.830317</td>\n",
       "      <td>7.555984</td>\n",
       "    </tr>\n",
       "    <tr>\n",
       "      <th>1450</th>\n",
       "      <td>0.700644</td>\n",
       "      <td>0.935066</td>\n",
       "      <td>0.863948</td>\n",
       "      <td>495.229495</td>\n",
       "      <td>826.382259</td>\n",
       "      <td>585.053517</td>\n",
       "      <td>72.587753</td>\n",
       "      <td>54.018948</td>\n",
       "      <td>52.222767</td>\n",
       "      <td>19.510000</td>\n",
       "      <td>22.250017</td>\n",
       "      <td>19.913500</td>\n",
       "      <td>19.398167</td>\n",
       "      <td>26.427166</td>\n",
       "      <td>14.663067</td>\n",
       "    </tr>\n",
       "    <tr>\n",
       "      <th>1731</th>\n",
       "      <td>0.619553</td>\n",
       "      <td>0.627770</td>\n",
       "      <td>0.787347</td>\n",
       "      <td>483.826623</td>\n",
       "      <td>555.079452</td>\n",
       "      <td>486.273674</td>\n",
       "      <td>44.515667</td>\n",
       "      <td>45.955036</td>\n",
       "      <td>42.599567</td>\n",
       "      <td>4.947166</td>\n",
       "      <td>4.171333</td>\n",
       "      <td>5.398050</td>\n",
       "      <td>5.765916</td>\n",
       "      <td>6.296000</td>\n",
       "      <td>6.078183</td>\n",
       "    </tr>\n",
       "    <tr>\n",
       "      <th>2354</th>\n",
       "      <td>0.665513</td>\n",
       "      <td>0.595442</td>\n",
       "      <td>0.668042</td>\n",
       "      <td>585.551170</td>\n",
       "      <td>542.311154</td>\n",
       "      <td>385.061346</td>\n",
       "      <td>NaN</td>\n",
       "      <td>NaN</td>\n",
       "      <td>NaN</td>\n",
       "      <td>19.126434</td>\n",
       "      <td>18.484699</td>\n",
       "      <td>17.355982</td>\n",
       "      <td>22.555834</td>\n",
       "      <td>22.376900</td>\n",
       "      <td>18.119551</td>\n",
       "    </tr>\n",
       "  </tbody>\n",
       "</table>\n",
       "</div>"
      ]
     },
     "output_type": "execute_result",
     "metadata": {}
    }
   ],
   "source": [
    "train_dataset_df_copy.head()"
   ]
  },
  {
   "cell_type": "code",
   "execution_count": 95,
   "metadata": {},
   "outputs": [
    {
     "name": "stdout",
     "output_type": "stream",
     "text": [
      "1\n",
      "2\n"
     ]
    }
   ],
   "source": [
    "e, o = oracle(train_dataset_df_copy, test_dataset_df,\n",
    "                   train_all_homes, test_all_homes,\n",
    "                   home, appliance)"
   ]
  },
  {
   "cell_type": "code",
   "execution_count": 96,
   "metadata": {},
   "outputs": [],
   "source": [
    "oracle_accuracy_transfer = (100-pd.Series({f:pd.DataFrame(e[f][2]).mean().mean() for f in appliance_columns.keys()}))"
   ]
  },
  {
   "cell_type": "code",
   "execution_count": 97,
   "metadata": {},
   "outputs": [
    {
     "data": {
      "text/plain": [
       "hvac    93.655213\n",
       "dtype: float64"
      ]
     },
     "execution_count": 97,
     "output_type": "execute_result",
     "metadata": {}
    }
   ],
   "source": [
    "oracle_accuracy_transfer"
   ]
  },
  {
   "cell_type": "code",
   "execution_count": 103,
   "metadata": {},
   "outputs": [
    {
     "data": {
      "text/plain": [
       "{'best_prediction_array': hvac_7    340.944852\n",
       " hvac_8    355.917409\n",
       " hvac_9    183.543089\n",
       " dtype: float64, 'best_score': 5.818516172186336, 'optimal_subset': (54, 203)}"
      ]
     },
     "execution_count": 103,
     "output_type": "execute_result",
     "metadata": {}
    }
   ],
   "source": [
    "o['hvac'][624]"
   ]
  },
  {
   "cell_type": "code",
   "execution_count": 104,
   "metadata": {},
   "outputs": [
    {
     "data": {
      "text/html": [
       "<div>\n",
       "<table border=\"1\" class=\"dataframe\">\n",
       "  <thead>\n",
       "    <tr style=\"text-align: right;\">\n",
       "      <th></th>\n",
       "      <th>aggregate_7</th>\n",
       "      <th>aggregate_8</th>\n",
       "      <th>aggregate_9</th>\n",
       "      <th>hvac_7</th>\n",
       "      <th>hvac_8</th>\n",
       "      <th>hvac_9</th>\n",
       "      <th>fridge_7</th>\n",
       "      <th>fridge_8</th>\n",
       "      <th>fridge_9</th>\n",
       "      <th>dw_7</th>\n",
       "      <th>dw_8</th>\n",
       "      <th>dw_9</th>\n",
       "      <th>mw_7</th>\n",
       "      <th>mw_8</th>\n",
       "      <th>mw_9</th>\n",
       "    </tr>\n",
       "  </thead>\n",
       "  <tbody>\n",
       "    <tr>\n",
       "      <th>54</th>\n",
       "      <td>0.265679</td>\n",
       "      <td>0.275405</td>\n",
       "      <td>0.167601</td>\n",
       "      <td>249.431753</td>\n",
       "      <td>288.297280</td>\n",
       "      <td>149.595485</td>\n",
       "      <td>37.834301</td>\n",
       "      <td>38.103199</td>\n",
       "      <td>28.727217</td>\n",
       "      <td>15.490267</td>\n",
       "      <td>14.173583</td>\n",
       "      <td>8.487300</td>\n",
       "      <td>7.218117</td>\n",
       "      <td>2.903950</td>\n",
       "      <td>1.892617</td>\n",
       "    </tr>\n",
       "    <tr>\n",
       "      <th>203</th>\n",
       "      <td>0.490503</td>\n",
       "      <td>0.397438</td>\n",
       "      <td>0.275920</td>\n",
       "      <td>432.457951</td>\n",
       "      <td>423.537537</td>\n",
       "      <td>217.490693</td>\n",
       "      <td>56.448948</td>\n",
       "      <td>44.765385</td>\n",
       "      <td>39.742134</td>\n",
       "      <td>0.599217</td>\n",
       "      <td>0.000667</td>\n",
       "      <td>0.545717</td>\n",
       "      <td>11.203717</td>\n",
       "      <td>9.830317</td>\n",
       "      <td>7.555984</td>\n",
       "    </tr>\n",
       "  </tbody>\n",
       "</table>\n",
       "</div>"
      ]
     },
     "output_type": "execute_result",
     "metadata": {}
    }
   ],
   "source": [
    "train_dataset_df_copy.ix[[54, 203]]"
   ]
  },
  {
   "cell_type": "code",
   "execution_count": 107,
   "metadata": {},
   "outputs": [
    {
     "data": {
      "text/html": [
       "<div>\n",
       "<table border=\"1\" class=\"dataframe\">\n",
       "  <thead>\n",
       "    <tr style=\"text-align: right;\">\n",
       "      <th></th>\n",
       "      <th>hvac_7</th>\n",
       "      <th>hvac_8</th>\n",
       "      <th>hvac_9</th>\n",
       "    </tr>\n",
       "  </thead>\n",
       "  <tbody>\n",
       "    <tr>\n",
       "      <th>count</th>\n",
       "      <td>54.000000</td>\n",
       "      <td>54.000000</td>\n",
       "      <td>54.000000</td>\n",
       "    </tr>\n",
       "    <tr>\n",
       "      <th>mean</th>\n",
       "      <td>5.064148</td>\n",
       "      <td>7.941698</td>\n",
       "      <td>6.028515</td>\n",
       "    </tr>\n",
       "    <tr>\n",
       "      <th>std</th>\n",
       "      <td>4.390296</td>\n",
       "      <td>8.364522</td>\n",
       "      <td>12.719468</td>\n",
       "    </tr>\n",
       "    <tr>\n",
       "      <th>min</th>\n",
       "      <td>0.194121</td>\n",
       "      <td>0.282512</td>\n",
       "      <td>0.026314</td>\n",
       "    </tr>\n",
       "    <tr>\n",
       "      <th>25%</th>\n",
       "      <td>1.538836</td>\n",
       "      <td>2.555043</td>\n",
       "      <td>1.323856</td>\n",
       "    </tr>\n",
       "    <tr>\n",
       "      <th>50%</th>\n",
       "      <td>3.483055</td>\n",
       "      <td>5.894230</td>\n",
       "      <td>3.127265</td>\n",
       "    </tr>\n",
       "    <tr>\n",
       "      <th>75%</th>\n",
       "      <td>8.117787</td>\n",
       "      <td>10.361773</td>\n",
       "      <td>5.954200</td>\n",
       "    </tr>\n",
       "    <tr>\n",
       "      <th>max</th>\n",
       "      <td>17.543412</td>\n",
       "      <td>48.688165</td>\n",
       "      <td>89.005136</td>\n",
       "    </tr>\n",
       "  </tbody>\n",
       "</table>\n",
       "</div>"
      ]
     },
     "output_type": "execute_result",
     "metadata": {}
    }
   ],
   "source": [
    "pd.DataFrame(e['hvac'][2]).T.describe()"
   ]
  },
  {
   "cell_type": "code",
   "execution_count": 112,
   "metadata": {},
   "outputs": [],
   "source": [
    "monthwise = pd.DataFrame({'without':[85, 73, 91], 'with':[95, 91, 87]}, index=[\"July\",'Aug', \"Sep\"])"
   ]
  },
  {
   "cell_type": "code",
   "execution_count": 113,
   "metadata": {},
   "outputs": [
    {
     "data": {
      "text/html": [
       "<div>\n",
       "<table border=\"1\" class=\"dataframe\">\n",
       "  <thead>\n",
       "    <tr style=\"text-align: right;\">\n",
       "      <th></th>\n",
       "      <th>with</th>\n",
       "      <th>without</th>\n",
       "    </tr>\n",
       "  </thead>\n",
       "  <tbody>\n",
       "    <tr>\n",
       "      <th>July</th>\n",
       "      <td>95</td>\n",
       "      <td>85</td>\n",
       "    </tr>\n",
       "    <tr>\n",
       "      <th>Aug</th>\n",
       "      <td>91</td>\n",
       "      <td>73</td>\n",
       "    </tr>\n",
       "    <tr>\n",
       "      <th>Sep</th>\n",
       "      <td>87</td>\n",
       "      <td>91</td>\n",
       "    </tr>\n",
       "  </tbody>\n",
       "</table>\n",
       "</div>"
      ]
     },
     "output_type": "execute_result",
     "metadata": {}
    }
   ],
   "source": [
    "monthwise"
   ]
  },
  {
   "cell_type": "code",
   "execution_count": 116,
   "metadata": {},
   "outputs": [
    {
     "data": {
      "text/plain": [
       "fridge_7    47.000734\n",
       "dtype: float64"
      ]
     },
     "execution_count": 116,
     "output_type": "execute_result",
     "metadata": {}
    }
   ],
   "source": [
    "train_dataset_df[['fridge_7']].median()"
   ]
  },
  {
   "cell_type": "code",
   "execution_count": 117,
   "metadata": {},
   "outputs": [
    {
     "data": {
      "text/plain": [
       "fridge_7    57.035515\n",
       "dtype: float64"
      ]
     },
     "execution_count": 117,
     "output_type": "execute_result",
     "metadata": {}
    }
   ],
   "source": [
    "test_dataset_df[['fridge_7']].median()"
   ]
  },
  {
   "cell_type": "code",
   "execution_count": 118,
   "metadata": {},
   "outputs": [
    {
     "data": {
      "text/plain": [
       "aggregate_7    0.280536\n",
       "dtype: float64"
      ]
     },
     "execution_count": 118,
     "output_type": "execute_result",
     "metadata": {}
    }
   ],
   "source": [
    "train_dataset_df[['aggregate_7']].median()"
   ]
  },
  {
   "cell_type": "code",
   "execution_count": 119,
   "metadata": {},
   "outputs": [
    {
     "data": {
      "text/plain": [
       "aggregate_7    0.350729\n",
       "dtype: float64"
      ]
     },
     "execution_count": 119,
     "output_type": "execute_result",
     "metadata": {}
    }
   ],
   "source": [
    "test_dataset_df[['aggregate_7']].median()"
   ]
  },
  {
   "cell_type": "code",
   "execution_count": 122,
   "metadata": {},
   "outputs": [],
   "source": [
    "unscaled_test_df = pd.read_csv('../data/input/unscaled_austin_df.csv',index_col=0)"
   ]
  },
  {
   "cell_type": "code",
   "execution_count": 123,
   "metadata": {},
   "outputs": [],
   "source": [
    "unscaled_train_df = pd.read_csv('../data/input/unscaled_san_diego_df.csv',index_col=0)"
   ]
  },
  {
   "cell_type": "code",
   "execution_count": 126,
   "metadata": {},
   "outputs": [],
   "source": [
    "%matplotlib inline"
   ]
  },
  {
   "cell_type": "code",
   "execution_count": 130,
   "metadata": {},
   "outputs": [
    {
     "name": "stderr",
     "output_type": "stream",
     "text": [
      "/Users/nipunbatra/anaconda/lib/python2.7/site-packages/ipykernel/__main__.py:3: FutureWarning: \n",
      "The default value for 'return_type' will change to 'axes' in a future release.\n",
      " To use the future behavior now, set return_type='axes'.\n",
      " To keep the previous behavior and silence this warning, set return_type='dict'.\n",
      "  app.launch_new_instance()\n",
      "/Users/nipunbatra/anaconda/lib/python2.7/site-packages/ipykernel/__main__.py:4: FutureWarning: \n",
      "The default value for 'return_type' will change to 'axes' in a future release.\n",
      " To use the future behavior now, set return_type='axes'.\n",
      " To keep the previous behavior and silence this warning, set return_type='dict'.\n"
     ]
    },
    {
     "data": {
      "text/plain": [
       "{'boxes': [<matplotlib.lines.Line2D at 0x11b7ee650>],\n",
       " 'caps': [<matplotlib.lines.Line2D at 0x11b7d1510>,\n",
       "  <matplotlib.lines.Line2D at 0x11b740650>],\n",
       " 'fliers': [<matplotlib.lines.Line2D at 0x11b723e90>],\n",
       " 'means': [],\n",
       " 'medians': [<matplotlib.lines.Line2D at 0x11b721c10>],\n",
       " 'whiskers': [<matplotlib.lines.Line2D at 0x11b7e51d0>,\n",
       "  <matplotlib.lines.Line2D at 0x11b7da990>]}"
      ]
     },
     "execution_count": 130,
     "output_type": "execute_result",
     "metadata": {}
    },
    {
     "data": {
      "image/png": "[encoded data removed]"
     },
     "output_type": "display_data",
     "metadata": {}
    }
   ],
   "source": [
    "import matplotlib.pyplot as plt\n",
    "fig, ax = plt.subplots(ncols=2)\n",
    "unscaled_train_df[['aggregate_7']].boxplot(ax=ax[0])\n",
    "unscaled_test_df[['aggregate_7']].boxplot(ax=ax[1])"
   ]
  },
  {
   "cell_type": "code",
   "execution_count": 154,
   "metadata": {},
   "outputs": [
    {
     "data": {
      "text/html": [
       "<div>\n",
       "<table border=\"1\" class=\"dataframe\">\n",
       "  <thead>\n",
       "    <tr style=\"text-align: right;\">\n",
       "      <th></th>\n",
       "      <th>aggregate_7</th>\n",
       "    </tr>\n",
       "  </thead>\n",
       "  <tbody>\n",
       "    <tr>\n",
       "      <th>54</th>\n",
       "      <td>581.661786</td>\n",
       "    </tr>\n",
       "    <tr>\n",
       "      <th>203</th>\n",
       "      <td>926.233492</td>\n",
       "    </tr>\n",
       "    <tr>\n",
       "      <th>1450</th>\n",
       "      <td>1203.318381</td>\n",
       "    </tr>\n",
       "    <tr>\n",
       "      <th>1731</th>\n",
       "      <td>1075.326753</td>\n",
       "    </tr>\n",
       "    <tr>\n",
       "      <th>2354</th>\n",
       "      <td>NaN</td>\n",
       "    </tr>\n",
       "    <tr>\n",
       "      <th>2606</th>\n",
       "      <td>NaN</td>\n",
       "    </tr>\n",
       "    <tr>\n",
       "      <th>3687</th>\n",
       "      <td>1221.773726</td>\n",
       "    </tr>\n",
       "    <tr>\n",
       "      <th>3864</th>\n",
       "      <td>473.526374</td>\n",
       "    </tr>\n",
       "    <tr>\n",
       "      <th>3938</th>\n",
       "      <td>382.944770</td>\n",
       "    </tr>\n",
       "    <tr>\n",
       "      <th>4083</th>\n",
       "      <td>306.183504</td>\n",
       "    </tr>\n",
       "    <tr>\n",
       "      <th>4095</th>\n",
       "      <td>1188.244575</td>\n",
       "    </tr>\n",
       "    <tr>\n",
       "      <th>4495</th>\n",
       "      <td>256.032058</td>\n",
       "    </tr>\n",
       "    <tr>\n",
       "      <th>4934</th>\n",
       "      <td>271.469929</td>\n",
       "    </tr>\n",
       "    <tr>\n",
       "      <th>5938</th>\n",
       "      <td>222.727319</td>\n",
       "    </tr>\n",
       "    <tr>\n",
       "      <th>6377</th>\n",
       "      <td>392.979661</td>\n",
       "    </tr>\n",
       "    <tr>\n",
       "      <th>6429</th>\n",
       "      <td>212.840496</td>\n",
       "    </tr>\n",
       "    <tr>\n",
       "      <th>6547</th>\n",
       "      <td>309.761094</td>\n",
       "    </tr>\n",
       "    <tr>\n",
       "      <th>7062</th>\n",
       "      <td>758.779480</td>\n",
       "    </tr>\n",
       "    <tr>\n",
       "      <th>7114</th>\n",
       "      <td>651.737851</td>\n",
       "    </tr>\n",
       "    <tr>\n",
       "      <th>7409</th>\n",
       "      <td>287.584514</td>\n",
       "    </tr>\n",
       "    <tr>\n",
       "      <th>7639</th>\n",
       "      <td>603.977578</td>\n",
       "    </tr>\n",
       "    <tr>\n",
       "      <th>8061</th>\n",
       "      <td>984.584318</td>\n",
       "    </tr>\n",
       "    <tr>\n",
       "      <th>8342</th>\n",
       "      <td>211.238699</td>\n",
       "    </tr>\n",
       "    <tr>\n",
       "      <th>8574</th>\n",
       "      <td>559.518801</td>\n",
       "    </tr>\n",
       "    <tr>\n",
       "      <th>8733</th>\n",
       "      <td>1041.010370</td>\n",
       "    </tr>\n",
       "    <tr>\n",
       "      <th>9213</th>\n",
       "      <td>367.657868</td>\n",
       "    </tr>\n",
       "    <tr>\n",
       "      <th>9370</th>\n",
       "      <td>1460.650389</td>\n",
       "    </tr>\n",
       "    <tr>\n",
       "      <th>9585</th>\n",
       "      <td>624.843550</td>\n",
       "    </tr>\n",
       "    <tr>\n",
       "      <th>9612</th>\n",
       "      <td>959.556575</td>\n",
       "    </tr>\n",
       "    <tr>\n",
       "      <th>9775</th>\n",
       "      <td>450.622969</td>\n",
       "    </tr>\n",
       "  </tbody>\n",
       "</table>\n",
       "</div>"
      ]
     },
     "output_type": "execute_result",
     "metadata": {}
    }
   ],
   "source": [
    "month = 7\n",
    "cdd_month = cdd_df.ix[month]\n",
    "hvac_adjustment = unscaled_train_df[['hvac_7']]*(cdd_month[test_region]*1./cdd_month[train_region]-1.)\n",
    "hvac_adjustment.columns = [\"aggregate_7\"]\n",
    "#fridge_adjustment = pd.Series(unscaled_train_df[['fridge_7']]*1.2).values)\n",
    "(unscaled_train_df[['aggregate_7']] + hvac_adjustment+fridge_adjustment)"
   ]
  },
  {
   "cell_type": "code",
   "execution_count": 136,
   "metadata": {},
   "outputs": [
    {
     "data": {
      "text/plain": [
       "aggregate_7    452.578735\n",
       "dtype: float64"
      ]
     },
     "execution_count": 136,
     "output_type": "execute_result",
     "metadata": {}
    }
   ],
   "source": [
    "unscaled_train_df[['aggregate_7']].median()"
   ]
  },
  {
   "cell_type": "code",
   "execution_count": 137,
   "metadata": {},
   "outputs": [
    {
     "data": {
      "text/plain": [
       "aggregate_7    1172.03894\n",
       "dtype: float64"
      ]
     },
     "execution_count": 137,
     "output_type": "execute_result",
     "metadata": {}
    }
   ],
   "source": [
    "unscaled_test_df[['aggregate_7']].median()"
   ]
  },
  {
   "cell_type": "code",
   "execution_count": 143,
   "metadata": {},
   "outputs": [],
   "source": [
    "hvac_adjustment = unscaled_train_df[['hvac_7']]*cdd_month[test_region]/cdd_month[train_region]"
   ]
  },
  {
   "cell_type": "code",
   "execution_count": 151,
   "metadata": {},
   "outputs": [],
   "source": [
    ""
   ]
  },
  {
   "cell_type": "code",
   "execution_count": 152,
   "metadata": {},
   "outputs": [
    {
     "data": {
      "text/html": [
       "<div>\n",
       "<table border=\"1\" class=\"dataframe\">\n",
       "  <thead>\n",
       "    <tr style=\"text-align: right;\">\n",
       "      <th></th>\n",
       "      <th>aggregate_7</th>\n",
       "    </tr>\n",
       "  </thead>\n",
       "  <tbody>\n",
       "    <tr>\n",
       "      <th>54</th>\n",
       "      <td>436.139069</td>\n",
       "    </tr>\n",
       "    <tr>\n",
       "      <th>203</th>\n",
       "      <td>684.906738</td>\n",
       "    </tr>\n",
       "    <tr>\n",
       "      <th>1450</th>\n",
       "      <td>917.428650</td>\n",
       "    </tr>\n",
       "    <tr>\n",
       "      <th>1731</th>\n",
       "      <td>827.700623</td>\n",
       "    </tr>\n",
       "    <tr>\n",
       "      <th>2354</th>\n",
       "      <td>878.555725</td>\n",
       "    </tr>\n",
       "    <tr>\n",
       "      <th>2606</th>\n",
       "      <td>652.447693</td>\n",
       "    </tr>\n",
       "    <tr>\n",
       "      <th>3687</th>\n",
       "      <td>859.141663</td>\n",
       "    </tr>\n",
       "    <tr>\n",
       "      <th>3864</th>\n",
       "      <td>337.748779</td>\n",
       "    </tr>\n",
       "    <tr>\n",
       "      <th>3938</th>\n",
       "      <td>284.619446</td>\n",
       "    </tr>\n",
       "    <tr>\n",
       "      <th>4083</th>\n",
       "      <td>217.443024</td>\n",
       "    </tr>\n",
       "    <tr>\n",
       "      <th>4095</th>\n",
       "      <td>905.415161</td>\n",
       "    </tr>\n",
       "    <tr>\n",
       "      <th>4495</th>\n",
       "      <td>199.612717</td>\n",
       "    </tr>\n",
       "    <tr>\n",
       "      <th>4934</th>\n",
       "      <td>188.149780</td>\n",
       "    </tr>\n",
       "    <tr>\n",
       "      <th>5938</th>\n",
       "      <td>175.678299</td>\n",
       "    </tr>\n",
       "    <tr>\n",
       "      <th>6377</th>\n",
       "      <td>317.070221</td>\n",
       "    </tr>\n",
       "    <tr>\n",
       "      <th>6429</th>\n",
       "      <td>142.164673</td>\n",
       "    </tr>\n",
       "    <tr>\n",
       "      <th>6547</th>\n",
       "      <td>223.679947</td>\n",
       "    </tr>\n",
       "    <tr>\n",
       "      <th>7062</th>\n",
       "      <td>674.892029</td>\n",
       "    </tr>\n",
       "    <tr>\n",
       "      <th>7114</th>\n",
       "      <td>465.081879</td>\n",
       "    </tr>\n",
       "    <tr>\n",
       "      <th>7409</th>\n",
       "      <td>202.511826</td>\n",
       "    </tr>\n",
       "    <tr>\n",
       "      <th>7639</th>\n",
       "      <td>453.675781</td>\n",
       "    </tr>\n",
       "    <tr>\n",
       "      <th>8061</th>\n",
       "      <td>706.777222</td>\n",
       "    </tr>\n",
       "    <tr>\n",
       "      <th>8342</th>\n",
       "      <td>145.559662</td>\n",
       "    </tr>\n",
       "    <tr>\n",
       "      <th>8574</th>\n",
       "      <td>472.273376</td>\n",
       "    </tr>\n",
       "    <tr>\n",
       "      <th>8733</th>\n",
       "      <td>818.534790</td>\n",
       "    </tr>\n",
       "    <tr>\n",
       "      <th>9213</th>\n",
       "      <td>272.419098</td>\n",
       "    </tr>\n",
       "    <tr>\n",
       "      <th>9370</th>\n",
       "      <td>1031.642944</td>\n",
       "    </tr>\n",
       "    <tr>\n",
       "      <th>9585</th>\n",
       "      <td>451.481689</td>\n",
       "    </tr>\n",
       "    <tr>\n",
       "      <th>9612</th>\n",
       "      <td>662.011963</td>\n",
       "    </tr>\n",
       "    <tr>\n",
       "      <th>9775</th>\n",
       "      <td>396.423035</td>\n",
       "    </tr>\n",
       "  </tbody>\n",
       "</table>\n",
       "</div>"
      ]
     },
     "output_type": "execute_result",
     "metadata": {}
    }
   ],
   "source": [
    "hvac_adjustment+unscaled_train_df[['aggregate_7']]"
   ]
  },
  {
   "cell_type": "code",
   "execution_count": 153,
   "metadata": {},
   "outputs": [
    {
     "data": {
      "text/html": [
       "<div>\n",
       "<table border=\"1\" class=\"dataframe\">\n",
       "  <thead>\n",
       "    <tr style=\"text-align: right;\">\n",
       "      <th></th>\n",
       "      <th>aggregate_7</th>\n",
       "    </tr>\n",
       "  </thead>\n",
       "  <tbody>\n",
       "    <tr>\n",
       "      <th>54</th>\n",
       "      <td>0</td>\n",
       "    </tr>\n",
       "    <tr>\n",
       "      <th>203</th>\n",
       "      <td>0</td>\n",
       "    </tr>\n",
       "    <tr>\n",
       "      <th>1450</th>\n",
       "      <td>0</td>\n",
       "    </tr>\n",
       "    <tr>\n",
       "      <th>1731</th>\n",
       "      <td>0</td>\n",
       "    </tr>\n",
       "    <tr>\n",
       "      <th>2354</th>\n",
       "      <td>0</td>\n",
       "    </tr>\n",
       "    <tr>\n",
       "      <th>2606</th>\n",
       "      <td>0</td>\n",
       "    </tr>\n",
       "    <tr>\n",
       "      <th>3687</th>\n",
       "      <td>0</td>\n",
       "    </tr>\n",
       "    <tr>\n",
       "      <th>3864</th>\n",
       "      <td>0</td>\n",
       "    </tr>\n",
       "    <tr>\n",
       "      <th>3938</th>\n",
       "      <td>0</td>\n",
       "    </tr>\n",
       "    <tr>\n",
       "      <th>4083</th>\n",
       "      <td>0</td>\n",
       "    </tr>\n",
       "    <tr>\n",
       "      <th>4095</th>\n",
       "      <td>0</td>\n",
       "    </tr>\n",
       "    <tr>\n",
       "      <th>4495</th>\n",
       "      <td>0</td>\n",
       "    </tr>\n",
       "    <tr>\n",
       "      <th>4934</th>\n",
       "      <td>0</td>\n",
       "    </tr>\n",
       "    <tr>\n",
       "      <th>5938</th>\n",
       "      <td>0</td>\n",
       "    </tr>\n",
       "    <tr>\n",
       "      <th>6377</th>\n",
       "      <td>0</td>\n",
       "    </tr>\n",
       "    <tr>\n",
       "      <th>6429</th>\n",
       "      <td>0</td>\n",
       "    </tr>\n",
       "    <tr>\n",
       "      <th>6547</th>\n",
       "      <td>0</td>\n",
       "    </tr>\n",
       "    <tr>\n",
       "      <th>7062</th>\n",
       "      <td>0</td>\n",
       "    </tr>\n",
       "    <tr>\n",
       "      <th>7114</th>\n",
       "      <td>0</td>\n",
       "    </tr>\n",
       "    <tr>\n",
       "      <th>7409</th>\n",
       "      <td>0</td>\n",
       "    </tr>\n",
       "    <tr>\n",
       "      <th>7639</th>\n",
       "      <td>0</td>\n",
       "    </tr>\n",
       "    <tr>\n",
       "      <th>8061</th>\n",
       "      <td>0</td>\n",
       "    </tr>\n",
       "    <tr>\n",
       "      <th>8342</th>\n",
       "      <td>0</td>\n",
       "    </tr>\n",
       "    <tr>\n",
       "      <th>8574</th>\n",
       "      <td>0</td>\n",
       "    </tr>\n",
       "    <tr>\n",
       "      <th>8733</th>\n",
       "      <td>0</td>\n",
       "    </tr>\n",
       "    <tr>\n",
       "      <th>9213</th>\n",
       "      <td>0</td>\n",
       "    </tr>\n",
       "    <tr>\n",
       "      <th>9370</th>\n",
       "      <td>0</td>\n",
       "    </tr>\n",
       "    <tr>\n",
       "      <th>9585</th>\n",
       "      <td>0</td>\n",
       "    </tr>\n",
       "    <tr>\n",
       "      <th>9612</th>\n",
       "      <td>0</td>\n",
       "    </tr>\n",
       "    <tr>\n",
       "      <th>9775</th>\n",
       "      <td>0</td>\n",
       "    </tr>\n",
       "  </tbody>\n",
       "</table>\n",
       "</div>"
      ]
     },
     "output_type": "execute_result",
     "metadata": {}
    }
   ],
   "source": [
    "hvac_adjustment"
   ]
  },
  {
   "cell_type": "code",
   "execution_count": 163,
   "metadata": {},
   "outputs": [
    {
     "data": {
      "text/plain": [
       "array([<matplotlib.axes._subplots.AxesSubplot object at 0x11cf03590>], dtype=object)"
      ]
     },
     "execution_count": 163,
     "output_type": "execute_result",
     "metadata": {}
    },
    {
     "data": {
      "image/png": "[encoded data removed]"
     },
     "output_type": "display_data",
     "metadata": {}
    }
   ],
   "source": [
    "ax = plt.gca()\n",
    "(unscaled_train_df[['aggregate_7']] + hvac_adjustment+fridge_adjustment).hist(ax=ax)\n",
    "(unscaled_train_df[['aggregate_7']]).hist(ax=ax, bins=10)\n",
    "(unscaled_test_df[['aggregate_7']]).hist(ax=ax, bins=20, alpha=0.4)"
   ]
  },
  {
   "cell_type": "code",
   "execution_count": 174,
   "metadata": {},
   "outputs": [
    {
     "data": {
      "text/plain": [
       "<matplotlib.axes._subplots.AxesSubplot at 0x11df62550>"
      ]
     },
     "execution_count": 174,
     "output_type": "execute_result",
     "metadata": {}
    },
    {
     "data": {
      "image/png": "[encoded data removed]"
     },
     "output_type": "display_data",
     "metadata": {}
    }
   ],
   "source": [
    "(4*train_dataset_df['hvac_%d' %month]).hist()\n",
    "test_dataset_df['hvac_%d' %month].hist(alpha=0.4)"
   ]
  },
  {
   "cell_type": "code",
   "execution_count": 169,
   "metadata": {},
   "outputs": [
    {
     "data": {
      "text/plain": [
       "{'Austin': {7: 715, 8: 788, 9: 588}, 'San Diego': {7: 428, 8: 433, 9: 472}}"
      ]
     },
     "execution_count": 169,
     "output_type": "execute_result",
     "metadata": {}
    }
   ],
   "source": [
    "cdd"
   ]
  },
  {
   "cell_type": "code",
   "execution_count": 171,
   "metadata": {},
   "outputs": [
    {
     "data": {
      "text/plain": [
       "128.087474823"
      ]
     },
     "execution_count": 171,
     "output_type": "execute_result",
     "metadata": {}
    }
   ],
   "source": [
    "train_dataset_df['hvac_%d' %month].median()"
   ]
  },
  {
   "cell_type": "code",
   "execution_count": 172,
   "metadata": {},
   "outputs": [
    {
     "data": {
      "text/plain": [
       "487.873474121"
      ]
     },
     "execution_count": 172,
     "output_type": "execute_result",
     "metadata": {}
    }
   ],
   "source": [
    "test_dataset_df['hvac_%d' %month].median()"
   ]
  },
  {
   "cell_type": "code",
   "execution_count": 175,
   "metadata": {},
   "outputs": [],
   "source": [
    "from sklearn.linear_model import LinearRegression"
   ]
  },
  {
   "cell_type": "code",
   "execution_count": 176,
   "metadata": {},
   "outputs": [],
   "source": [
    "clf = LinearRegression()"
   ]
  },
  {
   "cell_type": "code",
   "execution_count": 183,
   "metadata": {},
   "outputs": [
    {
     "name": "stderr",
     "output_type": "stream",
     "text": [
      "/Users/nipunbatra/anaconda/lib/python2.7/site-packages/sklearn/utils/validation.py:386: DeprecationWarning: Passing 1d arrays as data is deprecated in 0.17 and willraise ValueError in 0.19. Reshape your data either using X.reshape(-1, 1) if your data has a single feature or X.reshape(1, -1) if it contains a single sample.\n",
      "  DeprecationWarning)\n"
     ]
    },
    {
     "ename": "ValueError",
     "evalue": "Found arrays with inconsistent numbers of samples: [ 1 26]",
     "output_type": "error",
     "traceback": [
      "\u001b[0;31m---------------------------------------------------------------------------\u001b[0m",
      "\u001b[0;31mValueError\u001b[0m                                Traceback (most recent call last)",
      "\u001b[0;32m<ipython-input-183-eb976f4b27f9>\u001b[0m in \u001b[0;36m<module>\u001b[0;34m()\u001b[0m\n\u001b[0;32m----> 1\u001b[0;31m \u001b[0mclf\u001b[0m\u001b[0;34m.\u001b[0m\u001b[0mfit\u001b[0m\u001b[0;34m(\u001b[0m\u001b[0mtrain_dataset_df\u001b[0m\u001b[0;34m.\u001b[0m\u001b[0mix\u001b[0m\u001b[0;34m[\u001b[0m\u001b[0mtrain_all_homes\u001b[0m\u001b[0;34m[\u001b[0m\u001b[0;34m\"hvac\"\u001b[0m\u001b[0;34m]\u001b[0m\u001b[0;34m]\u001b[0m\u001b[0;34m[\u001b[0m\u001b[0;34m'hvac_%d'\u001b[0m \u001b[0;34m%\u001b[0m\u001b[0mmonth\u001b[0m\u001b[0;34m]\u001b[0m\u001b[0;34m,\u001b[0m\u001b[0mtrain_dataset_df\u001b[0m\u001b[0;34m.\u001b[0m\u001b[0mix\u001b[0m\u001b[0;34m[\u001b[0m\u001b[0mtrain_all_homes\u001b[0m\u001b[0;34m[\u001b[0m\u001b[0;34m\"hvac\"\u001b[0m\u001b[0;34m]\u001b[0m\u001b[0;34m]\u001b[0m\u001b[0;34m[\u001b[0m\u001b[0;34m'aggregate_%d'\u001b[0m \u001b[0;34m%\u001b[0m\u001b[0mmonth\u001b[0m\u001b[0;34m]\u001b[0m \u001b[0;34m)\u001b[0m\u001b[0;34m\u001b[0m\u001b[0m\n\u001b[0m",
      "\u001b[0;32m/Users/nipunbatra/anaconda/lib/python2.7/site-packages/sklearn/linear_model/base.pyc\u001b[0m in \u001b[0;36mfit\u001b[0;34m(self, X, y, sample_weight)\u001b[0m\n\u001b[1;32m    425\u001b[0m         \u001b[0mn_jobs_\u001b[0m \u001b[0;34m=\u001b[0m \u001b[0mself\u001b[0m\u001b[0;34m.\u001b[0m\u001b[0mn_jobs\u001b[0m\u001b[0;34m\u001b[0m\u001b[0m\n\u001b[1;32m    426\u001b[0m         X, y = check_X_y(X, y, accept_sparse=['csr', 'csc', 'coo'],\n\u001b[0;32m--> 427\u001b[0;31m                          y_numeric=True, multi_output=True)\n\u001b[0m\u001b[1;32m    428\u001b[0m \u001b[0;34m\u001b[0m\u001b[0m\n\u001b[1;32m    429\u001b[0m         \u001b[0;32mif\u001b[0m \u001b[0;34m(\u001b[0m\u001b[0;34m(\u001b[0m\u001b[0msample_weight\u001b[0m \u001b[0;32mis\u001b[0m \u001b[0;32mnot\u001b[0m \u001b[0mNone\u001b[0m\u001b[0;34m)\u001b[0m \u001b[0;32mand\u001b[0m \u001b[0mnp\u001b[0m\u001b[0;34m.\u001b[0m\u001b[0matleast_1d\u001b[0m\u001b[0;34m(\u001b[0m\u001b[0msample_weight\u001b[0m\u001b[0;34m)\u001b[0m\u001b[0;34m.\u001b[0m\u001b[0mndim\u001b[0m \u001b[0;34m>\u001b[0m \u001b[0;36m1\u001b[0m\u001b[0;34m)\u001b[0m\u001b[0;34m:\u001b[0m\u001b[0;34m\u001b[0m\u001b[0m\n",
      "\u001b[0;32m/Users/nipunbatra/anaconda/lib/python2.7/site-packages/sklearn/utils/validation.pyc\u001b[0m in \u001b[0;36mcheck_X_y\u001b[0;34m(X, y, accept_sparse, dtype, order, copy, force_all_finite, ensure_2d, allow_nd, multi_output, ensure_min_samples, ensure_min_features, y_numeric, warn_on_dtype, estimator)\u001b[0m\n\u001b[1;32m    518\u001b[0m         \u001b[0my\u001b[0m \u001b[0;34m=\u001b[0m \u001b[0my\u001b[0m\u001b[0;34m.\u001b[0m\u001b[0mastype\u001b[0m\u001b[0;34m(\u001b[0m\u001b[0mnp\u001b[0m\u001b[0;34m.\u001b[0m\u001b[0mfloat64\u001b[0m\u001b[0;34m)\u001b[0m\u001b[0;34m\u001b[0m\u001b[0m\n\u001b[1;32m    519\u001b[0m \u001b[0;34m\u001b[0m\u001b[0m\n\u001b[0;32m--> 520\u001b[0;31m     \u001b[0mcheck_consistent_length\u001b[0m\u001b[0;34m(\u001b[0m\u001b[0mX\u001b[0m\u001b[0;34m,\u001b[0m \u001b[0my\u001b[0m\u001b[0;34m)\u001b[0m\u001b[0;34m\u001b[0m\u001b[0m\n\u001b[0m\u001b[1;32m    521\u001b[0m \u001b[0;34m\u001b[0m\u001b[0m\n\u001b[1;32m    522\u001b[0m     \u001b[0;32mreturn\u001b[0m \u001b[0mX\u001b[0m\u001b[0;34m,\u001b[0m \u001b[0my\u001b[0m\u001b[0;34m\u001b[0m\u001b[0m\n",
      "\u001b[0;32m/Users/nipunbatra/anaconda/lib/python2.7/site-packages/sklearn/utils/validation.pyc\u001b[0m in \u001b[0;36mcheck_consistent_length\u001b[0;34m(*arrays)\u001b[0m\n\u001b[1;32m    174\u001b[0m     \u001b[0;32mif\u001b[0m \u001b[0mlen\u001b[0m\u001b[0;34m(\u001b[0m\u001b[0muniques\u001b[0m\u001b[0;34m)\u001b[0m \u001b[0;34m>\u001b[0m \u001b[0;36m1\u001b[0m\u001b[0;34m:\u001b[0m\u001b[0;34m\u001b[0m\u001b[0m\n\u001b[1;32m    175\u001b[0m         raise ValueError(\"Found arrays with inconsistent numbers of samples: \"\n\u001b[0;32m--> 176\u001b[0;31m                          \"%s\" % str(uniques))\n\u001b[0m\u001b[1;32m    177\u001b[0m \u001b[0;34m\u001b[0m\u001b[0m\n\u001b[1;32m    178\u001b[0m \u001b[0;34m\u001b[0m\u001b[0m\n",
      "\u001b[0;31mValueError\u001b[0m: Found arrays with inconsistent numbers of samples: [ 1 26]"
     ]
    }
   ],
   "source": [
    "clf.fit(train_dataset_df.ix[train_all_homes[\"hvac\"]]['hvac_%d' %month],train_dataset_df.ix[train_all_homes[\"hvac\"]]['aggregate_%d' %month] )"
   ]
  },
  {
   "cell_type": "code",
   "execution_count": 184,
   "metadata": {},
   "outputs": [
    {
     "data": {
      "text/plain": [
       "54      149.310196\n",
       "203     258.869934\n",
       "1450    296.445068\n",
       "1731    289.619293\n",
       "2354    350.511749\n",
       "2606    286.592285\n",
       "3687    289.946289\n",
       "3864    125.890953\n",
       "3938     61.706448\n",
       "4083     66.353279\n",
       "4095    324.804688\n",
       "4934     40.959435\n",
       "6377     31.260134\n",
       "6429     49.736618\n",
       "6547     32.152950\n",
       "7114    182.314209\n",
       "7409     61.922935\n",
       "7639    130.283997\n",
       "8061    315.256561\n",
       "8574     55.605553\n",
       "8733    234.299011\n",
       "9213     81.591278\n",
       "9370    519.166382\n",
       "9585    191.078262\n",
       "9612    330.617310\n",
       "9775      0.002467\n",
       "Name: hvac_7, dtype: float64"
      ]
     },
     "execution_count": 184,
     "output_type": "execute_result",
     "metadata": {}
    }
   ],
   "source": [
    "train_dataset_df.ix[train_all_homes[\"hvac\"]]['hvac_%d' %month]"
   ]
  },
  {
   "cell_type": "code",
   "execution_count": 192,
   "metadata": {},
   "outputs": [],
   "source": [
    "Y = unscaled_train_df.ix[train_all_homes[\"hvac\"]]['aggregate_%d' %month].reshape(-1,1)\n",
    "X = train_dataset_df.ix[train_all_homes[\"hvac\"]]['hvac_%d' %month].reshape(-1,1)"
   ]
  },
  {
   "cell_type": "code",
   "execution_count": 193,
   "metadata": {},
   "outputs": [
    {
     "data": {
      "text/plain": [
       "LinearRegression(copy_X=True, fit_intercept=True, n_jobs=1, normalize=False)"
      ]
     },
     "execution_count": 193,
     "output_type": "execute_result",
     "metadata": {}
    }
   ],
   "source": [
    "clf.fit(X, Y)"
   ]
  },
  {
   "cell_type": "code",
   "execution_count": 196,
   "metadata": {},
   "outputs": [
    {
     "data": {
      "text/plain": [
       "(array([[ 1.85531288]]), array([ 191.57789171]))"
      ]
     },
     "execution_count": 196,
     "output_type": "execute_result",
     "metadata": {}
    }
   ],
   "source": [
    "clf.coef_,clf.intercept_"
   ]
  },
  {
   "cell_type": "code",
   "execution_count": 197,
   "metadata": {},
   "outputs": [
    {
     "data": {
      "text/plain": [
       "LinearRegression(copy_X=True, fit_intercept=True, n_jobs=1, normalize=False)"
      ]
     },
     "execution_count": 197,
     "output_type": "execute_result",
     "metadata": {}
    }
   ],
   "source": [
    "Y = unscaled_test_df.ix[test_all_homes[\"hvac\"]]['aggregate_%d' %month].reshape(-1,1)\n",
    "X = test_dataset_df.ix[test_all_homes[\"hvac\"]]['hvac_%d' %month].reshape(-1,1)\n",
    "clf = LinearRegression()\n",
    "clf.fit(X, Y)"
   ]
  },
  {
   "cell_type": "code",
   "execution_count": 198,
   "metadata": {},
   "outputs": [
    {
     "data": {
      "text/plain": [
       "(array([[ 1.91717064]]), array([ 240.80689441]))"
      ]
     },
     "execution_count": 198,
     "output_type": "execute_result",
     "metadata": {}
    }
   ],
   "source": [
    "clf.coef_,clf.intercept_"
   ]
  },
  {
   "cell_type": "code",
   "execution_count": null,
   "metadata": {},
   "outputs": [],
   "source": [
    ""
   ]
  }
 ],
 "metadata": {
  "kernelspec": {
   "display_name": "Python 2",
   "language": "python",
   "name": "python2"
  },
  "language_info": {
   "codemirror_mode": {
    "name": "ipython",
    "version": 2.0
   },
   "file_extension": ".py",
   "mimetype": "text/x-python",
   "name": "python",
   "nbconvert_exporter": "python",
   "pygments_lexer": "ipython2",
   "version": "2.7.11"
  }
 },
 "nbformat": 4,
 "nbformat_minor": 0
}