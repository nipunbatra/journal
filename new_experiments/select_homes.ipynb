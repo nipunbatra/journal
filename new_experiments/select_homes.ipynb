{
 "cells": [
  {
   "cell_type": "code",
   "execution_count": 1,
   "metadata": {
    "collapsed": false
   },
   "outputs": [
    {
     "name": "stderr",
     "output_type": "stream",
     "text": [
      "Vendor:  Continuum Analytics, Inc.\n",
      "Package: mkl\n",
      "Message: trial mode expires in 27 days\n"
     ]
    }
   ],
   "source": [
    "import pandas as pd\n",
    "import numpy as np"
   ]
  },
  {
   "cell_type": "code",
   "execution_count": 2,
   "metadata": {
    "collapsed": true
   },
   "outputs": [],
   "source": [
    "import sys"
   ]
  },
  {
   "cell_type": "code",
   "execution_count": 3,
   "metadata": {
    "collapsed": true
   },
   "outputs": [],
   "source": [
    "sys.path.append(\"../code/\")"
   ]
  },
  {
   "cell_type": "code",
   "execution_count": 4,
   "metadata": {
    "collapsed": true
   },
   "outputs": [],
   "source": [
    "from create_df import read_df\n",
    "df, dfc, all_homes, appliance_min, national_average = read_df()"
   ]
  },
  {
   "cell_type": "markdown",
   "metadata": {},
   "source": [
    "### Weight per appliance"
   ]
  },
  {
   "cell_type": "markdown",
   "metadata": {},
   "source": [
    "Homes having good score on HVAC should be favoured. "
   ]
  },
  {
   "cell_type": "code",
   "execution_count": 5,
   "metadata": {
    "collapsed": true
   },
   "outputs": [],
   "source": [
    "weights = {\"hvac\":0.4, 'fridge':0.2,'light':0.15,'dr':0.1,'wm':0.05,'dw':0.1}"
   ]
  },
  {
   "cell_type": "code",
   "execution_count": 8,
   "metadata": {
    "collapsed": false
   },
   "outputs": [
    {
     "data": {
      "text/plain": [
       "True"
      ]
     },
     "execution_count": 8,
     "metadata": {},
     "output_type": "execute_result"
    }
   ],
   "source": [
    "np.sum(weights.values())==1"
   ]
  },
  {
   "cell_type": "code",
   "execution_count": 9,
   "metadata": {
    "collapsed": false
   },
   "outputs": [
    {
     "data": {
      "text/plain": [
       "Index([u'aggregate_1', u'aggregate_2', u'aggregate_3', u'aggregate_4',\n",
       "       u'aggregate_5', u'aggregate_6', u'aggregate_7', u'aggregate_8',\n",
       "       u'aggregate_9', u'aggregate_10', \n",
       "       ...\n",
       "       u'total_occupants', u'variance', u'ratio_min_max',\n",
       "       u'difference_min_max', u'ratio_difference_min_max', u'skew',\n",
       "       u'kurtosis', u'p_25', u'p_50', u'p_75'],\n",
       "      dtype='object', length=171)"
      ]
     },
     "execution_count": 9,
     "metadata": {},
     "output_type": "execute_result"
    }
   ],
   "source": [
    "df.columns"
   ]
  },
  {
   "cell_type": "markdown",
   "metadata": {},
   "source": [
    "### Best features"
   ]
  },
  {
   "cell_type": "code",
   "execution_count": 10,
   "metadata": {
    "collapsed": true
   },
   "outputs": [],
   "source": [
    "best_features = {'hvac':['aggregate_7','aggregate_9','p_75'],\n",
    "                'fridge':['area','kurtosis','difference_min_max'],\n",
    "                'wm':['area','num_rooms'],\n",
    "                'light':['area'],\n",
    "                'dr':['total_occupants','area'],\n",
    "                'dw':['aggregate_12','aggregate_1']}"
   ]
  },
  {
   "cell_type": "code",
   "execution_count": 17,
   "metadata": {
    "collapsed": true
   },
   "outputs": [],
   "source": [
    "from sklearn.cluster import KMeans"
   ]
  },
  {
   "cell_type": "code",
   "execution_count": 344,
   "metadata": {
    "collapsed": true
   },
   "outputs": [],
   "source": [
    "appliance=\"fridge\"\n",
    "k=7\n"
   ]
  },
  {
   "cell_type": "code",
   "execution_count": null,
   "metadata": {
    "collapsed": false
   },
   "outputs": [],
   "source": []
  },
  {
   "cell_type": "code",
   "execution_count": null,
   "metadata": {
    "collapsed": false
   },
   "outputs": [],
   "source": []
  },
  {
   "cell_type": "code",
   "execution_count": 345,
   "metadata": {
    "collapsed": false
   },
   "outputs": [
    {
     "ename": "AttributeError",
     "evalue": "'KNeighborsRegressor' object has no attribute 'labels_'",
     "output_type": "error",
     "traceback": [
      "\u001b[0;31m---------------------------------------------------------------------------\u001b[0m",
      "\u001b[0;31mAttributeError\u001b[0m                            Traceback (most recent call last)",
      "\u001b[0;32m<ipython-input-345-734db2d13cdf>\u001b[0m in \u001b[0;36m<module>\u001b[0;34m()\u001b[0m\n\u001b[0;32m----> 1\u001b[0;31m \u001b[0mlabels\u001b[0m \u001b[0;34m=\u001b[0m \u001b[0mclf\u001b[0m\u001b[0;34m.\u001b[0m\u001b[0mlabels_\u001b[0m\u001b[0;34m\u001b[0m\u001b[0m\n\u001b[0m\u001b[1;32m      2\u001b[0m \u001b[0mcount\u001b[0m \u001b[0;34m=\u001b[0m \u001b[0mpd\u001b[0m\u001b[0;34m.\u001b[0m\u001b[0mvalue_counts\u001b[0m\u001b[0;34m(\u001b[0m\u001b[0mlabels\u001b[0m\u001b[0;34m)\u001b[0m\u001b[0;34m\u001b[0m\u001b[0m\n",
      "\u001b[0;31mAttributeError\u001b[0m: 'KNeighborsRegressor' object has no attribute 'labels_'"
     ]
    }
   ],
   "source": [
    "labels = clf.labels_\n",
    "count = pd.value_counts(labels)"
   ]
  },
  {
   "cell_type": "code",
   "execution_count": 346,
   "metadata": {
    "collapsed": false
   },
   "outputs": [
    {
     "data": {
      "text/plain": [
       "0    13\n",
       "1     8\n",
       "3     6\n",
       "2     5\n",
       "dtype: int64"
      ]
     },
     "execution_count": 346,
     "metadata": {},
     "output_type": "execute_result"
    }
   ],
   "source": [
    "count_to_use = count[count>3]\n",
    "count_to_use"
   ]
  },
  {
   "cell_type": "code",
   "execution_count": 347,
   "metadata": {
    "collapsed": false
   },
   "outputs": [
    {
     "ename": "AttributeError",
     "evalue": "'KNeighborsRegressor' object has no attribute 'cluster_centers_'",
     "output_type": "error",
     "traceback": [
      "\u001b[0;31m---------------------------------------------------------------------------\u001b[0m",
      "\u001b[0;31mAttributeError\u001b[0m                            Traceback (most recent call last)",
      "\u001b[0;32m<ipython-input-347-433208bafc03>\u001b[0m in \u001b[0;36m<module>\u001b[0;34m()\u001b[0m\n\u001b[0;32m----> 1\u001b[0;31m \u001b[0mcentroids\u001b[0m \u001b[0;34m=\u001b[0m \u001b[0mpd\u001b[0m\u001b[0;34m.\u001b[0m\u001b[0mDataFrame\u001b[0m\u001b[0;34m(\u001b[0m\u001b[0mclf\u001b[0m\u001b[0;34m.\u001b[0m\u001b[0mcluster_centers_\u001b[0m\u001b[0;34m)\u001b[0m\u001b[0;34m\u001b[0m\u001b[0m\n\u001b[0m\u001b[1;32m      2\u001b[0m \u001b[0mcentroids\u001b[0m\u001b[0;34m.\u001b[0m\u001b[0mcolumns\u001b[0m \u001b[0;34m=\u001b[0m \u001b[0mdfa\u001b[0m\u001b[0;34m.\u001b[0m\u001b[0mcolumns\u001b[0m\u001b[0;34m\u001b[0m\u001b[0m\n",
      "\u001b[0;31mAttributeError\u001b[0m: 'KNeighborsRegressor' object has no attribute 'cluster_centers_'"
     ]
    }
   ],
   "source": [
    "centroids = pd.DataFrame(clf.cluster_centers_)\n",
    "centroids.columns = dfa.columns"
   ]
  },
  {
   "cell_type": "code",
   "execution_count": 348,
   "metadata": {
    "collapsed": false
   },
   "outputs": [
    {
     "data": {
      "text/html": [
       "<div>\n",
       "<table border=\"1\" class=\"dataframe\">\n",
       "  <thead>\n",
       "    <tr style=\"text-align: right;\">\n",
       "      <th></th>\n",
       "      <th>total_occupants</th>\n",
       "      <th>area</th>\n",
       "    </tr>\n",
       "  </thead>\n",
       "  <tbody>\n",
       "    <tr>\n",
       "      <th>0</th>\n",
       "      <td>0.323077</td>\n",
       "      <td>0.277862</td>\n",
       "    </tr>\n",
       "    <tr>\n",
       "      <th>1</th>\n",
       "      <td>0.825000</td>\n",
       "      <td>0.496161</td>\n",
       "    </tr>\n",
       "    <tr>\n",
       "      <th>3</th>\n",
       "      <td>0.400000</td>\n",
       "      <td>0.670735</td>\n",
       "    </tr>\n",
       "    <tr>\n",
       "      <th>2</th>\n",
       "      <td>0.520000</td>\n",
       "      <td>0.080236</td>\n",
       "    </tr>\n",
       "  </tbody>\n",
       "</table>\n",
       "</div>"
      ],
      "text/plain": [
       "   total_occupants      area\n",
       "0         0.323077  0.277862\n",
       "1         0.825000  0.496161\n",
       "3         0.400000  0.670735\n",
       "2         0.520000  0.080236"
      ]
     },
     "execution_count": 348,
     "metadata": {},
     "output_type": "execute_result"
    }
   ],
   "source": [
    "centroids"
   ]
  },
  {
   "cell_type": "code",
   "execution_count": 349,
   "metadata": {
    "collapsed": false
   },
   "outputs": [
    {
     "data": {
      "text/html": [
       "<div>\n",
       "<table border=\"1\" class=\"dataframe\">\n",
       "  <thead>\n",
       "    <tr style=\"text-align: right;\">\n",
       "      <th></th>\n",
       "      <th>total_occupants</th>\n",
       "      <th>area</th>\n",
       "    </tr>\n",
       "  </thead>\n",
       "  <tbody>\n",
       "    <tr>\n",
       "      <th>0</th>\n",
       "      <td>0.323077</td>\n",
       "      <td>0.277862</td>\n",
       "    </tr>\n",
       "    <tr>\n",
       "      <th>1</th>\n",
       "      <td>0.825000</td>\n",
       "      <td>0.496161</td>\n",
       "    </tr>\n",
       "    <tr>\n",
       "      <th>3</th>\n",
       "      <td>0.400000</td>\n",
       "      <td>0.670735</td>\n",
       "    </tr>\n",
       "    <tr>\n",
       "      <th>2</th>\n",
       "      <td>0.520000</td>\n",
       "      <td>0.080236</td>\n",
       "    </tr>\n",
       "  </tbody>\n",
       "</table>\n",
       "</div>"
      ],
      "text/plain": [
       "   total_occupants      area\n",
       "0         0.323077  0.277862\n",
       "1         0.825000  0.496161\n",
       "3         0.400000  0.670735\n",
       "2         0.520000  0.080236"
      ]
     },
     "execution_count": 349,
     "metadata": {},
     "output_type": "execute_result"
    }
   ],
   "source": [
    "centroids = centroids.ix[count_to_use.index]\n",
    "#centroids.index = range(len(count_to_use))\n",
    "centroids"
   ]
  },
  {
   "cell_type": "code",
   "execution_count": 350,
   "metadata": {
    "collapsed": false
   },
   "outputs": [
    {
     "name": "stdout",
     "output_type": "stream",
     "text": [
      "hvac\n",
      "light\n",
      "wm\n",
      "fridge\n",
      "dw\n",
      "dr\n"
     ]
    }
   ],
   "source": [
    "score = {}\n",
    "for appliance in all_homes.keys():\n",
    "    np.random.seed(42)\n",
    "    print appliance\n",
    "    score[appliance]={}\n",
    "    dfa = df.ix[all_homes[appliance]][best_features[appliance]]\n",
    "    clf = KMeans(n_clusters=k)\n",
    "    clf.fit(dfa)\n",
    "    labels = clf.labels_\n",
    "    count = pd.value_counts(labels)\n",
    "    count_to_use = count[count>3]\n",
    "    centroids = pd.DataFrame(clf.cluster_centers_)\n",
    "    centroids.columns = dfa.columns\n",
    "    centroids = centroids.ix[count_to_use.index]\n",
    "\n",
    "    for home in dfa.index:\n",
    "        di = np.sqrt(np.square(centroids-dfa.ix[home]).sum(axis=1))\n",
    "        cluster_closest = di.argmin()\n",
    "        distance = di.ix[cluster_closest]\n",
    "        #score[appliance][home] = (1.0/(distance+0.1))\n",
    "        score[appliance][home] = (1.0/(distance+0.1))*(len(all_homes[appliance])/(count_to_use.ix[cluster_closest])*0.5)\n",
    "    score[appliance] = pd.Series(score[appliance])\n",
    "    score[appliance].sort()\n",
    "    score[appliance]=scale_min_max(score[appliance],0,1)"
   ]
  },
  {
   "cell_type": "code",
   "execution_count": 351,
   "metadata": {
    "collapsed": false
   },
   "outputs": [],
   "source": [
    "import seaborn as sns"
   ]
  },
  {
   "cell_type": "code",
   "execution_count": 352,
   "metadata": {
    "collapsed": true
   },
   "outputs": [],
   "source": [
    "%matplotlib inline"
   ]
  },
  {
   "cell_type": "code",
   "execution_count": 539,
   "metadata": {
    "collapsed": false
   },
   "outputs": [
    {
     "data": {
      "text/plain": [
       "<matplotlib.axes._subplots.AxesSubplot at 0x151dc35d0>"
      ]
     },
     "execution_count": 539,
     "metadata": {},
     "output_type": "execute_result"
    },
    {
     "data": {
      "image/png": "[encoded data removed]",
      "text/plain": [
       "<matplotlib.figure.Figure at 0x151dc3710>"
      ]
     },
     "metadata": {},
     "output_type": "display_data"
    }
   ],
   "source": [
    "sns.heatmap(pd.DataFrame(score).fillna(0).T)"
   ]
  },
  {
   "cell_type": "code",
   "execution_count": 354,
   "metadata": {
    "collapsed": false
   },
   "outputs": [],
   "source": [
    "score_df = pd.DataFrame(score).fillna(0)"
   ]
  },
  {
   "cell_type": "code",
   "execution_count": 355,
   "metadata": {
    "collapsed": false
   },
   "outputs": [],
   "source": [
    "def scale_min_max(ser, minimum=-1, maximum=1):\n",
    "    ser_min = ser.min()\n",
    "    ser_max = ser.max()\n",
    "    return minimum + ((maximum-minimum)*(ser-ser_min))/(ser_max-ser_min)\n"
   ]
  },
  {
   "cell_type": "code",
   "execution_count": 358,
   "metadata": {
    "collapsed": false
   },
   "outputs": [],
   "source": [
    "a=score_df[appliance].copy()\n",
    "a.sort()"
   ]
  },
  {
   "cell_type": "code",
   "execution_count": 359,
   "metadata": {
    "collapsed": true
   },
   "outputs": [],
   "source": [
    "N_HOMES=7"
   ]
  },
  {
   "cell_type": "code",
   "execution_count": 360,
   "metadata": {
    "collapsed": false
   },
   "outputs": [],
   "source": [
    "train_homes = a.tail(N_HOMES).index.values"
   ]
  },
  {
   "cell_type": "code",
   "execution_count": 361,
   "metadata": {
    "collapsed": false
   },
   "outputs": [
    {
     "data": {
      "text/plain": [
       "array([9922, 7866, 9934, 3967, 4767, 7016, 9052])"
      ]
     },
     "execution_count": 361,
     "metadata": {},
     "output_type": "execute_result"
    }
   ],
   "source": [
    "train_homes"
   ]
  },
  {
   "cell_type": "code",
   "execution_count": 362,
   "metadata": {
    "collapsed": true
   },
   "outputs": [],
   "source": [
    "test_homes = np.array([x for x in df.ix[all_homes[\"hvac\"]].index if x not in train_homes])"
   ]
  },
  {
   "cell_type": "code",
   "execution_count": 511,
   "metadata": {
    "collapsed": true
   },
   "outputs": [],
   "source": [
    "from all_functions import *\n",
    "from features import *"
   ]
  },
  {
   "cell_type": "code",
   "execution_count": 512,
   "metadata": {
    "collapsed": false
   },
   "outputs": [],
   "source": [
    "def predict_train_homes(train_homes, test_homes, appliance, feature):\n",
    "    from sklearn.cross_validation import LeaveOneOut\n",
    "    from sklearn.ensemble import ExtraTreesRegressor\n",
    "\n",
    "   \n",
    "\n",
    "    K_min, K_max = 1,6\n",
    "    F_min, F_max=1,8\n",
    "\n",
    "    out = {}\n",
    "    appliance_df = df.ix[all_homes[appliance]]\n",
    "    train_homes_df = appliance_df.ix[train_homes]\n",
    "    test_homes_df = appliance_df.ix[test_homes]\n",
    "    if appliance==\"hvac\":\n",
    "        start, stop=5, 11\n",
    "    else:\n",
    "        start, stop=1, 13\n",
    "    l = LeaveOneOut(len(train_homes))\n",
    "    for cv_train, cv_test in l:\n",
    "        cv_train_home =appliance_df.ix[train_homes[cv_train]]\n",
    "        cv_test_home = appliance_df.ix[train_homes[cv_test]]\n",
    "        test_home_name = cv_test_home.index.values[0]\n",
    "        Y = cv_train_home[['%s_%d' %(appliance, i) for i in range(start, stop)]].sum(axis=1).values\n",
    "        forest = ExtraTreesRegressor(n_estimators=250,\n",
    "                                          random_state=0)\n",
    "        forest.fit(cv_train_home[feature_map[feature]], Y)\n",
    "        importances = forest.feature_importances_\n",
    "        indices = np.argsort(importances)[::-1]\n",
    "\n",
    "        # Now varying K and top-N features\n",
    "        out[test_home_name] ={}\n",
    "        for K in range(K_min, K_max):\n",
    "            out[test_home_name][K]={}\n",
    "            for top_n in range(F_min,F_max):\n",
    "                out[test_home_name][K][top_n]=[]\n",
    "                top_n_features = cv_train_home[feature_map[feature]].columns[indices][:top_n]\n",
    "\n",
    "                # Now fitting KNN on this\n",
    "                for month in range(start, stop):\n",
    "                    clf = KNeighborsRegressor(n_neighbors=K)\n",
    "                    clf.fit(cv_train_home[top_n_features], cv_train_home['%s_%d' %(appliance, month)])\n",
    "                    out[test_home_name][K][top_n].append(clf.predict(cv_test_home[top_n_features]))\n",
    "\n",
    "    accur = {}\n",
    "\n",
    "    for K in range(K_min, K_max):\n",
    "        accur[K] = {}\n",
    "        for top_n in range(F_min, F_max):\n",
    "            temp = {}\n",
    "            for h in out.iterkeys():\n",
    "                pred = pd.DataFrame(out[h][K][top_n]).T\n",
    "                #all_but_h = [x for x in out.keys() if x!=h]\n",
    "                pred.index = [h]\n",
    "                pred.columns = [['%s_%d' %(appliance, i) for i in range(start, stop)]]\n",
    "                gt = appliance_df.ix[h][['%s_%d' %(appliance, i) for i in range(start, stop)]]\n",
    "                error = (pred-gt).abs().div(gt).mul(100)\n",
    "                mean_error = error.mean().mean()\n",
    "                a = 100-mean_error\n",
    "                if a<0:\n",
    "                    a=0\n",
    "                temp[h]=a\n",
    "            ac = pd.Series(temp).mean()\n",
    "\n",
    "            accur[K][top_n] = ac\n",
    "\n",
    "    accur_df = pd.DataFrame(accur)\n",
    "    accur_max = accur_df.max().max()\n",
    "    max_ac_df = accur_df[accur_df==accur_max]\n",
    "    F_best = cv_train_home[feature_map[feature]].columns[indices][:max_ac_df.mean(axis=1).dropna().index.values[0]].tolist()\n",
    "    K_best = max_ac_df.mean().dropna().index.values[0]\n",
    "\n",
    "    out_overall={}\n",
    "    pred_test = {}\n",
    "    gt_test = {}\n",
    "    for month in range(start, stop):\n",
    "        clf = KNeighborsRegressor(n_neighbors=K_best)\n",
    "        clf.fit(train_homes_df[F_best], train_homes_df['%s_%d' %(appliance, month)])\n",
    "        pred_test[month] = clf.predict(test_homes_df[F_best])\n",
    "        gt_test[month] = test_homes_df['%s_%d' %(appliance, month)]\n",
    "\n",
    "\n",
    "    #json.dump({'f':F_best, 'k':K_best,'accuracy':accur_max},open(\"../sensitivity-new/%s_%s_%d.json\" %(appliance,feature, home),\"w\") )\n",
    "\n",
    "    pred_df = pd.DataFrame(pred_test)\n",
    "    pred_df.index = test_homes_df.index\n",
    "    gt_df = pd.DataFrame(gt_test)\n",
    "    error = (gt_df-pred_df).abs().div(gt_df).mul(100)\n",
    "    accuracy_test = 100-error\n",
    "    accuracy_test[accuracy_test<0]=0\n",
    "    out_overall=accuracy_test.mean().mean()\n",
    "    return out_overall, accuracy_test"
   ]
  },
  {
   "cell_type": "code",
   "execution_count": 341,
   "metadata": {
    "collapsed": false
   },
   "outputs": [
    {
     "data": {
      "text/plain": [
       "['aggregate_10', 'aggregate_9']"
      ]
     },
     "execution_count": 341,
     "metadata": {},
     "output_type": "execute_result"
    }
   ],
   "source": []
  },
  {
   "cell_type": "code",
   "execution_count": 342,
   "metadata": {
    "collapsed": false
   },
   "outputs": [
    {
     "data": {
      "text/plain": [
       "1"
      ]
     },
     "execution_count": 342,
     "metadata": {},
     "output_type": "execute_result"
    }
   ],
   "source": [
    "K_best"
   ]
  },
  {
   "cell_type": "code",
   "execution_count": 343,
   "metadata": {
    "collapsed": false
   },
   "outputs": [
    {
     "data": {
      "text/plain": [
       "66.553245571940224"
      ]
     },
     "execution_count": 343,
     "metadata": {},
     "output_type": "execute_result"
    }
   ],
   "source": [
    "out_overall"
   ]
  },
  {
   "cell_type": "code",
   "execution_count": 124,
   "metadata": {
    "collapsed": false
   },
   "outputs": [
    {
     "data": {
      "text/html": [
       "<div>\n",
       "<table border=\"1\" class=\"dataframe\">\n",
       "  <thead>\n",
       "    <tr style=\"text-align: right;\">\n",
       "      <th></th>\n",
       "      <th>hvac</th>\n",
       "    </tr>\n",
       "  </thead>\n",
       "  <tbody>\n",
       "    <tr>\n",
       "      <th>5357</th>\n",
       "      <td>0.000000</td>\n",
       "    </tr>\n",
       "    <tr>\n",
       "      <th>2242</th>\n",
       "      <td>0.029696</td>\n",
       "    </tr>\n",
       "    <tr>\n",
       "      <th>9922</th>\n",
       "      <td>0.085511</td>\n",
       "    </tr>\n",
       "    <tr>\n",
       "      <th>370</th>\n",
       "      <td>0.139782</td>\n",
       "    </tr>\n",
       "    <tr>\n",
       "      <th>3367</th>\n",
       "      <td>0.154597</td>\n",
       "    </tr>\n",
       "    <tr>\n",
       "      <th>1283</th>\n",
       "      <td>0.288392</td>\n",
       "    </tr>\n",
       "    <tr>\n",
       "      <th>7769</th>\n",
       "      <td>0.315062</td>\n",
       "    </tr>\n",
       "    <tr>\n",
       "      <th>5785</th>\n",
       "      <td>0.369766</td>\n",
       "    </tr>\n",
       "    <tr>\n",
       "      <th>2129</th>\n",
       "      <td>0.386041</td>\n",
       "    </tr>\n",
       "    <tr>\n",
       "      <th>2814</th>\n",
       "      <td>0.388126</td>\n",
       "    </tr>\n",
       "    <tr>\n",
       "      <th>26</th>\n",
       "      <td>0.412808</td>\n",
       "    </tr>\n",
       "    <tr>\n",
       "      <th>6836</th>\n",
       "      <td>0.412818</td>\n",
       "    </tr>\n",
       "    <tr>\n",
       "      <th>545</th>\n",
       "      <td>0.440531</td>\n",
       "    </tr>\n",
       "    <tr>\n",
       "      <th>1642</th>\n",
       "      <td>0.481507</td>\n",
       "    </tr>\n",
       "    <tr>\n",
       "      <th>4767</th>\n",
       "      <td>0.539267</td>\n",
       "    </tr>\n",
       "    <tr>\n",
       "      <th>3723</th>\n",
       "      <td>0.567631</td>\n",
       "    </tr>\n",
       "    <tr>\n",
       "      <th>624</th>\n",
       "      <td>0.568821</td>\n",
       "    </tr>\n",
       "    <tr>\n",
       "      <th>1953</th>\n",
       "      <td>0.571666</td>\n",
       "    </tr>\n",
       "    <tr>\n",
       "      <th>3967</th>\n",
       "      <td>0.597736</td>\n",
       "    </tr>\n",
       "    <tr>\n",
       "      <th>6910</th>\n",
       "      <td>0.622066</td>\n",
       "    </tr>\n",
       "    <tr>\n",
       "      <th>9933</th>\n",
       "      <td>0.627856</td>\n",
       "    </tr>\n",
       "    <tr>\n",
       "      <th>9934</th>\n",
       "      <td>0.646725</td>\n",
       "    </tr>\n",
       "    <tr>\n",
       "      <th>5746</th>\n",
       "      <td>0.654009</td>\n",
       "    </tr>\n",
       "    <tr>\n",
       "      <th>9654</th>\n",
       "      <td>0.659668</td>\n",
       "    </tr>\n",
       "    <tr>\n",
       "      <th>6072</th>\n",
       "      <td>0.687235</td>\n",
       "    </tr>\n",
       "    <tr>\n",
       "      <th>3456</th>\n",
       "      <td>0.762754</td>\n",
       "    </tr>\n",
       "    <tr>\n",
       "      <th>410</th>\n",
       "      <td>0.791364</td>\n",
       "    </tr>\n",
       "    <tr>\n",
       "      <th>6636</th>\n",
       "      <td>0.794182</td>\n",
       "    </tr>\n",
       "    <tr>\n",
       "      <th>7866</th>\n",
       "      <td>0.795640</td>\n",
       "    </tr>\n",
       "    <tr>\n",
       "      <th>2156</th>\n",
       "      <td>0.824104</td>\n",
       "    </tr>\n",
       "    <tr>\n",
       "      <th>5814</th>\n",
       "      <td>0.895648</td>\n",
       "    </tr>\n",
       "    <tr>\n",
       "      <th>5371</th>\n",
       "      <td>0.923419</td>\n",
       "    </tr>\n",
       "    <tr>\n",
       "      <th>7731</th>\n",
       "      <td>1.000000</td>\n",
       "    </tr>\n",
       "  </tbody>\n",
       "</table>\n",
       "</div>"
      ],
      "text/plain": [
       "          hvac\n",
       "5357  0.000000\n",
       "2242  0.029696\n",
       "9922  0.085511\n",
       "370   0.139782\n",
       "3367  0.154597\n",
       "1283  0.288392\n",
       "7769  0.315062\n",
       "5785  0.369766\n",
       "2129  0.386041\n",
       "2814  0.388126\n",
       "26    0.412808\n",
       "6836  0.412818\n",
       "545   0.440531\n",
       "1642  0.481507\n",
       "4767  0.539267\n",
       "3723  0.567631\n",
       "624   0.568821\n",
       "1953  0.571666\n",
       "3967  0.597736\n",
       "6910  0.622066\n",
       "9933  0.627856\n",
       "9934  0.646725\n",
       "5746  0.654009\n",
       "9654  0.659668\n",
       "6072  0.687235\n",
       "3456  0.762754\n",
       "410   0.791364\n",
       "6636  0.794182\n",
       "7866  0.795640\n",
       "2156  0.824104\n",
       "5814  0.895648\n",
       "5371  0.923419\n",
       "7731  1.000000"
      ]
     },
     "execution_count": 124,
     "metadata": {},
     "output_type": "execute_result"
    }
   ],
   "source": [
    "import sys\n",
    "CLUSTER=True\n",
    "if CLUSTER:\n",
    "    sys.path.insert(0, '/if6/nb2cz/anaconda/lib/python2.7/site-packages')\n",
    "\n",
    "\n",
    "import numpy as np\n",
    "import pandas as pd\n",
    "\n",
    "\n",
    "\n",
    "from all_functions import *\n",
    "from features import *\n",
    "\n",
    "import sys\n",
    "\n",
    "from sklearn.neighbors import KNeighborsRegressor\n",
    "from sklearn.cross_validation import ShuffleSplit\n",
    "\n",
    "NUM_NEIGHBOUR_MAX = 6\n",
    "F_MAX = 6\n",
    "\n",
    "K_min, K_max = 1,6\n",
    "F_min, F_max=1,8\n",
    "\n",
    "import json\n",
    "\n",
    "from sklearn.cross_validation import LeaveOneOut\n",
    "from sklearn.ensemble import ExtraTreesRegressor\n",
    "\n",
    "\n",
    "\n",
    "def _find_accuracy_num_homes(appliance, train_homes, feature=\"Monthly+Static\"):\n",
    "    out = {}\n",
    "    out_overall={}\n",
    "    appliance_df = df.ix[all_homes[appliance]]\n",
    "    if appliance==\"hvac\":\n",
    "        start, stop=5, 11\n",
    "    else:\n",
    "        start, stop=1, 13\n",
    "    test_homes = appliance_df.index\n",
    "\n",
    "\n",
    "\n",
    "        for train, test in rs:\n",
    "            train_homes = appliance_df.index.values[train]\n",
    "            test_homes = appliance_df.index.values[test]\n",
    "            train_homes_df = appliance_df.ix[train_homes]\n",
    "            test_homes_df = appliance_df.ix[test_homes]\n",
    "\n",
    "            # Now, we need to do cross validation on train homes\n",
    "            l = LeaveOneOut(len(train_homes))\n",
    "            for cv_train, cv_test in l:\n",
    "                cv_train_home =appliance_df.ix[train_homes[cv_train]]\n",
    "                cv_test_home = appliance_df.ix[train_homes[cv_test]]\n",
    "                test_home_name = cv_test_home.index.values[0]\n",
    "                Y = cv_train_home[['%s_%d' %(appliance, i) for i in range(start, stop)]].sum(axis=1).values\n",
    "                forest = ExtraTreesRegressor(n_estimators=250,\n",
    "                                      random_state=0)\n",
    "                forest.fit(cv_train_home[feature_map[feature]], Y)\n",
    "                importances = forest.feature_importances_\n",
    "                indices = np.argsort(importances)[::-1]\n",
    "\n",
    "                # Now varying K and top-N features\n",
    "                out[test_home_name] ={}\n",
    "                for K in range(K_min, K_max):\n",
    "                    out[test_home_name][K]={}\n",
    "                    for top_n in range(F_min,F_max):\n",
    "                        out[test_home_name][K][top_n]=[]\n",
    "                        top_n_features = cv_train_home[feature_map[feature]].columns[indices][:top_n]\n",
    "\n",
    "                        # Now fitting KNN on this\n",
    "                        for month in range(start, stop):\n",
    "                            clf = KNeighborsRegressor(n_neighbors=K)\n",
    "                            clf.fit(cv_train_home[top_n_features], cv_train_home['%s_%d' %(appliance, month)])\n",
    "                            out[test_home_name][K][top_n].append(clf.predict(cv_test_home[top_n_features]))\n",
    "\n",
    "            accur = {}\n",
    "\n",
    "            for K in range(K_min, K_max):\n",
    "                accur[K] = {}\n",
    "                for top_n in range(F_min, F_max):\n",
    "                    temp = {}\n",
    "                    for h in out.iterkeys():\n",
    "                        pred = pd.DataFrame(out[h][K][top_n]).T\n",
    "                        #all_but_h = [x for x in out.keys() if x!=h]\n",
    "                        pred.index = [h]\n",
    "                        pred.columns = [['%s_%d' %(appliance, i) for i in range(start, stop)]]\n",
    "                        gt = appliance_df.ix[h][['%s_%d' %(appliance, i) for i in range(start, stop)]]\n",
    "                        error = (pred-gt).abs().div(gt).mul(100)\n",
    "                        mean_error = error.mean().mean()\n",
    "                        a = 100-mean_error\n",
    "                        if a<0:\n",
    "                            a=0\n",
    "                        temp[h]=a\n",
    "                    ac = pd.Series(temp).mean()\n",
    "\n",
    "                    accur[K][top_n] = ac\n",
    "\n",
    "            accur_df = pd.DataFrame(accur)\n",
    "            accur_max = accur_df.max().max()\n",
    "            max_ac_df = accur_df[accur_df==accur_max]\n",
    "            F_best = cv_train_home[feature_map[feature]].columns[indices][:max_ac_df.mean(axis=1).dropna().index.values[0]].tolist()\n",
    "            K_best = max_ac_df.mean().dropna().index.values[0]\n",
    "\n",
    "        # Now predicting for test home\n",
    "\n",
    "\n",
    "        pred_test = {}\n",
    "        gt_test = {}\n",
    "        for month in range(start, stop):\n",
    "            clf = KNeighborsRegressor(n_neighbors=K_best)\n",
    "            clf.fit(train_homes_df[F_best], train_homes_df['%s_%d' %(appliance, month)])\n",
    "            pred_test[month] = clf.predict(test_homes_df[F_best])\n",
    "            gt_test[month] = test_homes_df['%s_%d' %(appliance, month)]\n",
    "\n",
    "\n",
    "        #json.dump({'f':F_best, 'k':K_best,'accuracy':accur_max},open(\"../sensitivity-new/%s_%s_%d.json\" %(appliance,feature, home),\"w\") )\n",
    "\n",
    "        pred_df = pd.DataFrame(pred_test)\n",
    "        pred_df.index = test_homes_df.index\n",
    "        gt_df = pd.DataFrame(gt_test)\n",
    "        error = (gt_df-pred_df).abs().div(gt_df).mul(100)\n",
    "        accuracy_test = 100-error\n",
    "        accuracy_test[accuracy_test<0]=0\n",
    "        out_overall[random_seed]=accuracy_test.mean().mean()\n",
    "\n",
    "\n",
    "    return pd.Series(out_overall)\n",
    "\n",
    "\n",
    "\n",
    "import sys\n",
    "appliance, num_homes, start_seed, end_seed, feature = sys.argv[1], sys.argv[2],sys.argv[3],sys.argv[4],sys.argv[5]\n",
    "num_homes = int(num_homes)\n",
    "start_seed=int(start_seed)\n",
    "end_seed=int(end_seed)\n",
    "out_df = _find_accuracy_num_homes(appliance, num_homes, start_seed, end_seed, feature)\n",
    "_save_csv(out_df, \"../sensitivity-data-new\", appliance, num_homes, start_seed, end_seed, feature)\n",
    "Status API Training Shop Blog About Pricing\n",
    "© 2016 GitHub, Inc. Terms Privacy Security Contact Help"
   ]
  },
  {
   "cell_type": "code",
   "execution_count": 118,
   "metadata": {
    "collapsed": false
   },
   "outputs": [
    {
     "data": {
      "text/html": [
       "<div>\n",
       "<table border=\"1\" class=\"dataframe\">\n",
       "  <thead>\n",
       "    <tr style=\"text-align: right;\">\n",
       "      <th></th>\n",
       "      <th>hvac</th>\n",
       "    </tr>\n",
       "  </thead>\n",
       "  <tbody>\n",
       "    <tr>\n",
       "      <th>5357</th>\n",
       "      <td>0.000000</td>\n",
       "    </tr>\n",
       "    <tr>\n",
       "      <th>2242</th>\n",
       "      <td>0.041038</td>\n",
       "    </tr>\n",
       "    <tr>\n",
       "      <th>9922</th>\n",
       "      <td>0.118171</td>\n",
       "    </tr>\n",
       "    <tr>\n",
       "      <th>370</th>\n",
       "      <td>0.193172</td>\n",
       "    </tr>\n",
       "    <tr>\n",
       "      <th>3367</th>\n",
       "      <td>0.213644</td>\n",
       "    </tr>\n",
       "    <tr>\n",
       "      <th>7769</th>\n",
       "      <td>0.290089</td>\n",
       "    </tr>\n",
       "    <tr>\n",
       "      <th>6836</th>\n",
       "      <td>0.391409</td>\n",
       "    </tr>\n",
       "    <tr>\n",
       "      <th>1283</th>\n",
       "      <td>0.398543</td>\n",
       "    </tr>\n",
       "    <tr>\n",
       "      <th>5785</th>\n",
       "      <td>0.510998</td>\n",
       "    </tr>\n",
       "    <tr>\n",
       "      <th>2129</th>\n",
       "      <td>0.533489</td>\n",
       "    </tr>\n",
       "    <tr>\n",
       "      <th>2814</th>\n",
       "      <td>0.536370</td>\n",
       "    </tr>\n",
       "    <tr>\n",
       "      <th>3723</th>\n",
       "      <td>0.551866</td>\n",
       "    </tr>\n",
       "    <tr>\n",
       "      <th>624</th>\n",
       "      <td>0.553100</td>\n",
       "    </tr>\n",
       "    <tr>\n",
       "      <th>1953</th>\n",
       "      <td>0.556049</td>\n",
       "    </tr>\n",
       "    <tr>\n",
       "      <th>26</th>\n",
       "      <td>0.570478</td>\n",
       "    </tr>\n",
       "    <tr>\n",
       "      <th>6910</th>\n",
       "      <td>0.608286</td>\n",
       "    </tr>\n",
       "    <tr>\n",
       "      <th>545</th>\n",
       "      <td>0.608791</td>\n",
       "    </tr>\n",
       "    <tr>\n",
       "      <th>9933</th>\n",
       "      <td>0.614288</td>\n",
       "    </tr>\n",
       "    <tr>\n",
       "      <th>9654</th>\n",
       "      <td>0.647259</td>\n",
       "    </tr>\n",
       "    <tr>\n",
       "      <th>1642</th>\n",
       "      <td>0.665417</td>\n",
       "    </tr>\n",
       "    <tr>\n",
       "      <th>6072</th>\n",
       "      <td>0.675831</td>\n",
       "    </tr>\n",
       "    <tr>\n",
       "      <th>4767</th>\n",
       "      <td>0.745239</td>\n",
       "    </tr>\n",
       "    <tr>\n",
       "      <th>3456</th>\n",
       "      <td>0.754104</td>\n",
       "    </tr>\n",
       "    <tr>\n",
       "      <th>410</th>\n",
       "      <td>0.783757</td>\n",
       "    </tr>\n",
       "    <tr>\n",
       "      <th>6636</th>\n",
       "      <td>0.786677</td>\n",
       "    </tr>\n",
       "    <tr>\n",
       "      <th>7866</th>\n",
       "      <td>0.788188</td>\n",
       "    </tr>\n",
       "    <tr>\n",
       "      <th>2156</th>\n",
       "      <td>0.817691</td>\n",
       "    </tr>\n",
       "    <tr>\n",
       "      <th>3967</th>\n",
       "      <td>0.826039</td>\n",
       "    </tr>\n",
       "    <tr>\n",
       "      <th>5814</th>\n",
       "      <td>0.891843</td>\n",
       "    </tr>\n",
       "    <tr>\n",
       "      <th>9934</th>\n",
       "      <td>0.893739</td>\n",
       "    </tr>\n",
       "    <tr>\n",
       "      <th>5746</th>\n",
       "      <td>0.903807</td>\n",
       "    </tr>\n",
       "    <tr>\n",
       "      <th>5371</th>\n",
       "      <td>0.920627</td>\n",
       "    </tr>\n",
       "    <tr>\n",
       "      <th>7731</th>\n",
       "      <td>1.000000</td>\n",
       "    </tr>\n",
       "  </tbody>\n",
       "</table>\n",
       "</div>"
      ],
      "text/plain": [
       "          hvac\n",
       "5357  0.000000\n",
       "2242  0.041038\n",
       "9922  0.118171\n",
       "370   0.193172\n",
       "3367  0.213644\n",
       "7769  0.290089\n",
       "6836  0.391409\n",
       "1283  0.398543\n",
       "5785  0.510998\n",
       "2129  0.533489\n",
       "2814  0.536370\n",
       "3723  0.551866\n",
       "624   0.553100\n",
       "1953  0.556049\n",
       "26    0.570478\n",
       "6910  0.608286\n",
       "545   0.608791\n",
       "9933  0.614288\n",
       "9654  0.647259\n",
       "1642  0.665417\n",
       "6072  0.675831\n",
       "4767  0.745239\n",
       "3456  0.754104\n",
       "410   0.783757\n",
       "6636  0.786677\n",
       "7866  0.788188\n",
       "2156  0.817691\n",
       "3967  0.826039\n",
       "5814  0.891843\n",
       "9934  0.893739\n",
       "5746  0.903807\n",
       "5371  0.920627\n",
       "7731  1.000000"
      ]
     },
     "execution_count": 118,
     "metadata": {},
     "output_type": "execute_result"
    }
   ],
   "source": [
    "scale_min_max(hvac_score, 0, 1)"
   ]
  },
  {
   "cell_type": "code",
   "execution_count": 375,
   "metadata": {
    "collapsed": true
   },
   "outputs": [],
   "source": [
    "import matplotlib.pyplot as plt"
   ]
  },
  {
   "cell_type": "code",
   "execution_count": 458,
   "metadata": {
    "collapsed": false
   },
   "outputs": [
    {
     "data": {
      "text/plain": [
       "94      0.610684\n",
       "370     1.769393\n",
       "410     0.691539\n",
       "545     1.445072\n",
       "624     0.778499\n",
       "1953    0.823177\n",
       "2156    0.772223\n",
       "2242    1.910001\n",
       "2814    0.970483\n",
       "3367    1.468789\n",
       "3456    0.584266\n",
       "3723    0.782353\n",
       "3967    1.628365\n",
       "4767    1.218933\n",
       "5357    1.138451\n",
       "5371    0.663031\n",
       "6072    1.083752\n",
       "6636    1.122133\n",
       "6910    1.380586\n",
       "7769    0.339821\n",
       "7866    0.570873\n",
       "dtype: float64"
      ]
     },
     "execution_count": 458,
     "metadata": {},
     "output_type": "execute_result"
    }
   ],
   "source": [
    "appliance_df.sum(axis=1)"
   ]
  },
  {
   "cell_type": "code",
   "execution_count": 452,
   "metadata": {
    "collapsed": false
   },
   "outputs": [
    {
     "data": {
      "image/png": "[encoded data removed]",
      "text/plain": [
       "<matplotlib.figure.Figure at 0x1491d7490>"
      ]
     },
     "metadata": {},
     "output_type": "display_data"
    }
   ],
   "source": [
    "from mst_clustering import MSTClustering\n",
    "appliance=\"fridge\"\n",
    "appliance_df = df.ix[all_homes[appliance]][best_features[appliance]]\n",
    "\n",
    "\n",
    "model = MSTClustering(cutoff_scale=0.3, approximate=False, min_cluster_size=4)\n",
    "\n",
    "X = appliance_df.values\n",
    "labels = model.fit_predict(X)\n",
    "plt.scatter(X[:, 0], X[:, 1], c=labels, cmap='rainbow');"
   ]
  },
  {
   "cell_type": "code",
   "execution_count": 453,
   "metadata": {
    "collapsed": false
   },
   "outputs": [
    {
     "data": {
      "text/plain": [
       "array([ 0,  0,  0,  0,  0,  0,  0, -1,  0,  0,  0,  0,  0,  0, -1,  0,  0,\n",
       "        0,  0,  0,  0])"
      ]
     },
     "execution_count": 453,
     "metadata": {},
     "output_type": "execute_result"
    }
   ],
   "source": [
    "labels"
   ]
  },
  {
   "cell_type": "code",
   "execution_count": 454,
   "metadata": {
    "collapsed": true
   },
   "outputs": [],
   "source": [
    "def plot_mst(model, cmap='rainbow'):\n",
    "    \"\"\"Utility code to visualize a minimum spanning tree\"\"\"\n",
    "    X = model.X_fit_\n",
    "    fig, ax = plt.subplots(1, 2, figsize=(16, 6), sharex=True, sharey=True)\n",
    "    for axi, full_graph, colors in zip(ax, [True, False], ['lightblue', model.labels_]):\n",
    "        segments = model.get_graph_segments(full_graph=full_graph)\n",
    "        axi.plot(segments[0], segments[1], '-k', zorder=1, lw=1)\n",
    "        axi.scatter(X[:, 0], X[:, 1], c=colors, cmap=cmap, zorder=2)\n",
    "        axi.axis('tight')\n",
    "    \n",
    "    ax[0].set_title('Full Minimum Spanning Tree', size=16)\n",
    "    ax[1].set_title('Trimmed Minimum Spanning Tree', size=16);"
   ]
  },
  {
   "cell_type": "code",
   "execution_count": 455,
   "metadata": {
    "collapsed": false
   },
   "outputs": [
    {
     "data": {
      "image/png": "[encoded data removed]",
      "text/plain": [
       "<matplotlib.figure.Figure at 0x156e3e410>"
      ]
     },
     "metadata": {},
     "output_type": "display_data"
    }
   ],
   "source": [
    "plot_mst(model)\n"
   ]
  },
  {
   "cell_type": "code",
   "execution_count": 415,
   "metadata": {
    "collapsed": false
   },
   "outputs": [
    {
     "data": {
      "text/plain": [
       "DBSCAN(algorithm='auto', eps=0.1, leaf_size=30, metric='euclidean',\n",
       "    min_samples=5, p=None, random_state=None)"
      ]
     },
     "execution_count": 415,
     "metadata": {},
     "output_type": "execute_result"
    }
   ],
   "source": [
    "appliance=\"hvac\"\n",
    "appliance_df = df.ix[all_homes[appliance]][best_features[appliance]]\n",
    "clf.fit(appliance_df)"
   ]
  },
  {
   "cell_type": "code",
   "execution_count": 416,
   "metadata": {
    "collapsed": false
   },
   "outputs": [
    {
     "data": {
      "text/plain": [
       "array([ 0, -1,  1,  0,  1, -1,  0,  1,  0,  0, -1,  0, -1,  1,  0,  0,  0,\n",
       "       -1,  0,  0,  0,  1,  0,  1,  1,  0,  0, -1,  1,  1, -1,  0,  0])"
      ]
     },
     "execution_count": 416,
     "metadata": {},
     "output_type": "execute_result"
    }
   ],
   "source": [
    "clf.labels_"
   ]
  },
  {
   "cell_type": "code",
   "execution_count": 460,
   "metadata": {
    "collapsed": false
   },
   "outputs": [
    {
     "data": {
      "text/html": [
       "<div>\n",
       "<table border=\"1\" class=\"dataframe\">\n",
       "  <thead>\n",
       "    <tr style=\"text-align: right;\">\n",
       "      <th></th>\n",
       "      <th>area</th>\n",
       "      <th>kurtosis</th>\n",
       "      <th>difference_min_max</th>\n",
       "    </tr>\n",
       "  </thead>\n",
       "  <tbody>\n",
       "    <tr>\n",
       "      <th>94</th>\n",
       "      <td>0.296457</td>\n",
       "      <td>0.199047</td>\n",
       "      <td>0.115180</td>\n",
       "    </tr>\n",
       "    <tr>\n",
       "      <th>370</th>\n",
       "      <td>0.677953</td>\n",
       "      <td>0.422948</td>\n",
       "      <td>0.668492</td>\n",
       "    </tr>\n",
       "    <tr>\n",
       "      <th>410</th>\n",
       "      <td>0.133465</td>\n",
       "      <td>0.290111</td>\n",
       "      <td>0.267963</td>\n",
       "    </tr>\n",
       "    <tr>\n",
       "      <th>545</th>\n",
       "      <td>0.584646</td>\n",
       "      <td>0.287737</td>\n",
       "      <td>0.572690</td>\n",
       "    </tr>\n",
       "    <tr>\n",
       "      <th>624</th>\n",
       "      <td>0.448819</td>\n",
       "      <td>0.129635</td>\n",
       "      <td>0.200045</td>\n",
       "    </tr>\n",
       "    <tr>\n",
       "      <th>1953</th>\n",
       "      <td>0.251969</td>\n",
       "      <td>0.249630</td>\n",
       "      <td>0.321578</td>\n",
       "    </tr>\n",
       "    <tr>\n",
       "      <th>2156</th>\n",
       "      <td>0.322835</td>\n",
       "      <td>0.194548</td>\n",
       "      <td>0.254840</td>\n",
       "    </tr>\n",
       "    <tr>\n",
       "      <th>2242</th>\n",
       "      <td>1.000000</td>\n",
       "      <td>0.193587</td>\n",
       "      <td>0.716414</td>\n",
       "    </tr>\n",
       "    <tr>\n",
       "      <th>2814</th>\n",
       "      <td>0.354331</td>\n",
       "      <td>0.160225</td>\n",
       "      <td>0.455928</td>\n",
       "    </tr>\n",
       "    <tr>\n",
       "      <th>3367</th>\n",
       "      <td>0.724409</td>\n",
       "      <td>0.182995</td>\n",
       "      <td>0.561384</td>\n",
       "    </tr>\n",
       "    <tr>\n",
       "      <th>3456</th>\n",
       "      <td>0.299213</td>\n",
       "      <td>0.090447</td>\n",
       "      <td>0.194607</td>\n",
       "    </tr>\n",
       "    <tr>\n",
       "      <th>3723</th>\n",
       "      <td>0.232677</td>\n",
       "      <td>0.188835</td>\n",
       "      <td>0.360841</td>\n",
       "    </tr>\n",
       "    <tr>\n",
       "      <th>3967</th>\n",
       "      <td>0.606299</td>\n",
       "      <td>0.462494</td>\n",
       "      <td>0.559572</td>\n",
       "    </tr>\n",
       "    <tr>\n",
       "      <th>4767</th>\n",
       "      <td>0.606299</td>\n",
       "      <td>0.154189</td>\n",
       "      <td>0.458444</td>\n",
       "    </tr>\n",
       "    <tr>\n",
       "      <th>5357</th>\n",
       "      <td>0.881890</td>\n",
       "      <td>0.000000</td>\n",
       "      <td>0.256561</td>\n",
       "    </tr>\n",
       "    <tr>\n",
       "      <th>5371</th>\n",
       "      <td>0.007874</td>\n",
       "      <td>0.262992</td>\n",
       "      <td>0.392165</td>\n",
       "    </tr>\n",
       "    <tr>\n",
       "      <th>6072</th>\n",
       "      <td>0.291339</td>\n",
       "      <td>0.423077</td>\n",
       "      <td>0.369336</td>\n",
       "    </tr>\n",
       "    <tr>\n",
       "      <th>6636</th>\n",
       "      <td>0.409449</td>\n",
       "      <td>0.342948</td>\n",
       "      <td>0.369736</td>\n",
       "    </tr>\n",
       "    <tr>\n",
       "      <th>6910</th>\n",
       "      <td>0.684252</td>\n",
       "      <td>0.323055</td>\n",
       "      <td>0.373279</td>\n",
       "    </tr>\n",
       "    <tr>\n",
       "      <th>7769</th>\n",
       "      <td>0.000000</td>\n",
       "      <td>0.201024</td>\n",
       "      <td>0.138797</td>\n",
       "    </tr>\n",
       "    <tr>\n",
       "      <th>7866</th>\n",
       "      <td>0.055118</td>\n",
       "      <td>0.214451</td>\n",
       "      <td>0.301303</td>\n",
       "    </tr>\n",
       "  </tbody>\n",
       "</table>\n",
       "</div>"
      ],
      "text/plain": [
       "          area  kurtosis  difference_min_max\n",
       "94    0.296457  0.199047            0.115180\n",
       "370   0.677953  0.422948            0.668492\n",
       "410   0.133465  0.290111            0.267963\n",
       "545   0.584646  0.287737            0.572690\n",
       "624   0.448819  0.129635            0.200045\n",
       "1953  0.251969  0.249630            0.321578\n",
       "2156  0.322835  0.194548            0.254840\n",
       "2242  1.000000  0.193587            0.716414\n",
       "2814  0.354331  0.160225            0.455928\n",
       "3367  0.724409  0.182995            0.561384\n",
       "3456  0.299213  0.090447            0.194607\n",
       "3723  0.232677  0.188835            0.360841\n",
       "3967  0.606299  0.462494            0.559572\n",
       "4767  0.606299  0.154189            0.458444\n",
       "5357  0.881890  0.000000            0.256561\n",
       "5371  0.007874  0.262992            0.392165\n",
       "6072  0.291339  0.423077            0.369336\n",
       "6636  0.409449  0.342948            0.369736\n",
       "6910  0.684252  0.323055            0.373279\n",
       "7769  0.000000  0.201024            0.138797\n",
       "7866  0.055118  0.214451            0.301303"
      ]
     },
     "execution_count": 460,
     "metadata": {},
     "output_type": "execute_result"
    }
   ],
   "source": [
    "appliance_df"
   ]
  },
  {
   "cell_type": "code",
   "execution_count": 459,
   "metadata": {
    "collapsed": false
   },
   "outputs": [
    {
     "data": {
      "image/png": "[encoded data removed]",
      "text/plain": [
       "<matplotlib.figure.Figure at 0x121548b90>"
      ]
     },
     "metadata": {},
     "output_type": "display_data"
    }
   ],
   "source": [
    "model = KMeans(n_clusters=7)\n",
    "\n",
    "X = appliance_df.values\n",
    "labels = model.fit_predict(X)\n",
    "plt.scatter(X[:, 0], X[:, 1], c=labels, cmap='rainbow');"
   ]
  },
  {
   "cell_type": "code",
   "execution_count": 461,
   "metadata": {
    "collapsed": false
   },
   "outputs": [
    {
     "name": "stdout",
     "output_type": "stream",
     "text": [
      "Collecting hdbscan\n",
      "  Downloading hdbscan-0.6.5.tar.gz (644kB)\n",
      "\u001b[K    100% |████████████████████████████████| 647kB 338kB/s \n",
      "\u001b[?25hRequirement already satisfied (use --upgrade to upgrade): scikit-learn>=0.16 in /Users/nipunbatra/anaconda/lib/python2.7/site-packages (from hdbscan)\n",
      "Requirement already satisfied (use --upgrade to upgrade): cython>=0.17 in /Users/nipunbatra/anaconda/lib/python2.7/site-packages (from hdbscan)\n",
      "Building wheels for collected packages: hdbscan\n",
      "  Running setup.py bdist_wheel for hdbscan ... \u001b[?25l-\b \b\\\b \b|\b \b/\b \b-\b \b\\\b \b|\b \b/\b \b-\b \b\\\b \b|\b \b/\b \b-\b \b\\\b \b|\b \b/\b \bdone\n",
      "\u001b[?25h  Stored in directory: /Users/nipunbatra/Library/Caches/pip/wheels/7f/29/17/ab89e44a68f303481f4c362e035b3b7bbe512b6086268a8f96\n",
      "Successfully built hdbscan\n",
      "Installing collected packages: hdbscan\n",
      "Successfully installed hdbscan-0.6.5\n"
     ]
    }
   ],
   "source": [
    "!pip install hdbscan"
   ]
  },
  {
   "cell_type": "code",
   "execution_count": 486,
   "metadata": {
    "collapsed": false
   },
   "outputs": [],
   "source": [
    "import hdbscan\n",
    "appliance=\"wm\"\n",
    "appliance_df = df.ix[all_homes[appliance]][best_features[appliance]]\n",
    "clusterer = hdbscan.HDBSCAN(min_cluster_size=3)\n",
    "cluster_labels = clusterer.fit_predict(appliance_df)"
   ]
  },
  {
   "cell_type": "code",
   "execution_count": 487,
   "metadata": {
    "collapsed": false
   },
   "outputs": [
    {
     "data": {
      "text/plain": [
       "array([ 0,  1, -1,  1,  1, -1,  1,  1,  1,  0,  1,  1, -1,  0,  1,  1])"
      ]
     },
     "execution_count": 487,
     "metadata": {},
     "output_type": "execute_result"
    }
   ],
   "source": [
    "cluster_labels"
   ]
  },
  {
   "cell_type": "code",
   "execution_count": 488,
   "metadata": {
    "collapsed": false
   },
   "outputs": [
    {
     "data": {
      "text/plain": [
       "<matplotlib.collections.PathCollection at 0x14939d1d0>"
      ]
     },
     "execution_count": 488,
     "metadata": {},
     "output_type": "execute_result"
    },
    {
     "data": {
      "image/png": "[encoded data removed]",
      "text/plain": [
       "<matplotlib.figure.Figure at 0x13daad250>"
      ]
     },
     "metadata": {},
     "output_type": "display_data"
    }
   ],
   "source": [
    "plt.scatter(appliance_df.values[:,0],appliance_df.values[:,1],c=cluster_labels, cmap='rainbow')"
   ]
  },
  {
   "cell_type": "code",
   "execution_count": 508,
   "metadata": {
    "collapsed": false
   },
   "outputs": [
    {
     "name": "stdout",
     "output_type": "stream",
     "text": [
      "hvac\n",
      "light\n",
      "wm\n",
      "fridge\n",
      "dw\n",
      "dr\n"
     ]
    }
   ],
   "source": [
    "score = {}\n",
    "for appliance in all_homes.keys():\n",
    "    np.random.seed(42)\n",
    "    print appliance\n",
    "    score[appliance]={}\n",
    "    dfa = df.ix[all_homes[appliance]][best_features[appliance]]\n",
    "    clf = hdbscan.HDBSCAN(min_cluster_size=3)\n",
    "    clf.fit(dfa)\n",
    "    labels = clf.labels_\n",
    "    labels_to_use = [x for x in set(labels) if x!=-1]\n",
    "    o = {}\n",
    "    for label in labels_to_use:\n",
    "        o[label]=dfa.ix[dfa.groupby(labels).groups[label]].median()\n",
    "    centroids = pd.DataFrame(o).T\n",
    "    \n",
    "\n",
    "    for home in dfa.index:\n",
    "        di = np.sqrt(np.square(centroids-dfa.ix[home]).sum(axis=1))\n",
    "        cluster_closest = di.argmin()\n",
    "        distance = di.ix[cluster_closest]\n",
    "        #score[appliance][home] = (1.0/(distance+0.1))\n",
    "        score[appliance][home] = (1.0/(distance+0.1))*(len(all_homes[appliance])/(count_to_use.ix[cluster_closest])*0.5)\n",
    "    score[appliance] = pd.Series(score[appliance])\n",
    "    score[appliance].sort()\n",
    "    score[appliance]=scale_min_max(score[appliance],0,1)"
   ]
  },
  {
   "cell_type": "code",
   "execution_count": 537,
   "metadata": {
    "collapsed": true
   },
   "outputs": [],
   "source": [
    "train_homes = np.array(a.tail(7).index.tolist())\n",
    "test_homes = np.array([x for x in a.index if x not in train_homes])"
   ]
  },
  {
   "cell_type": "code",
   "execution_count": 538,
   "metadata": {
    "collapsed": false
   },
   "outputs": [
    {
     "data": {
      "text/plain": [
       "(70.343980303881168,\n",
       "              5          6          7          8          9          10\n",
       " 5357  34.803265  62.565581  50.972474  61.029062  37.382972  25.913941\n",
       " 2242  41.579291  65.207518  58.187497  70.227396  55.758775  47.922650\n",
       " 9922   0.000000  48.230113  72.451163  88.006184  82.653405  48.946836\n",
       " 370   84.843412  99.147036  84.470109  79.741386  58.434718  41.360766\n",
       " 3367  80.574877  98.127752  78.772524  89.633685  62.926807  49.131935\n",
       " 3723  73.235587  36.930268  19.327641  63.376646  84.080979  54.320742\n",
       " 2156  53.114995  99.840370  99.230103  94.704093  97.703313  55.974822\n",
       " 2129  67.902705  97.548295  84.313762  98.576835  69.044228  46.412418\n",
       " 2814  83.322483  96.270364  81.858559  85.282335  59.781835  61.159998\n",
       " 5371  67.261593  83.583060  83.547071  86.595737  85.758310  96.256908\n",
       " 545   61.574490  84.653022  79.048420  81.338964  64.638899  40.851819\n",
       " 7731  92.983019  66.016632  89.537655  86.881664  77.402718  69.718756\n",
       " 1283  62.947517  40.153842  96.314786  76.258643  51.616905  32.627137\n",
       " 4767  75.930081  60.418526  93.478303  88.343572  77.334720  54.670149\n",
       " 6072  75.705891  10.118695  41.867840  29.054719  63.539646   0.000000\n",
       " 3967  74.392676  74.546091  91.441747  77.348748  82.580512  94.389273\n",
       " 6910  95.015145  52.034139  95.015809  86.180160  74.962777  74.147839\n",
       " 9934  75.337782   0.000000  91.957780  97.549793  72.103038  69.007452\n",
       " 5746  67.658167  79.729713  99.974113  86.309427  87.323677  81.566356\n",
       " 9933  81.777991  55.004279  90.221835  70.413996  71.641821  77.390431\n",
       " 7769  93.120083  92.041786  39.512388  68.057971  68.686224  43.534132\n",
       " 5785  99.044048  74.598225  96.067271  82.951186  78.783017  87.222570\n",
       " 26    92.445769  70.452609  89.894596  86.543828  78.568588  52.466155\n",
       " 1642  73.974823  38.870779  53.264263  58.791303  96.039674  83.730246\n",
       " 6836  10.119076  66.488282  28.749349  64.790160  62.584585  85.192783\n",
       " 1953  54.512433  95.487249  83.882004  96.411077  75.847389  73.566221)"
      ]
     },
     "execution_count": 538,
     "metadata": {},
     "output_type": "execute_result"
    }
   ],
   "source": [
    "predict_train_homes(train_homes, test_homes, \"hvac\", \"Monthly\")"
   ]
  },
  {
   "cell_type": "code",
   "execution_count": 550,
   "metadata": {
    "collapsed": false
   },
   "outputs": [
    {
     "data": {
      "image/png": "[encoded data removed]",
      "text/plain": [
       "<matplotlib.figure.Figure at 0x12eddf6d0>"
      ]
     },
     "metadata": {},
     "output_type": "display_data"
    }
   ],
   "source": [
    "plt.figure(figsize=(10,6))\n",
    "sns.heatmap(pd.DataFrame(score).fillna(0))\n",
    "plt.ylabel(\"Home id\")\n",
    "plt.savefig(\"/Users/nipunbatra/git/monthly-disaggregation/results/score.png\")"
   ]
  },
  {
   "cell_type": "code",
   "execution_count": 547,
   "metadata": {
    "collapsed": false
   },
   "outputs": [
    {
     "data": {
      "text/plain": [
       "dr        0.416840\n",
       "dw        0.105785\n",
       "fridge    0.138538\n",
       "hvac      0.232823\n",
       "light     0.428111\n",
       "wm        0.058081\n",
       "dtype: float64"
      ]
     },
     "execution_count": 547,
     "metadata": {},
     "output_type": "execute_result"
    }
   ],
   "source": [
    "pd.DataFrame(score).median()"
   ]
  },
  {
   "cell_type": "code",
   "execution_count": 553,
   "metadata": {
    "collapsed": false
   },
   "outputs": [
    {
     "data": {
      "image/png": "[encoded data removed]",
      "text/plain": [
       "<matplotlib.figure.Figure at 0x12e963f50>"
      ]
     },
     "metadata": {},
     "output_type": "display_data"
    }
   ],
   "source": [
    "sns.heatmap(pd.DataFrame(score).corr())\n",
    "plt.savefig(\"/Users/nipunbatra/git/monthly-disaggregation/results/score_heatmap.png\")"
   ]
  },
  {
   "cell_type": "code",
   "execution_count": null,
   "metadata": {
    "collapsed": true
   },
   "outputs": [],
   "source": []
  }
 ],
 "metadata": {
  "kernelspec": {
   "display_name": "Python 2",
   "language": "python",
   "name": "python2"
  },
  "language_info": {
   "codemirror_mode": {
    "name": "ipython",
    "version": 2
   },
   "file_extension": ".py",
   "mimetype": "text/x-python",
   "name": "python",
   "nbconvert_exporter": "python",
   "pygments_lexer": "ipython2",
   "version": "2.7.11"
  }
 },
 "nbformat": 4,
 "nbformat_minor": 0
}
