{
 "cells": [
  {
   "cell_type": "code",
   "execution_count": 1,
   "metadata": {},
   "outputs": [
    {
     "name": "stdout",
     "output_type": "stream",
     "text": [
      "a\n",
      "b\n"
     ]
    }
   ],
   "source": [
    "import time\n",
    "\n",
    "\n",
    "\n",
    "import pandas as pd\n",
    "import pickle\n",
    "import os\n",
    "import numpy as np\n",
    "SLURM_OUT = \"../slurm_out\"\n",
    "from subprocess import Popen\n",
    "import time\n",
    "\n",
    "print \"a\"\n",
    "\n",
    "out_overall = pickle.load(open('../data/input/all_regions.pkl','r'))\n",
    "\n",
    "print \"b\"\n",
    "K = 3\n",
    "for train_region in [\"Austin\"]:\n",
    "    if train_region==\"Austin\":\n",
    "        NUM_HOMES_MAX = 100\n",
    "    elif train_region==\"SanDiego\":\n",
    "        NUM_HOMES_MAX = len(out_overall['SanDiego'])\n",
    "    else:\n",
    "        NUM_HOMES_MAX = len(out_overall['Boulder'])\n",
    "\n",
    "    for test_region in [\"SanDiego\"]:\n",
    "        if train_region!=test_region:\n",
    "            TRANSFORMATIONS = [\"None\",\"DD\",\"DD-percentage\",\"median-aggregate-percentage\",\n",
    "                              \"median-aggregate\",'regional','regional-percentage']\n",
    "        else:\n",
    "            TRANSFORMATIONS = [\"None\"]\n",
    "\n",
    "\n",
    "        train_df = out_overall[train_region]\n",
    "        test_df = out_overall[test_region]"
   ]
  },
  {
   "cell_type": "code",
   "execution_count": 5,
   "metadata": {},
   "outputs": [
    {
     "data": {
      "text/plain": [
       "54             NaN\n",
       "203       4.090350\n",
       "527            NaN\n",
       "1450     22.938984\n",
       "1524      8.857233\n",
       "1731      4.370300\n",
       "2031           NaN\n",
       "2354           NaN\n",
       "2606     16.279667\n",
       "3687      0.003167\n",
       "3864      3.473967\n",
       "3938           NaN\n",
       "4083           NaN\n",
       "4095           NaN\n",
       "4329           NaN\n",
       "4495           NaN\n",
       "4761           NaN\n",
       "4934      5.124484\n",
       "5009           NaN\n",
       "5909           NaN\n",
       "5938      0.007950\n",
       "6268           NaN\n",
       "6377           NaN\n",
       "6429           NaN\n",
       "6497           NaN\n",
       "6547      5.753867\n",
       "6689           NaN\n",
       "7062    319.491058\n",
       "7114      3.489800\n",
       "7409           NaN\n",
       "7639           NaN\n",
       "8061     25.953966\n",
       "8342      2.637983\n",
       "8574           NaN\n",
       "8733           NaN\n",
       "8886           NaN\n",
       "9213           NaN\n",
       "9370           NaN\n",
       "9585           NaN\n",
       "9612           NaN\n",
       "9775           NaN\n",
       "9836           NaN\n",
       "Name: oven_9, dtype: float64"
      ]
     },
     "execution_count": 5,
     "output_type": "execute_result",
     "metadata": {}
    }
   ],
   "source": [
    "test_df['oven_9']"
   ]
  },
  {
   "cell_type": "code",
   "execution_count": 14,
   "metadata": {},
   "outputs": [
    {
     "data": {
      "text/plain": [
       "0"
      ]
     },
     "execution_count": 14,
     "output_type": "execute_result",
     "metadata": {}
    }
   ],
   "source": [
    "appliance=\"hvac\"\n",
    "len(test_df.ix[test_home][['%s_%d' %(appliance, m) for m in range(1, 13)]].dropna())"
   ]
  },
  {
   "cell_type": "code",
   "execution_count": null,
   "metadata": {},
   "outputs": [],
   "source": [
    "test_df"
   ]
  }
 ],
 "metadata": {
  "kernelspec": {
   "display_name": "Python 2",
   "language": "python",
   "name": "python2"
  },
  "language_info": {
   "codemirror_mode": {
    "name": "ipython",
    "version": 2.0
   },
   "file_extension": ".py",
   "mimetype": "text/x-python",
   "name": "python",
   "nbconvert_exporter": "python",
   "pygments_lexer": "ipython2",
   "version": "2.7.11"
  }
 },
 "nbformat": 4,
 "nbformat_minor": 0
}