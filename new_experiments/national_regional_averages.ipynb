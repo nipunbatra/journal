{
 "cells": [
  {
   "cell_type": "code",
   "execution_count": 1,
   "metadata": {},
   "outputs": [],
   "source": [
    "import pandas as pd\n",
    "import os\n",
    "import numpy as np\n",
    "from sklearn.ensemble import RandomForestRegressor\n",
    "from sklearn.neighbors import KNeighborsRegressor\n",
    "from copy import deepcopy"
   ]
  },
  {
   "cell_type": "code",
   "execution_count": 2,
   "metadata": {},
   "outputs": [],
   "source": [
    "st = pd.HDFStore(os.path.expanduser(\"/Users/nipunbatra/wiki-all.h5\"))"
   ]
  },
  {
   "cell_type": "code",
   "execution_count": 3,
   "metadata": {},
   "outputs": [],
   "source": [
    "metadata_df = pd.read_csv(\"/Users/nipunbatra/w/dataport-metadata.csv\",index_col=0)"
   ]
  },
  {
   "cell_type": "code",
   "execution_count": 4,
   "metadata": {},
   "outputs": [],
   "source": [
    "months=3\n",
    "start='7-1-2014'\n",
    "start_month=7\n",
    "end = '9-30-2014'\n",
    "end_month=10"
   ]
  },
  {
   "cell_type": "code",
   "execution_count": 66,
   "metadata": {},
   "outputs": [],
   "source": [
    "sd_df = pd.read_csv(\"../data/input/san_diego_df.csv\", index_col=0)\n",
    "unscaled_sd_df = pd.read_csv(\"../data/input/unscaled_san_diego_df.csv\", index_col=0)\n",
    "\n",
    "bo_df = pd.read_csv(\"../data/input/boulder_df.csv\", index_col=0)\n",
    "unscaled_bo_df = pd.read_csv(\"../data/input/unscaled_boulder_df.csv\", index_col=0)"
   ]
  },
  {
   "cell_type": "code",
   "execution_count": 6,
   "metadata": {},
   "outputs": [],
   "source": [
    "import json\n",
    "sd_homes = json.load(open(\"../data/input/san_diego_homes.json\",'r'))\n",
    "bo_homes = json.load(open(\"../data/input/boulder_homes.json\",'r'))"
   ]
  },
  {
   "cell_type": "code",
   "execution_count": 22,
   "metadata": {},
   "outputs": [],
   "source": [
    "national_average = {}\n",
    "national_average[\"hvac\"] = 13\n",
    "\n",
    "regional_average = {}\n",
    "regional_average[\"sd\"] = {}\n",
    "regional_average[\"sd\"][\"hvac\"] = 18"
   ]
  },
  {
   "cell_type": "code",
   "execution_count": 46,
   "metadata": {},
   "outputs": [],
   "source": [
    "def _find_accuracy_na(home, appliance):\n",
    "    if appliance ==\"hvac\":\n",
    "        start, stop=7,10\n",
    "    else:\n",
    "        start, stop=7, 10\n",
    "\n",
    "    \n",
    "    pred_test = {}\n",
    "    gt_test = {}\n",
    "    for month in range(start, stop):\n",
    "        \n",
    "        pred_test[month] = unscaled_df.ix[home][\"aggregate_%d\" %month]*national_average[appliance]/100\n",
    "        gt_test[month] = unscaled_df.ix[home]['%s_%d' %(appliance, month)]\n",
    "\n",
    "    #print {'f':F_best, 'k':K_best,'accuracy':accur_max}\n",
    "    #json.dump({'f':F_best, 'k':K_best,'accuracy':accur_max},open(\"../main-out-new/%s_%s_%d.json\" %(appliance,feature, home),\"w\") )\n",
    "    \n",
    "    \n",
    "    pred_df = pd.Series(pred_test)\n",
    "   \n",
    "    \n",
    "    gt_df = pd.Series(gt_test)\n",
    "    error = (gt_df-pred_df).abs().div(gt_df).mul(100)\n",
    "    accuracy_test = 100-error\n",
    "    accuracy_test[accuracy_test<0]=0\n",
    "\n",
    "    return pred_df, gt_df, accuracy_test.squeeze()"
   ]
  },
  {
   "cell_type": "code",
   "execution_count": 59,
   "metadata": {},
   "outputs": [
    {
     "data": {
      "text/plain": [
       "(7    195.820800\n",
       " 8    154.969601\n",
       " 9    135.541536\n",
       " dtype: float64, 7    135.648438\n",
       " 8     70.280182\n",
       " 9     15.237200\n",
       " dtype: float64, 7    55.640947\n",
       " 8     0.000000\n",
       " 9     0.000000\n",
       " dtype: float64)"
      ]
     },
     "execution_count": 59,
     "output_type": "execute_result",
     "metadata": {}
    }
   ],
   "source": [
    "_find_accuracy_na(2523, \"hvac\")"
   ]
  },
  {
   "cell_type": "code",
   "execution_count": 75,
   "metadata": {},
   "outputs": [
    {
     "name": "stdout",
     "output_type": "stream",
     "text": [
      "232 40.7300165583\n",
      "698 31.73929822\n",
      "1879 37.0017164541\n",
      "2144 29.4964556473\n",
      "2523 18.5469823884\n",
      "2903 81.6500856334\n",
      "3734 44.8399897874\n",
      "4147 63.7167454027\n",
      "4920 51.345750228\n",
      "4974 48.953804797\n",
      "5652 53.7258422814\n",
      "5904 28.1338070607\n",
      "7001 62.4663392502\n",
      "8273 57.0659674049\n",
      "8368 41.6616812373\n",
      "8395 19.6438385654\n",
      "9156 32.7058628676\n",
      "9341 63.2406730193\n",
      "9818 56.2211810139\n"
     ]
    }
   ],
   "source": [
    "acc = {}\n",
    "SD = False\n",
    "if SD:\n",
    "    df, unscaled_df = sd_df, unscaled_sd_df\n",
    "    homes = sd_homes\n",
    "else:\n",
    "    df, unscaled_df = bo_df, unscaled_bo_df\n",
    "    homes = bo_homes\n",
    "    \n",
    "\n",
    "\n",
    "for appliance in [\"hvac\"]:\n",
    "    \n",
    "    acc[appliance] = {}\n",
    "    feature=\"Monthly\"\n",
    "    for home in homes[appliance][:]:\n",
    "        try:\n",
    "            pred, gt, out_df = _find_accuracy_na(home, appliance)\n",
    "            \n",
    "            acc[appliance][home]=out_df\n",
    "            print home, acc[appliance][home].mean()\n",
    "        except Exception, e:\n",
    "            print e"
   ]
  },
  {
   "cell_type": "code",
   "execution_count": 76,
   "metadata": {},
   "outputs": [
    {
     "data": {
      "text/plain": [
       "7    50.023981\n",
       "8    54.581756\n",
       "9    31.639427\n",
       "dtype: float64"
      ]
     },
     "execution_count": 76,
     "output_type": "execute_result",
     "metadata": {}
    }
   ],
   "source": [
    "pd.DataFrame(acc['hvac']).T.mean()"
   ]
  },
  {
   "cell_type": "code",
   "execution_count": 12,
   "metadata": {},
   "outputs": [
    {
     "name": "stdout",
     "output_type": "stream",
     "text": [
      "fridge\n",
      "698 96.5397271845\n",
      "1350 67.8035880339\n",
      "1879 58.7388484772\n",
      "2144 97.0705590542\n",
      "2523 90.3224642219\n",
      "2903 55.129893089\n",
      "3104 75.5938205903\n",
      "3353 41.6497319685\n",
      "3734 70.7178716102\n",
      "4601 86.5695956932\n",
      "4703 60.0667680629\n",
      "4830 83.6099476131\n",
      "4920 63.6088584776\n",
      "4974 63.3826177532\n",
      "5652 84.7860542967\n",
      "5904 60.0681232139\n",
      "6148 57.9375172364\n",
      "6264 27.893513418\n",
      "6888 89.4637942679\n",
      "6956 58.2080819012\n",
      "7818 44.3389132385\n",
      "8273 55.8005155956\n",
      "8368 64.5161186165\n",
      "8622 83.3254787276\n",
      "8729 36.7405109653\n",
      "8862 77.1903734155\n",
      "9085 78.7771532917\n",
      "9341 94.0508955593\n",
      "9818 91.7869015655\n",
      "hvac\n",
      "232 91.8903077922\n",
      "698 0.0\n",
      "1879 23.9480543358\n",
      "2144 67.6237720249\n",
      "2523 0.0\n",
      "2903 0.0\n",
      "3734 56.225860573\n",
      "4147 63.6444349687\n",
      "4920 0.0\n",
      "4974 87.5829012459\n",
      "5652 0.0\n",
      "5904 90.821901653\n",
      "7001 52.6623072259\n",
      "8273 4.02898525246\n",
      "8368 81.7060763746\n",
      "8395 50.1667861585\n",
      "9156 60.7619690893\n",
      "9341 91.9657155\n",
      "9818 94.5015282017\n"
     ]
    }
   ],
   "source": [
    "#for appliance in [\"hvac\",\"fridge\",\"dw\",\"mw\"]:\n",
    "for appliance in [\"fridge\",\"hvac\"]:\n",
    "    if appliance in acc:\n",
    "        continue\n",
    "    else:\n",
    "        print appliance\n",
    "        acc[appliance] = {}\n",
    "        feature=\"Monthly\"\n",
    "        for home in bo_homes[appliance][:]:\n",
    "            try:\n",
    "                pred, gt, out_df = _find_accuracy(home, appliance, feature)\n",
    "                acc[appliance][home]=out_df\n",
    "                print home, acc[appliance][home].mean()\n",
    "            except Exeption, e:\n",
    "                print e"
   ]
  },
  {
   "cell_type": "code",
   "execution_count": 42,
   "metadata": {},
   "outputs": [
    {
     "data": {
      "text/plain": [
       "46.353887346772474"
      ]
     },
     "execution_count": 42,
     "output_type": "execute_result",
     "metadata": {}
    }
   ],
   "source": [
    "pd.Series(acc['hvac']).mean()"
   ]
  },
  {
   "cell_type": "code",
   "execution_count": 43,
   "metadata": {},
   "outputs": [],
   "source": [
    "mean_across_months = {}\n",
    "for appliance in acc.keys():\n",
    "    if appliance ==\"hvac\":\n",
    "        mean_across_months[appliance] = pd.Series(acc[appliance])\n",
    "    else:\n",
    "        mean_across_months[appliance] = pd.DataFrame(acc[appliance])\n",
    "    \n",
    "\n",
    "\n",
    "mean_across_months['fridge'].loc[10, 2144] = np.NaN\n",
    "mean_across_months['fridge'].loc[7, 7818] = np.NaN#mean_across_months['hvac'].loc[9, 3938] = np.NaN\n",
    "\n",
    "for appliance in mean_across_months.keys():\n",
    "    if appliance!=\"hvac\":\n",
    "        mean_across_months[appliance] = mean_across_months[appliance].mean()"
   ]
  },
  {
   "cell_type": "code",
   "execution_count": 44,
   "metadata": {},
   "outputs": [
    {
     "data": {
      "text/plain": [
       "68.50575613455632"
      ]
     },
     "execution_count": 44,
     "output_type": "execute_result",
     "metadata": {}
    }
   ],
   "source": [
    "pd.DataFrame(acc['fridge']).mean().mean()"
   ]
  },
  {
   "cell_type": "code",
   "execution_count": 45,
   "metadata": {},
   "outputs": [
    {
     "data": {
      "text/plain": [
       "fridge    69.474575\n",
       "hvac      46.353887\n",
       "dtype: float64"
      ]
     },
     "execution_count": 45,
     "output_type": "execute_result",
     "metadata": {}
    }
   ],
   "source": [
    "pd.DataFrame(mean_across_months).mean()"
   ]
  },
  {
   "cell_type": "code",
   "execution_count": null,
   "metadata": {},
   "outputs": [],
   "source": [
    ""
   ]
  }
 ],
 "metadata": {
  "kernelspec": {
   "display_name": "Python 2",
   "language": "python",
   "name": "python2"
  },
  "language_info": {
   "codemirror_mode": {
    "name": "ipython",
    "version": 2.0
   },
   "file_extension": ".py",
   "mimetype": "text/x-python",
   "name": "python",
   "nbconvert_exporter": "python",
   "pygments_lexer": "ipython2",
   "version": "2.7.11"
  }
 },
 "nbformat": 4,
 "nbformat_minor": 0
}