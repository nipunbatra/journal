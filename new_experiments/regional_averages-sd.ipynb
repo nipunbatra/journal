{
 "cells": [
  {
   "cell_type": "code",
   "execution_count": 5,
   "metadata": {
    "collapsed": true
   },
   "outputs": [],
   "source": [
    "train_region = \"Austin\"\n",
    "test_region = \"SanDiego\"\n",
    "appliance = \"hvac\""
   ]
  },
  {
   "cell_type": "code",
   "execution_count": 6,
   "metadata": {
    "collapsed": true
   },
   "outputs": [],
   "source": [
    "regional_percentages = {\"hvac\":0.18}"
   ]
  },
  {
   "cell_type": "code",
   "execution_count": 7,
   "metadata": {
    "collapsed": true
   },
   "outputs": [],
   "source": [
    "import sys"
   ]
  },
  {
   "cell_type": "code",
   "execution_count": 8,
   "metadata": {
    "collapsed": true
   },
   "outputs": [],
   "source": [
    "from train_test import *\n"
   ]
  },
  {
   "cell_type": "code",
   "execution_count": 9,
   "metadata": {
    "collapsed": false
   },
   "outputs": [],
   "source": [
    "test_all_homes = home_regions[test_region]\n",
    "test_dataset_df = df_regions[test_region]\n",
    "unscaled_test_dataset_df = unscaled_df_regions[test_region]\n"
   ]
  },
  {
   "cell_type": "code",
   "execution_count": 10,
   "metadata": {
    "collapsed": false
   },
   "outputs": [],
   "source": [
    "pred = unscaled_test_dataset_df[['aggregate_'+str(month) for month in range(start_month, end_month)]]*regional_percentages['hvac']\n",
    "pred.columns = [appliance+\"_\"+str(month) for month in range(start_month, end_month)]\n",
    "gt =  unscaled_test_dataset_df[[appliance+\"_\"+str(month) for month in range(start_month, end_month)]]\n",
    "error = (gt-pred).abs().div(gt).mul(100)\n",
    "error[error>100] = 0"
   ]
  },
  {
   "cell_type": "code",
   "execution_count": 11,
   "metadata": {
    "collapsed": false
   },
   "outputs": [
    {
     "data": {
      "text/plain": [
       "hvac_7    60.195457\n",
       "hvac_8    62.073724\n",
       "hvac_9    52.327782\n",
       "dtype: float64"
      ]
     },
     "execution_count": 11,
     "metadata": {},
     "output_type": "execute_result"
    }
   ],
   "source": [
    "(100-error).mean()"
   ]
  },
  {
   "cell_type": "code",
   "execution_count": null,
   "metadata": {
    "collapsed": true
   },
   "outputs": [],
   "source": []
  }
 ],
 "metadata": {
  "kernelspec": {
   "display_name": "Python 2",
   "language": "python",
   "name": "python2"
  },
  "language_info": {
   "codemirror_mode": {
    "name": "ipython",
    "version": 2
   },
   "file_extension": ".py",
   "mimetype": "text/x-python",
   "name": "python",
   "nbconvert_exporter": "python",
   "pygments_lexer": "ipython2",
   "version": "2.7.11"
  }
 },
 "nbformat": 4,
 "nbformat_minor": 0
}
