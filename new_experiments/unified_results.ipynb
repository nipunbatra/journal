{
 "cells": [
  {
   "cell_type": "code",
   "execution_count": 1,
   "metadata": {
    "collapsed": true
   },
   "outputs": [],
   "source": [
    "import matplotlib.pyplot as plt\n",
    "import pandas as pd"
   ]
  },
  {
   "cell_type": "code",
   "execution_count": 2,
   "metadata": {
    "collapsed": true
   },
   "outputs": [],
   "source": [
    "%matplotlib inline"
   ]
  },
  {
   "cell_type": "code",
   "execution_count": 3,
   "metadata": {
    "collapsed": true
   },
   "outputs": [],
   "source": [
    "ours_mean = [ 53.74393585,  53.27359475,  55.18633357,  57.77113084,\n",
    "        60.70333368,  62.24868626,  62.39629973,  61.52940863]"
   ]
  },
  {
   "cell_type": "code",
   "execution_count": 4,
   "metadata": {
    "collapsed": true
   },
   "outputs": [],
   "source": [
    "ours_sem = [ 1.37320365,  2.06510825,  1.76972538,  1.32050049,  1.00181   ,\n",
    "        0.6755174 ,  0.38903951,  0.52500441]"
   ]
  },
  {
   "cell_type": "code",
   "execution_count": 5,
   "metadata": {
    "collapsed": true
   },
   "outputs": [],
   "source": [
    "ours_x = range(4, 20, 2)"
   ]
  },
  {
   "cell_type": "code",
   "execution_count": 14,
   "metadata": {
    "collapsed": true
   },
   "outputs": [],
   "source": [
    "#Insert Ubicomp results\n",
    "ours_x.insert(0, 0)\n",
    "ours_mean.insert(0, 67)\n",
    "ours_sem.insert(0, 0)"
   ]
  },
  {
   "cell_type": "code",
   "execution_count": 15,
   "metadata": {
    "collapsed": true
   },
   "outputs": [],
   "source": [
    "#NILM results (obtained from fhmm_austin_all_features.ipynb)\n",
    "nilm_mean = [63 for x in ours_x]"
   ]
  },
  {
   "cell_type": "code",
   "execution_count": 16,
   "metadata": {
    "collapsed": true
   },
   "outputs": [],
   "source": [
    "# Regional average\n",
    "regional_mean = [61 for x in ours_x]"
   ]
  },
  {
   "cell_type": "code",
   "execution_count": 32,
   "metadata": {
    "collapsed": false
   },
   "outputs": [
    {
     "data": {
      "image/png": "[encoded data removed]"
     },
     "metadata": {},
     "output_type": "display_data"
    }
   ],
   "source": [
    "plt.errorbar(ours_x, ours_mean, yerr=ours_sem, label=\"Ours (\\n#Homes=0- Ubicomp\\n #Homes>0- KDD)\")\n",
    "plt.plot(ours_x, nilm_mean, label=\"NILM\")\n",
    "plt.plot(ours_x, regional_mean, label=\"Regional average\")\n",
    "plt.ylabel(\"Mean Accuracy\")\n",
    "plt.xlabel(\"#Homes in test region\")\n",
    "plt.xlim((-1, 19))\n",
    "plt.legend(loc=0)\n",
    "plt.savefig(\"/Users/nipunbatra/Desktop/unified_hvac_try_0.png\")"
   ]
  },
  {
   "cell_type": "code",
   "execution_count": null,
   "metadata": {
    "collapsed": true
   },
   "outputs": [],
   "source": []
  }
 ],
 "metadata": {
  "kernelspec": {
   "display_name": "Python 2",
   "language": "python",
   "name": "python2"
  },
  "language_info": {
   "codemirror_mode": {
    "name": "ipython",
    "version": 2
   },
   "file_extension": ".py",
   "mimetype": "text/x-python",
   "name": "python",
   "nbconvert_exporter": "python",
   "pygments_lexer": "ipython2",
   "version": "2.7.11"
  }
 },
 "nbformat": 4,
 "nbformat_minor": 0
}
